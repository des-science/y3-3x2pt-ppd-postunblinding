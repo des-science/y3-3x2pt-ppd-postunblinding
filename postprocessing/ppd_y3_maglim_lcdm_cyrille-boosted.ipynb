{
 "cells": [
  {
   "cell_type": "code",
   "execution_count": 1,
   "metadata": {},
   "outputs": [],
   "source": [
    "%load_ext autoreload\n",
    "%autoreload 2"
   ]
  },
  {
   "cell_type": "markdown",
   "metadata": {},
   "source": [
    "This follows the setup of ppd_y1_data.ipynb, but there are some different configurations.  This particular notebook has locations set to the Ohio Supercomputer (and some things like the sys.path.append call below are unnecessary if you are in the `ppd/postprocessing directory`)."
   ]
  },
  {
   "cell_type": "code",
   "execution_count": 2,
   "metadata": {},
   "outputs": [],
   "source": [
    "import sys\n",
    "#sys.path.append(\"/users/PCON0003/cond0080/src/y3-3x2pt-ppd/postprocessing\")\n",
    "import utils_6x2 as util\n",
    "import utils_ppd as ppd\n",
    "import utils_ppd_plots as ppd_plots\n",
    "import utils_ppd_calib as calib\n",
    "from astropy.io import fits\n",
    "\n",
    "from tqdm.auto import tqdm, trange\n",
    "\n",
    "import castor as ca\n",
    "import pickle"
   ]
  },
  {
   "cell_type": "code",
   "execution_count": 3,
   "metadata": {},
   "outputs": [],
   "source": [
    "path_ppd = '../'\n",
    "# path_chain = '../../trimmed_chains/'\n",
    "path_chain = '../../trimmed_chains_test/'\n",
    "# path_chain = '/project/projectdirs/des/www/y3_chains/3x2pt/final_paper_chains/'\n",
    "path_dv = '../../../data/des-y3/'\n",
    "\n",
    "DATAFILE = '2pt_NG_final_2ptunblind_02_26_21_wnz_maglim_covupdate.fits'\n",
    "\n",
    "fiducial_dv = '2pt_NG_final_2ptunblind_02_26_21_wnz_maglim_covupdate.fits'"
   ]
  },
  {
   "cell_type": "code",
   "execution_count": 4,
   "metadata": {},
   "outputs": [],
   "source": [
    "main_subsets = ['full', '1x2', '2x2', 'xip', 'xim', 'gammat', 'wtheta']"
   ]
  },
  {
   "cell_type": "markdown",
   "metadata": {},
   "source": [
    "# 3x2 goodness of fit"
   ]
  },
  {
   "cell_type": "code",
   "execution_count": 5,
   "metadata": {},
   "outputs": [],
   "source": [
    "a = np.loadtxt('../../trimmed_chains/chain_3x2pt_lcdm_SR_maglim_boosted.txt')\n",
    "\n",
    "with open('../../trimmed_chains/chain_3x2pt_lcdm_SR_maglim_boosted.txt', 'r') as f:\n",
    "    header = f.readline()\n",
    "    \n",
    "np.savetxt('../../trimmed_chains_test/chain_3x2pt_lcdm_SR_maglim_boosted.txt', a[:222000], header=header[2:-1])"
   ]
  },
  {
   "cell_type": "code",
   "execution_count": 6,
   "metadata": {},
   "outputs": [
    {
     "name": "stdout",
     "output_type": "stream",
     "text": [
      "# cosmological_parameters--omega_m cosmological_parameters--h0 cosmological_parameters--omega_b cosmological_parameters--n_s cosmological_parameters--a_s cosmological_parameters--omnuh2 shear_calibration_parameters--m1 shear_calibration_parameters--m2 shear_calibration_parameters--m3 shear_calibration_parameters--m4 wl_photoz_errors--bias_1 wl_photoz_errors--bias_2 wl_photoz_errors--bias_3 wl_photoz_errors--bias_4 lens_photoz_errors--bias_1 lens_photoz_errors--bias_2 lens_photoz_errors--bias_3 lens_photoz_errors--bias_4 lens_photoz_errors--width_1 lens_photoz_errors--width_2 lens_photoz_errors--width_3 lens_photoz_errors--width_4 bias_lens--b1 bias_lens--b2 bias_lens--b3 bias_lens--b4 intrinsic_alignment_parameters--a1 intrinsic_alignment_parameters--a2 intrinsic_alignment_parameters--alpha1 intrinsic_alignment_parameters--alpha2 intrinsic_alignment_parameters--bias_ta weight\n",
      "\n"
     ]
    }
   ],
   "source": [
    "with open('../../trimmed_chains_test/chain_3x2pt_lcdm_SR_maglim_boosted.txt', 'r') as f:\n",
    "    print(f.readline())#[1:].split())"
   ]
  },
  {
   "cell_type": "code",
   "execution_count": 7,
   "metadata": {
    "tags": []
   },
   "outputs": [
    {
     "name": "stdout",
     "output_type": "stream",
     "text": [
      "\n",
      "###############################\n",
      "## Loading chains #############\n",
      "###############################\n"
     ]
    },
    {
     "data": {
      "application/vnd.jupyter.widget-view+json": {
       "model_id": "67cc103a58784491be2a189e70ccc236",
       "version_major": 2,
       "version_minor": 0
      },
      "text/plain": [
       "HBox(children=(FloatProgress(value=0.0, max=222.0), HTML(value='')))"
      ]
     },
     "metadata": {},
     "output_type": "display_data"
    },
    {
     "name": "stdout",
     "output_type": "stream",
     "text": [
      "Loading list chain at\n",
      "../maglim_3x2_goodnessoffit/ppd_chain_3x2pt_lcdm_SR_maglim_boosted_maglim_3x2_goodnessoffit_0.txt\n",
      "- using params\n",
      "['cosmological_parameters--omega_m', 'cosmological_parameters--h0', 'cosmological_parameters--omega_b', 'cosmological_parameters--n_s', 'cosmological_parameters--a_s', 'cosmological_parameters--omnuh2', 'cosmological_parameters--w', 'cosmological_parameters--massive_nu', 'cosmological_parameters--massless_nu', 'cosmological_parameters--omega_k', 'cosmological_parameters--tau', 'shear_calibration_parameters--m1', 'shear_calibration_parameters--m2', 'shear_calibration_parameters--m3', 'shear_calibration_parameters--m4', 'wl_photoz_errors--bias_1', 'wl_photoz_errors--bias_2', 'wl_photoz_errors--bias_3', 'wl_photoz_errors--bias_4', 'lens_photoz_errors--bias_1', 'lens_photoz_errors--bias_2', 'lens_photoz_errors--bias_3', 'lens_photoz_errors--bias_4', 'lens_photoz_errors--bias_5', 'lens_photoz_errors--width_1', 'lens_photoz_errors--width_2', 'lens_photoz_errors--width_3', 'lens_photoz_errors--width_4', 'lens_photoz_errors--width_5', 'lens_photoz_errors--bias_6', 'lens_photoz_errors--width_6', 'bias_lens--b1', 'bias_lens--b2', 'bias_lens--b3', 'bias_lens--b4', 'bias_lens--b5', 'bias_lens--b6', 'mag_alpha_lens--alpha_1', 'mag_alpha_lens--alpha_2', 'mag_alpha_lens--alpha_3', 'mag_alpha_lens--alpha_4', 'mag_alpha_lens--alpha_5', 'mag_alpha_lens--alpha_6', 'intrinsic_alignment_parameters--z_piv', 'intrinsic_alignment_parameters--a1', 'intrinsic_alignment_parameters--a2', 'intrinsic_alignment_parameters--alpha1', 'intrinsic_alignment_parameters--alpha2', 'intrinsic_alignment_parameters--bias_ta', 'COSMOLOGICAL_PARAMETERS--SIGMA_8', 'COSMOLOGICAL_PARAMETERS--SIGMA_12', 'DATA_VECTOR--2PT_CHI2', 'DATA_VECTOR--2PT_D_CHI2', 'DATA_VECTOR--2PT_DPRIME_CHI2', 'DATA_VECTOR--2PT_XIP_CHI2', 'DATA_VECTOR--2PT_XIM_CHI2', 'DATA_VECTOR--2PT_1X2_CHI2', 'DATA_VECTOR--2PT_GAMMAT_CHI2', 'DATA_VECTOR--2PT_WTHETA_CHI2', 'DATA_VECTOR--2PT_2X2_CHI2', 'PPD--CHI2_DPRIME_DATA', 'PPD--CHI2_DPRIME_REALIZATION', 'PPD--CHI2_D_DATA', 'PPD--CHI2_XIP_DATA', 'PPD--CHI2_XIP_REALIZATION', 'PPD--CHI2_XIM_DATA', 'PPD--CHI2_XIM_REALIZATION', 'PPD--CHI2_1X2_DATA', 'PPD--CHI2_1X2_REALIZATION', 'PPD--CHI2_GAMMAT_DATA', 'PPD--CHI2_GAMMAT_REALIZATION', 'PPD--CHI2_WTHETA_DATA', 'PPD--CHI2_WTHETA_REALIZATION', 'PPD--CHI2_2X2_DATA', 'PPD--CHI2_2X2_REALIZATION', 'PPD--CHI2_DPRIME_COMP_AVG', 'PPD--CHI2_XIP_COMP_AVG', 'PPD--CHI2_XIM_COMP_AVG', 'PPD--CHI2_1X2_COMP_AVG', 'PPD--CHI2_GAMMAT_COMP_AVG', 'PPD--CHI2_WTHETA_COMP_AVG', 'PPD--CHI2_2X2_COMP_AVG', 'prior', 'post']\n",
      "- using nsample =  1000\n",
      "\n",
      "Loading chain at\n",
      "../../trimmed_chains_test/chain_3x2pt_lcdm_SR_maglim_boosted.txt\n",
      "Sampler not found -- non-standard cosmosis output\n",
      "- using params\n",
      "['cosmological_parameters--omega_m', 'cosmological_parameters--h0', 'cosmological_parameters--omega_b', 'cosmological_parameters--n_s', 'cosmological_parameters--a_s', 'cosmological_parameters--omnuh2', 'shear_calibration_parameters--m1', 'shear_calibration_parameters--m2', 'shear_calibration_parameters--m3', 'shear_calibration_parameters--m4', 'wl_photoz_errors--bias_1', 'wl_photoz_errors--bias_2', 'wl_photoz_errors--bias_3', 'wl_photoz_errors--bias_4', 'lens_photoz_errors--bias_1', 'lens_photoz_errors--bias_2', 'lens_photoz_errors--bias_3', 'lens_photoz_errors--bias_4', 'lens_photoz_errors--width_1', 'lens_photoz_errors--width_2', 'lens_photoz_errors--width_3', 'lens_photoz_errors--width_4', 'bias_lens--b1', 'bias_lens--b2', 'bias_lens--b3', 'bias_lens--b4', 'intrinsic_alignment_parameters--a1', 'intrinsic_alignment_parameters--a2', 'intrinsic_alignment_parameters--alpha1', 'intrinsic_alignment_parameters--alpha2', 'intrinsic_alignment_parameters--bias_ta', 'weight']\n",
      "- using nsample =  222000\n",
      "Using 222 chunks of size [1000, 1000, 1000, 1000, 1000, 1000, 1000, 1000, 1000, 1000, 1000, 1000, 1000, 1000, 1000, 1000, 1000, 1000, 1000, 1000, 1000, 1000, 1000, 1000, 1000, 1000, 1000, 1000, 1000, 1000, 1000, 1000, 1000, 1000, 1000, 1000, 1000, 1000, 1000, 1000, 1000, 1000, 1000, 1000, 1000, 1000, 1000, 1000, 1000, 1000, 1000, 1000, 1000, 1000, 1000, 1000, 1000, 1000, 1000, 1000, 1000, 1000, 1000, 1000, 1000, 1000, 1000, 1000, 1000, 1000, 1000, 1000, 1000, 1000, 1000, 1000, 1000, 1000, 1000, 1000, 1000, 1000, 1000, 1000, 1000, 1000, 1000, 1000, 1000, 1000, 1000, 1000, 1000, 1000, 1000, 1000, 1000, 1000, 1000, 1000, 1000, 1000, 1000, 1000, 1000, 1000, 1000, 1000, 1000, 1000, 1000, 1000, 1000, 1000, 1000, 1000, 1000, 1000, 1000, 1000, 1000, 1000, 1000, 1000, 1000, 1000, 1000, 1000, 1000, 1000, 1000, 1000, 1000, 1000, 1000, 1000, 1000, 1000, 1000, 1000, 1000, 1000, 1000, 1000, 1000, 1000, 1000, 1000, 1000, 1000, 1000, 1000, 1000, 1000, 1000, 1000, 1000, 1000, 1000, 1000, 1000, 1000, 1000, 1000, 1000, 1000, 1000, 1000, 1000, 1000, 1000, 1000, 1000, 1000, 1000, 1000, 1000, 1000, 1000, 1000, 1000, 1000, 1000, 1000, 1000, 1000, 1000, 1000, 1000, 1000, 1000, 1000, 1000, 1000, 1000, 1000, 1000, 1000, 1000, 1000, 1000, 1000, 1000, 1000, 1000, 1000, 1000, 1000, 1000, 1000, 1000, 1000, 1000, 1000, 1000, 1000, 1000, 1000, 1000, 1000, 1000, 1000] (1000) for a total of 222000 posterior samples\n",
      "\n",
      "###############################\n",
      "## Getting p-values ###########\n",
      "###############################\n",
      "     - Full     pval=0.0122 +0.0004/-0.0004  [16=0.0118, 50=0.0122, 84=0.0127] (0.011799273306169387)\n",
      "     - XIP      pval=0.2171 +0.0016/-0.0015  [16=0.2156, 50=0.2171, 84=0.2187] (0.2170783250115672)\n",
      "     - XIM      pval=0.3440 +0.0017/-0.0017  [16=0.3423, 50=0.3440, 84=0.3458] (0.3464764733277622)\n",
      "     - 1X2      pval=0.1856 +0.0015/-0.0015  [16=0.1842, 50=0.1856, 84=0.1872] (0.18582357196909402)\n",
      "     - GAMMAT   pval=0.0036 +0.0002/-0.0002  [16=0.0033, 50=0.0036, 84=0.0038] (0.0033519408820354337)\n",
      "     - WTHETA   pval=0.3050 +0.0017/-0.0015  [16=0.3035, 50=0.3050, 84=0.3067] (0.30345720580321145)\n",
      "     - 2X2      pval=0.0040 +0.0002/-0.0002  [16=0.0038, 50=0.0040, 84=0.0042] (0.0037573072899921437)\n",
      "\n",
      "###############################\n",
      "## Loading scale/bin cuts #####\n",
      "###############################\n",
      "Found observables in data_file ['xip', 'xim', 'gammat', 'wtheta']\n",
      "Reading options for likelihood module:  2pt_dprime_like\n",
      "Found scale cuts for  {'xip': [(1, 1), (1, 2), (1, 3), (1, 4), (2, 2), (2, 3), (2, 4), (3, 3), (3, 4), (4, 4)], 'xim': [(1, 1), (1, 2), (1, 3), (1, 4), (2, 2), (2, 3), (2, 4), (3, 3), (3, 4), (4, 4)], 'gammat': [(1, 1), (1, 2), (1, 3), (1, 4), (2, 1), (2, 2), (2, 3), (2, 4), (3, 1), (3, 2), (3, 3), (3, 4), (4, 1), (4, 2), (4, 3), (4, 4), (5, 1), (5, 2), (5, 3), (5, 4), (6, 1), (6, 2), (6, 3), (6, 4)], 'wtheta': [(1, 1), (1, 2), (1, 3), (1, 4), (1, 5), (1, 6), (2, 2), (2, 3), (2, 4), (2, 5), (2, 6), (3, 3), (3, 4), (3, 5), (3, 6), (4, 4), (4, 5), (4, 6), (5, 5), (5, 6), (6, 6)]}\n",
      "Getting indices for xip\n",
      "Getting indices for xim\n",
      "Getting indices for gammat\n",
      "Getting indices for wtheta\n"
     ]
    }
   ],
   "source": [
    "RUN_NAME = '3x2pt_lcdm_SR_maglim_boosted'\n",
    "RUN_NAME_PPD = 'maglim_3x2_goodnessoffit'\n",
    "\n",
    "res = ppd.load_run(\n",
    "    path_ppd=path_ppd,\n",
    "    path_chain=path_chain,\n",
    "    path_dv=path_dv,\n",
    "    RUN_NAME=RUN_NAME,\n",
    "    RUN_NAME_PPD=RUN_NAME_PPD,\n",
    "    DATAFILE=DATAFILE,\n",
    "    chunks=222,\n",
    "    size_chunk=1000,\n",
    "    data_sets=['xip', 'xim', 'gammat', 'wtheta'],\n",
    "    load_dvs=False,\n",
    "\n",
    ")"
   ]
  },
  {
   "cell_type": "code",
   "execution_count": 8,
   "metadata": {
    "tags": []
   },
   "outputs": [
    {
     "name": "stdout",
     "output_type": "stream",
     "text": [
      "\n",
      "###############################\n",
      "## Loading chains #############\n",
      "###############################\n"
     ]
    },
    {
     "data": {
      "application/vnd.jupyter.widget-view+json": {
       "model_id": "4179244814904686b36137031a0134f3",
       "version_major": 2,
       "version_minor": 0
      },
      "text/plain": [
       "HBox(children=(FloatProgress(value=0.0, max=222.0), HTML(value='')))"
      ]
     },
     "metadata": {},
     "output_type": "display_data"
    },
    {
     "name": "stdout",
     "output_type": "stream",
     "text": [
      "Loading list chain at\n",
      "../maglim_3x2_goodnessoffit/ppd_chain_3x2pt_lcdm_SR_maglim_boosted_maglim_3x2_goodnessoffit_0.txt\n",
      "- using params\n",
      "['cosmological_parameters--omega_m', 'cosmological_parameters--h0', 'cosmological_parameters--omega_b', 'cosmological_parameters--n_s', 'cosmological_parameters--a_s', 'cosmological_parameters--omnuh2', 'cosmological_parameters--w', 'cosmological_parameters--massive_nu', 'cosmological_parameters--massless_nu', 'cosmological_parameters--omega_k', 'cosmological_parameters--tau', 'shear_calibration_parameters--m1', 'shear_calibration_parameters--m2', 'shear_calibration_parameters--m3', 'shear_calibration_parameters--m4', 'wl_photoz_errors--bias_1', 'wl_photoz_errors--bias_2', 'wl_photoz_errors--bias_3', 'wl_photoz_errors--bias_4', 'lens_photoz_errors--bias_1', 'lens_photoz_errors--bias_2', 'lens_photoz_errors--bias_3', 'lens_photoz_errors--bias_4', 'lens_photoz_errors--bias_5', 'lens_photoz_errors--width_1', 'lens_photoz_errors--width_2', 'lens_photoz_errors--width_3', 'lens_photoz_errors--width_4', 'lens_photoz_errors--width_5', 'lens_photoz_errors--bias_6', 'lens_photoz_errors--width_6', 'bias_lens--b1', 'bias_lens--b2', 'bias_lens--b3', 'bias_lens--b4', 'bias_lens--b5', 'bias_lens--b6', 'mag_alpha_lens--alpha_1', 'mag_alpha_lens--alpha_2', 'mag_alpha_lens--alpha_3', 'mag_alpha_lens--alpha_4', 'mag_alpha_lens--alpha_5', 'mag_alpha_lens--alpha_6', 'intrinsic_alignment_parameters--z_piv', 'intrinsic_alignment_parameters--a1', 'intrinsic_alignment_parameters--a2', 'intrinsic_alignment_parameters--alpha1', 'intrinsic_alignment_parameters--alpha2', 'intrinsic_alignment_parameters--bias_ta', 'COSMOLOGICAL_PARAMETERS--SIGMA_8', 'COSMOLOGICAL_PARAMETERS--SIGMA_12', 'DATA_VECTOR--2PT_CHI2', 'DATA_VECTOR--2PT_D_CHI2', 'DATA_VECTOR--2PT_DPRIME_CHI2', 'DATA_VECTOR--2PT_XIP_CHI2', 'DATA_VECTOR--2PT_XIM_CHI2', 'DATA_VECTOR--2PT_1X2_CHI2', 'DATA_VECTOR--2PT_GAMMAT_CHI2', 'DATA_VECTOR--2PT_WTHETA_CHI2', 'DATA_VECTOR--2PT_2X2_CHI2', 'PPD--CHI2_DPRIME_DATA', 'PPD--CHI2_DPRIME_REALIZATION', 'PPD--CHI2_D_DATA', 'PPD--CHI2_XIP_DATA', 'PPD--CHI2_XIP_REALIZATION', 'PPD--CHI2_XIM_DATA', 'PPD--CHI2_XIM_REALIZATION', 'PPD--CHI2_1X2_DATA', 'PPD--CHI2_1X2_REALIZATION', 'PPD--CHI2_GAMMAT_DATA', 'PPD--CHI2_GAMMAT_REALIZATION', 'PPD--CHI2_WTHETA_DATA', 'PPD--CHI2_WTHETA_REALIZATION', 'PPD--CHI2_2X2_DATA', 'PPD--CHI2_2X2_REALIZATION', 'PPD--CHI2_DPRIME_COMP_AVG', 'PPD--CHI2_XIP_COMP_AVG', 'PPD--CHI2_XIM_COMP_AVG', 'PPD--CHI2_1X2_COMP_AVG', 'PPD--CHI2_GAMMAT_COMP_AVG', 'PPD--CHI2_WTHETA_COMP_AVG', 'PPD--CHI2_2X2_COMP_AVG', 'prior', 'post']\n",
      "- using nsample =  1000\n",
      "\n",
      "Loading chain at\n",
      "../../trimmed_chains_test/chain_3x2pt_lcdm_SR_maglim_boosted.txt\n",
      "Sampler not found -- non-standard cosmosis output\n",
      "Using 222 chunks of size [1000, 1000, 1000, 1000, 1000, 1000, 1000, 1000, 1000, 1000, 1000, 1000, 1000, 1000, 1000, 1000, 1000, 1000, 1000, 1000, 1000, 1000, 1000, 1000, 1000, 1000, 1000, 1000, 1000, 1000, 1000, 1000, 1000, 1000, 1000, 1000, 1000, 1000, 1000, 1000, 1000, 1000, 1000, 1000, 1000, 1000, 1000, 1000, 1000, 1000, 1000, 1000, 1000, 1000, 1000, 1000, 1000, 1000, 1000, 1000, 1000, 1000, 1000, 1000, 1000, 1000, 1000, 1000, 1000, 1000, 1000, 1000, 1000, 1000, 1000, 1000, 1000, 1000, 1000, 1000, 1000, 1000, 1000, 1000, 1000, 1000, 1000, 1000, 1000, 1000, 1000, 1000, 1000, 1000, 1000, 1000, 1000, 1000, 1000, 1000, 1000, 1000, 1000, 1000, 1000, 1000, 1000, 1000, 1000, 1000, 1000, 1000, 1000, 1000, 1000, 1000, 1000, 1000, 1000, 1000, 1000, 1000, 1000, 1000, 1000, 1000, 1000, 1000, 1000, 1000, 1000, 1000, 1000, 1000, 1000, 1000, 1000, 1000, 1000, 1000, 1000, 1000, 1000, 1000, 1000, 1000, 1000, 1000, 1000, 1000, 1000, 1000, 1000, 1000, 1000, 1000, 1000, 1000, 1000, 1000, 1000, 1000, 1000, 1000, 1000, 1000, 1000, 1000, 1000, 1000, 1000, 1000, 1000, 1000, 1000, 1000, 1000, 1000, 1000, 1000, 1000, 1000, 1000, 1000, 1000, 1000, 1000, 1000, 1000, 1000, 1000, 1000, 1000, 1000, 1000, 1000, 1000, 1000, 1000, 1000, 1000, 1000, 1000, 1000, 1000, 1000, 1000, 1000, 1000, 1000, 1000, 1000, 1000, 1000, 1000, 1000, 1000, 1000, 1000, 1000, 1000, 1000] (1000) for a total of 222000 posterior samples\n",
      "\n",
      "###############################\n",
      "## Loading scale/bin cuts #####\n",
      "###############################\n",
      "Found observables in data_file ['xip', 'xim', 'gammat', 'wtheta']\n",
      "Reading options for likelihood module:  2pt_d_like\n",
      "Found scale cuts for  {'xip': [(1, 1), (1, 2), (1, 3), (1, 4), (2, 2), (2, 3), (2, 4), (3, 3), (3, 4), (4, 4)], 'xim': [(1, 1), (1, 2), (1, 3), (1, 4), (2, 2), (2, 3), (2, 4), (3, 3), (3, 4), (4, 4)], 'gammat': [(1, 1), (1, 2), (1, 3), (1, 4), (2, 1), (2, 2), (2, 3), (2, 4), (3, 1), (3, 2), (3, 3), (3, 4), (4, 1), (4, 2), (4, 3), (4, 4), (5, 1), (5, 2), (5, 3), (5, 4), (6, 1), (6, 2), (6, 3), (6, 4)], 'wtheta': [(1, 1), (1, 2), (1, 3), (1, 4), (1, 5), (1, 6), (2, 2), (2, 3), (2, 4), (2, 5), (2, 6), (3, 3), (3, 4), (3, 5), (3, 6), (4, 4), (4, 5), (4, 6), (5, 5), (5, 6), (6, 6)]}\n",
      "Getting indices for xip\n",
      "Getting indices for xim\n",
      "Getting indices for gammat\n",
      "Getting indices for wtheta\n",
      "\n",
      "Found observables in data_file ['xip', 'xim', 'gammat', 'wtheta']\n",
      "Reading options for likelihood module:  2pt_dprime_like\n",
      "Found scale cuts for  {'xip': [(1, 1), (1, 2), (1, 3), (1, 4), (2, 2), (2, 3), (2, 4), (3, 3), (3, 4), (4, 4)], 'xim': [(1, 1), (1, 2), (1, 3), (1, 4), (2, 2), (2, 3), (2, 4), (3, 3), (3, 4), (4, 4)], 'gammat': [(1, 1), (1, 2), (1, 3), (1, 4), (2, 1), (2, 2), (2, 3), (2, 4), (3, 1), (3, 2), (3, 3), (3, 4), (4, 1), (4, 2), (4, 3), (4, 4), (5, 1), (5, 2), (5, 3), (5, 4), (6, 1), (6, 2), (6, 3), (6, 4)], 'wtheta': [(1, 1), (1, 2), (1, 3), (1, 4), (1, 5), (1, 6), (2, 2), (2, 3), (2, 4), (2, 5), (2, 6), (3, 3), (3, 4), (3, 5), (3, 6), (4, 4), (4, 5), (4, 6), (5, 5), (5, 6), (6, 6)]}\n",
      "Getting indices for xip\n",
      "Getting indices for xim\n",
      "Getting indices for gammat\n",
      "Getting indices for wtheta\n",
      "\n",
      "Using subsets ['1x2', '2x2', 'gammat', 'wtheta', 'xim', 'xip']\n",
      "\n",
      "Using same indices for d and dprime -> conditioning turned off\n",
      "\n",
      "###############################\n",
      "## Loading realizations #######\n",
      "###############################\n"
     ]
    },
    {
     "data": {
      "application/vnd.jupyter.widget-view+json": {
       "model_id": "6a26b5cce1b449d6b5c5204f8323dc7c",
       "version_major": 2,
       "version_minor": 0
      },
      "text/plain": [
       "HBox(children=(FloatProgress(value=0.0, max=222.0), HTML(value='')))"
      ]
     },
     "metadata": {},
     "output_type": "display_data"
    },
    {
     "name": "stdout",
     "output_type": "stream",
     "text": [
      "Loading realizations from  ../maglim_3x2_goodnessoffit/ppd_3x2pt_lcdm_SR_maglim_boosted_maglim_3x2_goodnessoffit_0_dprime_theory.npy\n",
      " - data vector size = 462\n",
      " - number of realizations = 1000\n",
      "Loading realizations from  ../maglim_3x2_goodnessoffit/ppd_3x2pt_lcdm_SR_maglim_boosted_maglim_3x2_goodnessoffit_0_dprime_real.npy\n",
      " - data vector size = 462\n",
      " - number of realizations = 1000\n",
      "Loading realizations from  ../maglim_3x2_goodnessoffit/ppd_3x2pt_lcdm_SR_maglim_boosted_maglim_3x2_goodnessoffit_0_d_theory.npy\n",
      " - data vector size = 462\n",
      " - number of realizations = 1000\n",
      "\n",
      "\n",
      "###############################\n",
      "## Sampling data ##############\n",
      "###############################\n",
      "Sampling at best-fit with params\n",
      "cosmological_parameters--omega_m = 0.365\n",
      "cosmological_parameters--h0 = 0.56\n",
      "cosmological_parameters--omega_b = 0.0343\n",
      "cosmological_parameters--n_s = 1.03\n",
      "cosmological_parameters--a_s = 2.27e-09\n",
      "cosmological_parameters--omnuh2 = 0.00524\n",
      "shear_calibration_parameters--m1 = -0.00157\n",
      "shear_calibration_parameters--m2 = -0.0231\n",
      "shear_calibration_parameters--m3 = -0.0166\n",
      "shear_calibration_parameters--m4 = -0.033\n",
      "wl_photoz_errors--bias_1 = 0.0218\n",
      "wl_photoz_errors--bias_2 = -0.0158\n",
      "wl_photoz_errors--bias_3 = -0.0285\n",
      "wl_photoz_errors--bias_4 = 0.00859\n",
      "lens_photoz_errors--bias_1 = -0.00994\n",
      "lens_photoz_errors--bias_2 = -0.0286\n",
      "lens_photoz_errors--bias_3 = -0.0038\n",
      "lens_photoz_errors--bias_4 = -0.00452\n",
      "lens_photoz_errors--width_1 = 1.02\n",
      "lens_photoz_errors--width_2 = 1.14\n",
      "lens_photoz_errors--width_3 = 0.908\n",
      "lens_photoz_errors--width_4 = 0.949\n",
      "bias_lens--b1        = 1.6\n",
      "bias_lens--b2        = 1.76\n",
      "bias_lens--b3        = 1.98\n",
      "bias_lens--b4        = 1.93\n",
      "intrinsic_alignment_parameters--a1 = 0.214\n",
      "intrinsic_alignment_parameters--a2 = -0.24\n",
      "intrinsic_alignment_parameters--alpha1 = -3.93\n",
      "intrinsic_alignment_parameters--alpha2 = -0.945\n",
      "intrinsic_alignment_parameters--bias_ta = 0.00855\n",
      "\n",
      "###############################\n",
      "## Compute chi2 for d #########\n",
      "###############################\n"
     ]
    },
    {
     "data": {
      "application/vnd.jupyter.widget-view+json": {
       "model_id": "72ca290b8b484a2eb0c43bc31e76231f",
       "version_major": 2,
       "version_minor": 0
      },
      "text/plain": [
       "HBox(children=(FloatProgress(value=0.0, max=222.0), HTML(value='')))"
      ]
     },
     "metadata": {},
     "output_type": "display_data"
    },
    {
     "name": "stderr",
     "output_type": "stream",
     "text": [
      "/global/cfs/cdirs/des/xuod/DES_Y3_3x2/y3-3x2pt/code/ppd/postprocessing/utils_ppd_calib.py:77: NumbaPerformanceWarning: np.dot() is faster on contiguous arrays, called on (array(float64, 2d, A), array(float64, 2d, F))\n",
      "  return np.dot(A,B)\n"
     ]
    },
    {
     "name": "stdout",
     "output_type": "stream",
     "text": [
      "\n",
      "\n",
      "###############################\n",
      "## Compute IS weights for d ###\n",
      "###############################\n"
     ]
    },
    {
     "data": {
      "application/vnd.jupyter.widget-view+json": {
       "model_id": "f6ca85a6cb6d45648b0b06fe75ce2815",
       "version_major": 2,
       "version_minor": 0
      },
      "text/plain": [
       "HBox(children=(FloatProgress(value=0.0, max=222.0), HTML(value='')))"
      ]
     },
     "metadata": {},
     "output_type": "display_data"
    },
    {
     "name": "stdout",
     "output_type": "stream",
     "text": [
      "\n",
      "(222000, 100)\n",
      "Neff = 92.1 (median), 16th=39.9, 84th=234.7 (0 were nan's)\n",
      "\n",
      "###############################\n",
      "## Computing p-values #########\n",
      "###############################\n"
     ]
    },
    {
     "data": {
      "application/vnd.jupyter.widget-view+json": {
       "model_id": "b4908c7f1b944479ad88638304133dfa",
       "version_major": 2,
       "version_minor": 0
      },
      "text/plain": [
       "HBox(children=(FloatProgress(value=1.0, bar_style='info', max=1.0), HTML(value='')))"
      ]
     },
     "metadata": {},
     "output_type": "display_data"
    },
    {
     "name": "stdout",
     "output_type": "stream",
     "text": [
      "\n",
      "1x2\n",
      "Appending pval for 1x2 0.18773534563631017\n",
      "2x2\n",
      "Some (4) eigenvalues are non-positive. Clipping to minimum positive one = 2.1048545862491657e-12\n",
      "Some (4) eigenvalues are non-positive. Clipping to minimum positive one = 2.1048545862491657e-12\n",
      "Some (4) eigenvalues are non-positive. Clipping to minimum positive one = 2.1048545862491657e-12\n",
      "Appending pval for 2x2 0.31047356512872865\n",
      "gammat\n",
      "Some (4) eigenvalues are non-positive. Clipping to minimum positive one = 2.1065924252365922e-12\n",
      "Some (4) eigenvalues are non-positive. Clipping to minimum positive one = 2.1065924252365922e-12\n",
      "Some (4) eigenvalues are non-positive. Clipping to minimum positive one = 2.1065924252365922e-12\n",
      "Appending pval for gammat 0.0020524931159693416\n",
      "wtheta\n",
      "Appending pval for wtheta 0.3029991333476307\n",
      "xim\n",
      "Appending pval for xim 0.3469528684715754\n",
      "xip\n",
      "Appending pval for xip 0.22335435844031534\n",
      "\n",
      "###############################\n",
      "## Calibrated p-values ########\n",
      "###############################\n",
      "     - Full         calibrated pval=0.0100 (raw pval=0.0122)\n",
      "     - 1x2          calibrated pval=0.1800 (raw pval=0.1877)\n",
      "     - 2x2          calibrated pval=0.2000 (raw pval=0.3105)\n",
      "     - gammat       calibrated pval=0.0100 (raw pval=0.0021)\n",
      "     - wtheta       calibrated pval=0.2600 (raw pval=0.3030)\n",
      "     - xim          calibrated pval=0.3600 (raw pval=0.3470)\n",
      "     - xip          calibrated pval=0.1700 (raw pval=0.2234)\n",
      "\n",
      "###############################\n",
      "## Plotting ###################\n",
      "###############################\n"
     ]
    },
    {
     "data": {
      "image/png": "[encoded data removed]",
      "text/plain": [
       "<Figure size 288x216 with 1 Axes>"
      ]
     },
     "metadata": {
      "image/png": {
       "height": 209,
       "width": 253
      },
      "needs_background": "light"
     },
     "output_type": "display_data"
    }
   ],
   "source": [
    "pvals_subsets={k:None for k in['xip','xim', 'gammat','wtheta','1x2','2x2']}\n",
    "\n",
    "temp = calib.calibrate_pvals(\n",
    "        path_ppd=path_ppd,\n",
    "        path_chain=path_chain,\n",
    "        path_dv=path_dv,\n",
    "        RUN_NAME=RUN_NAME,\n",
    "        RUN_NAME_PPD=RUN_NAME_PPD,\n",
    "        DATAFILE=DATAFILE,\n",
    "        fiducial_dv=fiducial_dv,\n",
    "        data_sets_d=['xip','xim', 'gammat','wtheta'],\n",
    "        data_sets_dprime=['xip','xim', 'gammat','wtheta'],\n",
    "        N=100, # 10^4 should give reasonable results, but for memory-sake can try smaller like 100\n",
    "        title=RUN_NAME_PPD,\n",
    "            pval_data=res[0]['full'],\n",
    "        use_pm=True,\n",
    "        clip_is=0.1,\n",
    "        ndraws=1,\n",
    "        chunks=222,\n",
    "        size_chunk=1000,\n",
    "    #     pvals_subsets=res[0],\n",
    "        #use_logit=(1e-6,1),\n",
    "        get_zbin_pair_pcal=False,\n",
    "        pvals_subsets=pvals_subsets,\n",
    "#         sample_from='fiducial_dv'  # Trying this (different from y1 notebook)\n",
    "        sample_from='best-fit'  # Trying this (different from y1 notebook)\n",
    "    )"
   ]
  },
  {
   "cell_type": "code",
   "execution_count": 9,
   "metadata": {
    "collapsed": true,
    "jupyter": {
     "outputs_hidden": true
    },
    "tags": []
   },
   "outputs": [
    {
     "data": {
      "application/vnd.jupyter.widget-view+json": {
       "model_id": "e971b66e9568489bbb615419d1b64c47",
       "version_major": 2,
       "version_minor": 0
      },
      "text/plain": [
       "HBox(children=(FloatProgress(value=0.0, max=10.0), HTML(value='')))"
      ]
     },
     "metadata": {},
     "output_type": "display_data"
    },
    {
     "name": "stdout",
     "output_type": "stream",
     "text": [
      "\n",
      "###############################\n",
      "## Loading chains #############\n",
      "###############################\n"
     ]
    },
    {
     "data": {
      "application/vnd.jupyter.widget-view+json": {
       "model_id": "271797def01c4c8c9de690a46bc13267",
       "version_major": 2,
       "version_minor": 0
      },
      "text/plain": [
       "HBox(children=(FloatProgress(value=0.0, max=222.0), HTML(value='')))"
      ]
     },
     "metadata": {},
     "output_type": "display_data"
    },
    {
     "name": "stdout",
     "output_type": "stream",
     "text": [
      "Loading list chain at\n",
      "../maglim_3x2_goodnessoffit/ppd_chain_3x2pt_lcdm_SR_maglim_boosted_maglim_3x2_goodnessoffit_0.txt\n",
      "- using params\n",
      "['cosmological_parameters--omega_m', 'cosmological_parameters--h0', 'cosmological_parameters--omega_b', 'cosmological_parameters--n_s', 'cosmological_parameters--a_s', 'cosmological_parameters--omnuh2', 'cosmological_parameters--w', 'cosmological_parameters--massive_nu', 'cosmological_parameters--massless_nu', 'cosmological_parameters--omega_k', 'cosmological_parameters--tau', 'shear_calibration_parameters--m1', 'shear_calibration_parameters--m2', 'shear_calibration_parameters--m3', 'shear_calibration_parameters--m4', 'wl_photoz_errors--bias_1', 'wl_photoz_errors--bias_2', 'wl_photoz_errors--bias_3', 'wl_photoz_errors--bias_4', 'lens_photoz_errors--bias_1', 'lens_photoz_errors--bias_2', 'lens_photoz_errors--bias_3', 'lens_photoz_errors--bias_4', 'lens_photoz_errors--bias_5', 'lens_photoz_errors--width_1', 'lens_photoz_errors--width_2', 'lens_photoz_errors--width_3', 'lens_photoz_errors--width_4', 'lens_photoz_errors--width_5', 'lens_photoz_errors--bias_6', 'lens_photoz_errors--width_6', 'bias_lens--b1', 'bias_lens--b2', 'bias_lens--b3', 'bias_lens--b4', 'bias_lens--b5', 'bias_lens--b6', 'mag_alpha_lens--alpha_1', 'mag_alpha_lens--alpha_2', 'mag_alpha_lens--alpha_3', 'mag_alpha_lens--alpha_4', 'mag_alpha_lens--alpha_5', 'mag_alpha_lens--alpha_6', 'intrinsic_alignment_parameters--z_piv', 'intrinsic_alignment_parameters--a1', 'intrinsic_alignment_parameters--a2', 'intrinsic_alignment_parameters--alpha1', 'intrinsic_alignment_parameters--alpha2', 'intrinsic_alignment_parameters--bias_ta', 'COSMOLOGICAL_PARAMETERS--SIGMA_8', 'COSMOLOGICAL_PARAMETERS--SIGMA_12', 'DATA_VECTOR--2PT_CHI2', 'DATA_VECTOR--2PT_D_CHI2', 'DATA_VECTOR--2PT_DPRIME_CHI2', 'DATA_VECTOR--2PT_XIP_CHI2', 'DATA_VECTOR--2PT_XIM_CHI2', 'DATA_VECTOR--2PT_1X2_CHI2', 'DATA_VECTOR--2PT_GAMMAT_CHI2', 'DATA_VECTOR--2PT_WTHETA_CHI2', 'DATA_VECTOR--2PT_2X2_CHI2', 'PPD--CHI2_DPRIME_DATA', 'PPD--CHI2_DPRIME_REALIZATION', 'PPD--CHI2_D_DATA', 'PPD--CHI2_XIP_DATA', 'PPD--CHI2_XIP_REALIZATION', 'PPD--CHI2_XIM_DATA', 'PPD--CHI2_XIM_REALIZATION', 'PPD--CHI2_1X2_DATA', 'PPD--CHI2_1X2_REALIZATION', 'PPD--CHI2_GAMMAT_DATA', 'PPD--CHI2_GAMMAT_REALIZATION', 'PPD--CHI2_WTHETA_DATA', 'PPD--CHI2_WTHETA_REALIZATION', 'PPD--CHI2_2X2_DATA', 'PPD--CHI2_2X2_REALIZATION', 'PPD--CHI2_DPRIME_COMP_AVG', 'PPD--CHI2_XIP_COMP_AVG', 'PPD--CHI2_XIM_COMP_AVG', 'PPD--CHI2_1X2_COMP_AVG', 'PPD--CHI2_GAMMAT_COMP_AVG', 'PPD--CHI2_WTHETA_COMP_AVG', 'PPD--CHI2_2X2_COMP_AVG', 'prior', 'post']\n",
      "- using nsample =  1000\n",
      "\n",
      "Loading chain at\n",
      "../../trimmed_chains_test/chain_3x2pt_lcdm_SR_maglim_boosted.txt\n",
      "Sampler not found -- non-standard cosmosis output\n",
      "Using 222 chunks of size [1000, 1000, 1000, 1000, 1000, 1000, 1000, 1000, 1000, 1000, 1000, 1000, 1000, 1000, 1000, 1000, 1000, 1000, 1000, 1000, 1000, 1000, 1000, 1000, 1000, 1000, 1000, 1000, 1000, 1000, 1000, 1000, 1000, 1000, 1000, 1000, 1000, 1000, 1000, 1000, 1000, 1000, 1000, 1000, 1000, 1000, 1000, 1000, 1000, 1000, 1000, 1000, 1000, 1000, 1000, 1000, 1000, 1000, 1000, 1000, 1000, 1000, 1000, 1000, 1000, 1000, 1000, 1000, 1000, 1000, 1000, 1000, 1000, 1000, 1000, 1000, 1000, 1000, 1000, 1000, 1000, 1000, 1000, 1000, 1000, 1000, 1000, 1000, 1000, 1000, 1000, 1000, 1000, 1000, 1000, 1000, 1000, 1000, 1000, 1000, 1000, 1000, 1000, 1000, 1000, 1000, 1000, 1000, 1000, 1000, 1000, 1000, 1000, 1000, 1000, 1000, 1000, 1000, 1000, 1000, 1000, 1000, 1000, 1000, 1000, 1000, 1000, 1000, 1000, 1000, 1000, 1000, 1000, 1000, 1000, 1000, 1000, 1000, 1000, 1000, 1000, 1000, 1000, 1000, 1000, 1000, 1000, 1000, 1000, 1000, 1000, 1000, 1000, 1000, 1000, 1000, 1000, 1000, 1000, 1000, 1000, 1000, 1000, 1000, 1000, 1000, 1000, 1000, 1000, 1000, 1000, 1000, 1000, 1000, 1000, 1000, 1000, 1000, 1000, 1000, 1000, 1000, 1000, 1000, 1000, 1000, 1000, 1000, 1000, 1000, 1000, 1000, 1000, 1000, 1000, 1000, 1000, 1000, 1000, 1000, 1000, 1000, 1000, 1000, 1000, 1000, 1000, 1000, 1000, 1000, 1000, 1000, 1000, 1000, 1000, 1000, 1000, 1000, 1000, 1000, 1000, 1000] (1000) for a total of 222000 posterior samples\n",
      "\n",
      "###############################\n",
      "## Loading scale/bin cuts #####\n",
      "###############################\n",
      "Found observables in data_file ['xip', 'xim', 'gammat', 'wtheta']\n",
      "Reading options for likelihood module:  2pt_d_like\n",
      "Found scale cuts for  {'xip': [(1, 1), (1, 2), (1, 3), (1, 4), (2, 2), (2, 3), (2, 4), (3, 3), (3, 4), (4, 4)], 'xim': [(1, 1), (1, 2), (1, 3), (1, 4), (2, 2), (2, 3), (2, 4), (3, 3), (3, 4), (4, 4)], 'gammat': [(1, 1), (1, 2), (1, 3), (1, 4), (2, 1), (2, 2), (2, 3), (2, 4), (3, 1), (3, 2), (3, 3), (3, 4), (4, 1), (4, 2), (4, 3), (4, 4), (5, 1), (5, 2), (5, 3), (5, 4), (6, 1), (6, 2), (6, 3), (6, 4)], 'wtheta': [(1, 1), (1, 2), (1, 3), (1, 4), (1, 5), (1, 6), (2, 2), (2, 3), (2, 4), (2, 5), (2, 6), (3, 3), (3, 4), (3, 5), (3, 6), (4, 4), (4, 5), (4, 6), (5, 5), (5, 6), (6, 6)]}\n",
      "Getting indices for xip\n",
      "Getting indices for xim\n",
      "Getting indices for gammat\n",
      "Getting indices for wtheta\n",
      "\n",
      "Found observables in data_file ['xip', 'xim', 'gammat', 'wtheta']\n",
      "Reading options for likelihood module:  2pt_dprime_like\n",
      "Found scale cuts for  {'xip': [(1, 1), (1, 2), (1, 3), (1, 4), (2, 2), (2, 3), (2, 4), (3, 3), (3, 4), (4, 4)], 'xim': [(1, 1), (1, 2), (1, 3), (1, 4), (2, 2), (2, 3), (2, 4), (3, 3), (3, 4), (4, 4)], 'gammat': [(1, 1), (1, 2), (1, 3), (1, 4), (2, 1), (2, 2), (2, 3), (2, 4), (3, 1), (3, 2), (3, 3), (3, 4), (4, 1), (4, 2), (4, 3), (4, 4), (5, 1), (5, 2), (5, 3), (5, 4), (6, 1), (6, 2), (6, 3), (6, 4)], 'wtheta': [(1, 1), (1, 2), (1, 3), (1, 4), (1, 5), (1, 6), (2, 2), (2, 3), (2, 4), (2, 5), (2, 6), (3, 3), (3, 4), (3, 5), (3, 6), (4, 4), (4, 5), (4, 6), (5, 5), (5, 6), (6, 6)]}\n",
      "Getting indices for xip\n",
      "Getting indices for xim\n",
      "Getting indices for gammat\n",
      "Getting indices for wtheta\n",
      "\n",
      "Using subsets ['1x2', '2x2', 'gammat', 'wtheta', 'xim', 'xip']\n",
      "\n",
      "Using same indices for d and dprime -> conditioning turned off\n",
      "\n",
      "###############################\n",
      "## Loading realizations #######\n",
      "###############################\n"
     ]
    },
    {
     "data": {
      "application/vnd.jupyter.widget-view+json": {
       "model_id": "8fa116b714704baca979d26c9e4f7b6f",
       "version_major": 2,
       "version_minor": 0
      },
      "text/plain": [
       "HBox(children=(FloatProgress(value=0.0, max=222.0), HTML(value='')))"
      ]
     },
     "metadata": {},
     "output_type": "display_data"
    },
    {
     "name": "stdout",
     "output_type": "stream",
     "text": [
      "Loading realizations from  ../maglim_3x2_goodnessoffit/ppd_3x2pt_lcdm_SR_maglim_boosted_maglim_3x2_goodnessoffit_0_dprime_theory.npy\n",
      " - data vector size = 462\n",
      " - number of realizations = 1000\n",
      "Loading realizations from  ../maglim_3x2_goodnessoffit/ppd_3x2pt_lcdm_SR_maglim_boosted_maglim_3x2_goodnessoffit_0_dprime_real.npy\n",
      " - data vector size = 462\n",
      " - number of realizations = 1000\n",
      "Loading realizations from  ../maglim_3x2_goodnessoffit/ppd_3x2pt_lcdm_SR_maglim_boosted_maglim_3x2_goodnessoffit_0_d_theory.npy\n",
      " - data vector size = 462\n",
      " - number of realizations = 1000\n",
      "\n",
      "\n",
      "###############################\n",
      "## Sampling data ##############\n",
      "###############################\n",
      "Sampling at best-fit with params\n",
      "cosmological_parameters--omega_m = 0.365\n",
      "cosmological_parameters--h0 = 0.56\n",
      "cosmological_parameters--omega_b = 0.0343\n",
      "cosmological_parameters--n_s = 1.03\n",
      "cosmological_parameters--a_s = 2.27e-09\n",
      "cosmological_parameters--omnuh2 = 0.00524\n",
      "shear_calibration_parameters--m1 = -0.00157\n",
      "shear_calibration_parameters--m2 = -0.0231\n",
      "shear_calibration_parameters--m3 = -0.0166\n",
      "shear_calibration_parameters--m4 = -0.033\n",
      "wl_photoz_errors--bias_1 = 0.0218\n",
      "wl_photoz_errors--bias_2 = -0.0158\n",
      "wl_photoz_errors--bias_3 = -0.0285\n",
      "wl_photoz_errors--bias_4 = 0.00859\n",
      "lens_photoz_errors--bias_1 = -0.00994\n",
      "lens_photoz_errors--bias_2 = -0.0286\n",
      "lens_photoz_errors--bias_3 = -0.0038\n",
      "lens_photoz_errors--bias_4 = -0.00452\n",
      "lens_photoz_errors--width_1 = 1.02\n",
      "lens_photoz_errors--width_2 = 1.14\n",
      "lens_photoz_errors--width_3 = 0.908\n",
      "lens_photoz_errors--width_4 = 0.949\n",
      "bias_lens--b1        = 1.6\n",
      "bias_lens--b2        = 1.76\n",
      "bias_lens--b3        = 1.98\n",
      "bias_lens--b4        = 1.93\n",
      "intrinsic_alignment_parameters--a1 = 0.214\n",
      "intrinsic_alignment_parameters--a2 = -0.24\n",
      "intrinsic_alignment_parameters--alpha1 = -3.93\n",
      "intrinsic_alignment_parameters--alpha2 = -0.945\n",
      "intrinsic_alignment_parameters--bias_ta = 0.00855\n",
      "\n",
      "###############################\n",
      "## Compute chi2 for d #########\n",
      "###############################\n"
     ]
    },
    {
     "data": {
      "application/vnd.jupyter.widget-view+json": {
       "model_id": "5098209e2d8e40518dbdc13a008364c9",
       "version_major": 2,
       "version_minor": 0
      },
      "text/plain": [
       "HBox(children=(FloatProgress(value=0.0, max=222.0), HTML(value='')))"
      ]
     },
     "metadata": {},
     "output_type": "display_data"
    },
    {
     "name": "stdout",
     "output_type": "stream",
     "text": [
      "\n",
      "\n",
      "###############################\n",
      "## Compute IS weights for d ###\n",
      "###############################\n"
     ]
    },
    {
     "data": {
      "application/vnd.jupyter.widget-view+json": {
       "model_id": "c4d56adc6614493c8bb7eab3fd7595cd",
       "version_major": 2,
       "version_minor": 0
      },
      "text/plain": [
       "HBox(children=(FloatProgress(value=0.0, max=222.0), HTML(value='')))"
      ]
     },
     "metadata": {},
     "output_type": "display_data"
    },
    {
     "name": "stdout",
     "output_type": "stream",
     "text": [
      "\n",
      "(222000, 1000)\n",
      "Neff = 82.6 (median), 16th=31.8, 84th=245.3 (0 were nan's)\n",
      "\n",
      "###############################\n",
      "## Computing p-values #########\n",
      "###############################\n"
     ]
    },
    {
     "data": {
      "application/vnd.jupyter.widget-view+json": {
       "model_id": "5058e73fc25142408e49df49f12a4db0",
       "version_major": 2,
       "version_minor": 0
      },
      "text/plain": [
       "HBox(children=(FloatProgress(value=1.0, bar_style='info', max=1.0), HTML(value='')))"
      ]
     },
     "metadata": {},
     "output_type": "display_data"
    },
    {
     "name": "stdout",
     "output_type": "stream",
     "text": [
      "\n",
      "1x2\n",
      "Appending pval for 1x2 0.18773534563631017\n",
      "2x2\n",
      "Some (4) eigenvalues are non-positive. Clipping to minimum positive one = 2.1048545862491657e-12\n",
      "Some (4) eigenvalues are non-positive. Clipping to minimum positive one = 2.1048545862491657e-12\n",
      "Some (4) eigenvalues are non-positive. Clipping to minimum positive one = 2.1048545862491657e-12\n",
      "Appending pval for 2x2 0.31047356512872865\n",
      "gammat\n",
      "Some (4) eigenvalues are non-positive. Clipping to minimum positive one = 2.1065924252365922e-12\n",
      "Some (4) eigenvalues are non-positive. Clipping to minimum positive one = 2.1065924252365922e-12\n",
      "Some (4) eigenvalues are non-positive. Clipping to minimum positive one = 2.1065924252365922e-12\n",
      "Appending pval for gammat 0.0020524931159693416\n",
      "wtheta\n",
      "Appending pval for wtheta 0.3029991333476307\n",
      "xim\n",
      "Appending pval for xim 0.3469528684715754\n",
      "xip\n",
      "Appending pval for xip 0.22335435844031534\n",
      "\n",
      "###############################\n",
      "## Calibrated p-values ########\n",
      "###############################\n",
      "     - Full         calibrated pval=0.0290 (raw pval=0.0122)\n",
      "     - 1x2          calibrated pval=0.2100 (raw pval=0.1877)\n",
      "     - 2x2          calibrated pval=0.2150 (raw pval=0.3105)\n",
      "     - gammat       calibrated pval=0.0120 (raw pval=0.0021)\n",
      "     - wtheta       calibrated pval=0.2850 (raw pval=0.3030)\n",
      "     - xim          calibrated pval=0.3600 (raw pval=0.3470)\n",
      "     - xip          calibrated pval=0.2610 (raw pval=0.2234)\n",
      "\n",
      "###############################\n",
      "## Plotting ###################\n",
      "###############################\n",
      "\n",
      "###############################\n",
      "## Loading chains #############\n",
      "###############################\n"
     ]
    },
    {
     "data": {
      "application/vnd.jupyter.widget-view+json": {
       "model_id": "2e9d3ccaf06b4ca8a16bd018fa6d2c13",
       "version_major": 2,
       "version_minor": 0
      },
      "text/plain": [
       "HBox(children=(FloatProgress(value=0.0, max=222.0), HTML(value='')))"
      ]
     },
     "metadata": {},
     "output_type": "display_data"
    },
    {
     "name": "stdout",
     "output_type": "stream",
     "text": [
      "Loading list chain at\n",
      "../maglim_3x2_goodnessoffit/ppd_chain_3x2pt_lcdm_SR_maglim_boosted_maglim_3x2_goodnessoffit_0.txt\n",
      "- using params\n",
      "['cosmological_parameters--omega_m', 'cosmological_parameters--h0', 'cosmological_parameters--omega_b', 'cosmological_parameters--n_s', 'cosmological_parameters--a_s', 'cosmological_parameters--omnuh2', 'cosmological_parameters--w', 'cosmological_parameters--massive_nu', 'cosmological_parameters--massless_nu', 'cosmological_parameters--omega_k', 'cosmological_parameters--tau', 'shear_calibration_parameters--m1', 'shear_calibration_parameters--m2', 'shear_calibration_parameters--m3', 'shear_calibration_parameters--m4', 'wl_photoz_errors--bias_1', 'wl_photoz_errors--bias_2', 'wl_photoz_errors--bias_3', 'wl_photoz_errors--bias_4', 'lens_photoz_errors--bias_1', 'lens_photoz_errors--bias_2', 'lens_photoz_errors--bias_3', 'lens_photoz_errors--bias_4', 'lens_photoz_errors--bias_5', 'lens_photoz_errors--width_1', 'lens_photoz_errors--width_2', 'lens_photoz_errors--width_3', 'lens_photoz_errors--width_4', 'lens_photoz_errors--width_5', 'lens_photoz_errors--bias_6', 'lens_photoz_errors--width_6', 'bias_lens--b1', 'bias_lens--b2', 'bias_lens--b3', 'bias_lens--b4', 'bias_lens--b5', 'bias_lens--b6', 'mag_alpha_lens--alpha_1', 'mag_alpha_lens--alpha_2', 'mag_alpha_lens--alpha_3', 'mag_alpha_lens--alpha_4', 'mag_alpha_lens--alpha_5', 'mag_alpha_lens--alpha_6', 'intrinsic_alignment_parameters--z_piv', 'intrinsic_alignment_parameters--a1', 'intrinsic_alignment_parameters--a2', 'intrinsic_alignment_parameters--alpha1', 'intrinsic_alignment_parameters--alpha2', 'intrinsic_alignment_parameters--bias_ta', 'COSMOLOGICAL_PARAMETERS--SIGMA_8', 'COSMOLOGICAL_PARAMETERS--SIGMA_12', 'DATA_VECTOR--2PT_CHI2', 'DATA_VECTOR--2PT_D_CHI2', 'DATA_VECTOR--2PT_DPRIME_CHI2', 'DATA_VECTOR--2PT_XIP_CHI2', 'DATA_VECTOR--2PT_XIM_CHI2', 'DATA_VECTOR--2PT_1X2_CHI2', 'DATA_VECTOR--2PT_GAMMAT_CHI2', 'DATA_VECTOR--2PT_WTHETA_CHI2', 'DATA_VECTOR--2PT_2X2_CHI2', 'PPD--CHI2_DPRIME_DATA', 'PPD--CHI2_DPRIME_REALIZATION', 'PPD--CHI2_D_DATA', 'PPD--CHI2_XIP_DATA', 'PPD--CHI2_XIP_REALIZATION', 'PPD--CHI2_XIM_DATA', 'PPD--CHI2_XIM_REALIZATION', 'PPD--CHI2_1X2_DATA', 'PPD--CHI2_1X2_REALIZATION', 'PPD--CHI2_GAMMAT_DATA', 'PPD--CHI2_GAMMAT_REALIZATION', 'PPD--CHI2_WTHETA_DATA', 'PPD--CHI2_WTHETA_REALIZATION', 'PPD--CHI2_2X2_DATA', 'PPD--CHI2_2X2_REALIZATION', 'PPD--CHI2_DPRIME_COMP_AVG', 'PPD--CHI2_XIP_COMP_AVG', 'PPD--CHI2_XIM_COMP_AVG', 'PPD--CHI2_1X2_COMP_AVG', 'PPD--CHI2_GAMMAT_COMP_AVG', 'PPD--CHI2_WTHETA_COMP_AVG', 'PPD--CHI2_2X2_COMP_AVG', 'prior', 'post']\n",
      "- using nsample =  1000\n",
      "\n",
      "Loading chain at\n",
      "../../trimmed_chains_test/chain_3x2pt_lcdm_SR_maglim_boosted.txt\n",
      "Sampler not found -- non-standard cosmosis output\n",
      "Using 222 chunks of size [1000, 1000, 1000, 1000, 1000, 1000, 1000, 1000, 1000, 1000, 1000, 1000, 1000, 1000, 1000, 1000, 1000, 1000, 1000, 1000, 1000, 1000, 1000, 1000, 1000, 1000, 1000, 1000, 1000, 1000, 1000, 1000, 1000, 1000, 1000, 1000, 1000, 1000, 1000, 1000, 1000, 1000, 1000, 1000, 1000, 1000, 1000, 1000, 1000, 1000, 1000, 1000, 1000, 1000, 1000, 1000, 1000, 1000, 1000, 1000, 1000, 1000, 1000, 1000, 1000, 1000, 1000, 1000, 1000, 1000, 1000, 1000, 1000, 1000, 1000, 1000, 1000, 1000, 1000, 1000, 1000, 1000, 1000, 1000, 1000, 1000, 1000, 1000, 1000, 1000, 1000, 1000, 1000, 1000, 1000, 1000, 1000, 1000, 1000, 1000, 1000, 1000, 1000, 1000, 1000, 1000, 1000, 1000, 1000, 1000, 1000, 1000, 1000, 1000, 1000, 1000, 1000, 1000, 1000, 1000, 1000, 1000, 1000, 1000, 1000, 1000, 1000, 1000, 1000, 1000, 1000, 1000, 1000, 1000, 1000, 1000, 1000, 1000, 1000, 1000, 1000, 1000, 1000, 1000, 1000, 1000, 1000, 1000, 1000, 1000, 1000, 1000, 1000, 1000, 1000, 1000, 1000, 1000, 1000, 1000, 1000, 1000, 1000, 1000, 1000, 1000, 1000, 1000, 1000, 1000, 1000, 1000, 1000, 1000, 1000, 1000, 1000, 1000, 1000, 1000, 1000, 1000, 1000, 1000, 1000, 1000, 1000, 1000, 1000, 1000, 1000, 1000, 1000, 1000, 1000, 1000, 1000, 1000, 1000, 1000, 1000, 1000, 1000, 1000, 1000, 1000, 1000, 1000, 1000, 1000, 1000, 1000, 1000, 1000, 1000, 1000, 1000, 1000, 1000, 1000, 1000, 1000] (1000) for a total of 222000 posterior samples\n",
      "\n",
      "###############################\n",
      "## Loading scale/bin cuts #####\n",
      "###############################\n",
      "Found observables in data_file ['xip', 'xim', 'gammat', 'wtheta']\n",
      "Reading options for likelihood module:  2pt_d_like\n",
      "Found scale cuts for  {'xip': [(1, 1), (1, 2), (1, 3), (1, 4), (2, 2), (2, 3), (2, 4), (3, 3), (3, 4), (4, 4)], 'xim': [(1, 1), (1, 2), (1, 3), (1, 4), (2, 2), (2, 3), (2, 4), (3, 3), (3, 4), (4, 4)], 'gammat': [(1, 1), (1, 2), (1, 3), (1, 4), (2, 1), (2, 2), (2, 3), (2, 4), (3, 1), (3, 2), (3, 3), (3, 4), (4, 1), (4, 2), (4, 3), (4, 4), (5, 1), (5, 2), (5, 3), (5, 4), (6, 1), (6, 2), (6, 3), (6, 4)], 'wtheta': [(1, 1), (1, 2), (1, 3), (1, 4), (1, 5), (1, 6), (2, 2), (2, 3), (2, 4), (2, 5), (2, 6), (3, 3), (3, 4), (3, 5), (3, 6), (4, 4), (4, 5), (4, 6), (5, 5), (5, 6), (6, 6)]}\n",
      "Getting indices for xip\n",
      "Getting indices for xim\n",
      "Getting indices for gammat\n",
      "Getting indices for wtheta\n",
      "\n",
      "Found observables in data_file ['xip', 'xim', 'gammat', 'wtheta']\n",
      "Reading options for likelihood module:  2pt_dprime_like\n",
      "Found scale cuts for  {'xip': [(1, 1), (1, 2), (1, 3), (1, 4), (2, 2), (2, 3), (2, 4), (3, 3), (3, 4), (4, 4)], 'xim': [(1, 1), (1, 2), (1, 3), (1, 4), (2, 2), (2, 3), (2, 4), (3, 3), (3, 4), (4, 4)], 'gammat': [(1, 1), (1, 2), (1, 3), (1, 4), (2, 1), (2, 2), (2, 3), (2, 4), (3, 1), (3, 2), (3, 3), (3, 4), (4, 1), (4, 2), (4, 3), (4, 4), (5, 1), (5, 2), (5, 3), (5, 4), (6, 1), (6, 2), (6, 3), (6, 4)], 'wtheta': [(1, 1), (1, 2), (1, 3), (1, 4), (1, 5), (1, 6), (2, 2), (2, 3), (2, 4), (2, 5), (2, 6), (3, 3), (3, 4), (3, 5), (3, 6), (4, 4), (4, 5), (4, 6), (5, 5), (5, 6), (6, 6)]}\n",
      "Getting indices for xip\n",
      "Getting indices for xim\n",
      "Getting indices for gammat\n",
      "Getting indices for wtheta\n",
      "\n",
      "Using subsets ['1x2', '2x2', 'gammat', 'wtheta', 'xim', 'xip']\n",
      "\n",
      "Using same indices for d and dprime -> conditioning turned off\n",
      "\n",
      "###############################\n",
      "## Loading realizations #######\n",
      "###############################\n"
     ]
    },
    {
     "data": {
      "application/vnd.jupyter.widget-view+json": {
       "model_id": "3fe172c103bb4b878311e350b0db8d0d",
       "version_major": 2,
       "version_minor": 0
      },
      "text/plain": [
       "HBox(children=(FloatProgress(value=0.0, max=222.0), HTML(value='')))"
      ]
     },
     "metadata": {},
     "output_type": "display_data"
    },
    {
     "name": "stdout",
     "output_type": "stream",
     "text": [
      "Loading realizations from  ../maglim_3x2_goodnessoffit/ppd_3x2pt_lcdm_SR_maglim_boosted_maglim_3x2_goodnessoffit_0_dprime_theory.npy\n",
      " - data vector size = 462\n",
      " - number of realizations = 1000\n",
      "Loading realizations from  ../maglim_3x2_goodnessoffit/ppd_3x2pt_lcdm_SR_maglim_boosted_maglim_3x2_goodnessoffit_0_dprime_real.npy\n",
      " - data vector size = 462\n",
      " - number of realizations = 1000\n",
      "Loading realizations from  ../maglim_3x2_goodnessoffit/ppd_3x2pt_lcdm_SR_maglim_boosted_maglim_3x2_goodnessoffit_0_d_theory.npy\n",
      " - data vector size = 462\n",
      " - number of realizations = 1000\n",
      "\n",
      "\n",
      "###############################\n",
      "## Sampling data ##############\n",
      "###############################\n",
      "Sampling at best-fit with params\n",
      "cosmological_parameters--omega_m = 0.365\n",
      "cosmological_parameters--h0 = 0.56\n",
      "cosmological_parameters--omega_b = 0.0343\n",
      "cosmological_parameters--n_s = 1.03\n",
      "cosmological_parameters--a_s = 2.27e-09\n",
      "cosmological_parameters--omnuh2 = 0.00524\n",
      "shear_calibration_parameters--m1 = -0.00157\n",
      "shear_calibration_parameters--m2 = -0.0231\n",
      "shear_calibration_parameters--m3 = -0.0166\n",
      "shear_calibration_parameters--m4 = -0.033\n",
      "wl_photoz_errors--bias_1 = 0.0218\n",
      "wl_photoz_errors--bias_2 = -0.0158\n",
      "wl_photoz_errors--bias_3 = -0.0285\n",
      "wl_photoz_errors--bias_4 = 0.00859\n",
      "lens_photoz_errors--bias_1 = -0.00994\n",
      "lens_photoz_errors--bias_2 = -0.0286\n",
      "lens_photoz_errors--bias_3 = -0.0038\n",
      "lens_photoz_errors--bias_4 = -0.00452\n",
      "lens_photoz_errors--width_1 = 1.02\n",
      "lens_photoz_errors--width_2 = 1.14\n",
      "lens_photoz_errors--width_3 = 0.908\n",
      "lens_photoz_errors--width_4 = 0.949\n",
      "bias_lens--b1        = 1.6\n",
      "bias_lens--b2        = 1.76\n",
      "bias_lens--b3        = 1.98\n",
      "bias_lens--b4        = 1.93\n",
      "intrinsic_alignment_parameters--a1 = 0.214\n",
      "intrinsic_alignment_parameters--a2 = -0.24\n",
      "intrinsic_alignment_parameters--alpha1 = -3.93\n",
      "intrinsic_alignment_parameters--alpha2 = -0.945\n",
      "intrinsic_alignment_parameters--bias_ta = 0.00855\n",
      "\n",
      "###############################\n",
      "## Compute chi2 for d #########\n",
      "###############################\n"
     ]
    },
    {
     "data": {
      "application/vnd.jupyter.widget-view+json": {
       "model_id": "3d638bf5948b42f5b0763e222c12fabd",
       "version_major": 2,
       "version_minor": 0
      },
      "text/plain": [
       "HBox(children=(FloatProgress(value=0.0, max=222.0), HTML(value='')))"
      ]
     },
     "metadata": {},
     "output_type": "display_data"
    },
    {
     "name": "stdout",
     "output_type": "stream",
     "text": [
      "\n",
      "\n",
      "###############################\n",
      "## Compute IS weights for d ###\n",
      "###############################\n"
     ]
    },
    {
     "data": {
      "application/vnd.jupyter.widget-view+json": {
       "model_id": "220ec77f281f4ed9b3b289a414366010",
       "version_major": 2,
       "version_minor": 0
      },
      "text/plain": [
       "HBox(children=(FloatProgress(value=0.0, max=222.0), HTML(value='')))"
      ]
     },
     "metadata": {},
     "output_type": "display_data"
    },
    {
     "name": "stdout",
     "output_type": "stream",
     "text": [
      "\n",
      "(222000, 1000)\n",
      "Neff = 71.5 (median), 16th=31.8, 84th=234.7 (0 were nan's)\n",
      "\n",
      "###############################\n",
      "## Computing p-values #########\n",
      "###############################\n"
     ]
    },
    {
     "data": {
      "application/vnd.jupyter.widget-view+json": {
       "model_id": "cf369c2575b5435b8c516b83cd053238",
       "version_major": 2,
       "version_minor": 0
      },
      "text/plain": [
       "HBox(children=(FloatProgress(value=1.0, bar_style='info', max=1.0), HTML(value='')))"
      ]
     },
     "metadata": {},
     "output_type": "display_data"
    },
    {
     "name": "stdout",
     "output_type": "stream",
     "text": [
      "\n",
      "1x2\n",
      "2x2\n",
      "Some (4) eigenvalues are non-positive. Clipping to minimum positive one = 2.1048545862491657e-12\n",
      "Some (4) eigenvalues are non-positive. Clipping to minimum positive one = 2.1048545862491657e-12\n",
      "gammat\n",
      "Some (4) eigenvalues are non-positive. Clipping to minimum positive one = 2.1065924252365922e-12\n",
      "Some (4) eigenvalues are non-positive. Clipping to minimum positive one = 2.1065924252365922e-12\n",
      "wtheta\n",
      "xim\n",
      "xip\n",
      "\n",
      "###############################\n",
      "## Calibrated p-values ########\n",
      "###############################\n",
      "     - Full         calibrated pval=0.0160 (raw pval=0.0122)\n",
      "     - 1x2          calibrated pval=0.2300 (raw pval=0.1877)\n",
      "     - 2x2          calibrated pval=0.2200 (raw pval=0.3105)\n",
      "     - gammat       calibrated pval=0.0100 (raw pval=0.0021)\n",
      "     - wtheta       calibrated pval=0.3010 (raw pval=0.3030)\n",
      "     - xim          calibrated pval=0.3750 (raw pval=0.3470)\n",
      "     - xip          calibrated pval=0.2500 (raw pval=0.2234)\n",
      "\n",
      "###############################\n",
      "## Plotting ###################\n",
      "###############################\n",
      "\n",
      "###############################\n",
      "## Loading chains #############\n",
      "###############################\n"
     ]
    },
    {
     "data": {
      "application/vnd.jupyter.widget-view+json": {
       "model_id": "25c58f8cd8f94489ba68003c9905d5e4",
       "version_major": 2,
       "version_minor": 0
      },
      "text/plain": [
       "HBox(children=(FloatProgress(value=0.0, max=222.0), HTML(value='')))"
      ]
     },
     "metadata": {},
     "output_type": "display_data"
    },
    {
     "name": "stdout",
     "output_type": "stream",
     "text": [
      "Loading list chain at\n",
      "../maglim_3x2_goodnessoffit/ppd_chain_3x2pt_lcdm_SR_maglim_boosted_maglim_3x2_goodnessoffit_0.txt\n",
      "- using params\n",
      "['cosmological_parameters--omega_m', 'cosmological_parameters--h0', 'cosmological_parameters--omega_b', 'cosmological_parameters--n_s', 'cosmological_parameters--a_s', 'cosmological_parameters--omnuh2', 'cosmological_parameters--w', 'cosmological_parameters--massive_nu', 'cosmological_parameters--massless_nu', 'cosmological_parameters--omega_k', 'cosmological_parameters--tau', 'shear_calibration_parameters--m1', 'shear_calibration_parameters--m2', 'shear_calibration_parameters--m3', 'shear_calibration_parameters--m4', 'wl_photoz_errors--bias_1', 'wl_photoz_errors--bias_2', 'wl_photoz_errors--bias_3', 'wl_photoz_errors--bias_4', 'lens_photoz_errors--bias_1', 'lens_photoz_errors--bias_2', 'lens_photoz_errors--bias_3', 'lens_photoz_errors--bias_4', 'lens_photoz_errors--bias_5', 'lens_photoz_errors--width_1', 'lens_photoz_errors--width_2', 'lens_photoz_errors--width_3', 'lens_photoz_errors--width_4', 'lens_photoz_errors--width_5', 'lens_photoz_errors--bias_6', 'lens_photoz_errors--width_6', 'bias_lens--b1', 'bias_lens--b2', 'bias_lens--b3', 'bias_lens--b4', 'bias_lens--b5', 'bias_lens--b6', 'mag_alpha_lens--alpha_1', 'mag_alpha_lens--alpha_2', 'mag_alpha_lens--alpha_3', 'mag_alpha_lens--alpha_4', 'mag_alpha_lens--alpha_5', 'mag_alpha_lens--alpha_6', 'intrinsic_alignment_parameters--z_piv', 'intrinsic_alignment_parameters--a1', 'intrinsic_alignment_parameters--a2', 'intrinsic_alignment_parameters--alpha1', 'intrinsic_alignment_parameters--alpha2', 'intrinsic_alignment_parameters--bias_ta', 'COSMOLOGICAL_PARAMETERS--SIGMA_8', 'COSMOLOGICAL_PARAMETERS--SIGMA_12', 'DATA_VECTOR--2PT_CHI2', 'DATA_VECTOR--2PT_D_CHI2', 'DATA_VECTOR--2PT_DPRIME_CHI2', 'DATA_VECTOR--2PT_XIP_CHI2', 'DATA_VECTOR--2PT_XIM_CHI2', 'DATA_VECTOR--2PT_1X2_CHI2', 'DATA_VECTOR--2PT_GAMMAT_CHI2', 'DATA_VECTOR--2PT_WTHETA_CHI2', 'DATA_VECTOR--2PT_2X2_CHI2', 'PPD--CHI2_DPRIME_DATA', 'PPD--CHI2_DPRIME_REALIZATION', 'PPD--CHI2_D_DATA', 'PPD--CHI2_XIP_DATA', 'PPD--CHI2_XIP_REALIZATION', 'PPD--CHI2_XIM_DATA', 'PPD--CHI2_XIM_REALIZATION', 'PPD--CHI2_1X2_DATA', 'PPD--CHI2_1X2_REALIZATION', 'PPD--CHI2_GAMMAT_DATA', 'PPD--CHI2_GAMMAT_REALIZATION', 'PPD--CHI2_WTHETA_DATA', 'PPD--CHI2_WTHETA_REALIZATION', 'PPD--CHI2_2X2_DATA', 'PPD--CHI2_2X2_REALIZATION', 'PPD--CHI2_DPRIME_COMP_AVG', 'PPD--CHI2_XIP_COMP_AVG', 'PPD--CHI2_XIM_COMP_AVG', 'PPD--CHI2_1X2_COMP_AVG', 'PPD--CHI2_GAMMAT_COMP_AVG', 'PPD--CHI2_WTHETA_COMP_AVG', 'PPD--CHI2_2X2_COMP_AVG', 'prior', 'post']\n",
      "- using nsample =  1000\n",
      "\n",
      "Loading chain at\n",
      "../../trimmed_chains_test/chain_3x2pt_lcdm_SR_maglim_boosted.txt\n",
      "Sampler not found -- non-standard cosmosis output\n",
      "Using 222 chunks of size [1000, 1000, 1000, 1000, 1000, 1000, 1000, 1000, 1000, 1000, 1000, 1000, 1000, 1000, 1000, 1000, 1000, 1000, 1000, 1000, 1000, 1000, 1000, 1000, 1000, 1000, 1000, 1000, 1000, 1000, 1000, 1000, 1000, 1000, 1000, 1000, 1000, 1000, 1000, 1000, 1000, 1000, 1000, 1000, 1000, 1000, 1000, 1000, 1000, 1000, 1000, 1000, 1000, 1000, 1000, 1000, 1000, 1000, 1000, 1000, 1000, 1000, 1000, 1000, 1000, 1000, 1000, 1000, 1000, 1000, 1000, 1000, 1000, 1000, 1000, 1000, 1000, 1000, 1000, 1000, 1000, 1000, 1000, 1000, 1000, 1000, 1000, 1000, 1000, 1000, 1000, 1000, 1000, 1000, 1000, 1000, 1000, 1000, 1000, 1000, 1000, 1000, 1000, 1000, 1000, 1000, 1000, 1000, 1000, 1000, 1000, 1000, 1000, 1000, 1000, 1000, 1000, 1000, 1000, 1000, 1000, 1000, 1000, 1000, 1000, 1000, 1000, 1000, 1000, 1000, 1000, 1000, 1000, 1000, 1000, 1000, 1000, 1000, 1000, 1000, 1000, 1000, 1000, 1000, 1000, 1000, 1000, 1000, 1000, 1000, 1000, 1000, 1000, 1000, 1000, 1000, 1000, 1000, 1000, 1000, 1000, 1000, 1000, 1000, 1000, 1000, 1000, 1000, 1000, 1000, 1000, 1000, 1000, 1000, 1000, 1000, 1000, 1000, 1000, 1000, 1000, 1000, 1000, 1000, 1000, 1000, 1000, 1000, 1000, 1000, 1000, 1000, 1000, 1000, 1000, 1000, 1000, 1000, 1000, 1000, 1000, 1000, 1000, 1000, 1000, 1000, 1000, 1000, 1000, 1000, 1000, 1000, 1000, 1000, 1000, 1000, 1000, 1000, 1000, 1000, 1000, 1000] (1000) for a total of 222000 posterior samples\n",
      "\n",
      "###############################\n",
      "## Loading scale/bin cuts #####\n",
      "###############################\n",
      "Found observables in data_file ['xip', 'xim', 'gammat', 'wtheta']\n",
      "Reading options for likelihood module:  2pt_d_like\n",
      "Found scale cuts for  {'xip': [(1, 1), (1, 2), (1, 3), (1, 4), (2, 2), (2, 3), (2, 4), (3, 3), (3, 4), (4, 4)], 'xim': [(1, 1), (1, 2), (1, 3), (1, 4), (2, 2), (2, 3), (2, 4), (3, 3), (3, 4), (4, 4)], 'gammat': [(1, 1), (1, 2), (1, 3), (1, 4), (2, 1), (2, 2), (2, 3), (2, 4), (3, 1), (3, 2), (3, 3), (3, 4), (4, 1), (4, 2), (4, 3), (4, 4), (5, 1), (5, 2), (5, 3), (5, 4), (6, 1), (6, 2), (6, 3), (6, 4)], 'wtheta': [(1, 1), (1, 2), (1, 3), (1, 4), (1, 5), (1, 6), (2, 2), (2, 3), (2, 4), (2, 5), (2, 6), (3, 3), (3, 4), (3, 5), (3, 6), (4, 4), (4, 5), (4, 6), (5, 5), (5, 6), (6, 6)]}\n",
      "Getting indices for xip\n",
      "Getting indices for xim\n",
      "Getting indices for gammat\n",
      "Getting indices for wtheta\n",
      "\n",
      "Found observables in data_file ['xip', 'xim', 'gammat', 'wtheta']\n",
      "Reading options for likelihood module:  2pt_dprime_like\n",
      "Found scale cuts for  {'xip': [(1, 1), (1, 2), (1, 3), (1, 4), (2, 2), (2, 3), (2, 4), (3, 3), (3, 4), (4, 4)], 'xim': [(1, 1), (1, 2), (1, 3), (1, 4), (2, 2), (2, 3), (2, 4), (3, 3), (3, 4), (4, 4)], 'gammat': [(1, 1), (1, 2), (1, 3), (1, 4), (2, 1), (2, 2), (2, 3), (2, 4), (3, 1), (3, 2), (3, 3), (3, 4), (4, 1), (4, 2), (4, 3), (4, 4), (5, 1), (5, 2), (5, 3), (5, 4), (6, 1), (6, 2), (6, 3), (6, 4)], 'wtheta': [(1, 1), (1, 2), (1, 3), (1, 4), (1, 5), (1, 6), (2, 2), (2, 3), (2, 4), (2, 5), (2, 6), (3, 3), (3, 4), (3, 5), (3, 6), (4, 4), (4, 5), (4, 6), (5, 5), (5, 6), (6, 6)]}\n",
      "Getting indices for xip\n",
      "Getting indices for xim\n",
      "Getting indices for gammat\n",
      "Getting indices for wtheta\n",
      "\n",
      "Using subsets ['1x2', '2x2', 'gammat', 'wtheta', 'xim', 'xip']\n",
      "\n",
      "Using same indices for d and dprime -> conditioning turned off\n",
      "\n",
      "###############################\n",
      "## Loading realizations #######\n",
      "###############################\n"
     ]
    },
    {
     "data": {
      "application/vnd.jupyter.widget-view+json": {
       "model_id": "03c48051d57343dfa0de5140622e16fc",
       "version_major": 2,
       "version_minor": 0
      },
      "text/plain": [
       "HBox(children=(FloatProgress(value=0.0, max=222.0), HTML(value='')))"
      ]
     },
     "metadata": {},
     "output_type": "display_data"
    },
    {
     "name": "stdout",
     "output_type": "stream",
     "text": [
      "Loading realizations from  ../maglim_3x2_goodnessoffit/ppd_3x2pt_lcdm_SR_maglim_boosted_maglim_3x2_goodnessoffit_0_dprime_theory.npy\n",
      " - data vector size = 462\n",
      " - number of realizations = 1000\n",
      "Loading realizations from  ../maglim_3x2_goodnessoffit/ppd_3x2pt_lcdm_SR_maglim_boosted_maglim_3x2_goodnessoffit_0_dprime_real.npy\n",
      " - data vector size = 462\n",
      " - number of realizations = 1000\n",
      "Loading realizations from  ../maglim_3x2_goodnessoffit/ppd_3x2pt_lcdm_SR_maglim_boosted_maglim_3x2_goodnessoffit_0_d_theory.npy\n",
      " - data vector size = 462\n",
      " - number of realizations = 1000\n",
      "\n",
      "\n",
      "###############################\n",
      "## Sampling data ##############\n",
      "###############################\n",
      "Sampling at best-fit with params\n",
      "cosmological_parameters--omega_m = 0.365\n",
      "cosmological_parameters--h0 = 0.56\n",
      "cosmological_parameters--omega_b = 0.0343\n",
      "cosmological_parameters--n_s = 1.03\n",
      "cosmological_parameters--a_s = 2.27e-09\n",
      "cosmological_parameters--omnuh2 = 0.00524\n",
      "shear_calibration_parameters--m1 = -0.00157\n",
      "shear_calibration_parameters--m2 = -0.0231\n",
      "shear_calibration_parameters--m3 = -0.0166\n",
      "shear_calibration_parameters--m4 = -0.033\n",
      "wl_photoz_errors--bias_1 = 0.0218\n",
      "wl_photoz_errors--bias_2 = -0.0158\n",
      "wl_photoz_errors--bias_3 = -0.0285\n",
      "wl_photoz_errors--bias_4 = 0.00859\n",
      "lens_photoz_errors--bias_1 = -0.00994\n",
      "lens_photoz_errors--bias_2 = -0.0286\n",
      "lens_photoz_errors--bias_3 = -0.0038\n",
      "lens_photoz_errors--bias_4 = -0.00452\n",
      "lens_photoz_errors--width_1 = 1.02\n",
      "lens_photoz_errors--width_2 = 1.14\n",
      "lens_photoz_errors--width_3 = 0.908\n",
      "lens_photoz_errors--width_4 = 0.949\n",
      "bias_lens--b1        = 1.6\n",
      "bias_lens--b2        = 1.76\n",
      "bias_lens--b3        = 1.98\n",
      "bias_lens--b4        = 1.93\n",
      "intrinsic_alignment_parameters--a1 = 0.214\n",
      "intrinsic_alignment_parameters--a2 = -0.24\n",
      "intrinsic_alignment_parameters--alpha1 = -3.93\n",
      "intrinsic_alignment_parameters--alpha2 = -0.945\n",
      "intrinsic_alignment_parameters--bias_ta = 0.00855\n",
      "\n",
      "###############################\n",
      "## Compute chi2 for d #########\n",
      "###############################\n"
     ]
    },
    {
     "data": {
      "application/vnd.jupyter.widget-view+json": {
       "model_id": "ea8c958fe28246aabd743ac250b0d5dc",
       "version_major": 2,
       "version_minor": 0
      },
      "text/plain": [
       "HBox(children=(FloatProgress(value=0.0, max=222.0), HTML(value='')))"
      ]
     },
     "metadata": {},
     "output_type": "display_data"
    },
    {
     "name": "stdout",
     "output_type": "stream",
     "text": [
      "\n",
      "\n",
      "###############################\n",
      "## Compute IS weights for d ###\n",
      "###############################\n"
     ]
    },
    {
     "data": {
      "application/vnd.jupyter.widget-view+json": {
       "model_id": "6f593992e8054a0699643032293872f7",
       "version_major": 2,
       "version_minor": 0
      },
      "text/plain": [
       "HBox(children=(FloatProgress(value=0.0, max=222.0), HTML(value='')))"
      ]
     },
     "metadata": {},
     "output_type": "display_data"
    },
    {
     "name": "stdout",
     "output_type": "stream",
     "text": [
      "\n",
      "(222000, 1000)\n",
      "Neff = 75.5 (median), 16th=32.9, 84th=226.9 (0 were nan's)\n",
      "\n",
      "###############################\n",
      "## Computing p-values #########\n",
      "###############################\n"
     ]
    },
    {
     "data": {
      "application/vnd.jupyter.widget-view+json": {
       "model_id": "cd2717e18e9e489a83c99d1d8f9c5560",
       "version_major": 2,
       "version_minor": 0
      },
      "text/plain": [
       "HBox(children=(FloatProgress(value=1.0, bar_style='info', max=1.0), HTML(value='')))"
      ]
     },
     "metadata": {},
     "output_type": "display_data"
    },
    {
     "name": "stdout",
     "output_type": "stream",
     "text": [
      "\n",
      "1x2\n",
      "2x2\n",
      "Some (4) eigenvalues are non-positive. Clipping to minimum positive one = 2.1048545862491657e-12\n",
      "Some (4) eigenvalues are non-positive. Clipping to minimum positive one = 2.1048545862491657e-12\n",
      "gammat\n",
      "Some (4) eigenvalues are non-positive. Clipping to minimum positive one = 2.1065924252365922e-12\n",
      "Some (4) eigenvalues are non-positive. Clipping to minimum positive one = 2.1065924252365922e-12\n",
      "wtheta\n",
      "xim\n",
      "xip\n",
      "\n",
      "###############################\n",
      "## Calibrated p-values ########\n",
      "###############################\n",
      "     - Full         calibrated pval=0.0210 (raw pval=0.0122)\n",
      "     - 1x2          calibrated pval=0.2030 (raw pval=0.1877)\n",
      "     - 2x2          calibrated pval=0.2090 (raw pval=0.3105)\n",
      "     - gammat       calibrated pval=0.0090 (raw pval=0.0021)\n",
      "     - wtheta       calibrated pval=0.2960 (raw pval=0.3030)\n",
      "     - xim          calibrated pval=0.3210 (raw pval=0.3470)\n",
      "     - xip          calibrated pval=0.2500 (raw pval=0.2234)\n",
      "\n",
      "###############################\n",
      "## Plotting ###################\n",
      "###############################\n",
      "\n",
      "###############################\n",
      "## Loading chains #############\n",
      "###############################\n"
     ]
    },
    {
     "data": {
      "application/vnd.jupyter.widget-view+json": {
       "model_id": "e6aa211082904b309d82fd89194ad0dd",
       "version_major": 2,
       "version_minor": 0
      },
      "text/plain": [
       "HBox(children=(FloatProgress(value=0.0, max=222.0), HTML(value='')))"
      ]
     },
     "metadata": {},
     "output_type": "display_data"
    },
    {
     "name": "stdout",
     "output_type": "stream",
     "text": [
      "Loading list chain at\n",
      "../maglim_3x2_goodnessoffit/ppd_chain_3x2pt_lcdm_SR_maglim_boosted_maglim_3x2_goodnessoffit_0.txt\n",
      "- using params\n",
      "['cosmological_parameters--omega_m', 'cosmological_parameters--h0', 'cosmological_parameters--omega_b', 'cosmological_parameters--n_s', 'cosmological_parameters--a_s', 'cosmological_parameters--omnuh2', 'cosmological_parameters--w', 'cosmological_parameters--massive_nu', 'cosmological_parameters--massless_nu', 'cosmological_parameters--omega_k', 'cosmological_parameters--tau', 'shear_calibration_parameters--m1', 'shear_calibration_parameters--m2', 'shear_calibration_parameters--m3', 'shear_calibration_parameters--m4', 'wl_photoz_errors--bias_1', 'wl_photoz_errors--bias_2', 'wl_photoz_errors--bias_3', 'wl_photoz_errors--bias_4', 'lens_photoz_errors--bias_1', 'lens_photoz_errors--bias_2', 'lens_photoz_errors--bias_3', 'lens_photoz_errors--bias_4', 'lens_photoz_errors--bias_5', 'lens_photoz_errors--width_1', 'lens_photoz_errors--width_2', 'lens_photoz_errors--width_3', 'lens_photoz_errors--width_4', 'lens_photoz_errors--width_5', 'lens_photoz_errors--bias_6', 'lens_photoz_errors--width_6', 'bias_lens--b1', 'bias_lens--b2', 'bias_lens--b3', 'bias_lens--b4', 'bias_lens--b5', 'bias_lens--b6', 'mag_alpha_lens--alpha_1', 'mag_alpha_lens--alpha_2', 'mag_alpha_lens--alpha_3', 'mag_alpha_lens--alpha_4', 'mag_alpha_lens--alpha_5', 'mag_alpha_lens--alpha_6', 'intrinsic_alignment_parameters--z_piv', 'intrinsic_alignment_parameters--a1', 'intrinsic_alignment_parameters--a2', 'intrinsic_alignment_parameters--alpha1', 'intrinsic_alignment_parameters--alpha2', 'intrinsic_alignment_parameters--bias_ta', 'COSMOLOGICAL_PARAMETERS--SIGMA_8', 'COSMOLOGICAL_PARAMETERS--SIGMA_12', 'DATA_VECTOR--2PT_CHI2', 'DATA_VECTOR--2PT_D_CHI2', 'DATA_VECTOR--2PT_DPRIME_CHI2', 'DATA_VECTOR--2PT_XIP_CHI2', 'DATA_VECTOR--2PT_XIM_CHI2', 'DATA_VECTOR--2PT_1X2_CHI2', 'DATA_VECTOR--2PT_GAMMAT_CHI2', 'DATA_VECTOR--2PT_WTHETA_CHI2', 'DATA_VECTOR--2PT_2X2_CHI2', 'PPD--CHI2_DPRIME_DATA', 'PPD--CHI2_DPRIME_REALIZATION', 'PPD--CHI2_D_DATA', 'PPD--CHI2_XIP_DATA', 'PPD--CHI2_XIP_REALIZATION', 'PPD--CHI2_XIM_DATA', 'PPD--CHI2_XIM_REALIZATION', 'PPD--CHI2_1X2_DATA', 'PPD--CHI2_1X2_REALIZATION', 'PPD--CHI2_GAMMAT_DATA', 'PPD--CHI2_GAMMAT_REALIZATION', 'PPD--CHI2_WTHETA_DATA', 'PPD--CHI2_WTHETA_REALIZATION', 'PPD--CHI2_2X2_DATA', 'PPD--CHI2_2X2_REALIZATION', 'PPD--CHI2_DPRIME_COMP_AVG', 'PPD--CHI2_XIP_COMP_AVG', 'PPD--CHI2_XIM_COMP_AVG', 'PPD--CHI2_1X2_COMP_AVG', 'PPD--CHI2_GAMMAT_COMP_AVG', 'PPD--CHI2_WTHETA_COMP_AVG', 'PPD--CHI2_2X2_COMP_AVG', 'prior', 'post']\n",
      "- using nsample =  1000\n",
      "\n",
      "Loading chain at\n",
      "../../trimmed_chains_test/chain_3x2pt_lcdm_SR_maglim_boosted.txt\n",
      "Sampler not found -- non-standard cosmosis output\n",
      "Using 222 chunks of size [1000, 1000, 1000, 1000, 1000, 1000, 1000, 1000, 1000, 1000, 1000, 1000, 1000, 1000, 1000, 1000, 1000, 1000, 1000, 1000, 1000, 1000, 1000, 1000, 1000, 1000, 1000, 1000, 1000, 1000, 1000, 1000, 1000, 1000, 1000, 1000, 1000, 1000, 1000, 1000, 1000, 1000, 1000, 1000, 1000, 1000, 1000, 1000, 1000, 1000, 1000, 1000, 1000, 1000, 1000, 1000, 1000, 1000, 1000, 1000, 1000, 1000, 1000, 1000, 1000, 1000, 1000, 1000, 1000, 1000, 1000, 1000, 1000, 1000, 1000, 1000, 1000, 1000, 1000, 1000, 1000, 1000, 1000, 1000, 1000, 1000, 1000, 1000, 1000, 1000, 1000, 1000, 1000, 1000, 1000, 1000, 1000, 1000, 1000, 1000, 1000, 1000, 1000, 1000, 1000, 1000, 1000, 1000, 1000, 1000, 1000, 1000, 1000, 1000, 1000, 1000, 1000, 1000, 1000, 1000, 1000, 1000, 1000, 1000, 1000, 1000, 1000, 1000, 1000, 1000, 1000, 1000, 1000, 1000, 1000, 1000, 1000, 1000, 1000, 1000, 1000, 1000, 1000, 1000, 1000, 1000, 1000, 1000, 1000, 1000, 1000, 1000, 1000, 1000, 1000, 1000, 1000, 1000, 1000, 1000, 1000, 1000, 1000, 1000, 1000, 1000, 1000, 1000, 1000, 1000, 1000, 1000, 1000, 1000, 1000, 1000, 1000, 1000, 1000, 1000, 1000, 1000, 1000, 1000, 1000, 1000, 1000, 1000, 1000, 1000, 1000, 1000, 1000, 1000, 1000, 1000, 1000, 1000, 1000, 1000, 1000, 1000, 1000, 1000, 1000, 1000, 1000, 1000, 1000, 1000, 1000, 1000, 1000, 1000, 1000, 1000, 1000, 1000, 1000, 1000, 1000, 1000] (1000) for a total of 222000 posterior samples\n",
      "\n",
      "###############################\n",
      "## Loading scale/bin cuts #####\n",
      "###############################\n",
      "Found observables in data_file ['xip', 'xim', 'gammat', 'wtheta']\n",
      "Reading options for likelihood module:  2pt_d_like\n",
      "Found scale cuts for  {'xip': [(1, 1), (1, 2), (1, 3), (1, 4), (2, 2), (2, 3), (2, 4), (3, 3), (3, 4), (4, 4)], 'xim': [(1, 1), (1, 2), (1, 3), (1, 4), (2, 2), (2, 3), (2, 4), (3, 3), (3, 4), (4, 4)], 'gammat': [(1, 1), (1, 2), (1, 3), (1, 4), (2, 1), (2, 2), (2, 3), (2, 4), (3, 1), (3, 2), (3, 3), (3, 4), (4, 1), (4, 2), (4, 3), (4, 4), (5, 1), (5, 2), (5, 3), (5, 4), (6, 1), (6, 2), (6, 3), (6, 4)], 'wtheta': [(1, 1), (1, 2), (1, 3), (1, 4), (1, 5), (1, 6), (2, 2), (2, 3), (2, 4), (2, 5), (2, 6), (3, 3), (3, 4), (3, 5), (3, 6), (4, 4), (4, 5), (4, 6), (5, 5), (5, 6), (6, 6)]}\n",
      "Getting indices for xip\n",
      "Getting indices for xim\n",
      "Getting indices for gammat\n",
      "Getting indices for wtheta\n",
      "\n",
      "Found observables in data_file ['xip', 'xim', 'gammat', 'wtheta']\n",
      "Reading options for likelihood module:  2pt_dprime_like\n",
      "Found scale cuts for  {'xip': [(1, 1), (1, 2), (1, 3), (1, 4), (2, 2), (2, 3), (2, 4), (3, 3), (3, 4), (4, 4)], 'xim': [(1, 1), (1, 2), (1, 3), (1, 4), (2, 2), (2, 3), (2, 4), (3, 3), (3, 4), (4, 4)], 'gammat': [(1, 1), (1, 2), (1, 3), (1, 4), (2, 1), (2, 2), (2, 3), (2, 4), (3, 1), (3, 2), (3, 3), (3, 4), (4, 1), (4, 2), (4, 3), (4, 4), (5, 1), (5, 2), (5, 3), (5, 4), (6, 1), (6, 2), (6, 3), (6, 4)], 'wtheta': [(1, 1), (1, 2), (1, 3), (1, 4), (1, 5), (1, 6), (2, 2), (2, 3), (2, 4), (2, 5), (2, 6), (3, 3), (3, 4), (3, 5), (3, 6), (4, 4), (4, 5), (4, 6), (5, 5), (5, 6), (6, 6)]}\n",
      "Getting indices for xip\n",
      "Getting indices for xim\n",
      "Getting indices for gammat\n",
      "Getting indices for wtheta\n",
      "\n",
      "Using subsets ['1x2', '2x2', 'gammat', 'wtheta', 'xim', 'xip']\n",
      "\n",
      "Using same indices for d and dprime -> conditioning turned off\n",
      "\n",
      "###############################\n",
      "## Loading realizations #######\n",
      "###############################\n"
     ]
    },
    {
     "data": {
      "application/vnd.jupyter.widget-view+json": {
       "model_id": "8d7049e539354d18bc82ab4b4c911698",
       "version_major": 2,
       "version_minor": 0
      },
      "text/plain": [
       "HBox(children=(FloatProgress(value=0.0, max=222.0), HTML(value='')))"
      ]
     },
     "metadata": {},
     "output_type": "display_data"
    },
    {
     "name": "stdout",
     "output_type": "stream",
     "text": [
      "Loading realizations from  ../maglim_3x2_goodnessoffit/ppd_3x2pt_lcdm_SR_maglim_boosted_maglim_3x2_goodnessoffit_0_dprime_theory.npy\n",
      " - data vector size = 462\n",
      " - number of realizations = 1000\n",
      "Loading realizations from  ../maglim_3x2_goodnessoffit/ppd_3x2pt_lcdm_SR_maglim_boosted_maglim_3x2_goodnessoffit_0_dprime_real.npy\n",
      " - data vector size = 462\n",
      " - number of realizations = 1000\n",
      "Loading realizations from  ../maglim_3x2_goodnessoffit/ppd_3x2pt_lcdm_SR_maglim_boosted_maglim_3x2_goodnessoffit_0_d_theory.npy\n",
      " - data vector size = 462\n",
      " - number of realizations = 1000\n",
      "\n",
      "\n",
      "###############################\n",
      "## Sampling data ##############\n",
      "###############################\n",
      "Sampling at best-fit with params\n",
      "cosmological_parameters--omega_m = 0.365\n",
      "cosmological_parameters--h0 = 0.56\n",
      "cosmological_parameters--omega_b = 0.0343\n",
      "cosmological_parameters--n_s = 1.03\n",
      "cosmological_parameters--a_s = 2.27e-09\n",
      "cosmological_parameters--omnuh2 = 0.00524\n",
      "shear_calibration_parameters--m1 = -0.00157\n",
      "shear_calibration_parameters--m2 = -0.0231\n",
      "shear_calibration_parameters--m3 = -0.0166\n",
      "shear_calibration_parameters--m4 = -0.033\n",
      "wl_photoz_errors--bias_1 = 0.0218\n",
      "wl_photoz_errors--bias_2 = -0.0158\n",
      "wl_photoz_errors--bias_3 = -0.0285\n",
      "wl_photoz_errors--bias_4 = 0.00859\n",
      "lens_photoz_errors--bias_1 = -0.00994\n",
      "lens_photoz_errors--bias_2 = -0.0286\n",
      "lens_photoz_errors--bias_3 = -0.0038\n",
      "lens_photoz_errors--bias_4 = -0.00452\n",
      "lens_photoz_errors--width_1 = 1.02\n",
      "lens_photoz_errors--width_2 = 1.14\n",
      "lens_photoz_errors--width_3 = 0.908\n",
      "lens_photoz_errors--width_4 = 0.949\n",
      "bias_lens--b1        = 1.6\n",
      "bias_lens--b2        = 1.76\n",
      "bias_lens--b3        = 1.98\n",
      "bias_lens--b4        = 1.93\n",
      "intrinsic_alignment_parameters--a1 = 0.214\n",
      "intrinsic_alignment_parameters--a2 = -0.24\n",
      "intrinsic_alignment_parameters--alpha1 = -3.93\n",
      "intrinsic_alignment_parameters--alpha2 = -0.945\n",
      "intrinsic_alignment_parameters--bias_ta = 0.00855\n",
      "\n",
      "###############################\n",
      "## Compute chi2 for d #########\n",
      "###############################\n"
     ]
    },
    {
     "data": {
      "application/vnd.jupyter.widget-view+json": {
       "model_id": "c9de78146d914bc69f42f108555c0c14",
       "version_major": 2,
       "version_minor": 0
      },
      "text/plain": [
       "HBox(children=(FloatProgress(value=0.0, max=222.0), HTML(value='')))"
      ]
     },
     "metadata": {},
     "output_type": "display_data"
    },
    {
     "name": "stdout",
     "output_type": "stream",
     "text": [
      "\n",
      "\n",
      "###############################\n",
      "## Compute IS weights for d ###\n",
      "###############################\n"
     ]
    },
    {
     "data": {
      "application/vnd.jupyter.widget-view+json": {
       "model_id": "6eb2510169ab43079cd869a3ed31aa22",
       "version_major": 2,
       "version_minor": 0
      },
      "text/plain": [
       "HBox(children=(FloatProgress(value=0.0, max=222.0), HTML(value='')))"
      ]
     },
     "metadata": {},
     "output_type": "display_data"
    },
    {
     "name": "stdout",
     "output_type": "stream",
     "text": [
      "\n",
      "(222000, 1000)\n",
      "Neff = 81.8 (median), 16th=33.4, 84th=242.8 (0 were nan's)\n",
      "\n",
      "###############################\n",
      "## Computing p-values #########\n",
      "###############################\n"
     ]
    },
    {
     "data": {
      "application/vnd.jupyter.widget-view+json": {
       "model_id": "175e27bdcbe146ee817281cfb75f0b0b",
       "version_major": 2,
       "version_minor": 0
      },
      "text/plain": [
       "HBox(children=(FloatProgress(value=1.0, bar_style='info', max=1.0), HTML(value='')))"
      ]
     },
     "metadata": {},
     "output_type": "display_data"
    },
    {
     "name": "stdout",
     "output_type": "stream",
     "text": [
      "\n",
      "1x2\n",
      "2x2\n",
      "Some (4) eigenvalues are non-positive. Clipping to minimum positive one = 2.1048545862491657e-12\n",
      "Some (4) eigenvalues are non-positive. Clipping to minimum positive one = 2.1048545862491657e-12\n",
      "gammat\n",
      "Some (4) eigenvalues are non-positive. Clipping to minimum positive one = 2.1065924252365922e-12\n",
      "Some (4) eigenvalues are non-positive. Clipping to minimum positive one = 2.1065924252365922e-12\n",
      "wtheta\n",
      "xim\n",
      "xip\n",
      "\n",
      "###############################\n",
      "## Calibrated p-values ########\n",
      "###############################\n",
      "     - Full         calibrated pval=0.0250 (raw pval=0.0122)\n",
      "     - 1x2          calibrated pval=0.2050 (raw pval=0.1877)\n",
      "     - 2x2          calibrated pval=0.2070 (raw pval=0.3105)\n",
      "     - gammat       calibrated pval=0.0120 (raw pval=0.0021)\n",
      "     - wtheta       calibrated pval=0.2930 (raw pval=0.3030)\n",
      "     - xim          calibrated pval=0.3480 (raw pval=0.3470)\n",
      "     - xip          calibrated pval=0.2470 (raw pval=0.2234)\n",
      "\n",
      "###############################\n",
      "## Plotting ###################\n",
      "###############################\n",
      "\n",
      "###############################\n",
      "## Loading chains #############\n",
      "###############################\n"
     ]
    },
    {
     "data": {
      "application/vnd.jupyter.widget-view+json": {
       "model_id": "fe86897cd785410db29e565814145541",
       "version_major": 2,
       "version_minor": 0
      },
      "text/plain": [
       "HBox(children=(FloatProgress(value=0.0, max=222.0), HTML(value='')))"
      ]
     },
     "metadata": {},
     "output_type": "display_data"
    },
    {
     "name": "stdout",
     "output_type": "stream",
     "text": [
      "Loading list chain at\n",
      "../maglim_3x2_goodnessoffit/ppd_chain_3x2pt_lcdm_SR_maglim_boosted_maglim_3x2_goodnessoffit_0.txt\n",
      "- using params\n",
      "['cosmological_parameters--omega_m', 'cosmological_parameters--h0', 'cosmological_parameters--omega_b', 'cosmological_parameters--n_s', 'cosmological_parameters--a_s', 'cosmological_parameters--omnuh2', 'cosmological_parameters--w', 'cosmological_parameters--massive_nu', 'cosmological_parameters--massless_nu', 'cosmological_parameters--omega_k', 'cosmological_parameters--tau', 'shear_calibration_parameters--m1', 'shear_calibration_parameters--m2', 'shear_calibration_parameters--m3', 'shear_calibration_parameters--m4', 'wl_photoz_errors--bias_1', 'wl_photoz_errors--bias_2', 'wl_photoz_errors--bias_3', 'wl_photoz_errors--bias_4', 'lens_photoz_errors--bias_1', 'lens_photoz_errors--bias_2', 'lens_photoz_errors--bias_3', 'lens_photoz_errors--bias_4', 'lens_photoz_errors--bias_5', 'lens_photoz_errors--width_1', 'lens_photoz_errors--width_2', 'lens_photoz_errors--width_3', 'lens_photoz_errors--width_4', 'lens_photoz_errors--width_5', 'lens_photoz_errors--bias_6', 'lens_photoz_errors--width_6', 'bias_lens--b1', 'bias_lens--b2', 'bias_lens--b3', 'bias_lens--b4', 'bias_lens--b5', 'bias_lens--b6', 'mag_alpha_lens--alpha_1', 'mag_alpha_lens--alpha_2', 'mag_alpha_lens--alpha_3', 'mag_alpha_lens--alpha_4', 'mag_alpha_lens--alpha_5', 'mag_alpha_lens--alpha_6', 'intrinsic_alignment_parameters--z_piv', 'intrinsic_alignment_parameters--a1', 'intrinsic_alignment_parameters--a2', 'intrinsic_alignment_parameters--alpha1', 'intrinsic_alignment_parameters--alpha2', 'intrinsic_alignment_parameters--bias_ta', 'COSMOLOGICAL_PARAMETERS--SIGMA_8', 'COSMOLOGICAL_PARAMETERS--SIGMA_12', 'DATA_VECTOR--2PT_CHI2', 'DATA_VECTOR--2PT_D_CHI2', 'DATA_VECTOR--2PT_DPRIME_CHI2', 'DATA_VECTOR--2PT_XIP_CHI2', 'DATA_VECTOR--2PT_XIM_CHI2', 'DATA_VECTOR--2PT_1X2_CHI2', 'DATA_VECTOR--2PT_GAMMAT_CHI2', 'DATA_VECTOR--2PT_WTHETA_CHI2', 'DATA_VECTOR--2PT_2X2_CHI2', 'PPD--CHI2_DPRIME_DATA', 'PPD--CHI2_DPRIME_REALIZATION', 'PPD--CHI2_D_DATA', 'PPD--CHI2_XIP_DATA', 'PPD--CHI2_XIP_REALIZATION', 'PPD--CHI2_XIM_DATA', 'PPD--CHI2_XIM_REALIZATION', 'PPD--CHI2_1X2_DATA', 'PPD--CHI2_1X2_REALIZATION', 'PPD--CHI2_GAMMAT_DATA', 'PPD--CHI2_GAMMAT_REALIZATION', 'PPD--CHI2_WTHETA_DATA', 'PPD--CHI2_WTHETA_REALIZATION', 'PPD--CHI2_2X2_DATA', 'PPD--CHI2_2X2_REALIZATION', 'PPD--CHI2_DPRIME_COMP_AVG', 'PPD--CHI2_XIP_COMP_AVG', 'PPD--CHI2_XIM_COMP_AVG', 'PPD--CHI2_1X2_COMP_AVG', 'PPD--CHI2_GAMMAT_COMP_AVG', 'PPD--CHI2_WTHETA_COMP_AVG', 'PPD--CHI2_2X2_COMP_AVG', 'prior', 'post']\n",
      "- using nsample =  1000\n",
      "\n",
      "Loading chain at\n",
      "../../trimmed_chains_test/chain_3x2pt_lcdm_SR_maglim_boosted.txt\n",
      "Sampler not found -- non-standard cosmosis output\n",
      "Using 222 chunks of size [1000, 1000, 1000, 1000, 1000, 1000, 1000, 1000, 1000, 1000, 1000, 1000, 1000, 1000, 1000, 1000, 1000, 1000, 1000, 1000, 1000, 1000, 1000, 1000, 1000, 1000, 1000, 1000, 1000, 1000, 1000, 1000, 1000, 1000, 1000, 1000, 1000, 1000, 1000, 1000, 1000, 1000, 1000, 1000, 1000, 1000, 1000, 1000, 1000, 1000, 1000, 1000, 1000, 1000, 1000, 1000, 1000, 1000, 1000, 1000, 1000, 1000, 1000, 1000, 1000, 1000, 1000, 1000, 1000, 1000, 1000, 1000, 1000, 1000, 1000, 1000, 1000, 1000, 1000, 1000, 1000, 1000, 1000, 1000, 1000, 1000, 1000, 1000, 1000, 1000, 1000, 1000, 1000, 1000, 1000, 1000, 1000, 1000, 1000, 1000, 1000, 1000, 1000, 1000, 1000, 1000, 1000, 1000, 1000, 1000, 1000, 1000, 1000, 1000, 1000, 1000, 1000, 1000, 1000, 1000, 1000, 1000, 1000, 1000, 1000, 1000, 1000, 1000, 1000, 1000, 1000, 1000, 1000, 1000, 1000, 1000, 1000, 1000, 1000, 1000, 1000, 1000, 1000, 1000, 1000, 1000, 1000, 1000, 1000, 1000, 1000, 1000, 1000, 1000, 1000, 1000, 1000, 1000, 1000, 1000, 1000, 1000, 1000, 1000, 1000, 1000, 1000, 1000, 1000, 1000, 1000, 1000, 1000, 1000, 1000, 1000, 1000, 1000, 1000, 1000, 1000, 1000, 1000, 1000, 1000, 1000, 1000, 1000, 1000, 1000, 1000, 1000, 1000, 1000, 1000, 1000, 1000, 1000, 1000, 1000, 1000, 1000, 1000, 1000, 1000, 1000, 1000, 1000, 1000, 1000, 1000, 1000, 1000, 1000, 1000, 1000, 1000, 1000, 1000, 1000, 1000, 1000] (1000) for a total of 222000 posterior samples\n",
      "\n",
      "###############################\n",
      "## Loading scale/bin cuts #####\n",
      "###############################\n",
      "Found observables in data_file ['xip', 'xim', 'gammat', 'wtheta']\n",
      "Reading options for likelihood module:  2pt_d_like\n",
      "Found scale cuts for  {'xip': [(1, 1), (1, 2), (1, 3), (1, 4), (2, 2), (2, 3), (2, 4), (3, 3), (3, 4), (4, 4)], 'xim': [(1, 1), (1, 2), (1, 3), (1, 4), (2, 2), (2, 3), (2, 4), (3, 3), (3, 4), (4, 4)], 'gammat': [(1, 1), (1, 2), (1, 3), (1, 4), (2, 1), (2, 2), (2, 3), (2, 4), (3, 1), (3, 2), (3, 3), (3, 4), (4, 1), (4, 2), (4, 3), (4, 4), (5, 1), (5, 2), (5, 3), (5, 4), (6, 1), (6, 2), (6, 3), (6, 4)], 'wtheta': [(1, 1), (1, 2), (1, 3), (1, 4), (1, 5), (1, 6), (2, 2), (2, 3), (2, 4), (2, 5), (2, 6), (3, 3), (3, 4), (3, 5), (3, 6), (4, 4), (4, 5), (4, 6), (5, 5), (5, 6), (6, 6)]}\n",
      "Getting indices for xip\n",
      "Getting indices for xim\n",
      "Getting indices for gammat\n",
      "Getting indices for wtheta\n",
      "\n",
      "Found observables in data_file ['xip', 'xim', 'gammat', 'wtheta']\n",
      "Reading options for likelihood module:  2pt_dprime_like\n",
      "Found scale cuts for  {'xip': [(1, 1), (1, 2), (1, 3), (1, 4), (2, 2), (2, 3), (2, 4), (3, 3), (3, 4), (4, 4)], 'xim': [(1, 1), (1, 2), (1, 3), (1, 4), (2, 2), (2, 3), (2, 4), (3, 3), (3, 4), (4, 4)], 'gammat': [(1, 1), (1, 2), (1, 3), (1, 4), (2, 1), (2, 2), (2, 3), (2, 4), (3, 1), (3, 2), (3, 3), (3, 4), (4, 1), (4, 2), (4, 3), (4, 4), (5, 1), (5, 2), (5, 3), (5, 4), (6, 1), (6, 2), (6, 3), (6, 4)], 'wtheta': [(1, 1), (1, 2), (1, 3), (1, 4), (1, 5), (1, 6), (2, 2), (2, 3), (2, 4), (2, 5), (2, 6), (3, 3), (3, 4), (3, 5), (3, 6), (4, 4), (4, 5), (4, 6), (5, 5), (5, 6), (6, 6)]}\n",
      "Getting indices for xip\n",
      "Getting indices for xim\n",
      "Getting indices for gammat\n",
      "Getting indices for wtheta\n",
      "\n",
      "Using subsets ['1x2', '2x2', 'gammat', 'wtheta', 'xim', 'xip']\n",
      "\n",
      "Using same indices for d and dprime -> conditioning turned off\n",
      "\n",
      "###############################\n",
      "## Loading realizations #######\n",
      "###############################\n"
     ]
    },
    {
     "data": {
      "application/vnd.jupyter.widget-view+json": {
       "model_id": "c60895b6786e47db82ce96acea41cea1",
       "version_major": 2,
       "version_minor": 0
      },
      "text/plain": [
       "HBox(children=(FloatProgress(value=0.0, max=222.0), HTML(value='')))"
      ]
     },
     "metadata": {},
     "output_type": "display_data"
    },
    {
     "name": "stdout",
     "output_type": "stream",
     "text": [
      "Loading realizations from  ../maglim_3x2_goodnessoffit/ppd_3x2pt_lcdm_SR_maglim_boosted_maglim_3x2_goodnessoffit_0_dprime_theory.npy\n",
      " - data vector size = 462\n",
      " - number of realizations = 1000\n",
      "Loading realizations from  ../maglim_3x2_goodnessoffit/ppd_3x2pt_lcdm_SR_maglim_boosted_maglim_3x2_goodnessoffit_0_dprime_real.npy\n",
      " - data vector size = 462\n",
      " - number of realizations = 1000\n",
      "Loading realizations from  ../maglim_3x2_goodnessoffit/ppd_3x2pt_lcdm_SR_maglim_boosted_maglim_3x2_goodnessoffit_0_d_theory.npy\n",
      " - data vector size = 462\n",
      " - number of realizations = 1000\n",
      "\n",
      "\n",
      "###############################\n",
      "## Sampling data ##############\n",
      "###############################\n",
      "Sampling at best-fit with params\n",
      "cosmological_parameters--omega_m = 0.365\n",
      "cosmological_parameters--h0 = 0.56\n",
      "cosmological_parameters--omega_b = 0.0343\n",
      "cosmological_parameters--n_s = 1.03\n",
      "cosmological_parameters--a_s = 2.27e-09\n",
      "cosmological_parameters--omnuh2 = 0.00524\n",
      "shear_calibration_parameters--m1 = -0.00157\n",
      "shear_calibration_parameters--m2 = -0.0231\n",
      "shear_calibration_parameters--m3 = -0.0166\n",
      "shear_calibration_parameters--m4 = -0.033\n",
      "wl_photoz_errors--bias_1 = 0.0218\n",
      "wl_photoz_errors--bias_2 = -0.0158\n",
      "wl_photoz_errors--bias_3 = -0.0285\n",
      "wl_photoz_errors--bias_4 = 0.00859\n",
      "lens_photoz_errors--bias_1 = -0.00994\n",
      "lens_photoz_errors--bias_2 = -0.0286\n",
      "lens_photoz_errors--bias_3 = -0.0038\n",
      "lens_photoz_errors--bias_4 = -0.00452\n",
      "lens_photoz_errors--width_1 = 1.02\n",
      "lens_photoz_errors--width_2 = 1.14\n",
      "lens_photoz_errors--width_3 = 0.908\n",
      "lens_photoz_errors--width_4 = 0.949\n",
      "bias_lens--b1        = 1.6\n",
      "bias_lens--b2        = 1.76\n",
      "bias_lens--b3        = 1.98\n",
      "bias_lens--b4        = 1.93\n",
      "intrinsic_alignment_parameters--a1 = 0.214\n",
      "intrinsic_alignment_parameters--a2 = -0.24\n",
      "intrinsic_alignment_parameters--alpha1 = -3.93\n",
      "intrinsic_alignment_parameters--alpha2 = -0.945\n",
      "intrinsic_alignment_parameters--bias_ta = 0.00855\n",
      "\n",
      "###############################\n",
      "## Compute chi2 for d #########\n",
      "###############################\n"
     ]
    },
    {
     "data": {
      "application/vnd.jupyter.widget-view+json": {
       "model_id": "5a02cf04928c46638d1a0ecdd3b8dcc0",
       "version_major": 2,
       "version_minor": 0
      },
      "text/plain": [
       "HBox(children=(FloatProgress(value=0.0, max=222.0), HTML(value='')))"
      ]
     },
     "metadata": {},
     "output_type": "display_data"
    },
    {
     "name": "stdout",
     "output_type": "stream",
     "text": [
      "\n",
      "\n",
      "###############################\n",
      "## Compute IS weights for d ###\n",
      "###############################\n"
     ]
    },
    {
     "data": {
      "application/vnd.jupyter.widget-view+json": {
       "model_id": "be2c6838240e475087d07cf430ee3a80",
       "version_major": 2,
       "version_minor": 0
      },
      "text/plain": [
       "HBox(children=(FloatProgress(value=0.0, max=222.0), HTML(value='')))"
      ]
     },
     "metadata": {},
     "output_type": "display_data"
    },
    {
     "name": "stdout",
     "output_type": "stream",
     "text": [
      "\n",
      "(222000, 1000)\n",
      "Neff = 78.3 (median), 16th=31.5, 84th=257.7 (0 were nan's)\n",
      "\n",
      "###############################\n",
      "## Computing p-values #########\n",
      "###############################\n"
     ]
    },
    {
     "data": {
      "application/vnd.jupyter.widget-view+json": {
       "model_id": "1907d4b1111f453886d3094847b78704",
       "version_major": 2,
       "version_minor": 0
      },
      "text/plain": [
       "HBox(children=(FloatProgress(value=1.0, bar_style='info', max=1.0), HTML(value='')))"
      ]
     },
     "metadata": {},
     "output_type": "display_data"
    },
    {
     "name": "stdout",
     "output_type": "stream",
     "text": [
      "\n",
      "1x2\n",
      "2x2\n",
      "Some (4) eigenvalues are non-positive. Clipping to minimum positive one = 2.1048545862491657e-12\n",
      "Some (4) eigenvalues are non-positive. Clipping to minimum positive one = 2.1048545862491657e-12\n",
      "gammat\n",
      "Some (4) eigenvalues are non-positive. Clipping to minimum positive one = 2.1065924252365922e-12\n",
      "Some (4) eigenvalues are non-positive. Clipping to minimum positive one = 2.1065924252365922e-12\n",
      "wtheta\n",
      "xim\n",
      "xip\n",
      "\n",
      "###############################\n",
      "## Calibrated p-values ########\n",
      "###############################\n",
      "     - Full         calibrated pval=0.0210 (raw pval=0.0122)\n",
      "     - 1x2          calibrated pval=0.2180 (raw pval=0.1877)\n",
      "     - 2x2          calibrated pval=0.2170 (raw pval=0.3105)\n",
      "     - gammat       calibrated pval=0.0060 (raw pval=0.0021)\n",
      "     - wtheta       calibrated pval=0.3160 (raw pval=0.3030)\n",
      "     - xim          calibrated pval=0.3690 (raw pval=0.3470)\n",
      "     - xip          calibrated pval=0.2330 (raw pval=0.2234)\n",
      "\n",
      "###############################\n",
      "## Plotting ###################\n",
      "###############################\n",
      "\n",
      "###############################\n",
      "## Loading chains #############\n",
      "###############################\n"
     ]
    },
    {
     "data": {
      "application/vnd.jupyter.widget-view+json": {
       "model_id": "4a14dca914a44c9c857eecb94913d278",
       "version_major": 2,
       "version_minor": 0
      },
      "text/plain": [
       "HBox(children=(FloatProgress(value=0.0, max=222.0), HTML(value='')))"
      ]
     },
     "metadata": {},
     "output_type": "display_data"
    },
    {
     "name": "stdout",
     "output_type": "stream",
     "text": [
      "Loading list chain at\n",
      "../maglim_3x2_goodnessoffit/ppd_chain_3x2pt_lcdm_SR_maglim_boosted_maglim_3x2_goodnessoffit_0.txt\n",
      "- using params\n",
      "['cosmological_parameters--omega_m', 'cosmological_parameters--h0', 'cosmological_parameters--omega_b', 'cosmological_parameters--n_s', 'cosmological_parameters--a_s', 'cosmological_parameters--omnuh2', 'cosmological_parameters--w', 'cosmological_parameters--massive_nu', 'cosmological_parameters--massless_nu', 'cosmological_parameters--omega_k', 'cosmological_parameters--tau', 'shear_calibration_parameters--m1', 'shear_calibration_parameters--m2', 'shear_calibration_parameters--m3', 'shear_calibration_parameters--m4', 'wl_photoz_errors--bias_1', 'wl_photoz_errors--bias_2', 'wl_photoz_errors--bias_3', 'wl_photoz_errors--bias_4', 'lens_photoz_errors--bias_1', 'lens_photoz_errors--bias_2', 'lens_photoz_errors--bias_3', 'lens_photoz_errors--bias_4', 'lens_photoz_errors--bias_5', 'lens_photoz_errors--width_1', 'lens_photoz_errors--width_2', 'lens_photoz_errors--width_3', 'lens_photoz_errors--width_4', 'lens_photoz_errors--width_5', 'lens_photoz_errors--bias_6', 'lens_photoz_errors--width_6', 'bias_lens--b1', 'bias_lens--b2', 'bias_lens--b3', 'bias_lens--b4', 'bias_lens--b5', 'bias_lens--b6', 'mag_alpha_lens--alpha_1', 'mag_alpha_lens--alpha_2', 'mag_alpha_lens--alpha_3', 'mag_alpha_lens--alpha_4', 'mag_alpha_lens--alpha_5', 'mag_alpha_lens--alpha_6', 'intrinsic_alignment_parameters--z_piv', 'intrinsic_alignment_parameters--a1', 'intrinsic_alignment_parameters--a2', 'intrinsic_alignment_parameters--alpha1', 'intrinsic_alignment_parameters--alpha2', 'intrinsic_alignment_parameters--bias_ta', 'COSMOLOGICAL_PARAMETERS--SIGMA_8', 'COSMOLOGICAL_PARAMETERS--SIGMA_12', 'DATA_VECTOR--2PT_CHI2', 'DATA_VECTOR--2PT_D_CHI2', 'DATA_VECTOR--2PT_DPRIME_CHI2', 'DATA_VECTOR--2PT_XIP_CHI2', 'DATA_VECTOR--2PT_XIM_CHI2', 'DATA_VECTOR--2PT_1X2_CHI2', 'DATA_VECTOR--2PT_GAMMAT_CHI2', 'DATA_VECTOR--2PT_WTHETA_CHI2', 'DATA_VECTOR--2PT_2X2_CHI2', 'PPD--CHI2_DPRIME_DATA', 'PPD--CHI2_DPRIME_REALIZATION', 'PPD--CHI2_D_DATA', 'PPD--CHI2_XIP_DATA', 'PPD--CHI2_XIP_REALIZATION', 'PPD--CHI2_XIM_DATA', 'PPD--CHI2_XIM_REALIZATION', 'PPD--CHI2_1X2_DATA', 'PPD--CHI2_1X2_REALIZATION', 'PPD--CHI2_GAMMAT_DATA', 'PPD--CHI2_GAMMAT_REALIZATION', 'PPD--CHI2_WTHETA_DATA', 'PPD--CHI2_WTHETA_REALIZATION', 'PPD--CHI2_2X2_DATA', 'PPD--CHI2_2X2_REALIZATION', 'PPD--CHI2_DPRIME_COMP_AVG', 'PPD--CHI2_XIP_COMP_AVG', 'PPD--CHI2_XIM_COMP_AVG', 'PPD--CHI2_1X2_COMP_AVG', 'PPD--CHI2_GAMMAT_COMP_AVG', 'PPD--CHI2_WTHETA_COMP_AVG', 'PPD--CHI2_2X2_COMP_AVG', 'prior', 'post']\n",
      "- using nsample =  1000\n",
      "\n",
      "Loading chain at\n",
      "../../trimmed_chains_test/chain_3x2pt_lcdm_SR_maglim_boosted.txt\n",
      "Sampler not found -- non-standard cosmosis output\n",
      "Using 222 chunks of size [1000, 1000, 1000, 1000, 1000, 1000, 1000, 1000, 1000, 1000, 1000, 1000, 1000, 1000, 1000, 1000, 1000, 1000, 1000, 1000, 1000, 1000, 1000, 1000, 1000, 1000, 1000, 1000, 1000, 1000, 1000, 1000, 1000, 1000, 1000, 1000, 1000, 1000, 1000, 1000, 1000, 1000, 1000, 1000, 1000, 1000, 1000, 1000, 1000, 1000, 1000, 1000, 1000, 1000, 1000, 1000, 1000, 1000, 1000, 1000, 1000, 1000, 1000, 1000, 1000, 1000, 1000, 1000, 1000, 1000, 1000, 1000, 1000, 1000, 1000, 1000, 1000, 1000, 1000, 1000, 1000, 1000, 1000, 1000, 1000, 1000, 1000, 1000, 1000, 1000, 1000, 1000, 1000, 1000, 1000, 1000, 1000, 1000, 1000, 1000, 1000, 1000, 1000, 1000, 1000, 1000, 1000, 1000, 1000, 1000, 1000, 1000, 1000, 1000, 1000, 1000, 1000, 1000, 1000, 1000, 1000, 1000, 1000, 1000, 1000, 1000, 1000, 1000, 1000, 1000, 1000, 1000, 1000, 1000, 1000, 1000, 1000, 1000, 1000, 1000, 1000, 1000, 1000, 1000, 1000, 1000, 1000, 1000, 1000, 1000, 1000, 1000, 1000, 1000, 1000, 1000, 1000, 1000, 1000, 1000, 1000, 1000, 1000, 1000, 1000, 1000, 1000, 1000, 1000, 1000, 1000, 1000, 1000, 1000, 1000, 1000, 1000, 1000, 1000, 1000, 1000, 1000, 1000, 1000, 1000, 1000, 1000, 1000, 1000, 1000, 1000, 1000, 1000, 1000, 1000, 1000, 1000, 1000, 1000, 1000, 1000, 1000, 1000, 1000, 1000, 1000, 1000, 1000, 1000, 1000, 1000, 1000, 1000, 1000, 1000, 1000, 1000, 1000, 1000, 1000, 1000, 1000] (1000) for a total of 222000 posterior samples\n",
      "\n",
      "###############################\n",
      "## Loading scale/bin cuts #####\n",
      "###############################\n",
      "Found observables in data_file ['xip', 'xim', 'gammat', 'wtheta']\n",
      "Reading options for likelihood module:  2pt_d_like\n",
      "Found scale cuts for  {'xip': [(1, 1), (1, 2), (1, 3), (1, 4), (2, 2), (2, 3), (2, 4), (3, 3), (3, 4), (4, 4)], 'xim': [(1, 1), (1, 2), (1, 3), (1, 4), (2, 2), (2, 3), (2, 4), (3, 3), (3, 4), (4, 4)], 'gammat': [(1, 1), (1, 2), (1, 3), (1, 4), (2, 1), (2, 2), (2, 3), (2, 4), (3, 1), (3, 2), (3, 3), (3, 4), (4, 1), (4, 2), (4, 3), (4, 4), (5, 1), (5, 2), (5, 3), (5, 4), (6, 1), (6, 2), (6, 3), (6, 4)], 'wtheta': [(1, 1), (1, 2), (1, 3), (1, 4), (1, 5), (1, 6), (2, 2), (2, 3), (2, 4), (2, 5), (2, 6), (3, 3), (3, 4), (3, 5), (3, 6), (4, 4), (4, 5), (4, 6), (5, 5), (5, 6), (6, 6)]}\n",
      "Getting indices for xip\n",
      "Getting indices for xim\n",
      "Getting indices for gammat\n",
      "Getting indices for wtheta\n",
      "\n",
      "Found observables in data_file ['xip', 'xim', 'gammat', 'wtheta']\n",
      "Reading options for likelihood module:  2pt_dprime_like\n",
      "Found scale cuts for  {'xip': [(1, 1), (1, 2), (1, 3), (1, 4), (2, 2), (2, 3), (2, 4), (3, 3), (3, 4), (4, 4)], 'xim': [(1, 1), (1, 2), (1, 3), (1, 4), (2, 2), (2, 3), (2, 4), (3, 3), (3, 4), (4, 4)], 'gammat': [(1, 1), (1, 2), (1, 3), (1, 4), (2, 1), (2, 2), (2, 3), (2, 4), (3, 1), (3, 2), (3, 3), (3, 4), (4, 1), (4, 2), (4, 3), (4, 4), (5, 1), (5, 2), (5, 3), (5, 4), (6, 1), (6, 2), (6, 3), (6, 4)], 'wtheta': [(1, 1), (1, 2), (1, 3), (1, 4), (1, 5), (1, 6), (2, 2), (2, 3), (2, 4), (2, 5), (2, 6), (3, 3), (3, 4), (3, 5), (3, 6), (4, 4), (4, 5), (4, 6), (5, 5), (5, 6), (6, 6)]}\n",
      "Getting indices for xip\n",
      "Getting indices for xim\n",
      "Getting indices for gammat\n",
      "Getting indices for wtheta\n",
      "\n",
      "Using subsets ['1x2', '2x2', 'gammat', 'wtheta', 'xim', 'xip']\n",
      "\n",
      "Using same indices for d and dprime -> conditioning turned off\n",
      "\n",
      "###############################\n",
      "## Loading realizations #######\n",
      "###############################\n"
     ]
    },
    {
     "data": {
      "application/vnd.jupyter.widget-view+json": {
       "model_id": "f7f236dd2f934be3a94c6aa26151d023",
       "version_major": 2,
       "version_minor": 0
      },
      "text/plain": [
       "HBox(children=(FloatProgress(value=0.0, max=222.0), HTML(value='')))"
      ]
     },
     "metadata": {},
     "output_type": "display_data"
    },
    {
     "name": "stdout",
     "output_type": "stream",
     "text": [
      "Loading realizations from  ../maglim_3x2_goodnessoffit/ppd_3x2pt_lcdm_SR_maglim_boosted_maglim_3x2_goodnessoffit_0_dprime_theory.npy\n",
      " - data vector size = 462\n",
      " - number of realizations = 1000\n",
      "Loading realizations from  ../maglim_3x2_goodnessoffit/ppd_3x2pt_lcdm_SR_maglim_boosted_maglim_3x2_goodnessoffit_0_dprime_real.npy\n",
      " - data vector size = 462\n",
      " - number of realizations = 1000\n",
      "Loading realizations from  ../maglim_3x2_goodnessoffit/ppd_3x2pt_lcdm_SR_maglim_boosted_maglim_3x2_goodnessoffit_0_d_theory.npy\n",
      " - data vector size = 462\n",
      " - number of realizations = 1000\n",
      "\n",
      "\n",
      "###############################\n",
      "## Sampling data ##############\n",
      "###############################\n",
      "Sampling at best-fit with params\n",
      "cosmological_parameters--omega_m = 0.365\n",
      "cosmological_parameters--h0 = 0.56\n",
      "cosmological_parameters--omega_b = 0.0343\n",
      "cosmological_parameters--n_s = 1.03\n",
      "cosmological_parameters--a_s = 2.27e-09\n",
      "cosmological_parameters--omnuh2 = 0.00524\n",
      "shear_calibration_parameters--m1 = -0.00157\n",
      "shear_calibration_parameters--m2 = -0.0231\n",
      "shear_calibration_parameters--m3 = -0.0166\n",
      "shear_calibration_parameters--m4 = -0.033\n",
      "wl_photoz_errors--bias_1 = 0.0218\n",
      "wl_photoz_errors--bias_2 = -0.0158\n",
      "wl_photoz_errors--bias_3 = -0.0285\n",
      "wl_photoz_errors--bias_4 = 0.00859\n",
      "lens_photoz_errors--bias_1 = -0.00994\n",
      "lens_photoz_errors--bias_2 = -0.0286\n",
      "lens_photoz_errors--bias_3 = -0.0038\n",
      "lens_photoz_errors--bias_4 = -0.00452\n",
      "lens_photoz_errors--width_1 = 1.02\n",
      "lens_photoz_errors--width_2 = 1.14\n",
      "lens_photoz_errors--width_3 = 0.908\n",
      "lens_photoz_errors--width_4 = 0.949\n",
      "bias_lens--b1        = 1.6\n",
      "bias_lens--b2        = 1.76\n",
      "bias_lens--b3        = 1.98\n",
      "bias_lens--b4        = 1.93\n",
      "intrinsic_alignment_parameters--a1 = 0.214\n",
      "intrinsic_alignment_parameters--a2 = -0.24\n",
      "intrinsic_alignment_parameters--alpha1 = -3.93\n",
      "intrinsic_alignment_parameters--alpha2 = -0.945\n",
      "intrinsic_alignment_parameters--bias_ta = 0.00855\n",
      "\n",
      "###############################\n",
      "## Compute chi2 for d #########\n",
      "###############################\n"
     ]
    },
    {
     "data": {
      "application/vnd.jupyter.widget-view+json": {
       "model_id": "8906c0f87ab64e0b872f0d47b0e5eb47",
       "version_major": 2,
       "version_minor": 0
      },
      "text/plain": [
       "HBox(children=(FloatProgress(value=0.0, max=222.0), HTML(value='')))"
      ]
     },
     "metadata": {},
     "output_type": "display_data"
    },
    {
     "name": "stdout",
     "output_type": "stream",
     "text": [
      "\n",
      "\n",
      "###############################\n",
      "## Compute IS weights for d ###\n",
      "###############################\n"
     ]
    },
    {
     "data": {
      "application/vnd.jupyter.widget-view+json": {
       "model_id": "aee5106e43b8438da7de575c9872f2c5",
       "version_major": 2,
       "version_minor": 0
      },
      "text/plain": [
       "HBox(children=(FloatProgress(value=0.0, max=222.0), HTML(value='')))"
      ]
     },
     "metadata": {},
     "output_type": "display_data"
    },
    {
     "name": "stdout",
     "output_type": "stream",
     "text": [
      "\n",
      "(222000, 1000)\n",
      "Neff = 76.0 (median), 16th=29.7, 84th=244.6 (0 were nan's)\n",
      "\n",
      "###############################\n",
      "## Computing p-values #########\n",
      "###############################\n"
     ]
    },
    {
     "data": {
      "application/vnd.jupyter.widget-view+json": {
       "model_id": "0309e9442dc14db4b1dd41e72d7fe3dc",
       "version_major": 2,
       "version_minor": 0
      },
      "text/plain": [
       "HBox(children=(FloatProgress(value=1.0, bar_style='info', max=1.0), HTML(value='')))"
      ]
     },
     "metadata": {},
     "output_type": "display_data"
    },
    {
     "name": "stdout",
     "output_type": "stream",
     "text": [
      "\n",
      "1x2\n",
      "2x2\n",
      "Some (4) eigenvalues are non-positive. Clipping to minimum positive one = 2.1048545862491657e-12\n",
      "Some (4) eigenvalues are non-positive. Clipping to minimum positive one = 2.1048545862491657e-12\n",
      "gammat\n",
      "Some (4) eigenvalues are non-positive. Clipping to minimum positive one = 2.1065924252365922e-12\n",
      "Some (4) eigenvalues are non-positive. Clipping to minimum positive one = 2.1065924252365922e-12\n",
      "wtheta\n",
      "xim\n",
      "xip\n",
      "\n",
      "###############################\n",
      "## Calibrated p-values ########\n",
      "###############################\n",
      "     - Full         calibrated pval=0.0280 (raw pval=0.0122)\n",
      "     - 1x2          calibrated pval=0.2000 (raw pval=0.1877)\n",
      "     - 2x2          calibrated pval=0.2300 (raw pval=0.3105)\n",
      "     - gammat       calibrated pval=0.0030 (raw pval=0.0021)\n",
      "     - wtheta       calibrated pval=0.3080 (raw pval=0.3030)\n",
      "     - xim          calibrated pval=0.3500 (raw pval=0.3470)\n",
      "     - xip          calibrated pval=0.2490 (raw pval=0.2234)\n",
      "\n",
      "###############################\n",
      "## Plotting ###################\n",
      "###############################\n",
      "\n",
      "###############################\n",
      "## Loading chains #############\n",
      "###############################\n"
     ]
    },
    {
     "data": {
      "application/vnd.jupyter.widget-view+json": {
       "model_id": "876fa63345e14b1580a21e10560c61f5",
       "version_major": 2,
       "version_minor": 0
      },
      "text/plain": [
       "HBox(children=(FloatProgress(value=0.0, max=222.0), HTML(value='')))"
      ]
     },
     "metadata": {},
     "output_type": "display_data"
    },
    {
     "name": "stdout",
     "output_type": "stream",
     "text": [
      "Loading list chain at\n",
      "../maglim_3x2_goodnessoffit/ppd_chain_3x2pt_lcdm_SR_maglim_boosted_maglim_3x2_goodnessoffit_0.txt\n",
      "- using params\n",
      "['cosmological_parameters--omega_m', 'cosmological_parameters--h0', 'cosmological_parameters--omega_b', 'cosmological_parameters--n_s', 'cosmological_parameters--a_s', 'cosmological_parameters--omnuh2', 'cosmological_parameters--w', 'cosmological_parameters--massive_nu', 'cosmological_parameters--massless_nu', 'cosmological_parameters--omega_k', 'cosmological_parameters--tau', 'shear_calibration_parameters--m1', 'shear_calibration_parameters--m2', 'shear_calibration_parameters--m3', 'shear_calibration_parameters--m4', 'wl_photoz_errors--bias_1', 'wl_photoz_errors--bias_2', 'wl_photoz_errors--bias_3', 'wl_photoz_errors--bias_4', 'lens_photoz_errors--bias_1', 'lens_photoz_errors--bias_2', 'lens_photoz_errors--bias_3', 'lens_photoz_errors--bias_4', 'lens_photoz_errors--bias_5', 'lens_photoz_errors--width_1', 'lens_photoz_errors--width_2', 'lens_photoz_errors--width_3', 'lens_photoz_errors--width_4', 'lens_photoz_errors--width_5', 'lens_photoz_errors--bias_6', 'lens_photoz_errors--width_6', 'bias_lens--b1', 'bias_lens--b2', 'bias_lens--b3', 'bias_lens--b4', 'bias_lens--b5', 'bias_lens--b6', 'mag_alpha_lens--alpha_1', 'mag_alpha_lens--alpha_2', 'mag_alpha_lens--alpha_3', 'mag_alpha_lens--alpha_4', 'mag_alpha_lens--alpha_5', 'mag_alpha_lens--alpha_6', 'intrinsic_alignment_parameters--z_piv', 'intrinsic_alignment_parameters--a1', 'intrinsic_alignment_parameters--a2', 'intrinsic_alignment_parameters--alpha1', 'intrinsic_alignment_parameters--alpha2', 'intrinsic_alignment_parameters--bias_ta', 'COSMOLOGICAL_PARAMETERS--SIGMA_8', 'COSMOLOGICAL_PARAMETERS--SIGMA_12', 'DATA_VECTOR--2PT_CHI2', 'DATA_VECTOR--2PT_D_CHI2', 'DATA_VECTOR--2PT_DPRIME_CHI2', 'DATA_VECTOR--2PT_XIP_CHI2', 'DATA_VECTOR--2PT_XIM_CHI2', 'DATA_VECTOR--2PT_1X2_CHI2', 'DATA_VECTOR--2PT_GAMMAT_CHI2', 'DATA_VECTOR--2PT_WTHETA_CHI2', 'DATA_VECTOR--2PT_2X2_CHI2', 'PPD--CHI2_DPRIME_DATA', 'PPD--CHI2_DPRIME_REALIZATION', 'PPD--CHI2_D_DATA', 'PPD--CHI2_XIP_DATA', 'PPD--CHI2_XIP_REALIZATION', 'PPD--CHI2_XIM_DATA', 'PPD--CHI2_XIM_REALIZATION', 'PPD--CHI2_1X2_DATA', 'PPD--CHI2_1X2_REALIZATION', 'PPD--CHI2_GAMMAT_DATA', 'PPD--CHI2_GAMMAT_REALIZATION', 'PPD--CHI2_WTHETA_DATA', 'PPD--CHI2_WTHETA_REALIZATION', 'PPD--CHI2_2X2_DATA', 'PPD--CHI2_2X2_REALIZATION', 'PPD--CHI2_DPRIME_COMP_AVG', 'PPD--CHI2_XIP_COMP_AVG', 'PPD--CHI2_XIM_COMP_AVG', 'PPD--CHI2_1X2_COMP_AVG', 'PPD--CHI2_GAMMAT_COMP_AVG', 'PPD--CHI2_WTHETA_COMP_AVG', 'PPD--CHI2_2X2_COMP_AVG', 'prior', 'post']\n",
      "- using nsample =  1000\n",
      "\n",
      "Loading chain at\n",
      "../../trimmed_chains_test/chain_3x2pt_lcdm_SR_maglim_boosted.txt\n",
      "Sampler not found -- non-standard cosmosis output\n",
      "Using 222 chunks of size [1000, 1000, 1000, 1000, 1000, 1000, 1000, 1000, 1000, 1000, 1000, 1000, 1000, 1000, 1000, 1000, 1000, 1000, 1000, 1000, 1000, 1000, 1000, 1000, 1000, 1000, 1000, 1000, 1000, 1000, 1000, 1000, 1000, 1000, 1000, 1000, 1000, 1000, 1000, 1000, 1000, 1000, 1000, 1000, 1000, 1000, 1000, 1000, 1000, 1000, 1000, 1000, 1000, 1000, 1000, 1000, 1000, 1000, 1000, 1000, 1000, 1000, 1000, 1000, 1000, 1000, 1000, 1000, 1000, 1000, 1000, 1000, 1000, 1000, 1000, 1000, 1000, 1000, 1000, 1000, 1000, 1000, 1000, 1000, 1000, 1000, 1000, 1000, 1000, 1000, 1000, 1000, 1000, 1000, 1000, 1000, 1000, 1000, 1000, 1000, 1000, 1000, 1000, 1000, 1000, 1000, 1000, 1000, 1000, 1000, 1000, 1000, 1000, 1000, 1000, 1000, 1000, 1000, 1000, 1000, 1000, 1000, 1000, 1000, 1000, 1000, 1000, 1000, 1000, 1000, 1000, 1000, 1000, 1000, 1000, 1000, 1000, 1000, 1000, 1000, 1000, 1000, 1000, 1000, 1000, 1000, 1000, 1000, 1000, 1000, 1000, 1000, 1000, 1000, 1000, 1000, 1000, 1000, 1000, 1000, 1000, 1000, 1000, 1000, 1000, 1000, 1000, 1000, 1000, 1000, 1000, 1000, 1000, 1000, 1000, 1000, 1000, 1000, 1000, 1000, 1000, 1000, 1000, 1000, 1000, 1000, 1000, 1000, 1000, 1000, 1000, 1000, 1000, 1000, 1000, 1000, 1000, 1000, 1000, 1000, 1000, 1000, 1000, 1000, 1000, 1000, 1000, 1000, 1000, 1000, 1000, 1000, 1000, 1000, 1000, 1000, 1000, 1000, 1000, 1000, 1000, 1000] (1000) for a total of 222000 posterior samples\n",
      "\n",
      "###############################\n",
      "## Loading scale/bin cuts #####\n",
      "###############################\n",
      "Found observables in data_file ['xip', 'xim', 'gammat', 'wtheta']\n",
      "Reading options for likelihood module:  2pt_d_like\n",
      "Found scale cuts for  {'xip': [(1, 1), (1, 2), (1, 3), (1, 4), (2, 2), (2, 3), (2, 4), (3, 3), (3, 4), (4, 4)], 'xim': [(1, 1), (1, 2), (1, 3), (1, 4), (2, 2), (2, 3), (2, 4), (3, 3), (3, 4), (4, 4)], 'gammat': [(1, 1), (1, 2), (1, 3), (1, 4), (2, 1), (2, 2), (2, 3), (2, 4), (3, 1), (3, 2), (3, 3), (3, 4), (4, 1), (4, 2), (4, 3), (4, 4), (5, 1), (5, 2), (5, 3), (5, 4), (6, 1), (6, 2), (6, 3), (6, 4)], 'wtheta': [(1, 1), (1, 2), (1, 3), (1, 4), (1, 5), (1, 6), (2, 2), (2, 3), (2, 4), (2, 5), (2, 6), (3, 3), (3, 4), (3, 5), (3, 6), (4, 4), (4, 5), (4, 6), (5, 5), (5, 6), (6, 6)]}\n",
      "Getting indices for xip\n",
      "Getting indices for xim\n",
      "Getting indices for gammat\n",
      "Getting indices for wtheta\n",
      "\n",
      "Found observables in data_file ['xip', 'xim', 'gammat', 'wtheta']\n",
      "Reading options for likelihood module:  2pt_dprime_like\n",
      "Found scale cuts for  {'xip': [(1, 1), (1, 2), (1, 3), (1, 4), (2, 2), (2, 3), (2, 4), (3, 3), (3, 4), (4, 4)], 'xim': [(1, 1), (1, 2), (1, 3), (1, 4), (2, 2), (2, 3), (2, 4), (3, 3), (3, 4), (4, 4)], 'gammat': [(1, 1), (1, 2), (1, 3), (1, 4), (2, 1), (2, 2), (2, 3), (2, 4), (3, 1), (3, 2), (3, 3), (3, 4), (4, 1), (4, 2), (4, 3), (4, 4), (5, 1), (5, 2), (5, 3), (5, 4), (6, 1), (6, 2), (6, 3), (6, 4)], 'wtheta': [(1, 1), (1, 2), (1, 3), (1, 4), (1, 5), (1, 6), (2, 2), (2, 3), (2, 4), (2, 5), (2, 6), (3, 3), (3, 4), (3, 5), (3, 6), (4, 4), (4, 5), (4, 6), (5, 5), (5, 6), (6, 6)]}\n",
      "Getting indices for xip\n",
      "Getting indices for xim\n",
      "Getting indices for gammat\n",
      "Getting indices for wtheta\n",
      "\n",
      "Using subsets ['1x2', '2x2', 'gammat', 'wtheta', 'xim', 'xip']\n",
      "\n",
      "Using same indices for d and dprime -> conditioning turned off\n",
      "\n",
      "###############################\n",
      "## Loading realizations #######\n",
      "###############################\n"
     ]
    },
    {
     "data": {
      "application/vnd.jupyter.widget-view+json": {
       "model_id": "b6d9e2d683224318a05e724419173b5a",
       "version_major": 2,
       "version_minor": 0
      },
      "text/plain": [
       "HBox(children=(FloatProgress(value=0.0, max=222.0), HTML(value='')))"
      ]
     },
     "metadata": {},
     "output_type": "display_data"
    },
    {
     "name": "stdout",
     "output_type": "stream",
     "text": [
      "Loading realizations from  ../maglim_3x2_goodnessoffit/ppd_3x2pt_lcdm_SR_maglim_boosted_maglim_3x2_goodnessoffit_0_dprime_theory.npy\n",
      " - data vector size = 462\n",
      " - number of realizations = 1000\n",
      "Loading realizations from  ../maglim_3x2_goodnessoffit/ppd_3x2pt_lcdm_SR_maglim_boosted_maglim_3x2_goodnessoffit_0_dprime_real.npy\n",
      " - data vector size = 462\n",
      " - number of realizations = 1000\n",
      "Loading realizations from  ../maglim_3x2_goodnessoffit/ppd_3x2pt_lcdm_SR_maglim_boosted_maglim_3x2_goodnessoffit_0_d_theory.npy\n",
      " - data vector size = 462\n",
      " - number of realizations = 1000\n",
      "\n",
      "\n",
      "###############################\n",
      "## Sampling data ##############\n",
      "###############################\n",
      "Sampling at best-fit with params\n",
      "cosmological_parameters--omega_m = 0.365\n",
      "cosmological_parameters--h0 = 0.56\n",
      "cosmological_parameters--omega_b = 0.0343\n",
      "cosmological_parameters--n_s = 1.03\n",
      "cosmological_parameters--a_s = 2.27e-09\n",
      "cosmological_parameters--omnuh2 = 0.00524\n",
      "shear_calibration_parameters--m1 = -0.00157\n",
      "shear_calibration_parameters--m2 = -0.0231\n",
      "shear_calibration_parameters--m3 = -0.0166\n",
      "shear_calibration_parameters--m4 = -0.033\n",
      "wl_photoz_errors--bias_1 = 0.0218\n",
      "wl_photoz_errors--bias_2 = -0.0158\n",
      "wl_photoz_errors--bias_3 = -0.0285\n",
      "wl_photoz_errors--bias_4 = 0.00859\n",
      "lens_photoz_errors--bias_1 = -0.00994\n",
      "lens_photoz_errors--bias_2 = -0.0286\n",
      "lens_photoz_errors--bias_3 = -0.0038\n",
      "lens_photoz_errors--bias_4 = -0.00452\n",
      "lens_photoz_errors--width_1 = 1.02\n",
      "lens_photoz_errors--width_2 = 1.14\n",
      "lens_photoz_errors--width_3 = 0.908\n",
      "lens_photoz_errors--width_4 = 0.949\n",
      "bias_lens--b1        = 1.6\n",
      "bias_lens--b2        = 1.76\n",
      "bias_lens--b3        = 1.98\n",
      "bias_lens--b4        = 1.93\n",
      "intrinsic_alignment_parameters--a1 = 0.214\n",
      "intrinsic_alignment_parameters--a2 = -0.24\n",
      "intrinsic_alignment_parameters--alpha1 = -3.93\n",
      "intrinsic_alignment_parameters--alpha2 = -0.945\n",
      "intrinsic_alignment_parameters--bias_ta = 0.00855\n",
      "\n",
      "###############################\n",
      "## Compute chi2 for d #########\n",
      "###############################\n"
     ]
    },
    {
     "data": {
      "application/vnd.jupyter.widget-view+json": {
       "model_id": "1adb8c1a95694fb69a71b687bae73d1f",
       "version_major": 2,
       "version_minor": 0
      },
      "text/plain": [
       "HBox(children=(FloatProgress(value=0.0, max=222.0), HTML(value='')))"
      ]
     },
     "metadata": {},
     "output_type": "display_data"
    },
    {
     "name": "stdout",
     "output_type": "stream",
     "text": [
      "\n",
      "\n",
      "###############################\n",
      "## Compute IS weights for d ###\n",
      "###############################\n"
     ]
    },
    {
     "data": {
      "application/vnd.jupyter.widget-view+json": {
       "model_id": "326d71317ec3449aab95ab62cb5d2aa3",
       "version_major": 2,
       "version_minor": 0
      },
      "text/plain": [
       "HBox(children=(FloatProgress(value=0.0, max=222.0), HTML(value='')))"
      ]
     },
     "metadata": {},
     "output_type": "display_data"
    },
    {
     "name": "stdout",
     "output_type": "stream",
     "text": [
      "\n",
      "(222000, 1000)\n",
      "Neff = 76.4 (median), 16th=31.3, 84th=238.8 (0 were nan's)\n",
      "\n",
      "###############################\n",
      "## Computing p-values #########\n",
      "###############################\n"
     ]
    },
    {
     "data": {
      "application/vnd.jupyter.widget-view+json": {
       "model_id": "7feea4e06355403cb00486c5d4b913a8",
       "version_major": 2,
       "version_minor": 0
      },
      "text/plain": [
       "HBox(children=(FloatProgress(value=1.0, bar_style='info', max=1.0), HTML(value='')))"
      ]
     },
     "metadata": {},
     "output_type": "display_data"
    },
    {
     "name": "stdout",
     "output_type": "stream",
     "text": [
      "\n",
      "1x2\n",
      "2x2\n",
      "Some (4) eigenvalues are non-positive. Clipping to minimum positive one = 2.1048545862491657e-12\n",
      "Some (4) eigenvalues are non-positive. Clipping to minimum positive one = 2.1048545862491657e-12\n",
      "gammat\n",
      "Some (4) eigenvalues are non-positive. Clipping to minimum positive one = 2.1065924252365922e-12\n",
      "Some (4) eigenvalues are non-positive. Clipping to minimum positive one = 2.1065924252365922e-12\n",
      "wtheta\n",
      "xim\n",
      "xip\n",
      "\n",
      "###############################\n",
      "## Calibrated p-values ########\n",
      "###############################\n",
      "     - Full         calibrated pval=0.0230 (raw pval=0.0122)\n",
      "     - 1x2          calibrated pval=0.2030 (raw pval=0.1877)\n",
      "     - 2x2          calibrated pval=0.2050 (raw pval=0.3105)\n",
      "     - gammat       calibrated pval=0.0110 (raw pval=0.0021)\n",
      "     - wtheta       calibrated pval=0.2840 (raw pval=0.3030)\n",
      "     - xim          calibrated pval=0.3560 (raw pval=0.3470)\n",
      "     - xip          calibrated pval=0.2090 (raw pval=0.2234)\n",
      "\n",
      "###############################\n",
      "## Plotting ###################\n",
      "###############################\n",
      "\n",
      "###############################\n",
      "## Loading chains #############\n",
      "###############################\n"
     ]
    },
    {
     "data": {
      "application/vnd.jupyter.widget-view+json": {
       "model_id": "bf3afaaa278b4fe4a70baa5d46945a5d",
       "version_major": 2,
       "version_minor": 0
      },
      "text/plain": [
       "HBox(children=(FloatProgress(value=0.0, max=222.0), HTML(value='')))"
      ]
     },
     "metadata": {},
     "output_type": "display_data"
    },
    {
     "name": "stdout",
     "output_type": "stream",
     "text": [
      "Loading list chain at\n",
      "../maglim_3x2_goodnessoffit/ppd_chain_3x2pt_lcdm_SR_maglim_boosted_maglim_3x2_goodnessoffit_0.txt\n",
      "- using params\n",
      "['cosmological_parameters--omega_m', 'cosmological_parameters--h0', 'cosmological_parameters--omega_b', 'cosmological_parameters--n_s', 'cosmological_parameters--a_s', 'cosmological_parameters--omnuh2', 'cosmological_parameters--w', 'cosmological_parameters--massive_nu', 'cosmological_parameters--massless_nu', 'cosmological_parameters--omega_k', 'cosmological_parameters--tau', 'shear_calibration_parameters--m1', 'shear_calibration_parameters--m2', 'shear_calibration_parameters--m3', 'shear_calibration_parameters--m4', 'wl_photoz_errors--bias_1', 'wl_photoz_errors--bias_2', 'wl_photoz_errors--bias_3', 'wl_photoz_errors--bias_4', 'lens_photoz_errors--bias_1', 'lens_photoz_errors--bias_2', 'lens_photoz_errors--bias_3', 'lens_photoz_errors--bias_4', 'lens_photoz_errors--bias_5', 'lens_photoz_errors--width_1', 'lens_photoz_errors--width_2', 'lens_photoz_errors--width_3', 'lens_photoz_errors--width_4', 'lens_photoz_errors--width_5', 'lens_photoz_errors--bias_6', 'lens_photoz_errors--width_6', 'bias_lens--b1', 'bias_lens--b2', 'bias_lens--b3', 'bias_lens--b4', 'bias_lens--b5', 'bias_lens--b6', 'mag_alpha_lens--alpha_1', 'mag_alpha_lens--alpha_2', 'mag_alpha_lens--alpha_3', 'mag_alpha_lens--alpha_4', 'mag_alpha_lens--alpha_5', 'mag_alpha_lens--alpha_6', 'intrinsic_alignment_parameters--z_piv', 'intrinsic_alignment_parameters--a1', 'intrinsic_alignment_parameters--a2', 'intrinsic_alignment_parameters--alpha1', 'intrinsic_alignment_parameters--alpha2', 'intrinsic_alignment_parameters--bias_ta', 'COSMOLOGICAL_PARAMETERS--SIGMA_8', 'COSMOLOGICAL_PARAMETERS--SIGMA_12', 'DATA_VECTOR--2PT_CHI2', 'DATA_VECTOR--2PT_D_CHI2', 'DATA_VECTOR--2PT_DPRIME_CHI2', 'DATA_VECTOR--2PT_XIP_CHI2', 'DATA_VECTOR--2PT_XIM_CHI2', 'DATA_VECTOR--2PT_1X2_CHI2', 'DATA_VECTOR--2PT_GAMMAT_CHI2', 'DATA_VECTOR--2PT_WTHETA_CHI2', 'DATA_VECTOR--2PT_2X2_CHI2', 'PPD--CHI2_DPRIME_DATA', 'PPD--CHI2_DPRIME_REALIZATION', 'PPD--CHI2_D_DATA', 'PPD--CHI2_XIP_DATA', 'PPD--CHI2_XIP_REALIZATION', 'PPD--CHI2_XIM_DATA', 'PPD--CHI2_XIM_REALIZATION', 'PPD--CHI2_1X2_DATA', 'PPD--CHI2_1X2_REALIZATION', 'PPD--CHI2_GAMMAT_DATA', 'PPD--CHI2_GAMMAT_REALIZATION', 'PPD--CHI2_WTHETA_DATA', 'PPD--CHI2_WTHETA_REALIZATION', 'PPD--CHI2_2X2_DATA', 'PPD--CHI2_2X2_REALIZATION', 'PPD--CHI2_DPRIME_COMP_AVG', 'PPD--CHI2_XIP_COMP_AVG', 'PPD--CHI2_XIM_COMP_AVG', 'PPD--CHI2_1X2_COMP_AVG', 'PPD--CHI2_GAMMAT_COMP_AVG', 'PPD--CHI2_WTHETA_COMP_AVG', 'PPD--CHI2_2X2_COMP_AVG', 'prior', 'post']\n",
      "- using nsample =  1000\n",
      "\n",
      "Loading chain at\n",
      "../../trimmed_chains_test/chain_3x2pt_lcdm_SR_maglim_boosted.txt\n",
      "Sampler not found -- non-standard cosmosis output\n",
      "Using 222 chunks of size [1000, 1000, 1000, 1000, 1000, 1000, 1000, 1000, 1000, 1000, 1000, 1000, 1000, 1000, 1000, 1000, 1000, 1000, 1000, 1000, 1000, 1000, 1000, 1000, 1000, 1000, 1000, 1000, 1000, 1000, 1000, 1000, 1000, 1000, 1000, 1000, 1000, 1000, 1000, 1000, 1000, 1000, 1000, 1000, 1000, 1000, 1000, 1000, 1000, 1000, 1000, 1000, 1000, 1000, 1000, 1000, 1000, 1000, 1000, 1000, 1000, 1000, 1000, 1000, 1000, 1000, 1000, 1000, 1000, 1000, 1000, 1000, 1000, 1000, 1000, 1000, 1000, 1000, 1000, 1000, 1000, 1000, 1000, 1000, 1000, 1000, 1000, 1000, 1000, 1000, 1000, 1000, 1000, 1000, 1000, 1000, 1000, 1000, 1000, 1000, 1000, 1000, 1000, 1000, 1000, 1000, 1000, 1000, 1000, 1000, 1000, 1000, 1000, 1000, 1000, 1000, 1000, 1000, 1000, 1000, 1000, 1000, 1000, 1000, 1000, 1000, 1000, 1000, 1000, 1000, 1000, 1000, 1000, 1000, 1000, 1000, 1000, 1000, 1000, 1000, 1000, 1000, 1000, 1000, 1000, 1000, 1000, 1000, 1000, 1000, 1000, 1000, 1000, 1000, 1000, 1000, 1000, 1000, 1000, 1000, 1000, 1000, 1000, 1000, 1000, 1000, 1000, 1000, 1000, 1000, 1000, 1000, 1000, 1000, 1000, 1000, 1000, 1000, 1000, 1000, 1000, 1000, 1000, 1000, 1000, 1000, 1000, 1000, 1000, 1000, 1000, 1000, 1000, 1000, 1000, 1000, 1000, 1000, 1000, 1000, 1000, 1000, 1000, 1000, 1000, 1000, 1000, 1000, 1000, 1000, 1000, 1000, 1000, 1000, 1000, 1000, 1000, 1000, 1000, 1000, 1000, 1000] (1000) for a total of 222000 posterior samples\n",
      "\n",
      "###############################\n",
      "## Loading scale/bin cuts #####\n",
      "###############################\n",
      "Found observables in data_file ['xip', 'xim', 'gammat', 'wtheta']\n",
      "Reading options for likelihood module:  2pt_d_like\n",
      "Found scale cuts for  {'xip': [(1, 1), (1, 2), (1, 3), (1, 4), (2, 2), (2, 3), (2, 4), (3, 3), (3, 4), (4, 4)], 'xim': [(1, 1), (1, 2), (1, 3), (1, 4), (2, 2), (2, 3), (2, 4), (3, 3), (3, 4), (4, 4)], 'gammat': [(1, 1), (1, 2), (1, 3), (1, 4), (2, 1), (2, 2), (2, 3), (2, 4), (3, 1), (3, 2), (3, 3), (3, 4), (4, 1), (4, 2), (4, 3), (4, 4), (5, 1), (5, 2), (5, 3), (5, 4), (6, 1), (6, 2), (6, 3), (6, 4)], 'wtheta': [(1, 1), (1, 2), (1, 3), (1, 4), (1, 5), (1, 6), (2, 2), (2, 3), (2, 4), (2, 5), (2, 6), (3, 3), (3, 4), (3, 5), (3, 6), (4, 4), (4, 5), (4, 6), (5, 5), (5, 6), (6, 6)]}\n",
      "Getting indices for xip\n",
      "Getting indices for xim\n",
      "Getting indices for gammat\n",
      "Getting indices for wtheta\n",
      "\n",
      "Found observables in data_file ['xip', 'xim', 'gammat', 'wtheta']\n",
      "Reading options for likelihood module:  2pt_dprime_like\n",
      "Found scale cuts for  {'xip': [(1, 1), (1, 2), (1, 3), (1, 4), (2, 2), (2, 3), (2, 4), (3, 3), (3, 4), (4, 4)], 'xim': [(1, 1), (1, 2), (1, 3), (1, 4), (2, 2), (2, 3), (2, 4), (3, 3), (3, 4), (4, 4)], 'gammat': [(1, 1), (1, 2), (1, 3), (1, 4), (2, 1), (2, 2), (2, 3), (2, 4), (3, 1), (3, 2), (3, 3), (3, 4), (4, 1), (4, 2), (4, 3), (4, 4), (5, 1), (5, 2), (5, 3), (5, 4), (6, 1), (6, 2), (6, 3), (6, 4)], 'wtheta': [(1, 1), (1, 2), (1, 3), (1, 4), (1, 5), (1, 6), (2, 2), (2, 3), (2, 4), (2, 5), (2, 6), (3, 3), (3, 4), (3, 5), (3, 6), (4, 4), (4, 5), (4, 6), (5, 5), (5, 6), (6, 6)]}\n",
      "Getting indices for xip\n",
      "Getting indices for xim\n",
      "Getting indices for gammat\n",
      "Getting indices for wtheta\n",
      "\n",
      "Using subsets ['1x2', '2x2', 'gammat', 'wtheta', 'xim', 'xip']\n",
      "\n",
      "Using same indices for d and dprime -> conditioning turned off\n",
      "\n",
      "###############################\n",
      "## Loading realizations #######\n",
      "###############################\n"
     ]
    },
    {
     "data": {
      "application/vnd.jupyter.widget-view+json": {
       "model_id": "f23c825546e548f5bb5919db1821dc3d",
       "version_major": 2,
       "version_minor": 0
      },
      "text/plain": [
       "HBox(children=(FloatProgress(value=0.0, max=222.0), HTML(value='')))"
      ]
     },
     "metadata": {},
     "output_type": "display_data"
    },
    {
     "name": "stdout",
     "output_type": "stream",
     "text": [
      "Loading realizations from  ../maglim_3x2_goodnessoffit/ppd_3x2pt_lcdm_SR_maglim_boosted_maglim_3x2_goodnessoffit_0_dprime_theory.npy\n",
      " - data vector size = 462\n",
      " - number of realizations = 1000\n",
      "Loading realizations from  ../maglim_3x2_goodnessoffit/ppd_3x2pt_lcdm_SR_maglim_boosted_maglim_3x2_goodnessoffit_0_dprime_real.npy\n",
      " - data vector size = 462\n",
      " - number of realizations = 1000\n",
      "Loading realizations from  ../maglim_3x2_goodnessoffit/ppd_3x2pt_lcdm_SR_maglim_boosted_maglim_3x2_goodnessoffit_0_d_theory.npy\n",
      " - data vector size = 462\n",
      " - number of realizations = 1000\n",
      "\n",
      "\n",
      "###############################\n",
      "## Sampling data ##############\n",
      "###############################\n",
      "Sampling at best-fit with params\n",
      "cosmological_parameters--omega_m = 0.365\n",
      "cosmological_parameters--h0 = 0.56\n",
      "cosmological_parameters--omega_b = 0.0343\n",
      "cosmological_parameters--n_s = 1.03\n",
      "cosmological_parameters--a_s = 2.27e-09\n",
      "cosmological_parameters--omnuh2 = 0.00524\n",
      "shear_calibration_parameters--m1 = -0.00157\n",
      "shear_calibration_parameters--m2 = -0.0231\n",
      "shear_calibration_parameters--m3 = -0.0166\n",
      "shear_calibration_parameters--m4 = -0.033\n",
      "wl_photoz_errors--bias_1 = 0.0218\n",
      "wl_photoz_errors--bias_2 = -0.0158\n",
      "wl_photoz_errors--bias_3 = -0.0285\n",
      "wl_photoz_errors--bias_4 = 0.00859\n",
      "lens_photoz_errors--bias_1 = -0.00994\n",
      "lens_photoz_errors--bias_2 = -0.0286\n",
      "lens_photoz_errors--bias_3 = -0.0038\n",
      "lens_photoz_errors--bias_4 = -0.00452\n",
      "lens_photoz_errors--width_1 = 1.02\n",
      "lens_photoz_errors--width_2 = 1.14\n",
      "lens_photoz_errors--width_3 = 0.908\n",
      "lens_photoz_errors--width_4 = 0.949\n",
      "bias_lens--b1        = 1.6\n",
      "bias_lens--b2        = 1.76\n",
      "bias_lens--b3        = 1.98\n",
      "bias_lens--b4        = 1.93\n",
      "intrinsic_alignment_parameters--a1 = 0.214\n",
      "intrinsic_alignment_parameters--a2 = -0.24\n",
      "intrinsic_alignment_parameters--alpha1 = -3.93\n",
      "intrinsic_alignment_parameters--alpha2 = -0.945\n",
      "intrinsic_alignment_parameters--bias_ta = 0.00855\n",
      "\n",
      "###############################\n",
      "## Compute chi2 for d #########\n",
      "###############################\n"
     ]
    },
    {
     "data": {
      "application/vnd.jupyter.widget-view+json": {
       "model_id": "6cf7bec093234438a85f7ec94566b6ad",
       "version_major": 2,
       "version_minor": 0
      },
      "text/plain": [
       "HBox(children=(FloatProgress(value=0.0, max=222.0), HTML(value='')))"
      ]
     },
     "metadata": {},
     "output_type": "display_data"
    },
    {
     "name": "stdout",
     "output_type": "stream",
     "text": [
      "\n",
      "\n",
      "###############################\n",
      "## Compute IS weights for d ###\n",
      "###############################\n"
     ]
    },
    {
     "data": {
      "application/vnd.jupyter.widget-view+json": {
       "model_id": "d925a8b1ae8441bd9cfbecc77544dc9f",
       "version_major": 2,
       "version_minor": 0
      },
      "text/plain": [
       "HBox(children=(FloatProgress(value=0.0, max=222.0), HTML(value='')))"
      ]
     },
     "metadata": {},
     "output_type": "display_data"
    },
    {
     "name": "stdout",
     "output_type": "stream",
     "text": [
      "\n",
      "(222000, 1000)\n",
      "Neff = 74.0 (median), 16th=30.6, 84th=238.9 (0 were nan's)\n",
      "\n",
      "###############################\n",
      "## Computing p-values #########\n",
      "###############################\n"
     ]
    },
    {
     "data": {
      "application/vnd.jupyter.widget-view+json": {
       "model_id": "1d2dbd0dfbce4674b908e400d5d3a05f",
       "version_major": 2,
       "version_minor": 0
      },
      "text/plain": [
       "HBox(children=(FloatProgress(value=1.0, bar_style='info', max=1.0), HTML(value='')))"
      ]
     },
     "metadata": {},
     "output_type": "display_data"
    },
    {
     "name": "stdout",
     "output_type": "stream",
     "text": [
      "\n",
      "1x2\n",
      "2x2\n",
      "Some (4) eigenvalues are non-positive. Clipping to minimum positive one = 2.1048545862491657e-12\n",
      "Some (4) eigenvalues are non-positive. Clipping to minimum positive one = 2.1048545862491657e-12\n",
      "gammat\n",
      "Some (4) eigenvalues are non-positive. Clipping to minimum positive one = 2.1065924252365922e-12\n",
      "Some (4) eigenvalues are non-positive. Clipping to minimum positive one = 2.1065924252365922e-12\n",
      "wtheta\n",
      "xim\n",
      "xip\n",
      "\n",
      "###############################\n",
      "## Calibrated p-values ########\n",
      "###############################\n",
      "     - Full         calibrated pval=0.0210 (raw pval=0.0122)\n",
      "     - 1x2          calibrated pval=0.2110 (raw pval=0.1877)\n",
      "     - 2x2          calibrated pval=0.1880 (raw pval=0.3105)\n",
      "     - gammat       calibrated pval=0.0080 (raw pval=0.0021)\n",
      "     - wtheta       calibrated pval=0.2830 (raw pval=0.3030)\n",
      "     - xim          calibrated pval=0.3480 (raw pval=0.3470)\n",
      "     - xip          calibrated pval=0.2600 (raw pval=0.2234)\n",
      "\n",
      "###############################\n",
      "## Plotting ###################\n",
      "###############################\n",
      "\n",
      "###############################\n",
      "## Loading chains #############\n",
      "###############################\n"
     ]
    },
    {
     "data": {
      "application/vnd.jupyter.widget-view+json": {
       "model_id": "eceb80559c8f4468a3b5de7b78ac582b",
       "version_major": 2,
       "version_minor": 0
      },
      "text/plain": [
       "HBox(children=(FloatProgress(value=0.0, max=222.0), HTML(value='')))"
      ]
     },
     "metadata": {},
     "output_type": "display_data"
    },
    {
     "name": "stdout",
     "output_type": "stream",
     "text": [
      "Loading list chain at\n",
      "../maglim_3x2_goodnessoffit/ppd_chain_3x2pt_lcdm_SR_maglim_boosted_maglim_3x2_goodnessoffit_0.txt\n",
      "- using params\n",
      "['cosmological_parameters--omega_m', 'cosmological_parameters--h0', 'cosmological_parameters--omega_b', 'cosmological_parameters--n_s', 'cosmological_parameters--a_s', 'cosmological_parameters--omnuh2', 'cosmological_parameters--w', 'cosmological_parameters--massive_nu', 'cosmological_parameters--massless_nu', 'cosmological_parameters--omega_k', 'cosmological_parameters--tau', 'shear_calibration_parameters--m1', 'shear_calibration_parameters--m2', 'shear_calibration_parameters--m3', 'shear_calibration_parameters--m4', 'wl_photoz_errors--bias_1', 'wl_photoz_errors--bias_2', 'wl_photoz_errors--bias_3', 'wl_photoz_errors--bias_4', 'lens_photoz_errors--bias_1', 'lens_photoz_errors--bias_2', 'lens_photoz_errors--bias_3', 'lens_photoz_errors--bias_4', 'lens_photoz_errors--bias_5', 'lens_photoz_errors--width_1', 'lens_photoz_errors--width_2', 'lens_photoz_errors--width_3', 'lens_photoz_errors--width_4', 'lens_photoz_errors--width_5', 'lens_photoz_errors--bias_6', 'lens_photoz_errors--width_6', 'bias_lens--b1', 'bias_lens--b2', 'bias_lens--b3', 'bias_lens--b4', 'bias_lens--b5', 'bias_lens--b6', 'mag_alpha_lens--alpha_1', 'mag_alpha_lens--alpha_2', 'mag_alpha_lens--alpha_3', 'mag_alpha_lens--alpha_4', 'mag_alpha_lens--alpha_5', 'mag_alpha_lens--alpha_6', 'intrinsic_alignment_parameters--z_piv', 'intrinsic_alignment_parameters--a1', 'intrinsic_alignment_parameters--a2', 'intrinsic_alignment_parameters--alpha1', 'intrinsic_alignment_parameters--alpha2', 'intrinsic_alignment_parameters--bias_ta', 'COSMOLOGICAL_PARAMETERS--SIGMA_8', 'COSMOLOGICAL_PARAMETERS--SIGMA_12', 'DATA_VECTOR--2PT_CHI2', 'DATA_VECTOR--2PT_D_CHI2', 'DATA_VECTOR--2PT_DPRIME_CHI2', 'DATA_VECTOR--2PT_XIP_CHI2', 'DATA_VECTOR--2PT_XIM_CHI2', 'DATA_VECTOR--2PT_1X2_CHI2', 'DATA_VECTOR--2PT_GAMMAT_CHI2', 'DATA_VECTOR--2PT_WTHETA_CHI2', 'DATA_VECTOR--2PT_2X2_CHI2', 'PPD--CHI2_DPRIME_DATA', 'PPD--CHI2_DPRIME_REALIZATION', 'PPD--CHI2_D_DATA', 'PPD--CHI2_XIP_DATA', 'PPD--CHI2_XIP_REALIZATION', 'PPD--CHI2_XIM_DATA', 'PPD--CHI2_XIM_REALIZATION', 'PPD--CHI2_1X2_DATA', 'PPD--CHI2_1X2_REALIZATION', 'PPD--CHI2_GAMMAT_DATA', 'PPD--CHI2_GAMMAT_REALIZATION', 'PPD--CHI2_WTHETA_DATA', 'PPD--CHI2_WTHETA_REALIZATION', 'PPD--CHI2_2X2_DATA', 'PPD--CHI2_2X2_REALIZATION', 'PPD--CHI2_DPRIME_COMP_AVG', 'PPD--CHI2_XIP_COMP_AVG', 'PPD--CHI2_XIM_COMP_AVG', 'PPD--CHI2_1X2_COMP_AVG', 'PPD--CHI2_GAMMAT_COMP_AVG', 'PPD--CHI2_WTHETA_COMP_AVG', 'PPD--CHI2_2X2_COMP_AVG', 'prior', 'post']\n",
      "- using nsample =  1000\n",
      "\n",
      "Loading chain at\n",
      "../../trimmed_chains_test/chain_3x2pt_lcdm_SR_maglim_boosted.txt\n",
      "Sampler not found -- non-standard cosmosis output\n",
      "Using 222 chunks of size [1000, 1000, 1000, 1000, 1000, 1000, 1000, 1000, 1000, 1000, 1000, 1000, 1000, 1000, 1000, 1000, 1000, 1000, 1000, 1000, 1000, 1000, 1000, 1000, 1000, 1000, 1000, 1000, 1000, 1000, 1000, 1000, 1000, 1000, 1000, 1000, 1000, 1000, 1000, 1000, 1000, 1000, 1000, 1000, 1000, 1000, 1000, 1000, 1000, 1000, 1000, 1000, 1000, 1000, 1000, 1000, 1000, 1000, 1000, 1000, 1000, 1000, 1000, 1000, 1000, 1000, 1000, 1000, 1000, 1000, 1000, 1000, 1000, 1000, 1000, 1000, 1000, 1000, 1000, 1000, 1000, 1000, 1000, 1000, 1000, 1000, 1000, 1000, 1000, 1000, 1000, 1000, 1000, 1000, 1000, 1000, 1000, 1000, 1000, 1000, 1000, 1000, 1000, 1000, 1000, 1000, 1000, 1000, 1000, 1000, 1000, 1000, 1000, 1000, 1000, 1000, 1000, 1000, 1000, 1000, 1000, 1000, 1000, 1000, 1000, 1000, 1000, 1000, 1000, 1000, 1000, 1000, 1000, 1000, 1000, 1000, 1000, 1000, 1000, 1000, 1000, 1000, 1000, 1000, 1000, 1000, 1000, 1000, 1000, 1000, 1000, 1000, 1000, 1000, 1000, 1000, 1000, 1000, 1000, 1000, 1000, 1000, 1000, 1000, 1000, 1000, 1000, 1000, 1000, 1000, 1000, 1000, 1000, 1000, 1000, 1000, 1000, 1000, 1000, 1000, 1000, 1000, 1000, 1000, 1000, 1000, 1000, 1000, 1000, 1000, 1000, 1000, 1000, 1000, 1000, 1000, 1000, 1000, 1000, 1000, 1000, 1000, 1000, 1000, 1000, 1000, 1000, 1000, 1000, 1000, 1000, 1000, 1000, 1000, 1000, 1000, 1000, 1000, 1000, 1000, 1000, 1000] (1000) for a total of 222000 posterior samples\n",
      "\n",
      "###############################\n",
      "## Loading scale/bin cuts #####\n",
      "###############################\n",
      "Found observables in data_file ['xip', 'xim', 'gammat', 'wtheta']\n",
      "Reading options for likelihood module:  2pt_d_like\n",
      "Found scale cuts for  {'xip': [(1, 1), (1, 2), (1, 3), (1, 4), (2, 2), (2, 3), (2, 4), (3, 3), (3, 4), (4, 4)], 'xim': [(1, 1), (1, 2), (1, 3), (1, 4), (2, 2), (2, 3), (2, 4), (3, 3), (3, 4), (4, 4)], 'gammat': [(1, 1), (1, 2), (1, 3), (1, 4), (2, 1), (2, 2), (2, 3), (2, 4), (3, 1), (3, 2), (3, 3), (3, 4), (4, 1), (4, 2), (4, 3), (4, 4), (5, 1), (5, 2), (5, 3), (5, 4), (6, 1), (6, 2), (6, 3), (6, 4)], 'wtheta': [(1, 1), (1, 2), (1, 3), (1, 4), (1, 5), (1, 6), (2, 2), (2, 3), (2, 4), (2, 5), (2, 6), (3, 3), (3, 4), (3, 5), (3, 6), (4, 4), (4, 5), (4, 6), (5, 5), (5, 6), (6, 6)]}\n",
      "Getting indices for xip\n",
      "Getting indices for xim\n",
      "Getting indices for gammat\n",
      "Getting indices for wtheta\n",
      "\n",
      "Found observables in data_file ['xip', 'xim', 'gammat', 'wtheta']\n",
      "Reading options for likelihood module:  2pt_dprime_like\n",
      "Found scale cuts for  {'xip': [(1, 1), (1, 2), (1, 3), (1, 4), (2, 2), (2, 3), (2, 4), (3, 3), (3, 4), (4, 4)], 'xim': [(1, 1), (1, 2), (1, 3), (1, 4), (2, 2), (2, 3), (2, 4), (3, 3), (3, 4), (4, 4)], 'gammat': [(1, 1), (1, 2), (1, 3), (1, 4), (2, 1), (2, 2), (2, 3), (2, 4), (3, 1), (3, 2), (3, 3), (3, 4), (4, 1), (4, 2), (4, 3), (4, 4), (5, 1), (5, 2), (5, 3), (5, 4), (6, 1), (6, 2), (6, 3), (6, 4)], 'wtheta': [(1, 1), (1, 2), (1, 3), (1, 4), (1, 5), (1, 6), (2, 2), (2, 3), (2, 4), (2, 5), (2, 6), (3, 3), (3, 4), (3, 5), (3, 6), (4, 4), (4, 5), (4, 6), (5, 5), (5, 6), (6, 6)]}\n",
      "Getting indices for xip\n",
      "Getting indices for xim\n",
      "Getting indices for gammat\n",
      "Getting indices for wtheta\n",
      "\n",
      "Using subsets ['1x2', '2x2', 'gammat', 'wtheta', 'xim', 'xip']\n",
      "\n",
      "Using same indices for d and dprime -> conditioning turned off\n",
      "\n",
      "###############################\n",
      "## Loading realizations #######\n",
      "###############################\n"
     ]
    },
    {
     "data": {
      "application/vnd.jupyter.widget-view+json": {
       "model_id": "f755649e02cc4ab4a0ef849729ed6581",
       "version_major": 2,
       "version_minor": 0
      },
      "text/plain": [
       "HBox(children=(FloatProgress(value=0.0, max=222.0), HTML(value='')))"
      ]
     },
     "metadata": {},
     "output_type": "display_data"
    },
    {
     "name": "stdout",
     "output_type": "stream",
     "text": [
      "Loading realizations from  ../maglim_3x2_goodnessoffit/ppd_3x2pt_lcdm_SR_maglim_boosted_maglim_3x2_goodnessoffit_0_dprime_theory.npy\n",
      " - data vector size = 462\n",
      " - number of realizations = 1000\n",
      "Loading realizations from  ../maglim_3x2_goodnessoffit/ppd_3x2pt_lcdm_SR_maglim_boosted_maglim_3x2_goodnessoffit_0_dprime_real.npy\n",
      " - data vector size = 462\n",
      " - number of realizations = 1000\n",
      "Loading realizations from  ../maglim_3x2_goodnessoffit/ppd_3x2pt_lcdm_SR_maglim_boosted_maglim_3x2_goodnessoffit_0_d_theory.npy\n",
      " - data vector size = 462\n",
      " - number of realizations = 1000\n",
      "\n",
      "\n",
      "###############################\n",
      "## Sampling data ##############\n",
      "###############################\n",
      "Sampling at best-fit with params\n",
      "cosmological_parameters--omega_m = 0.365\n",
      "cosmological_parameters--h0 = 0.56\n",
      "cosmological_parameters--omega_b = 0.0343\n",
      "cosmological_parameters--n_s = 1.03\n",
      "cosmological_parameters--a_s = 2.27e-09\n",
      "cosmological_parameters--omnuh2 = 0.00524\n",
      "shear_calibration_parameters--m1 = -0.00157\n",
      "shear_calibration_parameters--m2 = -0.0231\n",
      "shear_calibration_parameters--m3 = -0.0166\n",
      "shear_calibration_parameters--m4 = -0.033\n",
      "wl_photoz_errors--bias_1 = 0.0218\n",
      "wl_photoz_errors--bias_2 = -0.0158\n",
      "wl_photoz_errors--bias_3 = -0.0285\n",
      "wl_photoz_errors--bias_4 = 0.00859\n",
      "lens_photoz_errors--bias_1 = -0.00994\n",
      "lens_photoz_errors--bias_2 = -0.0286\n",
      "lens_photoz_errors--bias_3 = -0.0038\n",
      "lens_photoz_errors--bias_4 = -0.00452\n",
      "lens_photoz_errors--width_1 = 1.02\n",
      "lens_photoz_errors--width_2 = 1.14\n",
      "lens_photoz_errors--width_3 = 0.908\n",
      "lens_photoz_errors--width_4 = 0.949\n",
      "bias_lens--b1        = 1.6\n",
      "bias_lens--b2        = 1.76\n",
      "bias_lens--b3        = 1.98\n",
      "bias_lens--b4        = 1.93\n",
      "intrinsic_alignment_parameters--a1 = 0.214\n",
      "intrinsic_alignment_parameters--a2 = -0.24\n",
      "intrinsic_alignment_parameters--alpha1 = -3.93\n",
      "intrinsic_alignment_parameters--alpha2 = -0.945\n",
      "intrinsic_alignment_parameters--bias_ta = 0.00855\n",
      "\n",
      "###############################\n",
      "## Compute chi2 for d #########\n",
      "###############################\n"
     ]
    },
    {
     "data": {
      "application/vnd.jupyter.widget-view+json": {
       "model_id": "40aa232eb0b44366926c81e3da8eca5b",
       "version_major": 2,
       "version_minor": 0
      },
      "text/plain": [
       "HBox(children=(FloatProgress(value=0.0, max=222.0), HTML(value='')))"
      ]
     },
     "metadata": {},
     "output_type": "display_data"
    },
    {
     "name": "stdout",
     "output_type": "stream",
     "text": [
      "\n",
      "\n",
      "###############################\n",
      "## Compute IS weights for d ###\n",
      "###############################\n"
     ]
    },
    {
     "data": {
      "application/vnd.jupyter.widget-view+json": {
       "model_id": "ca0de1fe1fd743acb3282a9a5255ed14",
       "version_major": 2,
       "version_minor": 0
      },
      "text/plain": [
       "HBox(children=(FloatProgress(value=0.0, max=222.0), HTML(value='')))"
      ]
     },
     "metadata": {},
     "output_type": "display_data"
    },
    {
     "name": "stdout",
     "output_type": "stream",
     "text": [
      "\n",
      "(222000, 1000)\n",
      "Neff = 71.3 (median), 16th=29.9, 84th=206.5 (0 were nan's)\n",
      "\n",
      "###############################\n",
      "## Computing p-values #########\n",
      "###############################\n"
     ]
    },
    {
     "data": {
      "application/vnd.jupyter.widget-view+json": {
       "model_id": "013fcd01bc874d67a6e619dc351a26a6",
       "version_major": 2,
       "version_minor": 0
      },
      "text/plain": [
       "HBox(children=(FloatProgress(value=1.0, bar_style='info', max=1.0), HTML(value='')))"
      ]
     },
     "metadata": {},
     "output_type": "display_data"
    },
    {
     "name": "stdout",
     "output_type": "stream",
     "text": [
      "\n",
      "1x2\n",
      "2x2\n",
      "Some (4) eigenvalues are non-positive. Clipping to minimum positive one = 2.1048545862491657e-12\n",
      "Some (4) eigenvalues are non-positive. Clipping to minimum positive one = 2.1048545862491657e-12\n",
      "gammat\n",
      "Some (4) eigenvalues are non-positive. Clipping to minimum positive one = 2.1065924252365922e-12\n",
      "Some (4) eigenvalues are non-positive. Clipping to minimum positive one = 2.1065924252365922e-12\n",
      "wtheta\n",
      "xim\n",
      "xip\n",
      "\n",
      "###############################\n",
      "## Calibrated p-values ########\n",
      "###############################\n",
      "     - Full         calibrated pval=0.0250 (raw pval=0.0122)\n",
      "     - 1x2          calibrated pval=0.1970 (raw pval=0.1877)\n",
      "     - 2x2          calibrated pval=0.1920 (raw pval=0.3105)\n",
      "     - gammat       calibrated pval=0.0120 (raw pval=0.0021)\n",
      "     - wtheta       calibrated pval=0.2920 (raw pval=0.3030)\n",
      "     - xim          calibrated pval=0.3510 (raw pval=0.3470)\n",
      "     - xip          calibrated pval=0.2420 (raw pval=0.2234)\n",
      "\n",
      "###############################\n",
      "## Plotting ###################\n",
      "###############################\n",
      "\n",
      "###############################\n",
      "## Loading chains #############\n",
      "###############################\n"
     ]
    },
    {
     "data": {
      "application/vnd.jupyter.widget-view+json": {
       "model_id": "51eb2a731e64452797d26770f570753e",
       "version_major": 2,
       "version_minor": 0
      },
      "text/plain": [
       "HBox(children=(FloatProgress(value=0.0, max=222.0), HTML(value='')))"
      ]
     },
     "metadata": {},
     "output_type": "display_data"
    },
    {
     "name": "stdout",
     "output_type": "stream",
     "text": [
      "Loading list chain at\n",
      "../maglim_3x2_goodnessoffit/ppd_chain_3x2pt_lcdm_SR_maglim_boosted_maglim_3x2_goodnessoffit_0.txt\n",
      "- using params\n",
      "['cosmological_parameters--omega_m', 'cosmological_parameters--h0', 'cosmological_parameters--omega_b', 'cosmological_parameters--n_s', 'cosmological_parameters--a_s', 'cosmological_parameters--omnuh2', 'cosmological_parameters--w', 'cosmological_parameters--massive_nu', 'cosmological_parameters--massless_nu', 'cosmological_parameters--omega_k', 'cosmological_parameters--tau', 'shear_calibration_parameters--m1', 'shear_calibration_parameters--m2', 'shear_calibration_parameters--m3', 'shear_calibration_parameters--m4', 'wl_photoz_errors--bias_1', 'wl_photoz_errors--bias_2', 'wl_photoz_errors--bias_3', 'wl_photoz_errors--bias_4', 'lens_photoz_errors--bias_1', 'lens_photoz_errors--bias_2', 'lens_photoz_errors--bias_3', 'lens_photoz_errors--bias_4', 'lens_photoz_errors--bias_5', 'lens_photoz_errors--width_1', 'lens_photoz_errors--width_2', 'lens_photoz_errors--width_3', 'lens_photoz_errors--width_4', 'lens_photoz_errors--width_5', 'lens_photoz_errors--bias_6', 'lens_photoz_errors--width_6', 'bias_lens--b1', 'bias_lens--b2', 'bias_lens--b3', 'bias_lens--b4', 'bias_lens--b5', 'bias_lens--b6', 'mag_alpha_lens--alpha_1', 'mag_alpha_lens--alpha_2', 'mag_alpha_lens--alpha_3', 'mag_alpha_lens--alpha_4', 'mag_alpha_lens--alpha_5', 'mag_alpha_lens--alpha_6', 'intrinsic_alignment_parameters--z_piv', 'intrinsic_alignment_parameters--a1', 'intrinsic_alignment_parameters--a2', 'intrinsic_alignment_parameters--alpha1', 'intrinsic_alignment_parameters--alpha2', 'intrinsic_alignment_parameters--bias_ta', 'COSMOLOGICAL_PARAMETERS--SIGMA_8', 'COSMOLOGICAL_PARAMETERS--SIGMA_12', 'DATA_VECTOR--2PT_CHI2', 'DATA_VECTOR--2PT_D_CHI2', 'DATA_VECTOR--2PT_DPRIME_CHI2', 'DATA_VECTOR--2PT_XIP_CHI2', 'DATA_VECTOR--2PT_XIM_CHI2', 'DATA_VECTOR--2PT_1X2_CHI2', 'DATA_VECTOR--2PT_GAMMAT_CHI2', 'DATA_VECTOR--2PT_WTHETA_CHI2', 'DATA_VECTOR--2PT_2X2_CHI2', 'PPD--CHI2_DPRIME_DATA', 'PPD--CHI2_DPRIME_REALIZATION', 'PPD--CHI2_D_DATA', 'PPD--CHI2_XIP_DATA', 'PPD--CHI2_XIP_REALIZATION', 'PPD--CHI2_XIM_DATA', 'PPD--CHI2_XIM_REALIZATION', 'PPD--CHI2_1X2_DATA', 'PPD--CHI2_1X2_REALIZATION', 'PPD--CHI2_GAMMAT_DATA', 'PPD--CHI2_GAMMAT_REALIZATION', 'PPD--CHI2_WTHETA_DATA', 'PPD--CHI2_WTHETA_REALIZATION', 'PPD--CHI2_2X2_DATA', 'PPD--CHI2_2X2_REALIZATION', 'PPD--CHI2_DPRIME_COMP_AVG', 'PPD--CHI2_XIP_COMP_AVG', 'PPD--CHI2_XIM_COMP_AVG', 'PPD--CHI2_1X2_COMP_AVG', 'PPD--CHI2_GAMMAT_COMP_AVG', 'PPD--CHI2_WTHETA_COMP_AVG', 'PPD--CHI2_2X2_COMP_AVG', 'prior', 'post']\n",
      "- using nsample =  1000\n",
      "\n",
      "Loading chain at\n",
      "../../trimmed_chains_test/chain_3x2pt_lcdm_SR_maglim_boosted.txt\n",
      "Sampler not found -- non-standard cosmosis output\n",
      "Using 222 chunks of size [1000, 1000, 1000, 1000, 1000, 1000, 1000, 1000, 1000, 1000, 1000, 1000, 1000, 1000, 1000, 1000, 1000, 1000, 1000, 1000, 1000, 1000, 1000, 1000, 1000, 1000, 1000, 1000, 1000, 1000, 1000, 1000, 1000, 1000, 1000, 1000, 1000, 1000, 1000, 1000, 1000, 1000, 1000, 1000, 1000, 1000, 1000, 1000, 1000, 1000, 1000, 1000, 1000, 1000, 1000, 1000, 1000, 1000, 1000, 1000, 1000, 1000, 1000, 1000, 1000, 1000, 1000, 1000, 1000, 1000, 1000, 1000, 1000, 1000, 1000, 1000, 1000, 1000, 1000, 1000, 1000, 1000, 1000, 1000, 1000, 1000, 1000, 1000, 1000, 1000, 1000, 1000, 1000, 1000, 1000, 1000, 1000, 1000, 1000, 1000, 1000, 1000, 1000, 1000, 1000, 1000, 1000, 1000, 1000, 1000, 1000, 1000, 1000, 1000, 1000, 1000, 1000, 1000, 1000, 1000, 1000, 1000, 1000, 1000, 1000, 1000, 1000, 1000, 1000, 1000, 1000, 1000, 1000, 1000, 1000, 1000, 1000, 1000, 1000, 1000, 1000, 1000, 1000, 1000, 1000, 1000, 1000, 1000, 1000, 1000, 1000, 1000, 1000, 1000, 1000, 1000, 1000, 1000, 1000, 1000, 1000, 1000, 1000, 1000, 1000, 1000, 1000, 1000, 1000, 1000, 1000, 1000, 1000, 1000, 1000, 1000, 1000, 1000, 1000, 1000, 1000, 1000, 1000, 1000, 1000, 1000, 1000, 1000, 1000, 1000, 1000, 1000, 1000, 1000, 1000, 1000, 1000, 1000, 1000, 1000, 1000, 1000, 1000, 1000, 1000, 1000, 1000, 1000, 1000, 1000, 1000, 1000, 1000, 1000, 1000, 1000, 1000, 1000, 1000, 1000, 1000, 1000] (1000) for a total of 222000 posterior samples\n",
      "\n",
      "###############################\n",
      "## Loading scale/bin cuts #####\n",
      "###############################\n",
      "Found observables in data_file ['xip', 'xim', 'gammat', 'wtheta']\n",
      "Reading options for likelihood module:  2pt_d_like\n",
      "Found scale cuts for  {'xip': [(1, 1), (1, 2), (1, 3), (1, 4), (2, 2), (2, 3), (2, 4), (3, 3), (3, 4), (4, 4)], 'xim': [(1, 1), (1, 2), (1, 3), (1, 4), (2, 2), (2, 3), (2, 4), (3, 3), (3, 4), (4, 4)], 'gammat': [(1, 1), (1, 2), (1, 3), (1, 4), (2, 1), (2, 2), (2, 3), (2, 4), (3, 1), (3, 2), (3, 3), (3, 4), (4, 1), (4, 2), (4, 3), (4, 4), (5, 1), (5, 2), (5, 3), (5, 4), (6, 1), (6, 2), (6, 3), (6, 4)], 'wtheta': [(1, 1), (1, 2), (1, 3), (1, 4), (1, 5), (1, 6), (2, 2), (2, 3), (2, 4), (2, 5), (2, 6), (3, 3), (3, 4), (3, 5), (3, 6), (4, 4), (4, 5), (4, 6), (5, 5), (5, 6), (6, 6)]}\n",
      "Getting indices for xip\n",
      "Getting indices for xim\n",
      "Getting indices for gammat\n",
      "Getting indices for wtheta\n",
      "\n",
      "Found observables in data_file ['xip', 'xim', 'gammat', 'wtheta']\n",
      "Reading options for likelihood module:  2pt_dprime_like\n",
      "Found scale cuts for  {'xip': [(1, 1), (1, 2), (1, 3), (1, 4), (2, 2), (2, 3), (2, 4), (3, 3), (3, 4), (4, 4)], 'xim': [(1, 1), (1, 2), (1, 3), (1, 4), (2, 2), (2, 3), (2, 4), (3, 3), (3, 4), (4, 4)], 'gammat': [(1, 1), (1, 2), (1, 3), (1, 4), (2, 1), (2, 2), (2, 3), (2, 4), (3, 1), (3, 2), (3, 3), (3, 4), (4, 1), (4, 2), (4, 3), (4, 4), (5, 1), (5, 2), (5, 3), (5, 4), (6, 1), (6, 2), (6, 3), (6, 4)], 'wtheta': [(1, 1), (1, 2), (1, 3), (1, 4), (1, 5), (1, 6), (2, 2), (2, 3), (2, 4), (2, 5), (2, 6), (3, 3), (3, 4), (3, 5), (3, 6), (4, 4), (4, 5), (4, 6), (5, 5), (5, 6), (6, 6)]}\n",
      "Getting indices for xip\n",
      "Getting indices for xim\n",
      "Getting indices for gammat\n",
      "Getting indices for wtheta\n",
      "\n",
      "Using subsets ['1x2', '2x2', 'gammat', 'wtheta', 'xim', 'xip']\n",
      "\n",
      "Using same indices for d and dprime -> conditioning turned off\n",
      "\n",
      "###############################\n",
      "## Loading realizations #######\n",
      "###############################\n"
     ]
    },
    {
     "data": {
      "application/vnd.jupyter.widget-view+json": {
       "model_id": "d037eb3d40d4476ca6c61a1ce70c15a7",
       "version_major": 2,
       "version_minor": 0
      },
      "text/plain": [
       "HBox(children=(FloatProgress(value=0.0, max=222.0), HTML(value='')))"
      ]
     },
     "metadata": {},
     "output_type": "display_data"
    },
    {
     "name": "stdout",
     "output_type": "stream",
     "text": [
      "Loading realizations from  ../maglim_3x2_goodnessoffit/ppd_3x2pt_lcdm_SR_maglim_boosted_maglim_3x2_goodnessoffit_0_dprime_theory.npy\n",
      " - data vector size = 462\n",
      " - number of realizations = 1000\n",
      "Loading realizations from  ../maglim_3x2_goodnessoffit/ppd_3x2pt_lcdm_SR_maglim_boosted_maglim_3x2_goodnessoffit_0_dprime_real.npy\n",
      " - data vector size = 462\n",
      " - number of realizations = 1000\n",
      "Loading realizations from  ../maglim_3x2_goodnessoffit/ppd_3x2pt_lcdm_SR_maglim_boosted_maglim_3x2_goodnessoffit_0_d_theory.npy\n",
      " - data vector size = 462\n",
      " - number of realizations = 1000\n",
      "\n",
      "\n",
      "###############################\n",
      "## Sampling data ##############\n",
      "###############################\n",
      "Sampling at best-fit with params\n",
      "cosmological_parameters--omega_m = 0.365\n",
      "cosmological_parameters--h0 = 0.56\n",
      "cosmological_parameters--omega_b = 0.0343\n",
      "cosmological_parameters--n_s = 1.03\n",
      "cosmological_parameters--a_s = 2.27e-09\n",
      "cosmological_parameters--omnuh2 = 0.00524\n",
      "shear_calibration_parameters--m1 = -0.00157\n",
      "shear_calibration_parameters--m2 = -0.0231\n",
      "shear_calibration_parameters--m3 = -0.0166\n",
      "shear_calibration_parameters--m4 = -0.033\n",
      "wl_photoz_errors--bias_1 = 0.0218\n",
      "wl_photoz_errors--bias_2 = -0.0158\n",
      "wl_photoz_errors--bias_3 = -0.0285\n",
      "wl_photoz_errors--bias_4 = 0.00859\n",
      "lens_photoz_errors--bias_1 = -0.00994\n",
      "lens_photoz_errors--bias_2 = -0.0286\n",
      "lens_photoz_errors--bias_3 = -0.0038\n",
      "lens_photoz_errors--bias_4 = -0.00452\n",
      "lens_photoz_errors--width_1 = 1.02\n",
      "lens_photoz_errors--width_2 = 1.14\n",
      "lens_photoz_errors--width_3 = 0.908\n",
      "lens_photoz_errors--width_4 = 0.949\n",
      "bias_lens--b1        = 1.6\n",
      "bias_lens--b2        = 1.76\n",
      "bias_lens--b3        = 1.98\n",
      "bias_lens--b4        = 1.93\n",
      "intrinsic_alignment_parameters--a1 = 0.214\n",
      "intrinsic_alignment_parameters--a2 = -0.24\n",
      "intrinsic_alignment_parameters--alpha1 = -3.93\n",
      "intrinsic_alignment_parameters--alpha2 = -0.945\n",
      "intrinsic_alignment_parameters--bias_ta = 0.00855\n",
      "\n",
      "###############################\n",
      "## Compute chi2 for d #########\n",
      "###############################\n"
     ]
    },
    {
     "data": {
      "application/vnd.jupyter.widget-view+json": {
       "model_id": "792c45e45a6d4548917cda2ee9296f85",
       "version_major": 2,
       "version_minor": 0
      },
      "text/plain": [
       "HBox(children=(FloatProgress(value=0.0, max=222.0), HTML(value='')))"
      ]
     },
     "metadata": {},
     "output_type": "display_data"
    },
    {
     "name": "stdout",
     "output_type": "stream",
     "text": [
      "\n",
      "\n",
      "###############################\n",
      "## Compute IS weights for d ###\n",
      "###############################\n"
     ]
    },
    {
     "data": {
      "application/vnd.jupyter.widget-view+json": {
       "model_id": "6ce4e101eedd4c3697acd64f1fcdfecb",
       "version_major": 2,
       "version_minor": 0
      },
      "text/plain": [
       "HBox(children=(FloatProgress(value=0.0, max=222.0), HTML(value='')))"
      ]
     },
     "metadata": {},
     "output_type": "display_data"
    },
    {
     "name": "stdout",
     "output_type": "stream",
     "text": [
      "\n",
      "(222000, 1000)\n",
      "Neff = 82.5 (median), 16th=31.4, 84th=237.3 (0 were nan's)\n",
      "\n",
      "###############################\n",
      "## Computing p-values #########\n",
      "###############################\n"
     ]
    },
    {
     "data": {
      "application/vnd.jupyter.widget-view+json": {
       "model_id": "d6c0b194742342febdddfc8ea47304f3",
       "version_major": 2,
       "version_minor": 0
      },
      "text/plain": [
       "HBox(children=(FloatProgress(value=1.0, bar_style='info', max=1.0), HTML(value='')))"
      ]
     },
     "metadata": {},
     "output_type": "display_data"
    },
    {
     "name": "stdout",
     "output_type": "stream",
     "text": [
      "\n",
      "1x2\n",
      "2x2\n",
      "Some (4) eigenvalues are non-positive. Clipping to minimum positive one = 2.1048545862491657e-12\n",
      "Some (4) eigenvalues are non-positive. Clipping to minimum positive one = 2.1048545862491657e-12\n",
      "gammat\n",
      "Some (4) eigenvalues are non-positive. Clipping to minimum positive one = 2.1065924252365922e-12\n",
      "Some (4) eigenvalues are non-positive. Clipping to minimum positive one = 2.1065924252365922e-12\n",
      "wtheta\n",
      "xim\n",
      "xip\n",
      "\n",
      "###############################\n",
      "## Calibrated p-values ########\n",
      "###############################\n",
      "     - Full         calibrated pval=0.0220 (raw pval=0.0122)\n",
      "     - 1x2          calibrated pval=0.2120 (raw pval=0.1877)\n",
      "     - 2x2          calibrated pval=0.2070 (raw pval=0.3105)\n",
      "     - gammat       calibrated pval=0.0090 (raw pval=0.0021)\n",
      "     - wtheta       calibrated pval=0.2980 (raw pval=0.3030)\n",
      "     - xim          calibrated pval=0.3540 (raw pval=0.3470)\n",
      "     - xip          calibrated pval=0.2340 (raw pval=0.2234)\n",
      "\n",
      "###############################\n",
      "## Plotting ###################\n",
      "###############################\n",
      "\n"
     ]
    },
    {
     "data": {
      "image/png": "[encoded data removed]",
      "text/plain": [
       "<Figure size 288x216 with 1 Axes>"
      ]
     },
     "metadata": {
      "image/png": {
       "height": 209,
       "width": 253
      },
      "needs_background": "light"
     },
     "output_type": "display_data"
    },
    {
     "data": {
      "image/png": "[encoded data removed]",
      "text/plain": [
       "<Figure size 288x216 with 1 Axes>"
      ]
     },
     "metadata": {
      "image/png": {
       "height": 209,
       "width": 253
      },
      "needs_background": "light"
     },
     "output_type": "display_data"
    },
    {
     "data": {
      "image/png": "[encoded data removed]",
      "text/plain": [
       "<Figure size 288x216 with 1 Axes>"
      ]
     },
     "metadata": {
      "image/png": {
       "height": 209,
       "width": 253
      },
      "needs_background": "light"
     },
     "output_type": "display_data"
    },
    {
     "data": {
      "image/png": "[encoded data removed]",
      "text/plain": [
       "<Figure size 288x216 with 1 Axes>"
      ]
     },
     "metadata": {
      "image/png": {
       "height": 209,
       "width": 253
      },
      "needs_background": "light"
     },
     "output_type": "display_data"
    },
    {
     "data": {
      "image/png": "[encoded data removed]",
      "text/plain": [
       "<Figure size 288x216 with 1 Axes>"
      ]
     },
     "metadata": {
      "image/png": {
       "height": 209,
       "width": 253
      },
      "needs_background": "light"
     },
     "output_type": "display_data"
    },
    {
     "data": {
      "image/png": "[encoded data removed]",
      "text/plain": [
       "<Figure size 288x216 with 1 Axes>"
      ]
     },
     "metadata": {
      "image/png": {
       "height": 209,
       "width": 253
      },
      "needs_background": "light"
     },
     "output_type": "display_data"
    },
    {
     "data": {
      "image/png": "[encoded data removed]",
      "text/plain": [
       "<Figure size 288x216 with 1 Axes>"
      ]
     },
     "metadata": {
      "image/png": {
       "height": 209,
       "width": 253
      },
      "needs_background": "light"
     },
     "output_type": "display_data"
    },
    {
     "data": {
      "image/png": "[encoded data removed]",
      "text/plain": [
       "<Figure size 288x216 with 1 Axes>"
      ]
     },
     "metadata": {
      "image/png": {
       "height": 209,
       "width": 253
      },
      "needs_background": "light"
     },
     "output_type": "display_data"
    },
    {
     "data": {
      "image/png": "[encoded data removed]",
      "text/plain": [
       "<Figure size 288x216 with 1 Axes>"
      ]
     },
     "metadata": {
      "image/png": {
       "height": 209,
       "width": 253
      },
      "needs_background": "light"
     },
     "output_type": "display_data"
    },
    {
     "data": {
      "image/png": "[encoded data removed]",
      "text/plain": [
       "<Figure size 288x216 with 1 Axes>"
      ]
     },
     "metadata": {
      "image/png": {
       "height": 209,
       "width": 253
      },
      "needs_background": "light"
     },
     "output_type": "display_data"
    }
   ],
   "source": [
    "res_pcal = []\n",
    "\n",
    "pvals_subsets={k:None for k in['xip','xim', 'gammat','wtheta','1x2','2x2']}\n",
    "\n",
    "import sys, os\n",
    "\n",
    "# Disable\n",
    "def blockPrint():\n",
    "    sys.stdout = open(os.devnull, 'w')\n",
    "\n",
    "# Restore\n",
    "def enablePrint():\n",
    "    sys.stdout = sys.__stdout__\n",
    "\n",
    "for _ in trange(10):\n",
    "    #blockPrint()\n",
    "    temp = calib.calibrate_pvals(\n",
    "        path_ppd=path_ppd,\n",
    "        path_chain=path_chain,\n",
    "        path_dv=path_dv,\n",
    "        RUN_NAME=RUN_NAME,\n",
    "        RUN_NAME_PPD=RUN_NAME_PPD,\n",
    "        DATAFILE=DATAFILE,\n",
    "        fiducial_dv=fiducial_dv,\n",
    "        data_sets_d=['xip','xim', 'gammat','wtheta'],\n",
    "        data_sets_dprime=['xip','xim', 'gammat','wtheta'],\n",
    "        N=1000, # 10^4 should give reasonable results, but for memory-sake can try smaller like 100\n",
    "        title=RUN_NAME_PPD,\n",
    "            pval_data=res[0]['full'],\n",
    "        use_pm=True,\n",
    "#         use_pm=False,\n",
    "        clip_is=0.1,\n",
    "        ndraws=1,\n",
    "        chunks=222,\n",
    "        size_chunk=1000,\n",
    "    #     pvals_subsets=res[0],\n",
    "        #use_logit=(1e-6,1),\n",
    "        get_zbin_pair_pcal=False,\n",
    "        pvals_subsets=pvals_subsets,\n",
    "#         sample_from='fiducial_dv'  # Trying this (different from y1 notebook)\n",
    "        sample_from='best-fit'  # Trying this (different from y1 notebook)\n",
    "    )\n",
    "    res_pcal.append(temp)\n",
    "    #enablePrint()\n",
    "    pickle.dump(res_pcal, open('res_pcal_'+RUN_NAME_PPD+'.pickle', 'wb'))\n",
    "    "
   ]
  },
  {
   "cell_type": "markdown",
   "metadata": {},
   "source": [
    "### Without pm"
   ]
  },
  {
   "cell_type": "code",
   "execution_count": null,
   "metadata": {},
   "outputs": [],
   "source": [
    "pvals_rsd = np.concatenate([r[0] for r in res_pcal])"
   ]
  },
  {
   "cell_type": "code",
   "execution_count": null,
   "metadata": {},
   "outputs": [],
   "source": [
    "pvals_rsd.shape"
   ]
  },
  {
   "cell_type": "code",
   "execution_count": null,
   "metadata": {},
   "outputs": [],
   "source": [
    "plt.hist(pvals_rsd, 100);\n",
    "print(np.sum(pvals_rsd<=0.0013)/10000)"
   ]
  },
  {
   "cell_type": "code",
   "execution_count": null,
   "metadata": {},
   "outputs": [],
   "source": [
    "for key in pvals_subsets.keys():\n",
    "    _p = np.concatenate([r[1][key] for r in res_pcal])\n",
    "    print(key, pvals_subsets[key], np.sum(_p<=pvals_subsets[key])/len(_p))\n",
    "    plt.hist(_p, np.linspace(0,1,100), histtype='step', label=key);\n",
    "plt.legend()"
   ]
  },
  {
   "cell_type": "markdown",
   "metadata": {},
   "source": [
    "### With pm"
   ]
  },
  {
   "cell_type": "code",
   "execution_count": 31,
   "metadata": {},
   "outputs": [],
   "source": [
    "pvals_rsd = np.concatenate([r[0] for r in res_pcal])"
   ]
  },
  {
   "cell_type": "code",
   "execution_count": 32,
   "metadata": {},
   "outputs": [
    {
     "data": {
      "text/plain": [
       "(10000,)"
      ]
     },
     "execution_count": 32,
     "metadata": {},
     "output_type": "execute_result"
    }
   ],
   "source": [
    "pvals_rsd.shape"
   ]
  },
  {
   "cell_type": "code",
   "execution_count": 33,
   "metadata": {},
   "outputs": [
    {
     "name": "stdout",
     "output_type": "stream",
     "text": [
      "0.0324\n"
     ]
    },
    {
     "data": {
      "image/png": "[encoded data removed]",
      "text/plain": [
       "<Figure size 432x288 with 1 Axes>"
      ]
     },
     "metadata": {
      "image/png": {
       "height": 249,
       "width": 375
      },
      "needs_background": "light"
     },
     "output_type": "display_data"
    }
   ],
   "source": [
    "plt.hist(pvals_rsd, 100);\n",
    "print(np.sum(pvals_rsd<=0.0122)/10000)"
   ]
  },
  {
   "cell_type": "code",
   "execution_count": 34,
   "metadata": {},
   "outputs": [
    {
     "data": {
      "application/vnd.jupyter.widget-view+json": {
       "model_id": "7bb24dd9de144ead9ac6cb69c97623a8",
       "version_major": 2,
       "version_minor": 0
      },
      "text/plain": [
       "HBox(children=(FloatProgress(value=0.0, max=1000.0), HTML(value='')))"
      ]
     },
     "metadata": {},
     "output_type": "display_data"
    },
    {
     "name": "stdout",
     "output_type": "stream",
     "text": [
      "\n"
     ]
    },
    {
     "data": {
      "text/plain": [
       "(array([  6.,  24.,  83., 186., 272., 217., 139.,  60.,   9.,   4.]),\n",
       " array([0.0267 , 0.02791, 0.02912, 0.03033, 0.03154, 0.03275, 0.03396,\n",
       "        0.03517, 0.03638, 0.03759, 0.0388 ]),\n",
       " <a list of 10 Patch objects>)"
      ]
     },
     "execution_count": 34,
     "metadata": {},
     "output_type": "execute_result"
    },
    {
     "data": {
      "image/png": "[encoded data removed]",
      "text/plain": [
       "<Figure size 432x288 with 1 Axes>"
      ]
     },
     "metadata": {
      "image/png": {
       "height": 248,
       "width": 375
      },
      "needs_background": "light"
     },
     "output_type": "display_data"
    }
   ],
   "source": [
    "plt.hist([np.sum(np.random.choice(pvals_rsd,size=len(pvals_rsd),replace=True)<=0.0122)/10000 for _ in trange(1000)])"
   ]
  },
  {
   "cell_type": "code",
   "execution_count": 36,
   "metadata": {},
   "outputs": [
    {
     "name": "stdout",
     "output_type": "stream",
     "text": [
      "gammat 0.017189025941758654 0.1211\n",
      "wtheta 0.3286423252947713 0.3427\n",
      "2x2 0.004085456706555616 0.0172\n"
     ]
    },
    {
     "data": {
      "text/plain": [
       "<matplotlib.legend.Legend at 0x2aaae73b1d30>"
      ]
     },
     "execution_count": 36,
     "metadata": {},
     "output_type": "execute_result"
    },
    {
     "data": {
      "image/png": "[encoded data removed]",
      "text/plain": [
       "<Figure size 432x288 with 1 Axes>"
      ]
     },
     "metadata": {
      "image/png": {
       "height": 248,
       "width": 375
      },
      "needs_background": "light"
     },
     "output_type": "display_data"
    }
   ],
   "source": [
    "for key in pvals_subsets.keys():\n",
    "    _p = np.concatenate([r[1][key] for r in res_pcal])\n",
    "    print(key, pvals_subsets[key], np.sum(_p<=pvals_subsets[key])/len(_p))\n",
    "    plt.hist(_p, np.linspace(0,1,100), histtype='step', label=key);\n",
    "plt.legend()"
   ]
  },
  {
   "cell_type": "markdown",
   "metadata": {},
   "source": [
    "# 2x2 goodness of fit"
   ]
  },
  {
   "cell_type": "code",
   "execution_count": 18,
   "metadata": {},
   "outputs": [],
   "source": [
    "a = np.loadtxt('../../trimmed_chains/chain_2x2pt_lcdm_SR_maglim_boosted.txt')\n",
    "\n",
    "with open('../../trimmed_chains/chain_2x2pt_lcdm_SR_maglim_boosted.txt', 'r') as f:\n",
    "    header = f.readline()\n",
    "    \n",
    "np.savetxt('../../trimmed_chains_test/chain_2x2pt_lcdm_SR_maglim_boosted.txt', a[:221000], header=header[2:-1])"
   ]
  },
  {
   "cell_type": "code",
   "execution_count": 20,
   "metadata": {},
   "outputs": [
    {
     "name": "stdout",
     "output_type": "stream",
     "text": [
      "# cosmological_parameters--omega_m cosmological_parameters--h0 cosmological_parameters--omega_b cosmological_parameters--n_s cosmological_parameters--a_s cosmological_parameters--omnuh2 shear_calibration_parameters--m1 shear_calibration_parameters--m2 shear_calibration_parameters--m3 shear_calibration_parameters--m4 wl_photoz_errors--bias_1 wl_photoz_errors--bias_2 wl_photoz_errors--bias_3 wl_photoz_errors--bias_4 lens_photoz_errors--bias_1 lens_photoz_errors--bias_2 lens_photoz_errors--bias_3 lens_photoz_errors--bias_4 lens_photoz_errors--width_1 lens_photoz_errors--width_2 lens_photoz_errors--width_3 lens_photoz_errors--width_4 bias_lens--b1 bias_lens--b2 bias_lens--b3 bias_lens--b4 intrinsic_alignment_parameters--a1 intrinsic_alignment_parameters--a2 intrinsic_alignment_parameters--alpha1 intrinsic_alignment_parameters--alpha2 intrinsic_alignment_parameters--bias_ta weight\n",
      "\n"
     ]
    }
   ],
   "source": [
    "with open('../../trimmed_chains_test/chain_2x2pt_lcdm_SR_maglim_boosted.txt', 'r') as f:\n",
    "    print(f.readline())#[1:].split())"
   ]
  },
  {
   "cell_type": "code",
   "execution_count": 25,
   "metadata": {
    "tags": []
   },
   "outputs": [
    {
     "name": "stdout",
     "output_type": "stream",
     "text": [
      "\n",
      "###############################\n",
      "## Loading chains #############\n",
      "###############################\n"
     ]
    },
    {
     "data": {
      "application/vnd.jupyter.widget-view+json": {
       "model_id": "20150532df264790ab08cd185565fa5a",
       "version_major": 2,
       "version_minor": 0
      },
      "text/plain": [
       "HBox(children=(FloatProgress(value=0.0, max=221.0), HTML(value='')))"
      ]
     },
     "metadata": {},
     "output_type": "display_data"
    },
    {
     "name": "stdout",
     "output_type": "stream",
     "text": [
      "Loading list chain at\n",
      "../maglim_2x2_goodnessoffit/ppd_chain_2x2pt_lcdm_SR_maglim_boosted_maglim_2x2_goodnessoffit_0.txt\n",
      "- using params\n",
      "['cosmological_parameters--omega_m', 'cosmological_parameters--h0', 'cosmological_parameters--omega_b', 'cosmological_parameters--n_s', 'cosmological_parameters--a_s', 'cosmological_parameters--omnuh2', 'cosmological_parameters--w', 'cosmological_parameters--massive_nu', 'cosmological_parameters--massless_nu', 'cosmological_parameters--omega_k', 'cosmological_parameters--tau', 'shear_calibration_parameters--m1', 'shear_calibration_parameters--m2', 'shear_calibration_parameters--m3', 'shear_calibration_parameters--m4', 'wl_photoz_errors--bias_1', 'wl_photoz_errors--bias_2', 'wl_photoz_errors--bias_3', 'wl_photoz_errors--bias_4', 'lens_photoz_errors--bias_1', 'lens_photoz_errors--bias_2', 'lens_photoz_errors--bias_3', 'lens_photoz_errors--bias_4', 'lens_photoz_errors--bias_5', 'lens_photoz_errors--width_1', 'lens_photoz_errors--width_2', 'lens_photoz_errors--width_3', 'lens_photoz_errors--width_4', 'lens_photoz_errors--width_5', 'lens_photoz_errors--bias_6', 'lens_photoz_errors--width_6', 'bias_lens--b1', 'bias_lens--b2', 'bias_lens--b3', 'bias_lens--b4', 'bias_lens--b5', 'bias_lens--b6', 'mag_alpha_lens--alpha_1', 'mag_alpha_lens--alpha_2', 'mag_alpha_lens--alpha_3', 'mag_alpha_lens--alpha_4', 'mag_alpha_lens--alpha_5', 'mag_alpha_lens--alpha_6', 'intrinsic_alignment_parameters--z_piv', 'intrinsic_alignment_parameters--a1', 'intrinsic_alignment_parameters--a2', 'intrinsic_alignment_parameters--alpha1', 'intrinsic_alignment_parameters--alpha2', 'intrinsic_alignment_parameters--bias_ta', 'COSMOLOGICAL_PARAMETERS--SIGMA_8', 'COSMOLOGICAL_PARAMETERS--SIGMA_12', 'DATA_VECTOR--2PT_CHI2', 'DATA_VECTOR--2PT_D_CHI2', 'DATA_VECTOR--2PT_DPRIME_CHI2', 'DATA_VECTOR--2PT_XIP_CHI2', 'DATA_VECTOR--2PT_XIM_CHI2', 'DATA_VECTOR--2PT_1X2_CHI2', 'DATA_VECTOR--2PT_GAMMAT_CHI2', 'DATA_VECTOR--2PT_WTHETA_CHI2', 'DATA_VECTOR--2PT_2X2_CHI2', 'PPD--CHI2_DPRIME_DATA', 'PPD--CHI2_DPRIME_REALIZATION', 'PPD--CHI2_D_DATA', 'PPD--CHI2_XIP_DATA', 'PPD--CHI2_XIP_REALIZATION', 'PPD--CHI2_XIM_DATA', 'PPD--CHI2_XIM_REALIZATION', 'PPD--CHI2_1X2_DATA', 'PPD--CHI2_1X2_REALIZATION', 'PPD--CHI2_GAMMAT_DATA', 'PPD--CHI2_GAMMAT_REALIZATION', 'PPD--CHI2_WTHETA_DATA', 'PPD--CHI2_WTHETA_REALIZATION', 'PPD--CHI2_2X2_DATA', 'PPD--CHI2_2X2_REALIZATION', 'PPD--CHI2_DPRIME_COMP_AVG', 'PPD--CHI2_XIP_COMP_AVG', 'PPD--CHI2_XIM_COMP_AVG', 'PPD--CHI2_1X2_COMP_AVG', 'PPD--CHI2_GAMMAT_COMP_AVG', 'PPD--CHI2_WTHETA_COMP_AVG', 'PPD--CHI2_2X2_COMP_AVG', 'prior', 'post']\n",
      "- using nsample =  1000\n",
      "\n",
      "Loading chain at\n",
      "../../trimmed_chains_test/chain_2x2pt_lcdm_SR_maglim_boosted.txt\n",
      "Sampler not found -- non-standard cosmosis output\n",
      "- using params\n",
      "['cosmological_parameters--omega_m', 'cosmological_parameters--h0', 'cosmological_parameters--omega_b', 'cosmological_parameters--n_s', 'cosmological_parameters--a_s', 'cosmological_parameters--omnuh2', 'shear_calibration_parameters--m1', 'shear_calibration_parameters--m2', 'shear_calibration_parameters--m3', 'shear_calibration_parameters--m4', 'wl_photoz_errors--bias_1', 'wl_photoz_errors--bias_2', 'wl_photoz_errors--bias_3', 'wl_photoz_errors--bias_4', 'lens_photoz_errors--bias_1', 'lens_photoz_errors--bias_2', 'lens_photoz_errors--bias_3', 'lens_photoz_errors--bias_4', 'lens_photoz_errors--width_1', 'lens_photoz_errors--width_2', 'lens_photoz_errors--width_3', 'lens_photoz_errors--width_4', 'bias_lens--b1', 'bias_lens--b2', 'bias_lens--b3', 'bias_lens--b4', 'intrinsic_alignment_parameters--a1', 'intrinsic_alignment_parameters--a2', 'intrinsic_alignment_parameters--alpha1', 'intrinsic_alignment_parameters--alpha2', 'intrinsic_alignment_parameters--bias_ta', 'weight']\n",
      "- using nsample =  221000\n",
      "Using 221 chunks of size [1000, 1000, 1000, 1000, 1000, 1000, 1000, 1000, 1000, 1000, 1000, 1000, 1000, 1000, 1000, 1000, 1000, 1000, 1000, 1000, 1000, 1000, 1000, 1000, 1000, 1000, 1000, 1000, 1000, 1000, 1000, 1000, 1000, 1000, 1000, 1000, 1000, 1000, 1000, 1000, 1000, 1000, 1000, 1000, 1000, 1000, 1000, 1000, 1000, 1000, 1000, 1000, 1000, 1000, 1000, 1000, 1000, 1000, 1000, 1000, 1000, 1000, 1000, 1000, 1000, 1000, 1000, 1000, 1000, 1000, 1000, 1000, 1000, 1000, 1000, 1000, 1000, 1000, 1000, 1000, 1000, 1000, 1000, 1000, 1000, 1000, 1000, 1000, 1000, 1000, 1000, 1000, 1000, 1000, 1000, 1000, 1000, 1000, 1000, 1000, 1000, 1000, 1000, 1000, 1000, 1000, 1000, 1000, 1000, 1000, 1000, 1000, 1000, 1000, 1000, 1000, 1000, 1000, 1000, 1000, 1000, 1000, 1000, 1000, 1000, 1000, 1000, 1000, 1000, 1000, 1000, 1000, 1000, 1000, 1000, 1000, 1000, 1000, 1000, 1000, 1000, 1000, 1000, 1000, 1000, 1000, 1000, 1000, 1000, 1000, 1000, 1000, 1000, 1000, 1000, 1000, 1000, 1000, 1000, 1000, 1000, 1000, 1000, 1000, 1000, 1000, 1000, 1000, 1000, 1000, 1000, 1000, 1000, 1000, 1000, 1000, 1000, 1000, 1000, 1000, 1000, 1000, 1000, 1000, 1000, 1000, 1000, 1000, 1000, 1000, 1000, 1000, 1000, 1000, 1000, 1000, 1000, 1000, 1000, 1000, 1000, 1000, 1000, 1000, 1000, 1000, 1000, 1000, 1000, 1000, 1000, 1000, 1000, 1000, 1000, 1000, 1000, 1000, 1000, 1000, 1000] (1000) for a total of 221000 posterior samples\n",
      "\n",
      "###############################\n",
      "## Getting p-values ###########\n",
      "###############################\n",
      "     - Full     pval=0.0039 +0.0002/-0.0002  [16=0.0037, 50=0.0039, 84=0.0041] (0.004107687351481381)\n",
      "     - XIP      pval = 0.0000 (0.0)\n",
      "     - XIM      pval = 0.0000 (0.0)\n",
      "     - 1X2      pval = 0.0000 (0.0)\n"
     ]
    },
    {
     "name": "stderr",
     "output_type": "stream",
     "text": [
      "/global/cfs/cdirs/des/xuod/DES_Y3_3x2/y3-3x2pt/code/ppd/postprocessing/utils_ppd.py:65: RuntimeWarning: invalid value encountered in greater_equal\n",
      "  _p.append(np.average(np.random.binomial(1, p=comp_avg), weights=weights))\n"
     ]
    },
    {
     "name": "stdout",
     "output_type": "stream",
     "text": [
      "     - GAMMAT   pval=0.0032 +0.0002/-0.0002  [16=0.0030, 50=0.0032, 84=0.0034] (0.003521658593223871)\n",
      "     - WTHETA   pval=0.3303 +0.0017/-0.0017  [16=0.3286, 50=0.3303, 84=0.3320] (0.3289974936856762)\n",
      "     - 2X2      pval=0.0039 +0.0002/-0.0002  [16=0.0036, 50=0.0039, 84=0.0041] (0.004107687351481381)\n",
      "\n",
      "###############################\n",
      "## Loading scale/bin cuts #####\n",
      "###############################\n",
      "Found observables in data_file ['xip', 'xim', 'gammat', 'wtheta']\n",
      "Reading options for likelihood module:  2pt_dprime_like\n",
      "Found scale cuts for  {'xip': [(1, 1), (1, 2), (1, 3), (1, 4), (2, 2), (2, 3), (2, 4), (3, 3), (3, 4), (4, 4)], 'xim': [(1, 1), (1, 2), (1, 3), (1, 4), (2, 2), (2, 3), (2, 4), (3, 3), (3, 4), (4, 4)], 'gammat': [(1, 1), (1, 2), (1, 3), (1, 4), (2, 1), (2, 2), (2, 3), (2, 4), (3, 1), (3, 2), (3, 3), (3, 4), (4, 1), (4, 2), (4, 3), (4, 4), (5, 1), (5, 2), (5, 3), (5, 4), (6, 1), (6, 2), (6, 3), (6, 4)], 'wtheta': [(1, 1), (1, 2), (1, 3), (1, 4), (1, 5), (1, 6), (2, 2), (2, 3), (2, 4), (2, 5), (2, 6), (3, 3), (3, 4), (3, 5), (3, 6), (4, 4), (4, 5), (4, 6), (5, 5), (5, 6), (6, 6)]}\n",
      "Getting indices for xip\n",
      "Getting indices for xim\n",
      "Getting indices for gammat\n",
      "Getting indices for wtheta\n"
     ]
    }
   ],
   "source": [
    "RUN_NAME = '2x2pt_lcdm_SR_maglim_boosted'\n",
    "RUN_NAME_PPD = 'maglim_2x2_goodnessoffit'\n",
    "\n",
    "res = ppd.load_run(\n",
    "    path_ppd=path_ppd,\n",
    "    path_chain=path_chain,\n",
    "    path_dv=path_dv,\n",
    "    RUN_NAME=RUN_NAME,\n",
    "    RUN_NAME_PPD=RUN_NAME_PPD,\n",
    "    DATAFILE=DATAFILE,\n",
    "    chunks=221,\n",
    "    size_chunk=1000,\n",
    "    data_sets=['xip', 'xim', 'gammat', 'wtheta'],\n",
    "    load_dvs=False,\n",
    "\n",
    ")"
   ]
  },
  {
   "cell_type": "code",
   "execution_count": 28,
   "metadata": {
    "tags": []
   },
   "outputs": [
    {
     "name": "stdout",
     "output_type": "stream",
     "text": [
      "\n",
      "###############################\n",
      "## Loading chains #############\n",
      "###############################\n"
     ]
    },
    {
     "data": {
      "application/vnd.jupyter.widget-view+json": {
       "model_id": "d38ad219798e455083d5bb3e797623e8",
       "version_major": 2,
       "version_minor": 0
      },
      "text/plain": [
       "HBox(children=(FloatProgress(value=0.0, max=221.0), HTML(value='')))"
      ]
     },
     "metadata": {},
     "output_type": "display_data"
    },
    {
     "name": "stdout",
     "output_type": "stream",
     "text": [
      "Loading list chain at\n",
      "../maglim_2x2_goodnessoffit/ppd_chain_2x2pt_lcdm_SR_maglim_boosted_maglim_2x2_goodnessoffit_0.txt\n",
      "- using params\n",
      "['cosmological_parameters--omega_m', 'cosmological_parameters--h0', 'cosmological_parameters--omega_b', 'cosmological_parameters--n_s', 'cosmological_parameters--a_s', 'cosmological_parameters--omnuh2', 'cosmological_parameters--w', 'cosmological_parameters--massive_nu', 'cosmological_parameters--massless_nu', 'cosmological_parameters--omega_k', 'cosmological_parameters--tau', 'shear_calibration_parameters--m1', 'shear_calibration_parameters--m2', 'shear_calibration_parameters--m3', 'shear_calibration_parameters--m4', 'wl_photoz_errors--bias_1', 'wl_photoz_errors--bias_2', 'wl_photoz_errors--bias_3', 'wl_photoz_errors--bias_4', 'lens_photoz_errors--bias_1', 'lens_photoz_errors--bias_2', 'lens_photoz_errors--bias_3', 'lens_photoz_errors--bias_4', 'lens_photoz_errors--bias_5', 'lens_photoz_errors--width_1', 'lens_photoz_errors--width_2', 'lens_photoz_errors--width_3', 'lens_photoz_errors--width_4', 'lens_photoz_errors--width_5', 'lens_photoz_errors--bias_6', 'lens_photoz_errors--width_6', 'bias_lens--b1', 'bias_lens--b2', 'bias_lens--b3', 'bias_lens--b4', 'bias_lens--b5', 'bias_lens--b6', 'mag_alpha_lens--alpha_1', 'mag_alpha_lens--alpha_2', 'mag_alpha_lens--alpha_3', 'mag_alpha_lens--alpha_4', 'mag_alpha_lens--alpha_5', 'mag_alpha_lens--alpha_6', 'intrinsic_alignment_parameters--z_piv', 'intrinsic_alignment_parameters--a1', 'intrinsic_alignment_parameters--a2', 'intrinsic_alignment_parameters--alpha1', 'intrinsic_alignment_parameters--alpha2', 'intrinsic_alignment_parameters--bias_ta', 'COSMOLOGICAL_PARAMETERS--SIGMA_8', 'COSMOLOGICAL_PARAMETERS--SIGMA_12', 'DATA_VECTOR--2PT_CHI2', 'DATA_VECTOR--2PT_D_CHI2', 'DATA_VECTOR--2PT_DPRIME_CHI2', 'DATA_VECTOR--2PT_XIP_CHI2', 'DATA_VECTOR--2PT_XIM_CHI2', 'DATA_VECTOR--2PT_1X2_CHI2', 'DATA_VECTOR--2PT_GAMMAT_CHI2', 'DATA_VECTOR--2PT_WTHETA_CHI2', 'DATA_VECTOR--2PT_2X2_CHI2', 'PPD--CHI2_DPRIME_DATA', 'PPD--CHI2_DPRIME_REALIZATION', 'PPD--CHI2_D_DATA', 'PPD--CHI2_XIP_DATA', 'PPD--CHI2_XIP_REALIZATION', 'PPD--CHI2_XIM_DATA', 'PPD--CHI2_XIM_REALIZATION', 'PPD--CHI2_1X2_DATA', 'PPD--CHI2_1X2_REALIZATION', 'PPD--CHI2_GAMMAT_DATA', 'PPD--CHI2_GAMMAT_REALIZATION', 'PPD--CHI2_WTHETA_DATA', 'PPD--CHI2_WTHETA_REALIZATION', 'PPD--CHI2_2X2_DATA', 'PPD--CHI2_2X2_REALIZATION', 'PPD--CHI2_DPRIME_COMP_AVG', 'PPD--CHI2_XIP_COMP_AVG', 'PPD--CHI2_XIM_COMP_AVG', 'PPD--CHI2_1X2_COMP_AVG', 'PPD--CHI2_GAMMAT_COMP_AVG', 'PPD--CHI2_WTHETA_COMP_AVG', 'PPD--CHI2_2X2_COMP_AVG', 'prior', 'post']\n",
      "- using nsample =  1000\n",
      "\n",
      "Loading chain at\n",
      "../../trimmed_chains_test/chain_2x2pt_lcdm_SR_maglim_boosted.txt\n",
      "Sampler not found -- non-standard cosmosis output\n",
      "Using 221 chunks of size [1000, 1000, 1000, 1000, 1000, 1000, 1000, 1000, 1000, 1000, 1000, 1000, 1000, 1000, 1000, 1000, 1000, 1000, 1000, 1000, 1000, 1000, 1000, 1000, 1000, 1000, 1000, 1000, 1000, 1000, 1000, 1000, 1000, 1000, 1000, 1000, 1000, 1000, 1000, 1000, 1000, 1000, 1000, 1000, 1000, 1000, 1000, 1000, 1000, 1000, 1000, 1000, 1000, 1000, 1000, 1000, 1000, 1000, 1000, 1000, 1000, 1000, 1000, 1000, 1000, 1000, 1000, 1000, 1000, 1000, 1000, 1000, 1000, 1000, 1000, 1000, 1000, 1000, 1000, 1000, 1000, 1000, 1000, 1000, 1000, 1000, 1000, 1000, 1000, 1000, 1000, 1000, 1000, 1000, 1000, 1000, 1000, 1000, 1000, 1000, 1000, 1000, 1000, 1000, 1000, 1000, 1000, 1000, 1000, 1000, 1000, 1000, 1000, 1000, 1000, 1000, 1000, 1000, 1000, 1000, 1000, 1000, 1000, 1000, 1000, 1000, 1000, 1000, 1000, 1000, 1000, 1000, 1000, 1000, 1000, 1000, 1000, 1000, 1000, 1000, 1000, 1000, 1000, 1000, 1000, 1000, 1000, 1000, 1000, 1000, 1000, 1000, 1000, 1000, 1000, 1000, 1000, 1000, 1000, 1000, 1000, 1000, 1000, 1000, 1000, 1000, 1000, 1000, 1000, 1000, 1000, 1000, 1000, 1000, 1000, 1000, 1000, 1000, 1000, 1000, 1000, 1000, 1000, 1000, 1000, 1000, 1000, 1000, 1000, 1000, 1000, 1000, 1000, 1000, 1000, 1000, 1000, 1000, 1000, 1000, 1000, 1000, 1000, 1000, 1000, 1000, 1000, 1000, 1000, 1000, 1000, 1000, 1000, 1000, 1000, 1000, 1000, 1000, 1000, 1000, 1000] (1000) for a total of 221000 posterior samples\n",
      "\n",
      "###############################\n",
      "## Loading scale/bin cuts #####\n",
      "###############################\n",
      "Found observables in data_file ['xip', 'xim', 'gammat', 'wtheta']\n",
      "Reading options for likelihood module:  2pt_d_like\n",
      "Found scale cuts for  {'xip': [(1, 1), (1, 2), (1, 3), (1, 4), (2, 2), (2, 3), (2, 4), (3, 3), (3, 4), (4, 4)], 'xim': [(1, 1), (1, 2), (1, 3), (1, 4), (2, 2), (2, 3), (2, 4), (3, 3), (3, 4), (4, 4)], 'gammat': [(1, 1), (1, 2), (1, 3), (1, 4), (2, 1), (2, 2), (2, 3), (2, 4), (3, 1), (3, 2), (3, 3), (3, 4), (4, 1), (4, 2), (4, 3), (4, 4), (5, 1), (5, 2), (5, 3), (5, 4), (6, 1), (6, 2), (6, 3), (6, 4)], 'wtheta': [(1, 1), (1, 2), (1, 3), (1, 4), (1, 5), (1, 6), (2, 2), (2, 3), (2, 4), (2, 5), (2, 6), (3, 3), (3, 4), (3, 5), (3, 6), (4, 4), (4, 5), (4, 6), (5, 5), (5, 6), (6, 6)]}\n",
      "Getting indices for gammat\n",
      "Getting indices for wtheta\n",
      "\n",
      "Found observables in data_file ['xip', 'xim', 'gammat', 'wtheta']\n",
      "Reading options for likelihood module:  2pt_dprime_like\n",
      "Found scale cuts for  {'xip': [(1, 1), (1, 2), (1, 3), (1, 4), (2, 2), (2, 3), (2, 4), (3, 3), (3, 4), (4, 4)], 'xim': [(1, 1), (1, 2), (1, 3), (1, 4), (2, 2), (2, 3), (2, 4), (3, 3), (3, 4), (4, 4)], 'gammat': [(1, 1), (1, 2), (1, 3), (1, 4), (2, 1), (2, 2), (2, 3), (2, 4), (3, 1), (3, 2), (3, 3), (3, 4), (4, 1), (4, 2), (4, 3), (4, 4), (5, 1), (5, 2), (5, 3), (5, 4), (6, 1), (6, 2), (6, 3), (6, 4)], 'wtheta': [(1, 1), (1, 2), (1, 3), (1, 4), (1, 5), (1, 6), (2, 2), (2, 3), (2, 4), (2, 5), (2, 6), (3, 3), (3, 4), (3, 5), (3, 6), (4, 4), (4, 5), (4, 6), (5, 5), (5, 6), (6, 6)]}\n",
      "Getting indices for gammat\n",
      "Getting indices for wtheta\n",
      "\n",
      "Using subsets ['2x2', 'gammat', 'wtheta']\n",
      "\n",
      "Using same indices for d and dprime -> conditioning turned off\n",
      "\n",
      "###############################\n",
      "## Loading realizations #######\n",
      "###############################\n"
     ]
    },
    {
     "data": {
      "application/vnd.jupyter.widget-view+json": {
       "model_id": "ddf1e5ebed8a4a2785dc9a8b63d6f2b8",
       "version_major": 2,
       "version_minor": 0
      },
      "text/plain": [
       "HBox(children=(FloatProgress(value=0.0, max=221.0), HTML(value='')))"
      ]
     },
     "metadata": {},
     "output_type": "display_data"
    },
    {
     "name": "stdout",
     "output_type": "stream",
     "text": [
      "Loading realizations from  ../maglim_2x2_goodnessoffit/ppd_2x2pt_lcdm_SR_maglim_boosted_maglim_2x2_goodnessoffit_0_dprime_theory.npy\n",
      " - data vector size = 235\n",
      " - number of realizations = 1000\n",
      "Loading realizations from  ../maglim_2x2_goodnessoffit/ppd_2x2pt_lcdm_SR_maglim_boosted_maglim_2x2_goodnessoffit_0_dprime_real.npy\n",
      " - data vector size = 235\n",
      " - number of realizations = 1000\n",
      "Loading realizations from  ../maglim_2x2_goodnessoffit/ppd_2x2pt_lcdm_SR_maglim_boosted_maglim_2x2_goodnessoffit_0_d_theory.npy\n",
      " - data vector size = 235\n",
      " - number of realizations = 1000\n",
      "\n",
      "\n",
      "###############################\n",
      "## Sampling data ##############\n",
      "###############################\n",
      "Sampling at best-fit with params\n",
      "cosmological_parameters--omega_m = 0.395\n",
      "cosmological_parameters--h0 = 0.58\n",
      "cosmological_parameters--omega_b = 0.0399\n",
      "cosmological_parameters--n_s = 0.953\n",
      "cosmological_parameters--a_s = 1.89e-09\n",
      "cosmological_parameters--omnuh2 = 0.00639\n",
      "shear_calibration_parameters--m1 = -0.0161\n",
      "shear_calibration_parameters--m2 = -0.0232\n",
      "shear_calibration_parameters--m3 = -0.0181\n",
      "shear_calibration_parameters--m4 = -0.0388\n",
      "wl_photoz_errors--bias_1 = 0.0277\n",
      "wl_photoz_errors--bias_2 = -0.00887\n",
      "wl_photoz_errors--bias_3 = -0.0273\n",
      "wl_photoz_errors--bias_4 = 0.00944\n",
      "lens_photoz_errors--bias_1 = -0.00595\n",
      "lens_photoz_errors--bias_2 = -0.0243\n",
      "lens_photoz_errors--bias_3 = -0.00523\n",
      "lens_photoz_errors--bias_4 = -0.014\n",
      "lens_photoz_errors--width_1 = 0.983\n",
      "lens_photoz_errors--width_2 = 1.12\n",
      "lens_photoz_errors--width_3 = 0.894\n",
      "lens_photoz_errors--width_4 = 0.9\n",
      "bias_lens--b1        = 1.63\n",
      "bias_lens--b2        = 1.82\n",
      "bias_lens--b3        = 2.05\n",
      "bias_lens--b4        = 1.91\n",
      "intrinsic_alignment_parameters--a1 = 0.453\n",
      "intrinsic_alignment_parameters--a2 = -1.07\n",
      "intrinsic_alignment_parameters--alpha1 = -1.72\n",
      "intrinsic_alignment_parameters--alpha2 = 2.47\n",
      "intrinsic_alignment_parameters--bias_ta = 0.0576\n",
      "\n",
      "###############################\n",
      "## Compute chi2 for d #########\n",
      "###############################\n"
     ]
    },
    {
     "data": {
      "application/vnd.jupyter.widget-view+json": {
       "model_id": "ac01837367ad49248aa8b5ae0a2686ab",
       "version_major": 2,
       "version_minor": 0
      },
      "text/plain": [
       "HBox(children=(FloatProgress(value=0.0, max=221.0), HTML(value='')))"
      ]
     },
     "metadata": {},
     "output_type": "display_data"
    },
    {
     "name": "stdout",
     "output_type": "stream",
     "text": [
      "\n",
      "\n",
      "###############################\n",
      "## Compute IS weights for d ###\n",
      "###############################\n"
     ]
    },
    {
     "data": {
      "application/vnd.jupyter.widget-view+json": {
       "model_id": "abd9c4a3219b493c9a817abbe4ca7050",
       "version_major": 2,
       "version_minor": 0
      },
      "text/plain": [
       "HBox(children=(FloatProgress(value=0.0, max=221.0), HTML(value='')))"
      ]
     },
     "metadata": {},
     "output_type": "display_data"
    },
    {
     "name": "stdout",
     "output_type": "stream",
     "text": [
      "\n",
      "(221000, 100)\n",
      "Neff = 54.5 (median), 16th=20.9, 84th=170.7 (0 were nan's)\n",
      "\n",
      "###############################\n",
      "## Computing p-values #########\n",
      "###############################\n"
     ]
    },
    {
     "data": {
      "application/vnd.jupyter.widget-view+json": {
       "model_id": "99c6e001ef084a4ea10aa1ccc4b943c6",
       "version_major": 2,
       "version_minor": 0
      },
      "text/plain": [
       "HBox(children=(FloatProgress(value=1.0, bar_style='info', max=1.0), HTML(value='')))"
      ]
     },
     "metadata": {},
     "output_type": "display_data"
    },
    {
     "name": "stdout",
     "output_type": "stream",
     "text": [
      "\n",
      "2x2\n",
      "Appending pval for 2x2 0.004085456706555616\n",
      "gammat\n",
      "Some (4) eigenvalues are non-positive. Clipping to minimum positive one = 2.106592028897921e-12\n",
      "Some (4) eigenvalues are non-positive. Clipping to minimum positive one = 2.106592028897921e-12\n",
      "Some (4) eigenvalues are non-positive. Clipping to minimum positive one = 2.106592028897921e-12\n",
      "Appending pval for gammat 0.017189025941758654\n",
      "wtheta\n",
      "Appending pval for wtheta 0.3286423252947713\n",
      "\n",
      "###############################\n",
      "## Calibrated p-values ########\n",
      "###############################\n",
      "     - Full         calibrated pval=0.0100 (raw pval=0.0039)\n",
      "     - 2x2          calibrated pval=0.0100 (raw pval=0.0041)\n",
      "     - gammat       calibrated pval=0.0800 (raw pval=0.0172)\n",
      "     - wtheta       calibrated pval=0.3900 (raw pval=0.3286)\n",
      "\n",
      "###############################\n",
      "## Plotting ###################\n",
      "###############################\n"
     ]
    },
    {
     "data": {
      "image/png": "[encoded data removed]",
      "text/plain": [
       "<Figure size 288x216 with 1 Axes>"
      ]
     },
     "metadata": {
      "image/png": {
       "height": 209,
       "width": 253
      },
      "needs_background": "light"
     },
     "output_type": "display_data"
    }
   ],
   "source": [
    "pvals_subsets={k:None for k in['xip','xim', 'gammat','wtheta','1x2','2x2']}\n",
    "\n",
    "temp = calib.calibrate_pvals(\n",
    "        path_ppd=path_ppd,\n",
    "        path_chain=path_chain,\n",
    "        path_dv=path_dv,\n",
    "        RUN_NAME=RUN_NAME,\n",
    "        RUN_NAME_PPD=RUN_NAME_PPD,\n",
    "        DATAFILE=DATAFILE,\n",
    "        fiducial_dv=fiducial_dv,\n",
    "        data_sets_d=['gammat','wtheta'],\n",
    "        data_sets_dprime=['gammat','wtheta'],\n",
    "        N=100, # 10^4 should give reasonable results, but for memory-sake can try smaller like 100\n",
    "        title=RUN_NAME_PPD,\n",
    "            pval_data=res[0]['full'],\n",
    "        use_pm=True,\n",
    "        clip_is=0.1,\n",
    "        ndraws=1,\n",
    "        chunks=221,\n",
    "        size_chunk=1000,\n",
    "    #     pvals_subsets=res[0],\n",
    "        #use_logit=(1e-6,1),\n",
    "        get_zbin_pair_pcal=False,\n",
    "        pvals_subsets=pvals_subsets,\n",
    "#         sample_from='fiducial_dv'  # Trying this (different from y1 notebook)\n",
    "        sample_from='best-fit'  # Trying this (different from y1 notebook)\n",
    "    )"
   ]
  },
  {
   "cell_type": "code",
   "execution_count": 30,
   "metadata": {
    "tags": []
   },
   "outputs": [
    {
     "data": {
      "application/vnd.jupyter.widget-view+json": {
       "model_id": "aba1ce4cea604b9a9dfb7a812d5fa7eb",
       "version_major": 2,
       "version_minor": 0
      },
      "text/plain": [
       "HBox(children=(FloatProgress(value=0.0, max=10.0), HTML(value='')))"
      ]
     },
     "metadata": {},
     "output_type": "display_data"
    },
    {
     "name": "stdout",
     "output_type": "stream",
     "text": [
      "\n",
      "###############################\n",
      "## Loading chains #############\n",
      "###############################\n"
     ]
    },
    {
     "data": {
      "application/vnd.jupyter.widget-view+json": {
       "model_id": "82794a6216404d3b9bf136222b8e5d45",
       "version_major": 2,
       "version_minor": 0
      },
      "text/plain": [
       "HBox(children=(FloatProgress(value=0.0, max=221.0), HTML(value='')))"
      ]
     },
     "metadata": {},
     "output_type": "display_data"
    },
    {
     "name": "stdout",
     "output_type": "stream",
     "text": [
      "Loading list chain at\n",
      "../maglim_2x2_goodnessoffit/ppd_chain_2x2pt_lcdm_SR_maglim_boosted_maglim_2x2_goodnessoffit_0.txt\n",
      "- using params\n",
      "['cosmological_parameters--omega_m', 'cosmological_parameters--h0', 'cosmological_parameters--omega_b', 'cosmological_parameters--n_s', 'cosmological_parameters--a_s', 'cosmological_parameters--omnuh2', 'cosmological_parameters--w', 'cosmological_parameters--massive_nu', 'cosmological_parameters--massless_nu', 'cosmological_parameters--omega_k', 'cosmological_parameters--tau', 'shear_calibration_parameters--m1', 'shear_calibration_parameters--m2', 'shear_calibration_parameters--m3', 'shear_calibration_parameters--m4', 'wl_photoz_errors--bias_1', 'wl_photoz_errors--bias_2', 'wl_photoz_errors--bias_3', 'wl_photoz_errors--bias_4', 'lens_photoz_errors--bias_1', 'lens_photoz_errors--bias_2', 'lens_photoz_errors--bias_3', 'lens_photoz_errors--bias_4', 'lens_photoz_errors--bias_5', 'lens_photoz_errors--width_1', 'lens_photoz_errors--width_2', 'lens_photoz_errors--width_3', 'lens_photoz_errors--width_4', 'lens_photoz_errors--width_5', 'lens_photoz_errors--bias_6', 'lens_photoz_errors--width_6', 'bias_lens--b1', 'bias_lens--b2', 'bias_lens--b3', 'bias_lens--b4', 'bias_lens--b5', 'bias_lens--b6', 'mag_alpha_lens--alpha_1', 'mag_alpha_lens--alpha_2', 'mag_alpha_lens--alpha_3', 'mag_alpha_lens--alpha_4', 'mag_alpha_lens--alpha_5', 'mag_alpha_lens--alpha_6', 'intrinsic_alignment_parameters--z_piv', 'intrinsic_alignment_parameters--a1', 'intrinsic_alignment_parameters--a2', 'intrinsic_alignment_parameters--alpha1', 'intrinsic_alignment_parameters--alpha2', 'intrinsic_alignment_parameters--bias_ta', 'COSMOLOGICAL_PARAMETERS--SIGMA_8', 'COSMOLOGICAL_PARAMETERS--SIGMA_12', 'DATA_VECTOR--2PT_CHI2', 'DATA_VECTOR--2PT_D_CHI2', 'DATA_VECTOR--2PT_DPRIME_CHI2', 'DATA_VECTOR--2PT_XIP_CHI2', 'DATA_VECTOR--2PT_XIM_CHI2', 'DATA_VECTOR--2PT_1X2_CHI2', 'DATA_VECTOR--2PT_GAMMAT_CHI2', 'DATA_VECTOR--2PT_WTHETA_CHI2', 'DATA_VECTOR--2PT_2X2_CHI2', 'PPD--CHI2_DPRIME_DATA', 'PPD--CHI2_DPRIME_REALIZATION', 'PPD--CHI2_D_DATA', 'PPD--CHI2_XIP_DATA', 'PPD--CHI2_XIP_REALIZATION', 'PPD--CHI2_XIM_DATA', 'PPD--CHI2_XIM_REALIZATION', 'PPD--CHI2_1X2_DATA', 'PPD--CHI2_1X2_REALIZATION', 'PPD--CHI2_GAMMAT_DATA', 'PPD--CHI2_GAMMAT_REALIZATION', 'PPD--CHI2_WTHETA_DATA', 'PPD--CHI2_WTHETA_REALIZATION', 'PPD--CHI2_2X2_DATA', 'PPD--CHI2_2X2_REALIZATION', 'PPD--CHI2_DPRIME_COMP_AVG', 'PPD--CHI2_XIP_COMP_AVG', 'PPD--CHI2_XIM_COMP_AVG', 'PPD--CHI2_1X2_COMP_AVG', 'PPD--CHI2_GAMMAT_COMP_AVG', 'PPD--CHI2_WTHETA_COMP_AVG', 'PPD--CHI2_2X2_COMP_AVG', 'prior', 'post']\n",
      "- using nsample =  1000\n",
      "\n",
      "Loading chain at\n",
      "../../trimmed_chains_test/chain_2x2pt_lcdm_SR_maglim_boosted.txt\n",
      "Sampler not found -- non-standard cosmosis output\n",
      "Using 221 chunks of size [1000, 1000, 1000, 1000, 1000, 1000, 1000, 1000, 1000, 1000, 1000, 1000, 1000, 1000, 1000, 1000, 1000, 1000, 1000, 1000, 1000, 1000, 1000, 1000, 1000, 1000, 1000, 1000, 1000, 1000, 1000, 1000, 1000, 1000, 1000, 1000, 1000, 1000, 1000, 1000, 1000, 1000, 1000, 1000, 1000, 1000, 1000, 1000, 1000, 1000, 1000, 1000, 1000, 1000, 1000, 1000, 1000, 1000, 1000, 1000, 1000, 1000, 1000, 1000, 1000, 1000, 1000, 1000, 1000, 1000, 1000, 1000, 1000, 1000, 1000, 1000, 1000, 1000, 1000, 1000, 1000, 1000, 1000, 1000, 1000, 1000, 1000, 1000, 1000, 1000, 1000, 1000, 1000, 1000, 1000, 1000, 1000, 1000, 1000, 1000, 1000, 1000, 1000, 1000, 1000, 1000, 1000, 1000, 1000, 1000, 1000, 1000, 1000, 1000, 1000, 1000, 1000, 1000, 1000, 1000, 1000, 1000, 1000, 1000, 1000, 1000, 1000, 1000, 1000, 1000, 1000, 1000, 1000, 1000, 1000, 1000, 1000, 1000, 1000, 1000, 1000, 1000, 1000, 1000, 1000, 1000, 1000, 1000, 1000, 1000, 1000, 1000, 1000, 1000, 1000, 1000, 1000, 1000, 1000, 1000, 1000, 1000, 1000, 1000, 1000, 1000, 1000, 1000, 1000, 1000, 1000, 1000, 1000, 1000, 1000, 1000, 1000, 1000, 1000, 1000, 1000, 1000, 1000, 1000, 1000, 1000, 1000, 1000, 1000, 1000, 1000, 1000, 1000, 1000, 1000, 1000, 1000, 1000, 1000, 1000, 1000, 1000, 1000, 1000, 1000, 1000, 1000, 1000, 1000, 1000, 1000, 1000, 1000, 1000, 1000, 1000, 1000, 1000, 1000, 1000, 1000] (1000) for a total of 221000 posterior samples\n",
      "\n",
      "###############################\n",
      "## Loading scale/bin cuts #####\n",
      "###############################\n",
      "Found observables in data_file ['xip', 'xim', 'gammat', 'wtheta']\n",
      "Reading options for likelihood module:  2pt_d_like\n",
      "Found scale cuts for  {'xip': [(1, 1), (1, 2), (1, 3), (1, 4), (2, 2), (2, 3), (2, 4), (3, 3), (3, 4), (4, 4)], 'xim': [(1, 1), (1, 2), (1, 3), (1, 4), (2, 2), (2, 3), (2, 4), (3, 3), (3, 4), (4, 4)], 'gammat': [(1, 1), (1, 2), (1, 3), (1, 4), (2, 1), (2, 2), (2, 3), (2, 4), (3, 1), (3, 2), (3, 3), (3, 4), (4, 1), (4, 2), (4, 3), (4, 4), (5, 1), (5, 2), (5, 3), (5, 4), (6, 1), (6, 2), (6, 3), (6, 4)], 'wtheta': [(1, 1), (1, 2), (1, 3), (1, 4), (1, 5), (1, 6), (2, 2), (2, 3), (2, 4), (2, 5), (2, 6), (3, 3), (3, 4), (3, 5), (3, 6), (4, 4), (4, 5), (4, 6), (5, 5), (5, 6), (6, 6)]}\n",
      "Getting indices for gammat\n",
      "Getting indices for wtheta\n",
      "\n",
      "Found observables in data_file ['xip', 'xim', 'gammat', 'wtheta']\n",
      "Reading options for likelihood module:  2pt_dprime_like\n",
      "Found scale cuts for  {'xip': [(1, 1), (1, 2), (1, 3), (1, 4), (2, 2), (2, 3), (2, 4), (3, 3), (3, 4), (4, 4)], 'xim': [(1, 1), (1, 2), (1, 3), (1, 4), (2, 2), (2, 3), (2, 4), (3, 3), (3, 4), (4, 4)], 'gammat': [(1, 1), (1, 2), (1, 3), (1, 4), (2, 1), (2, 2), (2, 3), (2, 4), (3, 1), (3, 2), (3, 3), (3, 4), (4, 1), (4, 2), (4, 3), (4, 4), (5, 1), (5, 2), (5, 3), (5, 4), (6, 1), (6, 2), (6, 3), (6, 4)], 'wtheta': [(1, 1), (1, 2), (1, 3), (1, 4), (1, 5), (1, 6), (2, 2), (2, 3), (2, 4), (2, 5), (2, 6), (3, 3), (3, 4), (3, 5), (3, 6), (4, 4), (4, 5), (4, 6), (5, 5), (5, 6), (6, 6)]}\n",
      "Getting indices for gammat\n",
      "Getting indices for wtheta\n",
      "\n",
      "Using subsets ['2x2', 'gammat', 'wtheta']\n",
      "\n",
      "Using same indices for d and dprime -> conditioning turned off\n",
      "\n",
      "###############################\n",
      "## Loading realizations #######\n",
      "###############################\n"
     ]
    },
    {
     "data": {
      "application/vnd.jupyter.widget-view+json": {
       "model_id": "3113a66702bd47249fd8ad90fa53303f",
       "version_major": 2,
       "version_minor": 0
      },
      "text/plain": [
       "HBox(children=(FloatProgress(value=0.0, max=221.0), HTML(value='')))"
      ]
     },
     "metadata": {},
     "output_type": "display_data"
    },
    {
     "name": "stdout",
     "output_type": "stream",
     "text": [
      "Loading realizations from  ../maglim_2x2_goodnessoffit/ppd_2x2pt_lcdm_SR_maglim_boosted_maglim_2x2_goodnessoffit_0_dprime_theory.npy\n",
      " - data vector size = 235\n",
      " - number of realizations = 1000\n",
      "Loading realizations from  ../maglim_2x2_goodnessoffit/ppd_2x2pt_lcdm_SR_maglim_boosted_maglim_2x2_goodnessoffit_0_dprime_real.npy\n",
      " - data vector size = 235\n",
      " - number of realizations = 1000\n",
      "Loading realizations from  ../maglim_2x2_goodnessoffit/ppd_2x2pt_lcdm_SR_maglim_boosted_maglim_2x2_goodnessoffit_0_d_theory.npy\n",
      " - data vector size = 235\n",
      " - number of realizations = 1000\n",
      "\n",
      "\n",
      "###############################\n",
      "## Sampling data ##############\n",
      "###############################\n",
      "Sampling at best-fit with params\n",
      "cosmological_parameters--omega_m = 0.395\n",
      "cosmological_parameters--h0 = 0.58\n",
      "cosmological_parameters--omega_b = 0.0399\n",
      "cosmological_parameters--n_s = 0.953\n",
      "cosmological_parameters--a_s = 1.89e-09\n",
      "cosmological_parameters--omnuh2 = 0.00639\n",
      "shear_calibration_parameters--m1 = -0.0161\n",
      "shear_calibration_parameters--m2 = -0.0232\n",
      "shear_calibration_parameters--m3 = -0.0181\n",
      "shear_calibration_parameters--m4 = -0.0388\n",
      "wl_photoz_errors--bias_1 = 0.0277\n",
      "wl_photoz_errors--bias_2 = -0.00887\n",
      "wl_photoz_errors--bias_3 = -0.0273\n",
      "wl_photoz_errors--bias_4 = 0.00944\n",
      "lens_photoz_errors--bias_1 = -0.00595\n",
      "lens_photoz_errors--bias_2 = -0.0243\n",
      "lens_photoz_errors--bias_3 = -0.00523\n",
      "lens_photoz_errors--bias_4 = -0.014\n",
      "lens_photoz_errors--width_1 = 0.983\n",
      "lens_photoz_errors--width_2 = 1.12\n",
      "lens_photoz_errors--width_3 = 0.894\n",
      "lens_photoz_errors--width_4 = 0.9\n",
      "bias_lens--b1        = 1.63\n",
      "bias_lens--b2        = 1.82\n",
      "bias_lens--b3        = 2.05\n",
      "bias_lens--b4        = 1.91\n",
      "intrinsic_alignment_parameters--a1 = 0.453\n",
      "intrinsic_alignment_parameters--a2 = -1.07\n",
      "intrinsic_alignment_parameters--alpha1 = -1.72\n",
      "intrinsic_alignment_parameters--alpha2 = 2.47\n",
      "intrinsic_alignment_parameters--bias_ta = 0.0576\n",
      "\n",
      "###############################\n",
      "## Compute chi2 for d #########\n",
      "###############################\n"
     ]
    },
    {
     "data": {
      "application/vnd.jupyter.widget-view+json": {
       "model_id": "2803d1cb974f4183a607297f10548eaa",
       "version_major": 2,
       "version_minor": 0
      },
      "text/plain": [
       "HBox(children=(FloatProgress(value=0.0, max=221.0), HTML(value='')))"
      ]
     },
     "metadata": {},
     "output_type": "display_data"
    },
    {
     "name": "stdout",
     "output_type": "stream",
     "text": [
      "\n",
      "\n",
      "###############################\n",
      "## Compute IS weights for d ###\n",
      "###############################\n"
     ]
    },
    {
     "data": {
      "application/vnd.jupyter.widget-view+json": {
       "model_id": "5d6f0048ba204af1ab2af69c0a720013",
       "version_major": 2,
       "version_minor": 0
      },
      "text/plain": [
       "HBox(children=(FloatProgress(value=0.0, max=221.0), HTML(value='')))"
      ]
     },
     "metadata": {},
     "output_type": "display_data"
    },
    {
     "name": "stdout",
     "output_type": "stream",
     "text": [
      "\n",
      "(221000, 1000)\n",
      "Neff = 54.8 (median), 16th=24.2, 84th=172.7 (0 were nan's)\n",
      "\n",
      "###############################\n",
      "## Computing p-values #########\n",
      "###############################\n"
     ]
    },
    {
     "data": {
      "application/vnd.jupyter.widget-view+json": {
       "model_id": "bc74d0f370e941c7877385af6d546d0c",
       "version_major": 2,
       "version_minor": 0
      },
      "text/plain": [
       "HBox(children=(FloatProgress(value=1.0, bar_style='info', max=1.0), HTML(value='')))"
      ]
     },
     "metadata": {},
     "output_type": "display_data"
    },
    {
     "name": "stdout",
     "output_type": "stream",
     "text": [
      "\n",
      "2x2\n",
      "Appending pval for 2x2 0.004085456706555616\n",
      "gammat\n",
      "Some (4) eigenvalues are non-positive. Clipping to minimum positive one = 2.106592028897921e-12\n",
      "Some (4) eigenvalues are non-positive. Clipping to minimum positive one = 2.106592028897921e-12\n",
      "Some (4) eigenvalues are non-positive. Clipping to minimum positive one = 2.106592028897921e-12\n",
      "Appending pval for gammat 0.017189025941758654\n",
      "wtheta\n",
      "Appending pval for wtheta 0.3286423252947713\n",
      "\n",
      "###############################\n",
      "## Calibrated p-values ########\n",
      "###############################\n",
      "     - Full         calibrated pval=0.0160 (raw pval=0.0039)\n",
      "     - 2x2          calibrated pval=0.0170 (raw pval=0.0041)\n",
      "     - gammat       calibrated pval=0.1330 (raw pval=0.0172)\n",
      "     - wtheta       calibrated pval=0.3300 (raw pval=0.3286)\n",
      "\n",
      "###############################\n",
      "## Plotting ###################\n",
      "###############################\n",
      "\n",
      "###############################\n",
      "## Loading chains #############\n",
      "###############################\n"
     ]
    },
    {
     "data": {
      "application/vnd.jupyter.widget-view+json": {
       "model_id": "d165acfe00aa44b6b2553aada01fddc2",
       "version_major": 2,
       "version_minor": 0
      },
      "text/plain": [
       "HBox(children=(FloatProgress(value=0.0, max=221.0), HTML(value='')))"
      ]
     },
     "metadata": {},
     "output_type": "display_data"
    },
    {
     "name": "stdout",
     "output_type": "stream",
     "text": [
      "Loading list chain at\n",
      "../maglim_2x2_goodnessoffit/ppd_chain_2x2pt_lcdm_SR_maglim_boosted_maglim_2x2_goodnessoffit_0.txt\n",
      "- using params\n",
      "['cosmological_parameters--omega_m', 'cosmological_parameters--h0', 'cosmological_parameters--omega_b', 'cosmological_parameters--n_s', 'cosmological_parameters--a_s', 'cosmological_parameters--omnuh2', 'cosmological_parameters--w', 'cosmological_parameters--massive_nu', 'cosmological_parameters--massless_nu', 'cosmological_parameters--omega_k', 'cosmological_parameters--tau', 'shear_calibration_parameters--m1', 'shear_calibration_parameters--m2', 'shear_calibration_parameters--m3', 'shear_calibration_parameters--m4', 'wl_photoz_errors--bias_1', 'wl_photoz_errors--bias_2', 'wl_photoz_errors--bias_3', 'wl_photoz_errors--bias_4', 'lens_photoz_errors--bias_1', 'lens_photoz_errors--bias_2', 'lens_photoz_errors--bias_3', 'lens_photoz_errors--bias_4', 'lens_photoz_errors--bias_5', 'lens_photoz_errors--width_1', 'lens_photoz_errors--width_2', 'lens_photoz_errors--width_3', 'lens_photoz_errors--width_4', 'lens_photoz_errors--width_5', 'lens_photoz_errors--bias_6', 'lens_photoz_errors--width_6', 'bias_lens--b1', 'bias_lens--b2', 'bias_lens--b3', 'bias_lens--b4', 'bias_lens--b5', 'bias_lens--b6', 'mag_alpha_lens--alpha_1', 'mag_alpha_lens--alpha_2', 'mag_alpha_lens--alpha_3', 'mag_alpha_lens--alpha_4', 'mag_alpha_lens--alpha_5', 'mag_alpha_lens--alpha_6', 'intrinsic_alignment_parameters--z_piv', 'intrinsic_alignment_parameters--a1', 'intrinsic_alignment_parameters--a2', 'intrinsic_alignment_parameters--alpha1', 'intrinsic_alignment_parameters--alpha2', 'intrinsic_alignment_parameters--bias_ta', 'COSMOLOGICAL_PARAMETERS--SIGMA_8', 'COSMOLOGICAL_PARAMETERS--SIGMA_12', 'DATA_VECTOR--2PT_CHI2', 'DATA_VECTOR--2PT_D_CHI2', 'DATA_VECTOR--2PT_DPRIME_CHI2', 'DATA_VECTOR--2PT_XIP_CHI2', 'DATA_VECTOR--2PT_XIM_CHI2', 'DATA_VECTOR--2PT_1X2_CHI2', 'DATA_VECTOR--2PT_GAMMAT_CHI2', 'DATA_VECTOR--2PT_WTHETA_CHI2', 'DATA_VECTOR--2PT_2X2_CHI2', 'PPD--CHI2_DPRIME_DATA', 'PPD--CHI2_DPRIME_REALIZATION', 'PPD--CHI2_D_DATA', 'PPD--CHI2_XIP_DATA', 'PPD--CHI2_XIP_REALIZATION', 'PPD--CHI2_XIM_DATA', 'PPD--CHI2_XIM_REALIZATION', 'PPD--CHI2_1X2_DATA', 'PPD--CHI2_1X2_REALIZATION', 'PPD--CHI2_GAMMAT_DATA', 'PPD--CHI2_GAMMAT_REALIZATION', 'PPD--CHI2_WTHETA_DATA', 'PPD--CHI2_WTHETA_REALIZATION', 'PPD--CHI2_2X2_DATA', 'PPD--CHI2_2X2_REALIZATION', 'PPD--CHI2_DPRIME_COMP_AVG', 'PPD--CHI2_XIP_COMP_AVG', 'PPD--CHI2_XIM_COMP_AVG', 'PPD--CHI2_1X2_COMP_AVG', 'PPD--CHI2_GAMMAT_COMP_AVG', 'PPD--CHI2_WTHETA_COMP_AVG', 'PPD--CHI2_2X2_COMP_AVG', 'prior', 'post']\n",
      "- using nsample =  1000\n",
      "\n",
      "Loading chain at\n",
      "../../trimmed_chains_test/chain_2x2pt_lcdm_SR_maglim_boosted.txt\n",
      "Sampler not found -- non-standard cosmosis output\n",
      "Using 221 chunks of size [1000, 1000, 1000, 1000, 1000, 1000, 1000, 1000, 1000, 1000, 1000, 1000, 1000, 1000, 1000, 1000, 1000, 1000, 1000, 1000, 1000, 1000, 1000, 1000, 1000, 1000, 1000, 1000, 1000, 1000, 1000, 1000, 1000, 1000, 1000, 1000, 1000, 1000, 1000, 1000, 1000, 1000, 1000, 1000, 1000, 1000, 1000, 1000, 1000, 1000, 1000, 1000, 1000, 1000, 1000, 1000, 1000, 1000, 1000, 1000, 1000, 1000, 1000, 1000, 1000, 1000, 1000, 1000, 1000, 1000, 1000, 1000, 1000, 1000, 1000, 1000, 1000, 1000, 1000, 1000, 1000, 1000, 1000, 1000, 1000, 1000, 1000, 1000, 1000, 1000, 1000, 1000, 1000, 1000, 1000, 1000, 1000, 1000, 1000, 1000, 1000, 1000, 1000, 1000, 1000, 1000, 1000, 1000, 1000, 1000, 1000, 1000, 1000, 1000, 1000, 1000, 1000, 1000, 1000, 1000, 1000, 1000, 1000, 1000, 1000, 1000, 1000, 1000, 1000, 1000, 1000, 1000, 1000, 1000, 1000, 1000, 1000, 1000, 1000, 1000, 1000, 1000, 1000, 1000, 1000, 1000, 1000, 1000, 1000, 1000, 1000, 1000, 1000, 1000, 1000, 1000, 1000, 1000, 1000, 1000, 1000, 1000, 1000, 1000, 1000, 1000, 1000, 1000, 1000, 1000, 1000, 1000, 1000, 1000, 1000, 1000, 1000, 1000, 1000, 1000, 1000, 1000, 1000, 1000, 1000, 1000, 1000, 1000, 1000, 1000, 1000, 1000, 1000, 1000, 1000, 1000, 1000, 1000, 1000, 1000, 1000, 1000, 1000, 1000, 1000, 1000, 1000, 1000, 1000, 1000, 1000, 1000, 1000, 1000, 1000, 1000, 1000, 1000, 1000, 1000, 1000] (1000) for a total of 221000 posterior samples\n",
      "\n",
      "###############################\n",
      "## Loading scale/bin cuts #####\n",
      "###############################\n",
      "Found observables in data_file ['xip', 'xim', 'gammat', 'wtheta']\n",
      "Reading options for likelihood module:  2pt_d_like\n",
      "Found scale cuts for  {'xip': [(1, 1), (1, 2), (1, 3), (1, 4), (2, 2), (2, 3), (2, 4), (3, 3), (3, 4), (4, 4)], 'xim': [(1, 1), (1, 2), (1, 3), (1, 4), (2, 2), (2, 3), (2, 4), (3, 3), (3, 4), (4, 4)], 'gammat': [(1, 1), (1, 2), (1, 3), (1, 4), (2, 1), (2, 2), (2, 3), (2, 4), (3, 1), (3, 2), (3, 3), (3, 4), (4, 1), (4, 2), (4, 3), (4, 4), (5, 1), (5, 2), (5, 3), (5, 4), (6, 1), (6, 2), (6, 3), (6, 4)], 'wtheta': [(1, 1), (1, 2), (1, 3), (1, 4), (1, 5), (1, 6), (2, 2), (2, 3), (2, 4), (2, 5), (2, 6), (3, 3), (3, 4), (3, 5), (3, 6), (4, 4), (4, 5), (4, 6), (5, 5), (5, 6), (6, 6)]}\n",
      "Getting indices for gammat\n",
      "Getting indices for wtheta\n",
      "\n",
      "Found observables in data_file ['xip', 'xim', 'gammat', 'wtheta']\n",
      "Reading options for likelihood module:  2pt_dprime_like\n",
      "Found scale cuts for  {'xip': [(1, 1), (1, 2), (1, 3), (1, 4), (2, 2), (2, 3), (2, 4), (3, 3), (3, 4), (4, 4)], 'xim': [(1, 1), (1, 2), (1, 3), (1, 4), (2, 2), (2, 3), (2, 4), (3, 3), (3, 4), (4, 4)], 'gammat': [(1, 1), (1, 2), (1, 3), (1, 4), (2, 1), (2, 2), (2, 3), (2, 4), (3, 1), (3, 2), (3, 3), (3, 4), (4, 1), (4, 2), (4, 3), (4, 4), (5, 1), (5, 2), (5, 3), (5, 4), (6, 1), (6, 2), (6, 3), (6, 4)], 'wtheta': [(1, 1), (1, 2), (1, 3), (1, 4), (1, 5), (1, 6), (2, 2), (2, 3), (2, 4), (2, 5), (2, 6), (3, 3), (3, 4), (3, 5), (3, 6), (4, 4), (4, 5), (4, 6), (5, 5), (5, 6), (6, 6)]}\n",
      "Getting indices for gammat\n",
      "Getting indices for wtheta\n",
      "\n",
      "Using subsets ['2x2', 'gammat', 'wtheta']\n",
      "\n",
      "Using same indices for d and dprime -> conditioning turned off\n",
      "\n",
      "###############################\n",
      "## Loading realizations #######\n",
      "###############################\n"
     ]
    },
    {
     "data": {
      "application/vnd.jupyter.widget-view+json": {
       "model_id": "7f89f01b058d4ef991be4f730b656a69",
       "version_major": 2,
       "version_minor": 0
      },
      "text/plain": [
       "HBox(children=(FloatProgress(value=0.0, max=221.0), HTML(value='')))"
      ]
     },
     "metadata": {},
     "output_type": "display_data"
    },
    {
     "name": "stdout",
     "output_type": "stream",
     "text": [
      "Loading realizations from  ../maglim_2x2_goodnessoffit/ppd_2x2pt_lcdm_SR_maglim_boosted_maglim_2x2_goodnessoffit_0_dprime_theory.npy\n",
      " - data vector size = 235\n",
      " - number of realizations = 1000\n",
      "Loading realizations from  ../maglim_2x2_goodnessoffit/ppd_2x2pt_lcdm_SR_maglim_boosted_maglim_2x2_goodnessoffit_0_dprime_real.npy\n",
      " - data vector size = 235\n",
      " - number of realizations = 1000\n",
      "Loading realizations from  ../maglim_2x2_goodnessoffit/ppd_2x2pt_lcdm_SR_maglim_boosted_maglim_2x2_goodnessoffit_0_d_theory.npy\n",
      " - data vector size = 235\n",
      " - number of realizations = 1000\n",
      "\n",
      "\n",
      "###############################\n",
      "## Sampling data ##############\n",
      "###############################\n",
      "Sampling at best-fit with params\n",
      "cosmological_parameters--omega_m = 0.395\n",
      "cosmological_parameters--h0 = 0.58\n",
      "cosmological_parameters--omega_b = 0.0399\n",
      "cosmological_parameters--n_s = 0.953\n",
      "cosmological_parameters--a_s = 1.89e-09\n",
      "cosmological_parameters--omnuh2 = 0.00639\n",
      "shear_calibration_parameters--m1 = -0.0161\n",
      "shear_calibration_parameters--m2 = -0.0232\n",
      "shear_calibration_parameters--m3 = -0.0181\n",
      "shear_calibration_parameters--m4 = -0.0388\n",
      "wl_photoz_errors--bias_1 = 0.0277\n",
      "wl_photoz_errors--bias_2 = -0.00887\n",
      "wl_photoz_errors--bias_3 = -0.0273\n",
      "wl_photoz_errors--bias_4 = 0.00944\n",
      "lens_photoz_errors--bias_1 = -0.00595\n",
      "lens_photoz_errors--bias_2 = -0.0243\n",
      "lens_photoz_errors--bias_3 = -0.00523\n",
      "lens_photoz_errors--bias_4 = -0.014\n",
      "lens_photoz_errors--width_1 = 0.983\n",
      "lens_photoz_errors--width_2 = 1.12\n",
      "lens_photoz_errors--width_3 = 0.894\n",
      "lens_photoz_errors--width_4 = 0.9\n",
      "bias_lens--b1        = 1.63\n",
      "bias_lens--b2        = 1.82\n",
      "bias_lens--b3        = 2.05\n",
      "bias_lens--b4        = 1.91\n",
      "intrinsic_alignment_parameters--a1 = 0.453\n",
      "intrinsic_alignment_parameters--a2 = -1.07\n",
      "intrinsic_alignment_parameters--alpha1 = -1.72\n",
      "intrinsic_alignment_parameters--alpha2 = 2.47\n",
      "intrinsic_alignment_parameters--bias_ta = 0.0576\n",
      "\n",
      "###############################\n",
      "## Compute chi2 for d #########\n",
      "###############################\n"
     ]
    },
    {
     "data": {
      "application/vnd.jupyter.widget-view+json": {
       "model_id": "8b6176b4667f4d6b8a9e285aa6adcc25",
       "version_major": 2,
       "version_minor": 0
      },
      "text/plain": [
       "HBox(children=(FloatProgress(value=0.0, max=221.0), HTML(value='')))"
      ]
     },
     "metadata": {},
     "output_type": "display_data"
    },
    {
     "name": "stdout",
     "output_type": "stream",
     "text": [
      "\n",
      "\n",
      "###############################\n",
      "## Compute IS weights for d ###\n",
      "###############################\n"
     ]
    },
    {
     "data": {
      "application/vnd.jupyter.widget-view+json": {
       "model_id": "9b3eca607a53489ca287964beb47700f",
       "version_major": 2,
       "version_minor": 0
      },
      "text/plain": [
       "HBox(children=(FloatProgress(value=0.0, max=221.0), HTML(value='')))"
      ]
     },
     "metadata": {},
     "output_type": "display_data"
    },
    {
     "name": "stdout",
     "output_type": "stream",
     "text": [
      "\n",
      "(221000, 1000)\n",
      "Neff = 56.6 (median), 16th=25.3, 84th=183.8 (0 were nan's)\n",
      "\n",
      "###############################\n",
      "## Computing p-values #########\n",
      "###############################\n"
     ]
    },
    {
     "data": {
      "application/vnd.jupyter.widget-view+json": {
       "model_id": "23902a29ed8443ed9c0fec232dd04a1a",
       "version_major": 2,
       "version_minor": 0
      },
      "text/plain": [
       "HBox(children=(FloatProgress(value=1.0, bar_style='info', max=1.0), HTML(value='')))"
      ]
     },
     "metadata": {},
     "output_type": "display_data"
    },
    {
     "name": "stdout",
     "output_type": "stream",
     "text": [
      "\n",
      "2x2\n",
      "gammat\n",
      "Some (4) eigenvalues are non-positive. Clipping to minimum positive one = 2.106592028897921e-12\n",
      "Some (4) eigenvalues are non-positive. Clipping to minimum positive one = 2.106592028897921e-12\n",
      "wtheta\n",
      "\n",
      "###############################\n",
      "## Calibrated p-values ########\n",
      "###############################\n",
      "     - Full         calibrated pval=0.0150 (raw pval=0.0039)\n",
      "     - 2x2          calibrated pval=0.0180 (raw pval=0.0041)\n",
      "     - gammat       calibrated pval=0.1220 (raw pval=0.0172)\n",
      "     - wtheta       calibrated pval=0.3330 (raw pval=0.3286)\n",
      "\n",
      "###############################\n",
      "## Plotting ###################\n",
      "###############################\n",
      "\n",
      "###############################\n",
      "## Loading chains #############\n",
      "###############################\n"
     ]
    },
    {
     "data": {
      "application/vnd.jupyter.widget-view+json": {
       "model_id": "3b3f3a16d3624617a2058e13311be9a0",
       "version_major": 2,
       "version_minor": 0
      },
      "text/plain": [
       "HBox(children=(FloatProgress(value=0.0, max=221.0), HTML(value='')))"
      ]
     },
     "metadata": {},
     "output_type": "display_data"
    },
    {
     "name": "stdout",
     "output_type": "stream",
     "text": [
      "Loading list chain at\n",
      "../maglim_2x2_goodnessoffit/ppd_chain_2x2pt_lcdm_SR_maglim_boosted_maglim_2x2_goodnessoffit_0.txt\n",
      "- using params\n",
      "['cosmological_parameters--omega_m', 'cosmological_parameters--h0', 'cosmological_parameters--omega_b', 'cosmological_parameters--n_s', 'cosmological_parameters--a_s', 'cosmological_parameters--omnuh2', 'cosmological_parameters--w', 'cosmological_parameters--massive_nu', 'cosmological_parameters--massless_nu', 'cosmological_parameters--omega_k', 'cosmological_parameters--tau', 'shear_calibration_parameters--m1', 'shear_calibration_parameters--m2', 'shear_calibration_parameters--m3', 'shear_calibration_parameters--m4', 'wl_photoz_errors--bias_1', 'wl_photoz_errors--bias_2', 'wl_photoz_errors--bias_3', 'wl_photoz_errors--bias_4', 'lens_photoz_errors--bias_1', 'lens_photoz_errors--bias_2', 'lens_photoz_errors--bias_3', 'lens_photoz_errors--bias_4', 'lens_photoz_errors--bias_5', 'lens_photoz_errors--width_1', 'lens_photoz_errors--width_2', 'lens_photoz_errors--width_3', 'lens_photoz_errors--width_4', 'lens_photoz_errors--width_5', 'lens_photoz_errors--bias_6', 'lens_photoz_errors--width_6', 'bias_lens--b1', 'bias_lens--b2', 'bias_lens--b3', 'bias_lens--b4', 'bias_lens--b5', 'bias_lens--b6', 'mag_alpha_lens--alpha_1', 'mag_alpha_lens--alpha_2', 'mag_alpha_lens--alpha_3', 'mag_alpha_lens--alpha_4', 'mag_alpha_lens--alpha_5', 'mag_alpha_lens--alpha_6', 'intrinsic_alignment_parameters--z_piv', 'intrinsic_alignment_parameters--a1', 'intrinsic_alignment_parameters--a2', 'intrinsic_alignment_parameters--alpha1', 'intrinsic_alignment_parameters--alpha2', 'intrinsic_alignment_parameters--bias_ta', 'COSMOLOGICAL_PARAMETERS--SIGMA_8', 'COSMOLOGICAL_PARAMETERS--SIGMA_12', 'DATA_VECTOR--2PT_CHI2', 'DATA_VECTOR--2PT_D_CHI2', 'DATA_VECTOR--2PT_DPRIME_CHI2', 'DATA_VECTOR--2PT_XIP_CHI2', 'DATA_VECTOR--2PT_XIM_CHI2', 'DATA_VECTOR--2PT_1X2_CHI2', 'DATA_VECTOR--2PT_GAMMAT_CHI2', 'DATA_VECTOR--2PT_WTHETA_CHI2', 'DATA_VECTOR--2PT_2X2_CHI2', 'PPD--CHI2_DPRIME_DATA', 'PPD--CHI2_DPRIME_REALIZATION', 'PPD--CHI2_D_DATA', 'PPD--CHI2_XIP_DATA', 'PPD--CHI2_XIP_REALIZATION', 'PPD--CHI2_XIM_DATA', 'PPD--CHI2_XIM_REALIZATION', 'PPD--CHI2_1X2_DATA', 'PPD--CHI2_1X2_REALIZATION', 'PPD--CHI2_GAMMAT_DATA', 'PPD--CHI2_GAMMAT_REALIZATION', 'PPD--CHI2_WTHETA_DATA', 'PPD--CHI2_WTHETA_REALIZATION', 'PPD--CHI2_2X2_DATA', 'PPD--CHI2_2X2_REALIZATION', 'PPD--CHI2_DPRIME_COMP_AVG', 'PPD--CHI2_XIP_COMP_AVG', 'PPD--CHI2_XIM_COMP_AVG', 'PPD--CHI2_1X2_COMP_AVG', 'PPD--CHI2_GAMMAT_COMP_AVG', 'PPD--CHI2_WTHETA_COMP_AVG', 'PPD--CHI2_2X2_COMP_AVG', 'prior', 'post']\n",
      "- using nsample =  1000\n",
      "\n",
      "Loading chain at\n",
      "../../trimmed_chains_test/chain_2x2pt_lcdm_SR_maglim_boosted.txt\n",
      "Sampler not found -- non-standard cosmosis output\n",
      "Using 221 chunks of size [1000, 1000, 1000, 1000, 1000, 1000, 1000, 1000, 1000, 1000, 1000, 1000, 1000, 1000, 1000, 1000, 1000, 1000, 1000, 1000, 1000, 1000, 1000, 1000, 1000, 1000, 1000, 1000, 1000, 1000, 1000, 1000, 1000, 1000, 1000, 1000, 1000, 1000, 1000, 1000, 1000, 1000, 1000, 1000, 1000, 1000, 1000, 1000, 1000, 1000, 1000, 1000, 1000, 1000, 1000, 1000, 1000, 1000, 1000, 1000, 1000, 1000, 1000, 1000, 1000, 1000, 1000, 1000, 1000, 1000, 1000, 1000, 1000, 1000, 1000, 1000, 1000, 1000, 1000, 1000, 1000, 1000, 1000, 1000, 1000, 1000, 1000, 1000, 1000, 1000, 1000, 1000, 1000, 1000, 1000, 1000, 1000, 1000, 1000, 1000, 1000, 1000, 1000, 1000, 1000, 1000, 1000, 1000, 1000, 1000, 1000, 1000, 1000, 1000, 1000, 1000, 1000, 1000, 1000, 1000, 1000, 1000, 1000, 1000, 1000, 1000, 1000, 1000, 1000, 1000, 1000, 1000, 1000, 1000, 1000, 1000, 1000, 1000, 1000, 1000, 1000, 1000, 1000, 1000, 1000, 1000, 1000, 1000, 1000, 1000, 1000, 1000, 1000, 1000, 1000, 1000, 1000, 1000, 1000, 1000, 1000, 1000, 1000, 1000, 1000, 1000, 1000, 1000, 1000, 1000, 1000, 1000, 1000, 1000, 1000, 1000, 1000, 1000, 1000, 1000, 1000, 1000, 1000, 1000, 1000, 1000, 1000, 1000, 1000, 1000, 1000, 1000, 1000, 1000, 1000, 1000, 1000, 1000, 1000, 1000, 1000, 1000, 1000, 1000, 1000, 1000, 1000, 1000, 1000, 1000, 1000, 1000, 1000, 1000, 1000, 1000, 1000, 1000, 1000, 1000, 1000] (1000) for a total of 221000 posterior samples\n",
      "\n",
      "###############################\n",
      "## Loading scale/bin cuts #####\n",
      "###############################\n",
      "Found observables in data_file ['xip', 'xim', 'gammat', 'wtheta']\n",
      "Reading options for likelihood module:  2pt_d_like\n",
      "Found scale cuts for  {'xip': [(1, 1), (1, 2), (1, 3), (1, 4), (2, 2), (2, 3), (2, 4), (3, 3), (3, 4), (4, 4)], 'xim': [(1, 1), (1, 2), (1, 3), (1, 4), (2, 2), (2, 3), (2, 4), (3, 3), (3, 4), (4, 4)], 'gammat': [(1, 1), (1, 2), (1, 3), (1, 4), (2, 1), (2, 2), (2, 3), (2, 4), (3, 1), (3, 2), (3, 3), (3, 4), (4, 1), (4, 2), (4, 3), (4, 4), (5, 1), (5, 2), (5, 3), (5, 4), (6, 1), (6, 2), (6, 3), (6, 4)], 'wtheta': [(1, 1), (1, 2), (1, 3), (1, 4), (1, 5), (1, 6), (2, 2), (2, 3), (2, 4), (2, 5), (2, 6), (3, 3), (3, 4), (3, 5), (3, 6), (4, 4), (4, 5), (4, 6), (5, 5), (5, 6), (6, 6)]}\n",
      "Getting indices for gammat\n",
      "Getting indices for wtheta\n",
      "\n",
      "Found observables in data_file ['xip', 'xim', 'gammat', 'wtheta']\n",
      "Reading options for likelihood module:  2pt_dprime_like\n",
      "Found scale cuts for  {'xip': [(1, 1), (1, 2), (1, 3), (1, 4), (2, 2), (2, 3), (2, 4), (3, 3), (3, 4), (4, 4)], 'xim': [(1, 1), (1, 2), (1, 3), (1, 4), (2, 2), (2, 3), (2, 4), (3, 3), (3, 4), (4, 4)], 'gammat': [(1, 1), (1, 2), (1, 3), (1, 4), (2, 1), (2, 2), (2, 3), (2, 4), (3, 1), (3, 2), (3, 3), (3, 4), (4, 1), (4, 2), (4, 3), (4, 4), (5, 1), (5, 2), (5, 3), (5, 4), (6, 1), (6, 2), (6, 3), (6, 4)], 'wtheta': [(1, 1), (1, 2), (1, 3), (1, 4), (1, 5), (1, 6), (2, 2), (2, 3), (2, 4), (2, 5), (2, 6), (3, 3), (3, 4), (3, 5), (3, 6), (4, 4), (4, 5), (4, 6), (5, 5), (5, 6), (6, 6)]}\n",
      "Getting indices for gammat\n",
      "Getting indices for wtheta\n",
      "\n",
      "Using subsets ['2x2', 'gammat', 'wtheta']\n",
      "\n",
      "Using same indices for d and dprime -> conditioning turned off\n",
      "\n",
      "###############################\n",
      "## Loading realizations #######\n",
      "###############################\n"
     ]
    },
    {
     "data": {
      "application/vnd.jupyter.widget-view+json": {
       "model_id": "fad75878aedd44369fbeffebef0d461b",
       "version_major": 2,
       "version_minor": 0
      },
      "text/plain": [
       "HBox(children=(FloatProgress(value=0.0, max=221.0), HTML(value='')))"
      ]
     },
     "metadata": {},
     "output_type": "display_data"
    },
    {
     "name": "stdout",
     "output_type": "stream",
     "text": [
      "Loading realizations from  ../maglim_2x2_goodnessoffit/ppd_2x2pt_lcdm_SR_maglim_boosted_maglim_2x2_goodnessoffit_0_dprime_theory.npy\n",
      " - data vector size = 235\n",
      " - number of realizations = 1000\n",
      "Loading realizations from  ../maglim_2x2_goodnessoffit/ppd_2x2pt_lcdm_SR_maglim_boosted_maglim_2x2_goodnessoffit_0_dprime_real.npy\n",
      " - data vector size = 235\n",
      " - number of realizations = 1000\n",
      "Loading realizations from  ../maglim_2x2_goodnessoffit/ppd_2x2pt_lcdm_SR_maglim_boosted_maglim_2x2_goodnessoffit_0_d_theory.npy\n",
      " - data vector size = 235\n",
      " - number of realizations = 1000\n",
      "\n",
      "\n",
      "###############################\n",
      "## Sampling data ##############\n",
      "###############################\n",
      "Sampling at best-fit with params\n",
      "cosmological_parameters--omega_m = 0.395\n",
      "cosmological_parameters--h0 = 0.58\n",
      "cosmological_parameters--omega_b = 0.0399\n",
      "cosmological_parameters--n_s = 0.953\n",
      "cosmological_parameters--a_s = 1.89e-09\n",
      "cosmological_parameters--omnuh2 = 0.00639\n",
      "shear_calibration_parameters--m1 = -0.0161\n",
      "shear_calibration_parameters--m2 = -0.0232\n",
      "shear_calibration_parameters--m3 = -0.0181\n",
      "shear_calibration_parameters--m4 = -0.0388\n",
      "wl_photoz_errors--bias_1 = 0.0277\n",
      "wl_photoz_errors--bias_2 = -0.00887\n",
      "wl_photoz_errors--bias_3 = -0.0273\n",
      "wl_photoz_errors--bias_4 = 0.00944\n",
      "lens_photoz_errors--bias_1 = -0.00595\n",
      "lens_photoz_errors--bias_2 = -0.0243\n",
      "lens_photoz_errors--bias_3 = -0.00523\n",
      "lens_photoz_errors--bias_4 = -0.014\n",
      "lens_photoz_errors--width_1 = 0.983\n",
      "lens_photoz_errors--width_2 = 1.12\n",
      "lens_photoz_errors--width_3 = 0.894\n",
      "lens_photoz_errors--width_4 = 0.9\n",
      "bias_lens--b1        = 1.63\n",
      "bias_lens--b2        = 1.82\n",
      "bias_lens--b3        = 2.05\n",
      "bias_lens--b4        = 1.91\n",
      "intrinsic_alignment_parameters--a1 = 0.453\n",
      "intrinsic_alignment_parameters--a2 = -1.07\n",
      "intrinsic_alignment_parameters--alpha1 = -1.72\n",
      "intrinsic_alignment_parameters--alpha2 = 2.47\n",
      "intrinsic_alignment_parameters--bias_ta = 0.0576\n",
      "\n",
      "###############################\n",
      "## Compute chi2 for d #########\n",
      "###############################\n"
     ]
    },
    {
     "data": {
      "application/vnd.jupyter.widget-view+json": {
       "model_id": "c0b0a59c26d443e09d12c3019656681d",
       "version_major": 2,
       "version_minor": 0
      },
      "text/plain": [
       "HBox(children=(FloatProgress(value=0.0, max=221.0), HTML(value='')))"
      ]
     },
     "metadata": {},
     "output_type": "display_data"
    },
    {
     "name": "stdout",
     "output_type": "stream",
     "text": [
      "\n",
      "\n",
      "###############################\n",
      "## Compute IS weights for d ###\n",
      "###############################\n"
     ]
    },
    {
     "data": {
      "application/vnd.jupyter.widget-view+json": {
       "model_id": "ffe345e82ab94582a54c73a0b4e5a5fd",
       "version_major": 2,
       "version_minor": 0
      },
      "text/plain": [
       "HBox(children=(FloatProgress(value=0.0, max=221.0), HTML(value='')))"
      ]
     },
     "metadata": {},
     "output_type": "display_data"
    },
    {
     "name": "stdout",
     "output_type": "stream",
     "text": [
      "\n",
      "(221000, 1000)\n",
      "Neff = 60.1 (median), 16th=24.6, 84th=177.7 (0 were nan's)\n",
      "\n",
      "###############################\n",
      "## Computing p-values #########\n",
      "###############################\n"
     ]
    },
    {
     "data": {
      "application/vnd.jupyter.widget-view+json": {
       "model_id": "b1a278ddb2784a9d99c5e1a811922a44",
       "version_major": 2,
       "version_minor": 0
      },
      "text/plain": [
       "HBox(children=(FloatProgress(value=1.0, bar_style='info', max=1.0), HTML(value='')))"
      ]
     },
     "metadata": {},
     "output_type": "display_data"
    },
    {
     "name": "stdout",
     "output_type": "stream",
     "text": [
      "\n",
      "2x2\n",
      "gammat\n",
      "Some (4) eigenvalues are non-positive. Clipping to minimum positive one = 2.106592028897921e-12\n",
      "Some (4) eigenvalues are non-positive. Clipping to minimum positive one = 2.106592028897921e-12\n",
      "wtheta\n",
      "\n",
      "###############################\n",
      "## Calibrated p-values ########\n",
      "###############################\n",
      "     - Full         calibrated pval=0.0280 (raw pval=0.0039)\n",
      "     - 2x2          calibrated pval=0.0280 (raw pval=0.0041)\n",
      "     - gammat       calibrated pval=0.1080 (raw pval=0.0172)\n",
      "     - wtheta       calibrated pval=0.3460 (raw pval=0.3286)\n",
      "\n",
      "###############################\n",
      "## Plotting ###################\n",
      "###############################\n",
      "\n",
      "###############################\n",
      "## Loading chains #############\n",
      "###############################\n"
     ]
    },
    {
     "data": {
      "application/vnd.jupyter.widget-view+json": {
       "model_id": "59270fe52b59413999f99bc08d56fa3c",
       "version_major": 2,
       "version_minor": 0
      },
      "text/plain": [
       "HBox(children=(FloatProgress(value=0.0, max=221.0), HTML(value='')))"
      ]
     },
     "metadata": {},
     "output_type": "display_data"
    },
    {
     "name": "stdout",
     "output_type": "stream",
     "text": [
      "Loading list chain at\n",
      "../maglim_2x2_goodnessoffit/ppd_chain_2x2pt_lcdm_SR_maglim_boosted_maglim_2x2_goodnessoffit_0.txt\n",
      "- using params\n",
      "['cosmological_parameters--omega_m', 'cosmological_parameters--h0', 'cosmological_parameters--omega_b', 'cosmological_parameters--n_s', 'cosmological_parameters--a_s', 'cosmological_parameters--omnuh2', 'cosmological_parameters--w', 'cosmological_parameters--massive_nu', 'cosmological_parameters--massless_nu', 'cosmological_parameters--omega_k', 'cosmological_parameters--tau', 'shear_calibration_parameters--m1', 'shear_calibration_parameters--m2', 'shear_calibration_parameters--m3', 'shear_calibration_parameters--m4', 'wl_photoz_errors--bias_1', 'wl_photoz_errors--bias_2', 'wl_photoz_errors--bias_3', 'wl_photoz_errors--bias_4', 'lens_photoz_errors--bias_1', 'lens_photoz_errors--bias_2', 'lens_photoz_errors--bias_3', 'lens_photoz_errors--bias_4', 'lens_photoz_errors--bias_5', 'lens_photoz_errors--width_1', 'lens_photoz_errors--width_2', 'lens_photoz_errors--width_3', 'lens_photoz_errors--width_4', 'lens_photoz_errors--width_5', 'lens_photoz_errors--bias_6', 'lens_photoz_errors--width_6', 'bias_lens--b1', 'bias_lens--b2', 'bias_lens--b3', 'bias_lens--b4', 'bias_lens--b5', 'bias_lens--b6', 'mag_alpha_lens--alpha_1', 'mag_alpha_lens--alpha_2', 'mag_alpha_lens--alpha_3', 'mag_alpha_lens--alpha_4', 'mag_alpha_lens--alpha_5', 'mag_alpha_lens--alpha_6', 'intrinsic_alignment_parameters--z_piv', 'intrinsic_alignment_parameters--a1', 'intrinsic_alignment_parameters--a2', 'intrinsic_alignment_parameters--alpha1', 'intrinsic_alignment_parameters--alpha2', 'intrinsic_alignment_parameters--bias_ta', 'COSMOLOGICAL_PARAMETERS--SIGMA_8', 'COSMOLOGICAL_PARAMETERS--SIGMA_12', 'DATA_VECTOR--2PT_CHI2', 'DATA_VECTOR--2PT_D_CHI2', 'DATA_VECTOR--2PT_DPRIME_CHI2', 'DATA_VECTOR--2PT_XIP_CHI2', 'DATA_VECTOR--2PT_XIM_CHI2', 'DATA_VECTOR--2PT_1X2_CHI2', 'DATA_VECTOR--2PT_GAMMAT_CHI2', 'DATA_VECTOR--2PT_WTHETA_CHI2', 'DATA_VECTOR--2PT_2X2_CHI2', 'PPD--CHI2_DPRIME_DATA', 'PPD--CHI2_DPRIME_REALIZATION', 'PPD--CHI2_D_DATA', 'PPD--CHI2_XIP_DATA', 'PPD--CHI2_XIP_REALIZATION', 'PPD--CHI2_XIM_DATA', 'PPD--CHI2_XIM_REALIZATION', 'PPD--CHI2_1X2_DATA', 'PPD--CHI2_1X2_REALIZATION', 'PPD--CHI2_GAMMAT_DATA', 'PPD--CHI2_GAMMAT_REALIZATION', 'PPD--CHI2_WTHETA_DATA', 'PPD--CHI2_WTHETA_REALIZATION', 'PPD--CHI2_2X2_DATA', 'PPD--CHI2_2X2_REALIZATION', 'PPD--CHI2_DPRIME_COMP_AVG', 'PPD--CHI2_XIP_COMP_AVG', 'PPD--CHI2_XIM_COMP_AVG', 'PPD--CHI2_1X2_COMP_AVG', 'PPD--CHI2_GAMMAT_COMP_AVG', 'PPD--CHI2_WTHETA_COMP_AVG', 'PPD--CHI2_2X2_COMP_AVG', 'prior', 'post']\n",
      "- using nsample =  1000\n",
      "\n",
      "Loading chain at\n",
      "../../trimmed_chains_test/chain_2x2pt_lcdm_SR_maglim_boosted.txt\n",
      "Sampler not found -- non-standard cosmosis output\n",
      "Using 221 chunks of size [1000, 1000, 1000, 1000, 1000, 1000, 1000, 1000, 1000, 1000, 1000, 1000, 1000, 1000, 1000, 1000, 1000, 1000, 1000, 1000, 1000, 1000, 1000, 1000, 1000, 1000, 1000, 1000, 1000, 1000, 1000, 1000, 1000, 1000, 1000, 1000, 1000, 1000, 1000, 1000, 1000, 1000, 1000, 1000, 1000, 1000, 1000, 1000, 1000, 1000, 1000, 1000, 1000, 1000, 1000, 1000, 1000, 1000, 1000, 1000, 1000, 1000, 1000, 1000, 1000, 1000, 1000, 1000, 1000, 1000, 1000, 1000, 1000, 1000, 1000, 1000, 1000, 1000, 1000, 1000, 1000, 1000, 1000, 1000, 1000, 1000, 1000, 1000, 1000, 1000, 1000, 1000, 1000, 1000, 1000, 1000, 1000, 1000, 1000, 1000, 1000, 1000, 1000, 1000, 1000, 1000, 1000, 1000, 1000, 1000, 1000, 1000, 1000, 1000, 1000, 1000, 1000, 1000, 1000, 1000, 1000, 1000, 1000, 1000, 1000, 1000, 1000, 1000, 1000, 1000, 1000, 1000, 1000, 1000, 1000, 1000, 1000, 1000, 1000, 1000, 1000, 1000, 1000, 1000, 1000, 1000, 1000, 1000, 1000, 1000, 1000, 1000, 1000, 1000, 1000, 1000, 1000, 1000, 1000, 1000, 1000, 1000, 1000, 1000, 1000, 1000, 1000, 1000, 1000, 1000, 1000, 1000, 1000, 1000, 1000, 1000, 1000, 1000, 1000, 1000, 1000, 1000, 1000, 1000, 1000, 1000, 1000, 1000, 1000, 1000, 1000, 1000, 1000, 1000, 1000, 1000, 1000, 1000, 1000, 1000, 1000, 1000, 1000, 1000, 1000, 1000, 1000, 1000, 1000, 1000, 1000, 1000, 1000, 1000, 1000, 1000, 1000, 1000, 1000, 1000, 1000] (1000) for a total of 221000 posterior samples\n",
      "\n",
      "###############################\n",
      "## Loading scale/bin cuts #####\n",
      "###############################\n",
      "Found observables in data_file ['xip', 'xim', 'gammat', 'wtheta']\n",
      "Reading options for likelihood module:  2pt_d_like\n",
      "Found scale cuts for  {'xip': [(1, 1), (1, 2), (1, 3), (1, 4), (2, 2), (2, 3), (2, 4), (3, 3), (3, 4), (4, 4)], 'xim': [(1, 1), (1, 2), (1, 3), (1, 4), (2, 2), (2, 3), (2, 4), (3, 3), (3, 4), (4, 4)], 'gammat': [(1, 1), (1, 2), (1, 3), (1, 4), (2, 1), (2, 2), (2, 3), (2, 4), (3, 1), (3, 2), (3, 3), (3, 4), (4, 1), (4, 2), (4, 3), (4, 4), (5, 1), (5, 2), (5, 3), (5, 4), (6, 1), (6, 2), (6, 3), (6, 4)], 'wtheta': [(1, 1), (1, 2), (1, 3), (1, 4), (1, 5), (1, 6), (2, 2), (2, 3), (2, 4), (2, 5), (2, 6), (3, 3), (3, 4), (3, 5), (3, 6), (4, 4), (4, 5), (4, 6), (5, 5), (5, 6), (6, 6)]}\n",
      "Getting indices for gammat\n",
      "Getting indices for wtheta\n",
      "\n",
      "Found observables in data_file ['xip', 'xim', 'gammat', 'wtheta']\n",
      "Reading options for likelihood module:  2pt_dprime_like\n",
      "Found scale cuts for  {'xip': [(1, 1), (1, 2), (1, 3), (1, 4), (2, 2), (2, 3), (2, 4), (3, 3), (3, 4), (4, 4)], 'xim': [(1, 1), (1, 2), (1, 3), (1, 4), (2, 2), (2, 3), (2, 4), (3, 3), (3, 4), (4, 4)], 'gammat': [(1, 1), (1, 2), (1, 3), (1, 4), (2, 1), (2, 2), (2, 3), (2, 4), (3, 1), (3, 2), (3, 3), (3, 4), (4, 1), (4, 2), (4, 3), (4, 4), (5, 1), (5, 2), (5, 3), (5, 4), (6, 1), (6, 2), (6, 3), (6, 4)], 'wtheta': [(1, 1), (1, 2), (1, 3), (1, 4), (1, 5), (1, 6), (2, 2), (2, 3), (2, 4), (2, 5), (2, 6), (3, 3), (3, 4), (3, 5), (3, 6), (4, 4), (4, 5), (4, 6), (5, 5), (5, 6), (6, 6)]}\n",
      "Getting indices for gammat\n",
      "Getting indices for wtheta\n",
      "\n",
      "Using subsets ['2x2', 'gammat', 'wtheta']\n",
      "\n",
      "Using same indices for d and dprime -> conditioning turned off\n",
      "\n",
      "###############################\n",
      "## Loading realizations #######\n",
      "###############################\n"
     ]
    },
    {
     "data": {
      "application/vnd.jupyter.widget-view+json": {
       "model_id": "2c03b21a0bb14a8fa4088ad402ae32e9",
       "version_major": 2,
       "version_minor": 0
      },
      "text/plain": [
       "HBox(children=(FloatProgress(value=0.0, max=221.0), HTML(value='')))"
      ]
     },
     "metadata": {},
     "output_type": "display_data"
    },
    {
     "name": "stdout",
     "output_type": "stream",
     "text": [
      "Loading realizations from  ../maglim_2x2_goodnessoffit/ppd_2x2pt_lcdm_SR_maglim_boosted_maglim_2x2_goodnessoffit_0_dprime_theory.npy\n",
      " - data vector size = 235\n",
      " - number of realizations = 1000\n",
      "Loading realizations from  ../maglim_2x2_goodnessoffit/ppd_2x2pt_lcdm_SR_maglim_boosted_maglim_2x2_goodnessoffit_0_dprime_real.npy\n",
      " - data vector size = 235\n",
      " - number of realizations = 1000\n",
      "Loading realizations from  ../maglim_2x2_goodnessoffit/ppd_2x2pt_lcdm_SR_maglim_boosted_maglim_2x2_goodnessoffit_0_d_theory.npy\n",
      " - data vector size = 235\n",
      " - number of realizations = 1000\n",
      "\n",
      "\n",
      "###############################\n",
      "## Sampling data ##############\n",
      "###############################\n",
      "Sampling at best-fit with params\n",
      "cosmological_parameters--omega_m = 0.395\n",
      "cosmological_parameters--h0 = 0.58\n",
      "cosmological_parameters--omega_b = 0.0399\n",
      "cosmological_parameters--n_s = 0.953\n",
      "cosmological_parameters--a_s = 1.89e-09\n",
      "cosmological_parameters--omnuh2 = 0.00639\n",
      "shear_calibration_parameters--m1 = -0.0161\n",
      "shear_calibration_parameters--m2 = -0.0232\n",
      "shear_calibration_parameters--m3 = -0.0181\n",
      "shear_calibration_parameters--m4 = -0.0388\n",
      "wl_photoz_errors--bias_1 = 0.0277\n",
      "wl_photoz_errors--bias_2 = -0.00887\n",
      "wl_photoz_errors--bias_3 = -0.0273\n",
      "wl_photoz_errors--bias_4 = 0.00944\n",
      "lens_photoz_errors--bias_1 = -0.00595\n",
      "lens_photoz_errors--bias_2 = -0.0243\n",
      "lens_photoz_errors--bias_3 = -0.00523\n",
      "lens_photoz_errors--bias_4 = -0.014\n",
      "lens_photoz_errors--width_1 = 0.983\n",
      "lens_photoz_errors--width_2 = 1.12\n",
      "lens_photoz_errors--width_3 = 0.894\n",
      "lens_photoz_errors--width_4 = 0.9\n",
      "bias_lens--b1        = 1.63\n",
      "bias_lens--b2        = 1.82\n",
      "bias_lens--b3        = 2.05\n",
      "bias_lens--b4        = 1.91\n",
      "intrinsic_alignment_parameters--a1 = 0.453\n",
      "intrinsic_alignment_parameters--a2 = -1.07\n",
      "intrinsic_alignment_parameters--alpha1 = -1.72\n",
      "intrinsic_alignment_parameters--alpha2 = 2.47\n",
      "intrinsic_alignment_parameters--bias_ta = 0.0576\n",
      "\n",
      "###############################\n",
      "## Compute chi2 for d #########\n",
      "###############################\n"
     ]
    },
    {
     "data": {
      "application/vnd.jupyter.widget-view+json": {
       "model_id": "6dc8ec53b65a49938c82468237a72c9f",
       "version_major": 2,
       "version_minor": 0
      },
      "text/plain": [
       "HBox(children=(FloatProgress(value=0.0, max=221.0), HTML(value='')))"
      ]
     },
     "metadata": {},
     "output_type": "display_data"
    },
    {
     "name": "stdout",
     "output_type": "stream",
     "text": [
      "\n",
      "\n",
      "###############################\n",
      "## Compute IS weights for d ###\n",
      "###############################\n"
     ]
    },
    {
     "data": {
      "application/vnd.jupyter.widget-view+json": {
       "model_id": "3338aebe7a0e4f29a8b5f1889513909d",
       "version_major": 2,
       "version_minor": 0
      },
      "text/plain": [
       "HBox(children=(FloatProgress(value=0.0, max=221.0), HTML(value='')))"
      ]
     },
     "metadata": {},
     "output_type": "display_data"
    },
    {
     "name": "stdout",
     "output_type": "stream",
     "text": [
      "\n",
      "(221000, 1000)\n",
      "Neff = 57.1 (median), 16th=23.6, 84th=208.1 (0 were nan's)\n",
      "\n",
      "###############################\n",
      "## Computing p-values #########\n",
      "###############################\n"
     ]
    },
    {
     "data": {
      "application/vnd.jupyter.widget-view+json": {
       "model_id": "5df4543ee0604b14bb254fc7766874a6",
       "version_major": 2,
       "version_minor": 0
      },
      "text/plain": [
       "HBox(children=(FloatProgress(value=1.0, bar_style='info', max=1.0), HTML(value='')))"
      ]
     },
     "metadata": {},
     "output_type": "display_data"
    },
    {
     "name": "stdout",
     "output_type": "stream",
     "text": [
      "\n",
      "2x2\n",
      "gammat\n",
      "Some (4) eigenvalues are non-positive. Clipping to minimum positive one = 2.106592028897921e-12\n",
      "Some (4) eigenvalues are non-positive. Clipping to minimum positive one = 2.106592028897921e-12\n",
      "wtheta\n",
      "\n",
      "###############################\n",
      "## Calibrated p-values ########\n",
      "###############################\n",
      "     - Full         calibrated pval=0.0120 (raw pval=0.0039)\n",
      "     - 2x2          calibrated pval=0.0120 (raw pval=0.0041)\n",
      "     - gammat       calibrated pval=0.1150 (raw pval=0.0172)\n",
      "     - wtheta       calibrated pval=0.3410 (raw pval=0.3286)\n",
      "\n",
      "###############################\n",
      "## Plotting ###################\n",
      "###############################\n",
      "\n",
      "###############################\n",
      "## Loading chains #############\n",
      "###############################\n"
     ]
    },
    {
     "data": {
      "application/vnd.jupyter.widget-view+json": {
       "model_id": "fef2f81eace7491fb236b0ba30ddb54d",
       "version_major": 2,
       "version_minor": 0
      },
      "text/plain": [
       "HBox(children=(FloatProgress(value=0.0, max=221.0), HTML(value='')))"
      ]
     },
     "metadata": {},
     "output_type": "display_data"
    },
    {
     "name": "stdout",
     "output_type": "stream",
     "text": [
      "Loading list chain at\n",
      "../maglim_2x2_goodnessoffit/ppd_chain_2x2pt_lcdm_SR_maglim_boosted_maglim_2x2_goodnessoffit_0.txt\n",
      "- using params\n",
      "['cosmological_parameters--omega_m', 'cosmological_parameters--h0', 'cosmological_parameters--omega_b', 'cosmological_parameters--n_s', 'cosmological_parameters--a_s', 'cosmological_parameters--omnuh2', 'cosmological_parameters--w', 'cosmological_parameters--massive_nu', 'cosmological_parameters--massless_nu', 'cosmological_parameters--omega_k', 'cosmological_parameters--tau', 'shear_calibration_parameters--m1', 'shear_calibration_parameters--m2', 'shear_calibration_parameters--m3', 'shear_calibration_parameters--m4', 'wl_photoz_errors--bias_1', 'wl_photoz_errors--bias_2', 'wl_photoz_errors--bias_3', 'wl_photoz_errors--bias_4', 'lens_photoz_errors--bias_1', 'lens_photoz_errors--bias_2', 'lens_photoz_errors--bias_3', 'lens_photoz_errors--bias_4', 'lens_photoz_errors--bias_5', 'lens_photoz_errors--width_1', 'lens_photoz_errors--width_2', 'lens_photoz_errors--width_3', 'lens_photoz_errors--width_4', 'lens_photoz_errors--width_5', 'lens_photoz_errors--bias_6', 'lens_photoz_errors--width_6', 'bias_lens--b1', 'bias_lens--b2', 'bias_lens--b3', 'bias_lens--b4', 'bias_lens--b5', 'bias_lens--b6', 'mag_alpha_lens--alpha_1', 'mag_alpha_lens--alpha_2', 'mag_alpha_lens--alpha_3', 'mag_alpha_lens--alpha_4', 'mag_alpha_lens--alpha_5', 'mag_alpha_lens--alpha_6', 'intrinsic_alignment_parameters--z_piv', 'intrinsic_alignment_parameters--a1', 'intrinsic_alignment_parameters--a2', 'intrinsic_alignment_parameters--alpha1', 'intrinsic_alignment_parameters--alpha2', 'intrinsic_alignment_parameters--bias_ta', 'COSMOLOGICAL_PARAMETERS--SIGMA_8', 'COSMOLOGICAL_PARAMETERS--SIGMA_12', 'DATA_VECTOR--2PT_CHI2', 'DATA_VECTOR--2PT_D_CHI2', 'DATA_VECTOR--2PT_DPRIME_CHI2', 'DATA_VECTOR--2PT_XIP_CHI2', 'DATA_VECTOR--2PT_XIM_CHI2', 'DATA_VECTOR--2PT_1X2_CHI2', 'DATA_VECTOR--2PT_GAMMAT_CHI2', 'DATA_VECTOR--2PT_WTHETA_CHI2', 'DATA_VECTOR--2PT_2X2_CHI2', 'PPD--CHI2_DPRIME_DATA', 'PPD--CHI2_DPRIME_REALIZATION', 'PPD--CHI2_D_DATA', 'PPD--CHI2_XIP_DATA', 'PPD--CHI2_XIP_REALIZATION', 'PPD--CHI2_XIM_DATA', 'PPD--CHI2_XIM_REALIZATION', 'PPD--CHI2_1X2_DATA', 'PPD--CHI2_1X2_REALIZATION', 'PPD--CHI2_GAMMAT_DATA', 'PPD--CHI2_GAMMAT_REALIZATION', 'PPD--CHI2_WTHETA_DATA', 'PPD--CHI2_WTHETA_REALIZATION', 'PPD--CHI2_2X2_DATA', 'PPD--CHI2_2X2_REALIZATION', 'PPD--CHI2_DPRIME_COMP_AVG', 'PPD--CHI2_XIP_COMP_AVG', 'PPD--CHI2_XIM_COMP_AVG', 'PPD--CHI2_1X2_COMP_AVG', 'PPD--CHI2_GAMMAT_COMP_AVG', 'PPD--CHI2_WTHETA_COMP_AVG', 'PPD--CHI2_2X2_COMP_AVG', 'prior', 'post']\n",
      "- using nsample =  1000\n",
      "\n",
      "Loading chain at\n",
      "../../trimmed_chains_test/chain_2x2pt_lcdm_SR_maglim_boosted.txt\n",
      "Sampler not found -- non-standard cosmosis output\n",
      "Using 221 chunks of size [1000, 1000, 1000, 1000, 1000, 1000, 1000, 1000, 1000, 1000, 1000, 1000, 1000, 1000, 1000, 1000, 1000, 1000, 1000, 1000, 1000, 1000, 1000, 1000, 1000, 1000, 1000, 1000, 1000, 1000, 1000, 1000, 1000, 1000, 1000, 1000, 1000, 1000, 1000, 1000, 1000, 1000, 1000, 1000, 1000, 1000, 1000, 1000, 1000, 1000, 1000, 1000, 1000, 1000, 1000, 1000, 1000, 1000, 1000, 1000, 1000, 1000, 1000, 1000, 1000, 1000, 1000, 1000, 1000, 1000, 1000, 1000, 1000, 1000, 1000, 1000, 1000, 1000, 1000, 1000, 1000, 1000, 1000, 1000, 1000, 1000, 1000, 1000, 1000, 1000, 1000, 1000, 1000, 1000, 1000, 1000, 1000, 1000, 1000, 1000, 1000, 1000, 1000, 1000, 1000, 1000, 1000, 1000, 1000, 1000, 1000, 1000, 1000, 1000, 1000, 1000, 1000, 1000, 1000, 1000, 1000, 1000, 1000, 1000, 1000, 1000, 1000, 1000, 1000, 1000, 1000, 1000, 1000, 1000, 1000, 1000, 1000, 1000, 1000, 1000, 1000, 1000, 1000, 1000, 1000, 1000, 1000, 1000, 1000, 1000, 1000, 1000, 1000, 1000, 1000, 1000, 1000, 1000, 1000, 1000, 1000, 1000, 1000, 1000, 1000, 1000, 1000, 1000, 1000, 1000, 1000, 1000, 1000, 1000, 1000, 1000, 1000, 1000, 1000, 1000, 1000, 1000, 1000, 1000, 1000, 1000, 1000, 1000, 1000, 1000, 1000, 1000, 1000, 1000, 1000, 1000, 1000, 1000, 1000, 1000, 1000, 1000, 1000, 1000, 1000, 1000, 1000, 1000, 1000, 1000, 1000, 1000, 1000, 1000, 1000, 1000, 1000, 1000, 1000, 1000, 1000] (1000) for a total of 221000 posterior samples\n",
      "\n",
      "###############################\n",
      "## Loading scale/bin cuts #####\n",
      "###############################\n",
      "Found observables in data_file ['xip', 'xim', 'gammat', 'wtheta']\n",
      "Reading options for likelihood module:  2pt_d_like\n",
      "Found scale cuts for  {'xip': [(1, 1), (1, 2), (1, 3), (1, 4), (2, 2), (2, 3), (2, 4), (3, 3), (3, 4), (4, 4)], 'xim': [(1, 1), (1, 2), (1, 3), (1, 4), (2, 2), (2, 3), (2, 4), (3, 3), (3, 4), (4, 4)], 'gammat': [(1, 1), (1, 2), (1, 3), (1, 4), (2, 1), (2, 2), (2, 3), (2, 4), (3, 1), (3, 2), (3, 3), (3, 4), (4, 1), (4, 2), (4, 3), (4, 4), (5, 1), (5, 2), (5, 3), (5, 4), (6, 1), (6, 2), (6, 3), (6, 4)], 'wtheta': [(1, 1), (1, 2), (1, 3), (1, 4), (1, 5), (1, 6), (2, 2), (2, 3), (2, 4), (2, 5), (2, 6), (3, 3), (3, 4), (3, 5), (3, 6), (4, 4), (4, 5), (4, 6), (5, 5), (5, 6), (6, 6)]}\n",
      "Getting indices for gammat\n",
      "Getting indices for wtheta\n",
      "\n",
      "Found observables in data_file ['xip', 'xim', 'gammat', 'wtheta']\n",
      "Reading options for likelihood module:  2pt_dprime_like\n",
      "Found scale cuts for  {'xip': [(1, 1), (1, 2), (1, 3), (1, 4), (2, 2), (2, 3), (2, 4), (3, 3), (3, 4), (4, 4)], 'xim': [(1, 1), (1, 2), (1, 3), (1, 4), (2, 2), (2, 3), (2, 4), (3, 3), (3, 4), (4, 4)], 'gammat': [(1, 1), (1, 2), (1, 3), (1, 4), (2, 1), (2, 2), (2, 3), (2, 4), (3, 1), (3, 2), (3, 3), (3, 4), (4, 1), (4, 2), (4, 3), (4, 4), (5, 1), (5, 2), (5, 3), (5, 4), (6, 1), (6, 2), (6, 3), (6, 4)], 'wtheta': [(1, 1), (1, 2), (1, 3), (1, 4), (1, 5), (1, 6), (2, 2), (2, 3), (2, 4), (2, 5), (2, 6), (3, 3), (3, 4), (3, 5), (3, 6), (4, 4), (4, 5), (4, 6), (5, 5), (5, 6), (6, 6)]}\n",
      "Getting indices for gammat\n",
      "Getting indices for wtheta\n",
      "\n",
      "Using subsets ['2x2', 'gammat', 'wtheta']\n",
      "\n",
      "Using same indices for d and dprime -> conditioning turned off\n",
      "\n",
      "###############################\n",
      "## Loading realizations #######\n",
      "###############################\n"
     ]
    },
    {
     "data": {
      "application/vnd.jupyter.widget-view+json": {
       "model_id": "ddd8db776bb04b899290f58303a4a90a",
       "version_major": 2,
       "version_minor": 0
      },
      "text/plain": [
       "HBox(children=(FloatProgress(value=0.0, max=221.0), HTML(value='')))"
      ]
     },
     "metadata": {},
     "output_type": "display_data"
    },
    {
     "name": "stdout",
     "output_type": "stream",
     "text": [
      "Loading realizations from  ../maglim_2x2_goodnessoffit/ppd_2x2pt_lcdm_SR_maglim_boosted_maglim_2x2_goodnessoffit_0_dprime_theory.npy\n",
      " - data vector size = 235\n",
      " - number of realizations = 1000\n",
      "Loading realizations from  ../maglim_2x2_goodnessoffit/ppd_2x2pt_lcdm_SR_maglim_boosted_maglim_2x2_goodnessoffit_0_dprime_real.npy\n",
      " - data vector size = 235\n",
      " - number of realizations = 1000\n",
      "Loading realizations from  ../maglim_2x2_goodnessoffit/ppd_2x2pt_lcdm_SR_maglim_boosted_maglim_2x2_goodnessoffit_0_d_theory.npy\n",
      " - data vector size = 235\n",
      " - number of realizations = 1000\n",
      "\n",
      "\n",
      "###############################\n",
      "## Sampling data ##############\n",
      "###############################\n",
      "Sampling at best-fit with params\n",
      "cosmological_parameters--omega_m = 0.395\n",
      "cosmological_parameters--h0 = 0.58\n",
      "cosmological_parameters--omega_b = 0.0399\n",
      "cosmological_parameters--n_s = 0.953\n",
      "cosmological_parameters--a_s = 1.89e-09\n",
      "cosmological_parameters--omnuh2 = 0.00639\n",
      "shear_calibration_parameters--m1 = -0.0161\n",
      "shear_calibration_parameters--m2 = -0.0232\n",
      "shear_calibration_parameters--m3 = -0.0181\n",
      "shear_calibration_parameters--m4 = -0.0388\n",
      "wl_photoz_errors--bias_1 = 0.0277\n",
      "wl_photoz_errors--bias_2 = -0.00887\n",
      "wl_photoz_errors--bias_3 = -0.0273\n",
      "wl_photoz_errors--bias_4 = 0.00944\n",
      "lens_photoz_errors--bias_1 = -0.00595\n",
      "lens_photoz_errors--bias_2 = -0.0243\n",
      "lens_photoz_errors--bias_3 = -0.00523\n",
      "lens_photoz_errors--bias_4 = -0.014\n",
      "lens_photoz_errors--width_1 = 0.983\n",
      "lens_photoz_errors--width_2 = 1.12\n",
      "lens_photoz_errors--width_3 = 0.894\n",
      "lens_photoz_errors--width_4 = 0.9\n",
      "bias_lens--b1        = 1.63\n",
      "bias_lens--b2        = 1.82\n",
      "bias_lens--b3        = 2.05\n",
      "bias_lens--b4        = 1.91\n",
      "intrinsic_alignment_parameters--a1 = 0.453\n",
      "intrinsic_alignment_parameters--a2 = -1.07\n",
      "intrinsic_alignment_parameters--alpha1 = -1.72\n",
      "intrinsic_alignment_parameters--alpha2 = 2.47\n",
      "intrinsic_alignment_parameters--bias_ta = 0.0576\n",
      "\n",
      "###############################\n",
      "## Compute chi2 for d #########\n",
      "###############################\n"
     ]
    },
    {
     "data": {
      "application/vnd.jupyter.widget-view+json": {
       "model_id": "764fd93e84c646c29a5cead530569130",
       "version_major": 2,
       "version_minor": 0
      },
      "text/plain": [
       "HBox(children=(FloatProgress(value=0.0, max=221.0), HTML(value='')))"
      ]
     },
     "metadata": {},
     "output_type": "display_data"
    },
    {
     "name": "stdout",
     "output_type": "stream",
     "text": [
      "\n",
      "\n",
      "###############################\n",
      "## Compute IS weights for d ###\n",
      "###############################\n"
     ]
    },
    {
     "data": {
      "application/vnd.jupyter.widget-view+json": {
       "model_id": "9ae8b4de0c1b4445be9741cd6b79a4fd",
       "version_major": 2,
       "version_minor": 0
      },
      "text/plain": [
       "HBox(children=(FloatProgress(value=0.0, max=221.0), HTML(value='')))"
      ]
     },
     "metadata": {},
     "output_type": "display_data"
    },
    {
     "name": "stdout",
     "output_type": "stream",
     "text": [
      "\n",
      "(221000, 1000)\n",
      "Neff = 56.5 (median), 16th=23.7, 84th=186.1 (0 were nan's)\n",
      "\n",
      "###############################\n",
      "## Computing p-values #########\n",
      "###############################\n"
     ]
    },
    {
     "data": {
      "application/vnd.jupyter.widget-view+json": {
       "model_id": "2f100949b7a04f46b4440496c50b7695",
       "version_major": 2,
       "version_minor": 0
      },
      "text/plain": [
       "HBox(children=(FloatProgress(value=1.0, bar_style='info', max=1.0), HTML(value='')))"
      ]
     },
     "metadata": {},
     "output_type": "display_data"
    },
    {
     "name": "stdout",
     "output_type": "stream",
     "text": [
      "\n",
      "2x2\n",
      "gammat\n",
      "Some (4) eigenvalues are non-positive. Clipping to minimum positive one = 2.106592028897921e-12\n",
      "Some (4) eigenvalues are non-positive. Clipping to minimum positive one = 2.106592028897921e-12\n",
      "wtheta\n",
      "\n",
      "###############################\n",
      "## Calibrated p-values ########\n",
      "###############################\n",
      "     - Full         calibrated pval=0.0160 (raw pval=0.0039)\n",
      "     - 2x2          calibrated pval=0.0170 (raw pval=0.0041)\n",
      "     - gammat       calibrated pval=0.1260 (raw pval=0.0172)\n",
      "     - wtheta       calibrated pval=0.3340 (raw pval=0.3286)\n",
      "\n",
      "###############################\n",
      "## Plotting ###################\n",
      "###############################\n",
      "\n",
      "###############################\n",
      "## Loading chains #############\n",
      "###############################\n"
     ]
    },
    {
     "data": {
      "application/vnd.jupyter.widget-view+json": {
       "model_id": "871d6e7d806b4f35ae2521f10cb931b1",
       "version_major": 2,
       "version_minor": 0
      },
      "text/plain": [
       "HBox(children=(FloatProgress(value=0.0, max=221.0), HTML(value='')))"
      ]
     },
     "metadata": {},
     "output_type": "display_data"
    },
    {
     "name": "stdout",
     "output_type": "stream",
     "text": [
      "Loading list chain at\n",
      "../maglim_2x2_goodnessoffit/ppd_chain_2x2pt_lcdm_SR_maglim_boosted_maglim_2x2_goodnessoffit_0.txt\n",
      "- using params\n",
      "['cosmological_parameters--omega_m', 'cosmological_parameters--h0', 'cosmological_parameters--omega_b', 'cosmological_parameters--n_s', 'cosmological_parameters--a_s', 'cosmological_parameters--omnuh2', 'cosmological_parameters--w', 'cosmological_parameters--massive_nu', 'cosmological_parameters--massless_nu', 'cosmological_parameters--omega_k', 'cosmological_parameters--tau', 'shear_calibration_parameters--m1', 'shear_calibration_parameters--m2', 'shear_calibration_parameters--m3', 'shear_calibration_parameters--m4', 'wl_photoz_errors--bias_1', 'wl_photoz_errors--bias_2', 'wl_photoz_errors--bias_3', 'wl_photoz_errors--bias_4', 'lens_photoz_errors--bias_1', 'lens_photoz_errors--bias_2', 'lens_photoz_errors--bias_3', 'lens_photoz_errors--bias_4', 'lens_photoz_errors--bias_5', 'lens_photoz_errors--width_1', 'lens_photoz_errors--width_2', 'lens_photoz_errors--width_3', 'lens_photoz_errors--width_4', 'lens_photoz_errors--width_5', 'lens_photoz_errors--bias_6', 'lens_photoz_errors--width_6', 'bias_lens--b1', 'bias_lens--b2', 'bias_lens--b3', 'bias_lens--b4', 'bias_lens--b5', 'bias_lens--b6', 'mag_alpha_lens--alpha_1', 'mag_alpha_lens--alpha_2', 'mag_alpha_lens--alpha_3', 'mag_alpha_lens--alpha_4', 'mag_alpha_lens--alpha_5', 'mag_alpha_lens--alpha_6', 'intrinsic_alignment_parameters--z_piv', 'intrinsic_alignment_parameters--a1', 'intrinsic_alignment_parameters--a2', 'intrinsic_alignment_parameters--alpha1', 'intrinsic_alignment_parameters--alpha2', 'intrinsic_alignment_parameters--bias_ta', 'COSMOLOGICAL_PARAMETERS--SIGMA_8', 'COSMOLOGICAL_PARAMETERS--SIGMA_12', 'DATA_VECTOR--2PT_CHI2', 'DATA_VECTOR--2PT_D_CHI2', 'DATA_VECTOR--2PT_DPRIME_CHI2', 'DATA_VECTOR--2PT_XIP_CHI2', 'DATA_VECTOR--2PT_XIM_CHI2', 'DATA_VECTOR--2PT_1X2_CHI2', 'DATA_VECTOR--2PT_GAMMAT_CHI2', 'DATA_VECTOR--2PT_WTHETA_CHI2', 'DATA_VECTOR--2PT_2X2_CHI2', 'PPD--CHI2_DPRIME_DATA', 'PPD--CHI2_DPRIME_REALIZATION', 'PPD--CHI2_D_DATA', 'PPD--CHI2_XIP_DATA', 'PPD--CHI2_XIP_REALIZATION', 'PPD--CHI2_XIM_DATA', 'PPD--CHI2_XIM_REALIZATION', 'PPD--CHI2_1X2_DATA', 'PPD--CHI2_1X2_REALIZATION', 'PPD--CHI2_GAMMAT_DATA', 'PPD--CHI2_GAMMAT_REALIZATION', 'PPD--CHI2_WTHETA_DATA', 'PPD--CHI2_WTHETA_REALIZATION', 'PPD--CHI2_2X2_DATA', 'PPD--CHI2_2X2_REALIZATION', 'PPD--CHI2_DPRIME_COMP_AVG', 'PPD--CHI2_XIP_COMP_AVG', 'PPD--CHI2_XIM_COMP_AVG', 'PPD--CHI2_1X2_COMP_AVG', 'PPD--CHI2_GAMMAT_COMP_AVG', 'PPD--CHI2_WTHETA_COMP_AVG', 'PPD--CHI2_2X2_COMP_AVG', 'prior', 'post']\n",
      "- using nsample =  1000\n",
      "\n",
      "Loading chain at\n",
      "../../trimmed_chains_test/chain_2x2pt_lcdm_SR_maglim_boosted.txt\n",
      "Sampler not found -- non-standard cosmosis output\n",
      "Using 221 chunks of size [1000, 1000, 1000, 1000, 1000, 1000, 1000, 1000, 1000, 1000, 1000, 1000, 1000, 1000, 1000, 1000, 1000, 1000, 1000, 1000, 1000, 1000, 1000, 1000, 1000, 1000, 1000, 1000, 1000, 1000, 1000, 1000, 1000, 1000, 1000, 1000, 1000, 1000, 1000, 1000, 1000, 1000, 1000, 1000, 1000, 1000, 1000, 1000, 1000, 1000, 1000, 1000, 1000, 1000, 1000, 1000, 1000, 1000, 1000, 1000, 1000, 1000, 1000, 1000, 1000, 1000, 1000, 1000, 1000, 1000, 1000, 1000, 1000, 1000, 1000, 1000, 1000, 1000, 1000, 1000, 1000, 1000, 1000, 1000, 1000, 1000, 1000, 1000, 1000, 1000, 1000, 1000, 1000, 1000, 1000, 1000, 1000, 1000, 1000, 1000, 1000, 1000, 1000, 1000, 1000, 1000, 1000, 1000, 1000, 1000, 1000, 1000, 1000, 1000, 1000, 1000, 1000, 1000, 1000, 1000, 1000, 1000, 1000, 1000, 1000, 1000, 1000, 1000, 1000, 1000, 1000, 1000, 1000, 1000, 1000, 1000, 1000, 1000, 1000, 1000, 1000, 1000, 1000, 1000, 1000, 1000, 1000, 1000, 1000, 1000, 1000, 1000, 1000, 1000, 1000, 1000, 1000, 1000, 1000, 1000, 1000, 1000, 1000, 1000, 1000, 1000, 1000, 1000, 1000, 1000, 1000, 1000, 1000, 1000, 1000, 1000, 1000, 1000, 1000, 1000, 1000, 1000, 1000, 1000, 1000, 1000, 1000, 1000, 1000, 1000, 1000, 1000, 1000, 1000, 1000, 1000, 1000, 1000, 1000, 1000, 1000, 1000, 1000, 1000, 1000, 1000, 1000, 1000, 1000, 1000, 1000, 1000, 1000, 1000, 1000, 1000, 1000, 1000, 1000, 1000, 1000] (1000) for a total of 221000 posterior samples\n",
      "\n",
      "###############################\n",
      "## Loading scale/bin cuts #####\n",
      "###############################\n",
      "Found observables in data_file ['xip', 'xim', 'gammat', 'wtheta']\n",
      "Reading options for likelihood module:  2pt_d_like\n",
      "Found scale cuts for  {'xip': [(1, 1), (1, 2), (1, 3), (1, 4), (2, 2), (2, 3), (2, 4), (3, 3), (3, 4), (4, 4)], 'xim': [(1, 1), (1, 2), (1, 3), (1, 4), (2, 2), (2, 3), (2, 4), (3, 3), (3, 4), (4, 4)], 'gammat': [(1, 1), (1, 2), (1, 3), (1, 4), (2, 1), (2, 2), (2, 3), (2, 4), (3, 1), (3, 2), (3, 3), (3, 4), (4, 1), (4, 2), (4, 3), (4, 4), (5, 1), (5, 2), (5, 3), (5, 4), (6, 1), (6, 2), (6, 3), (6, 4)], 'wtheta': [(1, 1), (1, 2), (1, 3), (1, 4), (1, 5), (1, 6), (2, 2), (2, 3), (2, 4), (2, 5), (2, 6), (3, 3), (3, 4), (3, 5), (3, 6), (4, 4), (4, 5), (4, 6), (5, 5), (5, 6), (6, 6)]}\n",
      "Getting indices for gammat\n",
      "Getting indices for wtheta\n",
      "\n",
      "Found observables in data_file ['xip', 'xim', 'gammat', 'wtheta']\n",
      "Reading options for likelihood module:  2pt_dprime_like\n",
      "Found scale cuts for  {'xip': [(1, 1), (1, 2), (1, 3), (1, 4), (2, 2), (2, 3), (2, 4), (3, 3), (3, 4), (4, 4)], 'xim': [(1, 1), (1, 2), (1, 3), (1, 4), (2, 2), (2, 3), (2, 4), (3, 3), (3, 4), (4, 4)], 'gammat': [(1, 1), (1, 2), (1, 3), (1, 4), (2, 1), (2, 2), (2, 3), (2, 4), (3, 1), (3, 2), (3, 3), (3, 4), (4, 1), (4, 2), (4, 3), (4, 4), (5, 1), (5, 2), (5, 3), (5, 4), (6, 1), (6, 2), (6, 3), (6, 4)], 'wtheta': [(1, 1), (1, 2), (1, 3), (1, 4), (1, 5), (1, 6), (2, 2), (2, 3), (2, 4), (2, 5), (2, 6), (3, 3), (3, 4), (3, 5), (3, 6), (4, 4), (4, 5), (4, 6), (5, 5), (5, 6), (6, 6)]}\n",
      "Getting indices for gammat\n",
      "Getting indices for wtheta\n",
      "\n",
      "Using subsets ['2x2', 'gammat', 'wtheta']\n",
      "\n",
      "Using same indices for d and dprime -> conditioning turned off\n",
      "\n",
      "###############################\n",
      "## Loading realizations #######\n",
      "###############################\n"
     ]
    },
    {
     "data": {
      "application/vnd.jupyter.widget-view+json": {
       "model_id": "82f118a8d50b48e5bffc1b3a9caf401d",
       "version_major": 2,
       "version_minor": 0
      },
      "text/plain": [
       "HBox(children=(FloatProgress(value=0.0, max=221.0), HTML(value='')))"
      ]
     },
     "metadata": {},
     "output_type": "display_data"
    },
    {
     "name": "stdout",
     "output_type": "stream",
     "text": [
      "Loading realizations from  ../maglim_2x2_goodnessoffit/ppd_2x2pt_lcdm_SR_maglim_boosted_maglim_2x2_goodnessoffit_0_dprime_theory.npy\n",
      " - data vector size = 235\n",
      " - number of realizations = 1000\n",
      "Loading realizations from  ../maglim_2x2_goodnessoffit/ppd_2x2pt_lcdm_SR_maglim_boosted_maglim_2x2_goodnessoffit_0_dprime_real.npy\n",
      " - data vector size = 235\n",
      " - number of realizations = 1000\n",
      "Loading realizations from  ../maglim_2x2_goodnessoffit/ppd_2x2pt_lcdm_SR_maglim_boosted_maglim_2x2_goodnessoffit_0_d_theory.npy\n",
      " - data vector size = 235\n",
      " - number of realizations = 1000\n",
      "\n",
      "\n",
      "###############################\n",
      "## Sampling data ##############\n",
      "###############################\n",
      "Sampling at best-fit with params\n",
      "cosmological_parameters--omega_m = 0.395\n",
      "cosmological_parameters--h0 = 0.58\n",
      "cosmological_parameters--omega_b = 0.0399\n",
      "cosmological_parameters--n_s = 0.953\n",
      "cosmological_parameters--a_s = 1.89e-09\n",
      "cosmological_parameters--omnuh2 = 0.00639\n",
      "shear_calibration_parameters--m1 = -0.0161\n",
      "shear_calibration_parameters--m2 = -0.0232\n",
      "shear_calibration_parameters--m3 = -0.0181\n",
      "shear_calibration_parameters--m4 = -0.0388\n",
      "wl_photoz_errors--bias_1 = 0.0277\n",
      "wl_photoz_errors--bias_2 = -0.00887\n",
      "wl_photoz_errors--bias_3 = -0.0273\n",
      "wl_photoz_errors--bias_4 = 0.00944\n",
      "lens_photoz_errors--bias_1 = -0.00595\n",
      "lens_photoz_errors--bias_2 = -0.0243\n",
      "lens_photoz_errors--bias_3 = -0.00523\n",
      "lens_photoz_errors--bias_4 = -0.014\n",
      "lens_photoz_errors--width_1 = 0.983\n",
      "lens_photoz_errors--width_2 = 1.12\n",
      "lens_photoz_errors--width_3 = 0.894\n",
      "lens_photoz_errors--width_4 = 0.9\n",
      "bias_lens--b1        = 1.63\n",
      "bias_lens--b2        = 1.82\n",
      "bias_lens--b3        = 2.05\n",
      "bias_lens--b4        = 1.91\n",
      "intrinsic_alignment_parameters--a1 = 0.453\n",
      "intrinsic_alignment_parameters--a2 = -1.07\n",
      "intrinsic_alignment_parameters--alpha1 = -1.72\n",
      "intrinsic_alignment_parameters--alpha2 = 2.47\n",
      "intrinsic_alignment_parameters--bias_ta = 0.0576\n",
      "\n",
      "###############################\n",
      "## Compute chi2 for d #########\n",
      "###############################\n"
     ]
    },
    {
     "data": {
      "application/vnd.jupyter.widget-view+json": {
       "model_id": "0671c7da711a4d71b433b539cbd86df1",
       "version_major": 2,
       "version_minor": 0
      },
      "text/plain": [
       "HBox(children=(FloatProgress(value=0.0, max=221.0), HTML(value='')))"
      ]
     },
     "metadata": {},
     "output_type": "display_data"
    },
    {
     "name": "stdout",
     "output_type": "stream",
     "text": [
      "\n",
      "\n",
      "###############################\n",
      "## Compute IS weights for d ###\n",
      "###############################\n"
     ]
    },
    {
     "data": {
      "application/vnd.jupyter.widget-view+json": {
       "model_id": "ac0ac74794d94abfa35057e332f1bcb6",
       "version_major": 2,
       "version_minor": 0
      },
      "text/plain": [
       "HBox(children=(FloatProgress(value=0.0, max=221.0), HTML(value='')))"
      ]
     },
     "metadata": {},
     "output_type": "display_data"
    },
    {
     "name": "stdout",
     "output_type": "stream",
     "text": [
      "\n",
      "(221000, 1000)\n",
      "Neff = 55.1 (median), 16th=23.3, 84th=186.4 (0 were nan's)\n",
      "\n",
      "###############################\n",
      "## Computing p-values #########\n",
      "###############################\n"
     ]
    },
    {
     "data": {
      "application/vnd.jupyter.widget-view+json": {
       "model_id": "740f11a6fd8f41fdac7bdb7d1c248cd1",
       "version_major": 2,
       "version_minor": 0
      },
      "text/plain": [
       "HBox(children=(FloatProgress(value=1.0, bar_style='info', max=1.0), HTML(value='')))"
      ]
     },
     "metadata": {},
     "output_type": "display_data"
    },
    {
     "name": "stdout",
     "output_type": "stream",
     "text": [
      "\n",
      "2x2\n",
      "gammat\n",
      "Some (4) eigenvalues are non-positive. Clipping to minimum positive one = 2.106592028897921e-12\n",
      "Some (4) eigenvalues are non-positive. Clipping to minimum positive one = 2.106592028897921e-12\n",
      "wtheta\n",
      "\n",
      "###############################\n",
      "## Calibrated p-values ########\n",
      "###############################\n",
      "     - Full         calibrated pval=0.0210 (raw pval=0.0039)\n",
      "     - 2x2          calibrated pval=0.0210 (raw pval=0.0041)\n",
      "     - gammat       calibrated pval=0.1380 (raw pval=0.0172)\n",
      "     - wtheta       calibrated pval=0.3800 (raw pval=0.3286)\n",
      "\n",
      "###############################\n",
      "## Plotting ###################\n",
      "###############################\n",
      "\n",
      "###############################\n",
      "## Loading chains #############\n",
      "###############################\n"
     ]
    },
    {
     "data": {
      "application/vnd.jupyter.widget-view+json": {
       "model_id": "25aa0af0775f497ca5403c3387a569d0",
       "version_major": 2,
       "version_minor": 0
      },
      "text/plain": [
       "HBox(children=(FloatProgress(value=0.0, max=221.0), HTML(value='')))"
      ]
     },
     "metadata": {},
     "output_type": "display_data"
    },
    {
     "name": "stdout",
     "output_type": "stream",
     "text": [
      "Loading list chain at\n",
      "../maglim_2x2_goodnessoffit/ppd_chain_2x2pt_lcdm_SR_maglim_boosted_maglim_2x2_goodnessoffit_0.txt\n",
      "- using params\n",
      "['cosmological_parameters--omega_m', 'cosmological_parameters--h0', 'cosmological_parameters--omega_b', 'cosmological_parameters--n_s', 'cosmological_parameters--a_s', 'cosmological_parameters--omnuh2', 'cosmological_parameters--w', 'cosmological_parameters--massive_nu', 'cosmological_parameters--massless_nu', 'cosmological_parameters--omega_k', 'cosmological_parameters--tau', 'shear_calibration_parameters--m1', 'shear_calibration_parameters--m2', 'shear_calibration_parameters--m3', 'shear_calibration_parameters--m4', 'wl_photoz_errors--bias_1', 'wl_photoz_errors--bias_2', 'wl_photoz_errors--bias_3', 'wl_photoz_errors--bias_4', 'lens_photoz_errors--bias_1', 'lens_photoz_errors--bias_2', 'lens_photoz_errors--bias_3', 'lens_photoz_errors--bias_4', 'lens_photoz_errors--bias_5', 'lens_photoz_errors--width_1', 'lens_photoz_errors--width_2', 'lens_photoz_errors--width_3', 'lens_photoz_errors--width_4', 'lens_photoz_errors--width_5', 'lens_photoz_errors--bias_6', 'lens_photoz_errors--width_6', 'bias_lens--b1', 'bias_lens--b2', 'bias_lens--b3', 'bias_lens--b4', 'bias_lens--b5', 'bias_lens--b6', 'mag_alpha_lens--alpha_1', 'mag_alpha_lens--alpha_2', 'mag_alpha_lens--alpha_3', 'mag_alpha_lens--alpha_4', 'mag_alpha_lens--alpha_5', 'mag_alpha_lens--alpha_6', 'intrinsic_alignment_parameters--z_piv', 'intrinsic_alignment_parameters--a1', 'intrinsic_alignment_parameters--a2', 'intrinsic_alignment_parameters--alpha1', 'intrinsic_alignment_parameters--alpha2', 'intrinsic_alignment_parameters--bias_ta', 'COSMOLOGICAL_PARAMETERS--SIGMA_8', 'COSMOLOGICAL_PARAMETERS--SIGMA_12', 'DATA_VECTOR--2PT_CHI2', 'DATA_VECTOR--2PT_D_CHI2', 'DATA_VECTOR--2PT_DPRIME_CHI2', 'DATA_VECTOR--2PT_XIP_CHI2', 'DATA_VECTOR--2PT_XIM_CHI2', 'DATA_VECTOR--2PT_1X2_CHI2', 'DATA_VECTOR--2PT_GAMMAT_CHI2', 'DATA_VECTOR--2PT_WTHETA_CHI2', 'DATA_VECTOR--2PT_2X2_CHI2', 'PPD--CHI2_DPRIME_DATA', 'PPD--CHI2_DPRIME_REALIZATION', 'PPD--CHI2_D_DATA', 'PPD--CHI2_XIP_DATA', 'PPD--CHI2_XIP_REALIZATION', 'PPD--CHI2_XIM_DATA', 'PPD--CHI2_XIM_REALIZATION', 'PPD--CHI2_1X2_DATA', 'PPD--CHI2_1X2_REALIZATION', 'PPD--CHI2_GAMMAT_DATA', 'PPD--CHI2_GAMMAT_REALIZATION', 'PPD--CHI2_WTHETA_DATA', 'PPD--CHI2_WTHETA_REALIZATION', 'PPD--CHI2_2X2_DATA', 'PPD--CHI2_2X2_REALIZATION', 'PPD--CHI2_DPRIME_COMP_AVG', 'PPD--CHI2_XIP_COMP_AVG', 'PPD--CHI2_XIM_COMP_AVG', 'PPD--CHI2_1X2_COMP_AVG', 'PPD--CHI2_GAMMAT_COMP_AVG', 'PPD--CHI2_WTHETA_COMP_AVG', 'PPD--CHI2_2X2_COMP_AVG', 'prior', 'post']\n",
      "- using nsample =  1000\n",
      "\n",
      "Loading chain at\n",
      "../../trimmed_chains_test/chain_2x2pt_lcdm_SR_maglim_boosted.txt\n",
      "Sampler not found -- non-standard cosmosis output\n",
      "Using 221 chunks of size [1000, 1000, 1000, 1000, 1000, 1000, 1000, 1000, 1000, 1000, 1000, 1000, 1000, 1000, 1000, 1000, 1000, 1000, 1000, 1000, 1000, 1000, 1000, 1000, 1000, 1000, 1000, 1000, 1000, 1000, 1000, 1000, 1000, 1000, 1000, 1000, 1000, 1000, 1000, 1000, 1000, 1000, 1000, 1000, 1000, 1000, 1000, 1000, 1000, 1000, 1000, 1000, 1000, 1000, 1000, 1000, 1000, 1000, 1000, 1000, 1000, 1000, 1000, 1000, 1000, 1000, 1000, 1000, 1000, 1000, 1000, 1000, 1000, 1000, 1000, 1000, 1000, 1000, 1000, 1000, 1000, 1000, 1000, 1000, 1000, 1000, 1000, 1000, 1000, 1000, 1000, 1000, 1000, 1000, 1000, 1000, 1000, 1000, 1000, 1000, 1000, 1000, 1000, 1000, 1000, 1000, 1000, 1000, 1000, 1000, 1000, 1000, 1000, 1000, 1000, 1000, 1000, 1000, 1000, 1000, 1000, 1000, 1000, 1000, 1000, 1000, 1000, 1000, 1000, 1000, 1000, 1000, 1000, 1000, 1000, 1000, 1000, 1000, 1000, 1000, 1000, 1000, 1000, 1000, 1000, 1000, 1000, 1000, 1000, 1000, 1000, 1000, 1000, 1000, 1000, 1000, 1000, 1000, 1000, 1000, 1000, 1000, 1000, 1000, 1000, 1000, 1000, 1000, 1000, 1000, 1000, 1000, 1000, 1000, 1000, 1000, 1000, 1000, 1000, 1000, 1000, 1000, 1000, 1000, 1000, 1000, 1000, 1000, 1000, 1000, 1000, 1000, 1000, 1000, 1000, 1000, 1000, 1000, 1000, 1000, 1000, 1000, 1000, 1000, 1000, 1000, 1000, 1000, 1000, 1000, 1000, 1000, 1000, 1000, 1000, 1000, 1000, 1000, 1000, 1000, 1000] (1000) for a total of 221000 posterior samples\n",
      "\n",
      "###############################\n",
      "## Loading scale/bin cuts #####\n",
      "###############################\n",
      "Found observables in data_file ['xip', 'xim', 'gammat', 'wtheta']\n",
      "Reading options for likelihood module:  2pt_d_like\n",
      "Found scale cuts for  {'xip': [(1, 1), (1, 2), (1, 3), (1, 4), (2, 2), (2, 3), (2, 4), (3, 3), (3, 4), (4, 4)], 'xim': [(1, 1), (1, 2), (1, 3), (1, 4), (2, 2), (2, 3), (2, 4), (3, 3), (3, 4), (4, 4)], 'gammat': [(1, 1), (1, 2), (1, 3), (1, 4), (2, 1), (2, 2), (2, 3), (2, 4), (3, 1), (3, 2), (3, 3), (3, 4), (4, 1), (4, 2), (4, 3), (4, 4), (5, 1), (5, 2), (5, 3), (5, 4), (6, 1), (6, 2), (6, 3), (6, 4)], 'wtheta': [(1, 1), (1, 2), (1, 3), (1, 4), (1, 5), (1, 6), (2, 2), (2, 3), (2, 4), (2, 5), (2, 6), (3, 3), (3, 4), (3, 5), (3, 6), (4, 4), (4, 5), (4, 6), (5, 5), (5, 6), (6, 6)]}\n",
      "Getting indices for gammat\n",
      "Getting indices for wtheta\n",
      "\n",
      "Found observables in data_file ['xip', 'xim', 'gammat', 'wtheta']\n",
      "Reading options for likelihood module:  2pt_dprime_like\n",
      "Found scale cuts for  {'xip': [(1, 1), (1, 2), (1, 3), (1, 4), (2, 2), (2, 3), (2, 4), (3, 3), (3, 4), (4, 4)], 'xim': [(1, 1), (1, 2), (1, 3), (1, 4), (2, 2), (2, 3), (2, 4), (3, 3), (3, 4), (4, 4)], 'gammat': [(1, 1), (1, 2), (1, 3), (1, 4), (2, 1), (2, 2), (2, 3), (2, 4), (3, 1), (3, 2), (3, 3), (3, 4), (4, 1), (4, 2), (4, 3), (4, 4), (5, 1), (5, 2), (5, 3), (5, 4), (6, 1), (6, 2), (6, 3), (6, 4)], 'wtheta': [(1, 1), (1, 2), (1, 3), (1, 4), (1, 5), (1, 6), (2, 2), (2, 3), (2, 4), (2, 5), (2, 6), (3, 3), (3, 4), (3, 5), (3, 6), (4, 4), (4, 5), (4, 6), (5, 5), (5, 6), (6, 6)]}\n",
      "Getting indices for gammat\n",
      "Getting indices for wtheta\n",
      "\n",
      "Using subsets ['2x2', 'gammat', 'wtheta']\n",
      "\n",
      "Using same indices for d and dprime -> conditioning turned off\n",
      "\n",
      "###############################\n",
      "## Loading realizations #######\n",
      "###############################\n"
     ]
    },
    {
     "data": {
      "application/vnd.jupyter.widget-view+json": {
       "model_id": "ac48bbc99bb34e84a9ea82585c3126e2",
       "version_major": 2,
       "version_minor": 0
      },
      "text/plain": [
       "HBox(children=(FloatProgress(value=0.0, max=221.0), HTML(value='')))"
      ]
     },
     "metadata": {},
     "output_type": "display_data"
    },
    {
     "name": "stdout",
     "output_type": "stream",
     "text": [
      "Loading realizations from  ../maglim_2x2_goodnessoffit/ppd_2x2pt_lcdm_SR_maglim_boosted_maglim_2x2_goodnessoffit_0_dprime_theory.npy\n",
      " - data vector size = 235\n",
      " - number of realizations = 1000\n",
      "Loading realizations from  ../maglim_2x2_goodnessoffit/ppd_2x2pt_lcdm_SR_maglim_boosted_maglim_2x2_goodnessoffit_0_dprime_real.npy\n",
      " - data vector size = 235\n",
      " - number of realizations = 1000\n",
      "Loading realizations from  ../maglim_2x2_goodnessoffit/ppd_2x2pt_lcdm_SR_maglim_boosted_maglim_2x2_goodnessoffit_0_d_theory.npy\n",
      " - data vector size = 235\n",
      " - number of realizations = 1000\n",
      "\n",
      "\n",
      "###############################\n",
      "## Sampling data ##############\n",
      "###############################\n",
      "Sampling at best-fit with params\n",
      "cosmological_parameters--omega_m = 0.395\n",
      "cosmological_parameters--h0 = 0.58\n",
      "cosmological_parameters--omega_b = 0.0399\n",
      "cosmological_parameters--n_s = 0.953\n",
      "cosmological_parameters--a_s = 1.89e-09\n",
      "cosmological_parameters--omnuh2 = 0.00639\n",
      "shear_calibration_parameters--m1 = -0.0161\n",
      "shear_calibration_parameters--m2 = -0.0232\n",
      "shear_calibration_parameters--m3 = -0.0181\n",
      "shear_calibration_parameters--m4 = -0.0388\n",
      "wl_photoz_errors--bias_1 = 0.0277\n",
      "wl_photoz_errors--bias_2 = -0.00887\n",
      "wl_photoz_errors--bias_3 = -0.0273\n",
      "wl_photoz_errors--bias_4 = 0.00944\n",
      "lens_photoz_errors--bias_1 = -0.00595\n",
      "lens_photoz_errors--bias_2 = -0.0243\n",
      "lens_photoz_errors--bias_3 = -0.00523\n",
      "lens_photoz_errors--bias_4 = -0.014\n",
      "lens_photoz_errors--width_1 = 0.983\n",
      "lens_photoz_errors--width_2 = 1.12\n",
      "lens_photoz_errors--width_3 = 0.894\n",
      "lens_photoz_errors--width_4 = 0.9\n",
      "bias_lens--b1        = 1.63\n",
      "bias_lens--b2        = 1.82\n",
      "bias_lens--b3        = 2.05\n",
      "bias_lens--b4        = 1.91\n",
      "intrinsic_alignment_parameters--a1 = 0.453\n",
      "intrinsic_alignment_parameters--a2 = -1.07\n",
      "intrinsic_alignment_parameters--alpha1 = -1.72\n",
      "intrinsic_alignment_parameters--alpha2 = 2.47\n",
      "intrinsic_alignment_parameters--bias_ta = 0.0576\n",
      "\n",
      "###############################\n",
      "## Compute chi2 for d #########\n",
      "###############################\n"
     ]
    },
    {
     "data": {
      "application/vnd.jupyter.widget-view+json": {
       "model_id": "fa03dd5ed2224940bebf735ab8f6b728",
       "version_major": 2,
       "version_minor": 0
      },
      "text/plain": [
       "HBox(children=(FloatProgress(value=0.0, max=221.0), HTML(value='')))"
      ]
     },
     "metadata": {},
     "output_type": "display_data"
    },
    {
     "name": "stdout",
     "output_type": "stream",
     "text": [
      "\n",
      "\n",
      "###############################\n",
      "## Compute IS weights for d ###\n",
      "###############################\n"
     ]
    },
    {
     "data": {
      "application/vnd.jupyter.widget-view+json": {
       "model_id": "5f59b110237148f4b96f06c0bf66a15f",
       "version_major": 2,
       "version_minor": 0
      },
      "text/plain": [
       "HBox(children=(FloatProgress(value=0.0, max=221.0), HTML(value='')))"
      ]
     },
     "metadata": {},
     "output_type": "display_data"
    },
    {
     "name": "stdout",
     "output_type": "stream",
     "text": [
      "\n",
      "(221000, 1000)\n",
      "Neff = 55.8 (median), 16th=23.0, 84th=192.0 (0 were nan's)\n",
      "\n",
      "###############################\n",
      "## Computing p-values #########\n",
      "###############################\n"
     ]
    },
    {
     "data": {
      "application/vnd.jupyter.widget-view+json": {
       "model_id": "37321295aede404990a4434c0b5bc74c",
       "version_major": 2,
       "version_minor": 0
      },
      "text/plain": [
       "HBox(children=(FloatProgress(value=1.0, bar_style='info', max=1.0), HTML(value='')))"
      ]
     },
     "metadata": {},
     "output_type": "display_data"
    },
    {
     "name": "stdout",
     "output_type": "stream",
     "text": [
      "\n",
      "2x2\n",
      "gammat\n",
      "Some (4) eigenvalues are non-positive. Clipping to minimum positive one = 2.106592028897921e-12\n",
      "Some (4) eigenvalues are non-positive. Clipping to minimum positive one = 2.106592028897921e-12\n",
      "wtheta\n",
      "\n",
      "###############################\n",
      "## Calibrated p-values ########\n",
      "###############################\n",
      "     - Full         calibrated pval=0.0070 (raw pval=0.0039)\n",
      "     - 2x2          calibrated pval=0.0080 (raw pval=0.0041)\n",
      "     - gammat       calibrated pval=0.1190 (raw pval=0.0172)\n",
      "     - wtheta       calibrated pval=0.3360 (raw pval=0.3286)\n",
      "\n",
      "###############################\n",
      "## Plotting ###################\n",
      "###############################\n",
      "\n",
      "###############################\n",
      "## Loading chains #############\n",
      "###############################\n"
     ]
    },
    {
     "data": {
      "application/vnd.jupyter.widget-view+json": {
       "model_id": "4c25b174f072489fb6ee8c1beb361932",
       "version_major": 2,
       "version_minor": 0
      },
      "text/plain": [
       "HBox(children=(FloatProgress(value=0.0, max=221.0), HTML(value='')))"
      ]
     },
     "metadata": {},
     "output_type": "display_data"
    },
    {
     "name": "stdout",
     "output_type": "stream",
     "text": [
      "Loading list chain at\n",
      "../maglim_2x2_goodnessoffit/ppd_chain_2x2pt_lcdm_SR_maglim_boosted_maglim_2x2_goodnessoffit_0.txt\n",
      "- using params\n",
      "['cosmological_parameters--omega_m', 'cosmological_parameters--h0', 'cosmological_parameters--omega_b', 'cosmological_parameters--n_s', 'cosmological_parameters--a_s', 'cosmological_parameters--omnuh2', 'cosmological_parameters--w', 'cosmological_parameters--massive_nu', 'cosmological_parameters--massless_nu', 'cosmological_parameters--omega_k', 'cosmological_parameters--tau', 'shear_calibration_parameters--m1', 'shear_calibration_parameters--m2', 'shear_calibration_parameters--m3', 'shear_calibration_parameters--m4', 'wl_photoz_errors--bias_1', 'wl_photoz_errors--bias_2', 'wl_photoz_errors--bias_3', 'wl_photoz_errors--bias_4', 'lens_photoz_errors--bias_1', 'lens_photoz_errors--bias_2', 'lens_photoz_errors--bias_3', 'lens_photoz_errors--bias_4', 'lens_photoz_errors--bias_5', 'lens_photoz_errors--width_1', 'lens_photoz_errors--width_2', 'lens_photoz_errors--width_3', 'lens_photoz_errors--width_4', 'lens_photoz_errors--width_5', 'lens_photoz_errors--bias_6', 'lens_photoz_errors--width_6', 'bias_lens--b1', 'bias_lens--b2', 'bias_lens--b3', 'bias_lens--b4', 'bias_lens--b5', 'bias_lens--b6', 'mag_alpha_lens--alpha_1', 'mag_alpha_lens--alpha_2', 'mag_alpha_lens--alpha_3', 'mag_alpha_lens--alpha_4', 'mag_alpha_lens--alpha_5', 'mag_alpha_lens--alpha_6', 'intrinsic_alignment_parameters--z_piv', 'intrinsic_alignment_parameters--a1', 'intrinsic_alignment_parameters--a2', 'intrinsic_alignment_parameters--alpha1', 'intrinsic_alignment_parameters--alpha2', 'intrinsic_alignment_parameters--bias_ta', 'COSMOLOGICAL_PARAMETERS--SIGMA_8', 'COSMOLOGICAL_PARAMETERS--SIGMA_12', 'DATA_VECTOR--2PT_CHI2', 'DATA_VECTOR--2PT_D_CHI2', 'DATA_VECTOR--2PT_DPRIME_CHI2', 'DATA_VECTOR--2PT_XIP_CHI2', 'DATA_VECTOR--2PT_XIM_CHI2', 'DATA_VECTOR--2PT_1X2_CHI2', 'DATA_VECTOR--2PT_GAMMAT_CHI2', 'DATA_VECTOR--2PT_WTHETA_CHI2', 'DATA_VECTOR--2PT_2X2_CHI2', 'PPD--CHI2_DPRIME_DATA', 'PPD--CHI2_DPRIME_REALIZATION', 'PPD--CHI2_D_DATA', 'PPD--CHI2_XIP_DATA', 'PPD--CHI2_XIP_REALIZATION', 'PPD--CHI2_XIM_DATA', 'PPD--CHI2_XIM_REALIZATION', 'PPD--CHI2_1X2_DATA', 'PPD--CHI2_1X2_REALIZATION', 'PPD--CHI2_GAMMAT_DATA', 'PPD--CHI2_GAMMAT_REALIZATION', 'PPD--CHI2_WTHETA_DATA', 'PPD--CHI2_WTHETA_REALIZATION', 'PPD--CHI2_2X2_DATA', 'PPD--CHI2_2X2_REALIZATION', 'PPD--CHI2_DPRIME_COMP_AVG', 'PPD--CHI2_XIP_COMP_AVG', 'PPD--CHI2_XIM_COMP_AVG', 'PPD--CHI2_1X2_COMP_AVG', 'PPD--CHI2_GAMMAT_COMP_AVG', 'PPD--CHI2_WTHETA_COMP_AVG', 'PPD--CHI2_2X2_COMP_AVG', 'prior', 'post']\n",
      "- using nsample =  1000\n",
      "\n",
      "Loading chain at\n",
      "../../trimmed_chains_test/chain_2x2pt_lcdm_SR_maglim_boosted.txt\n",
      "Sampler not found -- non-standard cosmosis output\n",
      "Using 221 chunks of size [1000, 1000, 1000, 1000, 1000, 1000, 1000, 1000, 1000, 1000, 1000, 1000, 1000, 1000, 1000, 1000, 1000, 1000, 1000, 1000, 1000, 1000, 1000, 1000, 1000, 1000, 1000, 1000, 1000, 1000, 1000, 1000, 1000, 1000, 1000, 1000, 1000, 1000, 1000, 1000, 1000, 1000, 1000, 1000, 1000, 1000, 1000, 1000, 1000, 1000, 1000, 1000, 1000, 1000, 1000, 1000, 1000, 1000, 1000, 1000, 1000, 1000, 1000, 1000, 1000, 1000, 1000, 1000, 1000, 1000, 1000, 1000, 1000, 1000, 1000, 1000, 1000, 1000, 1000, 1000, 1000, 1000, 1000, 1000, 1000, 1000, 1000, 1000, 1000, 1000, 1000, 1000, 1000, 1000, 1000, 1000, 1000, 1000, 1000, 1000, 1000, 1000, 1000, 1000, 1000, 1000, 1000, 1000, 1000, 1000, 1000, 1000, 1000, 1000, 1000, 1000, 1000, 1000, 1000, 1000, 1000, 1000, 1000, 1000, 1000, 1000, 1000, 1000, 1000, 1000, 1000, 1000, 1000, 1000, 1000, 1000, 1000, 1000, 1000, 1000, 1000, 1000, 1000, 1000, 1000, 1000, 1000, 1000, 1000, 1000, 1000, 1000, 1000, 1000, 1000, 1000, 1000, 1000, 1000, 1000, 1000, 1000, 1000, 1000, 1000, 1000, 1000, 1000, 1000, 1000, 1000, 1000, 1000, 1000, 1000, 1000, 1000, 1000, 1000, 1000, 1000, 1000, 1000, 1000, 1000, 1000, 1000, 1000, 1000, 1000, 1000, 1000, 1000, 1000, 1000, 1000, 1000, 1000, 1000, 1000, 1000, 1000, 1000, 1000, 1000, 1000, 1000, 1000, 1000, 1000, 1000, 1000, 1000, 1000, 1000, 1000, 1000, 1000, 1000, 1000, 1000] (1000) for a total of 221000 posterior samples\n",
      "\n",
      "###############################\n",
      "## Loading scale/bin cuts #####\n",
      "###############################\n",
      "Found observables in data_file ['xip', 'xim', 'gammat', 'wtheta']\n",
      "Reading options for likelihood module:  2pt_d_like\n",
      "Found scale cuts for  {'xip': [(1, 1), (1, 2), (1, 3), (1, 4), (2, 2), (2, 3), (2, 4), (3, 3), (3, 4), (4, 4)], 'xim': [(1, 1), (1, 2), (1, 3), (1, 4), (2, 2), (2, 3), (2, 4), (3, 3), (3, 4), (4, 4)], 'gammat': [(1, 1), (1, 2), (1, 3), (1, 4), (2, 1), (2, 2), (2, 3), (2, 4), (3, 1), (3, 2), (3, 3), (3, 4), (4, 1), (4, 2), (4, 3), (4, 4), (5, 1), (5, 2), (5, 3), (5, 4), (6, 1), (6, 2), (6, 3), (6, 4)], 'wtheta': [(1, 1), (1, 2), (1, 3), (1, 4), (1, 5), (1, 6), (2, 2), (2, 3), (2, 4), (2, 5), (2, 6), (3, 3), (3, 4), (3, 5), (3, 6), (4, 4), (4, 5), (4, 6), (5, 5), (5, 6), (6, 6)]}\n",
      "Getting indices for gammat\n",
      "Getting indices for wtheta\n",
      "\n",
      "Found observables in data_file ['xip', 'xim', 'gammat', 'wtheta']\n",
      "Reading options for likelihood module:  2pt_dprime_like\n",
      "Found scale cuts for  {'xip': [(1, 1), (1, 2), (1, 3), (1, 4), (2, 2), (2, 3), (2, 4), (3, 3), (3, 4), (4, 4)], 'xim': [(1, 1), (1, 2), (1, 3), (1, 4), (2, 2), (2, 3), (2, 4), (3, 3), (3, 4), (4, 4)], 'gammat': [(1, 1), (1, 2), (1, 3), (1, 4), (2, 1), (2, 2), (2, 3), (2, 4), (3, 1), (3, 2), (3, 3), (3, 4), (4, 1), (4, 2), (4, 3), (4, 4), (5, 1), (5, 2), (5, 3), (5, 4), (6, 1), (6, 2), (6, 3), (6, 4)], 'wtheta': [(1, 1), (1, 2), (1, 3), (1, 4), (1, 5), (1, 6), (2, 2), (2, 3), (2, 4), (2, 5), (2, 6), (3, 3), (3, 4), (3, 5), (3, 6), (4, 4), (4, 5), (4, 6), (5, 5), (5, 6), (6, 6)]}\n",
      "Getting indices for gammat\n",
      "Getting indices for wtheta\n",
      "\n",
      "Using subsets ['2x2', 'gammat', 'wtheta']\n",
      "\n",
      "Using same indices for d and dprime -> conditioning turned off\n",
      "\n",
      "###############################\n",
      "## Loading realizations #######\n",
      "###############################\n"
     ]
    },
    {
     "data": {
      "application/vnd.jupyter.widget-view+json": {
       "model_id": "5560c083c6714dad9ce5467a72e2e47b",
       "version_major": 2,
       "version_minor": 0
      },
      "text/plain": [
       "HBox(children=(FloatProgress(value=0.0, max=221.0), HTML(value='')))"
      ]
     },
     "metadata": {},
     "output_type": "display_data"
    },
    {
     "name": "stdout",
     "output_type": "stream",
     "text": [
      "Loading realizations from  ../maglim_2x2_goodnessoffit/ppd_2x2pt_lcdm_SR_maglim_boosted_maglim_2x2_goodnessoffit_0_dprime_theory.npy\n",
      " - data vector size = 235\n",
      " - number of realizations = 1000\n",
      "Loading realizations from  ../maglim_2x2_goodnessoffit/ppd_2x2pt_lcdm_SR_maglim_boosted_maglim_2x2_goodnessoffit_0_dprime_real.npy\n",
      " - data vector size = 235\n",
      " - number of realizations = 1000\n",
      "Loading realizations from  ../maglim_2x2_goodnessoffit/ppd_2x2pt_lcdm_SR_maglim_boosted_maglim_2x2_goodnessoffit_0_d_theory.npy\n",
      " - data vector size = 235\n",
      " - number of realizations = 1000\n",
      "\n",
      "\n",
      "###############################\n",
      "## Sampling data ##############\n",
      "###############################\n",
      "Sampling at best-fit with params\n",
      "cosmological_parameters--omega_m = 0.395\n",
      "cosmological_parameters--h0 = 0.58\n",
      "cosmological_parameters--omega_b = 0.0399\n",
      "cosmological_parameters--n_s = 0.953\n",
      "cosmological_parameters--a_s = 1.89e-09\n",
      "cosmological_parameters--omnuh2 = 0.00639\n",
      "shear_calibration_parameters--m1 = -0.0161\n",
      "shear_calibration_parameters--m2 = -0.0232\n",
      "shear_calibration_parameters--m3 = -0.0181\n",
      "shear_calibration_parameters--m4 = -0.0388\n",
      "wl_photoz_errors--bias_1 = 0.0277\n",
      "wl_photoz_errors--bias_2 = -0.00887\n",
      "wl_photoz_errors--bias_3 = -0.0273\n",
      "wl_photoz_errors--bias_4 = 0.00944\n",
      "lens_photoz_errors--bias_1 = -0.00595\n",
      "lens_photoz_errors--bias_2 = -0.0243\n",
      "lens_photoz_errors--bias_3 = -0.00523\n",
      "lens_photoz_errors--bias_4 = -0.014\n",
      "lens_photoz_errors--width_1 = 0.983\n",
      "lens_photoz_errors--width_2 = 1.12\n",
      "lens_photoz_errors--width_3 = 0.894\n",
      "lens_photoz_errors--width_4 = 0.9\n",
      "bias_lens--b1        = 1.63\n",
      "bias_lens--b2        = 1.82\n",
      "bias_lens--b3        = 2.05\n",
      "bias_lens--b4        = 1.91\n",
      "intrinsic_alignment_parameters--a1 = 0.453\n",
      "intrinsic_alignment_parameters--a2 = -1.07\n",
      "intrinsic_alignment_parameters--alpha1 = -1.72\n",
      "intrinsic_alignment_parameters--alpha2 = 2.47\n",
      "intrinsic_alignment_parameters--bias_ta = 0.0576\n",
      "\n",
      "###############################\n",
      "## Compute chi2 for d #########\n",
      "###############################\n"
     ]
    },
    {
     "data": {
      "application/vnd.jupyter.widget-view+json": {
       "model_id": "18af0968acd84f5e9d06519abf6f9e7e",
       "version_major": 2,
       "version_minor": 0
      },
      "text/plain": [
       "HBox(children=(FloatProgress(value=0.0, max=221.0), HTML(value='')))"
      ]
     },
     "metadata": {},
     "output_type": "display_data"
    },
    {
     "name": "stdout",
     "output_type": "stream",
     "text": [
      "\n",
      "\n",
      "###############################\n",
      "## Compute IS weights for d ###\n",
      "###############################\n"
     ]
    },
    {
     "data": {
      "application/vnd.jupyter.widget-view+json": {
       "model_id": "b73d13b468814f53a054066c4128d32d",
       "version_major": 2,
       "version_minor": 0
      },
      "text/plain": [
       "HBox(children=(FloatProgress(value=0.0, max=221.0), HTML(value='')))"
      ]
     },
     "metadata": {},
     "output_type": "display_data"
    },
    {
     "name": "stdout",
     "output_type": "stream",
     "text": [
      "\n",
      "(221000, 1000)\n",
      "Neff = 56.0 (median), 16th=24.2, 84th=200.9 (0 were nan's)\n",
      "\n",
      "###############################\n",
      "## Computing p-values #########\n",
      "###############################\n"
     ]
    },
    {
     "data": {
      "application/vnd.jupyter.widget-view+json": {
       "model_id": "b41cd9f89f9240038cd0cc2047e86ac9",
       "version_major": 2,
       "version_minor": 0
      },
      "text/plain": [
       "HBox(children=(FloatProgress(value=1.0, bar_style='info', max=1.0), HTML(value='')))"
      ]
     },
     "metadata": {},
     "output_type": "display_data"
    },
    {
     "name": "stdout",
     "output_type": "stream",
     "text": [
      "\n",
      "2x2\n",
      "gammat\n",
      "Some (4) eigenvalues are non-positive. Clipping to minimum positive one = 2.106592028897921e-12\n",
      "Some (4) eigenvalues are non-positive. Clipping to minimum positive one = 2.106592028897921e-12\n",
      "wtheta\n",
      "\n",
      "###############################\n",
      "## Calibrated p-values ########\n",
      "###############################\n",
      "     - Full         calibrated pval=0.0180 (raw pval=0.0039)\n",
      "     - 2x2          calibrated pval=0.0180 (raw pval=0.0041)\n",
      "     - gammat       calibrated pval=0.1210 (raw pval=0.0172)\n",
      "     - wtheta       calibrated pval=0.3390 (raw pval=0.3286)\n",
      "\n",
      "###############################\n",
      "## Plotting ###################\n",
      "###############################\n",
      "\n",
      "###############################\n",
      "## Loading chains #############\n",
      "###############################\n"
     ]
    },
    {
     "data": {
      "application/vnd.jupyter.widget-view+json": {
       "model_id": "1f6e4a9c74a74285bf7334b981c72699",
       "version_major": 2,
       "version_minor": 0
      },
      "text/plain": [
       "HBox(children=(FloatProgress(value=0.0, max=221.0), HTML(value='')))"
      ]
     },
     "metadata": {},
     "output_type": "display_data"
    },
    {
     "name": "stdout",
     "output_type": "stream",
     "text": [
      "Loading list chain at\n",
      "../maglim_2x2_goodnessoffit/ppd_chain_2x2pt_lcdm_SR_maglim_boosted_maglim_2x2_goodnessoffit_0.txt\n",
      "- using params\n",
      "['cosmological_parameters--omega_m', 'cosmological_parameters--h0', 'cosmological_parameters--omega_b', 'cosmological_parameters--n_s', 'cosmological_parameters--a_s', 'cosmological_parameters--omnuh2', 'cosmological_parameters--w', 'cosmological_parameters--massive_nu', 'cosmological_parameters--massless_nu', 'cosmological_parameters--omega_k', 'cosmological_parameters--tau', 'shear_calibration_parameters--m1', 'shear_calibration_parameters--m2', 'shear_calibration_parameters--m3', 'shear_calibration_parameters--m4', 'wl_photoz_errors--bias_1', 'wl_photoz_errors--bias_2', 'wl_photoz_errors--bias_3', 'wl_photoz_errors--bias_4', 'lens_photoz_errors--bias_1', 'lens_photoz_errors--bias_2', 'lens_photoz_errors--bias_3', 'lens_photoz_errors--bias_4', 'lens_photoz_errors--bias_5', 'lens_photoz_errors--width_1', 'lens_photoz_errors--width_2', 'lens_photoz_errors--width_3', 'lens_photoz_errors--width_4', 'lens_photoz_errors--width_5', 'lens_photoz_errors--bias_6', 'lens_photoz_errors--width_6', 'bias_lens--b1', 'bias_lens--b2', 'bias_lens--b3', 'bias_lens--b4', 'bias_lens--b5', 'bias_lens--b6', 'mag_alpha_lens--alpha_1', 'mag_alpha_lens--alpha_2', 'mag_alpha_lens--alpha_3', 'mag_alpha_lens--alpha_4', 'mag_alpha_lens--alpha_5', 'mag_alpha_lens--alpha_6', 'intrinsic_alignment_parameters--z_piv', 'intrinsic_alignment_parameters--a1', 'intrinsic_alignment_parameters--a2', 'intrinsic_alignment_parameters--alpha1', 'intrinsic_alignment_parameters--alpha2', 'intrinsic_alignment_parameters--bias_ta', 'COSMOLOGICAL_PARAMETERS--SIGMA_8', 'COSMOLOGICAL_PARAMETERS--SIGMA_12', 'DATA_VECTOR--2PT_CHI2', 'DATA_VECTOR--2PT_D_CHI2', 'DATA_VECTOR--2PT_DPRIME_CHI2', 'DATA_VECTOR--2PT_XIP_CHI2', 'DATA_VECTOR--2PT_XIM_CHI2', 'DATA_VECTOR--2PT_1X2_CHI2', 'DATA_VECTOR--2PT_GAMMAT_CHI2', 'DATA_VECTOR--2PT_WTHETA_CHI2', 'DATA_VECTOR--2PT_2X2_CHI2', 'PPD--CHI2_DPRIME_DATA', 'PPD--CHI2_DPRIME_REALIZATION', 'PPD--CHI2_D_DATA', 'PPD--CHI2_XIP_DATA', 'PPD--CHI2_XIP_REALIZATION', 'PPD--CHI2_XIM_DATA', 'PPD--CHI2_XIM_REALIZATION', 'PPD--CHI2_1X2_DATA', 'PPD--CHI2_1X2_REALIZATION', 'PPD--CHI2_GAMMAT_DATA', 'PPD--CHI2_GAMMAT_REALIZATION', 'PPD--CHI2_WTHETA_DATA', 'PPD--CHI2_WTHETA_REALIZATION', 'PPD--CHI2_2X2_DATA', 'PPD--CHI2_2X2_REALIZATION', 'PPD--CHI2_DPRIME_COMP_AVG', 'PPD--CHI2_XIP_COMP_AVG', 'PPD--CHI2_XIM_COMP_AVG', 'PPD--CHI2_1X2_COMP_AVG', 'PPD--CHI2_GAMMAT_COMP_AVG', 'PPD--CHI2_WTHETA_COMP_AVG', 'PPD--CHI2_2X2_COMP_AVG', 'prior', 'post']\n",
      "- using nsample =  1000\n",
      "\n",
      "Loading chain at\n",
      "../../trimmed_chains_test/chain_2x2pt_lcdm_SR_maglim_boosted.txt\n",
      "Sampler not found -- non-standard cosmosis output\n",
      "Using 221 chunks of size [1000, 1000, 1000, 1000, 1000, 1000, 1000, 1000, 1000, 1000, 1000, 1000, 1000, 1000, 1000, 1000, 1000, 1000, 1000, 1000, 1000, 1000, 1000, 1000, 1000, 1000, 1000, 1000, 1000, 1000, 1000, 1000, 1000, 1000, 1000, 1000, 1000, 1000, 1000, 1000, 1000, 1000, 1000, 1000, 1000, 1000, 1000, 1000, 1000, 1000, 1000, 1000, 1000, 1000, 1000, 1000, 1000, 1000, 1000, 1000, 1000, 1000, 1000, 1000, 1000, 1000, 1000, 1000, 1000, 1000, 1000, 1000, 1000, 1000, 1000, 1000, 1000, 1000, 1000, 1000, 1000, 1000, 1000, 1000, 1000, 1000, 1000, 1000, 1000, 1000, 1000, 1000, 1000, 1000, 1000, 1000, 1000, 1000, 1000, 1000, 1000, 1000, 1000, 1000, 1000, 1000, 1000, 1000, 1000, 1000, 1000, 1000, 1000, 1000, 1000, 1000, 1000, 1000, 1000, 1000, 1000, 1000, 1000, 1000, 1000, 1000, 1000, 1000, 1000, 1000, 1000, 1000, 1000, 1000, 1000, 1000, 1000, 1000, 1000, 1000, 1000, 1000, 1000, 1000, 1000, 1000, 1000, 1000, 1000, 1000, 1000, 1000, 1000, 1000, 1000, 1000, 1000, 1000, 1000, 1000, 1000, 1000, 1000, 1000, 1000, 1000, 1000, 1000, 1000, 1000, 1000, 1000, 1000, 1000, 1000, 1000, 1000, 1000, 1000, 1000, 1000, 1000, 1000, 1000, 1000, 1000, 1000, 1000, 1000, 1000, 1000, 1000, 1000, 1000, 1000, 1000, 1000, 1000, 1000, 1000, 1000, 1000, 1000, 1000, 1000, 1000, 1000, 1000, 1000, 1000, 1000, 1000, 1000, 1000, 1000, 1000, 1000, 1000, 1000, 1000, 1000] (1000) for a total of 221000 posterior samples\n",
      "\n",
      "###############################\n",
      "## Loading scale/bin cuts #####\n",
      "###############################\n",
      "Found observables in data_file ['xip', 'xim', 'gammat', 'wtheta']\n",
      "Reading options for likelihood module:  2pt_d_like\n",
      "Found scale cuts for  {'xip': [(1, 1), (1, 2), (1, 3), (1, 4), (2, 2), (2, 3), (2, 4), (3, 3), (3, 4), (4, 4)], 'xim': [(1, 1), (1, 2), (1, 3), (1, 4), (2, 2), (2, 3), (2, 4), (3, 3), (3, 4), (4, 4)], 'gammat': [(1, 1), (1, 2), (1, 3), (1, 4), (2, 1), (2, 2), (2, 3), (2, 4), (3, 1), (3, 2), (3, 3), (3, 4), (4, 1), (4, 2), (4, 3), (4, 4), (5, 1), (5, 2), (5, 3), (5, 4), (6, 1), (6, 2), (6, 3), (6, 4)], 'wtheta': [(1, 1), (1, 2), (1, 3), (1, 4), (1, 5), (1, 6), (2, 2), (2, 3), (2, 4), (2, 5), (2, 6), (3, 3), (3, 4), (3, 5), (3, 6), (4, 4), (4, 5), (4, 6), (5, 5), (5, 6), (6, 6)]}\n",
      "Getting indices for gammat\n",
      "Getting indices for wtheta\n",
      "\n",
      "Found observables in data_file ['xip', 'xim', 'gammat', 'wtheta']\n",
      "Reading options for likelihood module:  2pt_dprime_like\n",
      "Found scale cuts for  {'xip': [(1, 1), (1, 2), (1, 3), (1, 4), (2, 2), (2, 3), (2, 4), (3, 3), (3, 4), (4, 4)], 'xim': [(1, 1), (1, 2), (1, 3), (1, 4), (2, 2), (2, 3), (2, 4), (3, 3), (3, 4), (4, 4)], 'gammat': [(1, 1), (1, 2), (1, 3), (1, 4), (2, 1), (2, 2), (2, 3), (2, 4), (3, 1), (3, 2), (3, 3), (3, 4), (4, 1), (4, 2), (4, 3), (4, 4), (5, 1), (5, 2), (5, 3), (5, 4), (6, 1), (6, 2), (6, 3), (6, 4)], 'wtheta': [(1, 1), (1, 2), (1, 3), (1, 4), (1, 5), (1, 6), (2, 2), (2, 3), (2, 4), (2, 5), (2, 6), (3, 3), (3, 4), (3, 5), (3, 6), (4, 4), (4, 5), (4, 6), (5, 5), (5, 6), (6, 6)]}\n",
      "Getting indices for gammat\n",
      "Getting indices for wtheta\n",
      "\n",
      "Using subsets ['2x2', 'gammat', 'wtheta']\n",
      "\n",
      "Using same indices for d and dprime -> conditioning turned off\n",
      "\n",
      "###############################\n",
      "## Loading realizations #######\n",
      "###############################\n"
     ]
    },
    {
     "data": {
      "application/vnd.jupyter.widget-view+json": {
       "model_id": "4ceda5547d1a4e85b0705945d17586f0",
       "version_major": 2,
       "version_minor": 0
      },
      "text/plain": [
       "HBox(children=(FloatProgress(value=0.0, max=221.0), HTML(value='')))"
      ]
     },
     "metadata": {},
     "output_type": "display_data"
    },
    {
     "name": "stdout",
     "output_type": "stream",
     "text": [
      "Loading realizations from  ../maglim_2x2_goodnessoffit/ppd_2x2pt_lcdm_SR_maglim_boosted_maglim_2x2_goodnessoffit_0_dprime_theory.npy\n",
      " - data vector size = 235\n",
      " - number of realizations = 1000\n",
      "Loading realizations from  ../maglim_2x2_goodnessoffit/ppd_2x2pt_lcdm_SR_maglim_boosted_maglim_2x2_goodnessoffit_0_dprime_real.npy\n",
      " - data vector size = 235\n",
      " - number of realizations = 1000\n",
      "Loading realizations from  ../maglim_2x2_goodnessoffit/ppd_2x2pt_lcdm_SR_maglim_boosted_maglim_2x2_goodnessoffit_0_d_theory.npy\n",
      " - data vector size = 235\n",
      " - number of realizations = 1000\n",
      "\n",
      "\n",
      "###############################\n",
      "## Sampling data ##############\n",
      "###############################\n",
      "Sampling at best-fit with params\n",
      "cosmological_parameters--omega_m = 0.395\n",
      "cosmological_parameters--h0 = 0.58\n",
      "cosmological_parameters--omega_b = 0.0399\n",
      "cosmological_parameters--n_s = 0.953\n",
      "cosmological_parameters--a_s = 1.89e-09\n",
      "cosmological_parameters--omnuh2 = 0.00639\n",
      "shear_calibration_parameters--m1 = -0.0161\n",
      "shear_calibration_parameters--m2 = -0.0232\n",
      "shear_calibration_parameters--m3 = -0.0181\n",
      "shear_calibration_parameters--m4 = -0.0388\n",
      "wl_photoz_errors--bias_1 = 0.0277\n",
      "wl_photoz_errors--bias_2 = -0.00887\n",
      "wl_photoz_errors--bias_3 = -0.0273\n",
      "wl_photoz_errors--bias_4 = 0.00944\n",
      "lens_photoz_errors--bias_1 = -0.00595\n",
      "lens_photoz_errors--bias_2 = -0.0243\n",
      "lens_photoz_errors--bias_3 = -0.00523\n",
      "lens_photoz_errors--bias_4 = -0.014\n",
      "lens_photoz_errors--width_1 = 0.983\n",
      "lens_photoz_errors--width_2 = 1.12\n",
      "lens_photoz_errors--width_3 = 0.894\n",
      "lens_photoz_errors--width_4 = 0.9\n",
      "bias_lens--b1        = 1.63\n",
      "bias_lens--b2        = 1.82\n",
      "bias_lens--b3        = 2.05\n",
      "bias_lens--b4        = 1.91\n",
      "intrinsic_alignment_parameters--a1 = 0.453\n",
      "intrinsic_alignment_parameters--a2 = -1.07\n",
      "intrinsic_alignment_parameters--alpha1 = -1.72\n",
      "intrinsic_alignment_parameters--alpha2 = 2.47\n",
      "intrinsic_alignment_parameters--bias_ta = 0.0576\n",
      "\n",
      "###############################\n",
      "## Compute chi2 for d #########\n",
      "###############################\n"
     ]
    },
    {
     "data": {
      "application/vnd.jupyter.widget-view+json": {
       "model_id": "5976edea178d435e914c3ead66dbcdf0",
       "version_major": 2,
       "version_minor": 0
      },
      "text/plain": [
       "HBox(children=(FloatProgress(value=0.0, max=221.0), HTML(value='')))"
      ]
     },
     "metadata": {},
     "output_type": "display_data"
    },
    {
     "name": "stdout",
     "output_type": "stream",
     "text": [
      "\n",
      "\n",
      "###############################\n",
      "## Compute IS weights for d ###\n",
      "###############################\n"
     ]
    },
    {
     "data": {
      "application/vnd.jupyter.widget-view+json": {
       "model_id": "280093412cdc4f42b9a45b93728fd8c2",
       "version_major": 2,
       "version_minor": 0
      },
      "text/plain": [
       "HBox(children=(FloatProgress(value=0.0, max=221.0), HTML(value='')))"
      ]
     },
     "metadata": {},
     "output_type": "display_data"
    },
    {
     "name": "stdout",
     "output_type": "stream",
     "text": [
      "\n",
      "(221000, 1000)\n",
      "Neff = 52.1 (median), 16th=23.1, 84th=167.3 (0 were nan's)\n",
      "\n",
      "###############################\n",
      "## Computing p-values #########\n",
      "###############################\n"
     ]
    },
    {
     "data": {
      "application/vnd.jupyter.widget-view+json": {
       "model_id": "7efe1c432d1f4a259d75dcbc487571f1",
       "version_major": 2,
       "version_minor": 0
      },
      "text/plain": [
       "HBox(children=(FloatProgress(value=1.0, bar_style='info', max=1.0), HTML(value='')))"
      ]
     },
     "metadata": {},
     "output_type": "display_data"
    },
    {
     "name": "stdout",
     "output_type": "stream",
     "text": [
      "\n",
      "2x2\n",
      "gammat\n",
      "Some (4) eigenvalues are non-positive. Clipping to minimum positive one = 2.106592028897921e-12\n",
      "Some (4) eigenvalues are non-positive. Clipping to minimum positive one = 2.106592028897921e-12\n",
      "wtheta\n",
      "\n",
      "###############################\n",
      "## Calibrated p-values ########\n",
      "###############################\n",
      "     - Full         calibrated pval=0.0140 (raw pval=0.0039)\n",
      "     - 2x2          calibrated pval=0.0140 (raw pval=0.0041)\n",
      "     - gammat       calibrated pval=0.1110 (raw pval=0.0172)\n",
      "     - wtheta       calibrated pval=0.3410 (raw pval=0.3286)\n",
      "\n",
      "###############################\n",
      "## Plotting ###################\n",
      "###############################\n",
      "\n",
      "###############################\n",
      "## Loading chains #############\n",
      "###############################\n"
     ]
    },
    {
     "data": {
      "application/vnd.jupyter.widget-view+json": {
       "model_id": "1f19d1eaafbe458ebfd0267c817f637c",
       "version_major": 2,
       "version_minor": 0
      },
      "text/plain": [
       "HBox(children=(FloatProgress(value=0.0, max=221.0), HTML(value='')))"
      ]
     },
     "metadata": {},
     "output_type": "display_data"
    },
    {
     "name": "stdout",
     "output_type": "stream",
     "text": [
      "Loading list chain at\n",
      "../maglim_2x2_goodnessoffit/ppd_chain_2x2pt_lcdm_SR_maglim_boosted_maglim_2x2_goodnessoffit_0.txt\n",
      "- using params\n",
      "['cosmological_parameters--omega_m', 'cosmological_parameters--h0', 'cosmological_parameters--omega_b', 'cosmological_parameters--n_s', 'cosmological_parameters--a_s', 'cosmological_parameters--omnuh2', 'cosmological_parameters--w', 'cosmological_parameters--massive_nu', 'cosmological_parameters--massless_nu', 'cosmological_parameters--omega_k', 'cosmological_parameters--tau', 'shear_calibration_parameters--m1', 'shear_calibration_parameters--m2', 'shear_calibration_parameters--m3', 'shear_calibration_parameters--m4', 'wl_photoz_errors--bias_1', 'wl_photoz_errors--bias_2', 'wl_photoz_errors--bias_3', 'wl_photoz_errors--bias_4', 'lens_photoz_errors--bias_1', 'lens_photoz_errors--bias_2', 'lens_photoz_errors--bias_3', 'lens_photoz_errors--bias_4', 'lens_photoz_errors--bias_5', 'lens_photoz_errors--width_1', 'lens_photoz_errors--width_2', 'lens_photoz_errors--width_3', 'lens_photoz_errors--width_4', 'lens_photoz_errors--width_5', 'lens_photoz_errors--bias_6', 'lens_photoz_errors--width_6', 'bias_lens--b1', 'bias_lens--b2', 'bias_lens--b3', 'bias_lens--b4', 'bias_lens--b5', 'bias_lens--b6', 'mag_alpha_lens--alpha_1', 'mag_alpha_lens--alpha_2', 'mag_alpha_lens--alpha_3', 'mag_alpha_lens--alpha_4', 'mag_alpha_lens--alpha_5', 'mag_alpha_lens--alpha_6', 'intrinsic_alignment_parameters--z_piv', 'intrinsic_alignment_parameters--a1', 'intrinsic_alignment_parameters--a2', 'intrinsic_alignment_parameters--alpha1', 'intrinsic_alignment_parameters--alpha2', 'intrinsic_alignment_parameters--bias_ta', 'COSMOLOGICAL_PARAMETERS--SIGMA_8', 'COSMOLOGICAL_PARAMETERS--SIGMA_12', 'DATA_VECTOR--2PT_CHI2', 'DATA_VECTOR--2PT_D_CHI2', 'DATA_VECTOR--2PT_DPRIME_CHI2', 'DATA_VECTOR--2PT_XIP_CHI2', 'DATA_VECTOR--2PT_XIM_CHI2', 'DATA_VECTOR--2PT_1X2_CHI2', 'DATA_VECTOR--2PT_GAMMAT_CHI2', 'DATA_VECTOR--2PT_WTHETA_CHI2', 'DATA_VECTOR--2PT_2X2_CHI2', 'PPD--CHI2_DPRIME_DATA', 'PPD--CHI2_DPRIME_REALIZATION', 'PPD--CHI2_D_DATA', 'PPD--CHI2_XIP_DATA', 'PPD--CHI2_XIP_REALIZATION', 'PPD--CHI2_XIM_DATA', 'PPD--CHI2_XIM_REALIZATION', 'PPD--CHI2_1X2_DATA', 'PPD--CHI2_1X2_REALIZATION', 'PPD--CHI2_GAMMAT_DATA', 'PPD--CHI2_GAMMAT_REALIZATION', 'PPD--CHI2_WTHETA_DATA', 'PPD--CHI2_WTHETA_REALIZATION', 'PPD--CHI2_2X2_DATA', 'PPD--CHI2_2X2_REALIZATION', 'PPD--CHI2_DPRIME_COMP_AVG', 'PPD--CHI2_XIP_COMP_AVG', 'PPD--CHI2_XIM_COMP_AVG', 'PPD--CHI2_1X2_COMP_AVG', 'PPD--CHI2_GAMMAT_COMP_AVG', 'PPD--CHI2_WTHETA_COMP_AVG', 'PPD--CHI2_2X2_COMP_AVG', 'prior', 'post']\n",
      "- using nsample =  1000\n",
      "\n",
      "Loading chain at\n",
      "../../trimmed_chains_test/chain_2x2pt_lcdm_SR_maglim_boosted.txt\n",
      "Sampler not found -- non-standard cosmosis output\n",
      "Using 221 chunks of size [1000, 1000, 1000, 1000, 1000, 1000, 1000, 1000, 1000, 1000, 1000, 1000, 1000, 1000, 1000, 1000, 1000, 1000, 1000, 1000, 1000, 1000, 1000, 1000, 1000, 1000, 1000, 1000, 1000, 1000, 1000, 1000, 1000, 1000, 1000, 1000, 1000, 1000, 1000, 1000, 1000, 1000, 1000, 1000, 1000, 1000, 1000, 1000, 1000, 1000, 1000, 1000, 1000, 1000, 1000, 1000, 1000, 1000, 1000, 1000, 1000, 1000, 1000, 1000, 1000, 1000, 1000, 1000, 1000, 1000, 1000, 1000, 1000, 1000, 1000, 1000, 1000, 1000, 1000, 1000, 1000, 1000, 1000, 1000, 1000, 1000, 1000, 1000, 1000, 1000, 1000, 1000, 1000, 1000, 1000, 1000, 1000, 1000, 1000, 1000, 1000, 1000, 1000, 1000, 1000, 1000, 1000, 1000, 1000, 1000, 1000, 1000, 1000, 1000, 1000, 1000, 1000, 1000, 1000, 1000, 1000, 1000, 1000, 1000, 1000, 1000, 1000, 1000, 1000, 1000, 1000, 1000, 1000, 1000, 1000, 1000, 1000, 1000, 1000, 1000, 1000, 1000, 1000, 1000, 1000, 1000, 1000, 1000, 1000, 1000, 1000, 1000, 1000, 1000, 1000, 1000, 1000, 1000, 1000, 1000, 1000, 1000, 1000, 1000, 1000, 1000, 1000, 1000, 1000, 1000, 1000, 1000, 1000, 1000, 1000, 1000, 1000, 1000, 1000, 1000, 1000, 1000, 1000, 1000, 1000, 1000, 1000, 1000, 1000, 1000, 1000, 1000, 1000, 1000, 1000, 1000, 1000, 1000, 1000, 1000, 1000, 1000, 1000, 1000, 1000, 1000, 1000, 1000, 1000, 1000, 1000, 1000, 1000, 1000, 1000, 1000, 1000, 1000, 1000, 1000, 1000] (1000) for a total of 221000 posterior samples\n",
      "\n",
      "###############################\n",
      "## Loading scale/bin cuts #####\n",
      "###############################\n",
      "Found observables in data_file ['xip', 'xim', 'gammat', 'wtheta']\n",
      "Reading options for likelihood module:  2pt_d_like\n",
      "Found scale cuts for  {'xip': [(1, 1), (1, 2), (1, 3), (1, 4), (2, 2), (2, 3), (2, 4), (3, 3), (3, 4), (4, 4)], 'xim': [(1, 1), (1, 2), (1, 3), (1, 4), (2, 2), (2, 3), (2, 4), (3, 3), (3, 4), (4, 4)], 'gammat': [(1, 1), (1, 2), (1, 3), (1, 4), (2, 1), (2, 2), (2, 3), (2, 4), (3, 1), (3, 2), (3, 3), (3, 4), (4, 1), (4, 2), (4, 3), (4, 4), (5, 1), (5, 2), (5, 3), (5, 4), (6, 1), (6, 2), (6, 3), (6, 4)], 'wtheta': [(1, 1), (1, 2), (1, 3), (1, 4), (1, 5), (1, 6), (2, 2), (2, 3), (2, 4), (2, 5), (2, 6), (3, 3), (3, 4), (3, 5), (3, 6), (4, 4), (4, 5), (4, 6), (5, 5), (5, 6), (6, 6)]}\n",
      "Getting indices for gammat\n",
      "Getting indices for wtheta\n",
      "\n",
      "Found observables in data_file ['xip', 'xim', 'gammat', 'wtheta']\n",
      "Reading options for likelihood module:  2pt_dprime_like\n",
      "Found scale cuts for  {'xip': [(1, 1), (1, 2), (1, 3), (1, 4), (2, 2), (2, 3), (2, 4), (3, 3), (3, 4), (4, 4)], 'xim': [(1, 1), (1, 2), (1, 3), (1, 4), (2, 2), (2, 3), (2, 4), (3, 3), (3, 4), (4, 4)], 'gammat': [(1, 1), (1, 2), (1, 3), (1, 4), (2, 1), (2, 2), (2, 3), (2, 4), (3, 1), (3, 2), (3, 3), (3, 4), (4, 1), (4, 2), (4, 3), (4, 4), (5, 1), (5, 2), (5, 3), (5, 4), (6, 1), (6, 2), (6, 3), (6, 4)], 'wtheta': [(1, 1), (1, 2), (1, 3), (1, 4), (1, 5), (1, 6), (2, 2), (2, 3), (2, 4), (2, 5), (2, 6), (3, 3), (3, 4), (3, 5), (3, 6), (4, 4), (4, 5), (4, 6), (5, 5), (5, 6), (6, 6)]}\n",
      "Getting indices for gammat\n",
      "Getting indices for wtheta\n",
      "\n",
      "Using subsets ['2x2', 'gammat', 'wtheta']\n",
      "\n",
      "Using same indices for d and dprime -> conditioning turned off\n",
      "\n",
      "###############################\n",
      "## Loading realizations #######\n",
      "###############################\n"
     ]
    },
    {
     "data": {
      "application/vnd.jupyter.widget-view+json": {
       "model_id": "cdc919ba0d9f4e978912205fbf2185ef",
       "version_major": 2,
       "version_minor": 0
      },
      "text/plain": [
       "HBox(children=(FloatProgress(value=0.0, max=221.0), HTML(value='')))"
      ]
     },
     "metadata": {},
     "output_type": "display_data"
    },
    {
     "name": "stdout",
     "output_type": "stream",
     "text": [
      "Loading realizations from  ../maglim_2x2_goodnessoffit/ppd_2x2pt_lcdm_SR_maglim_boosted_maglim_2x2_goodnessoffit_0_dprime_theory.npy\n",
      " - data vector size = 235\n",
      " - number of realizations = 1000\n",
      "Loading realizations from  ../maglim_2x2_goodnessoffit/ppd_2x2pt_lcdm_SR_maglim_boosted_maglim_2x2_goodnessoffit_0_dprime_real.npy\n",
      " - data vector size = 235\n",
      " - number of realizations = 1000\n",
      "Loading realizations from  ../maglim_2x2_goodnessoffit/ppd_2x2pt_lcdm_SR_maglim_boosted_maglim_2x2_goodnessoffit_0_d_theory.npy\n",
      " - data vector size = 235\n",
      " - number of realizations = 1000\n",
      "\n",
      "\n",
      "###############################\n",
      "## Sampling data ##############\n",
      "###############################\n",
      "Sampling at best-fit with params\n",
      "cosmological_parameters--omega_m = 0.395\n",
      "cosmological_parameters--h0 = 0.58\n",
      "cosmological_parameters--omega_b = 0.0399\n",
      "cosmological_parameters--n_s = 0.953\n",
      "cosmological_parameters--a_s = 1.89e-09\n",
      "cosmological_parameters--omnuh2 = 0.00639\n",
      "shear_calibration_parameters--m1 = -0.0161\n",
      "shear_calibration_parameters--m2 = -0.0232\n",
      "shear_calibration_parameters--m3 = -0.0181\n",
      "shear_calibration_parameters--m4 = -0.0388\n",
      "wl_photoz_errors--bias_1 = 0.0277\n",
      "wl_photoz_errors--bias_2 = -0.00887\n",
      "wl_photoz_errors--bias_3 = -0.0273\n",
      "wl_photoz_errors--bias_4 = 0.00944\n",
      "lens_photoz_errors--bias_1 = -0.00595\n",
      "lens_photoz_errors--bias_2 = -0.0243\n",
      "lens_photoz_errors--bias_3 = -0.00523\n",
      "lens_photoz_errors--bias_4 = -0.014\n",
      "lens_photoz_errors--width_1 = 0.983\n",
      "lens_photoz_errors--width_2 = 1.12\n",
      "lens_photoz_errors--width_3 = 0.894\n",
      "lens_photoz_errors--width_4 = 0.9\n",
      "bias_lens--b1        = 1.63\n",
      "bias_lens--b2        = 1.82\n",
      "bias_lens--b3        = 2.05\n",
      "bias_lens--b4        = 1.91\n",
      "intrinsic_alignment_parameters--a1 = 0.453\n",
      "intrinsic_alignment_parameters--a2 = -1.07\n",
      "intrinsic_alignment_parameters--alpha1 = -1.72\n",
      "intrinsic_alignment_parameters--alpha2 = 2.47\n",
      "intrinsic_alignment_parameters--bias_ta = 0.0576\n",
      "\n",
      "###############################\n",
      "## Compute chi2 for d #########\n",
      "###############################\n"
     ]
    },
    {
     "data": {
      "application/vnd.jupyter.widget-view+json": {
       "model_id": "3d50ba46a3bd4e9a95eed7d04a966f97",
       "version_major": 2,
       "version_minor": 0
      },
      "text/plain": [
       "HBox(children=(FloatProgress(value=0.0, max=221.0), HTML(value='')))"
      ]
     },
     "metadata": {},
     "output_type": "display_data"
    },
    {
     "name": "stdout",
     "output_type": "stream",
     "text": [
      "\n",
      "\n",
      "###############################\n",
      "## Compute IS weights for d ###\n",
      "###############################\n"
     ]
    },
    {
     "data": {
      "application/vnd.jupyter.widget-view+json": {
       "model_id": "ddb80696e3fb42568e31044f79b24f90",
       "version_major": 2,
       "version_minor": 0
      },
      "text/plain": [
       "HBox(children=(FloatProgress(value=0.0, max=221.0), HTML(value='')))"
      ]
     },
     "metadata": {},
     "output_type": "display_data"
    },
    {
     "name": "stdout",
     "output_type": "stream",
     "text": [
      "\n",
      "(221000, 1000)\n",
      "Neff = 54.5 (median), 16th=23.7, 84th=185.2 (0 were nan's)\n",
      "\n",
      "###############################\n",
      "## Computing p-values #########\n",
      "###############################\n"
     ]
    },
    {
     "data": {
      "application/vnd.jupyter.widget-view+json": {
       "model_id": "cacf621ef7164ad094d70c5d0e5fd453",
       "version_major": 2,
       "version_minor": 0
      },
      "text/plain": [
       "HBox(children=(FloatProgress(value=1.0, bar_style='info', max=1.0), HTML(value='')))"
      ]
     },
     "metadata": {},
     "output_type": "display_data"
    },
    {
     "name": "stdout",
     "output_type": "stream",
     "text": [
      "\n",
      "2x2\n",
      "gammat\n",
      "Some (4) eigenvalues are non-positive. Clipping to minimum positive one = 2.106592028897921e-12\n",
      "Some (4) eigenvalues are non-positive. Clipping to minimum positive one = 2.106592028897921e-12\n",
      "wtheta\n",
      "\n",
      "###############################\n",
      "## Calibrated p-values ########\n",
      "###############################\n",
      "     - Full         calibrated pval=0.0180 (raw pval=0.0039)\n",
      "     - 2x2          calibrated pval=0.0190 (raw pval=0.0041)\n",
      "     - gammat       calibrated pval=0.1180 (raw pval=0.0172)\n",
      "     - wtheta       calibrated pval=0.3470 (raw pval=0.3286)\n",
      "\n",
      "###############################\n",
      "## Plotting ###################\n",
      "###############################\n",
      "\n"
     ]
    },
    {
     "data": {
      "image/png": "[encoded data removed]",
      "text/plain": [
       "<Figure size 288x216 with 1 Axes>"
      ]
     },
     "metadata": {
      "image/png": {
       "height": 209,
       "width": 253
      },
      "needs_background": "light"
     },
     "output_type": "display_data"
    },
    {
     "data": {
      "image/png": "[encoded data removed]",
      "text/plain": [
       "<Figure size 288x216 with 1 Axes>"
      ]
     },
     "metadata": {
      "image/png": {
       "height": 209,
       "width": 253
      },
      "needs_background": "light"
     },
     "output_type": "display_data"
    },
    {
     "data": {
      "image/png": "[encoded data removed]",
      "text/plain": [
       "<Figure size 288x216 with 1 Axes>"
      ]
     },
     "metadata": {
      "image/png": {
       "height": 209,
       "width": 253
      },
      "needs_background": "light"
     },
     "output_type": "display_data"
    },
    {
     "data": {
      "image/png": "[encoded data removed]",
      "text/plain": [
       "<Figure size 288x216 with 1 Axes>"
      ]
     },
     "metadata": {
      "image/png": {
       "height": 209,
       "width": 253
      },
      "needs_background": "light"
     },
     "output_type": "display_data"
    },
    {
     "data": {
      "image/png": "[encoded data removed]",
      "text/plain": [
       "<Figure size 288x216 with 1 Axes>"
      ]
     },
     "metadata": {
      "image/png": {
       "height": 209,
       "width": 253
      },
      "needs_background": "light"
     },
     "output_type": "display_data"
    },
    {
     "data": {
      "image/png": "[encoded data removed]",
      "text/plain": [
       "<Figure size 288x216 with 1 Axes>"
      ]
     },
     "metadata": {
      "image/png": {
       "height": 209,
       "width": 253
      },
      "needs_background": "light"
     },
     "output_type": "display_data"
    },
    {
     "data": {
      "image/png": "[encoded data removed]",
      "text/plain": [
       "<Figure size 288x216 with 1 Axes>"
      ]
     },
     "metadata": {
      "image/png": {
       "height": 209,
       "width": 253
      },
      "needs_background": "light"
     },
     "output_type": "display_data"
    },
    {
     "data": {
      "image/png": "[encoded data removed]",
      "text/plain": [
       "<Figure size 288x216 with 1 Axes>"
      ]
     },
     "metadata": {
      "image/png": {
       "height": 209,
       "width": 253
      },
      "needs_background": "light"
     },
     "output_type": "display_data"
    },
    {
     "data": {
      "image/png": "[encoded data removed]",
      "text/plain": [
       "<Figure size 288x216 with 1 Axes>"
      ]
     },
     "metadata": {
      "image/png": {
       "height": 209,
       "width": 253
      },
      "needs_background": "light"
     },
     "output_type": "display_data"
    },
    {
     "data": {
      "image/png": "[encoded data removed]",
      "text/plain": [
       "<Figure size 288x216 with 1 Axes>"
      ]
     },
     "metadata": {
      "image/png": {
       "height": 209,
       "width": 253
      },
      "needs_background": "light"
     },
     "output_type": "display_data"
    }
   ],
   "source": [
    "res_pcal = []\n",
    "\n",
    "pvals_subsets={k:None for k in['xip','xim', 'gammat','wtheta','1x2','2x2']}\n",
    "\n",
    "import sys, os\n",
    "\n",
    "# Disable\n",
    "def blockPrint():\n",
    "    sys.stdout = open(os.devnull, 'w')\n",
    "\n",
    "# Restore\n",
    "def enablePrint():\n",
    "    sys.stdout = sys.__stdout__\n",
    "\n",
    "for _ in trange(10):\n",
    "    #blockPrint()\n",
    "    temp = calib.calibrate_pvals(\n",
    "        path_ppd=path_ppd,\n",
    "        path_chain=path_chain,\n",
    "        path_dv=path_dv,\n",
    "        RUN_NAME=RUN_NAME,\n",
    "        RUN_NAME_PPD=RUN_NAME_PPD,\n",
    "        DATAFILE=DATAFILE,\n",
    "        fiducial_dv=fiducial_dv,\n",
    "        data_sets_d=['gammat','wtheta'],\n",
    "        data_sets_dprime=['gammat','wtheta'],\n",
    "        N=1000, # 10^4 should give reasonable results, but for memory-sake can try smaller like 100\n",
    "        title=RUN_NAME_PPD,\n",
    "            pval_data=res[0]['full'],\n",
    "        use_pm=True,\n",
    "#         use_pm=False,\n",
    "        clip_is=0.1,\n",
    "        ndraws=1,\n",
    "        chunks=221,\n",
    "        size_chunk=1000,\n",
    "    #     pvals_subsets=res[0],\n",
    "        #use_logit=(1e-6,1),\n",
    "        get_zbin_pair_pcal=False,\n",
    "        pvals_subsets=pvals_subsets,\n",
    "#         sample_from='fiducial_dv'  # Trying this (different from y1 notebook)\n",
    "        sample_from='best-fit'  # Trying this (different from y1 notebook)\n",
    "    )\n",
    "    res_pcal.append(temp)\n",
    "    #enablePrint()\n",
    "    pickle.dump(res_pcal, open('res_pcal_'+RUN_NAME_PPD+'.pickle', 'wb'))\n",
    "    "
   ]
  },
  {
   "cell_type": "markdown",
   "metadata": {},
   "source": [
    "### Without pm"
   ]
  },
  {
   "cell_type": "code",
   "execution_count": null,
   "metadata": {},
   "outputs": [],
   "source": [
    "pvals_rsd = np.concatenate([r[0] for r in res_pcal])"
   ]
  },
  {
   "cell_type": "code",
   "execution_count": null,
   "metadata": {},
   "outputs": [],
   "source": [
    "pvals_rsd.shape"
   ]
  },
  {
   "cell_type": "code",
   "execution_count": null,
   "metadata": {},
   "outputs": [],
   "source": [
    "plt.hist(pvals_rsd, 100);\n",
    "print(np.sum(pvals_rsd<=0.0013)/10000)"
   ]
  },
  {
   "cell_type": "code",
   "execution_count": null,
   "metadata": {},
   "outputs": [],
   "source": [
    "for key in pvals_subsets.keys():\n",
    "    _p = np.concatenate([r[1][key] for r in res_pcal])\n",
    "    print(key, pvals_subsets[key], np.sum(_p<=pvals_subsets[key])/len(_p))\n",
    "    plt.hist(_p, np.linspace(0,1,100), histtype='step', label=key);\n",
    "plt.legend()"
   ]
  },
  {
   "cell_type": "markdown",
   "metadata": {},
   "source": [
    "### With pm"
   ]
  },
  {
   "cell_type": "code",
   "execution_count": 10,
   "metadata": {},
   "outputs": [],
   "source": [
    "pvals_rsd = np.concatenate([r[0] for r in res_pcal])"
   ]
  },
  {
   "cell_type": "code",
   "execution_count": 11,
   "metadata": {},
   "outputs": [
    {
     "data": {
      "text/plain": [
       "(10000,)"
      ]
     },
     "execution_count": 11,
     "metadata": {},
     "output_type": "execute_result"
    }
   ],
   "source": [
    "pvals_rsd.shape"
   ]
  },
  {
   "cell_type": "code",
   "execution_count": 38,
   "metadata": {},
   "outputs": [
    {
     "name": "stdout",
     "output_type": "stream",
     "text": [
      "0.0165\n"
     ]
    },
    {
     "data": {
      "image/png": "[encoded data removed]",
      "text/plain": [
       "<Figure size 432x288 with 1 Axes>"
      ]
     },
     "metadata": {
      "image/png": {
       "height": 249,
       "width": 375
      },
      "needs_background": "light"
     },
     "output_type": "display_data"
    }
   ],
   "source": [
    "plt.hist(pvals_rsd, 100);\n",
    "print(np.sum(pvals_rsd<=0.0039)/10000)"
   ]
  },
  {
   "cell_type": "code",
   "execution_count": 39,
   "metadata": {},
   "outputs": [
    {
     "data": {
      "application/vnd.jupyter.widget-view+json": {
       "model_id": "7b82162d41d94ab5ad501a1624953fae",
       "version_major": 2,
       "version_minor": 0
      },
      "text/plain": [
       "HBox(children=(FloatProgress(value=0.0, max=1000.0), HTML(value='')))"
      ]
     },
     "metadata": {},
     "output_type": "display_data"
    },
    {
     "name": "stdout",
     "output_type": "stream",
     "text": [
      "\n"
     ]
    },
    {
     "data": {
      "text/plain": [
       "(array([ 20.,  51., 136., 184., 243., 148., 139.,  62.,  12.,   5.]),\n",
       " array([0.0132 , 0.01395, 0.0147 , 0.01545, 0.0162 , 0.01695, 0.0177 ,\n",
       "        0.01845, 0.0192 , 0.01995, 0.0207 ]),\n",
       " <a list of 10 Patch objects>)"
      ]
     },
     "execution_count": 39,
     "metadata": {},
     "output_type": "execute_result"
    },
    {
     "data": {
      "image/png": "[encoded data removed]",
      "text/plain": [
       "<Figure size 432x288 with 1 Axes>"
      ]
     },
     "metadata": {
      "image/png": {
       "height": 248,
       "width": 386
      },
      "needs_background": "light"
     },
     "output_type": "display_data"
    }
   ],
   "source": [
    "plt.hist([np.sum(np.random.choice(pvals_rsd,size=len(pvals_rsd),replace=True)<=0.0039)/10000 for _ in trange(1000)])"
   ]
  },
  {
   "cell_type": "code",
   "execution_count": 37,
   "metadata": {},
   "outputs": [
    {
     "name": "stdout",
     "output_type": "stream",
     "text": [
      "gammat 0.017189025941758654 0.1211\n",
      "wtheta 0.3286423252947713 0.3427\n",
      "2x2 0.004085456706555616 0.0172\n"
     ]
    },
    {
     "data": {
      "text/plain": [
       "<matplotlib.legend.Legend at 0x2aaaf0760310>"
      ]
     },
     "execution_count": 37,
     "metadata": {},
     "output_type": "execute_result"
    },
    {
     "data": {
      "image/png": "[encoded data removed]",
      "text/plain": [
       "<Figure size 432x288 with 1 Axes>"
      ]
     },
     "metadata": {
      "image/png": {
       "height": 248,
       "width": 375
      },
      "needs_background": "light"
     },
     "output_type": "display_data"
    }
   ],
   "source": [
    "for key in ['gammat', 'wtheta', '2x2']:# pvals_subsets.keys():\n",
    "    _p = np.concatenate([r[1][key] for r in res_pcal])\n",
    "    print(key, pvals_subsets[key], np.sum(_p<=pvals_subsets[key])/len(_p))\n",
    "    plt.hist(_p, np.linspace(0,1,100), histtype='step', label=key);\n",
    "plt.legend()"
   ]
  },
  {
   "cell_type": "code",
   "execution_count": null,
   "metadata": {},
   "outputs": [],
   "source": []
  }
 ],
 "metadata": {
  "kernelspec": {
   "display_name": "mykernel3",
   "language": "python",
   "name": "mykernel3"
  },
  "language_info": {
   "codemirror_mode": {
    "name": "ipython",
    "version": 3
   },
   "file_extension": ".py",
   "mimetype": "text/x-python",
   "name": "python",
   "nbconvert_exporter": "python",
   "pygments_lexer": "ipython3",
   "version": "3.8.2"
  }
 },
 "nbformat": 4,
 "nbformat_minor": 4
}
