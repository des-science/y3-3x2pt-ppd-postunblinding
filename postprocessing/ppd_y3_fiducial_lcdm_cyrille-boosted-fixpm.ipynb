{
 "cells": [
  {
   "cell_type": "code",
   "execution_count": 1,
   "metadata": {},
   "outputs": [],
   "source": [
    "%load_ext autoreload\n",
    "%autoreload 2"
   ]
  },
  {
   "cell_type": "markdown",
   "metadata": {},
   "source": [
    "This follows the setup of ppd_y1_data.ipynb, but there are some different configurations.  This particular notebook has locations set to the Ohio Supercomputer (and some things like the sys.path.append call below are unnecessary if you are in the `ppd/postprocessing directory`)."
   ]
  },
  {
   "cell_type": "code",
   "execution_count": 2,
   "metadata": {},
   "outputs": [],
   "source": [
    "import sys\n",
    "#sys.path.append(\"/users/PCON0003/cond0080/src/y3-3x2pt-ppd/postprocessing\")\n",
    "import utils_6x2 as util\n",
    "import utils_ppd as ppd\n",
    "import utils_ppd_plots as ppd_plots\n",
    "import utils_ppd_calib as calib\n",
    "from astropy.io import fits\n",
    "\n",
    "from tqdm.auto import tqdm, trange\n",
    "\n",
    "import castor as ca\n",
    "import pickle"
   ]
  },
  {
   "cell_type": "code",
   "execution_count": 3,
   "metadata": {},
   "outputs": [],
   "source": [
    "path_ppd = '../'\n",
    "# path_chain = '../../trimmed_chains/'\n",
    "path_chain = '../../trimmed_chains_test/'\n",
    "# path_chain = '/project/projectdirs/des/www/y3_chains/3x2pt/final_paper_chains/'\n",
    "path_dv = '../../../data/des-y3/'\n",
    "\n",
    "DATAFILE = '2pt_NG_final_2ptunblind_02_24_21_wnz_covupdate.v2.fits'\n",
    "\n",
    "fiducial_dv = '2pt_NG_final_2ptunblind_02_24_21_wnz_covupdate.v2.fits'"
   ]
  },
  {
   "cell_type": "code",
   "execution_count": 4,
   "metadata": {},
   "outputs": [],
   "source": [
    "main_subsets = ['full', '1x2', '2x2', 'xip', 'xim', 'gammat', 'wtheta']"
   ]
  },
  {
   "cell_type": "markdown",
   "metadata": {},
   "source": [
    "# 3x2 goodness of fit"
   ]
  },
  {
   "cell_type": "code",
   "execution_count": 9,
   "metadata": {},
   "outputs": [],
   "source": [
    "a = np.loadtxt('../../trimmed_chains/chain_3x2lcdm_0321_boosted.txt')\n",
    "\n",
    "with open('../../trimmed_chains/chain_3x2lcdm_0321_boosted.txt', 'r') as f:\n",
    "    header = f.readline()\n",
    "    \n",
    "np.savetxt('../../trimmed_chains_test/chain_3x2lcdm_0321_boosted.txt', a[:200000], header=header[2:-1])"
   ]
  },
  {
   "cell_type": "code",
   "execution_count": 10,
   "metadata": {},
   "outputs": [
    {
     "name": "stdout",
     "output_type": "stream",
     "text": [
      "# cosmological_parameters--omega_m cosmological_parameters--h0 cosmological_parameters--omega_b cosmological_parameters--n_s cosmological_parameters--a_s cosmological_parameters--omnuh2 shear_calibration_parameters--m1 shear_calibration_parameters--m2 shear_calibration_parameters--m3 shear_calibration_parameters--m4 wl_photoz_errors--bias_1 wl_photoz_errors--bias_2 wl_photoz_errors--bias_3 wl_photoz_errors--bias_4 lens_photoz_errors--bias_1 lens_photoz_errors--bias_2 lens_photoz_errors--bias_3 lens_photoz_errors--bias_4 lens_photoz_errors--bias_5 lens_photoz_errors--width_5 bias_lens--b1 bias_lens--b2 bias_lens--b3 bias_lens--b4 bias_lens--b5 intrinsic_alignment_parameters--a1 intrinsic_alignment_parameters--a2 intrinsic_alignment_parameters--alpha1 intrinsic_alignment_parameters--alpha2 intrinsic_alignment_parameters--bias_ta weight\n",
      "\n"
     ]
    }
   ],
   "source": [
    "with open('../../trimmed_chains_test/chain_3x2lcdm_0321_boosted.txt', 'r') as f:\n",
    "    print(f.readline())#[1:].split())"
   ]
  },
  {
   "cell_type": "code",
   "execution_count": 11,
   "metadata": {},
   "outputs": [
    {
     "name": "stdout",
     "output_type": "stream",
     "text": [
      "Loading chain at\n",
      "../../trimmed_chains_test/chain_3x2lcdm_0321_boosted.txt\n",
      "Sampler not found -- non-standard cosmosis output\n",
      "- using params\n",
      "['cosmological_parameters--omega_m', 'cosmological_parameters--h0', 'cosmological_parameters--omega_b', 'cosmological_parameters--n_s', 'cosmological_parameters--a_s', 'cosmological_parameters--omnuh2']\n",
      "- using nsample =  200000\n"
     ]
    },
    {
     "data": {
      "text/plain": [
       "(OrderedDict([('cosmological_parameters--omega_m',\n",
       "               array([0.3194111 , 0.3168535 , 0.25371432, ..., 0.37049966, 0.35062947,\n",
       "                      0.35062947])),\n",
       "              ('cosmological_parameters--h0',\n",
       "               array([0.66501852, 0.78636815, 0.78168945, ..., 0.56298271, 0.65759626,\n",
       "                      0.65759626])),\n",
       "              ('cosmological_parameters--omega_b',\n",
       "               array([0.06034603, 0.04635131, 0.04334288, ..., 0.03591835, 0.04902424,\n",
       "                      0.04902424])),\n",
       "              ('cosmological_parameters--n_s',\n",
       "               array([0.87789006, 0.99242607, 0.9881779 , ..., 0.98102573, 0.90726056,\n",
       "                      0.90726056])),\n",
       "              ('cosmological_parameters--a_s',\n",
       "               array([1.24664518e-09, 2.03530189e-09, 1.11334044e-09, ...,\n",
       "                      2.03865530e-09, 1.74281199e-09, 1.74281199e-09])),\n",
       "              ('cosmological_parameters--omnuh2',\n",
       "               array([0.00318876, 0.00550417, 0.00495188, ..., 0.00374929, 0.00256505,\n",
       "                      0.00256505]))]),\n",
       " array([4.94065646e-324, 4.94065646e-324, 4.94065646e-324, ...,\n",
       "        2.46078346e-002, 7.87294033e-002, 4.92821826e-002]))"
      ]
     },
     "execution_count": 11,
     "metadata": {},
     "output_type": "execute_result"
    }
   ],
   "source": [
    "util.load_cosmosis_chain('../../trimmed_chains_test/chain_3x2lcdm_0321_boosted.txt', verbose=True, read_nsample=False)"
   ]
  },
  {
   "cell_type": "code",
   "execution_count": 12,
   "metadata": {
    "tags": []
   },
   "outputs": [
    {
     "name": "stdout",
     "output_type": "stream",
     "text": [
      "\n",
      "###############################\n",
      "## Loading chains #############\n",
      "###############################\n"
     ]
    },
    {
     "data": {
      "application/vnd.jupyter.widget-view+json": {
       "model_id": "4a530c27c40343069be5d70566a9792a",
       "version_major": 2,
       "version_minor": 0
      },
      "text/plain": [
       "HBox(children=(FloatProgress(value=0.0, max=200.0), HTML(value='')))"
      ]
     },
     "metadata": {},
     "output_type": "display_data"
    },
    {
     "name": "stdout",
     "output_type": "stream",
     "text": [
      "Loading list chain at\n",
      "../fiducial_3x2_goodnessoffit/ppd_chain_3x2lcdm_0321_boosted_fiducial_3x2_goodnessoffit_0.txt\n",
      "- using params\n",
      "['cosmological_parameters--omega_m', 'cosmological_parameters--h0', 'cosmological_parameters--omega_b', 'cosmological_parameters--n_s', 'cosmological_parameters--a_s', 'cosmological_parameters--omnuh2', 'cosmological_parameters--w', 'cosmological_parameters--massive_nu', 'cosmological_parameters--massless_nu', 'cosmological_parameters--omega_k', 'cosmological_parameters--tau', 'shear_calibration_parameters--m1', 'shear_calibration_parameters--m2', 'shear_calibration_parameters--m3', 'shear_calibration_parameters--m4', 'wl_photoz_errors--bias_1', 'wl_photoz_errors--bias_2', 'wl_photoz_errors--bias_3', 'wl_photoz_errors--bias_4', 'lens_photoz_errors--bias_1', 'lens_photoz_errors--bias_2', 'lens_photoz_errors--bias_3', 'lens_photoz_errors--bias_4', 'lens_photoz_errors--bias_5', 'lens_photoz_errors--width_1', 'lens_photoz_errors--width_2', 'lens_photoz_errors--width_3', 'lens_photoz_errors--width_4', 'lens_photoz_errors--width_5', 'bias_lens--b1', 'bias_lens--b2', 'bias_lens--b3', 'bias_lens--b4', 'bias_lens--b5', 'mag_alpha_lens--alpha_1', 'mag_alpha_lens--alpha_2', 'mag_alpha_lens--alpha_3', 'mag_alpha_lens--alpha_4', 'mag_alpha_lens--alpha_5', 'intrinsic_alignment_parameters--z_piv', 'intrinsic_alignment_parameters--a1', 'intrinsic_alignment_parameters--a2', 'intrinsic_alignment_parameters--alpha1', 'intrinsic_alignment_parameters--alpha2', 'intrinsic_alignment_parameters--bias_ta', 'COSMOLOGICAL_PARAMETERS--SIGMA_8', 'COSMOLOGICAL_PARAMETERS--SIGMA_12', 'DATA_VECTOR--2PT_CHI2', 'DATA_VECTOR--2PT_D_CHI2', 'DATA_VECTOR--2PT_DPRIME_CHI2', 'DATA_VECTOR--2PT_XIP_CHI2', 'DATA_VECTOR--2PT_XIM_CHI2', 'DATA_VECTOR--2PT_1X2_CHI2', 'DATA_VECTOR--2PT_GAMMAT_CHI2', 'DATA_VECTOR--2PT_WTHETA_CHI2', 'DATA_VECTOR--2PT_2X2_CHI2', 'PPD--CHI2_DPRIME_DATA', 'PPD--CHI2_DPRIME_REALIZATION', 'PPD--CHI2_D_DATA', 'PPD--CHI2_XIP_DATA', 'PPD--CHI2_XIP_REALIZATION', 'PPD--CHI2_XIM_DATA', 'PPD--CHI2_XIM_REALIZATION', 'PPD--CHI2_1X2_DATA', 'PPD--CHI2_1X2_REALIZATION', 'PPD--CHI2_GAMMAT_DATA', 'PPD--CHI2_GAMMAT_REALIZATION', 'PPD--CHI2_WTHETA_DATA', 'PPD--CHI2_WTHETA_REALIZATION', 'PPD--CHI2_2X2_DATA', 'PPD--CHI2_2X2_REALIZATION', 'PPD--CHI2_DPRIME_COMP_AVG', 'PPD--CHI2_XIP_COMP_AVG', 'PPD--CHI2_XIM_COMP_AVG', 'PPD--CHI2_1X2_COMP_AVG', 'PPD--CHI2_GAMMAT_COMP_AVG', 'PPD--CHI2_WTHETA_COMP_AVG', 'PPD--CHI2_2X2_COMP_AVG', 'prior', 'post']\n",
      "- using nsample =  1000\n",
      "\n",
      "Loading chain at\n",
      "../../trimmed_chains_test/chain_3x2lcdm_0321_boosted.txt\n",
      "Sampler not found -- non-standard cosmosis output\n",
      "- using params\n",
      "['cosmological_parameters--omega_m', 'cosmological_parameters--h0', 'cosmological_parameters--omega_b', 'cosmological_parameters--n_s', 'cosmological_parameters--a_s', 'cosmological_parameters--omnuh2', 'shear_calibration_parameters--m1', 'shear_calibration_parameters--m2', 'shear_calibration_parameters--m3', 'shear_calibration_parameters--m4', 'wl_photoz_errors--bias_1', 'wl_photoz_errors--bias_2', 'wl_photoz_errors--bias_3', 'wl_photoz_errors--bias_4', 'lens_photoz_errors--bias_1', 'lens_photoz_errors--bias_2', 'lens_photoz_errors--bias_3', 'lens_photoz_errors--bias_4', 'lens_photoz_errors--bias_5', 'lens_photoz_errors--width_5', 'bias_lens--b1', 'bias_lens--b2', 'bias_lens--b3', 'bias_lens--b4', 'bias_lens--b5', 'intrinsic_alignment_parameters--a1', 'intrinsic_alignment_parameters--a2', 'intrinsic_alignment_parameters--alpha1', 'intrinsic_alignment_parameters--alpha2', 'intrinsic_alignment_parameters--bias_ta', 'weight']\n",
      "- using nsample =  200000\n",
      "Using 200 chunks of size [1000, 1000, 1000, 1000, 1000, 1000, 1000, 1000, 1000, 1000, 1000, 1000, 1000, 1000, 1000, 1000, 1000, 1000, 1000, 1000, 1000, 1000, 1000, 1000, 1000, 1000, 1000, 1000, 1000, 1000, 1000, 1000, 1000, 1000, 1000, 1000, 1000, 1000, 1000, 1000, 1000, 1000, 1000, 1000, 1000, 1000, 1000, 1000, 1000, 1000, 1000, 1000, 1000, 1000, 1000, 1000, 1000, 1000, 1000, 1000, 1000, 1000, 1000, 1000, 1000, 1000, 1000, 1000, 1000, 1000, 1000, 1000, 1000, 1000, 1000, 1000, 1000, 1000, 1000, 1000, 1000, 1000, 1000, 1000, 1000, 1000, 1000, 1000, 1000, 1000, 1000, 1000, 1000, 1000, 1000, 1000, 1000, 1000, 1000, 1000, 1000, 1000, 1000, 1000, 1000, 1000, 1000, 1000, 1000, 1000, 1000, 1000, 1000, 1000, 1000, 1000, 1000, 1000, 1000, 1000, 1000, 1000, 1000, 1000, 1000, 1000, 1000, 1000, 1000, 1000, 1000, 1000, 1000, 1000, 1000, 1000, 1000, 1000, 1000, 1000, 1000, 1000, 1000, 1000, 1000, 1000, 1000, 1000, 1000, 1000, 1000, 1000, 1000, 1000, 1000, 1000, 1000, 1000, 1000, 1000, 1000, 1000, 1000, 1000, 1000, 1000, 1000, 1000, 1000, 1000, 1000, 1000, 1000, 1000, 1000, 1000, 1000, 1000, 1000, 1000, 1000, 1000, 1000, 1000, 1000, 1000, 1000, 1000, 1000, 1000, 1000, 1000, 1000, 1000, 1000, 1000, 1000, 1000, 1000, 1000] (1000) for a total of 200000 posterior samples\n",
      "\n",
      "###############################\n",
      "## Getting p-values ###########\n",
      "###############################\n",
      "     - Full     pval=0.0013 +0.0002/-0.0002  [16=0.0011, 50=0.0013, 84=0.0014] (0.001246575375519147)\n",
      "     - XIP      pval=0.2481 +0.0018/-0.0019  [16=0.2462, 50=0.2481, 84=0.2500] (0.24848476678083267)\n",
      "     - XIM      pval=0.4067 +0.0021/-0.0021  [16=0.4047, 50=0.4067, 84=0.4089] (0.40887941500644126)\n",
      "     - 1X2      pval=0.2332 +0.0017/-0.0017  [16=0.2316, 50=0.2332, 84=0.2349] (0.2352013247220475)\n",
      "     - GAMMAT   pval=0.0155 +0.0005/-0.0006  [16=0.0150, 50=0.0155, 84=0.0160] (0.015656326401054195)\n",
      "     - WTHETA   pval=0.0444 +0.0009/-0.0008  [16=0.0436, 50=0.0444, 84=0.0453] (0.04444284946303973)\n",
      "     - 2X2      pval=0.0025 +0.0002/-0.0002  [16=0.0023, 50=0.0025, 84=0.0027] (0.00245041973527856)\n",
      "\n",
      "###############################\n",
      "## Loading scale/bin cuts #####\n",
      "###############################\n",
      "Found observables in data_file ['xip', 'xim', 'gammat', 'wtheta']\n",
      "Reading options for likelihood module:  2pt_dprime_like\n",
      "Found scale cuts for  {'xip': [(1, 1), (1, 2), (1, 3), (1, 4), (2, 2), (2, 3), (2, 4), (3, 3), (3, 4), (4, 4)], 'xim': [(1, 1), (1, 2), (1, 3), (1, 4), (2, 2), (2, 3), (2, 4), (3, 3), (3, 4), (4, 4)], 'gammat': [(1, 1), (1, 2), (1, 3), (1, 4), (2, 1), (2, 2), (2, 3), (2, 4), (3, 1), (3, 2), (3, 3), (3, 4), (4, 1), (4, 2), (4, 3), (4, 4), (5, 1), (5, 2), (5, 3), (5, 4)], 'wtheta': [(1, 1), (2, 2), (3, 3), (4, 4), (5, 5)]}\n",
      "Getting indices for xip\n",
      "Getting indices for xim\n",
      "Getting indices for gammat\n",
      "Getting indices for wtheta\n"
     ]
    }
   ],
   "source": [
    "RUN_NAME = '3x2lcdm_0321_boosted'\n",
    "RUN_NAME_PPD = 'fiducial_3x2_goodnessoffit'\n",
    "\n",
    "res = ppd.load_run(\n",
    "    path_ppd=path_ppd,\n",
    "    path_chain=path_chain,\n",
    "    path_dv=path_dv,\n",
    "    RUN_NAME=RUN_NAME,\n",
    "    RUN_NAME_PPD=RUN_NAME_PPD,\n",
    "    DATAFILE=DATAFILE,\n",
    "    chunks=200,\n",
    "    size_chunk=1000,\n",
    "    data_sets=['xip', 'xim', 'gammat', 'wtheta'],\n",
    "    load_dvs=False\n",
    ")"
   ]
  },
  {
   "cell_type": "code",
   "execution_count": null,
   "metadata": {
    "collapsed": true,
    "jupyter": {
     "outputs_hidden": true
    },
    "tags": []
   },
   "outputs": [
    {
     "data": {
      "application/vnd.jupyter.widget-view+json": {
       "model_id": "c999c45d15ab4806814b94dea4226f80",
       "version_major": 2,
       "version_minor": 0
      },
      "text/plain": [
       "HBox(children=(FloatProgress(value=0.0, max=10.0), HTML(value='')))"
      ]
     },
     "metadata": {},
     "output_type": "display_data"
    },
    {
     "name": "stdout",
     "output_type": "stream",
     "text": [
      "\n",
      "###############################\n",
      "## Loading chains #############\n",
      "###############################\n"
     ]
    },
    {
     "data": {
      "application/vnd.jupyter.widget-view+json": {
       "model_id": "0f8a9f53e64149fdb3a355f72c78697f",
       "version_major": 2,
       "version_minor": 0
      },
      "text/plain": [
       "HBox(children=(FloatProgress(value=0.0, max=200.0), HTML(value='')))"
      ]
     },
     "metadata": {},
     "output_type": "display_data"
    },
    {
     "name": "stdout",
     "output_type": "stream",
     "text": [
      "Loading list chain at\n",
      "../fiducial_3x2_goodnessoffit/ppd_chain_3x2lcdm_0321_boosted_fiducial_3x2_goodnessoffit_0.txt\n",
      "- using params\n",
      "['cosmological_parameters--omega_m', 'cosmological_parameters--h0', 'cosmological_parameters--omega_b', 'cosmological_parameters--n_s', 'cosmological_parameters--a_s', 'cosmological_parameters--omnuh2', 'cosmological_parameters--w', 'cosmological_parameters--massive_nu', 'cosmological_parameters--massless_nu', 'cosmological_parameters--omega_k', 'cosmological_parameters--tau', 'shear_calibration_parameters--m1', 'shear_calibration_parameters--m2', 'shear_calibration_parameters--m3', 'shear_calibration_parameters--m4', 'wl_photoz_errors--bias_1', 'wl_photoz_errors--bias_2', 'wl_photoz_errors--bias_3', 'wl_photoz_errors--bias_4', 'lens_photoz_errors--bias_1', 'lens_photoz_errors--bias_2', 'lens_photoz_errors--bias_3', 'lens_photoz_errors--bias_4', 'lens_photoz_errors--bias_5', 'lens_photoz_errors--width_1', 'lens_photoz_errors--width_2', 'lens_photoz_errors--width_3', 'lens_photoz_errors--width_4', 'lens_photoz_errors--width_5', 'bias_lens--b1', 'bias_lens--b2', 'bias_lens--b3', 'bias_lens--b4', 'bias_lens--b5', 'mag_alpha_lens--alpha_1', 'mag_alpha_lens--alpha_2', 'mag_alpha_lens--alpha_3', 'mag_alpha_lens--alpha_4', 'mag_alpha_lens--alpha_5', 'intrinsic_alignment_parameters--z_piv', 'intrinsic_alignment_parameters--a1', 'intrinsic_alignment_parameters--a2', 'intrinsic_alignment_parameters--alpha1', 'intrinsic_alignment_parameters--alpha2', 'intrinsic_alignment_parameters--bias_ta', 'COSMOLOGICAL_PARAMETERS--SIGMA_8', 'COSMOLOGICAL_PARAMETERS--SIGMA_12', 'DATA_VECTOR--2PT_CHI2', 'DATA_VECTOR--2PT_D_CHI2', 'DATA_VECTOR--2PT_DPRIME_CHI2', 'DATA_VECTOR--2PT_XIP_CHI2', 'DATA_VECTOR--2PT_XIM_CHI2', 'DATA_VECTOR--2PT_1X2_CHI2', 'DATA_VECTOR--2PT_GAMMAT_CHI2', 'DATA_VECTOR--2PT_WTHETA_CHI2', 'DATA_VECTOR--2PT_2X2_CHI2', 'PPD--CHI2_DPRIME_DATA', 'PPD--CHI2_DPRIME_REALIZATION', 'PPD--CHI2_D_DATA', 'PPD--CHI2_XIP_DATA', 'PPD--CHI2_XIP_REALIZATION', 'PPD--CHI2_XIM_DATA', 'PPD--CHI2_XIM_REALIZATION', 'PPD--CHI2_1X2_DATA', 'PPD--CHI2_1X2_REALIZATION', 'PPD--CHI2_GAMMAT_DATA', 'PPD--CHI2_GAMMAT_REALIZATION', 'PPD--CHI2_WTHETA_DATA', 'PPD--CHI2_WTHETA_REALIZATION', 'PPD--CHI2_2X2_DATA', 'PPD--CHI2_2X2_REALIZATION', 'PPD--CHI2_DPRIME_COMP_AVG', 'PPD--CHI2_XIP_COMP_AVG', 'PPD--CHI2_XIM_COMP_AVG', 'PPD--CHI2_1X2_COMP_AVG', 'PPD--CHI2_GAMMAT_COMP_AVG', 'PPD--CHI2_WTHETA_COMP_AVG', 'PPD--CHI2_2X2_COMP_AVG', 'prior', 'post']\n",
      "- using nsample =  1000\n",
      "\n",
      "Loading chain at\n",
      "../../trimmed_chains_test/chain_3x2lcdm_0321_boosted.txt\n",
      "Sampler not found -- non-standard cosmosis output\n",
      "Using 200 chunks of size [1000, 1000, 1000, 1000, 1000, 1000, 1000, 1000, 1000, 1000, 1000, 1000, 1000, 1000, 1000, 1000, 1000, 1000, 1000, 1000, 1000, 1000, 1000, 1000, 1000, 1000, 1000, 1000, 1000, 1000, 1000, 1000, 1000, 1000, 1000, 1000, 1000, 1000, 1000, 1000, 1000, 1000, 1000, 1000, 1000, 1000, 1000, 1000, 1000, 1000, 1000, 1000, 1000, 1000, 1000, 1000, 1000, 1000, 1000, 1000, 1000, 1000, 1000, 1000, 1000, 1000, 1000, 1000, 1000, 1000, 1000, 1000, 1000, 1000, 1000, 1000, 1000, 1000, 1000, 1000, 1000, 1000, 1000, 1000, 1000, 1000, 1000, 1000, 1000, 1000, 1000, 1000, 1000, 1000, 1000, 1000, 1000, 1000, 1000, 1000, 1000, 1000, 1000, 1000, 1000, 1000, 1000, 1000, 1000, 1000, 1000, 1000, 1000, 1000, 1000, 1000, 1000, 1000, 1000, 1000, 1000, 1000, 1000, 1000, 1000, 1000, 1000, 1000, 1000, 1000, 1000, 1000, 1000, 1000, 1000, 1000, 1000, 1000, 1000, 1000, 1000, 1000, 1000, 1000, 1000, 1000, 1000, 1000, 1000, 1000, 1000, 1000, 1000, 1000, 1000, 1000, 1000, 1000, 1000, 1000, 1000, 1000, 1000, 1000, 1000, 1000, 1000, 1000, 1000, 1000, 1000, 1000, 1000, 1000, 1000, 1000, 1000, 1000, 1000, 1000, 1000, 1000, 1000, 1000, 1000, 1000, 1000, 1000, 1000, 1000, 1000, 1000, 1000, 1000, 1000, 1000, 1000, 1000, 1000, 1000] (1000) for a total of 200000 posterior samples\n",
      "\n",
      "###############################\n",
      "## Loading scale/bin cuts #####\n",
      "###############################\n",
      "Found observables in data_file ['xip', 'xim', 'gammat', 'wtheta']\n",
      "Reading options for likelihood module:  2pt_d_like\n",
      "Found scale cuts for  {'xip': [(1, 1), (1, 2), (1, 3), (1, 4), (2, 2), (2, 3), (2, 4), (3, 3), (3, 4), (4, 4)], 'xim': [(1, 1), (1, 2), (1, 3), (1, 4), (2, 2), (2, 3), (2, 4), (3, 3), (3, 4), (4, 4)], 'gammat': [(1, 1), (1, 2), (1, 3), (1, 4), (2, 1), (2, 2), (2, 3), (2, 4), (3, 1), (3, 2), (3, 3), (3, 4), (4, 1), (4, 2), (4, 3), (4, 4), (5, 1), (5, 2), (5, 3), (5, 4)], 'wtheta': [(1, 1), (2, 2), (3, 3), (4, 4), (5, 5)]}\n",
      "Getting indices for xip\n",
      "Getting indices for xim\n",
      "Getting indices for gammat\n",
      "Getting indices for wtheta\n",
      "\n",
      "Found observables in data_file ['xip', 'xim', 'gammat', 'wtheta']\n",
      "Reading options for likelihood module:  2pt_dprime_like\n",
      "Found scale cuts for  {'xip': [(1, 1), (1, 2), (1, 3), (1, 4), (2, 2), (2, 3), (2, 4), (3, 3), (3, 4), (4, 4)], 'xim': [(1, 1), (1, 2), (1, 3), (1, 4), (2, 2), (2, 3), (2, 4), (3, 3), (3, 4), (4, 4)], 'gammat': [(1, 1), (1, 2), (1, 3), (1, 4), (2, 1), (2, 2), (2, 3), (2, 4), (3, 1), (3, 2), (3, 3), (3, 4), (4, 1), (4, 2), (4, 3), (4, 4), (5, 1), (5, 2), (5, 3), (5, 4)], 'wtheta': [(1, 1), (2, 2), (3, 3), (4, 4), (5, 5)]}\n",
      "Getting indices for xip\n",
      "Getting indices for xim\n",
      "Getting indices for gammat\n",
      "Getting indices for wtheta\n",
      "\n",
      "Using subsets ['1x2', '2x2', 'gammat', 'wtheta', 'xim', 'xip']\n",
      "\n",
      "Using same indices for d and dprime -> conditioning turned off\n",
      "\n",
      "###############################\n",
      "## Loading realizations #######\n",
      "###############################\n"
     ]
    },
    {
     "data": {
      "application/vnd.jupyter.widget-view+json": {
       "model_id": "8b91180b76c04d41b8a721e875c377ba",
       "version_major": 2,
       "version_minor": 0
      },
      "text/plain": [
       "HBox(children=(FloatProgress(value=0.0, max=200.0), HTML(value='')))"
      ]
     },
     "metadata": {},
     "output_type": "display_data"
    },
    {
     "name": "stdout",
     "output_type": "stream",
     "text": [
      "Loading realizations from  ../fiducial_3x2_goodnessoffit/ppd_3x2lcdm_0321_boosted_fiducial_3x2_goodnessoffit_0_dprime_theory.npy\n",
      " - data vector size = 529\n",
      " - number of realizations = 1000\n",
      "Loading realizations from  ../fiducial_3x2_goodnessoffit/ppd_3x2lcdm_0321_boosted_fiducial_3x2_goodnessoffit_0_dprime_real.npy\n",
      " - data vector size = 529\n",
      " - number of realizations = 1000\n",
      "Loading realizations from  ../fiducial_3x2_goodnessoffit/ppd_3x2lcdm_0321_boosted_fiducial_3x2_goodnessoffit_0_d_theory.npy\n",
      " - data vector size = 529\n",
      " - number of realizations = 1000\n",
      "\n",
      "\n",
      "###############################\n",
      "## Sampling data ##############\n",
      "###############################\n",
      "Sampling at best-fit with params\n",
      "cosmological_parameters--omega_m = 0.329\n",
      "cosmological_parameters--h0 = 0.662\n",
      "cosmological_parameters--omega_b = 0.0363\n",
      "cosmological_parameters--n_s = 0.935\n",
      "cosmological_parameters--a_s = 1.9e-09\n",
      "cosmological_parameters--omnuh2 = 0.00444\n",
      "shear_calibration_parameters--m1 = -0.00537\n",
      "shear_calibration_parameters--m2 = -0.0234\n",
      "shear_calibration_parameters--m3 = -0.0199\n",
      "shear_calibration_parameters--m4 = -0.0338\n",
      "wl_photoz_errors--bias_1 = -0.00446\n",
      "wl_photoz_errors--bias_2 = -0.024\n",
      "wl_photoz_errors--bias_3 = -0.0147\n",
      "wl_photoz_errors--bias_4 = -0.00838\n",
      "lens_photoz_errors--bias_1 = 0.0062\n",
      "lens_photoz_errors--bias_2 = 0.00244\n",
      "lens_photoz_errors--bias_3 = 0.00715\n",
      "lens_photoz_errors--bias_4 = 0.00413\n",
      "lens_photoz_errors--bias_5 = -0.00513\n",
      "lens_photoz_errors--width_5 = 1.21\n",
      "bias_lens--b1        = 1.71\n",
      "bias_lens--b2        = 1.77\n",
      "bias_lens--b3        = 1.87\n",
      "bias_lens--b4        = 2.09\n",
      "bias_lens--b5        = 2.28\n",
      "intrinsic_alignment_parameters--a1 = 0.561\n",
      "intrinsic_alignment_parameters--a2 = -0.0902\n",
      "intrinsic_alignment_parameters--alpha1 = 4.81\n",
      "intrinsic_alignment_parameters--alpha2 = 1.21\n",
      "intrinsic_alignment_parameters--bias_ta = 0.146\n",
      "\n",
      "###############################\n",
      "## Compute chi2 for d #########\n",
      "###############################\n"
     ]
    },
    {
     "data": {
      "application/vnd.jupyter.widget-view+json": {
       "model_id": "6a75a1d6a52c460baa581c4ef4b96e47",
       "version_major": 2,
       "version_minor": 0
      },
      "text/plain": [
       "HBox(children=(FloatProgress(value=0.0, max=200.0), HTML(value='')))"
      ]
     },
     "metadata": {},
     "output_type": "display_data"
    },
    {
     "name": "stderr",
     "output_type": "stream",
     "text": [
      "/global/cfs/cdirs/des/xuod/DES_Y3_3x2/y3-3x2pt/code/ppd/postprocessing/utils_ppd_calib.py:77: NumbaPerformanceWarning: np.dot() is faster on contiguous arrays, called on (array(float64, 2d, A), array(float64, 2d, C))\n",
      "  return np.dot(A,B)\n"
     ]
    },
    {
     "name": "stdout",
     "output_type": "stream",
     "text": [
      "\n",
      "\n",
      "###############################\n",
      "## Compute IS weights for d ###\n",
      "###############################\n"
     ]
    },
    {
     "data": {
      "application/vnd.jupyter.widget-view+json": {
       "model_id": "505de095ba104be588f67d782fa7a818",
       "version_major": 2,
       "version_minor": 0
      },
      "text/plain": [
       "HBox(children=(FloatProgress(value=0.0, max=200.0), HTML(value='')))"
      ]
     },
     "metadata": {},
     "output_type": "display_data"
    },
    {
     "name": "stdout",
     "output_type": "stream",
     "text": [
      "\n",
      "(200000, 1000)\n",
      "Neff = 68.2 (median), 16th=29.9, 84th=182.0 (0 were nan's)\n",
      "\n",
      "###############################\n",
      "## Computing p-values #########\n",
      "###############################\n"
     ]
    },
    {
     "data": {
      "application/vnd.jupyter.widget-view+json": {
       "model_id": "9494a190ed3044c8b0108ad6ac080ea2",
       "version_major": 2,
       "version_minor": 0
      },
      "text/plain": [
       "HBox(children=(FloatProgress(value=1.0, bar_style='info', max=1.0), HTML(value='')))"
      ]
     },
     "metadata": {},
     "output_type": "display_data"
    },
    {
     "name": "stdout",
     "output_type": "stream",
     "text": [
      "\n",
      "1x2\n",
      "Appending pval for 1x2 0.237653351766374\n",
      "2x2\n",
      "Appending pval for 2x2 0.0017173817544873628\n",
      "gammat\n",
      "Appending pval for gammat 0.010602210137108202\n",
      "wtheta\n",
      "Appending pval for wtheta 0.044395811676178364\n",
      "xim\n",
      "Appending pval for xim 0.4086862998541982\n",
      "xip\n",
      "Appending pval for xip 0.25343558807428934\n",
      "\n",
      "###############################\n",
      "## Calibrated p-values ########\n",
      "###############################\n",
      "     - Full         calibrated pval=0.0020 (raw pval=0.0013)\n",
      "     - 1x2          calibrated pval=0.2180 (raw pval=0.2377)\n",
      "     - 2x2          calibrated pval=0.0100 (raw pval=0.0017)\n",
      "     - gammat       calibrated pval=0.0290 (raw pval=0.0106)\n",
      "     - wtheta       calibrated pval=0.0430 (raw pval=0.0444)\n",
      "     - xim          calibrated pval=0.4130 (raw pval=0.4087)\n",
      "     - xip          calibrated pval=0.2200 (raw pval=0.2534)\n",
      "\n",
      "###############################\n",
      "## Plotting ###################\n",
      "###############################\n",
      "\n",
      "###############################\n",
      "## Loading chains #############\n",
      "###############################\n"
     ]
    },
    {
     "data": {
      "application/vnd.jupyter.widget-view+json": {
       "model_id": "f322ca3f2ef14d83a94266b144638f7a",
       "version_major": 2,
       "version_minor": 0
      },
      "text/plain": [
       "HBox(children=(FloatProgress(value=0.0, max=200.0), HTML(value='')))"
      ]
     },
     "metadata": {},
     "output_type": "display_data"
    },
    {
     "name": "stdout",
     "output_type": "stream",
     "text": [
      "Loading list chain at\n",
      "../fiducial_3x2_goodnessoffit/ppd_chain_3x2lcdm_0321_boosted_fiducial_3x2_goodnessoffit_0.txt\n",
      "- using params\n",
      "['cosmological_parameters--omega_m', 'cosmological_parameters--h0', 'cosmological_parameters--omega_b', 'cosmological_parameters--n_s', 'cosmological_parameters--a_s', 'cosmological_parameters--omnuh2', 'cosmological_parameters--w', 'cosmological_parameters--massive_nu', 'cosmological_parameters--massless_nu', 'cosmological_parameters--omega_k', 'cosmological_parameters--tau', 'shear_calibration_parameters--m1', 'shear_calibration_parameters--m2', 'shear_calibration_parameters--m3', 'shear_calibration_parameters--m4', 'wl_photoz_errors--bias_1', 'wl_photoz_errors--bias_2', 'wl_photoz_errors--bias_3', 'wl_photoz_errors--bias_4', 'lens_photoz_errors--bias_1', 'lens_photoz_errors--bias_2', 'lens_photoz_errors--bias_3', 'lens_photoz_errors--bias_4', 'lens_photoz_errors--bias_5', 'lens_photoz_errors--width_1', 'lens_photoz_errors--width_2', 'lens_photoz_errors--width_3', 'lens_photoz_errors--width_4', 'lens_photoz_errors--width_5', 'bias_lens--b1', 'bias_lens--b2', 'bias_lens--b3', 'bias_lens--b4', 'bias_lens--b5', 'mag_alpha_lens--alpha_1', 'mag_alpha_lens--alpha_2', 'mag_alpha_lens--alpha_3', 'mag_alpha_lens--alpha_4', 'mag_alpha_lens--alpha_5', 'intrinsic_alignment_parameters--z_piv', 'intrinsic_alignment_parameters--a1', 'intrinsic_alignment_parameters--a2', 'intrinsic_alignment_parameters--alpha1', 'intrinsic_alignment_parameters--alpha2', 'intrinsic_alignment_parameters--bias_ta', 'COSMOLOGICAL_PARAMETERS--SIGMA_8', 'COSMOLOGICAL_PARAMETERS--SIGMA_12', 'DATA_VECTOR--2PT_CHI2', 'DATA_VECTOR--2PT_D_CHI2', 'DATA_VECTOR--2PT_DPRIME_CHI2', 'DATA_VECTOR--2PT_XIP_CHI2', 'DATA_VECTOR--2PT_XIM_CHI2', 'DATA_VECTOR--2PT_1X2_CHI2', 'DATA_VECTOR--2PT_GAMMAT_CHI2', 'DATA_VECTOR--2PT_WTHETA_CHI2', 'DATA_VECTOR--2PT_2X2_CHI2', 'PPD--CHI2_DPRIME_DATA', 'PPD--CHI2_DPRIME_REALIZATION', 'PPD--CHI2_D_DATA', 'PPD--CHI2_XIP_DATA', 'PPD--CHI2_XIP_REALIZATION', 'PPD--CHI2_XIM_DATA', 'PPD--CHI2_XIM_REALIZATION', 'PPD--CHI2_1X2_DATA', 'PPD--CHI2_1X2_REALIZATION', 'PPD--CHI2_GAMMAT_DATA', 'PPD--CHI2_GAMMAT_REALIZATION', 'PPD--CHI2_WTHETA_DATA', 'PPD--CHI2_WTHETA_REALIZATION', 'PPD--CHI2_2X2_DATA', 'PPD--CHI2_2X2_REALIZATION', 'PPD--CHI2_DPRIME_COMP_AVG', 'PPD--CHI2_XIP_COMP_AVG', 'PPD--CHI2_XIM_COMP_AVG', 'PPD--CHI2_1X2_COMP_AVG', 'PPD--CHI2_GAMMAT_COMP_AVG', 'PPD--CHI2_WTHETA_COMP_AVG', 'PPD--CHI2_2X2_COMP_AVG', 'prior', 'post']\n",
      "- using nsample =  1000\n",
      "\n",
      "Loading chain at\n",
      "../../trimmed_chains_test/chain_3x2lcdm_0321_boosted.txt\n",
      "Sampler not found -- non-standard cosmosis output\n",
      "Using 200 chunks of size [1000, 1000, 1000, 1000, 1000, 1000, 1000, 1000, 1000, 1000, 1000, 1000, 1000, 1000, 1000, 1000, 1000, 1000, 1000, 1000, 1000, 1000, 1000, 1000, 1000, 1000, 1000, 1000, 1000, 1000, 1000, 1000, 1000, 1000, 1000, 1000, 1000, 1000, 1000, 1000, 1000, 1000, 1000, 1000, 1000, 1000, 1000, 1000, 1000, 1000, 1000, 1000, 1000, 1000, 1000, 1000, 1000, 1000, 1000, 1000, 1000, 1000, 1000, 1000, 1000, 1000, 1000, 1000, 1000, 1000, 1000, 1000, 1000, 1000, 1000, 1000, 1000, 1000, 1000, 1000, 1000, 1000, 1000, 1000, 1000, 1000, 1000, 1000, 1000, 1000, 1000, 1000, 1000, 1000, 1000, 1000, 1000, 1000, 1000, 1000, 1000, 1000, 1000, 1000, 1000, 1000, 1000, 1000, 1000, 1000, 1000, 1000, 1000, 1000, 1000, 1000, 1000, 1000, 1000, 1000, 1000, 1000, 1000, 1000, 1000, 1000, 1000, 1000, 1000, 1000, 1000, 1000, 1000, 1000, 1000, 1000, 1000, 1000, 1000, 1000, 1000, 1000, 1000, 1000, 1000, 1000, 1000, 1000, 1000, 1000, 1000, 1000, 1000, 1000, 1000, 1000, 1000, 1000, 1000, 1000, 1000, 1000, 1000, 1000, 1000, 1000, 1000, 1000, 1000, 1000, 1000, 1000, 1000, 1000, 1000, 1000, 1000, 1000, 1000, 1000, 1000, 1000, 1000, 1000, 1000, 1000, 1000, 1000, 1000, 1000, 1000, 1000, 1000, 1000, 1000, 1000, 1000, 1000, 1000, 1000] (1000) for a total of 200000 posterior samples\n",
      "\n",
      "###############################\n",
      "## Loading scale/bin cuts #####\n",
      "###############################\n",
      "Found observables in data_file ['xip', 'xim', 'gammat', 'wtheta']\n",
      "Reading options for likelihood module:  2pt_d_like\n",
      "Found scale cuts for  {'xip': [(1, 1), (1, 2), (1, 3), (1, 4), (2, 2), (2, 3), (2, 4), (3, 3), (3, 4), (4, 4)], 'xim': [(1, 1), (1, 2), (1, 3), (1, 4), (2, 2), (2, 3), (2, 4), (3, 3), (3, 4), (4, 4)], 'gammat': [(1, 1), (1, 2), (1, 3), (1, 4), (2, 1), (2, 2), (2, 3), (2, 4), (3, 1), (3, 2), (3, 3), (3, 4), (4, 1), (4, 2), (4, 3), (4, 4), (5, 1), (5, 2), (5, 3), (5, 4)], 'wtheta': [(1, 1), (2, 2), (3, 3), (4, 4), (5, 5)]}\n",
      "Getting indices for xip\n",
      "Getting indices for xim\n",
      "Getting indices for gammat\n",
      "Getting indices for wtheta\n",
      "\n",
      "Found observables in data_file ['xip', 'xim', 'gammat', 'wtheta']\n",
      "Reading options for likelihood module:  2pt_dprime_like\n",
      "Found scale cuts for  {'xip': [(1, 1), (1, 2), (1, 3), (1, 4), (2, 2), (2, 3), (2, 4), (3, 3), (3, 4), (4, 4)], 'xim': [(1, 1), (1, 2), (1, 3), (1, 4), (2, 2), (2, 3), (2, 4), (3, 3), (3, 4), (4, 4)], 'gammat': [(1, 1), (1, 2), (1, 3), (1, 4), (2, 1), (2, 2), (2, 3), (2, 4), (3, 1), (3, 2), (3, 3), (3, 4), (4, 1), (4, 2), (4, 3), (4, 4), (5, 1), (5, 2), (5, 3), (5, 4)], 'wtheta': [(1, 1), (2, 2), (3, 3), (4, 4), (5, 5)]}\n",
      "Getting indices for xip\n",
      "Getting indices for xim\n",
      "Getting indices for gammat\n",
      "Getting indices for wtheta\n",
      "\n",
      "Using subsets ['1x2', '2x2', 'gammat', 'wtheta', 'xim', 'xip']\n",
      "\n",
      "Using same indices for d and dprime -> conditioning turned off\n",
      "\n",
      "###############################\n",
      "## Loading realizations #######\n",
      "###############################\n"
     ]
    },
    {
     "data": {
      "application/vnd.jupyter.widget-view+json": {
       "model_id": "132a454b8fe540978bf5853ad87608bd",
       "version_major": 2,
       "version_minor": 0
      },
      "text/plain": [
       "HBox(children=(FloatProgress(value=0.0, max=200.0), HTML(value='')))"
      ]
     },
     "metadata": {},
     "output_type": "display_data"
    },
    {
     "name": "stdout",
     "output_type": "stream",
     "text": [
      "Loading realizations from  ../fiducial_3x2_goodnessoffit/ppd_3x2lcdm_0321_boosted_fiducial_3x2_goodnessoffit_0_dprime_theory.npy\n",
      " - data vector size = 529\n",
      " - number of realizations = 1000\n",
      "Loading realizations from  ../fiducial_3x2_goodnessoffit/ppd_3x2lcdm_0321_boosted_fiducial_3x2_goodnessoffit_0_dprime_real.npy\n",
      " - data vector size = 529\n",
      " - number of realizations = 1000\n",
      "Loading realizations from  ../fiducial_3x2_goodnessoffit/ppd_3x2lcdm_0321_boosted_fiducial_3x2_goodnessoffit_0_d_theory.npy\n",
      " - data vector size = 529\n",
      " - number of realizations = 1000\n",
      "\n",
      "\n",
      "###############################\n",
      "## Sampling data ##############\n",
      "###############################\n",
      "Sampling at best-fit with params\n",
      "cosmological_parameters--omega_m = 0.329\n",
      "cosmological_parameters--h0 = 0.662\n",
      "cosmological_parameters--omega_b = 0.0363\n",
      "cosmological_parameters--n_s = 0.935\n",
      "cosmological_parameters--a_s = 1.9e-09\n",
      "cosmological_parameters--omnuh2 = 0.00444\n",
      "shear_calibration_parameters--m1 = -0.00537\n",
      "shear_calibration_parameters--m2 = -0.0234\n",
      "shear_calibration_parameters--m3 = -0.0199\n",
      "shear_calibration_parameters--m4 = -0.0338\n",
      "wl_photoz_errors--bias_1 = -0.00446\n",
      "wl_photoz_errors--bias_2 = -0.024\n",
      "wl_photoz_errors--bias_3 = -0.0147\n",
      "wl_photoz_errors--bias_4 = -0.00838\n",
      "lens_photoz_errors--bias_1 = 0.0062\n",
      "lens_photoz_errors--bias_2 = 0.00244\n",
      "lens_photoz_errors--bias_3 = 0.00715\n",
      "lens_photoz_errors--bias_4 = 0.00413\n",
      "lens_photoz_errors--bias_5 = -0.00513\n",
      "lens_photoz_errors--width_5 = 1.21\n",
      "bias_lens--b1        = 1.71\n",
      "bias_lens--b2        = 1.77\n",
      "bias_lens--b3        = 1.87\n",
      "bias_lens--b4        = 2.09\n",
      "bias_lens--b5        = 2.28\n",
      "intrinsic_alignment_parameters--a1 = 0.561\n",
      "intrinsic_alignment_parameters--a2 = -0.0902\n",
      "intrinsic_alignment_parameters--alpha1 = 4.81\n",
      "intrinsic_alignment_parameters--alpha2 = 1.21\n",
      "intrinsic_alignment_parameters--bias_ta = 0.146\n",
      "\n",
      "###############################\n",
      "## Compute chi2 for d #########\n",
      "###############################\n"
     ]
    },
    {
     "data": {
      "application/vnd.jupyter.widget-view+json": {
       "model_id": "44cd16f5529e49e58c4a2501f7e57406",
       "version_major": 2,
       "version_minor": 0
      },
      "text/plain": [
       "HBox(children=(FloatProgress(value=0.0, max=200.0), HTML(value='')))"
      ]
     },
     "metadata": {},
     "output_type": "display_data"
    }
   ],
   "source": [
    "res_pcal = []\n",
    "\n",
    "pvals_subsets={k:None for k in['xip','xim', 'gammat','wtheta','1x2','2x2']}\n",
    "\n",
    "import sys, os\n",
    "\n",
    "# Disable\n",
    "def blockPrint():\n",
    "    sys.stdout = open(os.devnull, 'w')\n",
    "\n",
    "# Restore\n",
    "def enablePrint():\n",
    "    sys.stdout = sys.__stdout__\n",
    "\n",
    "for _ in trange(10):\n",
    "    #blockPrint()\n",
    "    temp = calib.calibrate_pvals(\n",
    "        path_ppd=path_ppd,\n",
    "        path_chain=path_chain,\n",
    "        path_dv=path_dv,\n",
    "        RUN_NAME=RUN_NAME,\n",
    "        RUN_NAME_PPD=RUN_NAME_PPD,\n",
    "        DATAFILE=DATAFILE,\n",
    "        fiducial_dv=fiducial_dv,\n",
    "        data_sets_d=['xip','xim', 'gammat','wtheta'],\n",
    "        data_sets_dprime=['xip','xim', 'gammat','wtheta'],\n",
    "        N=1000, # 10^4 should give reasonable results, but for memory-sake can try smaller like 100\n",
    "        title=RUN_NAME_PPD,\n",
    "            pval_data=res[0]['full'],\n",
    "        use_pm=True,\n",
    "#         use_pm=False,\n",
    "        clip_is=0.1,\n",
    "        ndraws=1,\n",
    "        chunks=200,\n",
    "        size_chunk=1000,\n",
    "    #     pvals_subsets=res[0],\n",
    "        #use_logit=(1e-6,1),\n",
    "        get_zbin_pair_pcal=False,\n",
    "        pvals_subsets=pvals_subsets,\n",
    "#         sample_from='fiducial_dv'  # Trying this (different from y1 notebook)\n",
    "        sample_from='best-fit'  # Trying this (different from y1 notebook)\n",
    "    )\n",
    "    res_pcal.append(temp)\n",
    "    #enablePrint()\n",
    "    pickle.dump(res_pcal, open('res_pcal_'+RUN_NAME_PPD+'.pickle', 'wb'))\n",
    "    "
   ]
  },
  {
   "cell_type": "markdown",
   "metadata": {},
   "source": [
    "### With pm"
   ]
  },
  {
   "cell_type": "code",
   "execution_count": null,
   "metadata": {},
   "outputs": [],
   "source": [
    "pvals_rsd = np.concatenate([r[0] for r in res_pcal])"
   ]
  },
  {
   "cell_type": "code",
   "execution_count": null,
   "metadata": {},
   "outputs": [],
   "source": [
    "pvals_rsd.shape"
   ]
  },
  {
   "cell_type": "code",
   "execution_count": null,
   "metadata": {},
   "outputs": [],
   "source": [
    "plt.hist(pvals_rsd, 100);\n",
    "print(np.sum(pvals_rsd<=0.0013)/10000)"
   ]
  },
  {
   "cell_type": "code",
   "execution_count": null,
   "metadata": {},
   "outputs": [],
   "source": [
    "for key in pvals_subsets.keys():\n",
    "    _p = np.concatenate([r[1][key] for r in res_pcal])\n",
    "    print(key, pvals_subsets[key], np.sum(_p<=pvals_subsets[key])/len(_p))\n",
    "    plt.hist(_p, np.linspace(0,1,100), histtype='step', label=key);\n",
    "plt.legend()"
   ]
  },
  {
   "cell_type": "code",
   "execution_count": null,
   "metadata": {},
   "outputs": [],
   "source": []
  },
  {
   "cell_type": "code",
   "execution_count": null,
   "metadata": {},
   "outputs": [],
   "source": [
    "pval, dico_indices, ppd_data_obs, ppd_realizations, ppd_theory, weights, ppd_chain, ppd_output_file_basename = res\n",
    "\n",
    "fig, axes, extra = ppd_plots.ppd_plot_all_obs('xip', 4, 4, '$\\\\delta \\\\xi_+(\\\\theta)$', RUN_NAME+'_'+RUN_NAME_PPD, (2.5, 250.),\n",
    "         dico_indices,\n",
    "         all_data=fits.open(os.path.join(path_dv, DATAFILE)),\n",
    "         all_best_fit=fits.open(os.path.join(path_dv, fiducial_dv)),\n",
    "         all_realizations=ppd_realizations,\n",
    "         all_theory=ppd_theory,\n",
    "         weights=weights, invert_zizj=True, coeff_figsize=0.65, blind_y=True, pcal=pcal, scale_bestfit=True, get_chi2=False)\n",
    "\n",
    "fig, axes, extra = ppd_plots.ppd_plot_all_obs('xim', 4, 4, '$\\\\delta \\\\xi_-(\\\\theta)$', RUN_NAME+'_'+RUN_NAME_PPD, (2.5, 250.),\n",
    "         dico_indices,\n",
    "         all_data=fits.open(os.path.join(path_dv, DATAFILE)),\n",
    "         all_best_fit=fits.open(os.path.join(path_dv, fiducial_dv)),\n",
    "         all_realizations=ppd_realizations,\n",
    "         all_theory=ppd_theory,\n",
    "         weights=weights, invert_zizj=False, coeff_figsize=0.65, blind_y=True, pcal=pcal, scale_bestfit=True, get_chi2=False)\n",
    "\n",
    "fig, axes, extra = ppd_plots.ppd_plot_all_obs('gammat', 4, 5, '$\\\\delta \\\\gamma_{\\\\rm t}(\\\\theta)$', RUN_NAME+'_'+RUN_NAME_PPD, (2.5, 250.),\n",
    "         dico_indices,\n",
    "         all_data=fits.open(os.path.join(path_dv, DATAFILE)),\n",
    "         all_best_fit=fits.open(os.path.join(path_dv, fiducial_dv)),\n",
    "         all_realizations=ppd_realizations,\n",
    "         all_theory=ppd_theory,\n",
    "         weights=weights, invert_zizj=True, coeff_figsize=0.65, blind_y=True, pcal=pcal, scale_bestfit=True, get_chi2=False)\n",
    "\n",
    "fig, axes, extra = ppd_plots.ppd_plot_all_obs('wtheta', 1, 5, '$\\\\delta w(\\\\theta)$', RUN_NAME+'_'+RUN_NAME_PPD, (2.5, 250.),\n",
    "         dico_indices,\n",
    "         all_data=fits.open(os.path.join(path_dv, DATAFILE)),\n",
    "         all_best_fit=fits.open(os.path.join(path_dv, fiducial_dv)),\n",
    "         all_realizations=ppd_realizations,\n",
    "         all_theory=ppd_theory,\n",
    "         weights=weights, invert_zizj=False, coeff_figsize=0.65, blind_y=True, pcal=pcal, scale_bestfit=True, get_chi2=False)"
   ]
  },
  {
   "cell_type": "code",
   "execution_count": null,
   "metadata": {},
   "outputs": [],
   "source": [
    "pval, dico_indices, ppd_data_obs, ppd_realizations, ppd_theory, weights, ppd_chain, ppd_output_file_basename = res\n",
    "\n",
    "fig, axes, extra = ppd_plots.ppd_plot_all_obs('xip', 4, 4, '$\\\\delta \\\\xi_+(\\\\theta)$', RUN_NAME+'_'+RUN_NAME_PPD, (2.5, 250.),\n",
    "         dico_indices,\n",
    "         all_data=fits.open(os.path.join(path_dv, DATAFILE)),\n",
    "         all_best_fit=fits.open(os.path.join(path_dv, fiducial_dv)),\n",
    "         all_realizations=ppd_realizations,\n",
    "         all_theory=ppd_theory,\n",
    "         weights=weights, invert_zizj=True, coeff_figsize=0.65, blind_y=False, pcal=pcal, scale_bestfit=False, theta_factor=1, get_chi2=False)\n",
    "\n",
    "fig, axes, extra = ppd_plots.ppd_plot_all_obs('xim', 4, 4, '$\\\\delta \\\\xi_-(\\\\theta)$', RUN_NAME+'_'+RUN_NAME_PPD, (2.5, 250.),\n",
    "         dico_indices,\n",
    "         all_data=fits.open(os.path.join(path_dv, DATAFILE)),\n",
    "         all_best_fit=fits.open(os.path.join(path_dv, fiducial_dv)),\n",
    "         all_realizations=ppd_realizations,\n",
    "         all_theory=ppd_theory,\n",
    "         weights=weights, invert_zizj=False, coeff_figsize=0.65, blind_y=False, pcal=pcal, scale_bestfit=False, theta_factor=1, get_chi2=False)\n",
    "\n",
    "fig, axes, extra = ppd_plots.ppd_plot_all_obs('gammat', 4, 5, '$\\\\delta \\\\gamma_{\\\\rm t}(\\\\theta)$', RUN_NAME+'_'+RUN_NAME_PPD, (2.5, 250.),\n",
    "         dico_indices,\n",
    "         all_data=fits.open(os.path.join(path_dv, DATAFILE)),\n",
    "         all_best_fit=fits.open(os.path.join(path_dv, fiducial_dv)),\n",
    "         all_realizations=ppd_realizations,\n",
    "         all_theory=ppd_theory,\n",
    "         weights=weights, invert_zizj=True, coeff_figsize=0.65, blind_y=False, pcal=pcal, scale_bestfit=False, theta_factor=1, get_chi2=False)\n",
    "\n",
    "fig, axes, extra = ppd_plots.ppd_plot_all_obs('wtheta', 1, 5, '$\\\\delta w(\\\\theta)$', RUN_NAME+'_'+RUN_NAME_PPD, (2.5, 250.),\n",
    "         dico_indices,\n",
    "         all_data=fits.open(os.path.join(path_dv, DATAFILE)),\n",
    "         all_best_fit=fits.open(os.path.join(path_dv, fiducial_dv)),\n",
    "         all_realizations=ppd_realizations,\n",
    "         all_theory=ppd_theory,\n",
    "         weights=weights, invert_zizj=False, coeff_figsize=0.65, blind_y=False, pcal=pcal, scale_bestfit=False, theta_factor=1, get_chi2=False)"
   ]
  }
 ],
 "metadata": {
  "kernelspec": {
   "display_name": "mykernel3",
   "language": "python",
   "name": "mykernel3"
  },
  "language_info": {
   "codemirror_mode": {
    "name": "ipython",
    "version": 3
   },
   "file_extension": ".py",
   "mimetype": "text/x-python",
   "name": "python",
   "nbconvert_exporter": "python",
   "pygments_lexer": "ipython3",
   "version": "3.8.2"
  }
 },
 "nbformat": 4,
 "nbformat_minor": 4
}
