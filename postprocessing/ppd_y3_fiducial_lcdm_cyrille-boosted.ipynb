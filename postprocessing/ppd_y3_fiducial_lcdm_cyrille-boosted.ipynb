{
 "cells": [
  {
   "cell_type": "code",
   "execution_count": 1,
   "metadata": {},
   "outputs": [],
   "source": [
    "%load_ext autoreload\n",
    "%autoreload 2"
   ]
  },
  {
   "cell_type": "markdown",
   "metadata": {},
   "source": [
    "This follows the setup of ppd_y1_data.ipynb, but there are some different configurations.  This particular notebook has locations set to the Ohio Supercomputer (and some things like the sys.path.append call below are unnecessary if you are in the `ppd/postprocessing directory`)."
   ]
  },
  {
   "cell_type": "code",
   "execution_count": 2,
   "metadata": {},
   "outputs": [],
   "source": [
    "import sys\n",
    "#sys.path.append(\"/users/PCON0003/cond0080/src/y3-3x2pt-ppd/postprocessing\")\n",
    "import utils_6x2 as util\n",
    "import utils_ppd as ppd\n",
    "import utils_ppd_plots as ppd_plots\n",
    "import utils_ppd_calib as calib\n",
    "from astropy.io import fits\n",
    "\n",
    "from tqdm.auto import tqdm, trange\n",
    "\n",
    "import castor as ca\n",
    "import pickle"
   ]
  },
  {
   "cell_type": "code",
   "execution_count": 3,
   "metadata": {},
   "outputs": [],
   "source": [
    "path_ppd = '../'\n",
    "# path_chain = '../../trimmed_chains/'\n",
    "path_chain = '../../trimmed_chains_test/'\n",
    "# path_chain = '/project/projectdirs/des/www/y3_chains/3x2pt/final_paper_chains/'\n",
    "path_dv = '../../../data/des-y3/'\n",
    "\n",
    "DATAFILE = '2pt_NG_final_2ptunblind_02_24_21_wnz_covupdate.v2.fits'\n",
    "\n",
    "fiducial_dv = '2pt_NG_final_2ptunblind_02_24_21_wnz_covupdate.v2.fits'"
   ]
  },
  {
   "cell_type": "code",
   "execution_count": 4,
   "metadata": {},
   "outputs": [],
   "source": [
    "main_subsets = ['full', '1x2', '2x2', 'xip', 'xim', 'gammat', 'wtheta']"
   ]
  },
  {
   "cell_type": "markdown",
   "metadata": {},
   "source": [
    "# 3x2 goodness of fit"
   ]
  },
  {
   "cell_type": "code",
   "execution_count": 96,
   "metadata": {},
   "outputs": [],
   "source": [
    "a = np.loadtxt('../../trimmed_chains/chain_3x2lcdm_0321_boosted.txt')\n",
    "\n",
    "with open('../../trimmed_chains/chain_3x2lcdm_0321_boosted.txt', 'r') as f:\n",
    "    header = f.readline()\n",
    "    \n",
    "np.savetxt('../../trimmed_chains_test/chain_3x2lcdm_0321_boosted.txt', a[:200000], header=header[2:-1])"
   ]
  },
  {
   "cell_type": "code",
   "execution_count": 97,
   "metadata": {},
   "outputs": [
    {
     "name": "stdout",
     "output_type": "stream",
     "text": [
      "# cosmological_parameters--omega_m cosmological_parameters--h0 cosmological_parameters--omega_b cosmological_parameters--n_s cosmological_parameters--a_s cosmological_parameters--omnuh2 shear_calibration_parameters--m1 shear_calibration_parameters--m2 shear_calibration_parameters--m3 shear_calibration_parameters--m4 wl_photoz_errors--bias_1 wl_photoz_errors--bias_2 wl_photoz_errors--bias_3 wl_photoz_errors--bias_4 lens_photoz_errors--bias_1 lens_photoz_errors--bias_2 lens_photoz_errors--bias_3 lens_photoz_errors--bias_4 lens_photoz_errors--bias_5 lens_photoz_errors--width_5 bias_lens--b1 bias_lens--b2 bias_lens--b3 bias_lens--b4 bias_lens--b5 intrinsic_alignment_parameters--a1 intrinsic_alignment_parameters--a2 intrinsic_alignment_parameters--alpha1 intrinsic_alignment_parameters--alpha2 intrinsic_alignment_parameters--bias_ta weight\n",
      "\n"
     ]
    }
   ],
   "source": [
    "with open('../../trimmed_chains_test/chain_3x2lcdm_0321_boosted.txt', 'r') as f:\n",
    "    print(f.readline())#[1:].split())"
   ]
  },
  {
   "cell_type": "code",
   "execution_count": 92,
   "metadata": {},
   "outputs": [
    {
     "name": "stdout",
     "output_type": "stream",
     "text": [
      "Loading chain at\n",
      "../../trimmed_chains_test/chain_3x2lcdm_0321_boosted.txt\n",
      "Sampler not found -- non-standard cosmosis output\n",
      "- using params\n",
      "['cosmological_parameters--omega_m', 'cosmological_parameters--h0', 'cosmological_parameters--omega_b', 'cosmological_parameters--n_s', 'cosmological_parameters--a_s', 'cosmological_parameters--omnuh2']\n",
      "- using nsample =  200000\n"
     ]
    },
    {
     "data": {
      "text/plain": [
       "(OrderedDict([('cosmological_parameters--omega_m',\n",
       "               array([0.3194111 , 0.3168535 , 0.25371432, ..., 0.37049966, 0.35062947,\n",
       "                      0.35062947])),\n",
       "              ('cosmological_parameters--h0',\n",
       "               array([0.66501852, 0.78636815, 0.78168945, ..., 0.56298271, 0.65759626,\n",
       "                      0.65759626])),\n",
       "              ('cosmological_parameters--omega_b',\n",
       "               array([0.06034603, 0.04635131, 0.04334288, ..., 0.03591835, 0.04902424,\n",
       "                      0.04902424])),\n",
       "              ('cosmological_parameters--n_s',\n",
       "               array([0.87789006, 0.99242607, 0.9881779 , ..., 0.98102573, 0.90726056,\n",
       "                      0.90726056])),\n",
       "              ('cosmological_parameters--a_s',\n",
       "               array([1.24664518e-09, 2.03530189e-09, 1.11334044e-09, ...,\n",
       "                      2.03865530e-09, 1.74281199e-09, 1.74281199e-09])),\n",
       "              ('cosmological_parameters--omnuh2',\n",
       "               array([0.00318876, 0.00550417, 0.00495188, ..., 0.00374929, 0.00256505,\n",
       "                      0.00256505]))]),\n",
       " array([1., 1., 1., ..., 1., 1., 1.]))"
      ]
     },
     "execution_count": 92,
     "metadata": {},
     "output_type": "execute_result"
    }
   ],
   "source": [
    "util.load_cosmosis_chain('../../trimmed_chains_test/chain_3x2lcdm_0321_boosted.txt', verbose=True, read_nsample=False)"
   ]
  },
  {
   "cell_type": "code",
   "execution_count": 5,
   "metadata": {
    "tags": []
   },
   "outputs": [
    {
     "name": "stdout",
     "output_type": "stream",
     "text": [
      "\n",
      "###############################\n",
      "## Loading chains #############\n",
      "###############################\n"
     ]
    },
    {
     "data": {
      "application/vnd.jupyter.widget-view+json": {
       "model_id": "ae608591eb084217ad5db03bad4e4e12",
       "version_major": 2,
       "version_minor": 0
      },
      "text/plain": [
       "HBox(children=(FloatProgress(value=0.0, max=200.0), HTML(value='')))"
      ]
     },
     "metadata": {},
     "output_type": "display_data"
    },
    {
     "name": "stdout",
     "output_type": "stream",
     "text": [
      "Loading list chain at\n",
      "../fiducial_3x2_goodnessoffit/ppd_chain_3x2lcdm_0321_boosted_fiducial_3x2_goodnessoffit_0.txt\n",
      "- using params\n",
      "['cosmological_parameters--omega_m', 'cosmological_parameters--h0', 'cosmological_parameters--omega_b', 'cosmological_parameters--n_s', 'cosmological_parameters--a_s', 'cosmological_parameters--omnuh2', 'cosmological_parameters--w', 'cosmological_parameters--massive_nu', 'cosmological_parameters--massless_nu', 'cosmological_parameters--omega_k', 'cosmological_parameters--tau', 'shear_calibration_parameters--m1', 'shear_calibration_parameters--m2', 'shear_calibration_parameters--m3', 'shear_calibration_parameters--m4', 'wl_photoz_errors--bias_1', 'wl_photoz_errors--bias_2', 'wl_photoz_errors--bias_3', 'wl_photoz_errors--bias_4', 'lens_photoz_errors--bias_1', 'lens_photoz_errors--bias_2', 'lens_photoz_errors--bias_3', 'lens_photoz_errors--bias_4', 'lens_photoz_errors--bias_5', 'lens_photoz_errors--width_1', 'lens_photoz_errors--width_2', 'lens_photoz_errors--width_3', 'lens_photoz_errors--width_4', 'lens_photoz_errors--width_5', 'bias_lens--b1', 'bias_lens--b2', 'bias_lens--b3', 'bias_lens--b4', 'bias_lens--b5', 'mag_alpha_lens--alpha_1', 'mag_alpha_lens--alpha_2', 'mag_alpha_lens--alpha_3', 'mag_alpha_lens--alpha_4', 'mag_alpha_lens--alpha_5', 'intrinsic_alignment_parameters--z_piv', 'intrinsic_alignment_parameters--a1', 'intrinsic_alignment_parameters--a2', 'intrinsic_alignment_parameters--alpha1', 'intrinsic_alignment_parameters--alpha2', 'intrinsic_alignment_parameters--bias_ta', 'COSMOLOGICAL_PARAMETERS--SIGMA_8', 'COSMOLOGICAL_PARAMETERS--SIGMA_12', 'DATA_VECTOR--2PT_CHI2', 'DATA_VECTOR--2PT_D_CHI2', 'DATA_VECTOR--2PT_DPRIME_CHI2', 'DATA_VECTOR--2PT_XIP_CHI2', 'DATA_VECTOR--2PT_XIM_CHI2', 'DATA_VECTOR--2PT_1X2_CHI2', 'DATA_VECTOR--2PT_GAMMAT_CHI2', 'DATA_VECTOR--2PT_WTHETA_CHI2', 'DATA_VECTOR--2PT_2X2_CHI2', 'PPD--CHI2_DPRIME_DATA', 'PPD--CHI2_DPRIME_REALIZATION', 'PPD--CHI2_D_DATA', 'PPD--CHI2_XIP_DATA', 'PPD--CHI2_XIP_REALIZATION', 'PPD--CHI2_XIM_DATA', 'PPD--CHI2_XIM_REALIZATION', 'PPD--CHI2_1X2_DATA', 'PPD--CHI2_1X2_REALIZATION', 'PPD--CHI2_GAMMAT_DATA', 'PPD--CHI2_GAMMAT_REALIZATION', 'PPD--CHI2_WTHETA_DATA', 'PPD--CHI2_WTHETA_REALIZATION', 'PPD--CHI2_2X2_DATA', 'PPD--CHI2_2X2_REALIZATION', 'PPD--CHI2_DPRIME_COMP_AVG', 'PPD--CHI2_XIP_COMP_AVG', 'PPD--CHI2_XIM_COMP_AVG', 'PPD--CHI2_1X2_COMP_AVG', 'PPD--CHI2_GAMMAT_COMP_AVG', 'PPD--CHI2_WTHETA_COMP_AVG', 'PPD--CHI2_2X2_COMP_AVG', 'prior', 'post']\n",
      "- using nsample =  1000\n",
      "\n",
      "Loading chain at\n",
      "../../trimmed_chains_test/chain_3x2lcdm_0321_boosted.txt\n",
      "Sampler not found -- non-standard cosmosis output\n",
      "- using params\n",
      "['cosmological_parameters--omega_m', 'cosmological_parameters--h0', 'cosmological_parameters--omega_b', 'cosmological_parameters--n_s', 'cosmological_parameters--a_s', 'cosmological_parameters--omnuh2', 'shear_calibration_parameters--m1', 'shear_calibration_parameters--m2', 'shear_calibration_parameters--m3', 'shear_calibration_parameters--m4', 'wl_photoz_errors--bias_1', 'wl_photoz_errors--bias_2', 'wl_photoz_errors--bias_3', 'wl_photoz_errors--bias_4', 'lens_photoz_errors--bias_1', 'lens_photoz_errors--bias_2', 'lens_photoz_errors--bias_3', 'lens_photoz_errors--bias_4', 'lens_photoz_errors--bias_5', 'lens_photoz_errors--width_5', 'bias_lens--b1', 'bias_lens--b2', 'bias_lens--b3', 'bias_lens--b4', 'bias_lens--b5', 'intrinsic_alignment_parameters--a1', 'intrinsic_alignment_parameters--a2', 'intrinsic_alignment_parameters--alpha1', 'intrinsic_alignment_parameters--alpha2', 'intrinsic_alignment_parameters--bias_ta', 'weight']\n",
      "- using nsample =  200000\n",
      "Using 200 chunks of size [1000, 1000, 1000, 1000, 1000, 1000, 1000, 1000, 1000, 1000, 1000, 1000, 1000, 1000, 1000, 1000, 1000, 1000, 1000, 1000, 1000, 1000, 1000, 1000, 1000, 1000, 1000, 1000, 1000, 1000, 1000, 1000, 1000, 1000, 1000, 1000, 1000, 1000, 1000, 1000, 1000, 1000, 1000, 1000, 1000, 1000, 1000, 1000, 1000, 1000, 1000, 1000, 1000, 1000, 1000, 1000, 1000, 1000, 1000, 1000, 1000, 1000, 1000, 1000, 1000, 1000, 1000, 1000, 1000, 1000, 1000, 1000, 1000, 1000, 1000, 1000, 1000, 1000, 1000, 1000, 1000, 1000, 1000, 1000, 1000, 1000, 1000, 1000, 1000, 1000, 1000, 1000, 1000, 1000, 1000, 1000, 1000, 1000, 1000, 1000, 1000, 1000, 1000, 1000, 1000, 1000, 1000, 1000, 1000, 1000, 1000, 1000, 1000, 1000, 1000, 1000, 1000, 1000, 1000, 1000, 1000, 1000, 1000, 1000, 1000, 1000, 1000, 1000, 1000, 1000, 1000, 1000, 1000, 1000, 1000, 1000, 1000, 1000, 1000, 1000, 1000, 1000, 1000, 1000, 1000, 1000, 1000, 1000, 1000, 1000, 1000, 1000, 1000, 1000, 1000, 1000, 1000, 1000, 1000, 1000, 1000, 1000, 1000, 1000, 1000, 1000, 1000, 1000, 1000, 1000, 1000, 1000, 1000, 1000, 1000, 1000, 1000, 1000, 1000, 1000, 1000, 1000, 1000, 1000, 1000, 1000, 1000, 1000, 1000, 1000, 1000, 1000, 1000, 1000, 1000, 1000, 1000, 1000, 1000, 1000] (1000) for a total of 200000 posterior samples\n",
      "\n",
      "###############################\n",
      "## Getting p-values ###########\n",
      "###############################\n",
      "     - Full     pval=0.0013 +0.0002/-0.0002  [16=0.0011, 50=0.0013, 84=0.0014] (0.001246575375519147)\n",
      "     - XIP      pval=0.2482 +0.0017/-0.0018  [16=0.2464, 50=0.2482, 84=0.2499] (0.24848476678083267)\n",
      "     - XIM      pval=0.4067 +0.0020/-0.0021  [16=0.4046, 50=0.4067, 84=0.4087] (0.40887941500644126)\n",
      "     - 1X2      pval=0.2332 +0.0019/-0.0017  [16=0.2315, 50=0.2332, 84=0.2351] (0.2352013247220475)\n",
      "     - GAMMAT   pval=0.0155 +0.0005/-0.0005  [16=0.0150, 50=0.0155, 84=0.0160] (0.015656326401054195)\n",
      "     - WTHETA   pval=0.0445 +0.0009/-0.0008  [16=0.0436, 50=0.0445, 84=0.0454] (0.04444284946303973)\n",
      "     - 2X2      pval=0.0025 +0.0002/-0.0002  [16=0.0023, 50=0.0025, 84=0.0027] (0.00245041973527856)\n",
      "\n",
      "###############################\n",
      "## Loading scale/bin cuts #####\n",
      "###############################\n",
      "Found observables in data_file ['xip', 'xim', 'gammat', 'wtheta']\n",
      "Reading options for likelihood module:  2pt_dprime_like\n",
      "Found scale cuts for  {'xip': [(1, 1), (1, 2), (1, 3), (1, 4), (2, 2), (2, 3), (2, 4), (3, 3), (3, 4), (4, 4)], 'xim': [(1, 1), (1, 2), (1, 3), (1, 4), (2, 2), (2, 3), (2, 4), (3, 3), (3, 4), (4, 4)], 'gammat': [(1, 1), (1, 2), (1, 3), (1, 4), (2, 1), (2, 2), (2, 3), (2, 4), (3, 1), (3, 2), (3, 3), (3, 4), (4, 1), (4, 2), (4, 3), (4, 4), (5, 1), (5, 2), (5, 3), (5, 4)], 'wtheta': [(1, 1), (2, 2), (3, 3), (4, 4), (5, 5)]}\n",
      "Getting indices for xip\n",
      "Getting indices for xim\n",
      "Getting indices for gammat\n",
      "Getting indices for wtheta\n"
     ]
    }
   ],
   "source": [
    "RUN_NAME = '3x2lcdm_0321_boosted'\n",
    "RUN_NAME_PPD = 'fiducial_3x2_goodnessoffit'\n",
    "\n",
    "res = ppd.load_run(\n",
    "    path_ppd=path_ppd,\n",
    "    path_chain=path_chain,\n",
    "    path_dv=path_dv,\n",
    "    RUN_NAME=RUN_NAME,\n",
    "    RUN_NAME_PPD=RUN_NAME_PPD,\n",
    "    DATAFILE=DATAFILE,\n",
    "    chunks=200,\n",
    "    size_chunk=1000,\n",
    "    data_sets=['xip', 'xim', 'gammat', 'wtheta'],\n",
    "    load_dvs=False\n",
    ")"
   ]
  },
  {
   "cell_type": "code",
   "execution_count": 11,
   "metadata": {
    "tags": []
   },
   "outputs": [
    {
     "name": "stdout",
     "output_type": "stream",
     "text": [
      "\n",
      "###############################\n",
      "## Loading chains #############\n",
      "###############################\n"
     ]
    },
    {
     "data": {
      "application/vnd.jupyter.widget-view+json": {
       "model_id": "7c71380d3cd54ac7957f7fcaa9354ed6",
       "version_major": 2,
       "version_minor": 0
      },
      "text/plain": [
       "HBox(children=(FloatProgress(value=0.0, max=200.0), HTML(value='')))"
      ]
     },
     "metadata": {},
     "output_type": "display_data"
    },
    {
     "name": "stdout",
     "output_type": "stream",
     "text": [
      "Loading list chain at\n",
      "../fiducial_3x2_goodnessoffit/ppd_chain_3x2lcdm_0321_boosted_fiducial_3x2_goodnessoffit_0.txt\n",
      "- using params\n",
      "['cosmological_parameters--omega_m', 'cosmological_parameters--h0', 'cosmological_parameters--omega_b', 'cosmological_parameters--n_s', 'cosmological_parameters--a_s', 'cosmological_parameters--omnuh2', 'cosmological_parameters--w', 'cosmological_parameters--massive_nu', 'cosmological_parameters--massless_nu', 'cosmological_parameters--omega_k', 'cosmological_parameters--tau', 'shear_calibration_parameters--m1', 'shear_calibration_parameters--m2', 'shear_calibration_parameters--m3', 'shear_calibration_parameters--m4', 'wl_photoz_errors--bias_1', 'wl_photoz_errors--bias_2', 'wl_photoz_errors--bias_3', 'wl_photoz_errors--bias_4', 'lens_photoz_errors--bias_1', 'lens_photoz_errors--bias_2', 'lens_photoz_errors--bias_3', 'lens_photoz_errors--bias_4', 'lens_photoz_errors--bias_5', 'lens_photoz_errors--width_1', 'lens_photoz_errors--width_2', 'lens_photoz_errors--width_3', 'lens_photoz_errors--width_4', 'lens_photoz_errors--width_5', 'bias_lens--b1', 'bias_lens--b2', 'bias_lens--b3', 'bias_lens--b4', 'bias_lens--b5', 'mag_alpha_lens--alpha_1', 'mag_alpha_lens--alpha_2', 'mag_alpha_lens--alpha_3', 'mag_alpha_lens--alpha_4', 'mag_alpha_lens--alpha_5', 'intrinsic_alignment_parameters--z_piv', 'intrinsic_alignment_parameters--a1', 'intrinsic_alignment_parameters--a2', 'intrinsic_alignment_parameters--alpha1', 'intrinsic_alignment_parameters--alpha2', 'intrinsic_alignment_parameters--bias_ta', 'COSMOLOGICAL_PARAMETERS--SIGMA_8', 'COSMOLOGICAL_PARAMETERS--SIGMA_12', 'DATA_VECTOR--2PT_CHI2', 'DATA_VECTOR--2PT_D_CHI2', 'DATA_VECTOR--2PT_DPRIME_CHI2', 'DATA_VECTOR--2PT_XIP_CHI2', 'DATA_VECTOR--2PT_XIM_CHI2', 'DATA_VECTOR--2PT_1X2_CHI2', 'DATA_VECTOR--2PT_GAMMAT_CHI2', 'DATA_VECTOR--2PT_WTHETA_CHI2', 'DATA_VECTOR--2PT_2X2_CHI2', 'PPD--CHI2_DPRIME_DATA', 'PPD--CHI2_DPRIME_REALIZATION', 'PPD--CHI2_D_DATA', 'PPD--CHI2_XIP_DATA', 'PPD--CHI2_XIP_REALIZATION', 'PPD--CHI2_XIM_DATA', 'PPD--CHI2_XIM_REALIZATION', 'PPD--CHI2_1X2_DATA', 'PPD--CHI2_1X2_REALIZATION', 'PPD--CHI2_GAMMAT_DATA', 'PPD--CHI2_GAMMAT_REALIZATION', 'PPD--CHI2_WTHETA_DATA', 'PPD--CHI2_WTHETA_REALIZATION', 'PPD--CHI2_2X2_DATA', 'PPD--CHI2_2X2_REALIZATION', 'PPD--CHI2_DPRIME_COMP_AVG', 'PPD--CHI2_XIP_COMP_AVG', 'PPD--CHI2_XIM_COMP_AVG', 'PPD--CHI2_1X2_COMP_AVG', 'PPD--CHI2_GAMMAT_COMP_AVG', 'PPD--CHI2_WTHETA_COMP_AVG', 'PPD--CHI2_2X2_COMP_AVG', 'prior', 'post']\n",
      "- using nsample =  1000\n",
      "\n",
      "Loading chain at\n",
      "../../trimmed_chains_test/chain_3x2lcdm_0321_boosted.txt\n",
      "Sampler not found -- non-standard cosmosis output\n",
      "Using 200 chunks of size [1000, 1000, 1000, 1000, 1000, 1000, 1000, 1000, 1000, 1000, 1000, 1000, 1000, 1000, 1000, 1000, 1000, 1000, 1000, 1000, 1000, 1000, 1000, 1000, 1000, 1000, 1000, 1000, 1000, 1000, 1000, 1000, 1000, 1000, 1000, 1000, 1000, 1000, 1000, 1000, 1000, 1000, 1000, 1000, 1000, 1000, 1000, 1000, 1000, 1000, 1000, 1000, 1000, 1000, 1000, 1000, 1000, 1000, 1000, 1000, 1000, 1000, 1000, 1000, 1000, 1000, 1000, 1000, 1000, 1000, 1000, 1000, 1000, 1000, 1000, 1000, 1000, 1000, 1000, 1000, 1000, 1000, 1000, 1000, 1000, 1000, 1000, 1000, 1000, 1000, 1000, 1000, 1000, 1000, 1000, 1000, 1000, 1000, 1000, 1000, 1000, 1000, 1000, 1000, 1000, 1000, 1000, 1000, 1000, 1000, 1000, 1000, 1000, 1000, 1000, 1000, 1000, 1000, 1000, 1000, 1000, 1000, 1000, 1000, 1000, 1000, 1000, 1000, 1000, 1000, 1000, 1000, 1000, 1000, 1000, 1000, 1000, 1000, 1000, 1000, 1000, 1000, 1000, 1000, 1000, 1000, 1000, 1000, 1000, 1000, 1000, 1000, 1000, 1000, 1000, 1000, 1000, 1000, 1000, 1000, 1000, 1000, 1000, 1000, 1000, 1000, 1000, 1000, 1000, 1000, 1000, 1000, 1000, 1000, 1000, 1000, 1000, 1000, 1000, 1000, 1000, 1000, 1000, 1000, 1000, 1000, 1000, 1000, 1000, 1000, 1000, 1000, 1000, 1000, 1000, 1000, 1000, 1000, 1000, 1000] (1000) for a total of 200000 posterior samples\n",
      "\n",
      "###############################\n",
      "## Loading scale/bin cuts #####\n",
      "###############################\n",
      "Found observables in data_file ['xip', 'xim', 'gammat', 'wtheta']\n",
      "Reading options for likelihood module:  2pt_d_like\n",
      "Found scale cuts for  {'xip': [(1, 1), (1, 2), (1, 3), (1, 4), (2, 2), (2, 3), (2, 4), (3, 3), (3, 4), (4, 4)], 'xim': [(1, 1), (1, 2), (1, 3), (1, 4), (2, 2), (2, 3), (2, 4), (3, 3), (3, 4), (4, 4)], 'gammat': [(1, 1), (1, 2), (1, 3), (1, 4), (2, 1), (2, 2), (2, 3), (2, 4), (3, 1), (3, 2), (3, 3), (3, 4), (4, 1), (4, 2), (4, 3), (4, 4), (5, 1), (5, 2), (5, 3), (5, 4)], 'wtheta': [(1, 1), (2, 2), (3, 3), (4, 4), (5, 5)]}\n",
      "Getting indices for xip\n",
      "Getting indices for xim\n",
      "Getting indices for gammat\n",
      "Getting indices for wtheta\n",
      "\n",
      "Found observables in data_file ['xip', 'xim', 'gammat', 'wtheta']\n",
      "Reading options for likelihood module:  2pt_dprime_like\n",
      "Found scale cuts for  {'xip': [(1, 1), (1, 2), (1, 3), (1, 4), (2, 2), (2, 3), (2, 4), (3, 3), (3, 4), (4, 4)], 'xim': [(1, 1), (1, 2), (1, 3), (1, 4), (2, 2), (2, 3), (2, 4), (3, 3), (3, 4), (4, 4)], 'gammat': [(1, 1), (1, 2), (1, 3), (1, 4), (2, 1), (2, 2), (2, 3), (2, 4), (3, 1), (3, 2), (3, 3), (3, 4), (4, 1), (4, 2), (4, 3), (4, 4), (5, 1), (5, 2), (5, 3), (5, 4)], 'wtheta': [(1, 1), (2, 2), (3, 3), (4, 4), (5, 5)]}\n",
      "Getting indices for xip\n",
      "Getting indices for xim\n",
      "Getting indices for gammat\n",
      "Getting indices for wtheta\n",
      "\n",
      "Using subsets ['1x2', '2x2', 'gammat', 'wtheta', 'xim', 'xip']\n",
      "\n",
      "Using same indices for d and dprime -> conditioning turned off\n",
      "\n",
      "###############################\n",
      "## Loading realizations #######\n",
      "###############################\n"
     ]
    },
    {
     "data": {
      "application/vnd.jupyter.widget-view+json": {
       "model_id": "77f3ba64abaf434a973184a75d35fc14",
       "version_major": 2,
       "version_minor": 0
      },
      "text/plain": [
       "HBox(children=(FloatProgress(value=0.0, max=200.0), HTML(value='')))"
      ]
     },
     "metadata": {},
     "output_type": "display_data"
    },
    {
     "name": "stdout",
     "output_type": "stream",
     "text": [
      "Loading realizations from  ../fiducial_3x2_goodnessoffit/ppd_3x2lcdm_0321_boosted_fiducial_3x2_goodnessoffit_0_dprime_theory.npy\n",
      " - data vector size = 529\n",
      " - number of realizations = 1000\n",
      "Loading realizations from  ../fiducial_3x2_goodnessoffit/ppd_3x2lcdm_0321_boosted_fiducial_3x2_goodnessoffit_0_dprime_real.npy\n",
      " - data vector size = 529\n",
      " - number of realizations = 1000\n",
      "Loading realizations from  ../fiducial_3x2_goodnessoffit/ppd_3x2lcdm_0321_boosted_fiducial_3x2_goodnessoffit_0_d_theory.npy\n",
      " - data vector size = 529\n",
      " - number of realizations = 1000\n",
      "\n",
      "\n",
      "###############################\n",
      "## Sampling data ##############\n",
      "###############################\n",
      "Sampling at best-fit with params\n",
      "cosmological_parameters--omega_m = 0.329\n",
      "cosmological_parameters--h0 = 0.662\n",
      "cosmological_parameters--omega_b = 0.0363\n",
      "cosmological_parameters--n_s = 0.935\n",
      "cosmological_parameters--a_s = 1.9e-09\n",
      "cosmological_parameters--omnuh2 = 0.00444\n",
      "shear_calibration_parameters--m1 = -0.00537\n",
      "shear_calibration_parameters--m2 = -0.0234\n",
      "shear_calibration_parameters--m3 = -0.0199\n",
      "shear_calibration_parameters--m4 = -0.0338\n",
      "wl_photoz_errors--bias_1 = -0.00446\n",
      "wl_photoz_errors--bias_2 = -0.024\n",
      "wl_photoz_errors--bias_3 = -0.0147\n",
      "wl_photoz_errors--bias_4 = -0.00838\n",
      "lens_photoz_errors--bias_1 = 0.0062\n",
      "lens_photoz_errors--bias_2 = 0.00244\n",
      "lens_photoz_errors--bias_3 = 0.00715\n",
      "lens_photoz_errors--bias_4 = 0.00413\n",
      "lens_photoz_errors--bias_5 = -0.00513\n",
      "lens_photoz_errors--width_5 = 1.21\n",
      "bias_lens--b1        = 1.71\n",
      "bias_lens--b2        = 1.77\n",
      "bias_lens--b3        = 1.87\n",
      "bias_lens--b4        = 2.09\n",
      "bias_lens--b5        = 2.28\n",
      "intrinsic_alignment_parameters--a1 = 0.561\n",
      "intrinsic_alignment_parameters--a2 = -0.0902\n",
      "intrinsic_alignment_parameters--alpha1 = 4.81\n",
      "intrinsic_alignment_parameters--alpha2 = 1.21\n",
      "intrinsic_alignment_parameters--bias_ta = 0.146\n",
      "\n",
      "###############################\n",
      "## Compute chi2 for d #########\n",
      "###############################\n"
     ]
    },
    {
     "data": {
      "application/vnd.jupyter.widget-view+json": {
       "model_id": "edf4831237954aa7bb3dcb60e4a13206",
       "version_major": 2,
       "version_minor": 0
      },
      "text/plain": [
       "HBox(children=(FloatProgress(value=0.0, max=200.0), HTML(value='')))"
      ]
     },
     "metadata": {},
     "output_type": "display_data"
    },
    {
     "name": "stdout",
     "output_type": "stream",
     "text": [
      "\n",
      "\n",
      "###############################\n",
      "## Compute IS weights for d ###\n",
      "###############################\n"
     ]
    },
    {
     "data": {
      "application/vnd.jupyter.widget-view+json": {
       "model_id": "9424422782994371a527c1f190016437",
       "version_major": 2,
       "version_minor": 0
      },
      "text/plain": [
       "HBox(children=(FloatProgress(value=0.0, max=200.0), HTML(value='')))"
      ]
     },
     "metadata": {},
     "output_type": "display_data"
    },
    {
     "name": "stdout",
     "output_type": "stream",
     "text": [
      "\n",
      "(200000, 100)\n",
      "Neff = 73.1 (median), 16th=29.4, 84th=207.2 (0 were nan's)\n",
      "\n",
      "###############################\n",
      "## Computing p-values #########\n",
      "###############################\n"
     ]
    },
    {
     "data": {
      "application/vnd.jupyter.widget-view+json": {
       "model_id": "d851a1c4ed4347268354265d0600b9b6",
       "version_major": 2,
       "version_minor": 0
      },
      "text/plain": [
       "HBox(children=(FloatProgress(value=1.0, bar_style='info', max=1.0), HTML(value='')))"
      ]
     },
     "metadata": {},
     "output_type": "display_data"
    },
    {
     "name": "stdout",
     "output_type": "stream",
     "text": [
      "\n",
      "1x2\n",
      "2x2\n",
      "Some (5) eigenvalues are non-positive. Clipping to minimum positive one = 4.56029701462778e-12\n",
      "Some (5) eigenvalues are non-positive. Clipping to minimum positive one = 4.56029701462778e-12\n",
      "gammat\n",
      "Some (5) eigenvalues are non-positive. Clipping to minimum positive one = 4.567070313760914e-12\n",
      "Some (5) eigenvalues are non-positive. Clipping to minimum positive one = 4.567070313760914e-12\n",
      "wtheta\n",
      "xim\n",
      "xip\n",
      "\n",
      "###############################\n",
      "## Calibrated p-values ########\n",
      "###############################\n",
      "     - Full         calibrated pval=0.0000 (raw pval=0.0013)\n",
      "     - 1x2          calibrated pval=0.2100 (raw pval=0.2377)\n",
      "     - 2x2          calibrated pval=0.0000 (raw pval=0.0579)\n",
      "     - gammat       calibrated pval=0.0400 (raw pval=0.0043)\n",
      "     - wtheta       calibrated pval=0.0600 (raw pval=0.0444)\n",
      "     - xim          calibrated pval=0.3800 (raw pval=0.4087)\n",
      "     - xip          calibrated pval=0.2100 (raw pval=0.2534)\n",
      "\n",
      "###############################\n",
      "## Plotting ###################\n",
      "###############################\n"
     ]
    },
    {
     "data": {
      "image/png": "[encoded data removed]",
      "text/plain": [
       "<Figure size 288x216 with 1 Axes>"
      ]
     },
     "metadata": {
      "image/png": {
       "height": 209,
       "width": 253
      },
      "needs_background": "light"
     },
     "output_type": "display_data"
    }
   ],
   "source": [
    "temp = calib.calibrate_pvals(\n",
    "        path_ppd=path_ppd,\n",
    "        path_chain=path_chain,\n",
    "        path_dv=path_dv,\n",
    "        RUN_NAME=RUN_NAME,\n",
    "        RUN_NAME_PPD=RUN_NAME_PPD,\n",
    "        DATAFILE=DATAFILE,\n",
    "        fiducial_dv=fiducial_dv,\n",
    "        data_sets_d=['xip','xim', 'gammat','wtheta'],\n",
    "        data_sets_dprime=['xip','xim', 'gammat','wtheta'],\n",
    "        N=100, # 10^4 should give reasonable results, but for memory-sake can try smaller like 100\n",
    "        title=RUN_NAME_PPD,\n",
    "            pval_data=res[0]['full'],\n",
    "        use_pm=True,\n",
    "        clip_is=0.1,\n",
    "        ndraws=1,\n",
    "        chunks=200,\n",
    "        size_chunk=1000,\n",
    "    #     pvals_subsets=res[0],\n",
    "        #use_logit=(1e-6,1),\n",
    "        get_zbin_pair_pcal=False,\n",
    "        pvals_subsets=pvals_subsets,\n",
    "#         sample_from='fiducial_dv'  # Trying this (different from y1 notebook)\n",
    "        sample_from='best-fit'  # Trying this (different from y1 notebook)\n",
    "    )"
   ]
  },
  {
   "cell_type": "code",
   "execution_count": 60,
   "metadata": {},
   "outputs": [
    {
     "data": {
      "text/plain": [
       "[<matplotlib.lines.Line2D at 0x2aaad9180190>]"
      ]
     },
     "execution_count": 60,
     "metadata": {},
     "output_type": "execute_result"
    },
    {
     "data": {
      "image/png": "[encoded data removed]",
      "text/plain": [
       "<Figure size 432x288 with 1 Axes>"
      ]
     },
     "metadata": {
      "image/png": {
       "height": 248,
       "width": 385
      },
      "needs_background": "light"
     },
     "output_type": "display_data"
    }
   ],
   "source": [
    "plt.plot(chi2_data_d)"
   ]
  },
  {
   "cell_type": "code",
   "execution_count": 62,
   "metadata": {},
   "outputs": [
    {
     "data": {
      "image/png": "[encoded data removed]",
      "text/plain": [
       "<Figure size 432x288 with 1 Axes>"
      ]
     },
     "metadata": {
      "image/png": {
       "height": 248,
       "width": 385
      },
      "needs_background": "light"
     },
     "output_type": "display_data"
    }
   ],
   "source": [
    "plt.plot(chi2_rsd_d, lw=1);"
   ]
  },
  {
   "cell_type": "code",
   "execution_count": 58,
   "metadata": {},
   "outputs": [
    {
     "data": {
      "text/plain": [
       "[<matplotlib.lines.Line2D at 0x2aaacff448b0>]"
      ]
     },
     "execution_count": 58,
     "metadata": {},
     "output_type": "execute_result"
    },
    {
     "data": {
      "image/png": "[encoded data removed]",
      "text/plain": [
       "<Figure size 432x288 with 1 Axes>"
      ]
     },
     "metadata": {
      "image/png": {
       "height": 248,
       "width": 375
      },
      "needs_background": "light"
     },
     "output_type": "display_data"
    }
   ],
   "source": [
    "plt.plot(a[:,-1])"
   ]
  },
  {
   "cell_type": "code",
   "execution_count": 67,
   "metadata": {},
   "outputs": [],
   "source": [
    "w_is = calib._get_is_weight(chi2_rsd_d, chi2_data_d, a[:,-1])"
   ]
  },
  {
   "cell_type": "code",
   "execution_count": 87,
   "metadata": {},
   "outputs": [
    {
     "data": {
      "text/plain": [
       "(200000, 100)"
      ]
     },
     "execution_count": 87,
     "metadata": {},
     "output_type": "execute_result"
    }
   ],
   "source": [
    "w_is.shape"
   ]
  },
  {
   "cell_type": "code",
   "execution_count": 74,
   "metadata": {},
   "outputs": [],
   "source": [
    "w_is_2 = calib._get_is_weight(chi2_rsd_d, chi2_data_d, a[:,-1], clip=0.1)"
   ]
  },
  {
   "cell_type": "code",
   "execution_count": 71,
   "metadata": {},
   "outputs": [
    {
     "data": {
      "text/plain": [
       "[<matplotlib.lines.Line2D at 0x2aaacfb3d070>]"
      ]
     },
     "execution_count": 71,
     "metadata": {},
     "output_type": "execute_result"
    },
    {
     "data": {
      "image/png": "[encoded data removed]",
      "text/plain": [
       "<Figure size 432x288 with 1 Axes>"
      ]
     },
     "metadata": {
      "image/png": {
       "height": 248,
       "width": 382
      },
      "needs_background": "light"
     },
     "output_type": "display_data"
    }
   ],
   "source": [
    "plt.plot(w_is[:,0])"
   ]
  },
  {
   "cell_type": "code",
   "execution_count": 75,
   "metadata": {},
   "outputs": [
    {
     "data": {
      "text/plain": [
       "array([ 33.74505728, 162.85770116, 466.25963063,  95.4719349 ,\n",
       "       432.28556751,  44.9982672 , 153.79408518, 345.10551536,\n",
       "        58.36144681, 232.3169253 , 156.40338688, 435.39150286,\n",
       "       119.6674795 ,  17.75252443,  35.13960289,  60.10304476,\n",
       "        57.54824498,  49.91631561,  68.96288319,  48.28633664,\n",
       "        30.81083385, 157.22111696,  68.02342073, 300.60381479,\n",
       "        63.01155167, 176.08640023, 317.84912108,  76.85655266,\n",
       "        39.99357045,  48.08977968, 136.90828012, 185.16654374,\n",
       "       876.07384871,  13.98356407,  38.45580964,  95.32004409,\n",
       "        78.09985151, 208.37159499, 110.01625237,  68.24913706,\n",
       "        76.01537364,  65.49079172,  85.32254895,  89.14501263,\n",
       "       108.91209542,  53.96129874, 104.00512737, 136.23225191,\n",
       "       119.52371118,  40.8267398 , 108.96543696,  31.91295919,\n",
       "        48.59074844,  34.43110962, 248.76632331,  57.39600709,\n",
       "        27.12705414, 599.28654509,  64.28710616, 199.30029526,\n",
       "        23.31437928,  61.67978071,  78.47009544,  53.60965634,\n",
       "        41.47152513,  47.18679177,  43.92931982,  45.85016033,\n",
       "       135.58464174, 437.02242773, 136.73383727, 141.92896982,\n",
       "        50.08083282, 465.0639189 ,  45.06370614,  24.53507854,\n",
       "        50.5292836 ,  64.70849233, 180.01022804, 166.8908966 ,\n",
       "        60.42968418,  21.69541273, 138.39609152,  99.34588544,\n",
       "        42.21343999,  68.76331063, 493.63878412,  83.53422668,\n",
       "       143.28118441,  35.40842004,  67.83710447,  55.38295658,\n",
       "        75.30983287,  80.49515645,  36.2539907 ,  41.2424043 ,\n",
       "        27.31379274, 127.1524558 ,  16.25988523, 514.81597127])"
      ]
     },
     "execution_count": 75,
     "metadata": {},
     "output_type": "execute_result"
    }
   ],
   "source": [
    "np.sum(w_is_2, axis=0)**2/np.sum(w_is_2**2, axis=0)"
   ]
  },
  {
   "cell_type": "code",
   "execution_count": 33,
   "metadata": {
    "collapsed": true,
    "jupyter": {
     "outputs_hidden": true
    },
    "tags": []
   },
   "outputs": [
    {
     "data": {
      "application/vnd.jupyter.widget-view+json": {
       "model_id": "6d9c47f9d15f44c4a79ce830d272639d",
       "version_major": 2,
       "version_minor": 0
      },
      "text/plain": [
       "HBox(children=(FloatProgress(value=0.0, max=10.0), HTML(value='')))"
      ]
     },
     "metadata": {},
     "output_type": "display_data"
    },
    {
     "name": "stdout",
     "output_type": "stream",
     "text": [
      "\n",
      "###############################\n",
      "## Loading chains #############\n",
      "###############################\n"
     ]
    },
    {
     "data": {
      "application/vnd.jupyter.widget-view+json": {
       "model_id": "e9fb3218d19645029aa9049afb134ef1",
       "version_major": 2,
       "version_minor": 0
      },
      "text/plain": [
       "HBox(children=(FloatProgress(value=0.0, max=200.0), HTML(value='')))"
      ]
     },
     "metadata": {},
     "output_type": "display_data"
    },
    {
     "name": "stdout",
     "output_type": "stream",
     "text": [
      "Loading list chain at\n",
      "../fiducial_3x2_goodnessoffit/ppd_chain_3x2lcdm_0321_boosted_fiducial_3x2_goodnessoffit_0.txt\n",
      "- using params\n",
      "['cosmological_parameters--omega_m', 'cosmological_parameters--h0', 'cosmological_parameters--omega_b', 'cosmological_parameters--n_s', 'cosmological_parameters--a_s', 'cosmological_parameters--omnuh2', 'cosmological_parameters--w', 'cosmological_parameters--massive_nu', 'cosmological_parameters--massless_nu', 'cosmological_parameters--omega_k', 'cosmological_parameters--tau', 'shear_calibration_parameters--m1', 'shear_calibration_parameters--m2', 'shear_calibration_parameters--m3', 'shear_calibration_parameters--m4', 'wl_photoz_errors--bias_1', 'wl_photoz_errors--bias_2', 'wl_photoz_errors--bias_3', 'wl_photoz_errors--bias_4', 'lens_photoz_errors--bias_1', 'lens_photoz_errors--bias_2', 'lens_photoz_errors--bias_3', 'lens_photoz_errors--bias_4', 'lens_photoz_errors--bias_5', 'lens_photoz_errors--width_1', 'lens_photoz_errors--width_2', 'lens_photoz_errors--width_3', 'lens_photoz_errors--width_4', 'lens_photoz_errors--width_5', 'bias_lens--b1', 'bias_lens--b2', 'bias_lens--b3', 'bias_lens--b4', 'bias_lens--b5', 'mag_alpha_lens--alpha_1', 'mag_alpha_lens--alpha_2', 'mag_alpha_lens--alpha_3', 'mag_alpha_lens--alpha_4', 'mag_alpha_lens--alpha_5', 'intrinsic_alignment_parameters--z_piv', 'intrinsic_alignment_parameters--a1', 'intrinsic_alignment_parameters--a2', 'intrinsic_alignment_parameters--alpha1', 'intrinsic_alignment_parameters--alpha2', 'intrinsic_alignment_parameters--bias_ta', 'COSMOLOGICAL_PARAMETERS--SIGMA_8', 'COSMOLOGICAL_PARAMETERS--SIGMA_12', 'DATA_VECTOR--2PT_CHI2', 'DATA_VECTOR--2PT_D_CHI2', 'DATA_VECTOR--2PT_DPRIME_CHI2', 'DATA_VECTOR--2PT_XIP_CHI2', 'DATA_VECTOR--2PT_XIM_CHI2', 'DATA_VECTOR--2PT_1X2_CHI2', 'DATA_VECTOR--2PT_GAMMAT_CHI2', 'DATA_VECTOR--2PT_WTHETA_CHI2', 'DATA_VECTOR--2PT_2X2_CHI2', 'PPD--CHI2_DPRIME_DATA', 'PPD--CHI2_DPRIME_REALIZATION', 'PPD--CHI2_D_DATA', 'PPD--CHI2_XIP_DATA', 'PPD--CHI2_XIP_REALIZATION', 'PPD--CHI2_XIM_DATA', 'PPD--CHI2_XIM_REALIZATION', 'PPD--CHI2_1X2_DATA', 'PPD--CHI2_1X2_REALIZATION', 'PPD--CHI2_GAMMAT_DATA', 'PPD--CHI2_GAMMAT_REALIZATION', 'PPD--CHI2_WTHETA_DATA', 'PPD--CHI2_WTHETA_REALIZATION', 'PPD--CHI2_2X2_DATA', 'PPD--CHI2_2X2_REALIZATION', 'PPD--CHI2_DPRIME_COMP_AVG', 'PPD--CHI2_XIP_COMP_AVG', 'PPD--CHI2_XIM_COMP_AVG', 'PPD--CHI2_1X2_COMP_AVG', 'PPD--CHI2_GAMMAT_COMP_AVG', 'PPD--CHI2_WTHETA_COMP_AVG', 'PPD--CHI2_2X2_COMP_AVG', 'prior', 'post']\n",
      "- using nsample =  1000\n",
      "\n",
      "Loading chain at\n",
      "../../trimmed_chains_test/chain_3x2lcdm_0321_boosted.txt\n",
      "Sampler not found -- non-standard cosmosis output\n",
      "Using 200 chunks of size [1000, 1000, 1000, 1000, 1000, 1000, 1000, 1000, 1000, 1000, 1000, 1000, 1000, 1000, 1000, 1000, 1000, 1000, 1000, 1000, 1000, 1000, 1000, 1000, 1000, 1000, 1000, 1000, 1000, 1000, 1000, 1000, 1000, 1000, 1000, 1000, 1000, 1000, 1000, 1000, 1000, 1000, 1000, 1000, 1000, 1000, 1000, 1000, 1000, 1000, 1000, 1000, 1000, 1000, 1000, 1000, 1000, 1000, 1000, 1000, 1000, 1000, 1000, 1000, 1000, 1000, 1000, 1000, 1000, 1000, 1000, 1000, 1000, 1000, 1000, 1000, 1000, 1000, 1000, 1000, 1000, 1000, 1000, 1000, 1000, 1000, 1000, 1000, 1000, 1000, 1000, 1000, 1000, 1000, 1000, 1000, 1000, 1000, 1000, 1000, 1000, 1000, 1000, 1000, 1000, 1000, 1000, 1000, 1000, 1000, 1000, 1000, 1000, 1000, 1000, 1000, 1000, 1000, 1000, 1000, 1000, 1000, 1000, 1000, 1000, 1000, 1000, 1000, 1000, 1000, 1000, 1000, 1000, 1000, 1000, 1000, 1000, 1000, 1000, 1000, 1000, 1000, 1000, 1000, 1000, 1000, 1000, 1000, 1000, 1000, 1000, 1000, 1000, 1000, 1000, 1000, 1000, 1000, 1000, 1000, 1000, 1000, 1000, 1000, 1000, 1000, 1000, 1000, 1000, 1000, 1000, 1000, 1000, 1000, 1000, 1000, 1000, 1000, 1000, 1000, 1000, 1000, 1000, 1000, 1000, 1000, 1000, 1000, 1000, 1000, 1000, 1000, 1000, 1000, 1000, 1000, 1000, 1000, 1000, 1000] (1000) for a total of 200000 posterior samples\n",
      "\n",
      "###############################\n",
      "## Loading scale/bin cuts #####\n",
      "###############################\n",
      "Found observables in data_file ['xip', 'xim', 'gammat', 'wtheta']\n",
      "Reading options for likelihood module:  2pt_d_like\n",
      "Found scale cuts for  {'xip': [(1, 1), (1, 2), (1, 3), (1, 4), (2, 2), (2, 3), (2, 4), (3, 3), (3, 4), (4, 4)], 'xim': [(1, 1), (1, 2), (1, 3), (1, 4), (2, 2), (2, 3), (2, 4), (3, 3), (3, 4), (4, 4)], 'gammat': [(1, 1), (1, 2), (1, 3), (1, 4), (2, 1), (2, 2), (2, 3), (2, 4), (3, 1), (3, 2), (3, 3), (3, 4), (4, 1), (4, 2), (4, 3), (4, 4), (5, 1), (5, 2), (5, 3), (5, 4)], 'wtheta': [(1, 1), (2, 2), (3, 3), (4, 4), (5, 5)]}\n",
      "Getting indices for xip\n",
      "Getting indices for xim\n",
      "Getting indices for gammat\n",
      "Getting indices for wtheta\n",
      "\n",
      "Found observables in data_file ['xip', 'xim', 'gammat', 'wtheta']\n",
      "Reading options for likelihood module:  2pt_dprime_like\n",
      "Found scale cuts for  {'xip': [(1, 1), (1, 2), (1, 3), (1, 4), (2, 2), (2, 3), (2, 4), (3, 3), (3, 4), (4, 4)], 'xim': [(1, 1), (1, 2), (1, 3), (1, 4), (2, 2), (2, 3), (2, 4), (3, 3), (3, 4), (4, 4)], 'gammat': [(1, 1), (1, 2), (1, 3), (1, 4), (2, 1), (2, 2), (2, 3), (2, 4), (3, 1), (3, 2), (3, 3), (3, 4), (4, 1), (4, 2), (4, 3), (4, 4), (5, 1), (5, 2), (5, 3), (5, 4)], 'wtheta': [(1, 1), (2, 2), (3, 3), (4, 4), (5, 5)]}\n",
      "Getting indices for xip\n",
      "Getting indices for xim\n",
      "Getting indices for gammat\n",
      "Getting indices for wtheta\n",
      "\n",
      "Using subsets ['1x2', '2x2', 'gammat', 'wtheta', 'xim', 'xip']\n",
      "\n",
      "Using same indices for d and dprime -> conditioning turned off\n",
      "\n",
      "###############################\n",
      "## Loading realizations #######\n",
      "###############################\n"
     ]
    },
    {
     "data": {
      "application/vnd.jupyter.widget-view+json": {
       "model_id": "fb4a755ee82f403d83ec8fa8df91d397",
       "version_major": 2,
       "version_minor": 0
      },
      "text/plain": [
       "HBox(children=(FloatProgress(value=0.0, max=200.0), HTML(value='')))"
      ]
     },
     "metadata": {},
     "output_type": "display_data"
    },
    {
     "name": "stdout",
     "output_type": "stream",
     "text": [
      "Loading realizations from  ../fiducial_3x2_goodnessoffit/ppd_3x2lcdm_0321_boosted_fiducial_3x2_goodnessoffit_0_dprime_theory.npy\n",
      " - data vector size = 529\n",
      " - number of realizations = 1000\n",
      "Loading realizations from  ../fiducial_3x2_goodnessoffit/ppd_3x2lcdm_0321_boosted_fiducial_3x2_goodnessoffit_0_dprime_real.npy\n",
      " - data vector size = 529\n",
      " - number of realizations = 1000\n",
      "Loading realizations from  ../fiducial_3x2_goodnessoffit/ppd_3x2lcdm_0321_boosted_fiducial_3x2_goodnessoffit_0_d_theory.npy\n",
      " - data vector size = 529\n",
      " - number of realizations = 1000\n",
      "\n",
      "\n",
      "###############################\n",
      "## Sampling data ##############\n",
      "###############################\n",
      "Sampling at best-fit with params\n",
      "cosmological_parameters--omega_m = 0.329\n",
      "cosmological_parameters--h0 = 0.662\n",
      "cosmological_parameters--omega_b = 0.0363\n",
      "cosmological_parameters--n_s = 0.935\n",
      "cosmological_parameters--a_s = 1.9e-09\n",
      "cosmological_parameters--omnuh2 = 0.00444\n",
      "shear_calibration_parameters--m1 = -0.00537\n",
      "shear_calibration_parameters--m2 = -0.0234\n",
      "shear_calibration_parameters--m3 = -0.0199\n",
      "shear_calibration_parameters--m4 = -0.0338\n",
      "wl_photoz_errors--bias_1 = -0.00446\n",
      "wl_photoz_errors--bias_2 = -0.024\n",
      "wl_photoz_errors--bias_3 = -0.0147\n",
      "wl_photoz_errors--bias_4 = -0.00838\n",
      "lens_photoz_errors--bias_1 = 0.0062\n",
      "lens_photoz_errors--bias_2 = 0.00244\n",
      "lens_photoz_errors--bias_3 = 0.00715\n",
      "lens_photoz_errors--bias_4 = 0.00413\n",
      "lens_photoz_errors--bias_5 = -0.00513\n",
      "lens_photoz_errors--width_5 = 1.21\n",
      "bias_lens--b1        = 1.71\n",
      "bias_lens--b2        = 1.77\n",
      "bias_lens--b3        = 1.87\n",
      "bias_lens--b4        = 2.09\n",
      "bias_lens--b5        = 2.28\n",
      "intrinsic_alignment_parameters--a1 = 0.561\n",
      "intrinsic_alignment_parameters--a2 = -0.0902\n",
      "intrinsic_alignment_parameters--alpha1 = 4.81\n",
      "intrinsic_alignment_parameters--alpha2 = 1.21\n",
      "intrinsic_alignment_parameters--bias_ta = 0.146\n",
      "\n",
      "###############################\n",
      "## Compute chi2 for d #########\n",
      "###############################\n"
     ]
    },
    {
     "data": {
      "application/vnd.jupyter.widget-view+json": {
       "model_id": "a6196a09b4ee441394a895a77dc428f0",
       "version_major": 2,
       "version_minor": 0
      },
      "text/plain": [
       "HBox(children=(FloatProgress(value=0.0, max=200.0), HTML(value='')))"
      ]
     },
     "metadata": {},
     "output_type": "display_data"
    },
    {
     "name": "stdout",
     "output_type": "stream",
     "text": [
      "\n",
      "\n",
      "###############################\n",
      "## Compute IS weights for d ###\n",
      "###############################\n"
     ]
    },
    {
     "data": {
      "application/vnd.jupyter.widget-view+json": {
       "model_id": "18a897b9564a4789a0c9e80994355b3b",
       "version_major": 2,
       "version_minor": 0
      },
      "text/plain": [
       "HBox(children=(FloatProgress(value=0.0, max=200.0), HTML(value='')))"
      ]
     },
     "metadata": {},
     "output_type": "display_data"
    },
    {
     "name": "stdout",
     "output_type": "stream",
     "text": [
      "\n",
      "(200000, 1000)\n",
      "Neff = 21.0 (median), 16th=11.1, 84th=44.3 (0 were nan's)\n",
      "\n",
      "###############################\n",
      "## Computing p-values #########\n",
      "###############################\n"
     ]
    },
    {
     "data": {
      "application/vnd.jupyter.widget-view+json": {
       "model_id": "40dca0f7786a44848a0e131293887de9",
       "version_major": 2,
       "version_minor": 0
      },
      "text/plain": [
       "HBox(children=(FloatProgress(value=1.0, bar_style='info', max=1.0), HTML(value='')))"
      ]
     },
     "metadata": {},
     "output_type": "display_data"
    },
    {
     "name": "stdout",
     "output_type": "stream",
     "text": [
      "\n",
      "1x2\n",
      "Appending pval for 1x2 0.23520132472204613\n",
      "2x2\n",
      "Appending pval for 2x2 0.00018780743109626037\n",
      "gammat\n",
      "Appending pval for gammat 0.0012004674632756208\n",
      "wtheta\n",
      "Appending pval for wtheta 0.044442849463039676\n",
      "xim\n",
      "Appending pval for xim 0.40887941500643915\n",
      "xip\n",
      "Appending pval for xip 0.24848476678083134\n",
      "\n",
      "###############################\n",
      "## Calibrated p-values ########\n",
      "###############################\n",
      "     - Full         calibrated pval=0.0760 (raw pval=0.0013)\n",
      "     - 1x2          calibrated pval=0.3220 (raw pval=0.2352)\n",
      "     - 2x2          calibrated pval=0.0470 (raw pval=0.0002)\n",
      "     - gammat       calibrated pval=0.0900 (raw pval=0.0012)\n",
      "     - wtheta       calibrated pval=0.1420 (raw pval=0.0444)\n",
      "     - xim          calibrated pval=0.5100 (raw pval=0.4089)\n",
      "     - xip          calibrated pval=0.3000 (raw pval=0.2485)\n",
      "\n",
      "###############################\n",
      "## Plotting ###################\n",
      "###############################\n",
      "\n",
      "###############################\n",
      "## Loading chains #############\n",
      "###############################\n"
     ]
    },
    {
     "data": {
      "application/vnd.jupyter.widget-view+json": {
       "model_id": "9c5e5768c5ae4a1ab9cd87ec8995ae7d",
       "version_major": 2,
       "version_minor": 0
      },
      "text/plain": [
       "HBox(children=(FloatProgress(value=0.0, max=200.0), HTML(value='')))"
      ]
     },
     "metadata": {},
     "output_type": "display_data"
    },
    {
     "name": "stdout",
     "output_type": "stream",
     "text": [
      "Loading list chain at\n",
      "../fiducial_3x2_goodnessoffit/ppd_chain_3x2lcdm_0321_boosted_fiducial_3x2_goodnessoffit_0.txt\n",
      "- using params\n",
      "['cosmological_parameters--omega_m', 'cosmological_parameters--h0', 'cosmological_parameters--omega_b', 'cosmological_parameters--n_s', 'cosmological_parameters--a_s', 'cosmological_parameters--omnuh2', 'cosmological_parameters--w', 'cosmological_parameters--massive_nu', 'cosmological_parameters--massless_nu', 'cosmological_parameters--omega_k', 'cosmological_parameters--tau', 'shear_calibration_parameters--m1', 'shear_calibration_parameters--m2', 'shear_calibration_parameters--m3', 'shear_calibration_parameters--m4', 'wl_photoz_errors--bias_1', 'wl_photoz_errors--bias_2', 'wl_photoz_errors--bias_3', 'wl_photoz_errors--bias_4', 'lens_photoz_errors--bias_1', 'lens_photoz_errors--bias_2', 'lens_photoz_errors--bias_3', 'lens_photoz_errors--bias_4', 'lens_photoz_errors--bias_5', 'lens_photoz_errors--width_1', 'lens_photoz_errors--width_2', 'lens_photoz_errors--width_3', 'lens_photoz_errors--width_4', 'lens_photoz_errors--width_5', 'bias_lens--b1', 'bias_lens--b2', 'bias_lens--b3', 'bias_lens--b4', 'bias_lens--b5', 'mag_alpha_lens--alpha_1', 'mag_alpha_lens--alpha_2', 'mag_alpha_lens--alpha_3', 'mag_alpha_lens--alpha_4', 'mag_alpha_lens--alpha_5', 'intrinsic_alignment_parameters--z_piv', 'intrinsic_alignment_parameters--a1', 'intrinsic_alignment_parameters--a2', 'intrinsic_alignment_parameters--alpha1', 'intrinsic_alignment_parameters--alpha2', 'intrinsic_alignment_parameters--bias_ta', 'COSMOLOGICAL_PARAMETERS--SIGMA_8', 'COSMOLOGICAL_PARAMETERS--SIGMA_12', 'DATA_VECTOR--2PT_CHI2', 'DATA_VECTOR--2PT_D_CHI2', 'DATA_VECTOR--2PT_DPRIME_CHI2', 'DATA_VECTOR--2PT_XIP_CHI2', 'DATA_VECTOR--2PT_XIM_CHI2', 'DATA_VECTOR--2PT_1X2_CHI2', 'DATA_VECTOR--2PT_GAMMAT_CHI2', 'DATA_VECTOR--2PT_WTHETA_CHI2', 'DATA_VECTOR--2PT_2X2_CHI2', 'PPD--CHI2_DPRIME_DATA', 'PPD--CHI2_DPRIME_REALIZATION', 'PPD--CHI2_D_DATA', 'PPD--CHI2_XIP_DATA', 'PPD--CHI2_XIP_REALIZATION', 'PPD--CHI2_XIM_DATA', 'PPD--CHI2_XIM_REALIZATION', 'PPD--CHI2_1X2_DATA', 'PPD--CHI2_1X2_REALIZATION', 'PPD--CHI2_GAMMAT_DATA', 'PPD--CHI2_GAMMAT_REALIZATION', 'PPD--CHI2_WTHETA_DATA', 'PPD--CHI2_WTHETA_REALIZATION', 'PPD--CHI2_2X2_DATA', 'PPD--CHI2_2X2_REALIZATION', 'PPD--CHI2_DPRIME_COMP_AVG', 'PPD--CHI2_XIP_COMP_AVG', 'PPD--CHI2_XIM_COMP_AVG', 'PPD--CHI2_1X2_COMP_AVG', 'PPD--CHI2_GAMMAT_COMP_AVG', 'PPD--CHI2_WTHETA_COMP_AVG', 'PPD--CHI2_2X2_COMP_AVG', 'prior', 'post']\n",
      "- using nsample =  1000\n",
      "\n",
      "Loading chain at\n",
      "../../trimmed_chains_test/chain_3x2lcdm_0321_boosted.txt\n",
      "Sampler not found -- non-standard cosmosis output\n",
      "Using 200 chunks of size [1000, 1000, 1000, 1000, 1000, 1000, 1000, 1000, 1000, 1000, 1000, 1000, 1000, 1000, 1000, 1000, 1000, 1000, 1000, 1000, 1000, 1000, 1000, 1000, 1000, 1000, 1000, 1000, 1000, 1000, 1000, 1000, 1000, 1000, 1000, 1000, 1000, 1000, 1000, 1000, 1000, 1000, 1000, 1000, 1000, 1000, 1000, 1000, 1000, 1000, 1000, 1000, 1000, 1000, 1000, 1000, 1000, 1000, 1000, 1000, 1000, 1000, 1000, 1000, 1000, 1000, 1000, 1000, 1000, 1000, 1000, 1000, 1000, 1000, 1000, 1000, 1000, 1000, 1000, 1000, 1000, 1000, 1000, 1000, 1000, 1000, 1000, 1000, 1000, 1000, 1000, 1000, 1000, 1000, 1000, 1000, 1000, 1000, 1000, 1000, 1000, 1000, 1000, 1000, 1000, 1000, 1000, 1000, 1000, 1000, 1000, 1000, 1000, 1000, 1000, 1000, 1000, 1000, 1000, 1000, 1000, 1000, 1000, 1000, 1000, 1000, 1000, 1000, 1000, 1000, 1000, 1000, 1000, 1000, 1000, 1000, 1000, 1000, 1000, 1000, 1000, 1000, 1000, 1000, 1000, 1000, 1000, 1000, 1000, 1000, 1000, 1000, 1000, 1000, 1000, 1000, 1000, 1000, 1000, 1000, 1000, 1000, 1000, 1000, 1000, 1000, 1000, 1000, 1000, 1000, 1000, 1000, 1000, 1000, 1000, 1000, 1000, 1000, 1000, 1000, 1000, 1000, 1000, 1000, 1000, 1000, 1000, 1000, 1000, 1000, 1000, 1000, 1000, 1000, 1000, 1000, 1000, 1000, 1000, 1000] (1000) for a total of 200000 posterior samples\n",
      "\n",
      "###############################\n",
      "## Loading scale/bin cuts #####\n",
      "###############################\n",
      "Found observables in data_file ['xip', 'xim', 'gammat', 'wtheta']\n",
      "Reading options for likelihood module:  2pt_d_like\n",
      "Found scale cuts for  {'xip': [(1, 1), (1, 2), (1, 3), (1, 4), (2, 2), (2, 3), (2, 4), (3, 3), (3, 4), (4, 4)], 'xim': [(1, 1), (1, 2), (1, 3), (1, 4), (2, 2), (2, 3), (2, 4), (3, 3), (3, 4), (4, 4)], 'gammat': [(1, 1), (1, 2), (1, 3), (1, 4), (2, 1), (2, 2), (2, 3), (2, 4), (3, 1), (3, 2), (3, 3), (3, 4), (4, 1), (4, 2), (4, 3), (4, 4), (5, 1), (5, 2), (5, 3), (5, 4)], 'wtheta': [(1, 1), (2, 2), (3, 3), (4, 4), (5, 5)]}\n",
      "Getting indices for xip\n",
      "Getting indices for xim\n",
      "Getting indices for gammat\n",
      "Getting indices for wtheta\n",
      "\n",
      "Found observables in data_file ['xip', 'xim', 'gammat', 'wtheta']\n",
      "Reading options for likelihood module:  2pt_dprime_like\n",
      "Found scale cuts for  {'xip': [(1, 1), (1, 2), (1, 3), (1, 4), (2, 2), (2, 3), (2, 4), (3, 3), (3, 4), (4, 4)], 'xim': [(1, 1), (1, 2), (1, 3), (1, 4), (2, 2), (2, 3), (2, 4), (3, 3), (3, 4), (4, 4)], 'gammat': [(1, 1), (1, 2), (1, 3), (1, 4), (2, 1), (2, 2), (2, 3), (2, 4), (3, 1), (3, 2), (3, 3), (3, 4), (4, 1), (4, 2), (4, 3), (4, 4), (5, 1), (5, 2), (5, 3), (5, 4)], 'wtheta': [(1, 1), (2, 2), (3, 3), (4, 4), (5, 5)]}\n",
      "Getting indices for xip\n",
      "Getting indices for xim\n",
      "Getting indices for gammat\n",
      "Getting indices for wtheta\n",
      "\n",
      "Using subsets ['1x2', '2x2', 'gammat', 'wtheta', 'xim', 'xip']\n",
      "\n",
      "Using same indices for d and dprime -> conditioning turned off\n",
      "\n",
      "###############################\n",
      "## Loading realizations #######\n",
      "###############################\n"
     ]
    },
    {
     "data": {
      "application/vnd.jupyter.widget-view+json": {
       "model_id": "ef01435f48ff45689b35390355cc4f6c",
       "version_major": 2,
       "version_minor": 0
      },
      "text/plain": [
       "HBox(children=(FloatProgress(value=0.0, max=200.0), HTML(value='')))"
      ]
     },
     "metadata": {},
     "output_type": "display_data"
    },
    {
     "name": "stdout",
     "output_type": "stream",
     "text": [
      "Loading realizations from  ../fiducial_3x2_goodnessoffit/ppd_3x2lcdm_0321_boosted_fiducial_3x2_goodnessoffit_0_dprime_theory.npy\n",
      " - data vector size = 529\n",
      " - number of realizations = 1000\n",
      "Loading realizations from  ../fiducial_3x2_goodnessoffit/ppd_3x2lcdm_0321_boosted_fiducial_3x2_goodnessoffit_0_dprime_real.npy\n",
      " - data vector size = 529\n",
      " - number of realizations = 1000\n",
      "Loading realizations from  ../fiducial_3x2_goodnessoffit/ppd_3x2lcdm_0321_boosted_fiducial_3x2_goodnessoffit_0_d_theory.npy\n",
      " - data vector size = 529\n",
      " - number of realizations = 1000\n",
      "\n",
      "\n",
      "###############################\n",
      "## Sampling data ##############\n",
      "###############################\n",
      "Sampling at best-fit with params\n",
      "cosmological_parameters--omega_m = 0.329\n",
      "cosmological_parameters--h0 = 0.662\n",
      "cosmological_parameters--omega_b = 0.0363\n",
      "cosmological_parameters--n_s = 0.935\n",
      "cosmological_parameters--a_s = 1.9e-09\n",
      "cosmological_parameters--omnuh2 = 0.00444\n",
      "shear_calibration_parameters--m1 = -0.00537\n",
      "shear_calibration_parameters--m2 = -0.0234\n",
      "shear_calibration_parameters--m3 = -0.0199\n",
      "shear_calibration_parameters--m4 = -0.0338\n",
      "wl_photoz_errors--bias_1 = -0.00446\n",
      "wl_photoz_errors--bias_2 = -0.024\n",
      "wl_photoz_errors--bias_3 = -0.0147\n",
      "wl_photoz_errors--bias_4 = -0.00838\n",
      "lens_photoz_errors--bias_1 = 0.0062\n",
      "lens_photoz_errors--bias_2 = 0.00244\n",
      "lens_photoz_errors--bias_3 = 0.00715\n",
      "lens_photoz_errors--bias_4 = 0.00413\n",
      "lens_photoz_errors--bias_5 = -0.00513\n",
      "lens_photoz_errors--width_5 = 1.21\n",
      "bias_lens--b1        = 1.71\n",
      "bias_lens--b2        = 1.77\n",
      "bias_lens--b3        = 1.87\n",
      "bias_lens--b4        = 2.09\n",
      "bias_lens--b5        = 2.28\n",
      "intrinsic_alignment_parameters--a1 = 0.561\n",
      "intrinsic_alignment_parameters--a2 = -0.0902\n",
      "intrinsic_alignment_parameters--alpha1 = 4.81\n",
      "intrinsic_alignment_parameters--alpha2 = 1.21\n",
      "intrinsic_alignment_parameters--bias_ta = 0.146\n",
      "\n",
      "###############################\n",
      "## Compute chi2 for d #########\n",
      "###############################\n"
     ]
    },
    {
     "data": {
      "application/vnd.jupyter.widget-view+json": {
       "model_id": "29f2dda9be3b4f4c9337b2f306de9c79",
       "version_major": 2,
       "version_minor": 0
      },
      "text/plain": [
       "HBox(children=(FloatProgress(value=0.0, max=200.0), HTML(value='')))"
      ]
     },
     "metadata": {},
     "output_type": "display_data"
    },
    {
     "name": "stdout",
     "output_type": "stream",
     "text": [
      "\n",
      "\n",
      "###############################\n",
      "## Compute IS weights for d ###\n",
      "###############################\n"
     ]
    },
    {
     "data": {
      "application/vnd.jupyter.widget-view+json": {
       "model_id": "2283eaa92ea440dcb3b5f5c6b409f941",
       "version_major": 2,
       "version_minor": 0
      },
      "text/plain": [
       "HBox(children=(FloatProgress(value=0.0, max=200.0), HTML(value='')))"
      ]
     },
     "metadata": {},
     "output_type": "display_data"
    },
    {
     "name": "stdout",
     "output_type": "stream",
     "text": [
      "\n",
      "(200000, 1000)\n",
      "Neff = 20.5 (median), 16th=10.5, 84th=42.1 (0 were nan's)\n",
      "\n",
      "###############################\n",
      "## Computing p-values #########\n",
      "###############################\n"
     ]
    },
    {
     "data": {
      "application/vnd.jupyter.widget-view+json": {
       "model_id": "c7816a59a687401385747097df686fb0",
       "version_major": 2,
       "version_minor": 0
      },
      "text/plain": [
       "HBox(children=(FloatProgress(value=1.0, bar_style='info', max=1.0), HTML(value='')))"
      ]
     },
     "metadata": {},
     "output_type": "display_data"
    },
    {
     "name": "stdout",
     "output_type": "stream",
     "text": [
      "\n",
      "1x2\n",
      "2x2\n",
      "gammat\n",
      "wtheta\n",
      "xim\n",
      "xip\n",
      "\n",
      "###############################\n",
      "## Calibrated p-values ########\n",
      "###############################\n",
      "     - Full         calibrated pval=0.0950 (raw pval=0.0013)\n",
      "     - 1x2          calibrated pval=0.3160 (raw pval=0.2352)\n",
      "     - 2x2          calibrated pval=0.0560 (raw pval=0.0002)\n",
      "     - gammat       calibrated pval=0.1000 (raw pval=0.0012)\n",
      "     - wtheta       calibrated pval=0.1400 (raw pval=0.0444)\n",
      "     - xim          calibrated pval=0.5140 (raw pval=0.4089)\n",
      "     - xip          calibrated pval=0.3160 (raw pval=0.2485)\n",
      "\n",
      "###############################\n",
      "## Plotting ###################\n",
      "###############################\n",
      "\n",
      "###############################\n",
      "## Loading chains #############\n",
      "###############################\n"
     ]
    },
    {
     "data": {
      "application/vnd.jupyter.widget-view+json": {
       "model_id": "98da93fffcc748e9b34a7ef3142ff2f4",
       "version_major": 2,
       "version_minor": 0
      },
      "text/plain": [
       "HBox(children=(FloatProgress(value=0.0, max=200.0), HTML(value='')))"
      ]
     },
     "metadata": {},
     "output_type": "display_data"
    },
    {
     "name": "stdout",
     "output_type": "stream",
     "text": [
      "Loading list chain at\n",
      "../fiducial_3x2_goodnessoffit/ppd_chain_3x2lcdm_0321_boosted_fiducial_3x2_goodnessoffit_0.txt\n",
      "- using params\n",
      "['cosmological_parameters--omega_m', 'cosmological_parameters--h0', 'cosmological_parameters--omega_b', 'cosmological_parameters--n_s', 'cosmological_parameters--a_s', 'cosmological_parameters--omnuh2', 'cosmological_parameters--w', 'cosmological_parameters--massive_nu', 'cosmological_parameters--massless_nu', 'cosmological_parameters--omega_k', 'cosmological_parameters--tau', 'shear_calibration_parameters--m1', 'shear_calibration_parameters--m2', 'shear_calibration_parameters--m3', 'shear_calibration_parameters--m4', 'wl_photoz_errors--bias_1', 'wl_photoz_errors--bias_2', 'wl_photoz_errors--bias_3', 'wl_photoz_errors--bias_4', 'lens_photoz_errors--bias_1', 'lens_photoz_errors--bias_2', 'lens_photoz_errors--bias_3', 'lens_photoz_errors--bias_4', 'lens_photoz_errors--bias_5', 'lens_photoz_errors--width_1', 'lens_photoz_errors--width_2', 'lens_photoz_errors--width_3', 'lens_photoz_errors--width_4', 'lens_photoz_errors--width_5', 'bias_lens--b1', 'bias_lens--b2', 'bias_lens--b3', 'bias_lens--b4', 'bias_lens--b5', 'mag_alpha_lens--alpha_1', 'mag_alpha_lens--alpha_2', 'mag_alpha_lens--alpha_3', 'mag_alpha_lens--alpha_4', 'mag_alpha_lens--alpha_5', 'intrinsic_alignment_parameters--z_piv', 'intrinsic_alignment_parameters--a1', 'intrinsic_alignment_parameters--a2', 'intrinsic_alignment_parameters--alpha1', 'intrinsic_alignment_parameters--alpha2', 'intrinsic_alignment_parameters--bias_ta', 'COSMOLOGICAL_PARAMETERS--SIGMA_8', 'COSMOLOGICAL_PARAMETERS--SIGMA_12', 'DATA_VECTOR--2PT_CHI2', 'DATA_VECTOR--2PT_D_CHI2', 'DATA_VECTOR--2PT_DPRIME_CHI2', 'DATA_VECTOR--2PT_XIP_CHI2', 'DATA_VECTOR--2PT_XIM_CHI2', 'DATA_VECTOR--2PT_1X2_CHI2', 'DATA_VECTOR--2PT_GAMMAT_CHI2', 'DATA_VECTOR--2PT_WTHETA_CHI2', 'DATA_VECTOR--2PT_2X2_CHI2', 'PPD--CHI2_DPRIME_DATA', 'PPD--CHI2_DPRIME_REALIZATION', 'PPD--CHI2_D_DATA', 'PPD--CHI2_XIP_DATA', 'PPD--CHI2_XIP_REALIZATION', 'PPD--CHI2_XIM_DATA', 'PPD--CHI2_XIM_REALIZATION', 'PPD--CHI2_1X2_DATA', 'PPD--CHI2_1X2_REALIZATION', 'PPD--CHI2_GAMMAT_DATA', 'PPD--CHI2_GAMMAT_REALIZATION', 'PPD--CHI2_WTHETA_DATA', 'PPD--CHI2_WTHETA_REALIZATION', 'PPD--CHI2_2X2_DATA', 'PPD--CHI2_2X2_REALIZATION', 'PPD--CHI2_DPRIME_COMP_AVG', 'PPD--CHI2_XIP_COMP_AVG', 'PPD--CHI2_XIM_COMP_AVG', 'PPD--CHI2_1X2_COMP_AVG', 'PPD--CHI2_GAMMAT_COMP_AVG', 'PPD--CHI2_WTHETA_COMP_AVG', 'PPD--CHI2_2X2_COMP_AVG', 'prior', 'post']\n",
      "- using nsample =  1000\n",
      "\n",
      "Loading chain at\n",
      "../../trimmed_chains_test/chain_3x2lcdm_0321_boosted.txt\n",
      "Sampler not found -- non-standard cosmosis output\n",
      "Using 200 chunks of size [1000, 1000, 1000, 1000, 1000, 1000, 1000, 1000, 1000, 1000, 1000, 1000, 1000, 1000, 1000, 1000, 1000, 1000, 1000, 1000, 1000, 1000, 1000, 1000, 1000, 1000, 1000, 1000, 1000, 1000, 1000, 1000, 1000, 1000, 1000, 1000, 1000, 1000, 1000, 1000, 1000, 1000, 1000, 1000, 1000, 1000, 1000, 1000, 1000, 1000, 1000, 1000, 1000, 1000, 1000, 1000, 1000, 1000, 1000, 1000, 1000, 1000, 1000, 1000, 1000, 1000, 1000, 1000, 1000, 1000, 1000, 1000, 1000, 1000, 1000, 1000, 1000, 1000, 1000, 1000, 1000, 1000, 1000, 1000, 1000, 1000, 1000, 1000, 1000, 1000, 1000, 1000, 1000, 1000, 1000, 1000, 1000, 1000, 1000, 1000, 1000, 1000, 1000, 1000, 1000, 1000, 1000, 1000, 1000, 1000, 1000, 1000, 1000, 1000, 1000, 1000, 1000, 1000, 1000, 1000, 1000, 1000, 1000, 1000, 1000, 1000, 1000, 1000, 1000, 1000, 1000, 1000, 1000, 1000, 1000, 1000, 1000, 1000, 1000, 1000, 1000, 1000, 1000, 1000, 1000, 1000, 1000, 1000, 1000, 1000, 1000, 1000, 1000, 1000, 1000, 1000, 1000, 1000, 1000, 1000, 1000, 1000, 1000, 1000, 1000, 1000, 1000, 1000, 1000, 1000, 1000, 1000, 1000, 1000, 1000, 1000, 1000, 1000, 1000, 1000, 1000, 1000, 1000, 1000, 1000, 1000, 1000, 1000, 1000, 1000, 1000, 1000, 1000, 1000, 1000, 1000, 1000, 1000, 1000, 1000] (1000) for a total of 200000 posterior samples\n",
      "\n",
      "###############################\n",
      "## Loading scale/bin cuts #####\n",
      "###############################\n",
      "Found observables in data_file ['xip', 'xim', 'gammat', 'wtheta']\n",
      "Reading options for likelihood module:  2pt_d_like\n",
      "Found scale cuts for  {'xip': [(1, 1), (1, 2), (1, 3), (1, 4), (2, 2), (2, 3), (2, 4), (3, 3), (3, 4), (4, 4)], 'xim': [(1, 1), (1, 2), (1, 3), (1, 4), (2, 2), (2, 3), (2, 4), (3, 3), (3, 4), (4, 4)], 'gammat': [(1, 1), (1, 2), (1, 3), (1, 4), (2, 1), (2, 2), (2, 3), (2, 4), (3, 1), (3, 2), (3, 3), (3, 4), (4, 1), (4, 2), (4, 3), (4, 4), (5, 1), (5, 2), (5, 3), (5, 4)], 'wtheta': [(1, 1), (2, 2), (3, 3), (4, 4), (5, 5)]}\n",
      "Getting indices for xip\n",
      "Getting indices for xim\n",
      "Getting indices for gammat\n",
      "Getting indices for wtheta\n",
      "\n",
      "Found observables in data_file ['xip', 'xim', 'gammat', 'wtheta']\n",
      "Reading options for likelihood module:  2pt_dprime_like\n",
      "Found scale cuts for  {'xip': [(1, 1), (1, 2), (1, 3), (1, 4), (2, 2), (2, 3), (2, 4), (3, 3), (3, 4), (4, 4)], 'xim': [(1, 1), (1, 2), (1, 3), (1, 4), (2, 2), (2, 3), (2, 4), (3, 3), (3, 4), (4, 4)], 'gammat': [(1, 1), (1, 2), (1, 3), (1, 4), (2, 1), (2, 2), (2, 3), (2, 4), (3, 1), (3, 2), (3, 3), (3, 4), (4, 1), (4, 2), (4, 3), (4, 4), (5, 1), (5, 2), (5, 3), (5, 4)], 'wtheta': [(1, 1), (2, 2), (3, 3), (4, 4), (5, 5)]}\n",
      "Getting indices for xip\n",
      "Getting indices for xim\n",
      "Getting indices for gammat\n",
      "Getting indices for wtheta\n",
      "\n",
      "Using subsets ['1x2', '2x2', 'gammat', 'wtheta', 'xim', 'xip']\n",
      "\n",
      "Using same indices for d and dprime -> conditioning turned off\n",
      "\n",
      "###############################\n",
      "## Loading realizations #######\n",
      "###############################\n"
     ]
    },
    {
     "data": {
      "application/vnd.jupyter.widget-view+json": {
       "model_id": "f29d86493f40441b917646b8682ee55c",
       "version_major": 2,
       "version_minor": 0
      },
      "text/plain": [
       "HBox(children=(FloatProgress(value=0.0, max=200.0), HTML(value='')))"
      ]
     },
     "metadata": {},
     "output_type": "display_data"
    },
    {
     "name": "stdout",
     "output_type": "stream",
     "text": [
      "Loading realizations from  ../fiducial_3x2_goodnessoffit/ppd_3x2lcdm_0321_boosted_fiducial_3x2_goodnessoffit_0_dprime_theory.npy\n",
      " - data vector size = 529\n",
      " - number of realizations = 1000\n",
      "Loading realizations from  ../fiducial_3x2_goodnessoffit/ppd_3x2lcdm_0321_boosted_fiducial_3x2_goodnessoffit_0_dprime_real.npy\n",
      " - data vector size = 529\n",
      " - number of realizations = 1000\n",
      "Loading realizations from  ../fiducial_3x2_goodnessoffit/ppd_3x2lcdm_0321_boosted_fiducial_3x2_goodnessoffit_0_d_theory.npy\n",
      " - data vector size = 529\n",
      " - number of realizations = 1000\n",
      "\n",
      "\n",
      "###############################\n",
      "## Sampling data ##############\n",
      "###############################\n",
      "Sampling at best-fit with params\n",
      "cosmological_parameters--omega_m = 0.329\n",
      "cosmological_parameters--h0 = 0.662\n",
      "cosmological_parameters--omega_b = 0.0363\n",
      "cosmological_parameters--n_s = 0.935\n",
      "cosmological_parameters--a_s = 1.9e-09\n",
      "cosmological_parameters--omnuh2 = 0.00444\n",
      "shear_calibration_parameters--m1 = -0.00537\n",
      "shear_calibration_parameters--m2 = -0.0234\n",
      "shear_calibration_parameters--m3 = -0.0199\n",
      "shear_calibration_parameters--m4 = -0.0338\n",
      "wl_photoz_errors--bias_1 = -0.00446\n",
      "wl_photoz_errors--bias_2 = -0.024\n",
      "wl_photoz_errors--bias_3 = -0.0147\n",
      "wl_photoz_errors--bias_4 = -0.00838\n",
      "lens_photoz_errors--bias_1 = 0.0062\n",
      "lens_photoz_errors--bias_2 = 0.00244\n",
      "lens_photoz_errors--bias_3 = 0.00715\n",
      "lens_photoz_errors--bias_4 = 0.00413\n",
      "lens_photoz_errors--bias_5 = -0.00513\n",
      "lens_photoz_errors--width_5 = 1.21\n",
      "bias_lens--b1        = 1.71\n",
      "bias_lens--b2        = 1.77\n",
      "bias_lens--b3        = 1.87\n",
      "bias_lens--b4        = 2.09\n",
      "bias_lens--b5        = 2.28\n",
      "intrinsic_alignment_parameters--a1 = 0.561\n",
      "intrinsic_alignment_parameters--a2 = -0.0902\n",
      "intrinsic_alignment_parameters--alpha1 = 4.81\n",
      "intrinsic_alignment_parameters--alpha2 = 1.21\n",
      "intrinsic_alignment_parameters--bias_ta = 0.146\n",
      "\n",
      "###############################\n",
      "## Compute chi2 for d #########\n",
      "###############################\n"
     ]
    },
    {
     "data": {
      "application/vnd.jupyter.widget-view+json": {
       "model_id": "7b10affb9a014940beb93ebb5535f8cd",
       "version_major": 2,
       "version_minor": 0
      },
      "text/plain": [
       "HBox(children=(FloatProgress(value=0.0, max=200.0), HTML(value='')))"
      ]
     },
     "metadata": {},
     "output_type": "display_data"
    },
    {
     "name": "stdout",
     "output_type": "stream",
     "text": [
      "\n",
      "\n",
      "###############################\n",
      "## Compute IS weights for d ###\n",
      "###############################\n"
     ]
    },
    {
     "data": {
      "application/vnd.jupyter.widget-view+json": {
       "model_id": "2bda7eaac9c042d6ac68e4f8585828b2",
       "version_major": 2,
       "version_minor": 0
      },
      "text/plain": [
       "HBox(children=(FloatProgress(value=0.0, max=200.0), HTML(value='')))"
      ]
     },
     "metadata": {},
     "output_type": "display_data"
    },
    {
     "name": "stdout",
     "output_type": "stream",
     "text": [
      "\n",
      "(200000, 1000)\n",
      "Neff = 22.2 (median), 16th=11.6, 84th=42.2 (0 were nan's)\n",
      "\n",
      "###############################\n",
      "## Computing p-values #########\n",
      "###############################\n"
     ]
    },
    {
     "data": {
      "application/vnd.jupyter.widget-view+json": {
       "model_id": "27cf950b49d74679a054e52f22f5d5e2",
       "version_major": 2,
       "version_minor": 0
      },
      "text/plain": [
       "HBox(children=(FloatProgress(value=1.0, bar_style='info', max=1.0), HTML(value='')))"
      ]
     },
     "metadata": {},
     "output_type": "display_data"
    },
    {
     "name": "stdout",
     "output_type": "stream",
     "text": [
      "\n",
      "1x2\n",
      "2x2\n",
      "gammat\n",
      "wtheta\n",
      "xim\n",
      "xip\n",
      "\n",
      "###############################\n",
      "## Calibrated p-values ########\n",
      "###############################\n",
      "     - Full         calibrated pval=0.0670 (raw pval=0.0013)\n",
      "     - 1x2          calibrated pval=0.3070 (raw pval=0.2352)\n",
      "     - 2x2          calibrated pval=0.0450 (raw pval=0.0002)\n",
      "     - gammat       calibrated pval=0.0820 (raw pval=0.0012)\n",
      "     - wtheta       calibrated pval=0.1340 (raw pval=0.0444)\n",
      "     - xim          calibrated pval=0.5000 (raw pval=0.4089)\n",
      "     - xip          calibrated pval=0.3140 (raw pval=0.2485)\n",
      "\n",
      "###############################\n",
      "## Plotting ###################\n",
      "###############################\n",
      "\n",
      "###############################\n",
      "## Loading chains #############\n",
      "###############################\n"
     ]
    },
    {
     "data": {
      "application/vnd.jupyter.widget-view+json": {
       "model_id": "364c792326e745d6a4f968c419c24b6a",
       "version_major": 2,
       "version_minor": 0
      },
      "text/plain": [
       "HBox(children=(FloatProgress(value=0.0, max=200.0), HTML(value='')))"
      ]
     },
     "metadata": {},
     "output_type": "display_data"
    },
    {
     "name": "stdout",
     "output_type": "stream",
     "text": [
      "Loading list chain at\n",
      "../fiducial_3x2_goodnessoffit/ppd_chain_3x2lcdm_0321_boosted_fiducial_3x2_goodnessoffit_0.txt\n",
      "- using params\n",
      "['cosmological_parameters--omega_m', 'cosmological_parameters--h0', 'cosmological_parameters--omega_b', 'cosmological_parameters--n_s', 'cosmological_parameters--a_s', 'cosmological_parameters--omnuh2', 'cosmological_parameters--w', 'cosmological_parameters--massive_nu', 'cosmological_parameters--massless_nu', 'cosmological_parameters--omega_k', 'cosmological_parameters--tau', 'shear_calibration_parameters--m1', 'shear_calibration_parameters--m2', 'shear_calibration_parameters--m3', 'shear_calibration_parameters--m4', 'wl_photoz_errors--bias_1', 'wl_photoz_errors--bias_2', 'wl_photoz_errors--bias_3', 'wl_photoz_errors--bias_4', 'lens_photoz_errors--bias_1', 'lens_photoz_errors--bias_2', 'lens_photoz_errors--bias_3', 'lens_photoz_errors--bias_4', 'lens_photoz_errors--bias_5', 'lens_photoz_errors--width_1', 'lens_photoz_errors--width_2', 'lens_photoz_errors--width_3', 'lens_photoz_errors--width_4', 'lens_photoz_errors--width_5', 'bias_lens--b1', 'bias_lens--b2', 'bias_lens--b3', 'bias_lens--b4', 'bias_lens--b5', 'mag_alpha_lens--alpha_1', 'mag_alpha_lens--alpha_2', 'mag_alpha_lens--alpha_3', 'mag_alpha_lens--alpha_4', 'mag_alpha_lens--alpha_5', 'intrinsic_alignment_parameters--z_piv', 'intrinsic_alignment_parameters--a1', 'intrinsic_alignment_parameters--a2', 'intrinsic_alignment_parameters--alpha1', 'intrinsic_alignment_parameters--alpha2', 'intrinsic_alignment_parameters--bias_ta', 'COSMOLOGICAL_PARAMETERS--SIGMA_8', 'COSMOLOGICAL_PARAMETERS--SIGMA_12', 'DATA_VECTOR--2PT_CHI2', 'DATA_VECTOR--2PT_D_CHI2', 'DATA_VECTOR--2PT_DPRIME_CHI2', 'DATA_VECTOR--2PT_XIP_CHI2', 'DATA_VECTOR--2PT_XIM_CHI2', 'DATA_VECTOR--2PT_1X2_CHI2', 'DATA_VECTOR--2PT_GAMMAT_CHI2', 'DATA_VECTOR--2PT_WTHETA_CHI2', 'DATA_VECTOR--2PT_2X2_CHI2', 'PPD--CHI2_DPRIME_DATA', 'PPD--CHI2_DPRIME_REALIZATION', 'PPD--CHI2_D_DATA', 'PPD--CHI2_XIP_DATA', 'PPD--CHI2_XIP_REALIZATION', 'PPD--CHI2_XIM_DATA', 'PPD--CHI2_XIM_REALIZATION', 'PPD--CHI2_1X2_DATA', 'PPD--CHI2_1X2_REALIZATION', 'PPD--CHI2_GAMMAT_DATA', 'PPD--CHI2_GAMMAT_REALIZATION', 'PPD--CHI2_WTHETA_DATA', 'PPD--CHI2_WTHETA_REALIZATION', 'PPD--CHI2_2X2_DATA', 'PPD--CHI2_2X2_REALIZATION', 'PPD--CHI2_DPRIME_COMP_AVG', 'PPD--CHI2_XIP_COMP_AVG', 'PPD--CHI2_XIM_COMP_AVG', 'PPD--CHI2_1X2_COMP_AVG', 'PPD--CHI2_GAMMAT_COMP_AVG', 'PPD--CHI2_WTHETA_COMP_AVG', 'PPD--CHI2_2X2_COMP_AVG', 'prior', 'post']\n",
      "- using nsample =  1000\n",
      "\n",
      "Loading chain at\n",
      "../../trimmed_chains_test/chain_3x2lcdm_0321_boosted.txt\n",
      "Sampler not found -- non-standard cosmosis output\n",
      "Using 200 chunks of size [1000, 1000, 1000, 1000, 1000, 1000, 1000, 1000, 1000, 1000, 1000, 1000, 1000, 1000, 1000, 1000, 1000, 1000, 1000, 1000, 1000, 1000, 1000, 1000, 1000, 1000, 1000, 1000, 1000, 1000, 1000, 1000, 1000, 1000, 1000, 1000, 1000, 1000, 1000, 1000, 1000, 1000, 1000, 1000, 1000, 1000, 1000, 1000, 1000, 1000, 1000, 1000, 1000, 1000, 1000, 1000, 1000, 1000, 1000, 1000, 1000, 1000, 1000, 1000, 1000, 1000, 1000, 1000, 1000, 1000, 1000, 1000, 1000, 1000, 1000, 1000, 1000, 1000, 1000, 1000, 1000, 1000, 1000, 1000, 1000, 1000, 1000, 1000, 1000, 1000, 1000, 1000, 1000, 1000, 1000, 1000, 1000, 1000, 1000, 1000, 1000, 1000, 1000, 1000, 1000, 1000, 1000, 1000, 1000, 1000, 1000, 1000, 1000, 1000, 1000, 1000, 1000, 1000, 1000, 1000, 1000, 1000, 1000, 1000, 1000, 1000, 1000, 1000, 1000, 1000, 1000, 1000, 1000, 1000, 1000, 1000, 1000, 1000, 1000, 1000, 1000, 1000, 1000, 1000, 1000, 1000, 1000, 1000, 1000, 1000, 1000, 1000, 1000, 1000, 1000, 1000, 1000, 1000, 1000, 1000, 1000, 1000, 1000, 1000, 1000, 1000, 1000, 1000, 1000, 1000, 1000, 1000, 1000, 1000, 1000, 1000, 1000, 1000, 1000, 1000, 1000, 1000, 1000, 1000, 1000, 1000, 1000, 1000, 1000, 1000, 1000, 1000, 1000, 1000, 1000, 1000, 1000, 1000, 1000, 1000] (1000) for a total of 200000 posterior samples\n",
      "\n",
      "###############################\n",
      "## Loading scale/bin cuts #####\n",
      "###############################\n",
      "Found observables in data_file ['xip', 'xim', 'gammat', 'wtheta']\n",
      "Reading options for likelihood module:  2pt_d_like\n",
      "Found scale cuts for  {'xip': [(1, 1), (1, 2), (1, 3), (1, 4), (2, 2), (2, 3), (2, 4), (3, 3), (3, 4), (4, 4)], 'xim': [(1, 1), (1, 2), (1, 3), (1, 4), (2, 2), (2, 3), (2, 4), (3, 3), (3, 4), (4, 4)], 'gammat': [(1, 1), (1, 2), (1, 3), (1, 4), (2, 1), (2, 2), (2, 3), (2, 4), (3, 1), (3, 2), (3, 3), (3, 4), (4, 1), (4, 2), (4, 3), (4, 4), (5, 1), (5, 2), (5, 3), (5, 4)], 'wtheta': [(1, 1), (2, 2), (3, 3), (4, 4), (5, 5)]}\n",
      "Getting indices for xip\n",
      "Getting indices for xim\n",
      "Getting indices for gammat\n",
      "Getting indices for wtheta\n",
      "\n",
      "Found observables in data_file ['xip', 'xim', 'gammat', 'wtheta']\n",
      "Reading options for likelihood module:  2pt_dprime_like\n",
      "Found scale cuts for  {'xip': [(1, 1), (1, 2), (1, 3), (1, 4), (2, 2), (2, 3), (2, 4), (3, 3), (3, 4), (4, 4)], 'xim': [(1, 1), (1, 2), (1, 3), (1, 4), (2, 2), (2, 3), (2, 4), (3, 3), (3, 4), (4, 4)], 'gammat': [(1, 1), (1, 2), (1, 3), (1, 4), (2, 1), (2, 2), (2, 3), (2, 4), (3, 1), (3, 2), (3, 3), (3, 4), (4, 1), (4, 2), (4, 3), (4, 4), (5, 1), (5, 2), (5, 3), (5, 4)], 'wtheta': [(1, 1), (2, 2), (3, 3), (4, 4), (5, 5)]}\n",
      "Getting indices for xip\n",
      "Getting indices for xim\n",
      "Getting indices for gammat\n",
      "Getting indices for wtheta\n",
      "\n",
      "Using subsets ['1x2', '2x2', 'gammat', 'wtheta', 'xim', 'xip']\n",
      "\n",
      "Using same indices for d and dprime -> conditioning turned off\n",
      "\n",
      "###############################\n",
      "## Loading realizations #######\n",
      "###############################\n"
     ]
    },
    {
     "data": {
      "application/vnd.jupyter.widget-view+json": {
       "model_id": "5ee65b0180134e77bf7a0b1b3436e813",
       "version_major": 2,
       "version_minor": 0
      },
      "text/plain": [
       "HBox(children=(FloatProgress(value=0.0, max=200.0), HTML(value='')))"
      ]
     },
     "metadata": {},
     "output_type": "display_data"
    },
    {
     "name": "stdout",
     "output_type": "stream",
     "text": [
      "Loading realizations from  ../fiducial_3x2_goodnessoffit/ppd_3x2lcdm_0321_boosted_fiducial_3x2_goodnessoffit_0_dprime_theory.npy\n",
      " - data vector size = 529\n",
      " - number of realizations = 1000\n",
      "Loading realizations from  ../fiducial_3x2_goodnessoffit/ppd_3x2lcdm_0321_boosted_fiducial_3x2_goodnessoffit_0_dprime_real.npy\n",
      " - data vector size = 529\n",
      " - number of realizations = 1000\n",
      "Loading realizations from  ../fiducial_3x2_goodnessoffit/ppd_3x2lcdm_0321_boosted_fiducial_3x2_goodnessoffit_0_d_theory.npy\n",
      " - data vector size = 529\n",
      " - number of realizations = 1000\n",
      "\n",
      "\n",
      "###############################\n",
      "## Sampling data ##############\n",
      "###############################\n",
      "Sampling at best-fit with params\n",
      "cosmological_parameters--omega_m = 0.329\n",
      "cosmological_parameters--h0 = 0.662\n",
      "cosmological_parameters--omega_b = 0.0363\n",
      "cosmological_parameters--n_s = 0.935\n",
      "cosmological_parameters--a_s = 1.9e-09\n",
      "cosmological_parameters--omnuh2 = 0.00444\n",
      "shear_calibration_parameters--m1 = -0.00537\n",
      "shear_calibration_parameters--m2 = -0.0234\n",
      "shear_calibration_parameters--m3 = -0.0199\n",
      "shear_calibration_parameters--m4 = -0.0338\n",
      "wl_photoz_errors--bias_1 = -0.00446\n",
      "wl_photoz_errors--bias_2 = -0.024\n",
      "wl_photoz_errors--bias_3 = -0.0147\n",
      "wl_photoz_errors--bias_4 = -0.00838\n",
      "lens_photoz_errors--bias_1 = 0.0062\n",
      "lens_photoz_errors--bias_2 = 0.00244\n",
      "lens_photoz_errors--bias_3 = 0.00715\n",
      "lens_photoz_errors--bias_4 = 0.00413\n",
      "lens_photoz_errors--bias_5 = -0.00513\n",
      "lens_photoz_errors--width_5 = 1.21\n",
      "bias_lens--b1        = 1.71\n",
      "bias_lens--b2        = 1.77\n",
      "bias_lens--b3        = 1.87\n",
      "bias_lens--b4        = 2.09\n",
      "bias_lens--b5        = 2.28\n",
      "intrinsic_alignment_parameters--a1 = 0.561\n",
      "intrinsic_alignment_parameters--a2 = -0.0902\n",
      "intrinsic_alignment_parameters--alpha1 = 4.81\n",
      "intrinsic_alignment_parameters--alpha2 = 1.21\n",
      "intrinsic_alignment_parameters--bias_ta = 0.146\n",
      "\n",
      "###############################\n",
      "## Compute chi2 for d #########\n",
      "###############################\n"
     ]
    },
    {
     "data": {
      "application/vnd.jupyter.widget-view+json": {
       "model_id": "de85e30509f141a587892f7973b02b4d",
       "version_major": 2,
       "version_minor": 0
      },
      "text/plain": [
       "HBox(children=(FloatProgress(value=0.0, max=200.0), HTML(value='')))"
      ]
     },
     "metadata": {},
     "output_type": "display_data"
    },
    {
     "name": "stdout",
     "output_type": "stream",
     "text": [
      "\n",
      "\n",
      "###############################\n",
      "## Compute IS weights for d ###\n",
      "###############################\n"
     ]
    },
    {
     "data": {
      "application/vnd.jupyter.widget-view+json": {
       "model_id": "66a69c13d4f9468cb08aa882637930c5",
       "version_major": 2,
       "version_minor": 0
      },
      "text/plain": [
       "HBox(children=(FloatProgress(value=0.0, max=200.0), HTML(value='')))"
      ]
     },
     "metadata": {},
     "output_type": "display_data"
    },
    {
     "name": "stdout",
     "output_type": "stream",
     "text": [
      "\n",
      "(200000, 1000)\n",
      "Neff = 20.8 (median), 16th=10.7, 84th=44.1 (0 were nan's)\n",
      "\n",
      "###############################\n",
      "## Computing p-values #########\n",
      "###############################\n"
     ]
    },
    {
     "data": {
      "application/vnd.jupyter.widget-view+json": {
       "model_id": "5dd9a6eab65348d6938eef1fd73770ff",
       "version_major": 2,
       "version_minor": 0
      },
      "text/plain": [
       "HBox(children=(FloatProgress(value=1.0, bar_style='info', max=1.0), HTML(value='')))"
      ]
     },
     "metadata": {},
     "output_type": "display_data"
    },
    {
     "name": "stdout",
     "output_type": "stream",
     "text": [
      "\n",
      "1x2\n",
      "2x2\n",
      "gammat\n",
      "wtheta\n",
      "xim\n",
      "xip\n",
      "\n",
      "###############################\n",
      "## Calibrated p-values ########\n",
      "###############################\n",
      "     - Full         calibrated pval=0.0830 (raw pval=0.0013)\n",
      "     - 1x2          calibrated pval=0.3090 (raw pval=0.2352)\n",
      "     - 2x2          calibrated pval=0.0440 (raw pval=0.0002)\n",
      "     - gammat       calibrated pval=0.0870 (raw pval=0.0012)\n",
      "     - wtheta       calibrated pval=0.1250 (raw pval=0.0444)\n",
      "     - xim          calibrated pval=0.5080 (raw pval=0.4089)\n",
      "     - xip          calibrated pval=0.3100 (raw pval=0.2485)\n",
      "\n",
      "###############################\n",
      "## Plotting ###################\n",
      "###############################\n",
      "\n",
      "###############################\n",
      "## Loading chains #############\n",
      "###############################\n"
     ]
    },
    {
     "data": {
      "application/vnd.jupyter.widget-view+json": {
       "model_id": "9bc997698f604eecac261604cbbfef81",
       "version_major": 2,
       "version_minor": 0
      },
      "text/plain": [
       "HBox(children=(FloatProgress(value=0.0, max=200.0), HTML(value='')))"
      ]
     },
     "metadata": {},
     "output_type": "display_data"
    },
    {
     "name": "stdout",
     "output_type": "stream",
     "text": [
      "Loading list chain at\n",
      "../fiducial_3x2_goodnessoffit/ppd_chain_3x2lcdm_0321_boosted_fiducial_3x2_goodnessoffit_0.txt\n",
      "- using params\n",
      "['cosmological_parameters--omega_m', 'cosmological_parameters--h0', 'cosmological_parameters--omega_b', 'cosmological_parameters--n_s', 'cosmological_parameters--a_s', 'cosmological_parameters--omnuh2', 'cosmological_parameters--w', 'cosmological_parameters--massive_nu', 'cosmological_parameters--massless_nu', 'cosmological_parameters--omega_k', 'cosmological_parameters--tau', 'shear_calibration_parameters--m1', 'shear_calibration_parameters--m2', 'shear_calibration_parameters--m3', 'shear_calibration_parameters--m4', 'wl_photoz_errors--bias_1', 'wl_photoz_errors--bias_2', 'wl_photoz_errors--bias_3', 'wl_photoz_errors--bias_4', 'lens_photoz_errors--bias_1', 'lens_photoz_errors--bias_2', 'lens_photoz_errors--bias_3', 'lens_photoz_errors--bias_4', 'lens_photoz_errors--bias_5', 'lens_photoz_errors--width_1', 'lens_photoz_errors--width_2', 'lens_photoz_errors--width_3', 'lens_photoz_errors--width_4', 'lens_photoz_errors--width_5', 'bias_lens--b1', 'bias_lens--b2', 'bias_lens--b3', 'bias_lens--b4', 'bias_lens--b5', 'mag_alpha_lens--alpha_1', 'mag_alpha_lens--alpha_2', 'mag_alpha_lens--alpha_3', 'mag_alpha_lens--alpha_4', 'mag_alpha_lens--alpha_5', 'intrinsic_alignment_parameters--z_piv', 'intrinsic_alignment_parameters--a1', 'intrinsic_alignment_parameters--a2', 'intrinsic_alignment_parameters--alpha1', 'intrinsic_alignment_parameters--alpha2', 'intrinsic_alignment_parameters--bias_ta', 'COSMOLOGICAL_PARAMETERS--SIGMA_8', 'COSMOLOGICAL_PARAMETERS--SIGMA_12', 'DATA_VECTOR--2PT_CHI2', 'DATA_VECTOR--2PT_D_CHI2', 'DATA_VECTOR--2PT_DPRIME_CHI2', 'DATA_VECTOR--2PT_XIP_CHI2', 'DATA_VECTOR--2PT_XIM_CHI2', 'DATA_VECTOR--2PT_1X2_CHI2', 'DATA_VECTOR--2PT_GAMMAT_CHI2', 'DATA_VECTOR--2PT_WTHETA_CHI2', 'DATA_VECTOR--2PT_2X2_CHI2', 'PPD--CHI2_DPRIME_DATA', 'PPD--CHI2_DPRIME_REALIZATION', 'PPD--CHI2_D_DATA', 'PPD--CHI2_XIP_DATA', 'PPD--CHI2_XIP_REALIZATION', 'PPD--CHI2_XIM_DATA', 'PPD--CHI2_XIM_REALIZATION', 'PPD--CHI2_1X2_DATA', 'PPD--CHI2_1X2_REALIZATION', 'PPD--CHI2_GAMMAT_DATA', 'PPD--CHI2_GAMMAT_REALIZATION', 'PPD--CHI2_WTHETA_DATA', 'PPD--CHI2_WTHETA_REALIZATION', 'PPD--CHI2_2X2_DATA', 'PPD--CHI2_2X2_REALIZATION', 'PPD--CHI2_DPRIME_COMP_AVG', 'PPD--CHI2_XIP_COMP_AVG', 'PPD--CHI2_XIM_COMP_AVG', 'PPD--CHI2_1X2_COMP_AVG', 'PPD--CHI2_GAMMAT_COMP_AVG', 'PPD--CHI2_WTHETA_COMP_AVG', 'PPD--CHI2_2X2_COMP_AVG', 'prior', 'post']\n",
      "- using nsample =  1000\n",
      "\n",
      "Loading chain at\n",
      "../../trimmed_chains_test/chain_3x2lcdm_0321_boosted.txt\n",
      "Sampler not found -- non-standard cosmosis output\n",
      "Using 200 chunks of size [1000, 1000, 1000, 1000, 1000, 1000, 1000, 1000, 1000, 1000, 1000, 1000, 1000, 1000, 1000, 1000, 1000, 1000, 1000, 1000, 1000, 1000, 1000, 1000, 1000, 1000, 1000, 1000, 1000, 1000, 1000, 1000, 1000, 1000, 1000, 1000, 1000, 1000, 1000, 1000, 1000, 1000, 1000, 1000, 1000, 1000, 1000, 1000, 1000, 1000, 1000, 1000, 1000, 1000, 1000, 1000, 1000, 1000, 1000, 1000, 1000, 1000, 1000, 1000, 1000, 1000, 1000, 1000, 1000, 1000, 1000, 1000, 1000, 1000, 1000, 1000, 1000, 1000, 1000, 1000, 1000, 1000, 1000, 1000, 1000, 1000, 1000, 1000, 1000, 1000, 1000, 1000, 1000, 1000, 1000, 1000, 1000, 1000, 1000, 1000, 1000, 1000, 1000, 1000, 1000, 1000, 1000, 1000, 1000, 1000, 1000, 1000, 1000, 1000, 1000, 1000, 1000, 1000, 1000, 1000, 1000, 1000, 1000, 1000, 1000, 1000, 1000, 1000, 1000, 1000, 1000, 1000, 1000, 1000, 1000, 1000, 1000, 1000, 1000, 1000, 1000, 1000, 1000, 1000, 1000, 1000, 1000, 1000, 1000, 1000, 1000, 1000, 1000, 1000, 1000, 1000, 1000, 1000, 1000, 1000, 1000, 1000, 1000, 1000, 1000, 1000, 1000, 1000, 1000, 1000, 1000, 1000, 1000, 1000, 1000, 1000, 1000, 1000, 1000, 1000, 1000, 1000, 1000, 1000, 1000, 1000, 1000, 1000, 1000, 1000, 1000, 1000, 1000, 1000, 1000, 1000, 1000, 1000, 1000, 1000] (1000) for a total of 200000 posterior samples\n",
      "\n",
      "###############################\n",
      "## Loading scale/bin cuts #####\n",
      "###############################\n",
      "Found observables in data_file ['xip', 'xim', 'gammat', 'wtheta']\n",
      "Reading options for likelihood module:  2pt_d_like\n",
      "Found scale cuts for  {'xip': [(1, 1), (1, 2), (1, 3), (1, 4), (2, 2), (2, 3), (2, 4), (3, 3), (3, 4), (4, 4)], 'xim': [(1, 1), (1, 2), (1, 3), (1, 4), (2, 2), (2, 3), (2, 4), (3, 3), (3, 4), (4, 4)], 'gammat': [(1, 1), (1, 2), (1, 3), (1, 4), (2, 1), (2, 2), (2, 3), (2, 4), (3, 1), (3, 2), (3, 3), (3, 4), (4, 1), (4, 2), (4, 3), (4, 4), (5, 1), (5, 2), (5, 3), (5, 4)], 'wtheta': [(1, 1), (2, 2), (3, 3), (4, 4), (5, 5)]}\n",
      "Getting indices for xip\n",
      "Getting indices for xim\n",
      "Getting indices for gammat\n",
      "Getting indices for wtheta\n",
      "\n",
      "Found observables in data_file ['xip', 'xim', 'gammat', 'wtheta']\n",
      "Reading options for likelihood module:  2pt_dprime_like\n",
      "Found scale cuts for  {'xip': [(1, 1), (1, 2), (1, 3), (1, 4), (2, 2), (2, 3), (2, 4), (3, 3), (3, 4), (4, 4)], 'xim': [(1, 1), (1, 2), (1, 3), (1, 4), (2, 2), (2, 3), (2, 4), (3, 3), (3, 4), (4, 4)], 'gammat': [(1, 1), (1, 2), (1, 3), (1, 4), (2, 1), (2, 2), (2, 3), (2, 4), (3, 1), (3, 2), (3, 3), (3, 4), (4, 1), (4, 2), (4, 3), (4, 4), (5, 1), (5, 2), (5, 3), (5, 4)], 'wtheta': [(1, 1), (2, 2), (3, 3), (4, 4), (5, 5)]}\n",
      "Getting indices for xip\n",
      "Getting indices for xim\n",
      "Getting indices for gammat\n",
      "Getting indices for wtheta\n",
      "\n",
      "Using subsets ['1x2', '2x2', 'gammat', 'wtheta', 'xim', 'xip']\n",
      "\n",
      "Using same indices for d and dprime -> conditioning turned off\n",
      "\n",
      "###############################\n",
      "## Loading realizations #######\n",
      "###############################\n"
     ]
    },
    {
     "data": {
      "application/vnd.jupyter.widget-view+json": {
       "model_id": "c755dc8f70824463bb7a256bb0710070",
       "version_major": 2,
       "version_minor": 0
      },
      "text/plain": [
       "HBox(children=(FloatProgress(value=0.0, max=200.0), HTML(value='')))"
      ]
     },
     "metadata": {},
     "output_type": "display_data"
    },
    {
     "name": "stdout",
     "output_type": "stream",
     "text": [
      "Loading realizations from  ../fiducial_3x2_goodnessoffit/ppd_3x2lcdm_0321_boosted_fiducial_3x2_goodnessoffit_0_dprime_theory.npy\n",
      " - data vector size = 529\n",
      " - number of realizations = 1000\n",
      "Loading realizations from  ../fiducial_3x2_goodnessoffit/ppd_3x2lcdm_0321_boosted_fiducial_3x2_goodnessoffit_0_dprime_real.npy\n",
      " - data vector size = 529\n",
      " - number of realizations = 1000\n",
      "Loading realizations from  ../fiducial_3x2_goodnessoffit/ppd_3x2lcdm_0321_boosted_fiducial_3x2_goodnessoffit_0_d_theory.npy\n",
      " - data vector size = 529\n",
      " - number of realizations = 1000\n",
      "\n",
      "\n",
      "###############################\n",
      "## Sampling data ##############\n",
      "###############################\n",
      "Sampling at best-fit with params\n",
      "cosmological_parameters--omega_m = 0.329\n",
      "cosmological_parameters--h0 = 0.662\n",
      "cosmological_parameters--omega_b = 0.0363\n",
      "cosmological_parameters--n_s = 0.935\n",
      "cosmological_parameters--a_s = 1.9e-09\n",
      "cosmological_parameters--omnuh2 = 0.00444\n",
      "shear_calibration_parameters--m1 = -0.00537\n",
      "shear_calibration_parameters--m2 = -0.0234\n",
      "shear_calibration_parameters--m3 = -0.0199\n",
      "shear_calibration_parameters--m4 = -0.0338\n",
      "wl_photoz_errors--bias_1 = -0.00446\n",
      "wl_photoz_errors--bias_2 = -0.024\n",
      "wl_photoz_errors--bias_3 = -0.0147\n",
      "wl_photoz_errors--bias_4 = -0.00838\n",
      "lens_photoz_errors--bias_1 = 0.0062\n",
      "lens_photoz_errors--bias_2 = 0.00244\n",
      "lens_photoz_errors--bias_3 = 0.00715\n",
      "lens_photoz_errors--bias_4 = 0.00413\n",
      "lens_photoz_errors--bias_5 = -0.00513\n",
      "lens_photoz_errors--width_5 = 1.21\n",
      "bias_lens--b1        = 1.71\n",
      "bias_lens--b2        = 1.77\n",
      "bias_lens--b3        = 1.87\n",
      "bias_lens--b4        = 2.09\n",
      "bias_lens--b5        = 2.28\n",
      "intrinsic_alignment_parameters--a1 = 0.561\n",
      "intrinsic_alignment_parameters--a2 = -0.0902\n",
      "intrinsic_alignment_parameters--alpha1 = 4.81\n",
      "intrinsic_alignment_parameters--alpha2 = 1.21\n",
      "intrinsic_alignment_parameters--bias_ta = 0.146\n",
      "\n",
      "###############################\n",
      "## Compute chi2 for d #########\n",
      "###############################\n"
     ]
    },
    {
     "data": {
      "application/vnd.jupyter.widget-view+json": {
       "model_id": "06a31a2a07ad4c07b2a67ba4d0016eae",
       "version_major": 2,
       "version_minor": 0
      },
      "text/plain": [
       "HBox(children=(FloatProgress(value=0.0, max=200.0), HTML(value='')))"
      ]
     },
     "metadata": {},
     "output_type": "display_data"
    },
    {
     "name": "stdout",
     "output_type": "stream",
     "text": [
      "\n",
      "\n",
      "###############################\n",
      "## Compute IS weights for d ###\n",
      "###############################\n"
     ]
    },
    {
     "data": {
      "application/vnd.jupyter.widget-view+json": {
       "model_id": "513d92dc7264496987b5f482ef38512d",
       "version_major": 2,
       "version_minor": 0
      },
      "text/plain": [
       "HBox(children=(FloatProgress(value=0.0, max=200.0), HTML(value='')))"
      ]
     },
     "metadata": {},
     "output_type": "display_data"
    },
    {
     "name": "stdout",
     "output_type": "stream",
     "text": [
      "\n",
      "(200000, 1000)\n",
      "Neff = 21.7 (median), 16th=11.1, 84th=44.4 (0 were nan's)\n",
      "\n",
      "###############################\n",
      "## Computing p-values #########\n",
      "###############################\n"
     ]
    },
    {
     "data": {
      "application/vnd.jupyter.widget-view+json": {
       "model_id": "ce57245ab7a34dabaa8efeffe7d4a8ce",
       "version_major": 2,
       "version_minor": 0
      },
      "text/plain": [
       "HBox(children=(FloatProgress(value=1.0, bar_style='info', max=1.0), HTML(value='')))"
      ]
     },
     "metadata": {},
     "output_type": "display_data"
    },
    {
     "name": "stdout",
     "output_type": "stream",
     "text": [
      "\n",
      "1x2\n",
      "2x2\n",
      "gammat\n",
      "wtheta\n",
      "xim\n",
      "xip\n",
      "\n",
      "###############################\n",
      "## Calibrated p-values ########\n",
      "###############################\n",
      "     - Full         calibrated pval=0.0780 (raw pval=0.0013)\n",
      "     - 1x2          calibrated pval=0.3270 (raw pval=0.2352)\n",
      "     - 2x2          calibrated pval=0.0390 (raw pval=0.0002)\n",
      "     - gammat       calibrated pval=0.0870 (raw pval=0.0012)\n",
      "     - wtheta       calibrated pval=0.1330 (raw pval=0.0444)\n",
      "     - xim          calibrated pval=0.4980 (raw pval=0.4089)\n",
      "     - xip          calibrated pval=0.3270 (raw pval=0.2485)\n",
      "\n",
      "###############################\n",
      "## Plotting ###################\n",
      "###############################\n",
      "\n",
      "###############################\n",
      "## Loading chains #############\n",
      "###############################\n"
     ]
    },
    {
     "data": {
      "application/vnd.jupyter.widget-view+json": {
       "model_id": "68783fb397424bd49b801ab081ca2358",
       "version_major": 2,
       "version_minor": 0
      },
      "text/plain": [
       "HBox(children=(FloatProgress(value=0.0, max=200.0), HTML(value='')))"
      ]
     },
     "metadata": {},
     "output_type": "display_data"
    },
    {
     "name": "stdout",
     "output_type": "stream",
     "text": [
      "Loading list chain at\n",
      "../fiducial_3x2_goodnessoffit/ppd_chain_3x2lcdm_0321_boosted_fiducial_3x2_goodnessoffit_0.txt\n",
      "- using params\n",
      "['cosmological_parameters--omega_m', 'cosmological_parameters--h0', 'cosmological_parameters--omega_b', 'cosmological_parameters--n_s', 'cosmological_parameters--a_s', 'cosmological_parameters--omnuh2', 'cosmological_parameters--w', 'cosmological_parameters--massive_nu', 'cosmological_parameters--massless_nu', 'cosmological_parameters--omega_k', 'cosmological_parameters--tau', 'shear_calibration_parameters--m1', 'shear_calibration_parameters--m2', 'shear_calibration_parameters--m3', 'shear_calibration_parameters--m4', 'wl_photoz_errors--bias_1', 'wl_photoz_errors--bias_2', 'wl_photoz_errors--bias_3', 'wl_photoz_errors--bias_4', 'lens_photoz_errors--bias_1', 'lens_photoz_errors--bias_2', 'lens_photoz_errors--bias_3', 'lens_photoz_errors--bias_4', 'lens_photoz_errors--bias_5', 'lens_photoz_errors--width_1', 'lens_photoz_errors--width_2', 'lens_photoz_errors--width_3', 'lens_photoz_errors--width_4', 'lens_photoz_errors--width_5', 'bias_lens--b1', 'bias_lens--b2', 'bias_lens--b3', 'bias_lens--b4', 'bias_lens--b5', 'mag_alpha_lens--alpha_1', 'mag_alpha_lens--alpha_2', 'mag_alpha_lens--alpha_3', 'mag_alpha_lens--alpha_4', 'mag_alpha_lens--alpha_5', 'intrinsic_alignment_parameters--z_piv', 'intrinsic_alignment_parameters--a1', 'intrinsic_alignment_parameters--a2', 'intrinsic_alignment_parameters--alpha1', 'intrinsic_alignment_parameters--alpha2', 'intrinsic_alignment_parameters--bias_ta', 'COSMOLOGICAL_PARAMETERS--SIGMA_8', 'COSMOLOGICAL_PARAMETERS--SIGMA_12', 'DATA_VECTOR--2PT_CHI2', 'DATA_VECTOR--2PT_D_CHI2', 'DATA_VECTOR--2PT_DPRIME_CHI2', 'DATA_VECTOR--2PT_XIP_CHI2', 'DATA_VECTOR--2PT_XIM_CHI2', 'DATA_VECTOR--2PT_1X2_CHI2', 'DATA_VECTOR--2PT_GAMMAT_CHI2', 'DATA_VECTOR--2PT_WTHETA_CHI2', 'DATA_VECTOR--2PT_2X2_CHI2', 'PPD--CHI2_DPRIME_DATA', 'PPD--CHI2_DPRIME_REALIZATION', 'PPD--CHI2_D_DATA', 'PPD--CHI2_XIP_DATA', 'PPD--CHI2_XIP_REALIZATION', 'PPD--CHI2_XIM_DATA', 'PPD--CHI2_XIM_REALIZATION', 'PPD--CHI2_1X2_DATA', 'PPD--CHI2_1X2_REALIZATION', 'PPD--CHI2_GAMMAT_DATA', 'PPD--CHI2_GAMMAT_REALIZATION', 'PPD--CHI2_WTHETA_DATA', 'PPD--CHI2_WTHETA_REALIZATION', 'PPD--CHI2_2X2_DATA', 'PPD--CHI2_2X2_REALIZATION', 'PPD--CHI2_DPRIME_COMP_AVG', 'PPD--CHI2_XIP_COMP_AVG', 'PPD--CHI2_XIM_COMP_AVG', 'PPD--CHI2_1X2_COMP_AVG', 'PPD--CHI2_GAMMAT_COMP_AVG', 'PPD--CHI2_WTHETA_COMP_AVG', 'PPD--CHI2_2X2_COMP_AVG', 'prior', 'post']\n",
      "- using nsample =  1000\n",
      "\n",
      "Loading chain at\n",
      "../../trimmed_chains_test/chain_3x2lcdm_0321_boosted.txt\n",
      "Sampler not found -- non-standard cosmosis output\n",
      "Using 200 chunks of size [1000, 1000, 1000, 1000, 1000, 1000, 1000, 1000, 1000, 1000, 1000, 1000, 1000, 1000, 1000, 1000, 1000, 1000, 1000, 1000, 1000, 1000, 1000, 1000, 1000, 1000, 1000, 1000, 1000, 1000, 1000, 1000, 1000, 1000, 1000, 1000, 1000, 1000, 1000, 1000, 1000, 1000, 1000, 1000, 1000, 1000, 1000, 1000, 1000, 1000, 1000, 1000, 1000, 1000, 1000, 1000, 1000, 1000, 1000, 1000, 1000, 1000, 1000, 1000, 1000, 1000, 1000, 1000, 1000, 1000, 1000, 1000, 1000, 1000, 1000, 1000, 1000, 1000, 1000, 1000, 1000, 1000, 1000, 1000, 1000, 1000, 1000, 1000, 1000, 1000, 1000, 1000, 1000, 1000, 1000, 1000, 1000, 1000, 1000, 1000, 1000, 1000, 1000, 1000, 1000, 1000, 1000, 1000, 1000, 1000, 1000, 1000, 1000, 1000, 1000, 1000, 1000, 1000, 1000, 1000, 1000, 1000, 1000, 1000, 1000, 1000, 1000, 1000, 1000, 1000, 1000, 1000, 1000, 1000, 1000, 1000, 1000, 1000, 1000, 1000, 1000, 1000, 1000, 1000, 1000, 1000, 1000, 1000, 1000, 1000, 1000, 1000, 1000, 1000, 1000, 1000, 1000, 1000, 1000, 1000, 1000, 1000, 1000, 1000, 1000, 1000, 1000, 1000, 1000, 1000, 1000, 1000, 1000, 1000, 1000, 1000, 1000, 1000, 1000, 1000, 1000, 1000, 1000, 1000, 1000, 1000, 1000, 1000, 1000, 1000, 1000, 1000, 1000, 1000, 1000, 1000, 1000, 1000, 1000, 1000] (1000) for a total of 200000 posterior samples\n",
      "\n",
      "###############################\n",
      "## Loading scale/bin cuts #####\n",
      "###############################\n",
      "Found observables in data_file ['xip', 'xim', 'gammat', 'wtheta']\n",
      "Reading options for likelihood module:  2pt_d_like\n",
      "Found scale cuts for  {'xip': [(1, 1), (1, 2), (1, 3), (1, 4), (2, 2), (2, 3), (2, 4), (3, 3), (3, 4), (4, 4)], 'xim': [(1, 1), (1, 2), (1, 3), (1, 4), (2, 2), (2, 3), (2, 4), (3, 3), (3, 4), (4, 4)], 'gammat': [(1, 1), (1, 2), (1, 3), (1, 4), (2, 1), (2, 2), (2, 3), (2, 4), (3, 1), (3, 2), (3, 3), (3, 4), (4, 1), (4, 2), (4, 3), (4, 4), (5, 1), (5, 2), (5, 3), (5, 4)], 'wtheta': [(1, 1), (2, 2), (3, 3), (4, 4), (5, 5)]}\n",
      "Getting indices for xip\n",
      "Getting indices for xim\n",
      "Getting indices for gammat\n",
      "Getting indices for wtheta\n",
      "\n",
      "Found observables in data_file ['xip', 'xim', 'gammat', 'wtheta']\n",
      "Reading options for likelihood module:  2pt_dprime_like\n",
      "Found scale cuts for  {'xip': [(1, 1), (1, 2), (1, 3), (1, 4), (2, 2), (2, 3), (2, 4), (3, 3), (3, 4), (4, 4)], 'xim': [(1, 1), (1, 2), (1, 3), (1, 4), (2, 2), (2, 3), (2, 4), (3, 3), (3, 4), (4, 4)], 'gammat': [(1, 1), (1, 2), (1, 3), (1, 4), (2, 1), (2, 2), (2, 3), (2, 4), (3, 1), (3, 2), (3, 3), (3, 4), (4, 1), (4, 2), (4, 3), (4, 4), (5, 1), (5, 2), (5, 3), (5, 4)], 'wtheta': [(1, 1), (2, 2), (3, 3), (4, 4), (5, 5)]}\n",
      "Getting indices for xip\n",
      "Getting indices for xim\n",
      "Getting indices for gammat\n",
      "Getting indices for wtheta\n",
      "\n",
      "Using subsets ['1x2', '2x2', 'gammat', 'wtheta', 'xim', 'xip']\n",
      "\n",
      "Using same indices for d and dprime -> conditioning turned off\n",
      "\n",
      "###############################\n",
      "## Loading realizations #######\n",
      "###############################\n"
     ]
    },
    {
     "data": {
      "application/vnd.jupyter.widget-view+json": {
       "model_id": "2c04e62dfc554e7bb11f495975eb41a5",
       "version_major": 2,
       "version_minor": 0
      },
      "text/plain": [
       "HBox(children=(FloatProgress(value=0.0, max=200.0), HTML(value='')))"
      ]
     },
     "metadata": {},
     "output_type": "display_data"
    },
    {
     "name": "stdout",
     "output_type": "stream",
     "text": [
      "Loading realizations from  ../fiducial_3x2_goodnessoffit/ppd_3x2lcdm_0321_boosted_fiducial_3x2_goodnessoffit_0_dprime_theory.npy\n",
      " - data vector size = 529\n",
      " - number of realizations = 1000\n",
      "Loading realizations from  ../fiducial_3x2_goodnessoffit/ppd_3x2lcdm_0321_boosted_fiducial_3x2_goodnessoffit_0_dprime_real.npy\n",
      " - data vector size = 529\n",
      " - number of realizations = 1000\n",
      "Loading realizations from  ../fiducial_3x2_goodnessoffit/ppd_3x2lcdm_0321_boosted_fiducial_3x2_goodnessoffit_0_d_theory.npy\n",
      " - data vector size = 529\n",
      " - number of realizations = 1000\n",
      "\n",
      "\n",
      "###############################\n",
      "## Sampling data ##############\n",
      "###############################\n",
      "Sampling at best-fit with params\n",
      "cosmological_parameters--omega_m = 0.329\n",
      "cosmological_parameters--h0 = 0.662\n",
      "cosmological_parameters--omega_b = 0.0363\n",
      "cosmological_parameters--n_s = 0.935\n",
      "cosmological_parameters--a_s = 1.9e-09\n",
      "cosmological_parameters--omnuh2 = 0.00444\n",
      "shear_calibration_parameters--m1 = -0.00537\n",
      "shear_calibration_parameters--m2 = -0.0234\n",
      "shear_calibration_parameters--m3 = -0.0199\n",
      "shear_calibration_parameters--m4 = -0.0338\n",
      "wl_photoz_errors--bias_1 = -0.00446\n",
      "wl_photoz_errors--bias_2 = -0.024\n",
      "wl_photoz_errors--bias_3 = -0.0147\n",
      "wl_photoz_errors--bias_4 = -0.00838\n",
      "lens_photoz_errors--bias_1 = 0.0062\n",
      "lens_photoz_errors--bias_2 = 0.00244\n",
      "lens_photoz_errors--bias_3 = 0.00715\n",
      "lens_photoz_errors--bias_4 = 0.00413\n",
      "lens_photoz_errors--bias_5 = -0.00513\n",
      "lens_photoz_errors--width_5 = 1.21\n",
      "bias_lens--b1        = 1.71\n",
      "bias_lens--b2        = 1.77\n",
      "bias_lens--b3        = 1.87\n",
      "bias_lens--b4        = 2.09\n",
      "bias_lens--b5        = 2.28\n",
      "intrinsic_alignment_parameters--a1 = 0.561\n",
      "intrinsic_alignment_parameters--a2 = -0.0902\n",
      "intrinsic_alignment_parameters--alpha1 = 4.81\n",
      "intrinsic_alignment_parameters--alpha2 = 1.21\n",
      "intrinsic_alignment_parameters--bias_ta = 0.146\n",
      "\n",
      "###############################\n",
      "## Compute chi2 for d #########\n",
      "###############################\n"
     ]
    },
    {
     "data": {
      "application/vnd.jupyter.widget-view+json": {
       "model_id": "93ed1d0761444a0eb701ade9f4582d0a",
       "version_major": 2,
       "version_minor": 0
      },
      "text/plain": [
       "HBox(children=(FloatProgress(value=0.0, max=200.0), HTML(value='')))"
      ]
     },
     "metadata": {},
     "output_type": "display_data"
    },
    {
     "name": "stdout",
     "output_type": "stream",
     "text": [
      "\n",
      "\n",
      "###############################\n",
      "## Compute IS weights for d ###\n",
      "###############################\n"
     ]
    },
    {
     "data": {
      "application/vnd.jupyter.widget-view+json": {
       "model_id": "4f7d26ba88d9402d8f44a96b1442d2e1",
       "version_major": 2,
       "version_minor": 0
      },
      "text/plain": [
       "HBox(children=(FloatProgress(value=0.0, max=200.0), HTML(value='')))"
      ]
     },
     "metadata": {},
     "output_type": "display_data"
    },
    {
     "name": "stdout",
     "output_type": "stream",
     "text": [
      "\n",
      "(200000, 1000)\n",
      "Neff = 20.9 (median), 16th=11.2, 84th=40.5 (0 were nan's)\n",
      "\n",
      "###############################\n",
      "## Computing p-values #########\n",
      "###############################\n"
     ]
    },
    {
     "data": {
      "application/vnd.jupyter.widget-view+json": {
       "model_id": "72171d56292c411e9c0f23ff47deab52",
       "version_major": 2,
       "version_minor": 0
      },
      "text/plain": [
       "HBox(children=(FloatProgress(value=1.0, bar_style='info', max=1.0), HTML(value='')))"
      ]
     },
     "metadata": {},
     "output_type": "display_data"
    },
    {
     "name": "stdout",
     "output_type": "stream",
     "text": [
      "\n",
      "1x2\n",
      "2x2\n",
      "gammat\n",
      "wtheta\n",
      "xim\n",
      "xip\n",
      "\n",
      "###############################\n",
      "## Calibrated p-values ########\n",
      "###############################\n",
      "     - Full         calibrated pval=0.1010 (raw pval=0.0013)\n",
      "     - 1x2          calibrated pval=0.3360 (raw pval=0.2352)\n",
      "     - 2x2          calibrated pval=0.0560 (raw pval=0.0002)\n",
      "     - gammat       calibrated pval=0.0950 (raw pval=0.0012)\n",
      "     - wtheta       calibrated pval=0.1530 (raw pval=0.0444)\n",
      "     - xim          calibrated pval=0.5290 (raw pval=0.4089)\n",
      "     - xip          calibrated pval=0.3190 (raw pval=0.2485)\n",
      "\n",
      "###############################\n",
      "## Plotting ###################\n",
      "###############################\n",
      "\n",
      "###############################\n",
      "## Loading chains #############\n",
      "###############################\n"
     ]
    },
    {
     "data": {
      "application/vnd.jupyter.widget-view+json": {
       "model_id": "9e779735de164c7bbe116fd1abc3935b",
       "version_major": 2,
       "version_minor": 0
      },
      "text/plain": [
       "HBox(children=(FloatProgress(value=0.0, max=200.0), HTML(value='')))"
      ]
     },
     "metadata": {},
     "output_type": "display_data"
    },
    {
     "name": "stdout",
     "output_type": "stream",
     "text": [
      "Loading list chain at\n",
      "../fiducial_3x2_goodnessoffit/ppd_chain_3x2lcdm_0321_boosted_fiducial_3x2_goodnessoffit_0.txt\n",
      "- using params\n",
      "['cosmological_parameters--omega_m', 'cosmological_parameters--h0', 'cosmological_parameters--omega_b', 'cosmological_parameters--n_s', 'cosmological_parameters--a_s', 'cosmological_parameters--omnuh2', 'cosmological_parameters--w', 'cosmological_parameters--massive_nu', 'cosmological_parameters--massless_nu', 'cosmological_parameters--omega_k', 'cosmological_parameters--tau', 'shear_calibration_parameters--m1', 'shear_calibration_parameters--m2', 'shear_calibration_parameters--m3', 'shear_calibration_parameters--m4', 'wl_photoz_errors--bias_1', 'wl_photoz_errors--bias_2', 'wl_photoz_errors--bias_3', 'wl_photoz_errors--bias_4', 'lens_photoz_errors--bias_1', 'lens_photoz_errors--bias_2', 'lens_photoz_errors--bias_3', 'lens_photoz_errors--bias_4', 'lens_photoz_errors--bias_5', 'lens_photoz_errors--width_1', 'lens_photoz_errors--width_2', 'lens_photoz_errors--width_3', 'lens_photoz_errors--width_4', 'lens_photoz_errors--width_5', 'bias_lens--b1', 'bias_lens--b2', 'bias_lens--b3', 'bias_lens--b4', 'bias_lens--b5', 'mag_alpha_lens--alpha_1', 'mag_alpha_lens--alpha_2', 'mag_alpha_lens--alpha_3', 'mag_alpha_lens--alpha_4', 'mag_alpha_lens--alpha_5', 'intrinsic_alignment_parameters--z_piv', 'intrinsic_alignment_parameters--a1', 'intrinsic_alignment_parameters--a2', 'intrinsic_alignment_parameters--alpha1', 'intrinsic_alignment_parameters--alpha2', 'intrinsic_alignment_parameters--bias_ta', 'COSMOLOGICAL_PARAMETERS--SIGMA_8', 'COSMOLOGICAL_PARAMETERS--SIGMA_12', 'DATA_VECTOR--2PT_CHI2', 'DATA_VECTOR--2PT_D_CHI2', 'DATA_VECTOR--2PT_DPRIME_CHI2', 'DATA_VECTOR--2PT_XIP_CHI2', 'DATA_VECTOR--2PT_XIM_CHI2', 'DATA_VECTOR--2PT_1X2_CHI2', 'DATA_VECTOR--2PT_GAMMAT_CHI2', 'DATA_VECTOR--2PT_WTHETA_CHI2', 'DATA_VECTOR--2PT_2X2_CHI2', 'PPD--CHI2_DPRIME_DATA', 'PPD--CHI2_DPRIME_REALIZATION', 'PPD--CHI2_D_DATA', 'PPD--CHI2_XIP_DATA', 'PPD--CHI2_XIP_REALIZATION', 'PPD--CHI2_XIM_DATA', 'PPD--CHI2_XIM_REALIZATION', 'PPD--CHI2_1X2_DATA', 'PPD--CHI2_1X2_REALIZATION', 'PPD--CHI2_GAMMAT_DATA', 'PPD--CHI2_GAMMAT_REALIZATION', 'PPD--CHI2_WTHETA_DATA', 'PPD--CHI2_WTHETA_REALIZATION', 'PPD--CHI2_2X2_DATA', 'PPD--CHI2_2X2_REALIZATION', 'PPD--CHI2_DPRIME_COMP_AVG', 'PPD--CHI2_XIP_COMP_AVG', 'PPD--CHI2_XIM_COMP_AVG', 'PPD--CHI2_1X2_COMP_AVG', 'PPD--CHI2_GAMMAT_COMP_AVG', 'PPD--CHI2_WTHETA_COMP_AVG', 'PPD--CHI2_2X2_COMP_AVG', 'prior', 'post']\n",
      "- using nsample =  1000\n",
      "\n",
      "Loading chain at\n",
      "../../trimmed_chains_test/chain_3x2lcdm_0321_boosted.txt\n",
      "Sampler not found -- non-standard cosmosis output\n",
      "Using 200 chunks of size [1000, 1000, 1000, 1000, 1000, 1000, 1000, 1000, 1000, 1000, 1000, 1000, 1000, 1000, 1000, 1000, 1000, 1000, 1000, 1000, 1000, 1000, 1000, 1000, 1000, 1000, 1000, 1000, 1000, 1000, 1000, 1000, 1000, 1000, 1000, 1000, 1000, 1000, 1000, 1000, 1000, 1000, 1000, 1000, 1000, 1000, 1000, 1000, 1000, 1000, 1000, 1000, 1000, 1000, 1000, 1000, 1000, 1000, 1000, 1000, 1000, 1000, 1000, 1000, 1000, 1000, 1000, 1000, 1000, 1000, 1000, 1000, 1000, 1000, 1000, 1000, 1000, 1000, 1000, 1000, 1000, 1000, 1000, 1000, 1000, 1000, 1000, 1000, 1000, 1000, 1000, 1000, 1000, 1000, 1000, 1000, 1000, 1000, 1000, 1000, 1000, 1000, 1000, 1000, 1000, 1000, 1000, 1000, 1000, 1000, 1000, 1000, 1000, 1000, 1000, 1000, 1000, 1000, 1000, 1000, 1000, 1000, 1000, 1000, 1000, 1000, 1000, 1000, 1000, 1000, 1000, 1000, 1000, 1000, 1000, 1000, 1000, 1000, 1000, 1000, 1000, 1000, 1000, 1000, 1000, 1000, 1000, 1000, 1000, 1000, 1000, 1000, 1000, 1000, 1000, 1000, 1000, 1000, 1000, 1000, 1000, 1000, 1000, 1000, 1000, 1000, 1000, 1000, 1000, 1000, 1000, 1000, 1000, 1000, 1000, 1000, 1000, 1000, 1000, 1000, 1000, 1000, 1000, 1000, 1000, 1000, 1000, 1000, 1000, 1000, 1000, 1000, 1000, 1000, 1000, 1000, 1000, 1000, 1000, 1000] (1000) for a total of 200000 posterior samples\n",
      "\n",
      "###############################\n",
      "## Loading scale/bin cuts #####\n",
      "###############################\n",
      "Found observables in data_file ['xip', 'xim', 'gammat', 'wtheta']\n",
      "Reading options for likelihood module:  2pt_d_like\n",
      "Found scale cuts for  {'xip': [(1, 1), (1, 2), (1, 3), (1, 4), (2, 2), (2, 3), (2, 4), (3, 3), (3, 4), (4, 4)], 'xim': [(1, 1), (1, 2), (1, 3), (1, 4), (2, 2), (2, 3), (2, 4), (3, 3), (3, 4), (4, 4)], 'gammat': [(1, 1), (1, 2), (1, 3), (1, 4), (2, 1), (2, 2), (2, 3), (2, 4), (3, 1), (3, 2), (3, 3), (3, 4), (4, 1), (4, 2), (4, 3), (4, 4), (5, 1), (5, 2), (5, 3), (5, 4)], 'wtheta': [(1, 1), (2, 2), (3, 3), (4, 4), (5, 5)]}\n",
      "Getting indices for xip\n",
      "Getting indices for xim\n",
      "Getting indices for gammat\n",
      "Getting indices for wtheta\n",
      "\n",
      "Found observables in data_file ['xip', 'xim', 'gammat', 'wtheta']\n",
      "Reading options for likelihood module:  2pt_dprime_like\n",
      "Found scale cuts for  {'xip': [(1, 1), (1, 2), (1, 3), (1, 4), (2, 2), (2, 3), (2, 4), (3, 3), (3, 4), (4, 4)], 'xim': [(1, 1), (1, 2), (1, 3), (1, 4), (2, 2), (2, 3), (2, 4), (3, 3), (3, 4), (4, 4)], 'gammat': [(1, 1), (1, 2), (1, 3), (1, 4), (2, 1), (2, 2), (2, 3), (2, 4), (3, 1), (3, 2), (3, 3), (3, 4), (4, 1), (4, 2), (4, 3), (4, 4), (5, 1), (5, 2), (5, 3), (5, 4)], 'wtheta': [(1, 1), (2, 2), (3, 3), (4, 4), (5, 5)]}\n",
      "Getting indices for xip\n",
      "Getting indices for xim\n",
      "Getting indices for gammat\n",
      "Getting indices for wtheta\n",
      "\n",
      "Using subsets ['1x2', '2x2', 'gammat', 'wtheta', 'xim', 'xip']\n",
      "\n",
      "Using same indices for d and dprime -> conditioning turned off\n",
      "\n",
      "###############################\n",
      "## Loading realizations #######\n",
      "###############################\n"
     ]
    },
    {
     "data": {
      "application/vnd.jupyter.widget-view+json": {
       "model_id": "280b35f1c8a5454ba07536940f728396",
       "version_major": 2,
       "version_minor": 0
      },
      "text/plain": [
       "HBox(children=(FloatProgress(value=0.0, max=200.0), HTML(value='')))"
      ]
     },
     "metadata": {},
     "output_type": "display_data"
    },
    {
     "name": "stdout",
     "output_type": "stream",
     "text": [
      "Loading realizations from  ../fiducial_3x2_goodnessoffit/ppd_3x2lcdm_0321_boosted_fiducial_3x2_goodnessoffit_0_dprime_theory.npy\n",
      " - data vector size = 529\n",
      " - number of realizations = 1000\n",
      "Loading realizations from  ../fiducial_3x2_goodnessoffit/ppd_3x2lcdm_0321_boosted_fiducial_3x2_goodnessoffit_0_dprime_real.npy\n",
      " - data vector size = 529\n",
      " - number of realizations = 1000\n",
      "Loading realizations from  ../fiducial_3x2_goodnessoffit/ppd_3x2lcdm_0321_boosted_fiducial_3x2_goodnessoffit_0_d_theory.npy\n",
      " - data vector size = 529\n",
      " - number of realizations = 1000\n",
      "\n",
      "\n",
      "###############################\n",
      "## Sampling data ##############\n",
      "###############################\n",
      "Sampling at best-fit with params\n",
      "cosmological_parameters--omega_m = 0.329\n",
      "cosmological_parameters--h0 = 0.662\n",
      "cosmological_parameters--omega_b = 0.0363\n",
      "cosmological_parameters--n_s = 0.935\n",
      "cosmological_parameters--a_s = 1.9e-09\n",
      "cosmological_parameters--omnuh2 = 0.00444\n",
      "shear_calibration_parameters--m1 = -0.00537\n",
      "shear_calibration_parameters--m2 = -0.0234\n",
      "shear_calibration_parameters--m3 = -0.0199\n",
      "shear_calibration_parameters--m4 = -0.0338\n",
      "wl_photoz_errors--bias_1 = -0.00446\n",
      "wl_photoz_errors--bias_2 = -0.024\n",
      "wl_photoz_errors--bias_3 = -0.0147\n",
      "wl_photoz_errors--bias_4 = -0.00838\n",
      "lens_photoz_errors--bias_1 = 0.0062\n",
      "lens_photoz_errors--bias_2 = 0.00244\n",
      "lens_photoz_errors--bias_3 = 0.00715\n",
      "lens_photoz_errors--bias_4 = 0.00413\n",
      "lens_photoz_errors--bias_5 = -0.00513\n",
      "lens_photoz_errors--width_5 = 1.21\n",
      "bias_lens--b1        = 1.71\n",
      "bias_lens--b2        = 1.77\n",
      "bias_lens--b3        = 1.87\n",
      "bias_lens--b4        = 2.09\n",
      "bias_lens--b5        = 2.28\n",
      "intrinsic_alignment_parameters--a1 = 0.561\n",
      "intrinsic_alignment_parameters--a2 = -0.0902\n",
      "intrinsic_alignment_parameters--alpha1 = 4.81\n",
      "intrinsic_alignment_parameters--alpha2 = 1.21\n",
      "intrinsic_alignment_parameters--bias_ta = 0.146\n",
      "\n",
      "###############################\n",
      "## Compute chi2 for d #########\n",
      "###############################\n"
     ]
    },
    {
     "data": {
      "application/vnd.jupyter.widget-view+json": {
       "model_id": "c64e6bb2162245b4939de224610ba945",
       "version_major": 2,
       "version_minor": 0
      },
      "text/plain": [
       "HBox(children=(FloatProgress(value=0.0, max=200.0), HTML(value='')))"
      ]
     },
     "metadata": {},
     "output_type": "display_data"
    },
    {
     "name": "stdout",
     "output_type": "stream",
     "text": [
      "\n",
      "\n",
      "###############################\n",
      "## Compute IS weights for d ###\n",
      "###############################\n"
     ]
    },
    {
     "data": {
      "application/vnd.jupyter.widget-view+json": {
       "model_id": "cc758b183d0e462988612320ebee7252",
       "version_major": 2,
       "version_minor": 0
      },
      "text/plain": [
       "HBox(children=(FloatProgress(value=0.0, max=200.0), HTML(value='')))"
      ]
     },
     "metadata": {},
     "output_type": "display_data"
    },
    {
     "name": "stdout",
     "output_type": "stream",
     "text": [
      "\n",
      "(200000, 1000)\n",
      "Neff = 21.4 (median), 16th=11.4, 84th=45.6 (0 were nan's)\n",
      "\n",
      "###############################\n",
      "## Computing p-values #########\n",
      "###############################\n"
     ]
    },
    {
     "data": {
      "application/vnd.jupyter.widget-view+json": {
       "model_id": "676dde040b1e44b79653f9d80bd6e390",
       "version_major": 2,
       "version_minor": 0
      },
      "text/plain": [
       "HBox(children=(FloatProgress(value=1.0, bar_style='info', max=1.0), HTML(value='')))"
      ]
     },
     "metadata": {},
     "output_type": "display_data"
    },
    {
     "name": "stdout",
     "output_type": "stream",
     "text": [
      "\n",
      "1x2\n",
      "2x2\n",
      "gammat\n",
      "wtheta\n",
      "xim\n",
      "xip\n",
      "\n",
      "###############################\n",
      "## Calibrated p-values ########\n",
      "###############################\n",
      "     - Full         calibrated pval=0.0840 (raw pval=0.0013)\n",
      "     - 1x2          calibrated pval=0.3340 (raw pval=0.2352)\n",
      "     - 2x2          calibrated pval=0.0520 (raw pval=0.0002)\n",
      "     - gammat       calibrated pval=0.0940 (raw pval=0.0012)\n",
      "     - wtheta       calibrated pval=0.1350 (raw pval=0.0444)\n",
      "     - xim          calibrated pval=0.5050 (raw pval=0.4089)\n",
      "     - xip          calibrated pval=0.3120 (raw pval=0.2485)\n",
      "\n",
      "###############################\n",
      "## Plotting ###################\n",
      "###############################\n",
      "\n",
      "###############################\n",
      "## Loading chains #############\n",
      "###############################\n"
     ]
    },
    {
     "data": {
      "application/vnd.jupyter.widget-view+json": {
       "model_id": "26ffa8b762e04c03aa5c301220c554e0",
       "version_major": 2,
       "version_minor": 0
      },
      "text/plain": [
       "HBox(children=(FloatProgress(value=0.0, max=200.0), HTML(value='')))"
      ]
     },
     "metadata": {},
     "output_type": "display_data"
    },
    {
     "name": "stdout",
     "output_type": "stream",
     "text": [
      "Loading list chain at\n",
      "../fiducial_3x2_goodnessoffit/ppd_chain_3x2lcdm_0321_boosted_fiducial_3x2_goodnessoffit_0.txt\n",
      "- using params\n",
      "['cosmological_parameters--omega_m', 'cosmological_parameters--h0', 'cosmological_parameters--omega_b', 'cosmological_parameters--n_s', 'cosmological_parameters--a_s', 'cosmological_parameters--omnuh2', 'cosmological_parameters--w', 'cosmological_parameters--massive_nu', 'cosmological_parameters--massless_nu', 'cosmological_parameters--omega_k', 'cosmological_parameters--tau', 'shear_calibration_parameters--m1', 'shear_calibration_parameters--m2', 'shear_calibration_parameters--m3', 'shear_calibration_parameters--m4', 'wl_photoz_errors--bias_1', 'wl_photoz_errors--bias_2', 'wl_photoz_errors--bias_3', 'wl_photoz_errors--bias_4', 'lens_photoz_errors--bias_1', 'lens_photoz_errors--bias_2', 'lens_photoz_errors--bias_3', 'lens_photoz_errors--bias_4', 'lens_photoz_errors--bias_5', 'lens_photoz_errors--width_1', 'lens_photoz_errors--width_2', 'lens_photoz_errors--width_3', 'lens_photoz_errors--width_4', 'lens_photoz_errors--width_5', 'bias_lens--b1', 'bias_lens--b2', 'bias_lens--b3', 'bias_lens--b4', 'bias_lens--b5', 'mag_alpha_lens--alpha_1', 'mag_alpha_lens--alpha_2', 'mag_alpha_lens--alpha_3', 'mag_alpha_lens--alpha_4', 'mag_alpha_lens--alpha_5', 'intrinsic_alignment_parameters--z_piv', 'intrinsic_alignment_parameters--a1', 'intrinsic_alignment_parameters--a2', 'intrinsic_alignment_parameters--alpha1', 'intrinsic_alignment_parameters--alpha2', 'intrinsic_alignment_parameters--bias_ta', 'COSMOLOGICAL_PARAMETERS--SIGMA_8', 'COSMOLOGICAL_PARAMETERS--SIGMA_12', 'DATA_VECTOR--2PT_CHI2', 'DATA_VECTOR--2PT_D_CHI2', 'DATA_VECTOR--2PT_DPRIME_CHI2', 'DATA_VECTOR--2PT_XIP_CHI2', 'DATA_VECTOR--2PT_XIM_CHI2', 'DATA_VECTOR--2PT_1X2_CHI2', 'DATA_VECTOR--2PT_GAMMAT_CHI2', 'DATA_VECTOR--2PT_WTHETA_CHI2', 'DATA_VECTOR--2PT_2X2_CHI2', 'PPD--CHI2_DPRIME_DATA', 'PPD--CHI2_DPRIME_REALIZATION', 'PPD--CHI2_D_DATA', 'PPD--CHI2_XIP_DATA', 'PPD--CHI2_XIP_REALIZATION', 'PPD--CHI2_XIM_DATA', 'PPD--CHI2_XIM_REALIZATION', 'PPD--CHI2_1X2_DATA', 'PPD--CHI2_1X2_REALIZATION', 'PPD--CHI2_GAMMAT_DATA', 'PPD--CHI2_GAMMAT_REALIZATION', 'PPD--CHI2_WTHETA_DATA', 'PPD--CHI2_WTHETA_REALIZATION', 'PPD--CHI2_2X2_DATA', 'PPD--CHI2_2X2_REALIZATION', 'PPD--CHI2_DPRIME_COMP_AVG', 'PPD--CHI2_XIP_COMP_AVG', 'PPD--CHI2_XIM_COMP_AVG', 'PPD--CHI2_1X2_COMP_AVG', 'PPD--CHI2_GAMMAT_COMP_AVG', 'PPD--CHI2_WTHETA_COMP_AVG', 'PPD--CHI2_2X2_COMP_AVG', 'prior', 'post']\n",
      "- using nsample =  1000\n",
      "\n",
      "Loading chain at\n",
      "../../trimmed_chains_test/chain_3x2lcdm_0321_boosted.txt\n",
      "Sampler not found -- non-standard cosmosis output\n",
      "Using 200 chunks of size [1000, 1000, 1000, 1000, 1000, 1000, 1000, 1000, 1000, 1000, 1000, 1000, 1000, 1000, 1000, 1000, 1000, 1000, 1000, 1000, 1000, 1000, 1000, 1000, 1000, 1000, 1000, 1000, 1000, 1000, 1000, 1000, 1000, 1000, 1000, 1000, 1000, 1000, 1000, 1000, 1000, 1000, 1000, 1000, 1000, 1000, 1000, 1000, 1000, 1000, 1000, 1000, 1000, 1000, 1000, 1000, 1000, 1000, 1000, 1000, 1000, 1000, 1000, 1000, 1000, 1000, 1000, 1000, 1000, 1000, 1000, 1000, 1000, 1000, 1000, 1000, 1000, 1000, 1000, 1000, 1000, 1000, 1000, 1000, 1000, 1000, 1000, 1000, 1000, 1000, 1000, 1000, 1000, 1000, 1000, 1000, 1000, 1000, 1000, 1000, 1000, 1000, 1000, 1000, 1000, 1000, 1000, 1000, 1000, 1000, 1000, 1000, 1000, 1000, 1000, 1000, 1000, 1000, 1000, 1000, 1000, 1000, 1000, 1000, 1000, 1000, 1000, 1000, 1000, 1000, 1000, 1000, 1000, 1000, 1000, 1000, 1000, 1000, 1000, 1000, 1000, 1000, 1000, 1000, 1000, 1000, 1000, 1000, 1000, 1000, 1000, 1000, 1000, 1000, 1000, 1000, 1000, 1000, 1000, 1000, 1000, 1000, 1000, 1000, 1000, 1000, 1000, 1000, 1000, 1000, 1000, 1000, 1000, 1000, 1000, 1000, 1000, 1000, 1000, 1000, 1000, 1000, 1000, 1000, 1000, 1000, 1000, 1000, 1000, 1000, 1000, 1000, 1000, 1000, 1000, 1000, 1000, 1000, 1000, 1000] (1000) for a total of 200000 posterior samples\n",
      "\n",
      "###############################\n",
      "## Loading scale/bin cuts #####\n",
      "###############################\n",
      "Found observables in data_file ['xip', 'xim', 'gammat', 'wtheta']\n",
      "Reading options for likelihood module:  2pt_d_like\n",
      "Found scale cuts for  {'xip': [(1, 1), (1, 2), (1, 3), (1, 4), (2, 2), (2, 3), (2, 4), (3, 3), (3, 4), (4, 4)], 'xim': [(1, 1), (1, 2), (1, 3), (1, 4), (2, 2), (2, 3), (2, 4), (3, 3), (3, 4), (4, 4)], 'gammat': [(1, 1), (1, 2), (1, 3), (1, 4), (2, 1), (2, 2), (2, 3), (2, 4), (3, 1), (3, 2), (3, 3), (3, 4), (4, 1), (4, 2), (4, 3), (4, 4), (5, 1), (5, 2), (5, 3), (5, 4)], 'wtheta': [(1, 1), (2, 2), (3, 3), (4, 4), (5, 5)]}\n",
      "Getting indices for xip\n",
      "Getting indices for xim\n",
      "Getting indices for gammat\n",
      "Getting indices for wtheta\n",
      "\n",
      "Found observables in data_file ['xip', 'xim', 'gammat', 'wtheta']\n",
      "Reading options for likelihood module:  2pt_dprime_like\n",
      "Found scale cuts for  {'xip': [(1, 1), (1, 2), (1, 3), (1, 4), (2, 2), (2, 3), (2, 4), (3, 3), (3, 4), (4, 4)], 'xim': [(1, 1), (1, 2), (1, 3), (1, 4), (2, 2), (2, 3), (2, 4), (3, 3), (3, 4), (4, 4)], 'gammat': [(1, 1), (1, 2), (1, 3), (1, 4), (2, 1), (2, 2), (2, 3), (2, 4), (3, 1), (3, 2), (3, 3), (3, 4), (4, 1), (4, 2), (4, 3), (4, 4), (5, 1), (5, 2), (5, 3), (5, 4)], 'wtheta': [(1, 1), (2, 2), (3, 3), (4, 4), (5, 5)]}\n",
      "Getting indices for xip\n",
      "Getting indices for xim\n",
      "Getting indices for gammat\n",
      "Getting indices for wtheta\n",
      "\n",
      "Using subsets ['1x2', '2x2', 'gammat', 'wtheta', 'xim', 'xip']\n",
      "\n",
      "Using same indices for d and dprime -> conditioning turned off\n",
      "\n",
      "###############################\n",
      "## Loading realizations #######\n",
      "###############################\n"
     ]
    },
    {
     "data": {
      "application/vnd.jupyter.widget-view+json": {
       "model_id": "255c24082862426b93e062fee139e24e",
       "version_major": 2,
       "version_minor": 0
      },
      "text/plain": [
       "HBox(children=(FloatProgress(value=0.0, max=200.0), HTML(value='')))"
      ]
     },
     "metadata": {},
     "output_type": "display_data"
    },
    {
     "name": "stdout",
     "output_type": "stream",
     "text": [
      "Loading realizations from  ../fiducial_3x2_goodnessoffit/ppd_3x2lcdm_0321_boosted_fiducial_3x2_goodnessoffit_0_dprime_theory.npy\n",
      " - data vector size = 529\n",
      " - number of realizations = 1000\n",
      "Loading realizations from  ../fiducial_3x2_goodnessoffit/ppd_3x2lcdm_0321_boosted_fiducial_3x2_goodnessoffit_0_dprime_real.npy\n",
      " - data vector size = 529\n",
      " - number of realizations = 1000\n",
      "Loading realizations from  ../fiducial_3x2_goodnessoffit/ppd_3x2lcdm_0321_boosted_fiducial_3x2_goodnessoffit_0_d_theory.npy\n",
      " - data vector size = 529\n",
      " - number of realizations = 1000\n",
      "\n",
      "\n",
      "###############################\n",
      "## Sampling data ##############\n",
      "###############################\n",
      "Sampling at best-fit with params\n",
      "cosmological_parameters--omega_m = 0.329\n",
      "cosmological_parameters--h0 = 0.662\n",
      "cosmological_parameters--omega_b = 0.0363\n",
      "cosmological_parameters--n_s = 0.935\n",
      "cosmological_parameters--a_s = 1.9e-09\n",
      "cosmological_parameters--omnuh2 = 0.00444\n",
      "shear_calibration_parameters--m1 = -0.00537\n",
      "shear_calibration_parameters--m2 = -0.0234\n",
      "shear_calibration_parameters--m3 = -0.0199\n",
      "shear_calibration_parameters--m4 = -0.0338\n",
      "wl_photoz_errors--bias_1 = -0.00446\n",
      "wl_photoz_errors--bias_2 = -0.024\n",
      "wl_photoz_errors--bias_3 = -0.0147\n",
      "wl_photoz_errors--bias_4 = -0.00838\n",
      "lens_photoz_errors--bias_1 = 0.0062\n",
      "lens_photoz_errors--bias_2 = 0.00244\n",
      "lens_photoz_errors--bias_3 = 0.00715\n",
      "lens_photoz_errors--bias_4 = 0.00413\n",
      "lens_photoz_errors--bias_5 = -0.00513\n",
      "lens_photoz_errors--width_5 = 1.21\n",
      "bias_lens--b1        = 1.71\n",
      "bias_lens--b2        = 1.77\n",
      "bias_lens--b3        = 1.87\n",
      "bias_lens--b4        = 2.09\n",
      "bias_lens--b5        = 2.28\n",
      "intrinsic_alignment_parameters--a1 = 0.561\n",
      "intrinsic_alignment_parameters--a2 = -0.0902\n",
      "intrinsic_alignment_parameters--alpha1 = 4.81\n",
      "intrinsic_alignment_parameters--alpha2 = 1.21\n",
      "intrinsic_alignment_parameters--bias_ta = 0.146\n",
      "\n",
      "###############################\n",
      "## Compute chi2 for d #########\n",
      "###############################\n"
     ]
    },
    {
     "data": {
      "application/vnd.jupyter.widget-view+json": {
       "model_id": "cfc9002528eb4197bc287745bff1b794",
       "version_major": 2,
       "version_minor": 0
      },
      "text/plain": [
       "HBox(children=(FloatProgress(value=0.0, max=200.0), HTML(value='')))"
      ]
     },
     "metadata": {},
     "output_type": "display_data"
    },
    {
     "name": "stdout",
     "output_type": "stream",
     "text": [
      "\n",
      "\n",
      "###############################\n",
      "## Compute IS weights for d ###\n",
      "###############################\n"
     ]
    },
    {
     "data": {
      "application/vnd.jupyter.widget-view+json": {
       "model_id": "38c9778860d448a59a3e511966bf8691",
       "version_major": 2,
       "version_minor": 0
      },
      "text/plain": [
       "HBox(children=(FloatProgress(value=0.0, max=200.0), HTML(value='')))"
      ]
     },
     "metadata": {},
     "output_type": "display_data"
    },
    {
     "name": "stdout",
     "output_type": "stream",
     "text": [
      "\n",
      "(200000, 1000)\n",
      "Neff = 21.4 (median), 16th=10.5, 84th=44.1 (0 were nan's)\n",
      "\n",
      "###############################\n",
      "## Computing p-values #########\n",
      "###############################\n"
     ]
    },
    {
     "data": {
      "application/vnd.jupyter.widget-view+json": {
       "model_id": "32c39f5681a74d4cb874d13226e04a77",
       "version_major": 2,
       "version_minor": 0
      },
      "text/plain": [
       "HBox(children=(FloatProgress(value=1.0, bar_style='info', max=1.0), HTML(value='')))"
      ]
     },
     "metadata": {},
     "output_type": "display_data"
    },
    {
     "name": "stdout",
     "output_type": "stream",
     "text": [
      "\n",
      "1x2\n",
      "2x2\n",
      "gammat\n",
      "wtheta\n",
      "xim\n",
      "xip\n",
      "\n",
      "###############################\n",
      "## Calibrated p-values ########\n",
      "###############################\n",
      "     - Full         calibrated pval=0.0850 (raw pval=0.0013)\n",
      "     - 1x2          calibrated pval=0.3310 (raw pval=0.2352)\n",
      "     - 2x2          calibrated pval=0.0440 (raw pval=0.0002)\n",
      "     - gammat       calibrated pval=0.0890 (raw pval=0.0012)\n",
      "     - wtheta       calibrated pval=0.1220 (raw pval=0.0444)\n",
      "     - xim          calibrated pval=0.5240 (raw pval=0.4089)\n",
      "     - xip          calibrated pval=0.3110 (raw pval=0.2485)\n",
      "\n",
      "###############################\n",
      "## Plotting ###################\n",
      "###############################\n",
      "\n",
      "###############################\n",
      "## Loading chains #############\n",
      "###############################\n"
     ]
    },
    {
     "data": {
      "application/vnd.jupyter.widget-view+json": {
       "model_id": "4a4ce888f50b45578d435a49ca1ab879",
       "version_major": 2,
       "version_minor": 0
      },
      "text/plain": [
       "HBox(children=(FloatProgress(value=0.0, max=200.0), HTML(value='')))"
      ]
     },
     "metadata": {},
     "output_type": "display_data"
    },
    {
     "name": "stdout",
     "output_type": "stream",
     "text": [
      "Loading list chain at\n",
      "../fiducial_3x2_goodnessoffit/ppd_chain_3x2lcdm_0321_boosted_fiducial_3x2_goodnessoffit_0.txt\n",
      "- using params\n",
      "['cosmological_parameters--omega_m', 'cosmological_parameters--h0', 'cosmological_parameters--omega_b', 'cosmological_parameters--n_s', 'cosmological_parameters--a_s', 'cosmological_parameters--omnuh2', 'cosmological_parameters--w', 'cosmological_parameters--massive_nu', 'cosmological_parameters--massless_nu', 'cosmological_parameters--omega_k', 'cosmological_parameters--tau', 'shear_calibration_parameters--m1', 'shear_calibration_parameters--m2', 'shear_calibration_parameters--m3', 'shear_calibration_parameters--m4', 'wl_photoz_errors--bias_1', 'wl_photoz_errors--bias_2', 'wl_photoz_errors--bias_3', 'wl_photoz_errors--bias_4', 'lens_photoz_errors--bias_1', 'lens_photoz_errors--bias_2', 'lens_photoz_errors--bias_3', 'lens_photoz_errors--bias_4', 'lens_photoz_errors--bias_5', 'lens_photoz_errors--width_1', 'lens_photoz_errors--width_2', 'lens_photoz_errors--width_3', 'lens_photoz_errors--width_4', 'lens_photoz_errors--width_5', 'bias_lens--b1', 'bias_lens--b2', 'bias_lens--b3', 'bias_lens--b4', 'bias_lens--b5', 'mag_alpha_lens--alpha_1', 'mag_alpha_lens--alpha_2', 'mag_alpha_lens--alpha_3', 'mag_alpha_lens--alpha_4', 'mag_alpha_lens--alpha_5', 'intrinsic_alignment_parameters--z_piv', 'intrinsic_alignment_parameters--a1', 'intrinsic_alignment_parameters--a2', 'intrinsic_alignment_parameters--alpha1', 'intrinsic_alignment_parameters--alpha2', 'intrinsic_alignment_parameters--bias_ta', 'COSMOLOGICAL_PARAMETERS--SIGMA_8', 'COSMOLOGICAL_PARAMETERS--SIGMA_12', 'DATA_VECTOR--2PT_CHI2', 'DATA_VECTOR--2PT_D_CHI2', 'DATA_VECTOR--2PT_DPRIME_CHI2', 'DATA_VECTOR--2PT_XIP_CHI2', 'DATA_VECTOR--2PT_XIM_CHI2', 'DATA_VECTOR--2PT_1X2_CHI2', 'DATA_VECTOR--2PT_GAMMAT_CHI2', 'DATA_VECTOR--2PT_WTHETA_CHI2', 'DATA_VECTOR--2PT_2X2_CHI2', 'PPD--CHI2_DPRIME_DATA', 'PPD--CHI2_DPRIME_REALIZATION', 'PPD--CHI2_D_DATA', 'PPD--CHI2_XIP_DATA', 'PPD--CHI2_XIP_REALIZATION', 'PPD--CHI2_XIM_DATA', 'PPD--CHI2_XIM_REALIZATION', 'PPD--CHI2_1X2_DATA', 'PPD--CHI2_1X2_REALIZATION', 'PPD--CHI2_GAMMAT_DATA', 'PPD--CHI2_GAMMAT_REALIZATION', 'PPD--CHI2_WTHETA_DATA', 'PPD--CHI2_WTHETA_REALIZATION', 'PPD--CHI2_2X2_DATA', 'PPD--CHI2_2X2_REALIZATION', 'PPD--CHI2_DPRIME_COMP_AVG', 'PPD--CHI2_XIP_COMP_AVG', 'PPD--CHI2_XIM_COMP_AVG', 'PPD--CHI2_1X2_COMP_AVG', 'PPD--CHI2_GAMMAT_COMP_AVG', 'PPD--CHI2_WTHETA_COMP_AVG', 'PPD--CHI2_2X2_COMP_AVG', 'prior', 'post']\n",
      "- using nsample =  1000\n",
      "\n",
      "1x2\n",
      "2x2\n",
      "gammat\n",
      "wtheta\n",
      "xim\n",
      "xip\n",
      "\n",
      "###############################\n",
      "## Calibrated p-values ########\n",
      "###############################\n",
      "     - Full         calibrated pval=0.0660 (raw pval=0.0013)\n",
      "     - 1x2          calibrated pval=0.3290 (raw pval=0.2352)\n",
      "     - 2x2          calibrated pval=0.0450 (raw pval=0.0002)\n",
      "     - gammat       calibrated pval=0.0930 (raw pval=0.0012)\n",
      "     - wtheta       calibrated pval=0.1480 (raw pval=0.0444)\n",
      "     - xim          calibrated pval=0.5270 (raw pval=0.4089)\n",
      "     - xip          calibrated pval=0.2960 (raw pval=0.2485)\n",
      "\n",
      "###############################\n",
      "## Plotting ###################\n",
      "###############################\n",
      "\n",
      "###############################\n",
      "## Loading chains #############\n",
      "###############################\n"
     ]
    },
    {
     "data": {
      "application/vnd.jupyter.widget-view+json": {
       "model_id": "fa82b0dd37e945c28ea8bb5837f5942f",
       "version_major": 2,
       "version_minor": 0
      },
      "text/plain": [
       "HBox(children=(FloatProgress(value=0.0, max=200.0), HTML(value='')))"
      ]
     },
     "metadata": {},
     "output_type": "display_data"
    },
    {
     "name": "stdout",
     "output_type": "stream",
     "text": [
      "Loading list chain at\n",
      "../fiducial_3x2_goodnessoffit/ppd_chain_3x2lcdm_0321_boosted_fiducial_3x2_goodnessoffit_0.txt\n",
      "- using params\n",
      "['cosmological_parameters--omega_m', 'cosmological_parameters--h0', 'cosmological_parameters--omega_b', 'cosmological_parameters--n_s', 'cosmological_parameters--a_s', 'cosmological_parameters--omnuh2', 'cosmological_parameters--w', 'cosmological_parameters--massive_nu', 'cosmological_parameters--massless_nu', 'cosmological_parameters--omega_k', 'cosmological_parameters--tau', 'shear_calibration_parameters--m1', 'shear_calibration_parameters--m2', 'shear_calibration_parameters--m3', 'shear_calibration_parameters--m4', 'wl_photoz_errors--bias_1', 'wl_photoz_errors--bias_2', 'wl_photoz_errors--bias_3', 'wl_photoz_errors--bias_4', 'lens_photoz_errors--bias_1', 'lens_photoz_errors--bias_2', 'lens_photoz_errors--bias_3', 'lens_photoz_errors--bias_4', 'lens_photoz_errors--bias_5', 'lens_photoz_errors--width_1', 'lens_photoz_errors--width_2', 'lens_photoz_errors--width_3', 'lens_photoz_errors--width_4', 'lens_photoz_errors--width_5', 'bias_lens--b1', 'bias_lens--b2', 'bias_lens--b3', 'bias_lens--b4', 'bias_lens--b5', 'mag_alpha_lens--alpha_1', 'mag_alpha_lens--alpha_2', 'mag_alpha_lens--alpha_3', 'mag_alpha_lens--alpha_4', 'mag_alpha_lens--alpha_5', 'intrinsic_alignment_parameters--z_piv', 'intrinsic_alignment_parameters--a1', 'intrinsic_alignment_parameters--a2', 'intrinsic_alignment_parameters--alpha1', 'intrinsic_alignment_parameters--alpha2', 'intrinsic_alignment_parameters--bias_ta', 'COSMOLOGICAL_PARAMETERS--SIGMA_8', 'COSMOLOGICAL_PARAMETERS--SIGMA_12', 'DATA_VECTOR--2PT_CHI2', 'DATA_VECTOR--2PT_D_CHI2', 'DATA_VECTOR--2PT_DPRIME_CHI2', 'DATA_VECTOR--2PT_XIP_CHI2', 'DATA_VECTOR--2PT_XIM_CHI2', 'DATA_VECTOR--2PT_1X2_CHI2', 'DATA_VECTOR--2PT_GAMMAT_CHI2', 'DATA_VECTOR--2PT_WTHETA_CHI2', 'DATA_VECTOR--2PT_2X2_CHI2', 'PPD--CHI2_DPRIME_DATA', 'PPD--CHI2_DPRIME_REALIZATION', 'PPD--CHI2_D_DATA', 'PPD--CHI2_XIP_DATA', 'PPD--CHI2_XIP_REALIZATION', 'PPD--CHI2_XIM_DATA', 'PPD--CHI2_XIM_REALIZATION', 'PPD--CHI2_1X2_DATA', 'PPD--CHI2_1X2_REALIZATION', 'PPD--CHI2_GAMMAT_DATA', 'PPD--CHI2_GAMMAT_REALIZATION', 'PPD--CHI2_WTHETA_DATA', 'PPD--CHI2_WTHETA_REALIZATION', 'PPD--CHI2_2X2_DATA', 'PPD--CHI2_2X2_REALIZATION', 'PPD--CHI2_DPRIME_COMP_AVG', 'PPD--CHI2_XIP_COMP_AVG', 'PPD--CHI2_XIM_COMP_AVG', 'PPD--CHI2_1X2_COMP_AVG', 'PPD--CHI2_GAMMAT_COMP_AVG', 'PPD--CHI2_WTHETA_COMP_AVG', 'PPD--CHI2_2X2_COMP_AVG', 'prior', 'post']\n",
      "- using nsample =  1000\n",
      "\n",
      "Loading chain at\n",
      "../../trimmed_chains_test/chain_3x2lcdm_0321_boosted.txt\n",
      "Sampler not found -- non-standard cosmosis output\n",
      "Using 200 chunks of size [1000, 1000, 1000, 1000, 1000, 1000, 1000, 1000, 1000, 1000, 1000, 1000, 1000, 1000, 1000, 1000, 1000, 1000, 1000, 1000, 1000, 1000, 1000, 1000, 1000, 1000, 1000, 1000, 1000, 1000, 1000, 1000, 1000, 1000, 1000, 1000, 1000, 1000, 1000, 1000, 1000, 1000, 1000, 1000, 1000, 1000, 1000, 1000, 1000, 1000, 1000, 1000, 1000, 1000, 1000, 1000, 1000, 1000, 1000, 1000, 1000, 1000, 1000, 1000, 1000, 1000, 1000, 1000, 1000, 1000, 1000, 1000, 1000, 1000, 1000, 1000, 1000, 1000, 1000, 1000, 1000, 1000, 1000, 1000, 1000, 1000, 1000, 1000, 1000, 1000, 1000, 1000, 1000, 1000, 1000, 1000, 1000, 1000, 1000, 1000, 1000, 1000, 1000, 1000, 1000, 1000, 1000, 1000, 1000, 1000, 1000, 1000, 1000, 1000, 1000, 1000, 1000, 1000, 1000, 1000, 1000, 1000, 1000, 1000, 1000, 1000, 1000, 1000, 1000, 1000, 1000, 1000, 1000, 1000, 1000, 1000, 1000, 1000, 1000, 1000, 1000, 1000, 1000, 1000, 1000, 1000, 1000, 1000, 1000, 1000, 1000, 1000, 1000, 1000, 1000, 1000, 1000, 1000, 1000, 1000, 1000, 1000, 1000, 1000, 1000, 1000, 1000, 1000, 1000, 1000, 1000, 1000, 1000, 1000, 1000, 1000, 1000, 1000, 1000, 1000, 1000, 1000, 1000, 1000, 1000, 1000, 1000, 1000, 1000, 1000, 1000, 1000, 1000, 1000, 1000, 1000, 1000, 1000, 1000, 1000] (1000) for a total of 200000 posterior samples\n",
      "\n",
      "###############################\n",
      "## Loading scale/bin cuts #####\n",
      "###############################\n",
      "Found observables in data_file ['xip', 'xim', 'gammat', 'wtheta']\n",
      "Reading options for likelihood module:  2pt_d_like\n",
      "Found scale cuts for  {'xip': [(1, 1), (1, 2), (1, 3), (1, 4), (2, 2), (2, 3), (2, 4), (3, 3), (3, 4), (4, 4)], 'xim': [(1, 1), (1, 2), (1, 3), (1, 4), (2, 2), (2, 3), (2, 4), (3, 3), (3, 4), (4, 4)], 'gammat': [(1, 1), (1, 2), (1, 3), (1, 4), (2, 1), (2, 2), (2, 3), (2, 4), (3, 1), (3, 2), (3, 3), (3, 4), (4, 1), (4, 2), (4, 3), (4, 4), (5, 1), (5, 2), (5, 3), (5, 4)], 'wtheta': [(1, 1), (2, 2), (3, 3), (4, 4), (5, 5)]}\n",
      "Getting indices for xip\n",
      "Getting indices for xim\n",
      "Getting indices for gammat\n",
      "Getting indices for wtheta\n",
      "\n",
      "Found observables in data_file ['xip', 'xim', 'gammat', 'wtheta']\n",
      "Reading options for likelihood module:  2pt_dprime_like\n",
      "Found scale cuts for  {'xip': [(1, 1), (1, 2), (1, 3), (1, 4), (2, 2), (2, 3), (2, 4), (3, 3), (3, 4), (4, 4)], 'xim': [(1, 1), (1, 2), (1, 3), (1, 4), (2, 2), (2, 3), (2, 4), (3, 3), (3, 4), (4, 4)], 'gammat': [(1, 1), (1, 2), (1, 3), (1, 4), (2, 1), (2, 2), (2, 3), (2, 4), (3, 1), (3, 2), (3, 3), (3, 4), (4, 1), (4, 2), (4, 3), (4, 4), (5, 1), (5, 2), (5, 3), (5, 4)], 'wtheta': [(1, 1), (2, 2), (3, 3), (4, 4), (5, 5)]}\n",
      "Getting indices for xip\n",
      "Getting indices for xim\n",
      "Getting indices for gammat\n",
      "Getting indices for wtheta\n",
      "\n",
      "Using subsets ['1x2', '2x2', 'gammat', 'wtheta', 'xim', 'xip']\n",
      "\n",
      "Using same indices for d and dprime -> conditioning turned off\n",
      "\n",
      "###############################\n",
      "## Loading realizations #######\n",
      "###############################\n"
     ]
    },
    {
     "data": {
      "application/vnd.jupyter.widget-view+json": {
       "model_id": "9c931af60ee343899bed707dff8e7d77",
       "version_major": 2,
       "version_minor": 0
      },
      "text/plain": [
       "HBox(children=(FloatProgress(value=0.0, max=200.0), HTML(value='')))"
      ]
     },
     "metadata": {},
     "output_type": "display_data"
    },
    {
     "name": "stdout",
     "output_type": "stream",
     "text": [
      "Loading realizations from  ../fiducial_3x2_goodnessoffit/ppd_3x2lcdm_0321_boosted_fiducial_3x2_goodnessoffit_0_dprime_theory.npy\n",
      " - data vector size = 529\n",
      " - number of realizations = 1000\n",
      "Loading realizations from  ../fiducial_3x2_goodnessoffit/ppd_3x2lcdm_0321_boosted_fiducial_3x2_goodnessoffit_0_dprime_real.npy\n",
      " - data vector size = 529\n",
      " - number of realizations = 1000\n",
      "Loading realizations from  ../fiducial_3x2_goodnessoffit/ppd_3x2lcdm_0321_boosted_fiducial_3x2_goodnessoffit_0_d_theory.npy\n",
      " - data vector size = 529\n",
      " - number of realizations = 1000\n",
      "\n",
      "\n",
      "###############################\n",
      "## Sampling data ##############\n",
      "###############################\n",
      "Sampling at best-fit with params\n",
      "cosmological_parameters--omega_m = 0.329\n",
      "cosmological_parameters--h0 = 0.662\n",
      "cosmological_parameters--omega_b = 0.0363\n",
      "cosmological_parameters--n_s = 0.935\n",
      "cosmological_parameters--a_s = 1.9e-09\n",
      "cosmological_parameters--omnuh2 = 0.00444\n",
      "shear_calibration_parameters--m1 = -0.00537\n",
      "shear_calibration_parameters--m2 = -0.0234\n",
      "shear_calibration_parameters--m3 = -0.0199\n",
      "shear_calibration_parameters--m4 = -0.0338\n",
      "wl_photoz_errors--bias_1 = -0.00446\n",
      "wl_photoz_errors--bias_2 = -0.024\n",
      "wl_photoz_errors--bias_3 = -0.0147\n",
      "wl_photoz_errors--bias_4 = -0.00838\n",
      "lens_photoz_errors--bias_1 = 0.0062\n",
      "lens_photoz_errors--bias_2 = 0.00244\n",
      "lens_photoz_errors--bias_3 = 0.00715\n",
      "lens_photoz_errors--bias_4 = 0.00413\n",
      "lens_photoz_errors--bias_5 = -0.00513\n",
      "lens_photoz_errors--width_5 = 1.21\n",
      "bias_lens--b1        = 1.71\n",
      "bias_lens--b2        = 1.77\n",
      "bias_lens--b3        = 1.87\n",
      "bias_lens--b4        = 2.09\n",
      "bias_lens--b5        = 2.28\n",
      "intrinsic_alignment_parameters--a1 = 0.561\n",
      "intrinsic_alignment_parameters--a2 = -0.0902\n",
      "intrinsic_alignment_parameters--alpha1 = 4.81\n",
      "intrinsic_alignment_parameters--alpha2 = 1.21\n",
      "intrinsic_alignment_parameters--bias_ta = 0.146\n",
      "\n",
      "###############################\n",
      "## Compute chi2 for d #########\n",
      "###############################\n"
     ]
    },
    {
     "data": {
      "application/vnd.jupyter.widget-view+json": {
       "model_id": "c2a0934ee0094997bba290ec667ea495",
       "version_major": 2,
       "version_minor": 0
      },
      "text/plain": [
       "HBox(children=(FloatProgress(value=0.0, max=200.0), HTML(value='')))"
      ]
     },
     "metadata": {},
     "output_type": "display_data"
    },
    {
     "name": "stdout",
     "output_type": "stream",
     "text": [
      "\n",
      "\n",
      "###############################\n",
      "## Compute IS weights for d ###\n",
      "###############################\n"
     ]
    },
    {
     "data": {
      "application/vnd.jupyter.widget-view+json": {
       "model_id": "8d05263aa9d745c0a29df24507971854",
       "version_major": 2,
       "version_minor": 0
      },
      "text/plain": [
       "HBox(children=(FloatProgress(value=0.0, max=200.0), HTML(value='')))"
      ]
     },
     "metadata": {},
     "output_type": "display_data"
    },
    {
     "name": "stdout",
     "output_type": "stream",
     "text": [
      "\n",
      "(200000, 1000)\n",
      "Neff = 22.1 (median), 16th=11.1, 84th=41.9 (0 were nan's)\n",
      "\n",
      "###############################\n",
      "## Computing p-values #########\n",
      "###############################\n"
     ]
    },
    {
     "data": {
      "application/vnd.jupyter.widget-view+json": {
       "model_id": "faf79e49936c432fb8a8be4c9ddfe7f3",
       "version_major": 2,
       "version_minor": 0
      },
      "text/plain": [
       "HBox(children=(FloatProgress(value=1.0, bar_style='info', max=1.0), HTML(value='')))"
      ]
     },
     "metadata": {},
     "output_type": "display_data"
    },
    {
     "name": "stdout",
     "output_type": "stream",
     "text": [
      "\n",
      "1x2\n",
      "2x2\n",
      "gammat\n",
      "wtheta\n",
      "xim\n",
      "xip\n",
      "\n",
      "###############################\n",
      "## Calibrated p-values ########\n",
      "###############################\n",
      "     - Full         calibrated pval=0.0830 (raw pval=0.0013)\n",
      "     - 1x2          calibrated pval=0.3150 (raw pval=0.2352)\n",
      "     - 2x2          calibrated pval=0.0470 (raw pval=0.0002)\n",
      "     - gammat       calibrated pval=0.0830 (raw pval=0.0012)\n",
      "     - wtheta       calibrated pval=0.1360 (raw pval=0.0444)\n",
      "     - xim          calibrated pval=0.5130 (raw pval=0.4089)\n",
      "     - xip          calibrated pval=0.3010 (raw pval=0.2485)\n",
      "\n",
      "###############################\n",
      "## Plotting ###################\n",
      "###############################\n",
      "\n"
     ]
    },
    {
     "data": {
      "image/png": "[encoded data removed]",
      "text/plain": [
       "<Figure size 288x216 with 1 Axes>"
      ]
     },
     "metadata": {
      "image/png": {
       "height": 209,
       "width": 253
      },
      "needs_background": "light"
     },
     "output_type": "display_data"
    },
    {
     "data": {
      "image/png": "[encoded data removed]",
      "text/plain": [
       "<Figure size 288x216 with 1 Axes>"
      ]
     },
     "metadata": {
      "image/png": {
       "height": 209,
       "width": 253
      },
      "needs_background": "light"
     },
     "output_type": "display_data"
    },
    {
     "data": {
      "image/png": "[encoded data removed]",
      "text/plain": [
       "<Figure size 288x216 with 1 Axes>"
      ]
     },
     "metadata": {
      "image/png": {
       "height": 209,
       "width": 253
      },
      "needs_background": "light"
     },
     "output_type": "display_data"
    },
    {
     "data": {
      "image/png": "[encoded data removed]",
      "text/plain": [
       "<Figure size 288x216 with 1 Axes>"
      ]
     },
     "metadata": {
      "image/png": {
       "height": 209,
       "width": 253
      },
      "needs_background": "light"
     },
     "output_type": "display_data"
    },
    {
     "data": {
      "image/png": "[encoded data removed]",
      "text/plain": [
       "<Figure size 288x216 with 1 Axes>"
      ]
     },
     "metadata": {
      "image/png": {
       "height": 209,
       "width": 253
      },
      "needs_background": "light"
     },
     "output_type": "display_data"
    },
    {
     "data": {
      "image/png": "[encoded data removed]",
      "text/plain": [
       "<Figure size 288x216 with 1 Axes>"
      ]
     },
     "metadata": {
      "image/png": {
       "height": 209,
       "width": 253
      },
      "needs_background": "light"
     },
     "output_type": "display_data"
    },
    {
     "data": {
      "image/png": "[encoded data removed]",
      "text/plain": [
       "<Figure size 288x216 with 1 Axes>"
      ]
     },
     "metadata": {
      "image/png": {
       "height": 209,
       "width": 253
      },
      "needs_background": "light"
     },
     "output_type": "display_data"
    },
    {
     "data": {
      "image/png": "[encoded data removed]",
      "text/plain": [
       "<Figure size 288x216 with 1 Axes>"
      ]
     },
     "metadata": {
      "image/png": {
       "height": 209,
       "width": 253
      },
      "needs_background": "light"
     },
     "output_type": "display_data"
    },
    {
     "data": {
      "image/png": "[encoded data removed]",
      "text/plain": [
       "<Figure size 288x216 with 1 Axes>"
      ]
     },
     "metadata": {
      "image/png": {
       "height": 209,
       "width": 253
      },
      "needs_background": "light"
     },
     "output_type": "display_data"
    },
    {
     "data": {
      "image/png": "[encoded data removed]",
      "text/plain": [
       "<Figure size 288x216 with 1 Axes>"
      ]
     },
     "metadata": {
      "image/png": {
       "height": 209,
       "width": 253
      },
      "needs_background": "light"
     },
     "output_type": "display_data"
    }
   ],
   "source": [
    "res_pcal = []\n",
    "\n",
    "pvals_subsets={k:None for k in['xip','xim', 'gammat','wtheta','1x2','2x2']}\n",
    "\n",
    "import sys, os\n",
    "\n",
    "# Disable\n",
    "def blockPrint():\n",
    "    sys.stdout = open(os.devnull, 'w')\n",
    "\n",
    "# Restore\n",
    "def enablePrint():\n",
    "    sys.stdout = sys.__stdout__\n",
    "\n",
    "for _ in trange(10):\n",
    "    #blockPrint()\n",
    "    temp = calib.calibrate_pvals(\n",
    "        path_ppd=path_ppd,\n",
    "        path_chain=path_chain,\n",
    "        path_dv=path_dv,\n",
    "        RUN_NAME=RUN_NAME,\n",
    "        RUN_NAME_PPD=RUN_NAME_PPD,\n",
    "        DATAFILE=DATAFILE,\n",
    "        fiducial_dv=fiducial_dv,\n",
    "        data_sets_d=['xip','xim', 'gammat','wtheta'],\n",
    "        data_sets_dprime=['xip','xim', 'gammat','wtheta'],\n",
    "        N=1000, # 10^4 should give reasonable results, but for memory-sake can try smaller like 100\n",
    "        title=RUN_NAME_PPD,\n",
    "            pval_data=res[0]['full'],\n",
    "#         use_pm=True,\n",
    "        use_pm=False,\n",
    "        clip_is=0.1,\n",
    "        ndraws=1,\n",
    "        chunks=200,\n",
    "        size_chunk=1000,\n",
    "    #     pvals_subsets=res[0],\n",
    "        #use_logit=(1e-6,1),\n",
    "        get_zbin_pair_pcal=False,\n",
    "        pvals_subsets=pvals_subsets,\n",
    "#         sample_from='fiducial_dv'  # Trying this (different from y1 notebook)\n",
    "        sample_from='best-fit'  # Trying this (different from y1 notebook)\n",
    "    )\n",
    "    res_pcal.append(temp)\n",
    "    #enablePrint()\n",
    "    pickle.dump(res_pcal, open('res_pcal_'+RUN_NAME_PPD+'.pickle', 'wb'))\n",
    "    "
   ]
  },
  {
   "cell_type": "markdown",
   "metadata": {},
   "source": [
    "### Without pm"
   ]
  },
  {
   "cell_type": "code",
   "execution_count": 34,
   "metadata": {},
   "outputs": [],
   "source": [
    "pvals_rsd = np.concatenate([r[0] for r in res_pcal])"
   ]
  },
  {
   "cell_type": "code",
   "execution_count": 35,
   "metadata": {},
   "outputs": [
    {
     "data": {
      "text/plain": [
       "(10000,)"
      ]
     },
     "execution_count": 35,
     "metadata": {},
     "output_type": "execute_result"
    }
   ],
   "source": [
    "pvals_rsd.shape"
   ]
  },
  {
   "cell_type": "code",
   "execution_count": 36,
   "metadata": {},
   "outputs": [
    {
     "name": "stdout",
     "output_type": "stream",
     "text": [
      "0.0826\n"
     ]
    },
    {
     "data": {
      "image/png": "[encoded data removed]",
      "text/plain": [
       "<Figure size 432x288 with 1 Axes>"
      ]
     },
     "metadata": {
      "image/png": {
       "height": 248,
       "width": 381
      },
      "needs_background": "light"
     },
     "output_type": "display_data"
    }
   ],
   "source": [
    "plt.hist(pvals_rsd, 100);\n",
    "print(np.sum(pvals_rsd<=0.0013)/10000)"
   ]
  },
  {
   "cell_type": "code",
   "execution_count": 37,
   "metadata": {},
   "outputs": [
    {
     "name": "stdout",
     "output_type": "stream",
     "text": [
      "xip 0.24848476678083134 0.3106\n",
      "xim 0.40887941500643915 0.5128\n",
      "gammat 0.0012004674632756208 0.09\n",
      "wtheta 0.044442849463039676 0.1368\n",
      "1x2 0.23520132472204613 0.3226\n",
      "2x2 0.00018780743109626037 0.0475\n"
     ]
    },
    {
     "data": {
      "text/plain": [
       "<matplotlib.legend.Legend at 0x2aaaed837ee0>"
      ]
     },
     "execution_count": 37,
     "metadata": {},
     "output_type": "execute_result"
    },
    {
     "data": {
      "image/png": "[encoded data removed]",
      "text/plain": [
       "<Figure size 432x288 with 1 Axes>"
      ]
     },
     "metadata": {
      "image/png": {
       "height": 251,
       "width": 381
      },
      "needs_background": "light"
     },
     "output_type": "display_data"
    }
   ],
   "source": [
    "for key in pvals_subsets.keys():\n",
    "    _p = np.concatenate([r[1][key] for r in res_pcal])\n",
    "    print(key, pvals_subsets[key], np.sum(_p<=pvals_subsets[key])/len(_p))\n",
    "    plt.hist(_p, np.linspace(0,1,100), histtype='step', label=key);\n",
    "plt.legend()"
   ]
  },
  {
   "cell_type": "markdown",
   "metadata": {},
   "source": [
    "### With pm"
   ]
  },
  {
   "cell_type": "code",
   "execution_count": null,
   "metadata": {},
   "outputs": [],
   "source": [
    "pvals_rsd = np.concatenate([r[0] for r in res_pcal])"
   ]
  },
  {
   "cell_type": "code",
   "execution_count": 21,
   "metadata": {},
   "outputs": [
    {
     "data": {
      "text/plain": [
       "(10000,)"
      ]
     },
     "execution_count": 21,
     "metadata": {},
     "output_type": "execute_result"
    }
   ],
   "source": [
    "pvals_rsd.shape"
   ]
  },
  {
   "cell_type": "code",
   "execution_count": 26,
   "metadata": {},
   "outputs": [
    {
     "name": "stdout",
     "output_type": "stream",
     "text": [
      "0.0054\n"
     ]
    },
    {
     "data": {
      "image/png": "[encoded data removed]",
      "text/plain": [
       "<Figure size 432x288 with 1 Axes>"
      ]
     },
     "metadata": {
      "image/png": {
       "height": 248,
       "width": 375
      },
      "needs_background": "light"
     },
     "output_type": "display_data"
    }
   ],
   "source": [
    "plt.hist(pvals_rsd, 100);\n",
    "print(np.sum(pvals_rsd<=0.0013)/10000)"
   ]
  },
  {
   "cell_type": "code",
   "execution_count": 32,
   "metadata": {},
   "outputs": [
    {
     "name": "stdout",
     "output_type": "stream",
     "text": [
      "xip 0.25343558807428934 0.26\n",
      "xim 0.4086862998541982 0.4101\n",
      "gammat 0.004281422921341475 0.0294\n",
      "wtheta 0.044395811676178364 0.0413\n",
      "1x2 0.237653351766374 0.2424\n",
      "2x2 0.057858733984018126 0.0013\n"
     ]
    },
    {
     "data": {
      "text/plain": [
       "<matplotlib.legend.Legend at 0x2aaaec1f8310>"
      ]
     },
     "execution_count": 32,
     "metadata": {},
     "output_type": "execute_result"
    },
    {
     "data": {
      "image/png": "[encoded data removed]",
      "text/plain": [
       "<Figure size 432x288 with 1 Axes>"
      ]
     },
     "metadata": {
      "image/png": {
       "height": 248,
       "width": 375
      },
      "needs_background": "light"
     },
     "output_type": "display_data"
    }
   ],
   "source": [
    "for key in pvals_subsets.keys():\n",
    "    _p = np.concatenate([r[1][key] for r in res_pcal])\n",
    "    print(key, pvals_subsets[key], np.sum(_p<=pvals_subsets[key])/len(_p))\n",
    "    plt.hist(_p, np.linspace(0,1,100), histtype='step', label=key);\n",
    "plt.legend()"
   ]
  },
  {
   "cell_type": "code",
   "execution_count": null,
   "metadata": {},
   "outputs": [],
   "source": [
    "pvals_rsd = np.concatenate([r[0] for r in res_pcal])"
   ]
  },
  {
   "cell_type": "code",
   "execution_count": 21,
   "metadata": {},
   "outputs": [
    {
     "data": {
      "text/plain": [
       "(10000,)"
      ]
     },
     "execution_count": 21,
     "metadata": {},
     "output_type": "execute_result"
    }
   ],
   "source": [
    "pvals_rsd.shape"
   ]
  },
  {
   "cell_type": "code",
   "execution_count": 26,
   "metadata": {},
   "outputs": [
    {
     "name": "stdout",
     "output_type": "stream",
     "text": [
      "0.0054\n"
     ]
    },
    {
     "data": {
      "image/png": "[encoded data removed]",
      "text/plain": [
       "<Figure size 432x288 with 1 Axes>"
      ]
     },
     "metadata": {
      "image/png": {
       "height": 248,
       "width": 375
      },
      "needs_background": "light"
     },
     "output_type": "display_data"
    }
   ],
   "source": [
    "plt.hist(pvals_rsd, 100);\n",
    "print(np.sum(pvals_rsd<=0.0013)/10000)"
   ]
  },
  {
   "cell_type": "code",
   "execution_count": 32,
   "metadata": {},
   "outputs": [
    {
     "name": "stdout",
     "output_type": "stream",
     "text": [
      "xip 0.25343558807428934 0.26\n",
      "xim 0.4086862998541982 0.4101\n",
      "gammat 0.004281422921341475 0.0294\n",
      "wtheta 0.044395811676178364 0.0413\n",
      "1x2 0.237653351766374 0.2424\n",
      "2x2 0.057858733984018126 0.0013\n"
     ]
    },
    {
     "data": {
      "text/plain": [
       "<matplotlib.legend.Legend at 0x2aaaec1f8310>"
      ]
     },
     "execution_count": 32,
     "metadata": {},
     "output_type": "execute_result"
    },
    {
     "data": {
      "image/png": "[encoded data removed]",
      "text/plain": [
       "<Figure size 432x288 with 1 Axes>"
      ]
     },
     "metadata": {
      "image/png": {
       "height": 248,
       "width": 375
      },
      "needs_background": "light"
     },
     "output_type": "display_data"
    }
   ],
   "source": [
    "for key in pvals_subsets.keys():\n",
    "    _p = np.concatenate([r[1][key] for r in res_pcal])\n",
    "    print(key, pvals_subsets[key], np.sum(_p<=pvals_subsets[key])/len(_p))\n",
    "    plt.hist(_p, np.linspace(0,1,100), histtype='step', label=key);\n",
    "plt.legend()"
   ]
  },
  {
   "cell_type": "code",
   "execution_count": 23,
   "metadata": {},
   "outputs": [
    {
     "data": {
      "image/png": "[encoded data removed]",
      "text/plain": [
       "<Figure size 432x288 with 1 Axes>"
      ]
     },
     "metadata": {
      "image/png": {
       "height": 248,
       "width": 375
      },
      "needs_background": "light"
     },
     "output_type": "display_data"
    }
   ],
   "source": [
    "plt.hist(np.concatenate([r[1]['gammat'] for r in res_pcal]), 100);"
   ]
  },
  {
   "cell_type": "code",
   "execution_count": null,
   "metadata": {},
   "outputs": [],
   "source": []
  },
  {
   "cell_type": "code",
   "execution_count": null,
   "metadata": {},
   "outputs": [],
   "source": [
    "pval, dico_indices, ppd_data_obs, ppd_realizations, ppd_theory, weights, ppd_chain, ppd_output_file_basename = res\n",
    "\n",
    "fig, axes, extra = ppd_plots.ppd_plot_all_obs('xip', 4, 4, '$\\\\delta \\\\xi_+(\\\\theta)$', RUN_NAME+'_'+RUN_NAME_PPD, (2.5, 250.),\n",
    "         dico_indices,\n",
    "         all_data=fits.open(os.path.join(path_dv, DATAFILE)),\n",
    "         all_best_fit=fits.open(os.path.join(path_dv, fiducial_dv)),\n",
    "         all_realizations=ppd_realizations,\n",
    "         all_theory=ppd_theory,\n",
    "         weights=weights, invert_zizj=True, coeff_figsize=0.65, blind_y=True, pcal=pcal, scale_bestfit=True, get_chi2=False)\n",
    "\n",
    "fig, axes, extra = ppd_plots.ppd_plot_all_obs('xim', 4, 4, '$\\\\delta \\\\xi_-(\\\\theta)$', RUN_NAME+'_'+RUN_NAME_PPD, (2.5, 250.),\n",
    "         dico_indices,\n",
    "         all_data=fits.open(os.path.join(path_dv, DATAFILE)),\n",
    "         all_best_fit=fits.open(os.path.join(path_dv, fiducial_dv)),\n",
    "         all_realizations=ppd_realizations,\n",
    "         all_theory=ppd_theory,\n",
    "         weights=weights, invert_zizj=False, coeff_figsize=0.65, blind_y=True, pcal=pcal, scale_bestfit=True, get_chi2=False)\n",
    "\n",
    "fig, axes, extra = ppd_plots.ppd_plot_all_obs('gammat', 4, 5, '$\\\\delta \\\\gamma_{\\\\rm t}(\\\\theta)$', RUN_NAME+'_'+RUN_NAME_PPD, (2.5, 250.),\n",
    "         dico_indices,\n",
    "         all_data=fits.open(os.path.join(path_dv, DATAFILE)),\n",
    "         all_best_fit=fits.open(os.path.join(path_dv, fiducial_dv)),\n",
    "         all_realizations=ppd_realizations,\n",
    "         all_theory=ppd_theory,\n",
    "         weights=weights, invert_zizj=True, coeff_figsize=0.65, blind_y=True, pcal=pcal, scale_bestfit=True, get_chi2=False)\n",
    "\n",
    "fig, axes, extra = ppd_plots.ppd_plot_all_obs('wtheta', 1, 5, '$\\\\delta w(\\\\theta)$', RUN_NAME+'_'+RUN_NAME_PPD, (2.5, 250.),\n",
    "         dico_indices,\n",
    "         all_data=fits.open(os.path.join(path_dv, DATAFILE)),\n",
    "         all_best_fit=fits.open(os.path.join(path_dv, fiducial_dv)),\n",
    "         all_realizations=ppd_realizations,\n",
    "         all_theory=ppd_theory,\n",
    "         weights=weights, invert_zizj=False, coeff_figsize=0.65, blind_y=True, pcal=pcal, scale_bestfit=True, get_chi2=False)"
   ]
  },
  {
   "cell_type": "code",
   "execution_count": null,
   "metadata": {},
   "outputs": [],
   "source": [
    "pval, dico_indices, ppd_data_obs, ppd_realizations, ppd_theory, weights, ppd_chain, ppd_output_file_basename = res\n",
    "\n",
    "fig, axes, extra = ppd_plots.ppd_plot_all_obs('xip', 4, 4, '$\\\\delta \\\\xi_+(\\\\theta)$', RUN_NAME+'_'+RUN_NAME_PPD, (2.5, 250.),\n",
    "         dico_indices,\n",
    "         all_data=fits.open(os.path.join(path_dv, DATAFILE)),\n",
    "         all_best_fit=fits.open(os.path.join(path_dv, fiducial_dv)),\n",
    "         all_realizations=ppd_realizations,\n",
    "         all_theory=ppd_theory,\n",
    "         weights=weights, invert_zizj=True, coeff_figsize=0.65, blind_y=False, pcal=pcal, scale_bestfit=False, theta_factor=1, get_chi2=False)\n",
    "\n",
    "fig, axes, extra = ppd_plots.ppd_plot_all_obs('xim', 4, 4, '$\\\\delta \\\\xi_-(\\\\theta)$', RUN_NAME+'_'+RUN_NAME_PPD, (2.5, 250.),\n",
    "         dico_indices,\n",
    "         all_data=fits.open(os.path.join(path_dv, DATAFILE)),\n",
    "         all_best_fit=fits.open(os.path.join(path_dv, fiducial_dv)),\n",
    "         all_realizations=ppd_realizations,\n",
    "         all_theory=ppd_theory,\n",
    "         weights=weights, invert_zizj=False, coeff_figsize=0.65, blind_y=False, pcal=pcal, scale_bestfit=False, theta_factor=1, get_chi2=False)\n",
    "\n",
    "fig, axes, extra = ppd_plots.ppd_plot_all_obs('gammat', 4, 5, '$\\\\delta \\\\gamma_{\\\\rm t}(\\\\theta)$', RUN_NAME+'_'+RUN_NAME_PPD, (2.5, 250.),\n",
    "         dico_indices,\n",
    "         all_data=fits.open(os.path.join(path_dv, DATAFILE)),\n",
    "         all_best_fit=fits.open(os.path.join(path_dv, fiducial_dv)),\n",
    "         all_realizations=ppd_realizations,\n",
    "         all_theory=ppd_theory,\n",
    "         weights=weights, invert_zizj=True, coeff_figsize=0.65, blind_y=False, pcal=pcal, scale_bestfit=False, theta_factor=1, get_chi2=False)\n",
    "\n",
    "fig, axes, extra = ppd_plots.ppd_plot_all_obs('wtheta', 1, 5, '$\\\\delta w(\\\\theta)$', RUN_NAME+'_'+RUN_NAME_PPD, (2.5, 250.),\n",
    "         dico_indices,\n",
    "         all_data=fits.open(os.path.join(path_dv, DATAFILE)),\n",
    "         all_best_fit=fits.open(os.path.join(path_dv, fiducial_dv)),\n",
    "         all_realizations=ppd_realizations,\n",
    "         all_theory=ppd_theory,\n",
    "         weights=weights, invert_zizj=False, coeff_figsize=0.65, blind_y=False, pcal=pcal, scale_bestfit=False, theta_factor=1, get_chi2=False)"
   ]
  }
 ],
 "metadata": {
  "kernelspec": {
   "display_name": "mykernel3",
   "language": "python",
   "name": "mykernel3"
  },
  "language_info": {
   "codemirror_mode": {
    "name": "ipython",
    "version": 3
   },
   "file_extension": ".py",
   "mimetype": "text/x-python",
   "name": "python",
   "nbconvert_exporter": "python",
   "pygments_lexer": "ipython3",
   "version": "3.8.2"
  }
 },
 "nbformat": 4,
 "nbformat_minor": 4
}
