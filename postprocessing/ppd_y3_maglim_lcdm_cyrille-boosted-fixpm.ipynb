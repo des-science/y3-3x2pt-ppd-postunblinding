{
 "cells": [
  {
   "cell_type": "code",
   "execution_count": 1,
   "metadata": {},
   "outputs": [],
   "source": [
    "%load_ext autoreload\n",
    "%autoreload 2"
   ]
  },
  {
   "cell_type": "markdown",
   "metadata": {},
   "source": [
    "This follows the setup of ppd_y1_data.ipynb, but there are some different configurations.  This particular notebook has locations set to the Ohio Supercomputer (and some things like the sys.path.append call below are unnecessary if you are in the `ppd/postprocessing directory`)."
   ]
  },
  {
   "cell_type": "code",
   "execution_count": 2,
   "metadata": {},
   "outputs": [],
   "source": [
    "import sys\n",
    "#sys.path.append(\"/users/PCON0003/cond0080/src/y3-3x2pt-ppd/postprocessing\")\n",
    "import utils_6x2 as util\n",
    "import utils_ppd as ppd\n",
    "import utils_ppd_plots as ppd_plots\n",
    "import utils_ppd_calib as calib\n",
    "from astropy.io import fits\n",
    "\n",
    "from tqdm.auto import tqdm, trange\n",
    "\n",
    "import castor as ca\n",
    "import pickle"
   ]
  },
  {
   "cell_type": "code",
   "execution_count": 3,
   "metadata": {},
   "outputs": [],
   "source": [
    "path_ppd = '../'\n",
    "# path_chain = '../../trimmed_chains/'\n",
    "path_chain = '../../trimmed_chains_test/'\n",
    "# path_chain = '/project/projectdirs/des/www/y3_chains/3x2pt/final_paper_chains/'\n",
    "path_dv = '../../../data/des-y3/'\n",
    "\n",
    "DATAFILE = '2pt_NG_final_2ptunblind_02_26_21_wnz_maglim_covupdate.fits'\n",
    "\n",
    "fiducial_dv = '2pt_NG_final_2ptunblind_02_26_21_wnz_maglim_covupdate.fits'"
   ]
  },
  {
   "cell_type": "code",
   "execution_count": 4,
   "metadata": {},
   "outputs": [],
   "source": [
    "main_subsets = ['full', '1x2', '2x2', 'xip', 'xim', 'gammat', 'wtheta']"
   ]
  },
  {
   "cell_type": "markdown",
   "metadata": {},
   "source": [
    "# 3x2 goodness of fit"
   ]
  },
  {
   "cell_type": "code",
   "execution_count": 5,
   "metadata": {},
   "outputs": [],
   "source": [
    "a = np.loadtxt('../../trimmed_chains/chain_3x2pt_lcdm_SR_maglim_boosted.txt')\n",
    "\n",
    "with open('../../trimmed_chains/chain_3x2pt_lcdm_SR_maglim_boosted.txt', 'r') as f:\n",
    "    header = f.readline()\n",
    "    \n",
    "np.savetxt('../../trimmed_chains_test/chain_3x2pt_lcdm_SR_maglim_boosted.txt', a[:222000], header=header[2:-1])"
   ]
  },
  {
   "cell_type": "code",
   "execution_count": 6,
   "metadata": {},
   "outputs": [
    {
     "name": "stdout",
     "output_type": "stream",
     "text": [
      "# cosmological_parameters--omega_m cosmological_parameters--h0 cosmological_parameters--omega_b cosmological_parameters--n_s cosmological_parameters--a_s cosmological_parameters--omnuh2 shear_calibration_parameters--m1 shear_calibration_parameters--m2 shear_calibration_parameters--m3 shear_calibration_parameters--m4 wl_photoz_errors--bias_1 wl_photoz_errors--bias_2 wl_photoz_errors--bias_3 wl_photoz_errors--bias_4 lens_photoz_errors--bias_1 lens_photoz_errors--bias_2 lens_photoz_errors--bias_3 lens_photoz_errors--bias_4 lens_photoz_errors--width_1 lens_photoz_errors--width_2 lens_photoz_errors--width_3 lens_photoz_errors--width_4 bias_lens--b1 bias_lens--b2 bias_lens--b3 bias_lens--b4 intrinsic_alignment_parameters--a1 intrinsic_alignment_parameters--a2 intrinsic_alignment_parameters--alpha1 intrinsic_alignment_parameters--alpha2 intrinsic_alignment_parameters--bias_ta weight\n",
      "\n"
     ]
    }
   ],
   "source": [
    "with open('../../trimmed_chains_test/chain_3x2pt_lcdm_SR_maglim_boosted.txt', 'r') as f:\n",
    "    print(f.readline())#[1:].split())"
   ]
  },
  {
   "cell_type": "code",
   "execution_count": 7,
   "metadata": {
    "tags": []
   },
   "outputs": [
    {
     "name": "stdout",
     "output_type": "stream",
     "text": [
      "\n",
      "###############################\n",
      "## Loading chains #############\n",
      "###############################\n"
     ]
    },
    {
     "data": {
      "application/vnd.jupyter.widget-view+json": {
       "model_id": "41e5e35b92f64bdaae009282bd575b8d",
       "version_major": 2,
       "version_minor": 0
      },
      "text/plain": [
       "HBox(children=(FloatProgress(value=0.0, max=222.0), HTML(value='')))"
      ]
     },
     "metadata": {},
     "output_type": "display_data"
    },
    {
     "name": "stdout",
     "output_type": "stream",
     "text": [
      "Loading list chain at\n",
      "../maglim_3x2_goodnessoffit/ppd_chain_3x2pt_lcdm_SR_maglim_boosted_maglim_3x2_goodnessoffit_0.txt\n",
      "- using params\n",
      "['cosmological_parameters--omega_m', 'cosmological_parameters--h0', 'cosmological_parameters--omega_b', 'cosmological_parameters--n_s', 'cosmological_parameters--a_s', 'cosmological_parameters--omnuh2', 'cosmological_parameters--w', 'cosmological_parameters--massive_nu', 'cosmological_parameters--massless_nu', 'cosmological_parameters--omega_k', 'cosmological_parameters--tau', 'shear_calibration_parameters--m1', 'shear_calibration_parameters--m2', 'shear_calibration_parameters--m3', 'shear_calibration_parameters--m4', 'wl_photoz_errors--bias_1', 'wl_photoz_errors--bias_2', 'wl_photoz_errors--bias_3', 'wl_photoz_errors--bias_4', 'lens_photoz_errors--bias_1', 'lens_photoz_errors--bias_2', 'lens_photoz_errors--bias_3', 'lens_photoz_errors--bias_4', 'lens_photoz_errors--bias_5', 'lens_photoz_errors--width_1', 'lens_photoz_errors--width_2', 'lens_photoz_errors--width_3', 'lens_photoz_errors--width_4', 'lens_photoz_errors--width_5', 'lens_photoz_errors--bias_6', 'lens_photoz_errors--width_6', 'bias_lens--b1', 'bias_lens--b2', 'bias_lens--b3', 'bias_lens--b4', 'bias_lens--b5', 'bias_lens--b6', 'mag_alpha_lens--alpha_1', 'mag_alpha_lens--alpha_2', 'mag_alpha_lens--alpha_3', 'mag_alpha_lens--alpha_4', 'mag_alpha_lens--alpha_5', 'mag_alpha_lens--alpha_6', 'intrinsic_alignment_parameters--z_piv', 'intrinsic_alignment_parameters--a1', 'intrinsic_alignment_parameters--a2', 'intrinsic_alignment_parameters--alpha1', 'intrinsic_alignment_parameters--alpha2', 'intrinsic_alignment_parameters--bias_ta', 'COSMOLOGICAL_PARAMETERS--SIGMA_8', 'COSMOLOGICAL_PARAMETERS--SIGMA_12', 'DATA_VECTOR--2PT_CHI2', 'DATA_VECTOR--2PT_D_CHI2', 'DATA_VECTOR--2PT_DPRIME_CHI2', 'DATA_VECTOR--2PT_XIP_CHI2', 'DATA_VECTOR--2PT_XIM_CHI2', 'DATA_VECTOR--2PT_1X2_CHI2', 'DATA_VECTOR--2PT_GAMMAT_CHI2', 'DATA_VECTOR--2PT_WTHETA_CHI2', 'DATA_VECTOR--2PT_2X2_CHI2', 'PPD--CHI2_DPRIME_DATA', 'PPD--CHI2_DPRIME_REALIZATION', 'PPD--CHI2_D_DATA', 'PPD--CHI2_XIP_DATA', 'PPD--CHI2_XIP_REALIZATION', 'PPD--CHI2_XIM_DATA', 'PPD--CHI2_XIM_REALIZATION', 'PPD--CHI2_1X2_DATA', 'PPD--CHI2_1X2_REALIZATION', 'PPD--CHI2_GAMMAT_DATA', 'PPD--CHI2_GAMMAT_REALIZATION', 'PPD--CHI2_WTHETA_DATA', 'PPD--CHI2_WTHETA_REALIZATION', 'PPD--CHI2_2X2_DATA', 'PPD--CHI2_2X2_REALIZATION', 'PPD--CHI2_DPRIME_COMP_AVG', 'PPD--CHI2_XIP_COMP_AVG', 'PPD--CHI2_XIM_COMP_AVG', 'PPD--CHI2_1X2_COMP_AVG', 'PPD--CHI2_GAMMAT_COMP_AVG', 'PPD--CHI2_WTHETA_COMP_AVG', 'PPD--CHI2_2X2_COMP_AVG', 'prior', 'post']\n",
      "- using nsample =  1000\n",
      "\n",
      "Loading chain at\n",
      "../../trimmed_chains_test/chain_3x2pt_lcdm_SR_maglim_boosted.txt\n",
      "Sampler not found -- non-standard cosmosis output\n",
      "- using params\n",
      "['cosmological_parameters--omega_m', 'cosmological_parameters--h0', 'cosmological_parameters--omega_b', 'cosmological_parameters--n_s', 'cosmological_parameters--a_s', 'cosmological_parameters--omnuh2', 'shear_calibration_parameters--m1', 'shear_calibration_parameters--m2', 'shear_calibration_parameters--m3', 'shear_calibration_parameters--m4', 'wl_photoz_errors--bias_1', 'wl_photoz_errors--bias_2', 'wl_photoz_errors--bias_3', 'wl_photoz_errors--bias_4', 'lens_photoz_errors--bias_1', 'lens_photoz_errors--bias_2', 'lens_photoz_errors--bias_3', 'lens_photoz_errors--bias_4', 'lens_photoz_errors--width_1', 'lens_photoz_errors--width_2', 'lens_photoz_errors--width_3', 'lens_photoz_errors--width_4', 'bias_lens--b1', 'bias_lens--b2', 'bias_lens--b3', 'bias_lens--b4', 'intrinsic_alignment_parameters--a1', 'intrinsic_alignment_parameters--a2', 'intrinsic_alignment_parameters--alpha1', 'intrinsic_alignment_parameters--alpha2', 'intrinsic_alignment_parameters--bias_ta', 'weight']\n",
      "- using nsample =  222000\n",
      "Using 222 chunks of size [1000, 1000, 1000, 1000, 1000, 1000, 1000, 1000, 1000, 1000, 1000, 1000, 1000, 1000, 1000, 1000, 1000, 1000, 1000, 1000, 1000, 1000, 1000, 1000, 1000, 1000, 1000, 1000, 1000, 1000, 1000, 1000, 1000, 1000, 1000, 1000, 1000, 1000, 1000, 1000, 1000, 1000, 1000, 1000, 1000, 1000, 1000, 1000, 1000, 1000, 1000, 1000, 1000, 1000, 1000, 1000, 1000, 1000, 1000, 1000, 1000, 1000, 1000, 1000, 1000, 1000, 1000, 1000, 1000, 1000, 1000, 1000, 1000, 1000, 1000, 1000, 1000, 1000, 1000, 1000, 1000, 1000, 1000, 1000, 1000, 1000, 1000, 1000, 1000, 1000, 1000, 1000, 1000, 1000, 1000, 1000, 1000, 1000, 1000, 1000, 1000, 1000, 1000, 1000, 1000, 1000, 1000, 1000, 1000, 1000, 1000, 1000, 1000, 1000, 1000, 1000, 1000, 1000, 1000, 1000, 1000, 1000, 1000, 1000, 1000, 1000, 1000, 1000, 1000, 1000, 1000, 1000, 1000, 1000, 1000, 1000, 1000, 1000, 1000, 1000, 1000, 1000, 1000, 1000, 1000, 1000, 1000, 1000, 1000, 1000, 1000, 1000, 1000, 1000, 1000, 1000, 1000, 1000, 1000, 1000, 1000, 1000, 1000, 1000, 1000, 1000, 1000, 1000, 1000, 1000, 1000, 1000, 1000, 1000, 1000, 1000, 1000, 1000, 1000, 1000, 1000, 1000, 1000, 1000, 1000, 1000, 1000, 1000, 1000, 1000, 1000, 1000, 1000, 1000, 1000, 1000, 1000, 1000, 1000, 1000, 1000, 1000, 1000, 1000, 1000, 1000, 1000, 1000, 1000, 1000, 1000, 1000, 1000, 1000, 1000, 1000, 1000, 1000, 1000, 1000, 1000, 1000] (1000) for a total of 222000 posterior samples\n",
      "\n",
      "###############################\n",
      "## Getting p-values ###########\n",
      "###############################\n",
      "     - Full     pval=0.0123 +0.0004/-0.0004  [16=0.0118, 50=0.0123, 84=0.0127] (0.011799273306169387)\n",
      "     - XIP      pval=0.2171 +0.0016/-0.0016  [16=0.2155, 50=0.2171, 84=0.2187] (0.2170783250115672)\n",
      "     - XIM      pval=0.3440 +0.0018/-0.0017  [16=0.3423, 50=0.3440, 84=0.3458] (0.3464764733277622)\n",
      "     - 1X2      pval=0.1856 +0.0015/-0.0016  [16=0.1840, 50=0.1856, 84=0.1871] (0.18582357196909402)\n",
      "     - GAMMAT   pval=0.0036 +0.0002/-0.0002  [16=0.0033, 50=0.0036, 84=0.0038] (0.0033519408820354337)\n",
      "     - WTHETA   pval=0.3051 +0.0016/-0.0016  [16=0.3035, 50=0.3051, 84=0.3066] (0.30345720580321145)\n",
      "     - 2X2      pval=0.0040 +0.0002/-0.0002  [16=0.0038, 50=0.0040, 84=0.0042] (0.0037573072899921437)\n",
      "\n",
      "###############################\n",
      "## Loading scale/bin cuts #####\n",
      "###############################\n",
      "Found observables in data_file ['xip', 'xim', 'gammat', 'wtheta']\n",
      "Reading options for likelihood module:  2pt_dprime_like\n",
      "Found scale cuts for  {'xip': [(1, 1), (1, 2), (1, 3), (1, 4), (2, 2), (2, 3), (2, 4), (3, 3), (3, 4), (4, 4)], 'xim': [(1, 1), (1, 2), (1, 3), (1, 4), (2, 2), (2, 3), (2, 4), (3, 3), (3, 4), (4, 4)], 'gammat': [(1, 1), (1, 2), (1, 3), (1, 4), (2, 1), (2, 2), (2, 3), (2, 4), (3, 1), (3, 2), (3, 3), (3, 4), (4, 1), (4, 2), (4, 3), (4, 4), (5, 1), (5, 2), (5, 3), (5, 4), (6, 1), (6, 2), (6, 3), (6, 4)], 'wtheta': [(1, 1), (1, 2), (1, 3), (1, 4), (1, 5), (1, 6), (2, 2), (2, 3), (2, 4), (2, 5), (2, 6), (3, 3), (3, 4), (3, 5), (3, 6), (4, 4), (4, 5), (4, 6), (5, 5), (5, 6), (6, 6)]}\n",
      "Getting indices for xip\n",
      "Getting indices for xim\n",
      "Getting indices for gammat\n",
      "Getting indices for wtheta\n"
     ]
    }
   ],
   "source": [
    "RUN_NAME = '3x2pt_lcdm_SR_maglim_boosted'\n",
    "RUN_NAME_PPD = 'maglim_3x2_goodnessoffit'\n",
    "\n",
    "res = ppd.load_run(\n",
    "    path_ppd=path_ppd,\n",
    "    path_chain=path_chain,\n",
    "    path_dv=path_dv,\n",
    "    RUN_NAME=RUN_NAME,\n",
    "    RUN_NAME_PPD=RUN_NAME_PPD,\n",
    "    DATAFILE=DATAFILE,\n",
    "    chunks=222,\n",
    "    size_chunk=1000,\n",
    "    data_sets=['xip', 'xim', 'gammat', 'wtheta'],\n",
    "    load_dvs=False,\n",
    "\n",
    ")"
   ]
  },
  {
   "cell_type": "code",
   "execution_count": 8,
   "metadata": {
    "collapsed": true,
    "jupyter": {
     "outputs_hidden": true
    },
    "tags": []
   },
   "outputs": [
    {
     "data": {
      "application/vnd.jupyter.widget-view+json": {
       "model_id": "41287a0f16c04434b9a7df97423d4a44",
       "version_major": 2,
       "version_minor": 0
      },
      "text/plain": [
       "HBox(children=(FloatProgress(value=0.0, max=10.0), HTML(value='')))"
      ]
     },
     "metadata": {},
     "output_type": "display_data"
    },
    {
     "name": "stdout",
     "output_type": "stream",
     "text": [
      "\n",
      "###############################\n",
      "## Loading chains #############\n",
      "###############################\n"
     ]
    },
    {
     "data": {
      "application/vnd.jupyter.widget-view+json": {
       "model_id": "0cd25bf4230944d788945b3d597e7755",
       "version_major": 2,
       "version_minor": 0
      },
      "text/plain": [
       "HBox(children=(FloatProgress(value=0.0, max=222.0), HTML(value='')))"
      ]
     },
     "metadata": {},
     "output_type": "display_data"
    },
    {
     "name": "stdout",
     "output_type": "stream",
     "text": [
      "Loading list chain at\n",
      "../maglim_3x2_goodnessoffit/ppd_chain_3x2pt_lcdm_SR_maglim_boosted_maglim_3x2_goodnessoffit_0.txt\n",
      "- using params\n",
      "['cosmological_parameters--omega_m', 'cosmological_parameters--h0', 'cosmological_parameters--omega_b', 'cosmological_parameters--n_s', 'cosmological_parameters--a_s', 'cosmological_parameters--omnuh2', 'cosmological_parameters--w', 'cosmological_parameters--massive_nu', 'cosmological_parameters--massless_nu', 'cosmological_parameters--omega_k', 'cosmological_parameters--tau', 'shear_calibration_parameters--m1', 'shear_calibration_parameters--m2', 'shear_calibration_parameters--m3', 'shear_calibration_parameters--m4', 'wl_photoz_errors--bias_1', 'wl_photoz_errors--bias_2', 'wl_photoz_errors--bias_3', 'wl_photoz_errors--bias_4', 'lens_photoz_errors--bias_1', 'lens_photoz_errors--bias_2', 'lens_photoz_errors--bias_3', 'lens_photoz_errors--bias_4', 'lens_photoz_errors--bias_5', 'lens_photoz_errors--width_1', 'lens_photoz_errors--width_2', 'lens_photoz_errors--width_3', 'lens_photoz_errors--width_4', 'lens_photoz_errors--width_5', 'lens_photoz_errors--bias_6', 'lens_photoz_errors--width_6', 'bias_lens--b1', 'bias_lens--b2', 'bias_lens--b3', 'bias_lens--b4', 'bias_lens--b5', 'bias_lens--b6', 'mag_alpha_lens--alpha_1', 'mag_alpha_lens--alpha_2', 'mag_alpha_lens--alpha_3', 'mag_alpha_lens--alpha_4', 'mag_alpha_lens--alpha_5', 'mag_alpha_lens--alpha_6', 'intrinsic_alignment_parameters--z_piv', 'intrinsic_alignment_parameters--a1', 'intrinsic_alignment_parameters--a2', 'intrinsic_alignment_parameters--alpha1', 'intrinsic_alignment_parameters--alpha2', 'intrinsic_alignment_parameters--bias_ta', 'COSMOLOGICAL_PARAMETERS--SIGMA_8', 'COSMOLOGICAL_PARAMETERS--SIGMA_12', 'DATA_VECTOR--2PT_CHI2', 'DATA_VECTOR--2PT_D_CHI2', 'DATA_VECTOR--2PT_DPRIME_CHI2', 'DATA_VECTOR--2PT_XIP_CHI2', 'DATA_VECTOR--2PT_XIM_CHI2', 'DATA_VECTOR--2PT_1X2_CHI2', 'DATA_VECTOR--2PT_GAMMAT_CHI2', 'DATA_VECTOR--2PT_WTHETA_CHI2', 'DATA_VECTOR--2PT_2X2_CHI2', 'PPD--CHI2_DPRIME_DATA', 'PPD--CHI2_DPRIME_REALIZATION', 'PPD--CHI2_D_DATA', 'PPD--CHI2_XIP_DATA', 'PPD--CHI2_XIP_REALIZATION', 'PPD--CHI2_XIM_DATA', 'PPD--CHI2_XIM_REALIZATION', 'PPD--CHI2_1X2_DATA', 'PPD--CHI2_1X2_REALIZATION', 'PPD--CHI2_GAMMAT_DATA', 'PPD--CHI2_GAMMAT_REALIZATION', 'PPD--CHI2_WTHETA_DATA', 'PPD--CHI2_WTHETA_REALIZATION', 'PPD--CHI2_2X2_DATA', 'PPD--CHI2_2X2_REALIZATION', 'PPD--CHI2_DPRIME_COMP_AVG', 'PPD--CHI2_XIP_COMP_AVG', 'PPD--CHI2_XIM_COMP_AVG', 'PPD--CHI2_1X2_COMP_AVG', 'PPD--CHI2_GAMMAT_COMP_AVG', 'PPD--CHI2_WTHETA_COMP_AVG', 'PPD--CHI2_2X2_COMP_AVG', 'prior', 'post']\n",
      "- using nsample =  1000\n",
      "\n",
      "Loading chain at\n",
      "../../trimmed_chains_test/chain_3x2pt_lcdm_SR_maglim_boosted.txt\n",
      "Sampler not found -- non-standard cosmosis output\n",
      "Using 222 chunks of size [1000, 1000, 1000, 1000, 1000, 1000, 1000, 1000, 1000, 1000, 1000, 1000, 1000, 1000, 1000, 1000, 1000, 1000, 1000, 1000, 1000, 1000, 1000, 1000, 1000, 1000, 1000, 1000, 1000, 1000, 1000, 1000, 1000, 1000, 1000, 1000, 1000, 1000, 1000, 1000, 1000, 1000, 1000, 1000, 1000, 1000, 1000, 1000, 1000, 1000, 1000, 1000, 1000, 1000, 1000, 1000, 1000, 1000, 1000, 1000, 1000, 1000, 1000, 1000, 1000, 1000, 1000, 1000, 1000, 1000, 1000, 1000, 1000, 1000, 1000, 1000, 1000, 1000, 1000, 1000, 1000, 1000, 1000, 1000, 1000, 1000, 1000, 1000, 1000, 1000, 1000, 1000, 1000, 1000, 1000, 1000, 1000, 1000, 1000, 1000, 1000, 1000, 1000, 1000, 1000, 1000, 1000, 1000, 1000, 1000, 1000, 1000, 1000, 1000, 1000, 1000, 1000, 1000, 1000, 1000, 1000, 1000, 1000, 1000, 1000, 1000, 1000, 1000, 1000, 1000, 1000, 1000, 1000, 1000, 1000, 1000, 1000, 1000, 1000, 1000, 1000, 1000, 1000, 1000, 1000, 1000, 1000, 1000, 1000, 1000, 1000, 1000, 1000, 1000, 1000, 1000, 1000, 1000, 1000, 1000, 1000, 1000, 1000, 1000, 1000, 1000, 1000, 1000, 1000, 1000, 1000, 1000, 1000, 1000, 1000, 1000, 1000, 1000, 1000, 1000, 1000, 1000, 1000, 1000, 1000, 1000, 1000, 1000, 1000, 1000, 1000, 1000, 1000, 1000, 1000, 1000, 1000, 1000, 1000, 1000, 1000, 1000, 1000, 1000, 1000, 1000, 1000, 1000, 1000, 1000, 1000, 1000, 1000, 1000, 1000, 1000, 1000, 1000, 1000, 1000, 1000, 1000] (1000) for a total of 222000 posterior samples\n",
      "\n",
      "###############################\n",
      "## Loading scale/bin cuts #####\n",
      "###############################\n",
      "Found observables in data_file ['xip', 'xim', 'gammat', 'wtheta']\n",
      "Reading options for likelihood module:  2pt_d_like\n",
      "Found scale cuts for  {'xip': [(1, 1), (1, 2), (1, 3), (1, 4), (2, 2), (2, 3), (2, 4), (3, 3), (3, 4), (4, 4)], 'xim': [(1, 1), (1, 2), (1, 3), (1, 4), (2, 2), (2, 3), (2, 4), (3, 3), (3, 4), (4, 4)], 'gammat': [(1, 1), (1, 2), (1, 3), (1, 4), (2, 1), (2, 2), (2, 3), (2, 4), (3, 1), (3, 2), (3, 3), (3, 4), (4, 1), (4, 2), (4, 3), (4, 4), (5, 1), (5, 2), (5, 3), (5, 4), (6, 1), (6, 2), (6, 3), (6, 4)], 'wtheta': [(1, 1), (1, 2), (1, 3), (1, 4), (1, 5), (1, 6), (2, 2), (2, 3), (2, 4), (2, 5), (2, 6), (3, 3), (3, 4), (3, 5), (3, 6), (4, 4), (4, 5), (4, 6), (5, 5), (5, 6), (6, 6)]}\n",
      "Getting indices for xip\n",
      "Getting indices for xim\n",
      "Getting indices for gammat\n",
      "Getting indices for wtheta\n",
      "\n",
      "Found observables in data_file ['xip', 'xim', 'gammat', 'wtheta']\n",
      "Reading options for likelihood module:  2pt_dprime_like\n",
      "Found scale cuts for  {'xip': [(1, 1), (1, 2), (1, 3), (1, 4), (2, 2), (2, 3), (2, 4), (3, 3), (3, 4), (4, 4)], 'xim': [(1, 1), (1, 2), (1, 3), (1, 4), (2, 2), (2, 3), (2, 4), (3, 3), (3, 4), (4, 4)], 'gammat': [(1, 1), (1, 2), (1, 3), (1, 4), (2, 1), (2, 2), (2, 3), (2, 4), (3, 1), (3, 2), (3, 3), (3, 4), (4, 1), (4, 2), (4, 3), (4, 4), (5, 1), (5, 2), (5, 3), (5, 4), (6, 1), (6, 2), (6, 3), (6, 4)], 'wtheta': [(1, 1), (1, 2), (1, 3), (1, 4), (1, 5), (1, 6), (2, 2), (2, 3), (2, 4), (2, 5), (2, 6), (3, 3), (3, 4), (3, 5), (3, 6), (4, 4), (4, 5), (4, 6), (5, 5), (5, 6), (6, 6)]}\n",
      "Getting indices for xip\n",
      "Getting indices for xim\n",
      "Getting indices for gammat\n",
      "Getting indices for wtheta\n",
      "\n",
      "Using subsets ['1x2', '2x2', 'gammat', 'wtheta', 'xim', 'xip']\n",
      "\n",
      "Using same indices for d and dprime -> conditioning turned off\n",
      "\n",
      "###############################\n",
      "## Loading realizations #######\n",
      "###############################\n"
     ]
    },
    {
     "data": {
      "application/vnd.jupyter.widget-view+json": {
       "model_id": "a03ac9b296db4c87960eb8095e56cbf3",
       "version_major": 2,
       "version_minor": 0
      },
      "text/plain": [
       "HBox(children=(FloatProgress(value=0.0, max=222.0), HTML(value='')))"
      ]
     },
     "metadata": {},
     "output_type": "display_data"
    },
    {
     "name": "stdout",
     "output_type": "stream",
     "text": [
      "Loading realizations from  ../maglim_3x2_goodnessoffit/ppd_3x2pt_lcdm_SR_maglim_boosted_maglim_3x2_goodnessoffit_0_dprime_theory.npy\n",
      " - data vector size = 462\n",
      " - number of realizations = 1000\n",
      "Loading realizations from  ../maglim_3x2_goodnessoffit/ppd_3x2pt_lcdm_SR_maglim_boosted_maglim_3x2_goodnessoffit_0_dprime_real.npy\n",
      " - data vector size = 462\n",
      " - number of realizations = 1000\n",
      "Loading realizations from  ../maglim_3x2_goodnessoffit/ppd_3x2pt_lcdm_SR_maglim_boosted_maglim_3x2_goodnessoffit_0_d_theory.npy\n",
      " - data vector size = 462\n",
      " - number of realizations = 1000\n",
      "\n",
      "\n",
      "###############################\n",
      "## Sampling data ##############\n",
      "###############################\n",
      "Sampling at best-fit with params\n",
      "cosmological_parameters--omega_m = 0.365\n",
      "cosmological_parameters--h0 = 0.56\n",
      "cosmological_parameters--omega_b = 0.0343\n",
      "cosmological_parameters--n_s = 1.03\n",
      "cosmological_parameters--a_s = 2.27e-09\n",
      "cosmological_parameters--omnuh2 = 0.00524\n",
      "shear_calibration_parameters--m1 = -0.00157\n",
      "shear_calibration_parameters--m2 = -0.0231\n",
      "shear_calibration_parameters--m3 = -0.0166\n",
      "shear_calibration_parameters--m4 = -0.033\n",
      "wl_photoz_errors--bias_1 = 0.0218\n",
      "wl_photoz_errors--bias_2 = -0.0158\n",
      "wl_photoz_errors--bias_3 = -0.0285\n",
      "wl_photoz_errors--bias_4 = 0.00859\n",
      "lens_photoz_errors--bias_1 = -0.00994\n",
      "lens_photoz_errors--bias_2 = -0.0286\n",
      "lens_photoz_errors--bias_3 = -0.0038\n",
      "lens_photoz_errors--bias_4 = -0.00452\n",
      "lens_photoz_errors--width_1 = 1.02\n",
      "lens_photoz_errors--width_2 = 1.14\n",
      "lens_photoz_errors--width_3 = 0.908\n",
      "lens_photoz_errors--width_4 = 0.949\n",
      "bias_lens--b1        = 1.6\n",
      "bias_lens--b2        = 1.76\n",
      "bias_lens--b3        = 1.98\n",
      "bias_lens--b4        = 1.93\n",
      "intrinsic_alignment_parameters--a1 = 0.214\n",
      "intrinsic_alignment_parameters--a2 = -0.24\n",
      "intrinsic_alignment_parameters--alpha1 = -3.93\n",
      "intrinsic_alignment_parameters--alpha2 = -0.945\n",
      "intrinsic_alignment_parameters--bias_ta = 0.00855\n",
      "\n",
      "###############################\n",
      "## Compute chi2 for d #########\n",
      "###############################\n"
     ]
    },
    {
     "data": {
      "application/vnd.jupyter.widget-view+json": {
       "model_id": "29c17d585ea049138ac5bdd0ac78a97b",
       "version_major": 2,
       "version_minor": 0
      },
      "text/plain": [
       "HBox(children=(FloatProgress(value=0.0, max=222.0), HTML(value='')))"
      ]
     },
     "metadata": {},
     "output_type": "display_data"
    },
    {
     "name": "stderr",
     "output_type": "stream",
     "text": [
      "/global/cfs/cdirs/des/xuod/DES_Y3_3x2/y3-3x2pt/code/ppd/postprocessing/utils_ppd_calib.py:77: NumbaPerformanceWarning: np.dot() is faster on contiguous arrays, called on (array(float64, 2d, A), array(float64, 2d, C))\n",
      "  return np.dot(A,B)\n"
     ]
    },
    {
     "name": "stdout",
     "output_type": "stream",
     "text": [
      "\n",
      "\n",
      "###############################\n",
      "## Compute IS weights for d ###\n",
      "###############################\n"
     ]
    },
    {
     "data": {
      "application/vnd.jupyter.widget-view+json": {
       "model_id": "3a564918593342d28908432d1c39b683",
       "version_major": 2,
       "version_minor": 0
      },
      "text/plain": [
       "HBox(children=(FloatProgress(value=0.0, max=222.0), HTML(value='')))"
      ]
     },
     "metadata": {},
     "output_type": "display_data"
    },
    {
     "name": "stdout",
     "output_type": "stream",
     "text": [
      "\n",
      "(222000, 1000)\n",
      "Neff = 77.0 (median), 16th=31.9, 84th=228.5 (0 were nan's)\n",
      "\n",
      "###############################\n",
      "## Computing p-values #########\n",
      "###############################\n"
     ]
    },
    {
     "data": {
      "application/vnd.jupyter.widget-view+json": {
       "model_id": "2b1ee68269c044c497463d7451eb1427",
       "version_major": 2,
       "version_minor": 0
      },
      "text/plain": [
       "HBox(children=(FloatProgress(value=1.0, bar_style='info', max=1.0), HTML(value='')))"
      ]
     },
     "metadata": {},
     "output_type": "display_data"
    },
    {
     "name": "stdout",
     "output_type": "stream",
     "text": [
      "\n",
      "1x2\n",
      "Appending pval for 1x2 0.18773534563631017\n",
      "2x2\n",
      "Appending pval for 2x2 0.0019679558580936816\n",
      "gammat\n",
      "Appending pval for gammat 0.0016313191636662776\n",
      "wtheta\n",
      "Appending pval for wtheta 0.3029991333476307\n",
      "xim\n",
      "Appending pval for xim 0.3469528684715754\n",
      "xip\n",
      "Appending pval for xip 0.22335435844031534\n",
      "\n",
      "###############################\n",
      "## Calibrated p-values ########\n",
      "###############################\n",
      "     - Full         calibrated pval=0.0220 (raw pval=0.0123)\n",
      "     - 1x2          calibrated pval=0.1980 (raw pval=0.1877)\n",
      "     - 2x2          calibrated pval=0.0100 (raw pval=0.0020)\n",
      "     - gammat       calibrated pval=0.0040 (raw pval=0.0016)\n",
      "     - wtheta       calibrated pval=0.2970 (raw pval=0.3030)\n",
      "     - xim          calibrated pval=0.3760 (raw pval=0.3470)\n",
      "     - xip          calibrated pval=0.2310 (raw pval=0.2234)\n",
      "\n",
      "###############################\n",
      "## Plotting ###################\n",
      "###############################\n",
      "\n",
      "###############################\n",
      "## Loading chains #############\n",
      "###############################\n"
     ]
    },
    {
     "data": {
      "application/vnd.jupyter.widget-view+json": {
       "model_id": "35674b460e8649d5a39427483f8f5dde",
       "version_major": 2,
       "version_minor": 0
      },
      "text/plain": [
       "HBox(children=(FloatProgress(value=0.0, max=222.0), HTML(value='')))"
      ]
     },
     "metadata": {},
     "output_type": "display_data"
    },
    {
     "name": "stdout",
     "output_type": "stream",
     "text": [
      "Loading list chain at\n",
      "../maglim_3x2_goodnessoffit/ppd_chain_3x2pt_lcdm_SR_maglim_boosted_maglim_3x2_goodnessoffit_0.txt\n",
      "- using params\n",
      "['cosmological_parameters--omega_m', 'cosmological_parameters--h0', 'cosmological_parameters--omega_b', 'cosmological_parameters--n_s', 'cosmological_parameters--a_s', 'cosmological_parameters--omnuh2', 'cosmological_parameters--w', 'cosmological_parameters--massive_nu', 'cosmological_parameters--massless_nu', 'cosmological_parameters--omega_k', 'cosmological_parameters--tau', 'shear_calibration_parameters--m1', 'shear_calibration_parameters--m2', 'shear_calibration_parameters--m3', 'shear_calibration_parameters--m4', 'wl_photoz_errors--bias_1', 'wl_photoz_errors--bias_2', 'wl_photoz_errors--bias_3', 'wl_photoz_errors--bias_4', 'lens_photoz_errors--bias_1', 'lens_photoz_errors--bias_2', 'lens_photoz_errors--bias_3', 'lens_photoz_errors--bias_4', 'lens_photoz_errors--bias_5', 'lens_photoz_errors--width_1', 'lens_photoz_errors--width_2', 'lens_photoz_errors--width_3', 'lens_photoz_errors--width_4', 'lens_photoz_errors--width_5', 'lens_photoz_errors--bias_6', 'lens_photoz_errors--width_6', 'bias_lens--b1', 'bias_lens--b2', 'bias_lens--b3', 'bias_lens--b4', 'bias_lens--b5', 'bias_lens--b6', 'mag_alpha_lens--alpha_1', 'mag_alpha_lens--alpha_2', 'mag_alpha_lens--alpha_3', 'mag_alpha_lens--alpha_4', 'mag_alpha_lens--alpha_5', 'mag_alpha_lens--alpha_6', 'intrinsic_alignment_parameters--z_piv', 'intrinsic_alignment_parameters--a1', 'intrinsic_alignment_parameters--a2', 'intrinsic_alignment_parameters--alpha1', 'intrinsic_alignment_parameters--alpha2', 'intrinsic_alignment_parameters--bias_ta', 'COSMOLOGICAL_PARAMETERS--SIGMA_8', 'COSMOLOGICAL_PARAMETERS--SIGMA_12', 'DATA_VECTOR--2PT_CHI2', 'DATA_VECTOR--2PT_D_CHI2', 'DATA_VECTOR--2PT_DPRIME_CHI2', 'DATA_VECTOR--2PT_XIP_CHI2', 'DATA_VECTOR--2PT_XIM_CHI2', 'DATA_VECTOR--2PT_1X2_CHI2', 'DATA_VECTOR--2PT_GAMMAT_CHI2', 'DATA_VECTOR--2PT_WTHETA_CHI2', 'DATA_VECTOR--2PT_2X2_CHI2', 'PPD--CHI2_DPRIME_DATA', 'PPD--CHI2_DPRIME_REALIZATION', 'PPD--CHI2_D_DATA', 'PPD--CHI2_XIP_DATA', 'PPD--CHI2_XIP_REALIZATION', 'PPD--CHI2_XIM_DATA', 'PPD--CHI2_XIM_REALIZATION', 'PPD--CHI2_1X2_DATA', 'PPD--CHI2_1X2_REALIZATION', 'PPD--CHI2_GAMMAT_DATA', 'PPD--CHI2_GAMMAT_REALIZATION', 'PPD--CHI2_WTHETA_DATA', 'PPD--CHI2_WTHETA_REALIZATION', 'PPD--CHI2_2X2_DATA', 'PPD--CHI2_2X2_REALIZATION', 'PPD--CHI2_DPRIME_COMP_AVG', 'PPD--CHI2_XIP_COMP_AVG', 'PPD--CHI2_XIM_COMP_AVG', 'PPD--CHI2_1X2_COMP_AVG', 'PPD--CHI2_GAMMAT_COMP_AVG', 'PPD--CHI2_WTHETA_COMP_AVG', 'PPD--CHI2_2X2_COMP_AVG', 'prior', 'post']\n",
      "- using nsample =  1000\n",
      "\n",
      "Loading chain at\n",
      "../../trimmed_chains_test/chain_3x2pt_lcdm_SR_maglim_boosted.txt\n",
      "Sampler not found -- non-standard cosmosis output\n",
      "Using 222 chunks of size [1000, 1000, 1000, 1000, 1000, 1000, 1000, 1000, 1000, 1000, 1000, 1000, 1000, 1000, 1000, 1000, 1000, 1000, 1000, 1000, 1000, 1000, 1000, 1000, 1000, 1000, 1000, 1000, 1000, 1000, 1000, 1000, 1000, 1000, 1000, 1000, 1000, 1000, 1000, 1000, 1000, 1000, 1000, 1000, 1000, 1000, 1000, 1000, 1000, 1000, 1000, 1000, 1000, 1000, 1000, 1000, 1000, 1000, 1000, 1000, 1000, 1000, 1000, 1000, 1000, 1000, 1000, 1000, 1000, 1000, 1000, 1000, 1000, 1000, 1000, 1000, 1000, 1000, 1000, 1000, 1000, 1000, 1000, 1000, 1000, 1000, 1000, 1000, 1000, 1000, 1000, 1000, 1000, 1000, 1000, 1000, 1000, 1000, 1000, 1000, 1000, 1000, 1000, 1000, 1000, 1000, 1000, 1000, 1000, 1000, 1000, 1000, 1000, 1000, 1000, 1000, 1000, 1000, 1000, 1000, 1000, 1000, 1000, 1000, 1000, 1000, 1000, 1000, 1000, 1000, 1000, 1000, 1000, 1000, 1000, 1000, 1000, 1000, 1000, 1000, 1000, 1000, 1000, 1000, 1000, 1000, 1000, 1000, 1000, 1000, 1000, 1000, 1000, 1000, 1000, 1000, 1000, 1000, 1000, 1000, 1000, 1000, 1000, 1000, 1000, 1000, 1000, 1000, 1000, 1000, 1000, 1000, 1000, 1000, 1000, 1000, 1000, 1000, 1000, 1000, 1000, 1000, 1000, 1000, 1000, 1000, 1000, 1000, 1000, 1000, 1000, 1000, 1000, 1000, 1000, 1000, 1000, 1000, 1000, 1000, 1000, 1000, 1000, 1000, 1000, 1000, 1000, 1000, 1000, 1000, 1000, 1000, 1000, 1000, 1000, 1000, 1000, 1000, 1000, 1000, 1000, 1000] (1000) for a total of 222000 posterior samples\n",
      "\n",
      "###############################\n",
      "## Loading scale/bin cuts #####\n",
      "###############################\n",
      "Found observables in data_file ['xip', 'xim', 'gammat', 'wtheta']\n",
      "Reading options for likelihood module:  2pt_d_like\n",
      "Found scale cuts for  {'xip': [(1, 1), (1, 2), (1, 3), (1, 4), (2, 2), (2, 3), (2, 4), (3, 3), (3, 4), (4, 4)], 'xim': [(1, 1), (1, 2), (1, 3), (1, 4), (2, 2), (2, 3), (2, 4), (3, 3), (3, 4), (4, 4)], 'gammat': [(1, 1), (1, 2), (1, 3), (1, 4), (2, 1), (2, 2), (2, 3), (2, 4), (3, 1), (3, 2), (3, 3), (3, 4), (4, 1), (4, 2), (4, 3), (4, 4), (5, 1), (5, 2), (5, 3), (5, 4), (6, 1), (6, 2), (6, 3), (6, 4)], 'wtheta': [(1, 1), (1, 2), (1, 3), (1, 4), (1, 5), (1, 6), (2, 2), (2, 3), (2, 4), (2, 5), (2, 6), (3, 3), (3, 4), (3, 5), (3, 6), (4, 4), (4, 5), (4, 6), (5, 5), (5, 6), (6, 6)]}\n",
      "Getting indices for xip\n",
      "Getting indices for xim\n",
      "Getting indices for gammat\n",
      "Getting indices for wtheta\n",
      "\n",
      "Found observables in data_file ['xip', 'xim', 'gammat', 'wtheta']\n",
      "Reading options for likelihood module:  2pt_dprime_like\n",
      "Found scale cuts for  {'xip': [(1, 1), (1, 2), (1, 3), (1, 4), (2, 2), (2, 3), (2, 4), (3, 3), (3, 4), (4, 4)], 'xim': [(1, 1), (1, 2), (1, 3), (1, 4), (2, 2), (2, 3), (2, 4), (3, 3), (3, 4), (4, 4)], 'gammat': [(1, 1), (1, 2), (1, 3), (1, 4), (2, 1), (2, 2), (2, 3), (2, 4), (3, 1), (3, 2), (3, 3), (3, 4), (4, 1), (4, 2), (4, 3), (4, 4), (5, 1), (5, 2), (5, 3), (5, 4), (6, 1), (6, 2), (6, 3), (6, 4)], 'wtheta': [(1, 1), (1, 2), (1, 3), (1, 4), (1, 5), (1, 6), (2, 2), (2, 3), (2, 4), (2, 5), (2, 6), (3, 3), (3, 4), (3, 5), (3, 6), (4, 4), (4, 5), (4, 6), (5, 5), (5, 6), (6, 6)]}\n",
      "Getting indices for xip\n",
      "Getting indices for xim\n",
      "Getting indices for gammat\n",
      "Getting indices for wtheta\n",
      "\n",
      "Using subsets ['1x2', '2x2', 'gammat', 'wtheta', 'xim', 'xip']\n",
      "\n",
      "Using same indices for d and dprime -> conditioning turned off\n",
      "\n",
      "###############################\n",
      "## Loading realizations #######\n",
      "###############################\n"
     ]
    },
    {
     "data": {
      "application/vnd.jupyter.widget-view+json": {
       "model_id": "d3e7fa21c8eb4fdb9236e1bb5ecfaac2",
       "version_major": 2,
       "version_minor": 0
      },
      "text/plain": [
       "HBox(children=(FloatProgress(value=0.0, max=222.0), HTML(value='')))"
      ]
     },
     "metadata": {},
     "output_type": "display_data"
    },
    {
     "name": "stdout",
     "output_type": "stream",
     "text": [
      "Loading realizations from  ../maglim_3x2_goodnessoffit/ppd_3x2pt_lcdm_SR_maglim_boosted_maglim_3x2_goodnessoffit_0_dprime_theory.npy\n",
      " - data vector size = 462\n",
      " - number of realizations = 1000\n",
      "Loading realizations from  ../maglim_3x2_goodnessoffit/ppd_3x2pt_lcdm_SR_maglim_boosted_maglim_3x2_goodnessoffit_0_dprime_real.npy\n",
      " - data vector size = 462\n",
      " - number of realizations = 1000\n",
      "Loading realizations from  ../maglim_3x2_goodnessoffit/ppd_3x2pt_lcdm_SR_maglim_boosted_maglim_3x2_goodnessoffit_0_d_theory.npy\n",
      " - data vector size = 462\n",
      " - number of realizations = 1000\n",
      "\n",
      "\n",
      "###############################\n",
      "## Sampling data ##############\n",
      "###############################\n",
      "Sampling at best-fit with params\n",
      "cosmological_parameters--omega_m = 0.365\n",
      "cosmological_parameters--h0 = 0.56\n",
      "cosmological_parameters--omega_b = 0.0343\n",
      "cosmological_parameters--n_s = 1.03\n",
      "cosmological_parameters--a_s = 2.27e-09\n",
      "cosmological_parameters--omnuh2 = 0.00524\n",
      "shear_calibration_parameters--m1 = -0.00157\n",
      "shear_calibration_parameters--m2 = -0.0231\n",
      "shear_calibration_parameters--m3 = -0.0166\n",
      "shear_calibration_parameters--m4 = -0.033\n",
      "wl_photoz_errors--bias_1 = 0.0218\n",
      "wl_photoz_errors--bias_2 = -0.0158\n",
      "wl_photoz_errors--bias_3 = -0.0285\n",
      "wl_photoz_errors--bias_4 = 0.00859\n",
      "lens_photoz_errors--bias_1 = -0.00994\n",
      "lens_photoz_errors--bias_2 = -0.0286\n",
      "lens_photoz_errors--bias_3 = -0.0038\n",
      "lens_photoz_errors--bias_4 = -0.00452\n",
      "lens_photoz_errors--width_1 = 1.02\n",
      "lens_photoz_errors--width_2 = 1.14\n",
      "lens_photoz_errors--width_3 = 0.908\n",
      "lens_photoz_errors--width_4 = 0.949\n",
      "bias_lens--b1        = 1.6\n",
      "bias_lens--b2        = 1.76\n",
      "bias_lens--b3        = 1.98\n",
      "bias_lens--b4        = 1.93\n",
      "intrinsic_alignment_parameters--a1 = 0.214\n",
      "intrinsic_alignment_parameters--a2 = -0.24\n",
      "intrinsic_alignment_parameters--alpha1 = -3.93\n",
      "intrinsic_alignment_parameters--alpha2 = -0.945\n",
      "intrinsic_alignment_parameters--bias_ta = 0.00855\n",
      "\n",
      "###############################\n",
      "## Compute chi2 for d #########\n",
      "###############################\n"
     ]
    },
    {
     "data": {
      "application/vnd.jupyter.widget-view+json": {
       "model_id": "eef3e9d5912a43c4891959bc87bb9b60",
       "version_major": 2,
       "version_minor": 0
      },
      "text/plain": [
       "HBox(children=(FloatProgress(value=0.0, max=222.0), HTML(value='')))"
      ]
     },
     "metadata": {},
     "output_type": "display_data"
    },
    {
     "name": "stdout",
     "output_type": "stream",
     "text": [
      "\n",
      "\n",
      "###############################\n",
      "## Compute IS weights for d ###\n",
      "###############################\n"
     ]
    },
    {
     "data": {
      "application/vnd.jupyter.widget-view+json": {
       "model_id": "d2f75b1e1ab44a52adc22de328b9e857",
       "version_major": 2,
       "version_minor": 0
      },
      "text/plain": [
       "HBox(children=(FloatProgress(value=0.0, max=222.0), HTML(value='')))"
      ]
     },
     "metadata": {},
     "output_type": "display_data"
    },
    {
     "name": "stdout",
     "output_type": "stream",
     "text": [
      "\n",
      "(222000, 1000)\n",
      "Neff = 76.8 (median), 16th=31.4, 84th=236.1 (0 were nan's)\n",
      "\n",
      "###############################\n",
      "## Computing p-values #########\n",
      "###############################\n"
     ]
    },
    {
     "data": {
      "application/vnd.jupyter.widget-view+json": {
       "model_id": "bc071525d9474b4480294a6939f0d28d",
       "version_major": 2,
       "version_minor": 0
      },
      "text/plain": [
       "HBox(children=(FloatProgress(value=1.0, bar_style='info', max=1.0), HTML(value='')))"
      ]
     },
     "metadata": {},
     "output_type": "display_data"
    },
    {
     "name": "stdout",
     "output_type": "stream",
     "text": [
      "\n",
      "1x2\n",
      "2x2\n",
      "gammat\n",
      "wtheta\n",
      "xim\n",
      "xip\n",
      "\n",
      "###############################\n",
      "## Calibrated p-values ########\n",
      "###############################\n",
      "     - Full         calibrated pval=0.0210 (raw pval=0.0123)\n",
      "     - 1x2          calibrated pval=0.2140 (raw pval=0.1877)\n",
      "     - 2x2          calibrated pval=0.0080 (raw pval=0.0020)\n",
      "     - gammat       calibrated pval=0.0060 (raw pval=0.0016)\n",
      "     - wtheta       calibrated pval=0.2980 (raw pval=0.3030)\n",
      "     - xim          calibrated pval=0.3650 (raw pval=0.3470)\n",
      "     - xip          calibrated pval=0.2510 (raw pval=0.2234)\n",
      "\n",
      "###############################\n",
      "## Plotting ###################\n",
      "###############################\n",
      "\n",
      "###############################\n",
      "## Loading chains #############\n",
      "###############################\n"
     ]
    },
    {
     "data": {
      "application/vnd.jupyter.widget-view+json": {
       "model_id": "b91545ec840243bcb5fa40e0fdf08259",
       "version_major": 2,
       "version_minor": 0
      },
      "text/plain": [
       "HBox(children=(FloatProgress(value=0.0, max=222.0), HTML(value='')))"
      ]
     },
     "metadata": {},
     "output_type": "display_data"
    },
    {
     "name": "stdout",
     "output_type": "stream",
     "text": [
      "Loading list chain at\n",
      "../maglim_3x2_goodnessoffit/ppd_chain_3x2pt_lcdm_SR_maglim_boosted_maglim_3x2_goodnessoffit_0.txt\n",
      "- using params\n",
      "['cosmological_parameters--omega_m', 'cosmological_parameters--h0', 'cosmological_parameters--omega_b', 'cosmological_parameters--n_s', 'cosmological_parameters--a_s', 'cosmological_parameters--omnuh2', 'cosmological_parameters--w', 'cosmological_parameters--massive_nu', 'cosmological_parameters--massless_nu', 'cosmological_parameters--omega_k', 'cosmological_parameters--tau', 'shear_calibration_parameters--m1', 'shear_calibration_parameters--m2', 'shear_calibration_parameters--m3', 'shear_calibration_parameters--m4', 'wl_photoz_errors--bias_1', 'wl_photoz_errors--bias_2', 'wl_photoz_errors--bias_3', 'wl_photoz_errors--bias_4', 'lens_photoz_errors--bias_1', 'lens_photoz_errors--bias_2', 'lens_photoz_errors--bias_3', 'lens_photoz_errors--bias_4', 'lens_photoz_errors--bias_5', 'lens_photoz_errors--width_1', 'lens_photoz_errors--width_2', 'lens_photoz_errors--width_3', 'lens_photoz_errors--width_4', 'lens_photoz_errors--width_5', 'lens_photoz_errors--bias_6', 'lens_photoz_errors--width_6', 'bias_lens--b1', 'bias_lens--b2', 'bias_lens--b3', 'bias_lens--b4', 'bias_lens--b5', 'bias_lens--b6', 'mag_alpha_lens--alpha_1', 'mag_alpha_lens--alpha_2', 'mag_alpha_lens--alpha_3', 'mag_alpha_lens--alpha_4', 'mag_alpha_lens--alpha_5', 'mag_alpha_lens--alpha_6', 'intrinsic_alignment_parameters--z_piv', 'intrinsic_alignment_parameters--a1', 'intrinsic_alignment_parameters--a2', 'intrinsic_alignment_parameters--alpha1', 'intrinsic_alignment_parameters--alpha2', 'intrinsic_alignment_parameters--bias_ta', 'COSMOLOGICAL_PARAMETERS--SIGMA_8', 'COSMOLOGICAL_PARAMETERS--SIGMA_12', 'DATA_VECTOR--2PT_CHI2', 'DATA_VECTOR--2PT_D_CHI2', 'DATA_VECTOR--2PT_DPRIME_CHI2', 'DATA_VECTOR--2PT_XIP_CHI2', 'DATA_VECTOR--2PT_XIM_CHI2', 'DATA_VECTOR--2PT_1X2_CHI2', 'DATA_VECTOR--2PT_GAMMAT_CHI2', 'DATA_VECTOR--2PT_WTHETA_CHI2', 'DATA_VECTOR--2PT_2X2_CHI2', 'PPD--CHI2_DPRIME_DATA', 'PPD--CHI2_DPRIME_REALIZATION', 'PPD--CHI2_D_DATA', 'PPD--CHI2_XIP_DATA', 'PPD--CHI2_XIP_REALIZATION', 'PPD--CHI2_XIM_DATA', 'PPD--CHI2_XIM_REALIZATION', 'PPD--CHI2_1X2_DATA', 'PPD--CHI2_1X2_REALIZATION', 'PPD--CHI2_GAMMAT_DATA', 'PPD--CHI2_GAMMAT_REALIZATION', 'PPD--CHI2_WTHETA_DATA', 'PPD--CHI2_WTHETA_REALIZATION', 'PPD--CHI2_2X2_DATA', 'PPD--CHI2_2X2_REALIZATION', 'PPD--CHI2_DPRIME_COMP_AVG', 'PPD--CHI2_XIP_COMP_AVG', 'PPD--CHI2_XIM_COMP_AVG', 'PPD--CHI2_1X2_COMP_AVG', 'PPD--CHI2_GAMMAT_COMP_AVG', 'PPD--CHI2_WTHETA_COMP_AVG', 'PPD--CHI2_2X2_COMP_AVG', 'prior', 'post']\n",
      "- using nsample =  1000\n",
      "\n",
      "Loading chain at\n",
      "../../trimmed_chains_test/chain_3x2pt_lcdm_SR_maglim_boosted.txt\n",
      "Sampler not found -- non-standard cosmosis output\n",
      "Using 222 chunks of size [1000, 1000, 1000, 1000, 1000, 1000, 1000, 1000, 1000, 1000, 1000, 1000, 1000, 1000, 1000, 1000, 1000, 1000, 1000, 1000, 1000, 1000, 1000, 1000, 1000, 1000, 1000, 1000, 1000, 1000, 1000, 1000, 1000, 1000, 1000, 1000, 1000, 1000, 1000, 1000, 1000, 1000, 1000, 1000, 1000, 1000, 1000, 1000, 1000, 1000, 1000, 1000, 1000, 1000, 1000, 1000, 1000, 1000, 1000, 1000, 1000, 1000, 1000, 1000, 1000, 1000, 1000, 1000, 1000, 1000, 1000, 1000, 1000, 1000, 1000, 1000, 1000, 1000, 1000, 1000, 1000, 1000, 1000, 1000, 1000, 1000, 1000, 1000, 1000, 1000, 1000, 1000, 1000, 1000, 1000, 1000, 1000, 1000, 1000, 1000, 1000, 1000, 1000, 1000, 1000, 1000, 1000, 1000, 1000, 1000, 1000, 1000, 1000, 1000, 1000, 1000, 1000, 1000, 1000, 1000, 1000, 1000, 1000, 1000, 1000, 1000, 1000, 1000, 1000, 1000, 1000, 1000, 1000, 1000, 1000, 1000, 1000, 1000, 1000, 1000, 1000, 1000, 1000, 1000, 1000, 1000, 1000, 1000, 1000, 1000, 1000, 1000, 1000, 1000, 1000, 1000, 1000, 1000, 1000, 1000, 1000, 1000, 1000, 1000, 1000, 1000, 1000, 1000, 1000, 1000, 1000, 1000, 1000, 1000, 1000, 1000, 1000, 1000, 1000, 1000, 1000, 1000, 1000, 1000, 1000, 1000, 1000, 1000, 1000, 1000, 1000, 1000, 1000, 1000, 1000, 1000, 1000, 1000, 1000, 1000, 1000, 1000, 1000, 1000, 1000, 1000, 1000, 1000, 1000, 1000, 1000, 1000, 1000, 1000, 1000, 1000, 1000, 1000, 1000, 1000, 1000, 1000] (1000) for a total of 222000 posterior samples\n",
      "\n",
      "###############################\n",
      "## Loading scale/bin cuts #####\n",
      "###############################\n",
      "Found observables in data_file ['xip', 'xim', 'gammat', 'wtheta']\n",
      "Reading options for likelihood module:  2pt_d_like\n",
      "Found scale cuts for  {'xip': [(1, 1), (1, 2), (1, 3), (1, 4), (2, 2), (2, 3), (2, 4), (3, 3), (3, 4), (4, 4)], 'xim': [(1, 1), (1, 2), (1, 3), (1, 4), (2, 2), (2, 3), (2, 4), (3, 3), (3, 4), (4, 4)], 'gammat': [(1, 1), (1, 2), (1, 3), (1, 4), (2, 1), (2, 2), (2, 3), (2, 4), (3, 1), (3, 2), (3, 3), (3, 4), (4, 1), (4, 2), (4, 3), (4, 4), (5, 1), (5, 2), (5, 3), (5, 4), (6, 1), (6, 2), (6, 3), (6, 4)], 'wtheta': [(1, 1), (1, 2), (1, 3), (1, 4), (1, 5), (1, 6), (2, 2), (2, 3), (2, 4), (2, 5), (2, 6), (3, 3), (3, 4), (3, 5), (3, 6), (4, 4), (4, 5), (4, 6), (5, 5), (5, 6), (6, 6)]}\n",
      "Getting indices for xip\n",
      "Getting indices for xim\n",
      "Getting indices for gammat\n",
      "Getting indices for wtheta\n",
      "\n",
      "Found observables in data_file ['xip', 'xim', 'gammat', 'wtheta']\n",
      "Reading options for likelihood module:  2pt_dprime_like\n",
      "Found scale cuts for  {'xip': [(1, 1), (1, 2), (1, 3), (1, 4), (2, 2), (2, 3), (2, 4), (3, 3), (3, 4), (4, 4)], 'xim': [(1, 1), (1, 2), (1, 3), (1, 4), (2, 2), (2, 3), (2, 4), (3, 3), (3, 4), (4, 4)], 'gammat': [(1, 1), (1, 2), (1, 3), (1, 4), (2, 1), (2, 2), (2, 3), (2, 4), (3, 1), (3, 2), (3, 3), (3, 4), (4, 1), (4, 2), (4, 3), (4, 4), (5, 1), (5, 2), (5, 3), (5, 4), (6, 1), (6, 2), (6, 3), (6, 4)], 'wtheta': [(1, 1), (1, 2), (1, 3), (1, 4), (1, 5), (1, 6), (2, 2), (2, 3), (2, 4), (2, 5), (2, 6), (3, 3), (3, 4), (3, 5), (3, 6), (4, 4), (4, 5), (4, 6), (5, 5), (5, 6), (6, 6)]}\n",
      "Getting indices for xip\n",
      "Getting indices for xim\n",
      "Getting indices for gammat\n",
      "Getting indices for wtheta\n",
      "\n",
      "Using subsets ['1x2', '2x2', 'gammat', 'wtheta', 'xim', 'xip']\n",
      "\n",
      "Using same indices for d and dprime -> conditioning turned off\n",
      "\n",
      "###############################\n",
      "## Loading realizations #######\n",
      "###############################\n"
     ]
    },
    {
     "data": {
      "application/vnd.jupyter.widget-view+json": {
       "model_id": "126976e6480a4fbda484c40a3181f3fa",
       "version_major": 2,
       "version_minor": 0
      },
      "text/plain": [
       "HBox(children=(FloatProgress(value=0.0, max=222.0), HTML(value='')))"
      ]
     },
     "metadata": {},
     "output_type": "display_data"
    },
    {
     "name": "stdout",
     "output_type": "stream",
     "text": [
      "Loading realizations from  ../maglim_3x2_goodnessoffit/ppd_3x2pt_lcdm_SR_maglim_boosted_maglim_3x2_goodnessoffit_0_dprime_theory.npy\n",
      " - data vector size = 462\n",
      " - number of realizations = 1000\n",
      "Loading realizations from  ../maglim_3x2_goodnessoffit/ppd_3x2pt_lcdm_SR_maglim_boosted_maglim_3x2_goodnessoffit_0_dprime_real.npy\n",
      " - data vector size = 462\n",
      " - number of realizations = 1000\n",
      "Loading realizations from  ../maglim_3x2_goodnessoffit/ppd_3x2pt_lcdm_SR_maglim_boosted_maglim_3x2_goodnessoffit_0_d_theory.npy\n",
      " - data vector size = 462\n",
      " - number of realizations = 1000\n",
      "\n",
      "\n",
      "###############################\n",
      "## Sampling data ##############\n",
      "###############################\n",
      "Sampling at best-fit with params\n",
      "cosmological_parameters--omega_m = 0.365\n",
      "cosmological_parameters--h0 = 0.56\n",
      "cosmological_parameters--omega_b = 0.0343\n",
      "cosmological_parameters--n_s = 1.03\n",
      "cosmological_parameters--a_s = 2.27e-09\n",
      "cosmological_parameters--omnuh2 = 0.00524\n",
      "shear_calibration_parameters--m1 = -0.00157\n",
      "shear_calibration_parameters--m2 = -0.0231\n",
      "shear_calibration_parameters--m3 = -0.0166\n",
      "shear_calibration_parameters--m4 = -0.033\n",
      "wl_photoz_errors--bias_1 = 0.0218\n",
      "wl_photoz_errors--bias_2 = -0.0158\n",
      "wl_photoz_errors--bias_3 = -0.0285\n",
      "wl_photoz_errors--bias_4 = 0.00859\n",
      "lens_photoz_errors--bias_1 = -0.00994\n",
      "lens_photoz_errors--bias_2 = -0.0286\n",
      "lens_photoz_errors--bias_3 = -0.0038\n",
      "lens_photoz_errors--bias_4 = -0.00452\n",
      "lens_photoz_errors--width_1 = 1.02\n",
      "lens_photoz_errors--width_2 = 1.14\n",
      "lens_photoz_errors--width_3 = 0.908\n",
      "lens_photoz_errors--width_4 = 0.949\n",
      "bias_lens--b1        = 1.6\n",
      "bias_lens--b2        = 1.76\n",
      "bias_lens--b3        = 1.98\n",
      "bias_lens--b4        = 1.93\n",
      "intrinsic_alignment_parameters--a1 = 0.214\n",
      "intrinsic_alignment_parameters--a2 = -0.24\n",
      "intrinsic_alignment_parameters--alpha1 = -3.93\n",
      "intrinsic_alignment_parameters--alpha2 = -0.945\n",
      "intrinsic_alignment_parameters--bias_ta = 0.00855\n",
      "\n",
      "###############################\n",
      "## Compute chi2 for d #########\n",
      "###############################\n"
     ]
    },
    {
     "data": {
      "application/vnd.jupyter.widget-view+json": {
       "model_id": "9f6210e5fbca4bb3ad8bccae691673ae",
       "version_major": 2,
       "version_minor": 0
      },
      "text/plain": [
       "HBox(children=(FloatProgress(value=0.0, max=222.0), HTML(value='')))"
      ]
     },
     "metadata": {},
     "output_type": "display_data"
    },
    {
     "name": "stdout",
     "output_type": "stream",
     "text": [
      "\n",
      "\n",
      "###############################\n",
      "## Compute IS weights for d ###\n",
      "###############################\n"
     ]
    },
    {
     "data": {
      "application/vnd.jupyter.widget-view+json": {
       "model_id": "a9efbc04119c47f7be41bd113854686b",
       "version_major": 2,
       "version_minor": 0
      },
      "text/plain": [
       "HBox(children=(FloatProgress(value=0.0, max=222.0), HTML(value='')))"
      ]
     },
     "metadata": {},
     "output_type": "display_data"
    },
    {
     "name": "stdout",
     "output_type": "stream",
     "text": [
      "\n",
      "(222000, 1000)\n",
      "Neff = 82.5 (median), 16th=33.5, 84th=255.5 (0 were nan's)\n",
      "\n",
      "###############################\n",
      "## Computing p-values #########\n",
      "###############################\n"
     ]
    },
    {
     "data": {
      "application/vnd.jupyter.widget-view+json": {
       "model_id": "629fcfca76994cdaa27e7a6a95f23fa3",
       "version_major": 2,
       "version_minor": 0
      },
      "text/plain": [
       "HBox(children=(FloatProgress(value=1.0, bar_style='info', max=1.0), HTML(value='')))"
      ]
     },
     "metadata": {},
     "output_type": "display_data"
    },
    {
     "name": "stdout",
     "output_type": "stream",
     "text": [
      "\n",
      "1x2\n",
      "2x2\n",
      "gammat\n",
      "wtheta\n",
      "xim\n",
      "xip\n",
      "\n",
      "###############################\n",
      "## Calibrated p-values ########\n",
      "###############################\n",
      "     - Full         calibrated pval=0.0220 (raw pval=0.0123)\n",
      "     - 1x2          calibrated pval=0.2040 (raw pval=0.1877)\n",
      "     - 2x2          calibrated pval=0.0070 (raw pval=0.0020)\n",
      "     - gammat       calibrated pval=0.0090 (raw pval=0.0016)\n",
      "     - wtheta       calibrated pval=0.2830 (raw pval=0.3030)\n",
      "     - xim          calibrated pval=0.3370 (raw pval=0.3470)\n",
      "     - xip          calibrated pval=0.2470 (raw pval=0.2234)\n",
      "\n",
      "###############################\n",
      "## Plotting ###################\n",
      "###############################\n",
      "\n",
      "###############################\n",
      "## Loading chains #############\n",
      "###############################\n"
     ]
    },
    {
     "data": {
      "application/vnd.jupyter.widget-view+json": {
       "model_id": "763b87752d844a52bf310beca188ecc9",
       "version_major": 2,
       "version_minor": 0
      },
      "text/plain": [
       "HBox(children=(FloatProgress(value=0.0, max=222.0), HTML(value='')))"
      ]
     },
     "metadata": {},
     "output_type": "display_data"
    },
    {
     "name": "stdout",
     "output_type": "stream",
     "text": [
      "Loading list chain at\n",
      "../maglim_3x2_goodnessoffit/ppd_chain_3x2pt_lcdm_SR_maglim_boosted_maglim_3x2_goodnessoffit_0.txt\n",
      "- using params\n",
      "['cosmological_parameters--omega_m', 'cosmological_parameters--h0', 'cosmological_parameters--omega_b', 'cosmological_parameters--n_s', 'cosmological_parameters--a_s', 'cosmological_parameters--omnuh2', 'cosmological_parameters--w', 'cosmological_parameters--massive_nu', 'cosmological_parameters--massless_nu', 'cosmological_parameters--omega_k', 'cosmological_parameters--tau', 'shear_calibration_parameters--m1', 'shear_calibration_parameters--m2', 'shear_calibration_parameters--m3', 'shear_calibration_parameters--m4', 'wl_photoz_errors--bias_1', 'wl_photoz_errors--bias_2', 'wl_photoz_errors--bias_3', 'wl_photoz_errors--bias_4', 'lens_photoz_errors--bias_1', 'lens_photoz_errors--bias_2', 'lens_photoz_errors--bias_3', 'lens_photoz_errors--bias_4', 'lens_photoz_errors--bias_5', 'lens_photoz_errors--width_1', 'lens_photoz_errors--width_2', 'lens_photoz_errors--width_3', 'lens_photoz_errors--width_4', 'lens_photoz_errors--width_5', 'lens_photoz_errors--bias_6', 'lens_photoz_errors--width_6', 'bias_lens--b1', 'bias_lens--b2', 'bias_lens--b3', 'bias_lens--b4', 'bias_lens--b5', 'bias_lens--b6', 'mag_alpha_lens--alpha_1', 'mag_alpha_lens--alpha_2', 'mag_alpha_lens--alpha_3', 'mag_alpha_lens--alpha_4', 'mag_alpha_lens--alpha_5', 'mag_alpha_lens--alpha_6', 'intrinsic_alignment_parameters--z_piv', 'intrinsic_alignment_parameters--a1', 'intrinsic_alignment_parameters--a2', 'intrinsic_alignment_parameters--alpha1', 'intrinsic_alignment_parameters--alpha2', 'intrinsic_alignment_parameters--bias_ta', 'COSMOLOGICAL_PARAMETERS--SIGMA_8', 'COSMOLOGICAL_PARAMETERS--SIGMA_12', 'DATA_VECTOR--2PT_CHI2', 'DATA_VECTOR--2PT_D_CHI2', 'DATA_VECTOR--2PT_DPRIME_CHI2', 'DATA_VECTOR--2PT_XIP_CHI2', 'DATA_VECTOR--2PT_XIM_CHI2', 'DATA_VECTOR--2PT_1X2_CHI2', 'DATA_VECTOR--2PT_GAMMAT_CHI2', 'DATA_VECTOR--2PT_WTHETA_CHI2', 'DATA_VECTOR--2PT_2X2_CHI2', 'PPD--CHI2_DPRIME_DATA', 'PPD--CHI2_DPRIME_REALIZATION', 'PPD--CHI2_D_DATA', 'PPD--CHI2_XIP_DATA', 'PPD--CHI2_XIP_REALIZATION', 'PPD--CHI2_XIM_DATA', 'PPD--CHI2_XIM_REALIZATION', 'PPD--CHI2_1X2_DATA', 'PPD--CHI2_1X2_REALIZATION', 'PPD--CHI2_GAMMAT_DATA', 'PPD--CHI2_GAMMAT_REALIZATION', 'PPD--CHI2_WTHETA_DATA', 'PPD--CHI2_WTHETA_REALIZATION', 'PPD--CHI2_2X2_DATA', 'PPD--CHI2_2X2_REALIZATION', 'PPD--CHI2_DPRIME_COMP_AVG', 'PPD--CHI2_XIP_COMP_AVG', 'PPD--CHI2_XIM_COMP_AVG', 'PPD--CHI2_1X2_COMP_AVG', 'PPD--CHI2_GAMMAT_COMP_AVG', 'PPD--CHI2_WTHETA_COMP_AVG', 'PPD--CHI2_2X2_COMP_AVG', 'prior', 'post']\n",
      "- using nsample =  1000\n",
      "\n",
      "Loading chain at\n",
      "../../trimmed_chains_test/chain_3x2pt_lcdm_SR_maglim_boosted.txt\n",
      "Sampler not found -- non-standard cosmosis output\n",
      "Using 222 chunks of size [1000, 1000, 1000, 1000, 1000, 1000, 1000, 1000, 1000, 1000, 1000, 1000, 1000, 1000, 1000, 1000, 1000, 1000, 1000, 1000, 1000, 1000, 1000, 1000, 1000, 1000, 1000, 1000, 1000, 1000, 1000, 1000, 1000, 1000, 1000, 1000, 1000, 1000, 1000, 1000, 1000, 1000, 1000, 1000, 1000, 1000, 1000, 1000, 1000, 1000, 1000, 1000, 1000, 1000, 1000, 1000, 1000, 1000, 1000, 1000, 1000, 1000, 1000, 1000, 1000, 1000, 1000, 1000, 1000, 1000, 1000, 1000, 1000, 1000, 1000, 1000, 1000, 1000, 1000, 1000, 1000, 1000, 1000, 1000, 1000, 1000, 1000, 1000, 1000, 1000, 1000, 1000, 1000, 1000, 1000, 1000, 1000, 1000, 1000, 1000, 1000, 1000, 1000, 1000, 1000, 1000, 1000, 1000, 1000, 1000, 1000, 1000, 1000, 1000, 1000, 1000, 1000, 1000, 1000, 1000, 1000, 1000, 1000, 1000, 1000, 1000, 1000, 1000, 1000, 1000, 1000, 1000, 1000, 1000, 1000, 1000, 1000, 1000, 1000, 1000, 1000, 1000, 1000, 1000, 1000, 1000, 1000, 1000, 1000, 1000, 1000, 1000, 1000, 1000, 1000, 1000, 1000, 1000, 1000, 1000, 1000, 1000, 1000, 1000, 1000, 1000, 1000, 1000, 1000, 1000, 1000, 1000, 1000, 1000, 1000, 1000, 1000, 1000, 1000, 1000, 1000, 1000, 1000, 1000, 1000, 1000, 1000, 1000, 1000, 1000, 1000, 1000, 1000, 1000, 1000, 1000, 1000, 1000, 1000, 1000, 1000, 1000, 1000, 1000, 1000, 1000, 1000, 1000, 1000, 1000, 1000, 1000, 1000, 1000, 1000, 1000, 1000, 1000, 1000, 1000, 1000, 1000] (1000) for a total of 222000 posterior samples\n",
      "\n",
      "###############################\n",
      "## Loading scale/bin cuts #####\n",
      "###############################\n",
      "Found observables in data_file ['xip', 'xim', 'gammat', 'wtheta']\n",
      "Reading options for likelihood module:  2pt_d_like\n",
      "Found scale cuts for  {'xip': [(1, 1), (1, 2), (1, 3), (1, 4), (2, 2), (2, 3), (2, 4), (3, 3), (3, 4), (4, 4)], 'xim': [(1, 1), (1, 2), (1, 3), (1, 4), (2, 2), (2, 3), (2, 4), (3, 3), (3, 4), (4, 4)], 'gammat': [(1, 1), (1, 2), (1, 3), (1, 4), (2, 1), (2, 2), (2, 3), (2, 4), (3, 1), (3, 2), (3, 3), (3, 4), (4, 1), (4, 2), (4, 3), (4, 4), (5, 1), (5, 2), (5, 3), (5, 4), (6, 1), (6, 2), (6, 3), (6, 4)], 'wtheta': [(1, 1), (1, 2), (1, 3), (1, 4), (1, 5), (1, 6), (2, 2), (2, 3), (2, 4), (2, 5), (2, 6), (3, 3), (3, 4), (3, 5), (3, 6), (4, 4), (4, 5), (4, 6), (5, 5), (5, 6), (6, 6)]}\n",
      "Getting indices for xip\n",
      "Getting indices for xim\n",
      "Getting indices for gammat\n",
      "Getting indices for wtheta\n",
      "\n",
      "Found observables in data_file ['xip', 'xim', 'gammat', 'wtheta']\n",
      "Reading options for likelihood module:  2pt_dprime_like\n",
      "Found scale cuts for  {'xip': [(1, 1), (1, 2), (1, 3), (1, 4), (2, 2), (2, 3), (2, 4), (3, 3), (3, 4), (4, 4)], 'xim': [(1, 1), (1, 2), (1, 3), (1, 4), (2, 2), (2, 3), (2, 4), (3, 3), (3, 4), (4, 4)], 'gammat': [(1, 1), (1, 2), (1, 3), (1, 4), (2, 1), (2, 2), (2, 3), (2, 4), (3, 1), (3, 2), (3, 3), (3, 4), (4, 1), (4, 2), (4, 3), (4, 4), (5, 1), (5, 2), (5, 3), (5, 4), (6, 1), (6, 2), (6, 3), (6, 4)], 'wtheta': [(1, 1), (1, 2), (1, 3), (1, 4), (1, 5), (1, 6), (2, 2), (2, 3), (2, 4), (2, 5), (2, 6), (3, 3), (3, 4), (3, 5), (3, 6), (4, 4), (4, 5), (4, 6), (5, 5), (5, 6), (6, 6)]}\n",
      "Getting indices for xip\n",
      "Getting indices for xim\n",
      "Getting indices for gammat\n",
      "Getting indices for wtheta\n",
      "\n",
      "Using subsets ['1x2', '2x2', 'gammat', 'wtheta', 'xim', 'xip']\n",
      "\n",
      "Using same indices for d and dprime -> conditioning turned off\n",
      "\n",
      "###############################\n",
      "## Loading realizations #######\n",
      "###############################\n"
     ]
    },
    {
     "data": {
      "application/vnd.jupyter.widget-view+json": {
       "model_id": "bdff683cbe924313a01ba2245bf18105",
       "version_major": 2,
       "version_minor": 0
      },
      "text/plain": [
       "HBox(children=(FloatProgress(value=0.0, max=222.0), HTML(value='')))"
      ]
     },
     "metadata": {},
     "output_type": "display_data"
    },
    {
     "name": "stdout",
     "output_type": "stream",
     "text": [
      "Loading realizations from  ../maglim_3x2_goodnessoffit/ppd_3x2pt_lcdm_SR_maglim_boosted_maglim_3x2_goodnessoffit_0_dprime_theory.npy\n",
      " - data vector size = 462\n",
      " - number of realizations = 1000\n",
      "Loading realizations from  ../maglim_3x2_goodnessoffit/ppd_3x2pt_lcdm_SR_maglim_boosted_maglim_3x2_goodnessoffit_0_dprime_real.npy\n",
      " - data vector size = 462\n",
      " - number of realizations = 1000\n",
      "Loading realizations from  ../maglim_3x2_goodnessoffit/ppd_3x2pt_lcdm_SR_maglim_boosted_maglim_3x2_goodnessoffit_0_d_theory.npy\n",
      " - data vector size = 462\n",
      " - number of realizations = 1000\n",
      "\n",
      "\n",
      "###############################\n",
      "## Sampling data ##############\n",
      "###############################\n",
      "Sampling at best-fit with params\n",
      "cosmological_parameters--omega_m = 0.365\n",
      "cosmological_parameters--h0 = 0.56\n",
      "cosmological_parameters--omega_b = 0.0343\n",
      "cosmological_parameters--n_s = 1.03\n",
      "cosmological_parameters--a_s = 2.27e-09\n",
      "cosmological_parameters--omnuh2 = 0.00524\n",
      "shear_calibration_parameters--m1 = -0.00157\n",
      "shear_calibration_parameters--m2 = -0.0231\n",
      "shear_calibration_parameters--m3 = -0.0166\n",
      "shear_calibration_parameters--m4 = -0.033\n",
      "wl_photoz_errors--bias_1 = 0.0218\n",
      "wl_photoz_errors--bias_2 = -0.0158\n",
      "wl_photoz_errors--bias_3 = -0.0285\n",
      "wl_photoz_errors--bias_4 = 0.00859\n",
      "lens_photoz_errors--bias_1 = -0.00994\n",
      "lens_photoz_errors--bias_2 = -0.0286\n",
      "lens_photoz_errors--bias_3 = -0.0038\n",
      "lens_photoz_errors--bias_4 = -0.00452\n",
      "lens_photoz_errors--width_1 = 1.02\n",
      "lens_photoz_errors--width_2 = 1.14\n",
      "lens_photoz_errors--width_3 = 0.908\n",
      "lens_photoz_errors--width_4 = 0.949\n",
      "bias_lens--b1        = 1.6\n",
      "bias_lens--b2        = 1.76\n",
      "bias_lens--b3        = 1.98\n",
      "bias_lens--b4        = 1.93\n",
      "intrinsic_alignment_parameters--a1 = 0.214\n",
      "intrinsic_alignment_parameters--a2 = -0.24\n",
      "intrinsic_alignment_parameters--alpha1 = -3.93\n",
      "intrinsic_alignment_parameters--alpha2 = -0.945\n",
      "intrinsic_alignment_parameters--bias_ta = 0.00855\n",
      "\n",
      "###############################\n",
      "## Compute chi2 for d #########\n",
      "###############################\n"
     ]
    },
    {
     "data": {
      "application/vnd.jupyter.widget-view+json": {
       "model_id": "348c69c28a8f42ee8b29c3a129febf4f",
       "version_major": 2,
       "version_minor": 0
      },
      "text/plain": [
       "HBox(children=(FloatProgress(value=0.0, max=222.0), HTML(value='')))"
      ]
     },
     "metadata": {},
     "output_type": "display_data"
    },
    {
     "name": "stdout",
     "output_type": "stream",
     "text": [
      "\n",
      "\n",
      "###############################\n",
      "## Compute IS weights for d ###\n",
      "###############################\n"
     ]
    },
    {
     "data": {
      "application/vnd.jupyter.widget-view+json": {
       "model_id": "47e6016bcb094f87b2dce96773ec0cb2",
       "version_major": 2,
       "version_minor": 0
      },
      "text/plain": [
       "HBox(children=(FloatProgress(value=0.0, max=222.0), HTML(value='')))"
      ]
     },
     "metadata": {},
     "output_type": "display_data"
    },
    {
     "name": "stdout",
     "output_type": "stream",
     "text": [
      "\n",
      "(222000, 1000)\n",
      "Neff = 80.2 (median), 16th=29.3, 84th=227.4 (0 were nan's)\n",
      "\n",
      "###############################\n",
      "## Computing p-values #########\n",
      "###############################\n"
     ]
    },
    {
     "data": {
      "application/vnd.jupyter.widget-view+json": {
       "model_id": "e339fd8212d74d729e09be24e3f84845",
       "version_major": 2,
       "version_minor": 0
      },
      "text/plain": [
       "HBox(children=(FloatProgress(value=1.0, bar_style='info', max=1.0), HTML(value='')))"
      ]
     },
     "metadata": {},
     "output_type": "display_data"
    },
    {
     "name": "stdout",
     "output_type": "stream",
     "text": [
      "\n",
      "1x2\n",
      "2x2\n",
      "gammat\n",
      "wtheta\n",
      "xim\n",
      "xip\n",
      "\n",
      "###############################\n",
      "## Calibrated p-values ########\n",
      "###############################\n",
      "     - Full         calibrated pval=0.0180 (raw pval=0.0123)\n",
      "     - 1x2          calibrated pval=0.2020 (raw pval=0.1877)\n",
      "     - 2x2          calibrated pval=0.0090 (raw pval=0.0020)\n",
      "     - gammat       calibrated pval=0.0070 (raw pval=0.0016)\n",
      "     - wtheta       calibrated pval=0.3050 (raw pval=0.3030)\n",
      "     - xim          calibrated pval=0.3560 (raw pval=0.3470)\n",
      "     - xip          calibrated pval=0.2440 (raw pval=0.2234)\n",
      "\n",
      "###############################\n",
      "## Plotting ###################\n",
      "###############################\n",
      "\n",
      "###############################\n",
      "## Loading chains #############\n",
      "###############################\n"
     ]
    },
    {
     "data": {
      "application/vnd.jupyter.widget-view+json": {
       "model_id": "386ef89121184b8aabfa7aee8b1b0c80",
       "version_major": 2,
       "version_minor": 0
      },
      "text/plain": [
       "HBox(children=(FloatProgress(value=0.0, max=222.0), HTML(value='')))"
      ]
     },
     "metadata": {},
     "output_type": "display_data"
    },
    {
     "name": "stdout",
     "output_type": "stream",
     "text": [
      "Loading list chain at\n",
      "../maglim_3x2_goodnessoffit/ppd_chain_3x2pt_lcdm_SR_maglim_boosted_maglim_3x2_goodnessoffit_0.txt\n",
      "- using params\n",
      "['cosmological_parameters--omega_m', 'cosmological_parameters--h0', 'cosmological_parameters--omega_b', 'cosmological_parameters--n_s', 'cosmological_parameters--a_s', 'cosmological_parameters--omnuh2', 'cosmological_parameters--w', 'cosmological_parameters--massive_nu', 'cosmological_parameters--massless_nu', 'cosmological_parameters--omega_k', 'cosmological_parameters--tau', 'shear_calibration_parameters--m1', 'shear_calibration_parameters--m2', 'shear_calibration_parameters--m3', 'shear_calibration_parameters--m4', 'wl_photoz_errors--bias_1', 'wl_photoz_errors--bias_2', 'wl_photoz_errors--bias_3', 'wl_photoz_errors--bias_4', 'lens_photoz_errors--bias_1', 'lens_photoz_errors--bias_2', 'lens_photoz_errors--bias_3', 'lens_photoz_errors--bias_4', 'lens_photoz_errors--bias_5', 'lens_photoz_errors--width_1', 'lens_photoz_errors--width_2', 'lens_photoz_errors--width_3', 'lens_photoz_errors--width_4', 'lens_photoz_errors--width_5', 'lens_photoz_errors--bias_6', 'lens_photoz_errors--width_6', 'bias_lens--b1', 'bias_lens--b2', 'bias_lens--b3', 'bias_lens--b4', 'bias_lens--b5', 'bias_lens--b6', 'mag_alpha_lens--alpha_1', 'mag_alpha_lens--alpha_2', 'mag_alpha_lens--alpha_3', 'mag_alpha_lens--alpha_4', 'mag_alpha_lens--alpha_5', 'mag_alpha_lens--alpha_6', 'intrinsic_alignment_parameters--z_piv', 'intrinsic_alignment_parameters--a1', 'intrinsic_alignment_parameters--a2', 'intrinsic_alignment_parameters--alpha1', 'intrinsic_alignment_parameters--alpha2', 'intrinsic_alignment_parameters--bias_ta', 'COSMOLOGICAL_PARAMETERS--SIGMA_8', 'COSMOLOGICAL_PARAMETERS--SIGMA_12', 'DATA_VECTOR--2PT_CHI2', 'DATA_VECTOR--2PT_D_CHI2', 'DATA_VECTOR--2PT_DPRIME_CHI2', 'DATA_VECTOR--2PT_XIP_CHI2', 'DATA_VECTOR--2PT_XIM_CHI2', 'DATA_VECTOR--2PT_1X2_CHI2', 'DATA_VECTOR--2PT_GAMMAT_CHI2', 'DATA_VECTOR--2PT_WTHETA_CHI2', 'DATA_VECTOR--2PT_2X2_CHI2', 'PPD--CHI2_DPRIME_DATA', 'PPD--CHI2_DPRIME_REALIZATION', 'PPD--CHI2_D_DATA', 'PPD--CHI2_XIP_DATA', 'PPD--CHI2_XIP_REALIZATION', 'PPD--CHI2_XIM_DATA', 'PPD--CHI2_XIM_REALIZATION', 'PPD--CHI2_1X2_DATA', 'PPD--CHI2_1X2_REALIZATION', 'PPD--CHI2_GAMMAT_DATA', 'PPD--CHI2_GAMMAT_REALIZATION', 'PPD--CHI2_WTHETA_DATA', 'PPD--CHI2_WTHETA_REALIZATION', 'PPD--CHI2_2X2_DATA', 'PPD--CHI2_2X2_REALIZATION', 'PPD--CHI2_DPRIME_COMP_AVG', 'PPD--CHI2_XIP_COMP_AVG', 'PPD--CHI2_XIM_COMP_AVG', 'PPD--CHI2_1X2_COMP_AVG', 'PPD--CHI2_GAMMAT_COMP_AVG', 'PPD--CHI2_WTHETA_COMP_AVG', 'PPD--CHI2_2X2_COMP_AVG', 'prior', 'post']\n",
      "- using nsample =  1000\n",
      "\n",
      "Loading chain at\n",
      "../../trimmed_chains_test/chain_3x2pt_lcdm_SR_maglim_boosted.txt\n",
      "Sampler not found -- non-standard cosmosis output\n",
      "Using 222 chunks of size [1000, 1000, 1000, 1000, 1000, 1000, 1000, 1000, 1000, 1000, 1000, 1000, 1000, 1000, 1000, 1000, 1000, 1000, 1000, 1000, 1000, 1000, 1000, 1000, 1000, 1000, 1000, 1000, 1000, 1000, 1000, 1000, 1000, 1000, 1000, 1000, 1000, 1000, 1000, 1000, 1000, 1000, 1000, 1000, 1000, 1000, 1000, 1000, 1000, 1000, 1000, 1000, 1000, 1000, 1000, 1000, 1000, 1000, 1000, 1000, 1000, 1000, 1000, 1000, 1000, 1000, 1000, 1000, 1000, 1000, 1000, 1000, 1000, 1000, 1000, 1000, 1000, 1000, 1000, 1000, 1000, 1000, 1000, 1000, 1000, 1000, 1000, 1000, 1000, 1000, 1000, 1000, 1000, 1000, 1000, 1000, 1000, 1000, 1000, 1000, 1000, 1000, 1000, 1000, 1000, 1000, 1000, 1000, 1000, 1000, 1000, 1000, 1000, 1000, 1000, 1000, 1000, 1000, 1000, 1000, 1000, 1000, 1000, 1000, 1000, 1000, 1000, 1000, 1000, 1000, 1000, 1000, 1000, 1000, 1000, 1000, 1000, 1000, 1000, 1000, 1000, 1000, 1000, 1000, 1000, 1000, 1000, 1000, 1000, 1000, 1000, 1000, 1000, 1000, 1000, 1000, 1000, 1000, 1000, 1000, 1000, 1000, 1000, 1000, 1000, 1000, 1000, 1000, 1000, 1000, 1000, 1000, 1000, 1000, 1000, 1000, 1000, 1000, 1000, 1000, 1000, 1000, 1000, 1000, 1000, 1000, 1000, 1000, 1000, 1000, 1000, 1000, 1000, 1000, 1000, 1000, 1000, 1000, 1000, 1000, 1000, 1000, 1000, 1000, 1000, 1000, 1000, 1000, 1000, 1000, 1000, 1000, 1000, 1000, 1000, 1000, 1000, 1000, 1000, 1000, 1000, 1000] (1000) for a total of 222000 posterior samples\n",
      "\n",
      "###############################\n",
      "## Loading scale/bin cuts #####\n",
      "###############################\n",
      "Found observables in data_file ['xip', 'xim', 'gammat', 'wtheta']\n",
      "Reading options for likelihood module:  2pt_d_like\n",
      "Found scale cuts for  {'xip': [(1, 1), (1, 2), (1, 3), (1, 4), (2, 2), (2, 3), (2, 4), (3, 3), (3, 4), (4, 4)], 'xim': [(1, 1), (1, 2), (1, 3), (1, 4), (2, 2), (2, 3), (2, 4), (3, 3), (3, 4), (4, 4)], 'gammat': [(1, 1), (1, 2), (1, 3), (1, 4), (2, 1), (2, 2), (2, 3), (2, 4), (3, 1), (3, 2), (3, 3), (3, 4), (4, 1), (4, 2), (4, 3), (4, 4), (5, 1), (5, 2), (5, 3), (5, 4), (6, 1), (6, 2), (6, 3), (6, 4)], 'wtheta': [(1, 1), (1, 2), (1, 3), (1, 4), (1, 5), (1, 6), (2, 2), (2, 3), (2, 4), (2, 5), (2, 6), (3, 3), (3, 4), (3, 5), (3, 6), (4, 4), (4, 5), (4, 6), (5, 5), (5, 6), (6, 6)]}\n",
      "Getting indices for xip\n",
      "Getting indices for xim\n",
      "Getting indices for gammat\n",
      "Getting indices for wtheta\n",
      "\n",
      "Found observables in data_file ['xip', 'xim', 'gammat', 'wtheta']\n",
      "Reading options for likelihood module:  2pt_dprime_like\n",
      "Found scale cuts for  {'xip': [(1, 1), (1, 2), (1, 3), (1, 4), (2, 2), (2, 3), (2, 4), (3, 3), (3, 4), (4, 4)], 'xim': [(1, 1), (1, 2), (1, 3), (1, 4), (2, 2), (2, 3), (2, 4), (3, 3), (3, 4), (4, 4)], 'gammat': [(1, 1), (1, 2), (1, 3), (1, 4), (2, 1), (2, 2), (2, 3), (2, 4), (3, 1), (3, 2), (3, 3), (3, 4), (4, 1), (4, 2), (4, 3), (4, 4), (5, 1), (5, 2), (5, 3), (5, 4), (6, 1), (6, 2), (6, 3), (6, 4)], 'wtheta': [(1, 1), (1, 2), (1, 3), (1, 4), (1, 5), (1, 6), (2, 2), (2, 3), (2, 4), (2, 5), (2, 6), (3, 3), (3, 4), (3, 5), (3, 6), (4, 4), (4, 5), (4, 6), (5, 5), (5, 6), (6, 6)]}\n",
      "Getting indices for xip\n",
      "Getting indices for xim\n",
      "Getting indices for gammat\n",
      "Getting indices for wtheta\n",
      "\n",
      "Using subsets ['1x2', '2x2', 'gammat', 'wtheta', 'xim', 'xip']\n",
      "\n",
      "Using same indices for d and dprime -> conditioning turned off\n",
      "\n",
      "###############################\n",
      "## Loading realizations #######\n",
      "###############################\n"
     ]
    },
    {
     "data": {
      "application/vnd.jupyter.widget-view+json": {
       "model_id": "f2c9b79062cd4a6a980f3231c296c55f",
       "version_major": 2,
       "version_minor": 0
      },
      "text/plain": [
       "HBox(children=(FloatProgress(value=0.0, max=222.0), HTML(value='')))"
      ]
     },
     "metadata": {},
     "output_type": "display_data"
    },
    {
     "name": "stdout",
     "output_type": "stream",
     "text": [
      "Loading realizations from  ../maglim_3x2_goodnessoffit/ppd_3x2pt_lcdm_SR_maglim_boosted_maglim_3x2_goodnessoffit_0_dprime_theory.npy\n",
      " - data vector size = 462\n",
      " - number of realizations = 1000\n",
      "Loading realizations from  ../maglim_3x2_goodnessoffit/ppd_3x2pt_lcdm_SR_maglim_boosted_maglim_3x2_goodnessoffit_0_dprime_real.npy\n",
      " - data vector size = 462\n",
      " - number of realizations = 1000\n",
      "Loading realizations from  ../maglim_3x2_goodnessoffit/ppd_3x2pt_lcdm_SR_maglim_boosted_maglim_3x2_goodnessoffit_0_d_theory.npy\n",
      " - data vector size = 462\n",
      " - number of realizations = 1000\n",
      "\n",
      "\n",
      "###############################\n",
      "## Sampling data ##############\n",
      "###############################\n",
      "Sampling at best-fit with params\n",
      "cosmological_parameters--omega_m = 0.365\n",
      "cosmological_parameters--h0 = 0.56\n",
      "cosmological_parameters--omega_b = 0.0343\n",
      "cosmological_parameters--n_s = 1.03\n",
      "cosmological_parameters--a_s = 2.27e-09\n",
      "cosmological_parameters--omnuh2 = 0.00524\n",
      "shear_calibration_parameters--m1 = -0.00157\n",
      "shear_calibration_parameters--m2 = -0.0231\n",
      "shear_calibration_parameters--m3 = -0.0166\n",
      "shear_calibration_parameters--m4 = -0.033\n",
      "wl_photoz_errors--bias_1 = 0.0218\n",
      "wl_photoz_errors--bias_2 = -0.0158\n",
      "wl_photoz_errors--bias_3 = -0.0285\n",
      "wl_photoz_errors--bias_4 = 0.00859\n",
      "lens_photoz_errors--bias_1 = -0.00994\n",
      "lens_photoz_errors--bias_2 = -0.0286\n",
      "lens_photoz_errors--bias_3 = -0.0038\n",
      "lens_photoz_errors--bias_4 = -0.00452\n",
      "lens_photoz_errors--width_1 = 1.02\n",
      "lens_photoz_errors--width_2 = 1.14\n",
      "lens_photoz_errors--width_3 = 0.908\n",
      "lens_photoz_errors--width_4 = 0.949\n",
      "bias_lens--b1        = 1.6\n",
      "bias_lens--b2        = 1.76\n",
      "bias_lens--b3        = 1.98\n",
      "bias_lens--b4        = 1.93\n",
      "intrinsic_alignment_parameters--a1 = 0.214\n",
      "intrinsic_alignment_parameters--a2 = -0.24\n",
      "intrinsic_alignment_parameters--alpha1 = -3.93\n",
      "intrinsic_alignment_parameters--alpha2 = -0.945\n",
      "intrinsic_alignment_parameters--bias_ta = 0.00855\n",
      "\n",
      "###############################\n",
      "## Compute chi2 for d #########\n",
      "###############################\n"
     ]
    },
    {
     "data": {
      "application/vnd.jupyter.widget-view+json": {
       "model_id": "67ab2528e45541688370d2e600be608c",
       "version_major": 2,
       "version_minor": 0
      },
      "text/plain": [
       "HBox(children=(FloatProgress(value=0.0, max=222.0), HTML(value='')))"
      ]
     },
     "metadata": {},
     "output_type": "display_data"
    },
    {
     "name": "stdout",
     "output_type": "stream",
     "text": [
      "\n",
      "\n",
      "###############################\n",
      "## Compute IS weights for d ###\n",
      "###############################\n"
     ]
    },
    {
     "data": {
      "application/vnd.jupyter.widget-view+json": {
       "model_id": "1529be9998424951a1deb49894af2fcb",
       "version_major": 2,
       "version_minor": 0
      },
      "text/plain": [
       "HBox(children=(FloatProgress(value=0.0, max=222.0), HTML(value='')))"
      ]
     },
     "metadata": {},
     "output_type": "display_data"
    },
    {
     "name": "stdout",
     "output_type": "stream",
     "text": [
      "\n",
      "(222000, 1000)\n",
      "Neff = 79.1 (median), 16th=30.3, 84th=237.1 (0 were nan's)\n",
      "\n",
      "###############################\n",
      "## Computing p-values #########\n",
      "###############################\n"
     ]
    },
    {
     "data": {
      "application/vnd.jupyter.widget-view+json": {
       "model_id": "f5fcac9b19f5486e930dd1574d574974",
       "version_major": 2,
       "version_minor": 0
      },
      "text/plain": [
       "HBox(children=(FloatProgress(value=1.0, bar_style='info', max=1.0), HTML(value='')))"
      ]
     },
     "metadata": {},
     "output_type": "display_data"
    },
    {
     "name": "stdout",
     "output_type": "stream",
     "text": [
      "\n",
      "1x2\n",
      "2x2\n",
      "gammat\n",
      "wtheta\n",
      "xim\n",
      "xip\n",
      "\n",
      "###############################\n",
      "## Calibrated p-values ########\n",
      "###############################\n",
      "     - Full         calibrated pval=0.0190 (raw pval=0.0123)\n",
      "     - 1x2          calibrated pval=0.1800 (raw pval=0.1877)\n",
      "     - 2x2          calibrated pval=0.0050 (raw pval=0.0020)\n",
      "     - gammat       calibrated pval=0.0050 (raw pval=0.0016)\n",
      "     - wtheta       calibrated pval=0.2950 (raw pval=0.3030)\n",
      "     - xim          calibrated pval=0.3260 (raw pval=0.3470)\n",
      "     - xip          calibrated pval=0.2410 (raw pval=0.2234)\n",
      "\n",
      "###############################\n",
      "## Plotting ###################\n",
      "###############################\n",
      "\n",
      "###############################\n",
      "## Loading chains #############\n",
      "###############################\n"
     ]
    },
    {
     "data": {
      "application/vnd.jupyter.widget-view+json": {
       "model_id": "de13fd0b458a4ef38781b1534f725de7",
       "version_major": 2,
       "version_minor": 0
      },
      "text/plain": [
       "HBox(children=(FloatProgress(value=0.0, max=222.0), HTML(value='')))"
      ]
     },
     "metadata": {},
     "output_type": "display_data"
    },
    {
     "name": "stdout",
     "output_type": "stream",
     "text": [
      "Loading list chain at\n",
      "../maglim_3x2_goodnessoffit/ppd_chain_3x2pt_lcdm_SR_maglim_boosted_maglim_3x2_goodnessoffit_0.txt\n",
      "- using params\n",
      "['cosmological_parameters--omega_m', 'cosmological_parameters--h0', 'cosmological_parameters--omega_b', 'cosmological_parameters--n_s', 'cosmological_parameters--a_s', 'cosmological_parameters--omnuh2', 'cosmological_parameters--w', 'cosmological_parameters--massive_nu', 'cosmological_parameters--massless_nu', 'cosmological_parameters--omega_k', 'cosmological_parameters--tau', 'shear_calibration_parameters--m1', 'shear_calibration_parameters--m2', 'shear_calibration_parameters--m3', 'shear_calibration_parameters--m4', 'wl_photoz_errors--bias_1', 'wl_photoz_errors--bias_2', 'wl_photoz_errors--bias_3', 'wl_photoz_errors--bias_4', 'lens_photoz_errors--bias_1', 'lens_photoz_errors--bias_2', 'lens_photoz_errors--bias_3', 'lens_photoz_errors--bias_4', 'lens_photoz_errors--bias_5', 'lens_photoz_errors--width_1', 'lens_photoz_errors--width_2', 'lens_photoz_errors--width_3', 'lens_photoz_errors--width_4', 'lens_photoz_errors--width_5', 'lens_photoz_errors--bias_6', 'lens_photoz_errors--width_6', 'bias_lens--b1', 'bias_lens--b2', 'bias_lens--b3', 'bias_lens--b4', 'bias_lens--b5', 'bias_lens--b6', 'mag_alpha_lens--alpha_1', 'mag_alpha_lens--alpha_2', 'mag_alpha_lens--alpha_3', 'mag_alpha_lens--alpha_4', 'mag_alpha_lens--alpha_5', 'mag_alpha_lens--alpha_6', 'intrinsic_alignment_parameters--z_piv', 'intrinsic_alignment_parameters--a1', 'intrinsic_alignment_parameters--a2', 'intrinsic_alignment_parameters--alpha1', 'intrinsic_alignment_parameters--alpha2', 'intrinsic_alignment_parameters--bias_ta', 'COSMOLOGICAL_PARAMETERS--SIGMA_8', 'COSMOLOGICAL_PARAMETERS--SIGMA_12', 'DATA_VECTOR--2PT_CHI2', 'DATA_VECTOR--2PT_D_CHI2', 'DATA_VECTOR--2PT_DPRIME_CHI2', 'DATA_VECTOR--2PT_XIP_CHI2', 'DATA_VECTOR--2PT_XIM_CHI2', 'DATA_VECTOR--2PT_1X2_CHI2', 'DATA_VECTOR--2PT_GAMMAT_CHI2', 'DATA_VECTOR--2PT_WTHETA_CHI2', 'DATA_VECTOR--2PT_2X2_CHI2', 'PPD--CHI2_DPRIME_DATA', 'PPD--CHI2_DPRIME_REALIZATION', 'PPD--CHI2_D_DATA', 'PPD--CHI2_XIP_DATA', 'PPD--CHI2_XIP_REALIZATION', 'PPD--CHI2_XIM_DATA', 'PPD--CHI2_XIM_REALIZATION', 'PPD--CHI2_1X2_DATA', 'PPD--CHI2_1X2_REALIZATION', 'PPD--CHI2_GAMMAT_DATA', 'PPD--CHI2_GAMMAT_REALIZATION', 'PPD--CHI2_WTHETA_DATA', 'PPD--CHI2_WTHETA_REALIZATION', 'PPD--CHI2_2X2_DATA', 'PPD--CHI2_2X2_REALIZATION', 'PPD--CHI2_DPRIME_COMP_AVG', 'PPD--CHI2_XIP_COMP_AVG', 'PPD--CHI2_XIM_COMP_AVG', 'PPD--CHI2_1X2_COMP_AVG', 'PPD--CHI2_GAMMAT_COMP_AVG', 'PPD--CHI2_WTHETA_COMP_AVG', 'PPD--CHI2_2X2_COMP_AVG', 'prior', 'post']\n",
      "- using nsample =  1000\n",
      "\n",
      "Loading chain at\n",
      "../../trimmed_chains_test/chain_3x2pt_lcdm_SR_maglim_boosted.txt\n",
      "Sampler not found -- non-standard cosmosis output\n",
      "Using 222 chunks of size [1000, 1000, 1000, 1000, 1000, 1000, 1000, 1000, 1000, 1000, 1000, 1000, 1000, 1000, 1000, 1000, 1000, 1000, 1000, 1000, 1000, 1000, 1000, 1000, 1000, 1000, 1000, 1000, 1000, 1000, 1000, 1000, 1000, 1000, 1000, 1000, 1000, 1000, 1000, 1000, 1000, 1000, 1000, 1000, 1000, 1000, 1000, 1000, 1000, 1000, 1000, 1000, 1000, 1000, 1000, 1000, 1000, 1000, 1000, 1000, 1000, 1000, 1000, 1000, 1000, 1000, 1000, 1000, 1000, 1000, 1000, 1000, 1000, 1000, 1000, 1000, 1000, 1000, 1000, 1000, 1000, 1000, 1000, 1000, 1000, 1000, 1000, 1000, 1000, 1000, 1000, 1000, 1000, 1000, 1000, 1000, 1000, 1000, 1000, 1000, 1000, 1000, 1000, 1000, 1000, 1000, 1000, 1000, 1000, 1000, 1000, 1000, 1000, 1000, 1000, 1000, 1000, 1000, 1000, 1000, 1000, 1000, 1000, 1000, 1000, 1000, 1000, 1000, 1000, 1000, 1000, 1000, 1000, 1000, 1000, 1000, 1000, 1000, 1000, 1000, 1000, 1000, 1000, 1000, 1000, 1000, 1000, 1000, 1000, 1000, 1000, 1000, 1000, 1000, 1000, 1000, 1000, 1000, 1000, 1000, 1000, 1000, 1000, 1000, 1000, 1000, 1000, 1000, 1000, 1000, 1000, 1000, 1000, 1000, 1000, 1000, 1000, 1000, 1000, 1000, 1000, 1000, 1000, 1000, 1000, 1000, 1000, 1000, 1000, 1000, 1000, 1000, 1000, 1000, 1000, 1000, 1000, 1000, 1000, 1000, 1000, 1000, 1000, 1000, 1000, 1000, 1000, 1000, 1000, 1000, 1000, 1000, 1000, 1000, 1000, 1000, 1000, 1000, 1000, 1000, 1000, 1000] (1000) for a total of 222000 posterior samples\n",
      "\n",
      "###############################\n",
      "## Loading scale/bin cuts #####\n",
      "###############################\n",
      "Found observables in data_file ['xip', 'xim', 'gammat', 'wtheta']\n",
      "Reading options for likelihood module:  2pt_d_like\n",
      "Found scale cuts for  {'xip': [(1, 1), (1, 2), (1, 3), (1, 4), (2, 2), (2, 3), (2, 4), (3, 3), (3, 4), (4, 4)], 'xim': [(1, 1), (1, 2), (1, 3), (1, 4), (2, 2), (2, 3), (2, 4), (3, 3), (3, 4), (4, 4)], 'gammat': [(1, 1), (1, 2), (1, 3), (1, 4), (2, 1), (2, 2), (2, 3), (2, 4), (3, 1), (3, 2), (3, 3), (3, 4), (4, 1), (4, 2), (4, 3), (4, 4), (5, 1), (5, 2), (5, 3), (5, 4), (6, 1), (6, 2), (6, 3), (6, 4)], 'wtheta': [(1, 1), (1, 2), (1, 3), (1, 4), (1, 5), (1, 6), (2, 2), (2, 3), (2, 4), (2, 5), (2, 6), (3, 3), (3, 4), (3, 5), (3, 6), (4, 4), (4, 5), (4, 6), (5, 5), (5, 6), (6, 6)]}\n",
      "Getting indices for xip\n",
      "Getting indices for xim\n",
      "Getting indices for gammat\n",
      "Getting indices for wtheta\n",
      "\n",
      "Found observables in data_file ['xip', 'xim', 'gammat', 'wtheta']\n",
      "Reading options for likelihood module:  2pt_dprime_like\n",
      "Found scale cuts for  {'xip': [(1, 1), (1, 2), (1, 3), (1, 4), (2, 2), (2, 3), (2, 4), (3, 3), (3, 4), (4, 4)], 'xim': [(1, 1), (1, 2), (1, 3), (1, 4), (2, 2), (2, 3), (2, 4), (3, 3), (3, 4), (4, 4)], 'gammat': [(1, 1), (1, 2), (1, 3), (1, 4), (2, 1), (2, 2), (2, 3), (2, 4), (3, 1), (3, 2), (3, 3), (3, 4), (4, 1), (4, 2), (4, 3), (4, 4), (5, 1), (5, 2), (5, 3), (5, 4), (6, 1), (6, 2), (6, 3), (6, 4)], 'wtheta': [(1, 1), (1, 2), (1, 3), (1, 4), (1, 5), (1, 6), (2, 2), (2, 3), (2, 4), (2, 5), (2, 6), (3, 3), (3, 4), (3, 5), (3, 6), (4, 4), (4, 5), (4, 6), (5, 5), (5, 6), (6, 6)]}\n",
      "Getting indices for xip\n",
      "Getting indices for xim\n",
      "Getting indices for gammat\n",
      "Getting indices for wtheta\n",
      "\n",
      "Using subsets ['1x2', '2x2', 'gammat', 'wtheta', 'xim', 'xip']\n",
      "\n",
      "Using same indices for d and dprime -> conditioning turned off\n",
      "\n",
      "###############################\n",
      "## Loading realizations #######\n",
      "###############################\n"
     ]
    },
    {
     "data": {
      "application/vnd.jupyter.widget-view+json": {
       "model_id": "603bdad64ad944b3bf4195ee2979938a",
       "version_major": 2,
       "version_minor": 0
      },
      "text/plain": [
       "HBox(children=(FloatProgress(value=0.0, max=222.0), HTML(value='')))"
      ]
     },
     "metadata": {},
     "output_type": "display_data"
    },
    {
     "name": "stdout",
     "output_type": "stream",
     "text": [
      "Loading realizations from  ../maglim_3x2_goodnessoffit/ppd_3x2pt_lcdm_SR_maglim_boosted_maglim_3x2_goodnessoffit_0_dprime_theory.npy\n",
      " - data vector size = 462\n",
      " - number of realizations = 1000\n",
      "Loading realizations from  ../maglim_3x2_goodnessoffit/ppd_3x2pt_lcdm_SR_maglim_boosted_maglim_3x2_goodnessoffit_0_dprime_real.npy\n",
      " - data vector size = 462\n",
      " - number of realizations = 1000\n",
      "Loading realizations from  ../maglim_3x2_goodnessoffit/ppd_3x2pt_lcdm_SR_maglim_boosted_maglim_3x2_goodnessoffit_0_d_theory.npy\n",
      " - data vector size = 462\n",
      " - number of realizations = 1000\n",
      "\n",
      "\n",
      "###############################\n",
      "## Sampling data ##############\n",
      "###############################\n",
      "Sampling at best-fit with params\n",
      "cosmological_parameters--omega_m = 0.365\n",
      "cosmological_parameters--h0 = 0.56\n",
      "cosmological_parameters--omega_b = 0.0343\n",
      "cosmological_parameters--n_s = 1.03\n",
      "cosmological_parameters--a_s = 2.27e-09\n",
      "cosmological_parameters--omnuh2 = 0.00524\n",
      "shear_calibration_parameters--m1 = -0.00157\n",
      "shear_calibration_parameters--m2 = -0.0231\n",
      "shear_calibration_parameters--m3 = -0.0166\n",
      "shear_calibration_parameters--m4 = -0.033\n",
      "wl_photoz_errors--bias_1 = 0.0218\n",
      "wl_photoz_errors--bias_2 = -0.0158\n",
      "wl_photoz_errors--bias_3 = -0.0285\n",
      "wl_photoz_errors--bias_4 = 0.00859\n",
      "lens_photoz_errors--bias_1 = -0.00994\n",
      "lens_photoz_errors--bias_2 = -0.0286\n",
      "lens_photoz_errors--bias_3 = -0.0038\n",
      "lens_photoz_errors--bias_4 = -0.00452\n",
      "lens_photoz_errors--width_1 = 1.02\n",
      "lens_photoz_errors--width_2 = 1.14\n",
      "lens_photoz_errors--width_3 = 0.908\n",
      "lens_photoz_errors--width_4 = 0.949\n",
      "bias_lens--b1        = 1.6\n",
      "bias_lens--b2        = 1.76\n",
      "bias_lens--b3        = 1.98\n",
      "bias_lens--b4        = 1.93\n",
      "intrinsic_alignment_parameters--a1 = 0.214\n",
      "intrinsic_alignment_parameters--a2 = -0.24\n",
      "intrinsic_alignment_parameters--alpha1 = -3.93\n",
      "intrinsic_alignment_parameters--alpha2 = -0.945\n",
      "intrinsic_alignment_parameters--bias_ta = 0.00855\n",
      "\n",
      "###############################\n",
      "## Compute chi2 for d #########\n",
      "###############################\n"
     ]
    },
    {
     "data": {
      "application/vnd.jupyter.widget-view+json": {
       "model_id": "d0bdfdbefeba4710aaa5c9baa5c749dc",
       "version_major": 2,
       "version_minor": 0
      },
      "text/plain": [
       "HBox(children=(FloatProgress(value=0.0, max=222.0), HTML(value='')))"
      ]
     },
     "metadata": {},
     "output_type": "display_data"
    },
    {
     "name": "stdout",
     "output_type": "stream",
     "text": [
      "\n",
      "\n",
      "###############################\n",
      "## Compute IS weights for d ###\n",
      "###############################\n"
     ]
    },
    {
     "data": {
      "application/vnd.jupyter.widget-view+json": {
       "model_id": "82acc96406d44b10bb6056532337e425",
       "version_major": 2,
       "version_minor": 0
      },
      "text/plain": [
       "HBox(children=(FloatProgress(value=0.0, max=222.0), HTML(value='')))"
      ]
     },
     "metadata": {},
     "output_type": "display_data"
    },
    {
     "name": "stdout",
     "output_type": "stream",
     "text": [
      "\n",
      "(222000, 1000)\n",
      "Neff = 79.3 (median), 16th=32.0, 84th=231.4 (0 were nan's)\n",
      "\n",
      "###############################\n",
      "## Computing p-values #########\n",
      "###############################\n"
     ]
    },
    {
     "data": {
      "application/vnd.jupyter.widget-view+json": {
       "model_id": "e9bb089bf6f44ea9acfc053c97a3babd",
       "version_major": 2,
       "version_minor": 0
      },
      "text/plain": [
       "HBox(children=(FloatProgress(value=1.0, bar_style='info', max=1.0), HTML(value='')))"
      ]
     },
     "metadata": {},
     "output_type": "display_data"
    },
    {
     "name": "stdout",
     "output_type": "stream",
     "text": [
      "\n",
      "1x2\n",
      "2x2\n",
      "gammat\n",
      "wtheta\n",
      "xim\n",
      "xip\n",
      "\n",
      "###############################\n",
      "## Calibrated p-values ########\n",
      "###############################\n",
      "     - Full         calibrated pval=0.0130 (raw pval=0.0123)\n",
      "     - 1x2          calibrated pval=0.1870 (raw pval=0.1877)\n",
      "     - 2x2          calibrated pval=0.0090 (raw pval=0.0020)\n",
      "     - gammat       calibrated pval=0.0080 (raw pval=0.0016)\n",
      "     - wtheta       calibrated pval=0.2790 (raw pval=0.3030)\n",
      "     - xim          calibrated pval=0.3420 (raw pval=0.3470)\n",
      "     - xip          calibrated pval=0.2400 (raw pval=0.2234)\n",
      "\n",
      "###############################\n",
      "## Plotting ###################\n",
      "###############################\n",
      "\n",
      "###############################\n",
      "## Loading chains #############\n",
      "###############################\n"
     ]
    },
    {
     "data": {
      "application/vnd.jupyter.widget-view+json": {
       "model_id": "0d65615d6d85485d85f3458244dcb15e",
       "version_major": 2,
       "version_minor": 0
      },
      "text/plain": [
       "HBox(children=(FloatProgress(value=0.0, max=222.0), HTML(value='')))"
      ]
     },
     "metadata": {},
     "output_type": "display_data"
    },
    {
     "name": "stdout",
     "output_type": "stream",
     "text": [
      "Loading list chain at\n",
      "../maglim_3x2_goodnessoffit/ppd_chain_3x2pt_lcdm_SR_maglim_boosted_maglim_3x2_goodnessoffit_0.txt\n",
      "- using params\n",
      "['cosmological_parameters--omega_m', 'cosmological_parameters--h0', 'cosmological_parameters--omega_b', 'cosmological_parameters--n_s', 'cosmological_parameters--a_s', 'cosmological_parameters--omnuh2', 'cosmological_parameters--w', 'cosmological_parameters--massive_nu', 'cosmological_parameters--massless_nu', 'cosmological_parameters--omega_k', 'cosmological_parameters--tau', 'shear_calibration_parameters--m1', 'shear_calibration_parameters--m2', 'shear_calibration_parameters--m3', 'shear_calibration_parameters--m4', 'wl_photoz_errors--bias_1', 'wl_photoz_errors--bias_2', 'wl_photoz_errors--bias_3', 'wl_photoz_errors--bias_4', 'lens_photoz_errors--bias_1', 'lens_photoz_errors--bias_2', 'lens_photoz_errors--bias_3', 'lens_photoz_errors--bias_4', 'lens_photoz_errors--bias_5', 'lens_photoz_errors--width_1', 'lens_photoz_errors--width_2', 'lens_photoz_errors--width_3', 'lens_photoz_errors--width_4', 'lens_photoz_errors--width_5', 'lens_photoz_errors--bias_6', 'lens_photoz_errors--width_6', 'bias_lens--b1', 'bias_lens--b2', 'bias_lens--b3', 'bias_lens--b4', 'bias_lens--b5', 'bias_lens--b6', 'mag_alpha_lens--alpha_1', 'mag_alpha_lens--alpha_2', 'mag_alpha_lens--alpha_3', 'mag_alpha_lens--alpha_4', 'mag_alpha_lens--alpha_5', 'mag_alpha_lens--alpha_6', 'intrinsic_alignment_parameters--z_piv', 'intrinsic_alignment_parameters--a1', 'intrinsic_alignment_parameters--a2', 'intrinsic_alignment_parameters--alpha1', 'intrinsic_alignment_parameters--alpha2', 'intrinsic_alignment_parameters--bias_ta', 'COSMOLOGICAL_PARAMETERS--SIGMA_8', 'COSMOLOGICAL_PARAMETERS--SIGMA_12', 'DATA_VECTOR--2PT_CHI2', 'DATA_VECTOR--2PT_D_CHI2', 'DATA_VECTOR--2PT_DPRIME_CHI2', 'DATA_VECTOR--2PT_XIP_CHI2', 'DATA_VECTOR--2PT_XIM_CHI2', 'DATA_VECTOR--2PT_1X2_CHI2', 'DATA_VECTOR--2PT_GAMMAT_CHI2', 'DATA_VECTOR--2PT_WTHETA_CHI2', 'DATA_VECTOR--2PT_2X2_CHI2', 'PPD--CHI2_DPRIME_DATA', 'PPD--CHI2_DPRIME_REALIZATION', 'PPD--CHI2_D_DATA', 'PPD--CHI2_XIP_DATA', 'PPD--CHI2_XIP_REALIZATION', 'PPD--CHI2_XIM_DATA', 'PPD--CHI2_XIM_REALIZATION', 'PPD--CHI2_1X2_DATA', 'PPD--CHI2_1X2_REALIZATION', 'PPD--CHI2_GAMMAT_DATA', 'PPD--CHI2_GAMMAT_REALIZATION', 'PPD--CHI2_WTHETA_DATA', 'PPD--CHI2_WTHETA_REALIZATION', 'PPD--CHI2_2X2_DATA', 'PPD--CHI2_2X2_REALIZATION', 'PPD--CHI2_DPRIME_COMP_AVG', 'PPD--CHI2_XIP_COMP_AVG', 'PPD--CHI2_XIM_COMP_AVG', 'PPD--CHI2_1X2_COMP_AVG', 'PPD--CHI2_GAMMAT_COMP_AVG', 'PPD--CHI2_WTHETA_COMP_AVG', 'PPD--CHI2_2X2_COMP_AVG', 'prior', 'post']\n",
      "- using nsample =  1000\n",
      "\n",
      "Loading chain at\n",
      "../../trimmed_chains_test/chain_3x2pt_lcdm_SR_maglim_boosted.txt\n",
      "Sampler not found -- non-standard cosmosis output\n",
      "Using 222 chunks of size [1000, 1000, 1000, 1000, 1000, 1000, 1000, 1000, 1000, 1000, 1000, 1000, 1000, 1000, 1000, 1000, 1000, 1000, 1000, 1000, 1000, 1000, 1000, 1000, 1000, 1000, 1000, 1000, 1000, 1000, 1000, 1000, 1000, 1000, 1000, 1000, 1000, 1000, 1000, 1000, 1000, 1000, 1000, 1000, 1000, 1000, 1000, 1000, 1000, 1000, 1000, 1000, 1000, 1000, 1000, 1000, 1000, 1000, 1000, 1000, 1000, 1000, 1000, 1000, 1000, 1000, 1000, 1000, 1000, 1000, 1000, 1000, 1000, 1000, 1000, 1000, 1000, 1000, 1000, 1000, 1000, 1000, 1000, 1000, 1000, 1000, 1000, 1000, 1000, 1000, 1000, 1000, 1000, 1000, 1000, 1000, 1000, 1000, 1000, 1000, 1000, 1000, 1000, 1000, 1000, 1000, 1000, 1000, 1000, 1000, 1000, 1000, 1000, 1000, 1000, 1000, 1000, 1000, 1000, 1000, 1000, 1000, 1000, 1000, 1000, 1000, 1000, 1000, 1000, 1000, 1000, 1000, 1000, 1000, 1000, 1000, 1000, 1000, 1000, 1000, 1000, 1000, 1000, 1000, 1000, 1000, 1000, 1000, 1000, 1000, 1000, 1000, 1000, 1000, 1000, 1000, 1000, 1000, 1000, 1000, 1000, 1000, 1000, 1000, 1000, 1000, 1000, 1000, 1000, 1000, 1000, 1000, 1000, 1000, 1000, 1000, 1000, 1000, 1000, 1000, 1000, 1000, 1000, 1000, 1000, 1000, 1000, 1000, 1000, 1000, 1000, 1000, 1000, 1000, 1000, 1000, 1000, 1000, 1000, 1000, 1000, 1000, 1000, 1000, 1000, 1000, 1000, 1000, 1000, 1000, 1000, 1000, 1000, 1000, 1000, 1000, 1000, 1000, 1000, 1000, 1000, 1000] (1000) for a total of 222000 posterior samples\n",
      "\n",
      "###############################\n",
      "## Loading scale/bin cuts #####\n",
      "###############################\n",
      "Found observables in data_file ['xip', 'xim', 'gammat', 'wtheta']\n",
      "Reading options for likelihood module:  2pt_d_like\n",
      "Found scale cuts for  {'xip': [(1, 1), (1, 2), (1, 3), (1, 4), (2, 2), (2, 3), (2, 4), (3, 3), (3, 4), (4, 4)], 'xim': [(1, 1), (1, 2), (1, 3), (1, 4), (2, 2), (2, 3), (2, 4), (3, 3), (3, 4), (4, 4)], 'gammat': [(1, 1), (1, 2), (1, 3), (1, 4), (2, 1), (2, 2), (2, 3), (2, 4), (3, 1), (3, 2), (3, 3), (3, 4), (4, 1), (4, 2), (4, 3), (4, 4), (5, 1), (5, 2), (5, 3), (5, 4), (6, 1), (6, 2), (6, 3), (6, 4)], 'wtheta': [(1, 1), (1, 2), (1, 3), (1, 4), (1, 5), (1, 6), (2, 2), (2, 3), (2, 4), (2, 5), (2, 6), (3, 3), (3, 4), (3, 5), (3, 6), (4, 4), (4, 5), (4, 6), (5, 5), (5, 6), (6, 6)]}\n",
      "Getting indices for xip\n",
      "Getting indices for xim\n",
      "Getting indices for gammat\n",
      "Getting indices for wtheta\n",
      "\n",
      "Found observables in data_file ['xip', 'xim', 'gammat', 'wtheta']\n",
      "Reading options for likelihood module:  2pt_dprime_like\n",
      "Found scale cuts for  {'xip': [(1, 1), (1, 2), (1, 3), (1, 4), (2, 2), (2, 3), (2, 4), (3, 3), (3, 4), (4, 4)], 'xim': [(1, 1), (1, 2), (1, 3), (1, 4), (2, 2), (2, 3), (2, 4), (3, 3), (3, 4), (4, 4)], 'gammat': [(1, 1), (1, 2), (1, 3), (1, 4), (2, 1), (2, 2), (2, 3), (2, 4), (3, 1), (3, 2), (3, 3), (3, 4), (4, 1), (4, 2), (4, 3), (4, 4), (5, 1), (5, 2), (5, 3), (5, 4), (6, 1), (6, 2), (6, 3), (6, 4)], 'wtheta': [(1, 1), (1, 2), (1, 3), (1, 4), (1, 5), (1, 6), (2, 2), (2, 3), (2, 4), (2, 5), (2, 6), (3, 3), (3, 4), (3, 5), (3, 6), (4, 4), (4, 5), (4, 6), (5, 5), (5, 6), (6, 6)]}\n",
      "Getting indices for xip\n",
      "Getting indices for xim\n",
      "Getting indices for gammat\n",
      "Getting indices for wtheta\n",
      "\n",
      "Using subsets ['1x2', '2x2', 'gammat', 'wtheta', 'xim', 'xip']\n",
      "\n",
      "Using same indices for d and dprime -> conditioning turned off\n",
      "\n",
      "###############################\n",
      "## Loading realizations #######\n",
      "###############################\n"
     ]
    },
    {
     "data": {
      "application/vnd.jupyter.widget-view+json": {
       "model_id": "a43c6f2f4f044eaa918d92b42bc1d91d",
       "version_major": 2,
       "version_minor": 0
      },
      "text/plain": [
       "HBox(children=(FloatProgress(value=0.0, max=222.0), HTML(value='')))"
      ]
     },
     "metadata": {},
     "output_type": "display_data"
    },
    {
     "name": "stdout",
     "output_type": "stream",
     "text": [
      "Loading realizations from  ../maglim_3x2_goodnessoffit/ppd_3x2pt_lcdm_SR_maglim_boosted_maglim_3x2_goodnessoffit_0_dprime_theory.npy\n",
      " - data vector size = 462\n",
      " - number of realizations = 1000\n",
      "Loading realizations from  ../maglim_3x2_goodnessoffit/ppd_3x2pt_lcdm_SR_maglim_boosted_maglim_3x2_goodnessoffit_0_dprime_real.npy\n",
      " - data vector size = 462\n",
      " - number of realizations = 1000\n",
      "Loading realizations from  ../maglim_3x2_goodnessoffit/ppd_3x2pt_lcdm_SR_maglim_boosted_maglim_3x2_goodnessoffit_0_d_theory.npy\n",
      " - data vector size = 462\n",
      " - number of realizations = 1000\n",
      "\n",
      "\n",
      "###############################\n",
      "## Sampling data ##############\n",
      "###############################\n",
      "Sampling at best-fit with params\n",
      "cosmological_parameters--omega_m = 0.365\n",
      "cosmological_parameters--h0 = 0.56\n",
      "cosmological_parameters--omega_b = 0.0343\n",
      "cosmological_parameters--n_s = 1.03\n",
      "cosmological_parameters--a_s = 2.27e-09\n",
      "cosmological_parameters--omnuh2 = 0.00524\n",
      "shear_calibration_parameters--m1 = -0.00157\n",
      "shear_calibration_parameters--m2 = -0.0231\n",
      "shear_calibration_parameters--m3 = -0.0166\n",
      "shear_calibration_parameters--m4 = -0.033\n",
      "wl_photoz_errors--bias_1 = 0.0218\n",
      "wl_photoz_errors--bias_2 = -0.0158\n",
      "wl_photoz_errors--bias_3 = -0.0285\n",
      "wl_photoz_errors--bias_4 = 0.00859\n",
      "lens_photoz_errors--bias_1 = -0.00994\n",
      "lens_photoz_errors--bias_2 = -0.0286\n",
      "lens_photoz_errors--bias_3 = -0.0038\n",
      "lens_photoz_errors--bias_4 = -0.00452\n",
      "lens_photoz_errors--width_1 = 1.02\n",
      "lens_photoz_errors--width_2 = 1.14\n",
      "lens_photoz_errors--width_3 = 0.908\n",
      "lens_photoz_errors--width_4 = 0.949\n",
      "bias_lens--b1        = 1.6\n",
      "bias_lens--b2        = 1.76\n",
      "bias_lens--b3        = 1.98\n",
      "bias_lens--b4        = 1.93\n",
      "intrinsic_alignment_parameters--a1 = 0.214\n",
      "intrinsic_alignment_parameters--a2 = -0.24\n",
      "intrinsic_alignment_parameters--alpha1 = -3.93\n",
      "intrinsic_alignment_parameters--alpha2 = -0.945\n",
      "intrinsic_alignment_parameters--bias_ta = 0.00855\n",
      "\n",
      "###############################\n",
      "## Compute chi2 for d #########\n",
      "###############################\n"
     ]
    },
    {
     "data": {
      "application/vnd.jupyter.widget-view+json": {
       "model_id": "463a80e31b5e4d099dfd878881372dc9",
       "version_major": 2,
       "version_minor": 0
      },
      "text/plain": [
       "HBox(children=(FloatProgress(value=0.0, max=222.0), HTML(value='')))"
      ]
     },
     "metadata": {},
     "output_type": "display_data"
    },
    {
     "name": "stdout",
     "output_type": "stream",
     "text": [
      "\n",
      "\n",
      "###############################\n",
      "## Compute IS weights for d ###\n",
      "###############################\n"
     ]
    },
    {
     "data": {
      "application/vnd.jupyter.widget-view+json": {
       "model_id": "d914845e38644d35bacb19bd1989fde6",
       "version_major": 2,
       "version_minor": 0
      },
      "text/plain": [
       "HBox(children=(FloatProgress(value=0.0, max=222.0), HTML(value='')))"
      ]
     },
     "metadata": {},
     "output_type": "display_data"
    },
    {
     "name": "stdout",
     "output_type": "stream",
     "text": [
      "\n",
      "(222000, 1000)\n",
      "Neff = 76.7 (median), 16th=32.4, 84th=212.8 (0 were nan's)\n",
      "\n",
      "###############################\n",
      "## Computing p-values #########\n",
      "###############################\n"
     ]
    },
    {
     "data": {
      "application/vnd.jupyter.widget-view+json": {
       "model_id": "d99060406e9a4c82b2ed2dabe45e4bd3",
       "version_major": 2,
       "version_minor": 0
      },
      "text/plain": [
       "HBox(children=(FloatProgress(value=1.0, bar_style='info', max=1.0), HTML(value='')))"
      ]
     },
     "metadata": {},
     "output_type": "display_data"
    },
    {
     "name": "stdout",
     "output_type": "stream",
     "text": [
      "\n",
      "1x2\n",
      "2x2\n",
      "gammat\n",
      "wtheta\n",
      "xim\n",
      "xip\n",
      "\n",
      "\n",
      "###############################\n",
      "## Compute IS weights for d ###\n",
      "###############################\n"
     ]
    },
    {
     "data": {
      "application/vnd.jupyter.widget-view+json": {
       "model_id": "6809236abe614b6d9a2cf95acbb01389",
       "version_major": 2,
       "version_minor": 0
      },
      "text/plain": [
       "HBox(children=(FloatProgress(value=0.0, max=222.0), HTML(value='')))"
      ]
     },
     "metadata": {},
     "output_type": "display_data"
    },
    {
     "name": "stdout",
     "output_type": "stream",
     "text": [
      "\n",
      "(222000, 1000)\n",
      "Neff = 76.7 (median), 16th=32.4, 84th=220.6 (0 were nan's)\n",
      "\n",
      "###############################\n",
      "## Computing p-values #########\n",
      "###############################\n"
     ]
    },
    {
     "data": {
      "application/vnd.jupyter.widget-view+json": {
       "model_id": "6f439e36597f4a53ba0971298dfde210",
       "version_major": 2,
       "version_minor": 0
      },
      "text/plain": [
       "HBox(children=(FloatProgress(value=1.0, bar_style='info', max=1.0), HTML(value='')))"
      ]
     },
     "metadata": {},
     "output_type": "display_data"
    },
    {
     "name": "stdout",
     "output_type": "stream",
     "text": [
      "\n",
      "1x2\n",
      "2x2\n",
      "gammat\n",
      "wtheta\n",
      "xim\n",
      "xip\n",
      "\n",
      "###############################\n",
      "## Calibrated p-values ########\n",
      "###############################\n",
      "     - Full         calibrated pval=0.0250 (raw pval=0.0123)\n",
      "     - 1x2          calibrated pval=0.1880 (raw pval=0.1877)\n",
      "     - 2x2          calibrated pval=0.0140 (raw pval=0.0020)\n",
      "     - gammat       calibrated pval=0.0110 (raw pval=0.0016)\n",
      "     - wtheta       calibrated pval=0.2840 (raw pval=0.3030)\n",
      "     - xim          calibrated pval=0.3530 (raw pval=0.3470)\n",
      "     - xip          calibrated pval=0.2310 (raw pval=0.2234)\n",
      "\n",
      "###############################\n",
      "## Plotting ###################\n",
      "###############################\n",
      "\n",
      "###############################\n",
      "## Loading chains #############\n",
      "###############################\n"
     ]
    },
    {
     "data": {
      "application/vnd.jupyter.widget-view+json": {
       "model_id": "9fd42505d533404080c80313a0ae8148",
       "version_major": 2,
       "version_minor": 0
      },
      "text/plain": [
       "HBox(children=(FloatProgress(value=0.0, max=222.0), HTML(value='')))"
      ]
     },
     "metadata": {},
     "output_type": "display_data"
    },
    {
     "name": "stdout",
     "output_type": "stream",
     "text": [
      "Loading list chain at\n",
      "../maglim_3x2_goodnessoffit/ppd_chain_3x2pt_lcdm_SR_maglim_boosted_maglim_3x2_goodnessoffit_0.txt\n",
      "- using params\n",
      "['cosmological_parameters--omega_m', 'cosmological_parameters--h0', 'cosmological_parameters--omega_b', 'cosmological_parameters--n_s', 'cosmological_parameters--a_s', 'cosmological_parameters--omnuh2', 'cosmological_parameters--w', 'cosmological_parameters--massive_nu', 'cosmological_parameters--massless_nu', 'cosmological_parameters--omega_k', 'cosmological_parameters--tau', 'shear_calibration_parameters--m1', 'shear_calibration_parameters--m2', 'shear_calibration_parameters--m3', 'shear_calibration_parameters--m4', 'wl_photoz_errors--bias_1', 'wl_photoz_errors--bias_2', 'wl_photoz_errors--bias_3', 'wl_photoz_errors--bias_4', 'lens_photoz_errors--bias_1', 'lens_photoz_errors--bias_2', 'lens_photoz_errors--bias_3', 'lens_photoz_errors--bias_4', 'lens_photoz_errors--bias_5', 'lens_photoz_errors--width_1', 'lens_photoz_errors--width_2', 'lens_photoz_errors--width_3', 'lens_photoz_errors--width_4', 'lens_photoz_errors--width_5', 'lens_photoz_errors--bias_6', 'lens_photoz_errors--width_6', 'bias_lens--b1', 'bias_lens--b2', 'bias_lens--b3', 'bias_lens--b4', 'bias_lens--b5', 'bias_lens--b6', 'mag_alpha_lens--alpha_1', 'mag_alpha_lens--alpha_2', 'mag_alpha_lens--alpha_3', 'mag_alpha_lens--alpha_4', 'mag_alpha_lens--alpha_5', 'mag_alpha_lens--alpha_6', 'intrinsic_alignment_parameters--z_piv', 'intrinsic_alignment_parameters--a1', 'intrinsic_alignment_parameters--a2', 'intrinsic_alignment_parameters--alpha1', 'intrinsic_alignment_parameters--alpha2', 'intrinsic_alignment_parameters--bias_ta', 'COSMOLOGICAL_PARAMETERS--SIGMA_8', 'COSMOLOGICAL_PARAMETERS--SIGMA_12', 'DATA_VECTOR--2PT_CHI2', 'DATA_VECTOR--2PT_D_CHI2', 'DATA_VECTOR--2PT_DPRIME_CHI2', 'DATA_VECTOR--2PT_XIP_CHI2', 'DATA_VECTOR--2PT_XIM_CHI2', 'DATA_VECTOR--2PT_1X2_CHI2', 'DATA_VECTOR--2PT_GAMMAT_CHI2', 'DATA_VECTOR--2PT_WTHETA_CHI2', 'DATA_VECTOR--2PT_2X2_CHI2', 'PPD--CHI2_DPRIME_DATA', 'PPD--CHI2_DPRIME_REALIZATION', 'PPD--CHI2_D_DATA', 'PPD--CHI2_XIP_DATA', 'PPD--CHI2_XIP_REALIZATION', 'PPD--CHI2_XIM_DATA', 'PPD--CHI2_XIM_REALIZATION', 'PPD--CHI2_1X2_DATA', 'PPD--CHI2_1X2_REALIZATION', 'PPD--CHI2_GAMMAT_DATA', 'PPD--CHI2_GAMMAT_REALIZATION', 'PPD--CHI2_WTHETA_DATA', 'PPD--CHI2_WTHETA_REALIZATION', 'PPD--CHI2_2X2_DATA', 'PPD--CHI2_2X2_REALIZATION', 'PPD--CHI2_DPRIME_COMP_AVG', 'PPD--CHI2_XIP_COMP_AVG', 'PPD--CHI2_XIM_COMP_AVG', 'PPD--CHI2_1X2_COMP_AVG', 'PPD--CHI2_GAMMAT_COMP_AVG', 'PPD--CHI2_WTHETA_COMP_AVG', 'PPD--CHI2_2X2_COMP_AVG', 'prior', 'post']\n",
      "- using nsample =  1000\n",
      "\n",
      "Loading chain at\n",
      "../../trimmed_chains_test/chain_3x2pt_lcdm_SR_maglim_boosted.txt\n",
      "Sampler not found -- non-standard cosmosis output\n",
      "Using 222 chunks of size [1000, 1000, 1000, 1000, 1000, 1000, 1000, 1000, 1000, 1000, 1000, 1000, 1000, 1000, 1000, 1000, 1000, 1000, 1000, 1000, 1000, 1000, 1000, 1000, 1000, 1000, 1000, 1000, 1000, 1000, 1000, 1000, 1000, 1000, 1000, 1000, 1000, 1000, 1000, 1000, 1000, 1000, 1000, 1000, 1000, 1000, 1000, 1000, 1000, 1000, 1000, 1000, 1000, 1000, 1000, 1000, 1000, 1000, 1000, 1000, 1000, 1000, 1000, 1000, 1000, 1000, 1000, 1000, 1000, 1000, 1000, 1000, 1000, 1000, 1000, 1000, 1000, 1000, 1000, 1000, 1000, 1000, 1000, 1000, 1000, 1000, 1000, 1000, 1000, 1000, 1000, 1000, 1000, 1000, 1000, 1000, 1000, 1000, 1000, 1000, 1000, 1000, 1000, 1000, 1000, 1000, 1000, 1000, 1000, 1000, 1000, 1000, 1000, 1000, 1000, 1000, 1000, 1000, 1000, 1000, 1000, 1000, 1000, 1000, 1000, 1000, 1000, 1000, 1000, 1000, 1000, 1000, 1000, 1000, 1000, 1000, 1000, 1000, 1000, 1000, 1000, 1000, 1000, 1000, 1000, 1000, 1000, 1000, 1000, 1000, 1000, 1000, 1000, 1000, 1000, 1000, 1000, 1000, 1000, 1000, 1000, 1000, 1000, 1000, 1000, 1000, 1000, 1000, 1000, 1000, 1000, 1000, 1000, 1000, 1000, 1000, 1000, 1000, 1000, 1000, 1000, 1000, 1000, 1000, 1000, 1000, 1000, 1000, 1000, 1000, 1000, 1000, 1000, 1000, 1000, 1000, 1000, 1000, 1000, 1000, 1000, 1000, 1000, 1000, 1000, 1000, 1000, 1000, 1000, 1000, 1000, 1000, 1000, 1000, 1000, 1000, 1000, 1000, 1000, 1000, 1000, 1000] (1000) for a total of 222000 posterior samples\n",
      "\n",
      "###############################\n",
      "## Loading scale/bin cuts #####\n",
      "###############################\n",
      "Found observables in data_file ['xip', 'xim', 'gammat', 'wtheta']\n",
      "Reading options for likelihood module:  2pt_d_like\n",
      "Found scale cuts for  {'xip': [(1, 1), (1, 2), (1, 3), (1, 4), (2, 2), (2, 3), (2, 4), (3, 3), (3, 4), (4, 4)], 'xim': [(1, 1), (1, 2), (1, 3), (1, 4), (2, 2), (2, 3), (2, 4), (3, 3), (3, 4), (4, 4)], 'gammat': [(1, 1), (1, 2), (1, 3), (1, 4), (2, 1), (2, 2), (2, 3), (2, 4), (3, 1), (3, 2), (3, 3), (3, 4), (4, 1), (4, 2), (4, 3), (4, 4), (5, 1), (5, 2), (5, 3), (5, 4), (6, 1), (6, 2), (6, 3), (6, 4)], 'wtheta': [(1, 1), (1, 2), (1, 3), (1, 4), (1, 5), (1, 6), (2, 2), (2, 3), (2, 4), (2, 5), (2, 6), (3, 3), (3, 4), (3, 5), (3, 6), (4, 4), (4, 5), (4, 6), (5, 5), (5, 6), (6, 6)]}\n",
      "Getting indices for xip\n",
      "Getting indices for xim\n",
      "Getting indices for gammat\n",
      "Getting indices for wtheta\n",
      "\n",
      "Found observables in data_file ['xip', 'xim', 'gammat', 'wtheta']\n",
      "Reading options for likelihood module:  2pt_dprime_like\n",
      "Found scale cuts for  {'xip': [(1, 1), (1, 2), (1, 3), (1, 4), (2, 2), (2, 3), (2, 4), (3, 3), (3, 4), (4, 4)], 'xim': [(1, 1), (1, 2), (1, 3), (1, 4), (2, 2), (2, 3), (2, 4), (3, 3), (3, 4), (4, 4)], 'gammat': [(1, 1), (1, 2), (1, 3), (1, 4), (2, 1), (2, 2), (2, 3), (2, 4), (3, 1), (3, 2), (3, 3), (3, 4), (4, 1), (4, 2), (4, 3), (4, 4), (5, 1), (5, 2), (5, 3), (5, 4), (6, 1), (6, 2), (6, 3), (6, 4)], 'wtheta': [(1, 1), (1, 2), (1, 3), (1, 4), (1, 5), (1, 6), (2, 2), (2, 3), (2, 4), (2, 5), (2, 6), (3, 3), (3, 4), (3, 5), (3, 6), (4, 4), (4, 5), (4, 6), (5, 5), (5, 6), (6, 6)]}\n",
      "Getting indices for xip\n",
      "Getting indices for xim\n",
      "Getting indices for gammat\n",
      "Getting indices for wtheta\n",
      "\n",
      "Using subsets ['1x2', '2x2', 'gammat', 'wtheta', 'xim', 'xip']\n",
      "\n",
      "Using same indices for d and dprime -> conditioning turned off\n",
      "\n",
      "###############################\n",
      "## Loading realizations #######\n",
      "###############################\n"
     ]
    },
    {
     "data": {
      "application/vnd.jupyter.widget-view+json": {
       "model_id": "b24bb9c622c9428d92b5d79775119258",
       "version_major": 2,
       "version_minor": 0
      },
      "text/plain": [
       "HBox(children=(FloatProgress(value=0.0, max=222.0), HTML(value='')))"
      ]
     },
     "metadata": {},
     "output_type": "display_data"
    },
    {
     "name": "stdout",
     "output_type": "stream",
     "text": [
      "Loading realizations from  ../maglim_3x2_goodnessoffit/ppd_3x2pt_lcdm_SR_maglim_boosted_maglim_3x2_goodnessoffit_0_dprime_theory.npy\n",
      " - data vector size = 462\n",
      " - number of realizations = 1000\n",
      "Loading realizations from  ../maglim_3x2_goodnessoffit/ppd_3x2pt_lcdm_SR_maglim_boosted_maglim_3x2_goodnessoffit_0_dprime_real.npy\n",
      " - data vector size = 462\n",
      " - number of realizations = 1000\n",
      "Loading realizations from  ../maglim_3x2_goodnessoffit/ppd_3x2pt_lcdm_SR_maglim_boosted_maglim_3x2_goodnessoffit_0_d_theory.npy\n",
      " - data vector size = 462\n",
      " - number of realizations = 1000\n",
      "\n",
      "\n",
      "###############################\n",
      "## Sampling data ##############\n",
      "###############################\n",
      "Sampling at best-fit with params\n",
      "cosmological_parameters--omega_m = 0.365\n",
      "cosmological_parameters--h0 = 0.56\n",
      "cosmological_parameters--omega_b = 0.0343\n",
      "cosmological_parameters--n_s = 1.03\n",
      "cosmological_parameters--a_s = 2.27e-09\n",
      "cosmological_parameters--omnuh2 = 0.00524\n",
      "shear_calibration_parameters--m1 = -0.00157\n",
      "shear_calibration_parameters--m2 = -0.0231\n",
      "shear_calibration_parameters--m3 = -0.0166\n",
      "shear_calibration_parameters--m4 = -0.033\n",
      "wl_photoz_errors--bias_1 = 0.0218\n",
      "wl_photoz_errors--bias_2 = -0.0158\n",
      "wl_photoz_errors--bias_3 = -0.0285\n",
      "wl_photoz_errors--bias_4 = 0.00859\n",
      "lens_photoz_errors--bias_1 = -0.00994\n",
      "lens_photoz_errors--bias_2 = -0.0286\n",
      "lens_photoz_errors--bias_3 = -0.0038\n",
      "lens_photoz_errors--bias_4 = -0.00452\n",
      "lens_photoz_errors--width_1 = 1.02\n",
      "lens_photoz_errors--width_2 = 1.14\n",
      "lens_photoz_errors--width_3 = 0.908\n",
      "lens_photoz_errors--width_4 = 0.949\n",
      "bias_lens--b1        = 1.6\n",
      "bias_lens--b2        = 1.76\n",
      "bias_lens--b3        = 1.98\n",
      "bias_lens--b4        = 1.93\n",
      "intrinsic_alignment_parameters--a1 = 0.214\n",
      "intrinsic_alignment_parameters--a2 = -0.24\n",
      "intrinsic_alignment_parameters--alpha1 = -3.93\n",
      "intrinsic_alignment_parameters--alpha2 = -0.945\n",
      "intrinsic_alignment_parameters--bias_ta = 0.00855\n",
      "\n",
      "###############################\n",
      "## Compute chi2 for d #########\n",
      "###############################\n"
     ]
    },
    {
     "data": {
      "application/vnd.jupyter.widget-view+json": {
       "model_id": "ea55e17f6e7749df93d054bea0e699f3",
       "version_major": 2,
       "version_minor": 0
      },
      "text/plain": [
       "HBox(children=(FloatProgress(value=0.0, max=222.0), HTML(value='')))"
      ]
     },
     "metadata": {},
     "output_type": "display_data"
    },
    {
     "name": "stdout",
     "output_type": "stream",
     "text": [
      "\n",
      "\n",
      "###############################\n",
      "## Compute IS weights for d ###\n",
      "###############################\n"
     ]
    },
    {
     "data": {
      "application/vnd.jupyter.widget-view+json": {
       "model_id": "cc71120dd6d04c5fa81398c25173cca4",
       "version_major": 2,
       "version_minor": 0
      },
      "text/plain": [
       "HBox(children=(FloatProgress(value=0.0, max=222.0), HTML(value='')))"
      ]
     },
     "metadata": {},
     "output_type": "display_data"
    },
    {
     "name": "stdout",
     "output_type": "stream",
     "text": [
      "\n",
      "(222000, 1000)\n",
      "Neff = 76.0 (median), 16th=34.6, 84th=221.4 (0 were nan's)\n",
      "\n",
      "###############################\n",
      "## Computing p-values #########\n",
      "###############################\n"
     ]
    },
    {
     "data": {
      "application/vnd.jupyter.widget-view+json": {
       "model_id": "e47c1ad2b11c4903a532629ab865ef66",
       "version_major": 2,
       "version_minor": 0
      },
      "text/plain": [
       "HBox(children=(FloatProgress(value=1.0, bar_style='info', max=1.0), HTML(value='')))"
      ]
     },
     "metadata": {},
     "output_type": "display_data"
    },
    {
     "name": "stdout",
     "output_type": "stream",
     "text": [
      "\n",
      "1x2\n",
      "2x2\n",
      "gammat\n",
      "wtheta\n",
      "xim\n",
      "xip\n",
      "\n",
      "###############################\n",
      "## Calibrated p-values ########\n",
      "###############################\n",
      "     - Full         calibrated pval=0.0250 (raw pval=0.0123)\n",
      "     - 1x2          calibrated pval=0.1980 (raw pval=0.1877)\n",
      "     - 2x2          calibrated pval=0.0120 (raw pval=0.0020)\n",
      "     - gammat       calibrated pval=0.0090 (raw pval=0.0016)\n",
      "     - wtheta       calibrated pval=0.2730 (raw pval=0.3030)\n",
      "     - xim          calibrated pval=0.3570 (raw pval=0.3470)\n",
      "     - xip          calibrated pval=0.2460 (raw pval=0.2234)\n",
      "\n",
      "###############################\n",
      "## Plotting ###################\n",
      "###############################\n",
      "\n",
      "###############################\n",
      "## Loading chains #############\n",
      "###############################\n"
     ]
    },
    {
     "data": {
      "application/vnd.jupyter.widget-view+json": {
       "model_id": "808f413e5d074b34a45bb0b532af0674",
       "version_major": 2,
       "version_minor": 0
      },
      "text/plain": [
       "HBox(children=(FloatProgress(value=0.0, max=222.0), HTML(value='')))"
      ]
     },
     "metadata": {},
     "output_type": "display_data"
    },
    {
     "name": "stdout",
     "output_type": "stream",
     "text": [
      "Loading list chain at\n",
      "../maglim_3x2_goodnessoffit/ppd_chain_3x2pt_lcdm_SR_maglim_boosted_maglim_3x2_goodnessoffit_0.txt\n",
      "- using params\n",
      "['cosmological_parameters--omega_m', 'cosmological_parameters--h0', 'cosmological_parameters--omega_b', 'cosmological_parameters--n_s', 'cosmological_parameters--a_s', 'cosmological_parameters--omnuh2', 'cosmological_parameters--w', 'cosmological_parameters--massive_nu', 'cosmological_parameters--massless_nu', 'cosmological_parameters--omega_k', 'cosmological_parameters--tau', 'shear_calibration_parameters--m1', 'shear_calibration_parameters--m2', 'shear_calibration_parameters--m3', 'shear_calibration_parameters--m4', 'wl_photoz_errors--bias_1', 'wl_photoz_errors--bias_2', 'wl_photoz_errors--bias_3', 'wl_photoz_errors--bias_4', 'lens_photoz_errors--bias_1', 'lens_photoz_errors--bias_2', 'lens_photoz_errors--bias_3', 'lens_photoz_errors--bias_4', 'lens_photoz_errors--bias_5', 'lens_photoz_errors--width_1', 'lens_photoz_errors--width_2', 'lens_photoz_errors--width_3', 'lens_photoz_errors--width_4', 'lens_photoz_errors--width_5', 'lens_photoz_errors--bias_6', 'lens_photoz_errors--width_6', 'bias_lens--b1', 'bias_lens--b2', 'bias_lens--b3', 'bias_lens--b4', 'bias_lens--b5', 'bias_lens--b6', 'mag_alpha_lens--alpha_1', 'mag_alpha_lens--alpha_2', 'mag_alpha_lens--alpha_3', 'mag_alpha_lens--alpha_4', 'mag_alpha_lens--alpha_5', 'mag_alpha_lens--alpha_6', 'intrinsic_alignment_parameters--z_piv', 'intrinsic_alignment_parameters--a1', 'intrinsic_alignment_parameters--a2', 'intrinsic_alignment_parameters--alpha1', 'intrinsic_alignment_parameters--alpha2', 'intrinsic_alignment_parameters--bias_ta', 'COSMOLOGICAL_PARAMETERS--SIGMA_8', 'COSMOLOGICAL_PARAMETERS--SIGMA_12', 'DATA_VECTOR--2PT_CHI2', 'DATA_VECTOR--2PT_D_CHI2', 'DATA_VECTOR--2PT_DPRIME_CHI2', 'DATA_VECTOR--2PT_XIP_CHI2', 'DATA_VECTOR--2PT_XIM_CHI2', 'DATA_VECTOR--2PT_1X2_CHI2', 'DATA_VECTOR--2PT_GAMMAT_CHI2', 'DATA_VECTOR--2PT_WTHETA_CHI2', 'DATA_VECTOR--2PT_2X2_CHI2', 'PPD--CHI2_DPRIME_DATA', 'PPD--CHI2_DPRIME_REALIZATION', 'PPD--CHI2_D_DATA', 'PPD--CHI2_XIP_DATA', 'PPD--CHI2_XIP_REALIZATION', 'PPD--CHI2_XIM_DATA', 'PPD--CHI2_XIM_REALIZATION', 'PPD--CHI2_1X2_DATA', 'PPD--CHI2_1X2_REALIZATION', 'PPD--CHI2_GAMMAT_DATA', 'PPD--CHI2_GAMMAT_REALIZATION', 'PPD--CHI2_WTHETA_DATA', 'PPD--CHI2_WTHETA_REALIZATION', 'PPD--CHI2_2X2_DATA', 'PPD--CHI2_2X2_REALIZATION', 'PPD--CHI2_DPRIME_COMP_AVG', 'PPD--CHI2_XIP_COMP_AVG', 'PPD--CHI2_XIM_COMP_AVG', 'PPD--CHI2_1X2_COMP_AVG', 'PPD--CHI2_GAMMAT_COMP_AVG', 'PPD--CHI2_WTHETA_COMP_AVG', 'PPD--CHI2_2X2_COMP_AVG', 'prior', 'post']\n",
      "- using nsample =  1000\n"
     ]
    },
    {
     "name": "stderr",
     "output_type": "stream",
     "text": [
      "IOPub message rate exceeded.\n",
      "The Jupyter server will temporarily stop sending output\n",
      "to the client in order to avoid crashing it.\n",
      "To change this limit, set the config variable\n",
      "`--ServerApp.iopub_msg_rate_limit`.\n",
      "\n",
      "Current values:\n",
      "ServerApp.iopub_msg_rate_limit=1000.0 (msgs/sec)\n",
      "ServerApp.rate_limit_window=3.0 (secs)\n",
      "\n"
     ]
    }
   ],
   "source": [
    "res_pcal = []\n",
    "\n",
    "pvals_subsets={k:None for k in['xip','xim', 'gammat','wtheta','1x2','2x2']}\n",
    "\n",
    "import sys, os\n",
    "\n",
    "# Disable\n",
    "def blockPrint():\n",
    "    sys.stdout = open(os.devnull, 'w')\n",
    "\n",
    "# Restore\n",
    "def enablePrint():\n",
    "    sys.stdout = sys.__stdout__\n",
    "\n",
    "for _ in trange(10):\n",
    "    #blockPrint()\n",
    "    temp = calib.calibrate_pvals(\n",
    "        path_ppd=path_ppd,\n",
    "        path_chain=path_chain,\n",
    "        path_dv=path_dv,\n",
    "        RUN_NAME=RUN_NAME,\n",
    "        RUN_NAME_PPD=RUN_NAME_PPD,\n",
    "        DATAFILE=DATAFILE,\n",
    "        fiducial_dv=fiducial_dv,\n",
    "        data_sets_d=['xip','xim', 'gammat','wtheta'],\n",
    "        data_sets_dprime=['xip','xim', 'gammat','wtheta'],\n",
    "        N=1000, # 10^4 should give reasonable results, but for memory-sake can try smaller like 100\n",
    "        title=RUN_NAME_PPD,\n",
    "            pval_data=res[0]['full'],\n",
    "        use_pm=True,\n",
    "#         use_pm=False,\n",
    "        clip_is=0.1,\n",
    "        ndraws=1,\n",
    "        chunks=222,\n",
    "        size_chunk=1000,\n",
    "    #     pvals_subsets=res[0],\n",
    "        #use_logit=(1e-6,1),\n",
    "        get_zbin_pair_pcal=False,\n",
    "        pvals_subsets=pvals_subsets,\n",
    "#         sample_from='fiducial_dv'  # Trying this (different from y1 notebook)\n",
    "        sample_from='best-fit'  # Trying this (different from y1 notebook)\n",
    "    )\n",
    "    res_pcal.append(temp)\n",
    "    #enablePrint()\n",
    "    pickle.dump(res_pcal, open('res_pcal_'+RUN_NAME_PPD+'.pickle', 'wb'))\n",
    "    "
   ]
  },
  {
   "cell_type": "markdown",
   "metadata": {},
   "source": [
    "### With pm"
   ]
  },
  {
   "cell_type": "code",
   "execution_count": 9,
   "metadata": {},
   "outputs": [],
   "source": [
    "pvals_rsd = np.concatenate([r[0] for r in res_pcal])"
   ]
  },
  {
   "cell_type": "code",
   "execution_count": 10,
   "metadata": {},
   "outputs": [
    {
     "data": {
      "text/plain": [
       "(10000,)"
      ]
     },
     "execution_count": 10,
     "metadata": {},
     "output_type": "execute_result"
    }
   ],
   "source": [
    "pvals_rsd.shape"
   ]
  },
  {
   "cell_type": "code",
   "execution_count": 11,
   "metadata": {},
   "outputs": [
    {
     "name": "stdout",
     "output_type": "stream",
     "text": [
      "0.0213\n"
     ]
    },
    {
     "data": {
      "image/png": "[encoded data removed]",
      "text/plain": [
       "<Figure size 432x288 with 1 Axes>"
      ]
     },
     "metadata": {
      "image/png": {
       "height": 248,
       "width": 375
      },
      "needs_background": "light"
     },
     "output_type": "display_data"
    }
   ],
   "source": [
    "plt.hist(pvals_rsd, 100);\n",
    "print(np.sum(pvals_rsd<=0.0122)/10000)"
   ]
  },
  {
   "cell_type": "code",
   "execution_count": 12,
   "metadata": {},
   "outputs": [
    {
     "data": {
      "application/vnd.jupyter.widget-view+json": {
       "model_id": "b654b6637e634081aff142134e56bc6d",
       "version_major": 2,
       "version_minor": 0
      },
      "text/plain": [
       "HBox(children=(FloatProgress(value=0.0, max=1000.0), HTML(value='')))"
      ]
     },
     "metadata": {},
     "output_type": "display_data"
    },
    {
     "name": "stdout",
     "output_type": "stream",
     "text": [
      "\n"
     ]
    },
    {
     "data": {
      "text/plain": [
       "(array([  2.,  20.,  54., 150., 219., 244., 175.,  88.,  36.,  12.]),\n",
       " array([0.0165 , 0.01741, 0.01832, 0.01923, 0.02014, 0.02105, 0.02196,\n",
       "        0.02287, 0.02378, 0.02469, 0.0256 ]),\n",
       " <a list of 10 Patch objects>)"
      ]
     },
     "execution_count": 12,
     "metadata": {},
     "output_type": "execute_result"
    },
    {
     "data": {
      "image/png": "[encoded data removed]",
      "text/plain": [
       "<Figure size 432x288 with 1 Axes>"
      ]
     },
     "metadata": {
      "image/png": {
       "height": 248,
       "width": 387
      },
      "needs_background": "light"
     },
     "output_type": "display_data"
    }
   ],
   "source": [
    "plt.hist([np.sum(np.random.choice(pvals_rsd,size=len(pvals_rsd),replace=True)<=0.0122)/10000 for _ in trange(1000)])"
   ]
  },
  {
   "cell_type": "code",
   "execution_count": 13,
   "metadata": {},
   "outputs": [
    {
     "name": "stdout",
     "output_type": "stream",
     "text": [
      "xip 0.22335435844031534 0.2411\n",
      "xim 0.3469528684715754 0.351\n",
      "gammat 0.0016313191636662776 0.0075\n",
      "wtheta 0.3029991333476307 0.2934\n",
      "1x2 0.18773534563631017 0.1977\n",
      "2x2 0.0019679558580936816 0.01\n"
     ]
    },
    {
     "data": {
      "text/plain": [
       "<matplotlib.legend.Legend at 0x2aaaea930580>"
      ]
     },
     "execution_count": 13,
     "metadata": {},
     "output_type": "execute_result"
    },
    {
     "data": {
      "image/png": "[encoded data removed]",
      "text/plain": [
       "<Figure size 432x288 with 1 Axes>"
      ]
     },
     "metadata": {
      "image/png": {
       "height": 248,
       "width": 375
      },
      "needs_background": "light"
     },
     "output_type": "display_data"
    }
   ],
   "source": [
    "for key in pvals_subsets.keys():\n",
    "    _p = np.concatenate([r[1][key] for r in res_pcal])\n",
    "    print(key, pvals_subsets[key], np.sum(_p<=pvals_subsets[key])/len(_p))\n",
    "    plt.hist(_p, np.linspace(0,1,100), histtype='step', label=key);\n",
    "plt.legend()"
   ]
  },
  {
   "cell_type": "markdown",
   "metadata": {},
   "source": [
    "# 2x2 goodness of fit"
   ]
  },
  {
   "cell_type": "code",
   "execution_count": 14,
   "metadata": {},
   "outputs": [],
   "source": [
    "a = np.loadtxt('../../trimmed_chains/chain_2x2pt_lcdm_SR_maglim_boosted.txt')\n",
    "\n",
    "with open('../../trimmed_chains/chain_2x2pt_lcdm_SR_maglim_boosted.txt', 'r') as f:\n",
    "    header = f.readline()\n",
    "    \n",
    "np.savetxt('../../trimmed_chains_test/chain_2x2pt_lcdm_SR_maglim_boosted.txt', a[:221000], header=header[2:-1])"
   ]
  },
  {
   "cell_type": "code",
   "execution_count": 15,
   "metadata": {},
   "outputs": [
    {
     "name": "stdout",
     "output_type": "stream",
     "text": [
      "# cosmological_parameters--omega_m cosmological_parameters--h0 cosmological_parameters--omega_b cosmological_parameters--n_s cosmological_parameters--a_s cosmological_parameters--omnuh2 shear_calibration_parameters--m1 shear_calibration_parameters--m2 shear_calibration_parameters--m3 shear_calibration_parameters--m4 wl_photoz_errors--bias_1 wl_photoz_errors--bias_2 wl_photoz_errors--bias_3 wl_photoz_errors--bias_4 lens_photoz_errors--bias_1 lens_photoz_errors--bias_2 lens_photoz_errors--bias_3 lens_photoz_errors--bias_4 lens_photoz_errors--width_1 lens_photoz_errors--width_2 lens_photoz_errors--width_3 lens_photoz_errors--width_4 bias_lens--b1 bias_lens--b2 bias_lens--b3 bias_lens--b4 intrinsic_alignment_parameters--a1 intrinsic_alignment_parameters--a2 intrinsic_alignment_parameters--alpha1 intrinsic_alignment_parameters--alpha2 intrinsic_alignment_parameters--bias_ta weight\n",
      "\n"
     ]
    }
   ],
   "source": [
    "with open('../../trimmed_chains_test/chain_2x2pt_lcdm_SR_maglim_boosted.txt', 'r') as f:\n",
    "    print(f.readline())#[1:].split())"
   ]
  },
  {
   "cell_type": "code",
   "execution_count": 16,
   "metadata": {
    "tags": []
   },
   "outputs": [
    {
     "name": "stdout",
     "output_type": "stream",
     "text": [
      "\n",
      "###############################\n",
      "## Loading chains #############\n",
      "###############################\n"
     ]
    },
    {
     "data": {
      "application/vnd.jupyter.widget-view+json": {
       "model_id": "97882b7c70f0488cb874b9986c5e0cdc",
       "version_major": 2,
       "version_minor": 0
      },
      "text/plain": [
       "HBox(children=(FloatProgress(value=0.0, max=221.0), HTML(value='')))"
      ]
     },
     "metadata": {},
     "output_type": "display_data"
    },
    {
     "name": "stdout",
     "output_type": "stream",
     "text": [
      "Loading list chain at\n",
      "../maglim_2x2_goodnessoffit/ppd_chain_2x2pt_lcdm_SR_maglim_boosted_maglim_2x2_goodnessoffit_0.txt\n",
      "- using params\n",
      "['cosmological_parameters--omega_m', 'cosmological_parameters--h0', 'cosmological_parameters--omega_b', 'cosmological_parameters--n_s', 'cosmological_parameters--a_s', 'cosmological_parameters--omnuh2', 'cosmological_parameters--w', 'cosmological_parameters--massive_nu', 'cosmological_parameters--massless_nu', 'cosmological_parameters--omega_k', 'cosmological_parameters--tau', 'shear_calibration_parameters--m1', 'shear_calibration_parameters--m2', 'shear_calibration_parameters--m3', 'shear_calibration_parameters--m4', 'wl_photoz_errors--bias_1', 'wl_photoz_errors--bias_2', 'wl_photoz_errors--bias_3', 'wl_photoz_errors--bias_4', 'lens_photoz_errors--bias_1', 'lens_photoz_errors--bias_2', 'lens_photoz_errors--bias_3', 'lens_photoz_errors--bias_4', 'lens_photoz_errors--bias_5', 'lens_photoz_errors--width_1', 'lens_photoz_errors--width_2', 'lens_photoz_errors--width_3', 'lens_photoz_errors--width_4', 'lens_photoz_errors--width_5', 'lens_photoz_errors--bias_6', 'lens_photoz_errors--width_6', 'bias_lens--b1', 'bias_lens--b2', 'bias_lens--b3', 'bias_lens--b4', 'bias_lens--b5', 'bias_lens--b6', 'mag_alpha_lens--alpha_1', 'mag_alpha_lens--alpha_2', 'mag_alpha_lens--alpha_3', 'mag_alpha_lens--alpha_4', 'mag_alpha_lens--alpha_5', 'mag_alpha_lens--alpha_6', 'intrinsic_alignment_parameters--z_piv', 'intrinsic_alignment_parameters--a1', 'intrinsic_alignment_parameters--a2', 'intrinsic_alignment_parameters--alpha1', 'intrinsic_alignment_parameters--alpha2', 'intrinsic_alignment_parameters--bias_ta', 'COSMOLOGICAL_PARAMETERS--SIGMA_8', 'COSMOLOGICAL_PARAMETERS--SIGMA_12', 'DATA_VECTOR--2PT_CHI2', 'DATA_VECTOR--2PT_D_CHI2', 'DATA_VECTOR--2PT_DPRIME_CHI2', 'DATA_VECTOR--2PT_XIP_CHI2', 'DATA_VECTOR--2PT_XIM_CHI2', 'DATA_VECTOR--2PT_1X2_CHI2', 'DATA_VECTOR--2PT_GAMMAT_CHI2', 'DATA_VECTOR--2PT_WTHETA_CHI2', 'DATA_VECTOR--2PT_2X2_CHI2', 'PPD--CHI2_DPRIME_DATA', 'PPD--CHI2_DPRIME_REALIZATION', 'PPD--CHI2_D_DATA', 'PPD--CHI2_XIP_DATA', 'PPD--CHI2_XIP_REALIZATION', 'PPD--CHI2_XIM_DATA', 'PPD--CHI2_XIM_REALIZATION', 'PPD--CHI2_1X2_DATA', 'PPD--CHI2_1X2_REALIZATION', 'PPD--CHI2_GAMMAT_DATA', 'PPD--CHI2_GAMMAT_REALIZATION', 'PPD--CHI2_WTHETA_DATA', 'PPD--CHI2_WTHETA_REALIZATION', 'PPD--CHI2_2X2_DATA', 'PPD--CHI2_2X2_REALIZATION', 'PPD--CHI2_DPRIME_COMP_AVG', 'PPD--CHI2_XIP_COMP_AVG', 'PPD--CHI2_XIM_COMP_AVG', 'PPD--CHI2_1X2_COMP_AVG', 'PPD--CHI2_GAMMAT_COMP_AVG', 'PPD--CHI2_WTHETA_COMP_AVG', 'PPD--CHI2_2X2_COMP_AVG', 'prior', 'post']\n",
      "- using nsample =  1000\n",
      "\n",
      "Loading chain at\n",
      "../../trimmed_chains_test/chain_2x2pt_lcdm_SR_maglim_boosted.txt\n",
      "Sampler not found -- non-standard cosmosis output\n",
      "- using params\n",
      "['cosmological_parameters--omega_m', 'cosmological_parameters--h0', 'cosmological_parameters--omega_b', 'cosmological_parameters--n_s', 'cosmological_parameters--a_s', 'cosmological_parameters--omnuh2', 'shear_calibration_parameters--m1', 'shear_calibration_parameters--m2', 'shear_calibration_parameters--m3', 'shear_calibration_parameters--m4', 'wl_photoz_errors--bias_1', 'wl_photoz_errors--bias_2', 'wl_photoz_errors--bias_3', 'wl_photoz_errors--bias_4', 'lens_photoz_errors--bias_1', 'lens_photoz_errors--bias_2', 'lens_photoz_errors--bias_3', 'lens_photoz_errors--bias_4', 'lens_photoz_errors--width_1', 'lens_photoz_errors--width_2', 'lens_photoz_errors--width_3', 'lens_photoz_errors--width_4', 'bias_lens--b1', 'bias_lens--b2', 'bias_lens--b3', 'bias_lens--b4', 'intrinsic_alignment_parameters--a1', 'intrinsic_alignment_parameters--a2', 'intrinsic_alignment_parameters--alpha1', 'intrinsic_alignment_parameters--alpha2', 'intrinsic_alignment_parameters--bias_ta', 'weight']\n",
      "- using nsample =  221000\n",
      "Using 221 chunks of size [1000, 1000, 1000, 1000, 1000, 1000, 1000, 1000, 1000, 1000, 1000, 1000, 1000, 1000, 1000, 1000, 1000, 1000, 1000, 1000, 1000, 1000, 1000, 1000, 1000, 1000, 1000, 1000, 1000, 1000, 1000, 1000, 1000, 1000, 1000, 1000, 1000, 1000, 1000, 1000, 1000, 1000, 1000, 1000, 1000, 1000, 1000, 1000, 1000, 1000, 1000, 1000, 1000, 1000, 1000, 1000, 1000, 1000, 1000, 1000, 1000, 1000, 1000, 1000, 1000, 1000, 1000, 1000, 1000, 1000, 1000, 1000, 1000, 1000, 1000, 1000, 1000, 1000, 1000, 1000, 1000, 1000, 1000, 1000, 1000, 1000, 1000, 1000, 1000, 1000, 1000, 1000, 1000, 1000, 1000, 1000, 1000, 1000, 1000, 1000, 1000, 1000, 1000, 1000, 1000, 1000, 1000, 1000, 1000, 1000, 1000, 1000, 1000, 1000, 1000, 1000, 1000, 1000, 1000, 1000, 1000, 1000, 1000, 1000, 1000, 1000, 1000, 1000, 1000, 1000, 1000, 1000, 1000, 1000, 1000, 1000, 1000, 1000, 1000, 1000, 1000, 1000, 1000, 1000, 1000, 1000, 1000, 1000, 1000, 1000, 1000, 1000, 1000, 1000, 1000, 1000, 1000, 1000, 1000, 1000, 1000, 1000, 1000, 1000, 1000, 1000, 1000, 1000, 1000, 1000, 1000, 1000, 1000, 1000, 1000, 1000, 1000, 1000, 1000, 1000, 1000, 1000, 1000, 1000, 1000, 1000, 1000, 1000, 1000, 1000, 1000, 1000, 1000, 1000, 1000, 1000, 1000, 1000, 1000, 1000, 1000, 1000, 1000, 1000, 1000, 1000, 1000, 1000, 1000, 1000, 1000, 1000, 1000, 1000, 1000, 1000, 1000, 1000, 1000, 1000, 1000] (1000) for a total of 221000 posterior samples\n",
      "\n",
      "###############################\n",
      "## Getting p-values ###########\n",
      "###############################\n",
      "     - Full     pval=0.0039 +0.0002/-0.0002  [16=0.0037, 50=0.0039, 84=0.0041] (0.004107687351481381)\n",
      "     - XIP      pval = 0.0000 (0.0)\n",
      "     - XIM      pval = 0.0000 (0.0)\n",
      "     - 1X2      pval = 0.0000 (0.0)\n"
     ]
    },
    {
     "name": "stderr",
     "output_type": "stream",
     "text": [
      "/global/cfs/cdirs/des/xuod/DES_Y3_3x2/y3-3x2pt/code/ppd/postprocessing/utils_ppd.py:65: RuntimeWarning: invalid value encountered in greater_equal\n",
      "  _p.append(np.average(np.random.binomial(1, p=comp_avg), weights=weights))\n"
     ]
    },
    {
     "name": "stdout",
     "output_type": "stream",
     "text": [
      "     - GAMMAT   pval=0.0032 +0.0002/-0.0002  [16=0.0030, 50=0.0032, 84=0.0034] (0.003521658593223871)\n",
      "     - WTHETA   pval=0.3303 +0.0017/-0.0017  [16=0.3285, 50=0.3303, 84=0.3320] (0.3289974936856762)\n",
      "     - 2X2      pval=0.0039 +0.0002/-0.0002  [16=0.0037, 50=0.0039, 84=0.0041] (0.004107687351481381)\n",
      "\n",
      "###############################\n",
      "## Loading scale/bin cuts #####\n",
      "###############################\n",
      "Found observables in data_file ['xip', 'xim', 'gammat', 'wtheta']\n",
      "Reading options for likelihood module:  2pt_dprime_like\n",
      "Found scale cuts for  {'xip': [(1, 1), (1, 2), (1, 3), (1, 4), (2, 2), (2, 3), (2, 4), (3, 3), (3, 4), (4, 4)], 'xim': [(1, 1), (1, 2), (1, 3), (1, 4), (2, 2), (2, 3), (2, 4), (3, 3), (3, 4), (4, 4)], 'gammat': [(1, 1), (1, 2), (1, 3), (1, 4), (2, 1), (2, 2), (2, 3), (2, 4), (3, 1), (3, 2), (3, 3), (3, 4), (4, 1), (4, 2), (4, 3), (4, 4), (5, 1), (5, 2), (5, 3), (5, 4), (6, 1), (6, 2), (6, 3), (6, 4)], 'wtheta': [(1, 1), (1, 2), (1, 3), (1, 4), (1, 5), (1, 6), (2, 2), (2, 3), (2, 4), (2, 5), (2, 6), (3, 3), (3, 4), (3, 5), (3, 6), (4, 4), (4, 5), (4, 6), (5, 5), (5, 6), (6, 6)]}\n",
      "Getting indices for xip\n",
      "Getting indices for xim\n",
      "Getting indices for gammat\n",
      "Getting indices for wtheta\n"
     ]
    }
   ],
   "source": [
    "RUN_NAME = '2x2pt_lcdm_SR_maglim_boosted'\n",
    "RUN_NAME_PPD = 'maglim_2x2_goodnessoffit'\n",
    "\n",
    "res = ppd.load_run(\n",
    "    path_ppd=path_ppd,\n",
    "    path_chain=path_chain,\n",
    "    path_dv=path_dv,\n",
    "    RUN_NAME=RUN_NAME,\n",
    "    RUN_NAME_PPD=RUN_NAME_PPD,\n",
    "    DATAFILE=DATAFILE,\n",
    "    chunks=221,\n",
    "    size_chunk=1000,\n",
    "    data_sets=['xip', 'xim', 'gammat', 'wtheta'],\n",
    "    load_dvs=False,\n",
    "\n",
    ")"
   ]
  },
  {
   "cell_type": "code",
   "execution_count": 17,
   "metadata": {
    "collapsed": true,
    "jupyter": {
     "outputs_hidden": true
    },
    "tags": []
   },
   "outputs": [
    {
     "name": "stdout",
     "output_type": "stream",
     "text": [
      "\n",
      "###############################\n",
      "## Loading chains #############\n",
      "###############################\n"
     ]
    },
    {
     "data": {
      "application/vnd.jupyter.widget-view+json": {
       "model_id": "fda06d2d2dec48719efdecf4adeaf887",
       "version_major": 2,
       "version_minor": 0
      },
      "text/plain": [
       "HBox(children=(FloatProgress(value=0.0, max=221.0), HTML(value='')))"
      ]
     },
     "metadata": {},
     "output_type": "display_data"
    },
    {
     "name": "stdout",
     "output_type": "stream",
     "text": [
      "Loading list chain at\n",
      "../maglim_2x2_goodnessoffit/ppd_chain_2x2pt_lcdm_SR_maglim_boosted_maglim_2x2_goodnessoffit_0.txt\n",
      "- using params\n",
      "['cosmological_parameters--omega_m', 'cosmological_parameters--h0', 'cosmological_parameters--omega_b', 'cosmological_parameters--n_s', 'cosmological_parameters--a_s', 'cosmological_parameters--omnuh2', 'cosmological_parameters--w', 'cosmological_parameters--massive_nu', 'cosmological_parameters--massless_nu', 'cosmological_parameters--omega_k', 'cosmological_parameters--tau', 'shear_calibration_parameters--m1', 'shear_calibration_parameters--m2', 'shear_calibration_parameters--m3', 'shear_calibration_parameters--m4', 'wl_photoz_errors--bias_1', 'wl_photoz_errors--bias_2', 'wl_photoz_errors--bias_3', 'wl_photoz_errors--bias_4', 'lens_photoz_errors--bias_1', 'lens_photoz_errors--bias_2', 'lens_photoz_errors--bias_3', 'lens_photoz_errors--bias_4', 'lens_photoz_errors--bias_5', 'lens_photoz_errors--width_1', 'lens_photoz_errors--width_2', 'lens_photoz_errors--width_3', 'lens_photoz_errors--width_4', 'lens_photoz_errors--width_5', 'lens_photoz_errors--bias_6', 'lens_photoz_errors--width_6', 'bias_lens--b1', 'bias_lens--b2', 'bias_lens--b3', 'bias_lens--b4', 'bias_lens--b5', 'bias_lens--b6', 'mag_alpha_lens--alpha_1', 'mag_alpha_lens--alpha_2', 'mag_alpha_lens--alpha_3', 'mag_alpha_lens--alpha_4', 'mag_alpha_lens--alpha_5', 'mag_alpha_lens--alpha_6', 'intrinsic_alignment_parameters--z_piv', 'intrinsic_alignment_parameters--a1', 'intrinsic_alignment_parameters--a2', 'intrinsic_alignment_parameters--alpha1', 'intrinsic_alignment_parameters--alpha2', 'intrinsic_alignment_parameters--bias_ta', 'COSMOLOGICAL_PARAMETERS--SIGMA_8', 'COSMOLOGICAL_PARAMETERS--SIGMA_12', 'DATA_VECTOR--2PT_CHI2', 'DATA_VECTOR--2PT_D_CHI2', 'DATA_VECTOR--2PT_DPRIME_CHI2', 'DATA_VECTOR--2PT_XIP_CHI2', 'DATA_VECTOR--2PT_XIM_CHI2', 'DATA_VECTOR--2PT_1X2_CHI2', 'DATA_VECTOR--2PT_GAMMAT_CHI2', 'DATA_VECTOR--2PT_WTHETA_CHI2', 'DATA_VECTOR--2PT_2X2_CHI2', 'PPD--CHI2_DPRIME_DATA', 'PPD--CHI2_DPRIME_REALIZATION', 'PPD--CHI2_D_DATA', 'PPD--CHI2_XIP_DATA', 'PPD--CHI2_XIP_REALIZATION', 'PPD--CHI2_XIM_DATA', 'PPD--CHI2_XIM_REALIZATION', 'PPD--CHI2_1X2_DATA', 'PPD--CHI2_1X2_REALIZATION', 'PPD--CHI2_GAMMAT_DATA', 'PPD--CHI2_GAMMAT_REALIZATION', 'PPD--CHI2_WTHETA_DATA', 'PPD--CHI2_WTHETA_REALIZATION', 'PPD--CHI2_2X2_DATA', 'PPD--CHI2_2X2_REALIZATION', 'PPD--CHI2_DPRIME_COMP_AVG', 'PPD--CHI2_XIP_COMP_AVG', 'PPD--CHI2_XIM_COMP_AVG', 'PPD--CHI2_1X2_COMP_AVG', 'PPD--CHI2_GAMMAT_COMP_AVG', 'PPD--CHI2_WTHETA_COMP_AVG', 'PPD--CHI2_2X2_COMP_AVG', 'prior', 'post']\n",
      "- using nsample =  1000\n",
      "\n",
      "Loading chain at\n",
      "../../trimmed_chains_test/chain_2x2pt_lcdm_SR_maglim_boosted.txt\n",
      "Sampler not found -- non-standard cosmosis output\n",
      "Using 221 chunks of size [1000, 1000, 1000, 1000, 1000, 1000, 1000, 1000, 1000, 1000, 1000, 1000, 1000, 1000, 1000, 1000, 1000, 1000, 1000, 1000, 1000, 1000, 1000, 1000, 1000, 1000, 1000, 1000, 1000, 1000, 1000, 1000, 1000, 1000, 1000, 1000, 1000, 1000, 1000, 1000, 1000, 1000, 1000, 1000, 1000, 1000, 1000, 1000, 1000, 1000, 1000, 1000, 1000, 1000, 1000, 1000, 1000, 1000, 1000, 1000, 1000, 1000, 1000, 1000, 1000, 1000, 1000, 1000, 1000, 1000, 1000, 1000, 1000, 1000, 1000, 1000, 1000, 1000, 1000, 1000, 1000, 1000, 1000, 1000, 1000, 1000, 1000, 1000, 1000, 1000, 1000, 1000, 1000, 1000, 1000, 1000, 1000, 1000, 1000, 1000, 1000, 1000, 1000, 1000, 1000, 1000, 1000, 1000, 1000, 1000, 1000, 1000, 1000, 1000, 1000, 1000, 1000, 1000, 1000, 1000, 1000, 1000, 1000, 1000, 1000, 1000, 1000, 1000, 1000, 1000, 1000, 1000, 1000, 1000, 1000, 1000, 1000, 1000, 1000, 1000, 1000, 1000, 1000, 1000, 1000, 1000, 1000, 1000, 1000, 1000, 1000, 1000, 1000, 1000, 1000, 1000, 1000, 1000, 1000, 1000, 1000, 1000, 1000, 1000, 1000, 1000, 1000, 1000, 1000, 1000, 1000, 1000, 1000, 1000, 1000, 1000, 1000, 1000, 1000, 1000, 1000, 1000, 1000, 1000, 1000, 1000, 1000, 1000, 1000, 1000, 1000, 1000, 1000, 1000, 1000, 1000, 1000, 1000, 1000, 1000, 1000, 1000, 1000, 1000, 1000, 1000, 1000, 1000, 1000, 1000, 1000, 1000, 1000, 1000, 1000, 1000, 1000, 1000, 1000, 1000, 1000] (1000) for a total of 221000 posterior samples\n",
      "\n",
      "###############################\n",
      "## Loading scale/bin cuts #####\n",
      "###############################\n",
      "Found observables in data_file ['xip', 'xim', 'gammat', 'wtheta']\n",
      "Reading options for likelihood module:  2pt_d_like\n",
      "Found scale cuts for  {'xip': [(1, 1), (1, 2), (1, 3), (1, 4), (2, 2), (2, 3), (2, 4), (3, 3), (3, 4), (4, 4)], 'xim': [(1, 1), (1, 2), (1, 3), (1, 4), (2, 2), (2, 3), (2, 4), (3, 3), (3, 4), (4, 4)], 'gammat': [(1, 1), (1, 2), (1, 3), (1, 4), (2, 1), (2, 2), (2, 3), (2, 4), (3, 1), (3, 2), (3, 3), (3, 4), (4, 1), (4, 2), (4, 3), (4, 4), (5, 1), (5, 2), (5, 3), (5, 4), (6, 1), (6, 2), (6, 3), (6, 4)], 'wtheta': [(1, 1), (1, 2), (1, 3), (1, 4), (1, 5), (1, 6), (2, 2), (2, 3), (2, 4), (2, 5), (2, 6), (3, 3), (3, 4), (3, 5), (3, 6), (4, 4), (4, 5), (4, 6), (5, 5), (5, 6), (6, 6)]}\n",
      "Getting indices for gammat\n",
      "Getting indices for wtheta\n",
      "\n",
      "Found observables in data_file ['xip', 'xim', 'gammat', 'wtheta']\n",
      "Reading options for likelihood module:  2pt_dprime_like\n",
      "Found scale cuts for  {'xip': [(1, 1), (1, 2), (1, 3), (1, 4), (2, 2), (2, 3), (2, 4), (3, 3), (3, 4), (4, 4)], 'xim': [(1, 1), (1, 2), (1, 3), (1, 4), (2, 2), (2, 3), (2, 4), (3, 3), (3, 4), (4, 4)], 'gammat': [(1, 1), (1, 2), (1, 3), (1, 4), (2, 1), (2, 2), (2, 3), (2, 4), (3, 1), (3, 2), (3, 3), (3, 4), (4, 1), (4, 2), (4, 3), (4, 4), (5, 1), (5, 2), (5, 3), (5, 4), (6, 1), (6, 2), (6, 3), (6, 4)], 'wtheta': [(1, 1), (1, 2), (1, 3), (1, 4), (1, 5), (1, 6), (2, 2), (2, 3), (2, 4), (2, 5), (2, 6), (3, 3), (3, 4), (3, 5), (3, 6), (4, 4), (4, 5), (4, 6), (5, 5), (5, 6), (6, 6)]}\n",
      "Getting indices for gammat\n",
      "Getting indices for wtheta\n",
      "\n",
      "Using subsets ['2x2', 'gammat', 'wtheta']\n",
      "\n",
      "Using same indices for d and dprime -> conditioning turned off\n",
      "\n",
      "###############################\n",
      "## Loading realizations #######\n",
      "###############################\n"
     ]
    },
    {
     "data": {
      "application/vnd.jupyter.widget-view+json": {
       "model_id": "de2d5eed837a46c98ea535dcc2279791",
       "version_major": 2,
       "version_minor": 0
      },
      "text/plain": [
       "HBox(children=(FloatProgress(value=0.0, max=221.0), HTML(value='')))"
      ]
     },
     "metadata": {},
     "output_type": "display_data"
    },
    {
     "name": "stdout",
     "output_type": "stream",
     "text": [
      "Loading realizations from  ../maglim_2x2_goodnessoffit/ppd_2x2pt_lcdm_SR_maglim_boosted_maglim_2x2_goodnessoffit_0_dprime_theory.npy\n",
      " - data vector size = 235\n",
      " - number of realizations = 1000\n",
      "Loading realizations from  ../maglim_2x2_goodnessoffit/ppd_2x2pt_lcdm_SR_maglim_boosted_maglim_2x2_goodnessoffit_0_dprime_real.npy\n",
      " - data vector size = 235\n",
      " - number of realizations = 1000\n",
      "Loading realizations from  ../maglim_2x2_goodnessoffit/ppd_2x2pt_lcdm_SR_maglim_boosted_maglim_2x2_goodnessoffit_0_d_theory.npy\n",
      " - data vector size = 235\n",
      " - number of realizations = 1000\n",
      "\n",
      "\n",
      "###############################\n",
      "## Sampling data ##############\n",
      "###############################\n",
      "Sampling at best-fit with params\n",
      "cosmological_parameters--omega_m = 0.395\n",
      "cosmological_parameters--h0 = 0.58\n",
      "cosmological_parameters--omega_b = 0.0399\n",
      "cosmological_parameters--n_s = 0.953\n",
      "cosmological_parameters--a_s = 1.89e-09\n",
      "cosmological_parameters--omnuh2 = 0.00639\n",
      "shear_calibration_parameters--m1 = -0.0161\n",
      "shear_calibration_parameters--m2 = -0.0232\n",
      "shear_calibration_parameters--m3 = -0.0181\n",
      "shear_calibration_parameters--m4 = -0.0388\n",
      "wl_photoz_errors--bias_1 = 0.0277\n",
      "wl_photoz_errors--bias_2 = -0.00887\n",
      "wl_photoz_errors--bias_3 = -0.0273\n",
      "wl_photoz_errors--bias_4 = 0.00944\n",
      "lens_photoz_errors--bias_1 = -0.00595\n",
      "lens_photoz_errors--bias_2 = -0.0243\n",
      "lens_photoz_errors--bias_3 = -0.00523\n",
      "lens_photoz_errors--bias_4 = -0.014\n",
      "lens_photoz_errors--width_1 = 0.983\n",
      "lens_photoz_errors--width_2 = 1.12\n",
      "lens_photoz_errors--width_3 = 0.894\n",
      "lens_photoz_errors--width_4 = 0.9\n",
      "bias_lens--b1        = 1.63\n",
      "bias_lens--b2        = 1.82\n",
      "bias_lens--b3        = 2.05\n",
      "bias_lens--b4        = 1.91\n",
      "intrinsic_alignment_parameters--a1 = 0.453\n",
      "intrinsic_alignment_parameters--a2 = -1.07\n",
      "intrinsic_alignment_parameters--alpha1 = -1.72\n",
      "intrinsic_alignment_parameters--alpha2 = 2.47\n",
      "intrinsic_alignment_parameters--bias_ta = 0.0576\n",
      "\n",
      "###############################\n",
      "## Compute chi2 for d #########\n",
      "###############################\n"
     ]
    },
    {
     "data": {
      "application/vnd.jupyter.widget-view+json": {
       "model_id": "9ae54c868c40412ea88f217673286bbd",
       "version_major": 2,
       "version_minor": 0
      },
      "text/plain": [
       "HBox(children=(FloatProgress(value=0.0, max=221.0), HTML(value='')))"
      ]
     },
     "metadata": {},
     "output_type": "display_data"
    },
    {
     "name": "stdout",
     "output_type": "stream",
     "text": [
      "\n",
      "\n",
      "###############################\n",
      "## Compute IS weights for d ###\n",
      "###############################\n"
     ]
    },
    {
     "data": {
      "application/vnd.jupyter.widget-view+json": {
       "model_id": "80d4571e07ad41ad941b0cc037b460e1",
       "version_major": 2,
       "version_minor": 0
      },
      "text/plain": [
       "HBox(children=(FloatProgress(value=0.0, max=221.0), HTML(value='')))"
      ]
     },
     "metadata": {},
     "output_type": "display_data"
    },
    {
     "name": "stdout",
     "output_type": "stream",
     "text": [
      "\n",
      "(221000, 100)\n",
      "Neff = 53.3 (median), 16th=22.8, 84th=169.6 (0 were nan's)\n",
      "\n",
      "###############################\n",
      "## Computing p-values #########\n",
      "###############################\n"
     ]
    },
    {
     "data": {
      "application/vnd.jupyter.widget-view+json": {
       "model_id": "41744e54ff5445089b26eb6e309a3203",
       "version_major": 2,
       "version_minor": 0
      },
      "text/plain": [
       "HBox(children=(FloatProgress(value=1.0, bar_style='info', max=1.0), HTML(value='')))"
      ]
     },
     "metadata": {},
     "output_type": "display_data"
    },
    {
     "name": "stdout",
     "output_type": "stream",
     "text": [
      "\n",
      "2x2\n",
      "Appending pval for 2x2 0.004085456706555616\n",
      "gammat\n",
      "Appending pval for gammat 0.0036633316340008897\n",
      "wtheta\n",
      "Appending pval for wtheta 0.3286423252947713\n",
      "\n",
      "###############################\n",
      "## Calibrated p-values ########\n",
      "###############################\n",
      "     - Full         calibrated pval=0.0200 (raw pval=0.0039)\n",
      "     - 2x2          calibrated pval=0.0200 (raw pval=0.0041)\n",
      "     - gammat       calibrated pval=0.0100 (raw pval=0.0037)\n",
      "     - wtheta       calibrated pval=0.3500 (raw pval=0.3286)\n",
      "\n",
      "###############################\n",
      "## Plotting ###################\n",
      "###############################\n"
     ]
    },
    {
     "data": {
      "image/png": "[encoded data removed]",
      "text/plain": [
       "<Figure size 288x216 with 1 Axes>"
      ]
     },
     "metadata": {
      "image/png": {
       "height": 209,
       "width": 253
      },
      "needs_background": "light"
     },
     "output_type": "display_data"
    }
   ],
   "source": [
    "pvals_subsets={k:None for k in['xip','xim', 'gammat','wtheta','1x2','2x2']}\n",
    "\n",
    "temp = calib.calibrate_pvals(\n",
    "        path_ppd=path_ppd,\n",
    "        path_chain=path_chain,\n",
    "        path_dv=path_dv,\n",
    "        RUN_NAME=RUN_NAME,\n",
    "        RUN_NAME_PPD=RUN_NAME_PPD,\n",
    "        DATAFILE=DATAFILE,\n",
    "        fiducial_dv=fiducial_dv,\n",
    "        data_sets_d=['gammat','wtheta'],\n",
    "        data_sets_dprime=['gammat','wtheta'],\n",
    "        N=100, # 10^4 should give reasonable results, but for memory-sake can try smaller like 100\n",
    "        title=RUN_NAME_PPD,\n",
    "            pval_data=res[0]['full'],\n",
    "        use_pm=True,\n",
    "        clip_is=0.1,\n",
    "        ndraws=1,\n",
    "        chunks=221,\n",
    "        size_chunk=1000,\n",
    "    #     pvals_subsets=res[0],\n",
    "        #use_logit=(1e-6,1),\n",
    "        get_zbin_pair_pcal=False,\n",
    "        pvals_subsets=pvals_subsets,\n",
    "#         sample_from='fiducial_dv'  # Trying this (different from y1 notebook)\n",
    "        sample_from='best-fit'  # Trying this (different from y1 notebook)\n",
    "    )"
   ]
  },
  {
   "cell_type": "code",
   "execution_count": 18,
   "metadata": {
    "collapsed": true,
    "jupyter": {
     "outputs_hidden": true
    },
    "tags": []
   },
   "outputs": [
    {
     "data": {
      "application/vnd.jupyter.widget-view+json": {
       "model_id": "e0d10052ac9248bdb7ffd37961326614",
       "version_major": 2,
       "version_minor": 0
      },
      "text/plain": [
       "HBox(children=(FloatProgress(value=0.0, max=10.0), HTML(value='')))"
      ]
     },
     "metadata": {},
     "output_type": "display_data"
    },
    {
     "name": "stdout",
     "output_type": "stream",
     "text": [
      "\n",
      "###############################\n",
      "## Loading chains #############\n",
      "###############################\n"
     ]
    },
    {
     "data": {
      "application/vnd.jupyter.widget-view+json": {
       "model_id": "6c4da2e8820540bea55fe04c41ed9fb4",
       "version_major": 2,
       "version_minor": 0
      },
      "text/plain": [
       "HBox(children=(FloatProgress(value=0.0, max=221.0), HTML(value='')))"
      ]
     },
     "metadata": {},
     "output_type": "display_data"
    },
    {
     "name": "stdout",
     "output_type": "stream",
     "text": [
      "Loading list chain at\n",
      "../maglim_2x2_goodnessoffit/ppd_chain_2x2pt_lcdm_SR_maglim_boosted_maglim_2x2_goodnessoffit_0.txt\n",
      "- using params\n",
      "['cosmological_parameters--omega_m', 'cosmological_parameters--h0', 'cosmological_parameters--omega_b', 'cosmological_parameters--n_s', 'cosmological_parameters--a_s', 'cosmological_parameters--omnuh2', 'cosmological_parameters--w', 'cosmological_parameters--massive_nu', 'cosmological_parameters--massless_nu', 'cosmological_parameters--omega_k', 'cosmological_parameters--tau', 'shear_calibration_parameters--m1', 'shear_calibration_parameters--m2', 'shear_calibration_parameters--m3', 'shear_calibration_parameters--m4', 'wl_photoz_errors--bias_1', 'wl_photoz_errors--bias_2', 'wl_photoz_errors--bias_3', 'wl_photoz_errors--bias_4', 'lens_photoz_errors--bias_1', 'lens_photoz_errors--bias_2', 'lens_photoz_errors--bias_3', 'lens_photoz_errors--bias_4', 'lens_photoz_errors--bias_5', 'lens_photoz_errors--width_1', 'lens_photoz_errors--width_2', 'lens_photoz_errors--width_3', 'lens_photoz_errors--width_4', 'lens_photoz_errors--width_5', 'lens_photoz_errors--bias_6', 'lens_photoz_errors--width_6', 'bias_lens--b1', 'bias_lens--b2', 'bias_lens--b3', 'bias_lens--b4', 'bias_lens--b5', 'bias_lens--b6', 'mag_alpha_lens--alpha_1', 'mag_alpha_lens--alpha_2', 'mag_alpha_lens--alpha_3', 'mag_alpha_lens--alpha_4', 'mag_alpha_lens--alpha_5', 'mag_alpha_lens--alpha_6', 'intrinsic_alignment_parameters--z_piv', 'intrinsic_alignment_parameters--a1', 'intrinsic_alignment_parameters--a2', 'intrinsic_alignment_parameters--alpha1', 'intrinsic_alignment_parameters--alpha2', 'intrinsic_alignment_parameters--bias_ta', 'COSMOLOGICAL_PARAMETERS--SIGMA_8', 'COSMOLOGICAL_PARAMETERS--SIGMA_12', 'DATA_VECTOR--2PT_CHI2', 'DATA_VECTOR--2PT_D_CHI2', 'DATA_VECTOR--2PT_DPRIME_CHI2', 'DATA_VECTOR--2PT_XIP_CHI2', 'DATA_VECTOR--2PT_XIM_CHI2', 'DATA_VECTOR--2PT_1X2_CHI2', 'DATA_VECTOR--2PT_GAMMAT_CHI2', 'DATA_VECTOR--2PT_WTHETA_CHI2', 'DATA_VECTOR--2PT_2X2_CHI2', 'PPD--CHI2_DPRIME_DATA', 'PPD--CHI2_DPRIME_REALIZATION', 'PPD--CHI2_D_DATA', 'PPD--CHI2_XIP_DATA', 'PPD--CHI2_XIP_REALIZATION', 'PPD--CHI2_XIM_DATA', 'PPD--CHI2_XIM_REALIZATION', 'PPD--CHI2_1X2_DATA', 'PPD--CHI2_1X2_REALIZATION', 'PPD--CHI2_GAMMAT_DATA', 'PPD--CHI2_GAMMAT_REALIZATION', 'PPD--CHI2_WTHETA_DATA', 'PPD--CHI2_WTHETA_REALIZATION', 'PPD--CHI2_2X2_DATA', 'PPD--CHI2_2X2_REALIZATION', 'PPD--CHI2_DPRIME_COMP_AVG', 'PPD--CHI2_XIP_COMP_AVG', 'PPD--CHI2_XIM_COMP_AVG', 'PPD--CHI2_1X2_COMP_AVG', 'PPD--CHI2_GAMMAT_COMP_AVG', 'PPD--CHI2_WTHETA_COMP_AVG', 'PPD--CHI2_2X2_COMP_AVG', 'prior', 'post']\n",
      "- using nsample =  1000\n",
      "\n",
      "Loading chain at\n",
      "../../trimmed_chains_test/chain_2x2pt_lcdm_SR_maglim_boosted.txt\n",
      "Sampler not found -- non-standard cosmosis output\n",
      "Using 221 chunks of size [1000, 1000, 1000, 1000, 1000, 1000, 1000, 1000, 1000, 1000, 1000, 1000, 1000, 1000, 1000, 1000, 1000, 1000, 1000, 1000, 1000, 1000, 1000, 1000, 1000, 1000, 1000, 1000, 1000, 1000, 1000, 1000, 1000, 1000, 1000, 1000, 1000, 1000, 1000, 1000, 1000, 1000, 1000, 1000, 1000, 1000, 1000, 1000, 1000, 1000, 1000, 1000, 1000, 1000, 1000, 1000, 1000, 1000, 1000, 1000, 1000, 1000, 1000, 1000, 1000, 1000, 1000, 1000, 1000, 1000, 1000, 1000, 1000, 1000, 1000, 1000, 1000, 1000, 1000, 1000, 1000, 1000, 1000, 1000, 1000, 1000, 1000, 1000, 1000, 1000, 1000, 1000, 1000, 1000, 1000, 1000, 1000, 1000, 1000, 1000, 1000, 1000, 1000, 1000, 1000, 1000, 1000, 1000, 1000, 1000, 1000, 1000, 1000, 1000, 1000, 1000, 1000, 1000, 1000, 1000, 1000, 1000, 1000, 1000, 1000, 1000, 1000, 1000, 1000, 1000, 1000, 1000, 1000, 1000, 1000, 1000, 1000, 1000, 1000, 1000, 1000, 1000, 1000, 1000, 1000, 1000, 1000, 1000, 1000, 1000, 1000, 1000, 1000, 1000, 1000, 1000, 1000, 1000, 1000, 1000, 1000, 1000, 1000, 1000, 1000, 1000, 1000, 1000, 1000, 1000, 1000, 1000, 1000, 1000, 1000, 1000, 1000, 1000, 1000, 1000, 1000, 1000, 1000, 1000, 1000, 1000, 1000, 1000, 1000, 1000, 1000, 1000, 1000, 1000, 1000, 1000, 1000, 1000, 1000, 1000, 1000, 1000, 1000, 1000, 1000, 1000, 1000, 1000, 1000, 1000, 1000, 1000, 1000, 1000, 1000, 1000, 1000, 1000, 1000, 1000, 1000] (1000) for a total of 221000 posterior samples\n",
      "\n",
      "###############################\n",
      "## Loading scale/bin cuts #####\n",
      "###############################\n",
      "Found observables in data_file ['xip', 'xim', 'gammat', 'wtheta']\n",
      "Reading options for likelihood module:  2pt_d_like\n",
      "Found scale cuts for  {'xip': [(1, 1), (1, 2), (1, 3), (1, 4), (2, 2), (2, 3), (2, 4), (3, 3), (3, 4), (4, 4)], 'xim': [(1, 1), (1, 2), (1, 3), (1, 4), (2, 2), (2, 3), (2, 4), (3, 3), (3, 4), (4, 4)], 'gammat': [(1, 1), (1, 2), (1, 3), (1, 4), (2, 1), (2, 2), (2, 3), (2, 4), (3, 1), (3, 2), (3, 3), (3, 4), (4, 1), (4, 2), (4, 3), (4, 4), (5, 1), (5, 2), (5, 3), (5, 4), (6, 1), (6, 2), (6, 3), (6, 4)], 'wtheta': [(1, 1), (1, 2), (1, 3), (1, 4), (1, 5), (1, 6), (2, 2), (2, 3), (2, 4), (2, 5), (2, 6), (3, 3), (3, 4), (3, 5), (3, 6), (4, 4), (4, 5), (4, 6), (5, 5), (5, 6), (6, 6)]}\n",
      "Getting indices for gammat\n",
      "Getting indices for wtheta\n",
      "\n",
      "Found observables in data_file ['xip', 'xim', 'gammat', 'wtheta']\n",
      "Reading options for likelihood module:  2pt_dprime_like\n",
      "Found scale cuts for  {'xip': [(1, 1), (1, 2), (1, 3), (1, 4), (2, 2), (2, 3), (2, 4), (3, 3), (3, 4), (4, 4)], 'xim': [(1, 1), (1, 2), (1, 3), (1, 4), (2, 2), (2, 3), (2, 4), (3, 3), (3, 4), (4, 4)], 'gammat': [(1, 1), (1, 2), (1, 3), (1, 4), (2, 1), (2, 2), (2, 3), (2, 4), (3, 1), (3, 2), (3, 3), (3, 4), (4, 1), (4, 2), (4, 3), (4, 4), (5, 1), (5, 2), (5, 3), (5, 4), (6, 1), (6, 2), (6, 3), (6, 4)], 'wtheta': [(1, 1), (1, 2), (1, 3), (1, 4), (1, 5), (1, 6), (2, 2), (2, 3), (2, 4), (2, 5), (2, 6), (3, 3), (3, 4), (3, 5), (3, 6), (4, 4), (4, 5), (4, 6), (5, 5), (5, 6), (6, 6)]}\n",
      "Getting indices for gammat\n",
      "Getting indices for wtheta\n",
      "\n",
      "Using subsets ['2x2', 'gammat', 'wtheta']\n",
      "\n",
      "Using same indices for d and dprime -> conditioning turned off\n",
      "\n",
      "###############################\n",
      "## Loading realizations #######\n",
      "###############################\n"
     ]
    },
    {
     "data": {
      "application/vnd.jupyter.widget-view+json": {
       "model_id": "79d4e1b872394ca992d4ecb2ed52ab20",
       "version_major": 2,
       "version_minor": 0
      },
      "text/plain": [
       "HBox(children=(FloatProgress(value=0.0, max=221.0), HTML(value='')))"
      ]
     },
     "metadata": {},
     "output_type": "display_data"
    },
    {
     "name": "stdout",
     "output_type": "stream",
     "text": [
      "Loading realizations from  ../maglim_2x2_goodnessoffit/ppd_2x2pt_lcdm_SR_maglim_boosted_maglim_2x2_goodnessoffit_0_dprime_theory.npy\n",
      " - data vector size = 235\n",
      " - number of realizations = 1000\n",
      "Loading realizations from  ../maglim_2x2_goodnessoffit/ppd_2x2pt_lcdm_SR_maglim_boosted_maglim_2x2_goodnessoffit_0_dprime_real.npy\n",
      " - data vector size = 235\n",
      " - number of realizations = 1000\n",
      "Loading realizations from  ../maglim_2x2_goodnessoffit/ppd_2x2pt_lcdm_SR_maglim_boosted_maglim_2x2_goodnessoffit_0_d_theory.npy\n",
      " - data vector size = 235\n",
      " - number of realizations = 1000\n",
      "\n",
      "\n",
      "###############################\n",
      "## Sampling data ##############\n",
      "###############################\n",
      "Sampling at best-fit with params\n",
      "cosmological_parameters--omega_m = 0.395\n",
      "cosmological_parameters--h0 = 0.58\n",
      "cosmological_parameters--omega_b = 0.0399\n",
      "cosmological_parameters--n_s = 0.953\n",
      "cosmological_parameters--a_s = 1.89e-09\n",
      "cosmological_parameters--omnuh2 = 0.00639\n",
      "shear_calibration_parameters--m1 = -0.0161\n",
      "shear_calibration_parameters--m2 = -0.0232\n",
      "shear_calibration_parameters--m3 = -0.0181\n",
      "shear_calibration_parameters--m4 = -0.0388\n",
      "wl_photoz_errors--bias_1 = 0.0277\n",
      "wl_photoz_errors--bias_2 = -0.00887\n",
      "wl_photoz_errors--bias_3 = -0.0273\n",
      "wl_photoz_errors--bias_4 = 0.00944\n",
      "lens_photoz_errors--bias_1 = -0.00595\n",
      "lens_photoz_errors--bias_2 = -0.0243\n",
      "lens_photoz_errors--bias_3 = -0.00523\n",
      "lens_photoz_errors--bias_4 = -0.014\n",
      "lens_photoz_errors--width_1 = 0.983\n",
      "lens_photoz_errors--width_2 = 1.12\n",
      "lens_photoz_errors--width_3 = 0.894\n",
      "lens_photoz_errors--width_4 = 0.9\n",
      "bias_lens--b1        = 1.63\n",
      "bias_lens--b2        = 1.82\n",
      "bias_lens--b3        = 2.05\n",
      "bias_lens--b4        = 1.91\n",
      "intrinsic_alignment_parameters--a1 = 0.453\n",
      "intrinsic_alignment_parameters--a2 = -1.07\n",
      "intrinsic_alignment_parameters--alpha1 = -1.72\n",
      "intrinsic_alignment_parameters--alpha2 = 2.47\n",
      "intrinsic_alignment_parameters--bias_ta = 0.0576\n",
      "\n",
      "###############################\n",
      "## Compute chi2 for d #########\n",
      "###############################\n"
     ]
    },
    {
     "data": {
      "application/vnd.jupyter.widget-view+json": {
       "model_id": "e6addd08c4ec4e90be3d5a4437f34741",
       "version_major": 2,
       "version_minor": 0
      },
      "text/plain": [
       "HBox(children=(FloatProgress(value=0.0, max=221.0), HTML(value='')))"
      ]
     },
     "metadata": {},
     "output_type": "display_data"
    },
    {
     "name": "stdout",
     "output_type": "stream",
     "text": [
      "\n",
      "\n",
      "###############################\n",
      "## Compute IS weights for d ###\n",
      "###############################\n"
     ]
    },
    {
     "data": {
      "application/vnd.jupyter.widget-view+json": {
       "model_id": "326850acf856474696972acb406f7cd4",
       "version_major": 2,
       "version_minor": 0
      },
      "text/plain": [
       "HBox(children=(FloatProgress(value=0.0, max=221.0), HTML(value='')))"
      ]
     },
     "metadata": {},
     "output_type": "display_data"
    },
    {
     "name": "stdout",
     "output_type": "stream",
     "text": [
      "\n",
      "(221000, 1000)\n",
      "Neff = 54.4 (median), 16th=24.6, 84th=191.5 (0 were nan's)\n",
      "\n",
      "###############################\n",
      "## Computing p-values #########\n",
      "###############################\n"
     ]
    },
    {
     "data": {
      "application/vnd.jupyter.widget-view+json": {
       "model_id": "415a4bf3523d45bc9813a99f48cc7e5b",
       "version_major": 2,
       "version_minor": 0
      },
      "text/plain": [
       "HBox(children=(FloatProgress(value=1.0, bar_style='info', max=1.0), HTML(value='')))"
      ]
     },
     "metadata": {},
     "output_type": "display_data"
    },
    {
     "name": "stdout",
     "output_type": "stream",
     "text": [
      "\n",
      "2x2\n",
      "Appending pval for 2x2 0.004085456706555616\n",
      "gammat\n",
      "Appending pval for gammat 0.0036633316340008897\n",
      "wtheta\n",
      "Appending pval for wtheta 0.3286423252947713\n",
      "\n",
      "###############################\n",
      "## Calibrated p-values ########\n",
      "###############################\n",
      "     - Full         calibrated pval=0.0180 (raw pval=0.0039)\n",
      "     - 2x2          calibrated pval=0.0190 (raw pval=0.0041)\n",
      "     - gammat       calibrated pval=0.0140 (raw pval=0.0037)\n",
      "     - wtheta       calibrated pval=0.3320 (raw pval=0.3286)\n",
      "\n",
      "###############################\n",
      "## Plotting ###################\n",
      "###############################\n",
      "\n",
      "###############################\n",
      "## Loading chains #############\n",
      "###############################\n"
     ]
    },
    {
     "data": {
      "application/vnd.jupyter.widget-view+json": {
       "model_id": "887f7515c88d4f4790a277e767d63ddd",
       "version_major": 2,
       "version_minor": 0
      },
      "text/plain": [
       "HBox(children=(FloatProgress(value=0.0, max=221.0), HTML(value='')))"
      ]
     },
     "metadata": {},
     "output_type": "display_data"
    },
    {
     "name": "stdout",
     "output_type": "stream",
     "text": [
      "Loading list chain at\n",
      "../maglim_2x2_goodnessoffit/ppd_chain_2x2pt_lcdm_SR_maglim_boosted_maglim_2x2_goodnessoffit_0.txt\n",
      "- using params\n",
      "['cosmological_parameters--omega_m', 'cosmological_parameters--h0', 'cosmological_parameters--omega_b', 'cosmological_parameters--n_s', 'cosmological_parameters--a_s', 'cosmological_parameters--omnuh2', 'cosmological_parameters--w', 'cosmological_parameters--massive_nu', 'cosmological_parameters--massless_nu', 'cosmological_parameters--omega_k', 'cosmological_parameters--tau', 'shear_calibration_parameters--m1', 'shear_calibration_parameters--m2', 'shear_calibration_parameters--m3', 'shear_calibration_parameters--m4', 'wl_photoz_errors--bias_1', 'wl_photoz_errors--bias_2', 'wl_photoz_errors--bias_3', 'wl_photoz_errors--bias_4', 'lens_photoz_errors--bias_1', 'lens_photoz_errors--bias_2', 'lens_photoz_errors--bias_3', 'lens_photoz_errors--bias_4', 'lens_photoz_errors--bias_5', 'lens_photoz_errors--width_1', 'lens_photoz_errors--width_2', 'lens_photoz_errors--width_3', 'lens_photoz_errors--width_4', 'lens_photoz_errors--width_5', 'lens_photoz_errors--bias_6', 'lens_photoz_errors--width_6', 'bias_lens--b1', 'bias_lens--b2', 'bias_lens--b3', 'bias_lens--b4', 'bias_lens--b5', 'bias_lens--b6', 'mag_alpha_lens--alpha_1', 'mag_alpha_lens--alpha_2', 'mag_alpha_lens--alpha_3', 'mag_alpha_lens--alpha_4', 'mag_alpha_lens--alpha_5', 'mag_alpha_lens--alpha_6', 'intrinsic_alignment_parameters--z_piv', 'intrinsic_alignment_parameters--a1', 'intrinsic_alignment_parameters--a2', 'intrinsic_alignment_parameters--alpha1', 'intrinsic_alignment_parameters--alpha2', 'intrinsic_alignment_parameters--bias_ta', 'COSMOLOGICAL_PARAMETERS--SIGMA_8', 'COSMOLOGICAL_PARAMETERS--SIGMA_12', 'DATA_VECTOR--2PT_CHI2', 'DATA_VECTOR--2PT_D_CHI2', 'DATA_VECTOR--2PT_DPRIME_CHI2', 'DATA_VECTOR--2PT_XIP_CHI2', 'DATA_VECTOR--2PT_XIM_CHI2', 'DATA_VECTOR--2PT_1X2_CHI2', 'DATA_VECTOR--2PT_GAMMAT_CHI2', 'DATA_VECTOR--2PT_WTHETA_CHI2', 'DATA_VECTOR--2PT_2X2_CHI2', 'PPD--CHI2_DPRIME_DATA', 'PPD--CHI2_DPRIME_REALIZATION', 'PPD--CHI2_D_DATA', 'PPD--CHI2_XIP_DATA', 'PPD--CHI2_XIP_REALIZATION', 'PPD--CHI2_XIM_DATA', 'PPD--CHI2_XIM_REALIZATION', 'PPD--CHI2_1X2_DATA', 'PPD--CHI2_1X2_REALIZATION', 'PPD--CHI2_GAMMAT_DATA', 'PPD--CHI2_GAMMAT_REALIZATION', 'PPD--CHI2_WTHETA_DATA', 'PPD--CHI2_WTHETA_REALIZATION', 'PPD--CHI2_2X2_DATA', 'PPD--CHI2_2X2_REALIZATION', 'PPD--CHI2_DPRIME_COMP_AVG', 'PPD--CHI2_XIP_COMP_AVG', 'PPD--CHI2_XIM_COMP_AVG', 'PPD--CHI2_1X2_COMP_AVG', 'PPD--CHI2_GAMMAT_COMP_AVG', 'PPD--CHI2_WTHETA_COMP_AVG', 'PPD--CHI2_2X2_COMP_AVG', 'prior', 'post']\n",
      "- using nsample =  1000\n",
      "\n",
      "Loading chain at\n",
      "../../trimmed_chains_test/chain_2x2pt_lcdm_SR_maglim_boosted.txt\n",
      "Sampler not found -- non-standard cosmosis output\n",
      "Using 221 chunks of size [1000, 1000, 1000, 1000, 1000, 1000, 1000, 1000, 1000, 1000, 1000, 1000, 1000, 1000, 1000, 1000, 1000, 1000, 1000, 1000, 1000, 1000, 1000, 1000, 1000, 1000, 1000, 1000, 1000, 1000, 1000, 1000, 1000, 1000, 1000, 1000, 1000, 1000, 1000, 1000, 1000, 1000, 1000, 1000, 1000, 1000, 1000, 1000, 1000, 1000, 1000, 1000, 1000, 1000, 1000, 1000, 1000, 1000, 1000, 1000, 1000, 1000, 1000, 1000, 1000, 1000, 1000, 1000, 1000, 1000, 1000, 1000, 1000, 1000, 1000, 1000, 1000, 1000, 1000, 1000, 1000, 1000, 1000, 1000, 1000, 1000, 1000, 1000, 1000, 1000, 1000, 1000, 1000, 1000, 1000, 1000, 1000, 1000, 1000, 1000, 1000, 1000, 1000, 1000, 1000, 1000, 1000, 1000, 1000, 1000, 1000, 1000, 1000, 1000, 1000, 1000, 1000, 1000, 1000, 1000, 1000, 1000, 1000, 1000, 1000, 1000, 1000, 1000, 1000, 1000, 1000, 1000, 1000, 1000, 1000, 1000, 1000, 1000, 1000, 1000, 1000, 1000, 1000, 1000, 1000, 1000, 1000, 1000, 1000, 1000, 1000, 1000, 1000, 1000, 1000, 1000, 1000, 1000, 1000, 1000, 1000, 1000, 1000, 1000, 1000, 1000, 1000, 1000, 1000, 1000, 1000, 1000, 1000, 1000, 1000, 1000, 1000, 1000, 1000, 1000, 1000, 1000, 1000, 1000, 1000, 1000, 1000, 1000, 1000, 1000, 1000, 1000, 1000, 1000, 1000, 1000, 1000, 1000, 1000, 1000, 1000, 1000, 1000, 1000, 1000, 1000, 1000, 1000, 1000, 1000, 1000, 1000, 1000, 1000, 1000, 1000, 1000, 1000, 1000, 1000, 1000] (1000) for a total of 221000 posterior samples\n",
      "\n",
      "###############################\n",
      "## Loading scale/bin cuts #####\n",
      "###############################\n",
      "Found observables in data_file ['xip', 'xim', 'gammat', 'wtheta']\n",
      "Reading options for likelihood module:  2pt_d_like\n",
      "Found scale cuts for  {'xip': [(1, 1), (1, 2), (1, 3), (1, 4), (2, 2), (2, 3), (2, 4), (3, 3), (3, 4), (4, 4)], 'xim': [(1, 1), (1, 2), (1, 3), (1, 4), (2, 2), (2, 3), (2, 4), (3, 3), (3, 4), (4, 4)], 'gammat': [(1, 1), (1, 2), (1, 3), (1, 4), (2, 1), (2, 2), (2, 3), (2, 4), (3, 1), (3, 2), (3, 3), (3, 4), (4, 1), (4, 2), (4, 3), (4, 4), (5, 1), (5, 2), (5, 3), (5, 4), (6, 1), (6, 2), (6, 3), (6, 4)], 'wtheta': [(1, 1), (1, 2), (1, 3), (1, 4), (1, 5), (1, 6), (2, 2), (2, 3), (2, 4), (2, 5), (2, 6), (3, 3), (3, 4), (3, 5), (3, 6), (4, 4), (4, 5), (4, 6), (5, 5), (5, 6), (6, 6)]}\n",
      "Getting indices for gammat\n",
      "Getting indices for wtheta\n",
      "\n",
      "Found observables in data_file ['xip', 'xim', 'gammat', 'wtheta']\n",
      "Reading options for likelihood module:  2pt_dprime_like\n",
      "Found scale cuts for  {'xip': [(1, 1), (1, 2), (1, 3), (1, 4), (2, 2), (2, 3), (2, 4), (3, 3), (3, 4), (4, 4)], 'xim': [(1, 1), (1, 2), (1, 3), (1, 4), (2, 2), (2, 3), (2, 4), (3, 3), (3, 4), (4, 4)], 'gammat': [(1, 1), (1, 2), (1, 3), (1, 4), (2, 1), (2, 2), (2, 3), (2, 4), (3, 1), (3, 2), (3, 3), (3, 4), (4, 1), (4, 2), (4, 3), (4, 4), (5, 1), (5, 2), (5, 3), (5, 4), (6, 1), (6, 2), (6, 3), (6, 4)], 'wtheta': [(1, 1), (1, 2), (1, 3), (1, 4), (1, 5), (1, 6), (2, 2), (2, 3), (2, 4), (2, 5), (2, 6), (3, 3), (3, 4), (3, 5), (3, 6), (4, 4), (4, 5), (4, 6), (5, 5), (5, 6), (6, 6)]}\n",
      "Getting indices for gammat\n",
      "Getting indices for wtheta\n",
      "\n",
      "Using subsets ['2x2', 'gammat', 'wtheta']\n",
      "\n",
      "Using same indices for d and dprime -> conditioning turned off\n",
      "\n",
      "###############################\n",
      "## Loading realizations #######\n",
      "###############################\n"
     ]
    },
    {
     "data": {
      "application/vnd.jupyter.widget-view+json": {
       "model_id": "8974019247834ea28bf688ea716aba6e",
       "version_major": 2,
       "version_minor": 0
      },
      "text/plain": [
       "HBox(children=(FloatProgress(value=0.0, max=221.0), HTML(value='')))"
      ]
     },
     "metadata": {},
     "output_type": "display_data"
    },
    {
     "name": "stdout",
     "output_type": "stream",
     "text": [
      "Loading realizations from  ../maglim_2x2_goodnessoffit/ppd_2x2pt_lcdm_SR_maglim_boosted_maglim_2x2_goodnessoffit_0_dprime_theory.npy\n",
      " - data vector size = 235\n",
      " - number of realizations = 1000\n",
      "Loading realizations from  ../maglim_2x2_goodnessoffit/ppd_2x2pt_lcdm_SR_maglim_boosted_maglim_2x2_goodnessoffit_0_dprime_real.npy\n",
      " - data vector size = 235\n",
      " - number of realizations = 1000\n",
      "Loading realizations from  ../maglim_2x2_goodnessoffit/ppd_2x2pt_lcdm_SR_maglim_boosted_maglim_2x2_goodnessoffit_0_d_theory.npy\n",
      " - data vector size = 235\n",
      " - number of realizations = 1000\n",
      "\n",
      "\n",
      "###############################\n",
      "## Sampling data ##############\n",
      "###############################\n",
      "Sampling at best-fit with params\n",
      "cosmological_parameters--omega_m = 0.395\n",
      "cosmological_parameters--h0 = 0.58\n",
      "cosmological_parameters--omega_b = 0.0399\n",
      "cosmological_parameters--n_s = 0.953\n",
      "cosmological_parameters--a_s = 1.89e-09\n",
      "cosmological_parameters--omnuh2 = 0.00639\n",
      "shear_calibration_parameters--m1 = -0.0161\n",
      "shear_calibration_parameters--m2 = -0.0232\n",
      "shear_calibration_parameters--m3 = -0.0181\n",
      "shear_calibration_parameters--m4 = -0.0388\n",
      "wl_photoz_errors--bias_1 = 0.0277\n",
      "wl_photoz_errors--bias_2 = -0.00887\n",
      "wl_photoz_errors--bias_3 = -0.0273\n",
      "wl_photoz_errors--bias_4 = 0.00944\n",
      "lens_photoz_errors--bias_1 = -0.00595\n",
      "lens_photoz_errors--bias_2 = -0.0243\n",
      "lens_photoz_errors--bias_3 = -0.00523\n",
      "lens_photoz_errors--bias_4 = -0.014\n",
      "lens_photoz_errors--width_1 = 0.983\n",
      "lens_photoz_errors--width_2 = 1.12\n",
      "lens_photoz_errors--width_3 = 0.894\n",
      "lens_photoz_errors--width_4 = 0.9\n",
      "bias_lens--b1        = 1.63\n",
      "bias_lens--b2        = 1.82\n",
      "bias_lens--b3        = 2.05\n",
      "bias_lens--b4        = 1.91\n",
      "intrinsic_alignment_parameters--a1 = 0.453\n",
      "intrinsic_alignment_parameters--a2 = -1.07\n",
      "intrinsic_alignment_parameters--alpha1 = -1.72\n",
      "intrinsic_alignment_parameters--alpha2 = 2.47\n",
      "intrinsic_alignment_parameters--bias_ta = 0.0576\n",
      "\n",
      "###############################\n",
      "## Compute chi2 for d #########\n",
      "###############################\n"
     ]
    },
    {
     "data": {
      "application/vnd.jupyter.widget-view+json": {
       "model_id": "6a556b0f19464942accfa764588f6086",
       "version_major": 2,
       "version_minor": 0
      },
      "text/plain": [
       "HBox(children=(FloatProgress(value=0.0, max=221.0), HTML(value='')))"
      ]
     },
     "metadata": {},
     "output_type": "display_data"
    },
    {
     "name": "stdout",
     "output_type": "stream",
     "text": [
      "\n",
      "\n",
      "###############################\n",
      "## Compute IS weights for d ###\n",
      "###############################\n"
     ]
    },
    {
     "data": {
      "application/vnd.jupyter.widget-view+json": {
       "model_id": "c2decf42e0c04898963bb54fc0f8a342",
       "version_major": 2,
       "version_minor": 0
      },
      "text/plain": [
       "HBox(children=(FloatProgress(value=0.0, max=221.0), HTML(value='')))"
      ]
     },
     "metadata": {},
     "output_type": "display_data"
    },
    {
     "name": "stdout",
     "output_type": "stream",
     "text": [
      "\n",
      "(221000, 1000)\n",
      "Neff = 53.5 (median), 16th=23.5, 84th=181.9 (0 were nan's)\n",
      "\n",
      "###############################\n",
      "## Computing p-values #########\n",
      "###############################\n"
     ]
    },
    {
     "data": {
      "application/vnd.jupyter.widget-view+json": {
       "model_id": "abff96f4623c4398a6b1d924d1ce3bb5",
       "version_major": 2,
       "version_minor": 0
      },
      "text/plain": [
       "HBox(children=(FloatProgress(value=1.0, bar_style='info', max=1.0), HTML(value='')))"
      ]
     },
     "metadata": {},
     "output_type": "display_data"
    },
    {
     "name": "stdout",
     "output_type": "stream",
     "text": [
      "\n",
      "2x2\n",
      "gammat\n",
      "wtheta\n",
      "\n",
      "###############################\n",
      "## Calibrated p-values ########\n",
      "###############################\n",
      "     - Full         calibrated pval=0.0160 (raw pval=0.0039)\n",
      "     - 2x2          calibrated pval=0.0160 (raw pval=0.0041)\n",
      "     - gammat       calibrated pval=0.0110 (raw pval=0.0037)\n",
      "     - wtheta       calibrated pval=0.3710 (raw pval=0.3286)\n",
      "\n",
      "###############################\n",
      "## Plotting ###################\n",
      "###############################\n",
      "\n",
      "###############################\n",
      "## Loading chains #############\n",
      "###############################\n"
     ]
    },
    {
     "data": {
      "application/vnd.jupyter.widget-view+json": {
       "model_id": "44d5fde78d3d48a4befc4fd120756cf1",
       "version_major": 2,
       "version_minor": 0
      },
      "text/plain": [
       "HBox(children=(FloatProgress(value=0.0, max=221.0), HTML(value='')))"
      ]
     },
     "metadata": {},
     "output_type": "display_data"
    },
    {
     "name": "stdout",
     "output_type": "stream",
     "text": [
      "Loading list chain at\n",
      "../maglim_2x2_goodnessoffit/ppd_chain_2x2pt_lcdm_SR_maglim_boosted_maglim_2x2_goodnessoffit_0.txt\n",
      "- using params\n",
      "['cosmological_parameters--omega_m', 'cosmological_parameters--h0', 'cosmological_parameters--omega_b', 'cosmological_parameters--n_s', 'cosmological_parameters--a_s', 'cosmological_parameters--omnuh2', 'cosmological_parameters--w', 'cosmological_parameters--massive_nu', 'cosmological_parameters--massless_nu', 'cosmological_parameters--omega_k', 'cosmological_parameters--tau', 'shear_calibration_parameters--m1', 'shear_calibration_parameters--m2', 'shear_calibration_parameters--m3', 'shear_calibration_parameters--m4', 'wl_photoz_errors--bias_1', 'wl_photoz_errors--bias_2', 'wl_photoz_errors--bias_3', 'wl_photoz_errors--bias_4', 'lens_photoz_errors--bias_1', 'lens_photoz_errors--bias_2', 'lens_photoz_errors--bias_3', 'lens_photoz_errors--bias_4', 'lens_photoz_errors--bias_5', 'lens_photoz_errors--width_1', 'lens_photoz_errors--width_2', 'lens_photoz_errors--width_3', 'lens_photoz_errors--width_4', 'lens_photoz_errors--width_5', 'lens_photoz_errors--bias_6', 'lens_photoz_errors--width_6', 'bias_lens--b1', 'bias_lens--b2', 'bias_lens--b3', 'bias_lens--b4', 'bias_lens--b5', 'bias_lens--b6', 'mag_alpha_lens--alpha_1', 'mag_alpha_lens--alpha_2', 'mag_alpha_lens--alpha_3', 'mag_alpha_lens--alpha_4', 'mag_alpha_lens--alpha_5', 'mag_alpha_lens--alpha_6', 'intrinsic_alignment_parameters--z_piv', 'intrinsic_alignment_parameters--a1', 'intrinsic_alignment_parameters--a2', 'intrinsic_alignment_parameters--alpha1', 'intrinsic_alignment_parameters--alpha2', 'intrinsic_alignment_parameters--bias_ta', 'COSMOLOGICAL_PARAMETERS--SIGMA_8', 'COSMOLOGICAL_PARAMETERS--SIGMA_12', 'DATA_VECTOR--2PT_CHI2', 'DATA_VECTOR--2PT_D_CHI2', 'DATA_VECTOR--2PT_DPRIME_CHI2', 'DATA_VECTOR--2PT_XIP_CHI2', 'DATA_VECTOR--2PT_XIM_CHI2', 'DATA_VECTOR--2PT_1X2_CHI2', 'DATA_VECTOR--2PT_GAMMAT_CHI2', 'DATA_VECTOR--2PT_WTHETA_CHI2', 'DATA_VECTOR--2PT_2X2_CHI2', 'PPD--CHI2_DPRIME_DATA', 'PPD--CHI2_DPRIME_REALIZATION', 'PPD--CHI2_D_DATA', 'PPD--CHI2_XIP_DATA', 'PPD--CHI2_XIP_REALIZATION', 'PPD--CHI2_XIM_DATA', 'PPD--CHI2_XIM_REALIZATION', 'PPD--CHI2_1X2_DATA', 'PPD--CHI2_1X2_REALIZATION', 'PPD--CHI2_GAMMAT_DATA', 'PPD--CHI2_GAMMAT_REALIZATION', 'PPD--CHI2_WTHETA_DATA', 'PPD--CHI2_WTHETA_REALIZATION', 'PPD--CHI2_2X2_DATA', 'PPD--CHI2_2X2_REALIZATION', 'PPD--CHI2_DPRIME_COMP_AVG', 'PPD--CHI2_XIP_COMP_AVG', 'PPD--CHI2_XIM_COMP_AVG', 'PPD--CHI2_1X2_COMP_AVG', 'PPD--CHI2_GAMMAT_COMP_AVG', 'PPD--CHI2_WTHETA_COMP_AVG', 'PPD--CHI2_2X2_COMP_AVG', 'prior', 'post']\n",
      "- using nsample =  1000\n",
      "\n",
      "Loading chain at\n",
      "../../trimmed_chains_test/chain_2x2pt_lcdm_SR_maglim_boosted.txt\n",
      "Sampler not found -- non-standard cosmosis output\n",
      "Using 221 chunks of size [1000, 1000, 1000, 1000, 1000, 1000, 1000, 1000, 1000, 1000, 1000, 1000, 1000, 1000, 1000, 1000, 1000, 1000, 1000, 1000, 1000, 1000, 1000, 1000, 1000, 1000, 1000, 1000, 1000, 1000, 1000, 1000, 1000, 1000, 1000, 1000, 1000, 1000, 1000, 1000, 1000, 1000, 1000, 1000, 1000, 1000, 1000, 1000, 1000, 1000, 1000, 1000, 1000, 1000, 1000, 1000, 1000, 1000, 1000, 1000, 1000, 1000, 1000, 1000, 1000, 1000, 1000, 1000, 1000, 1000, 1000, 1000, 1000, 1000, 1000, 1000, 1000, 1000, 1000, 1000, 1000, 1000, 1000, 1000, 1000, 1000, 1000, 1000, 1000, 1000, 1000, 1000, 1000, 1000, 1000, 1000, 1000, 1000, 1000, 1000, 1000, 1000, 1000, 1000, 1000, 1000, 1000, 1000, 1000, 1000, 1000, 1000, 1000, 1000, 1000, 1000, 1000, 1000, 1000, 1000, 1000, 1000, 1000, 1000, 1000, 1000, 1000, 1000, 1000, 1000, 1000, 1000, 1000, 1000, 1000, 1000, 1000, 1000, 1000, 1000, 1000, 1000, 1000, 1000, 1000, 1000, 1000, 1000, 1000, 1000, 1000, 1000, 1000, 1000, 1000, 1000, 1000, 1000, 1000, 1000, 1000, 1000, 1000, 1000, 1000, 1000, 1000, 1000, 1000, 1000, 1000, 1000, 1000, 1000, 1000, 1000, 1000, 1000, 1000, 1000, 1000, 1000, 1000, 1000, 1000, 1000, 1000, 1000, 1000, 1000, 1000, 1000, 1000, 1000, 1000, 1000, 1000, 1000, 1000, 1000, 1000, 1000, 1000, 1000, 1000, 1000, 1000, 1000, 1000, 1000, 1000, 1000, 1000, 1000, 1000, 1000, 1000, 1000, 1000, 1000, 1000] (1000) for a total of 221000 posterior samples\n",
      "\n",
      "###############################\n",
      "## Loading scale/bin cuts #####\n",
      "###############################\n",
      "Found observables in data_file ['xip', 'xim', 'gammat', 'wtheta']\n",
      "Reading options for likelihood module:  2pt_d_like\n",
      "Found scale cuts for  {'xip': [(1, 1), (1, 2), (1, 3), (1, 4), (2, 2), (2, 3), (2, 4), (3, 3), (3, 4), (4, 4)], 'xim': [(1, 1), (1, 2), (1, 3), (1, 4), (2, 2), (2, 3), (2, 4), (3, 3), (3, 4), (4, 4)], 'gammat': [(1, 1), (1, 2), (1, 3), (1, 4), (2, 1), (2, 2), (2, 3), (2, 4), (3, 1), (3, 2), (3, 3), (3, 4), (4, 1), (4, 2), (4, 3), (4, 4), (5, 1), (5, 2), (5, 3), (5, 4), (6, 1), (6, 2), (6, 3), (6, 4)], 'wtheta': [(1, 1), (1, 2), (1, 3), (1, 4), (1, 5), (1, 6), (2, 2), (2, 3), (2, 4), (2, 5), (2, 6), (3, 3), (3, 4), (3, 5), (3, 6), (4, 4), (4, 5), (4, 6), (5, 5), (5, 6), (6, 6)]}\n",
      "Getting indices for gammat\n",
      "Getting indices for wtheta\n",
      "\n",
      "Found observables in data_file ['xip', 'xim', 'gammat', 'wtheta']\n",
      "Reading options for likelihood module:  2pt_dprime_like\n",
      "Found scale cuts for  {'xip': [(1, 1), (1, 2), (1, 3), (1, 4), (2, 2), (2, 3), (2, 4), (3, 3), (3, 4), (4, 4)], 'xim': [(1, 1), (1, 2), (1, 3), (1, 4), (2, 2), (2, 3), (2, 4), (3, 3), (3, 4), (4, 4)], 'gammat': [(1, 1), (1, 2), (1, 3), (1, 4), (2, 1), (2, 2), (2, 3), (2, 4), (3, 1), (3, 2), (3, 3), (3, 4), (4, 1), (4, 2), (4, 3), (4, 4), (5, 1), (5, 2), (5, 3), (5, 4), (6, 1), (6, 2), (6, 3), (6, 4)], 'wtheta': [(1, 1), (1, 2), (1, 3), (1, 4), (1, 5), (1, 6), (2, 2), (2, 3), (2, 4), (2, 5), (2, 6), (3, 3), (3, 4), (3, 5), (3, 6), (4, 4), (4, 5), (4, 6), (5, 5), (5, 6), (6, 6)]}\n",
      "Getting indices for gammat\n",
      "Getting indices for wtheta\n",
      "\n",
      "Using subsets ['2x2', 'gammat', 'wtheta']\n",
      "\n",
      "Using same indices for d and dprime -> conditioning turned off\n",
      "\n",
      "###############################\n",
      "## Loading realizations #######\n",
      "###############################\n"
     ]
    },
    {
     "data": {
      "application/vnd.jupyter.widget-view+json": {
       "model_id": "6153bb43a910480e9509ca236d147d67",
       "version_major": 2,
       "version_minor": 0
      },
      "text/plain": [
       "HBox(children=(FloatProgress(value=0.0, max=221.0), HTML(value='')))"
      ]
     },
     "metadata": {},
     "output_type": "display_data"
    },
    {
     "name": "stdout",
     "output_type": "stream",
     "text": [
      "Loading realizations from  ../maglim_2x2_goodnessoffit/ppd_2x2pt_lcdm_SR_maglim_boosted_maglim_2x2_goodnessoffit_0_dprime_theory.npy\n",
      " - data vector size = 235\n",
      " - number of realizations = 1000\n",
      "Loading realizations from  ../maglim_2x2_goodnessoffit/ppd_2x2pt_lcdm_SR_maglim_boosted_maglim_2x2_goodnessoffit_0_dprime_real.npy\n",
      " - data vector size = 235\n",
      " - number of realizations = 1000\n",
      "Loading realizations from  ../maglim_2x2_goodnessoffit/ppd_2x2pt_lcdm_SR_maglim_boosted_maglim_2x2_goodnessoffit_0_d_theory.npy\n",
      " - data vector size = 235\n",
      " - number of realizations = 1000\n",
      "\n",
      "\n",
      "###############################\n",
      "## Sampling data ##############\n",
      "###############################\n",
      "Sampling at best-fit with params\n",
      "cosmological_parameters--omega_m = 0.395\n",
      "cosmological_parameters--h0 = 0.58\n",
      "cosmological_parameters--omega_b = 0.0399\n",
      "cosmological_parameters--n_s = 0.953\n",
      "cosmological_parameters--a_s = 1.89e-09\n",
      "cosmological_parameters--omnuh2 = 0.00639\n",
      "shear_calibration_parameters--m1 = -0.0161\n",
      "shear_calibration_parameters--m2 = -0.0232\n",
      "shear_calibration_parameters--m3 = -0.0181\n",
      "shear_calibration_parameters--m4 = -0.0388\n",
      "wl_photoz_errors--bias_1 = 0.0277\n",
      "wl_photoz_errors--bias_2 = -0.00887\n",
      "wl_photoz_errors--bias_3 = -0.0273\n",
      "wl_photoz_errors--bias_4 = 0.00944\n",
      "lens_photoz_errors--bias_1 = -0.00595\n",
      "lens_photoz_errors--bias_2 = -0.0243\n",
      "lens_photoz_errors--bias_3 = -0.00523\n",
      "lens_photoz_errors--bias_4 = -0.014\n",
      "lens_photoz_errors--width_1 = 0.983\n",
      "lens_photoz_errors--width_2 = 1.12\n",
      "lens_photoz_errors--width_3 = 0.894\n",
      "lens_photoz_errors--width_4 = 0.9\n",
      "bias_lens--b1        = 1.63\n",
      "bias_lens--b2        = 1.82\n",
      "bias_lens--b3        = 2.05\n",
      "bias_lens--b4        = 1.91\n",
      "intrinsic_alignment_parameters--a1 = 0.453\n",
      "intrinsic_alignment_parameters--a2 = -1.07\n",
      "intrinsic_alignment_parameters--alpha1 = -1.72\n",
      "intrinsic_alignment_parameters--alpha2 = 2.47\n",
      "intrinsic_alignment_parameters--bias_ta = 0.0576\n",
      "\n",
      "###############################\n",
      "## Compute chi2 for d #########\n",
      "###############################\n"
     ]
    },
    {
     "data": {
      "application/vnd.jupyter.widget-view+json": {
       "model_id": "c8c5f2d7d2f54512b2fb95fc2c462348",
       "version_major": 2,
       "version_minor": 0
      },
      "text/plain": [
       "HBox(children=(FloatProgress(value=0.0, max=221.0), HTML(value='')))"
      ]
     },
     "metadata": {},
     "output_type": "display_data"
    },
    {
     "name": "stderr",
     "output_type": "stream",
     "text": [
      "IOPub message rate exceeded.\n",
      "The Jupyter server will temporarily stop sending output\n",
      "to the client in order to avoid crashing it.\n",
      "To change this limit, set the config variable\n",
      "`--ServerApp.iopub_msg_rate_limit`.\n",
      "\n",
      "Current values:\n",
      "ServerApp.iopub_msg_rate_limit=1000.0 (msgs/sec)\n",
      "ServerApp.rate_limit_window=3.0 (secs)\n",
      "\n"
     ]
    },
    {
     "name": "stdout",
     "output_type": "stream",
     "text": [
      "\n",
      "\n",
      "###############################\n",
      "## Compute IS weights for d ###\n",
      "###############################\n"
     ]
    },
    {
     "data": {
      "application/vnd.jupyter.widget-view+json": {
       "model_id": "3226f7d73e7c401c92182d4550ac1c7b",
       "version_major": 2,
       "version_minor": 0
      },
      "text/plain": [
       "HBox(children=(FloatProgress(value=0.0, max=221.0), HTML(value='')))"
      ]
     },
     "metadata": {},
     "output_type": "display_data"
    },
    {
     "name": "stdout",
     "output_type": "stream",
     "text": [
      "\n",
      "(221000, 1000)\n",
      "Neff = 58.3 (median), 16th=23.1, 84th=198.9 (0 were nan's)\n",
      "\n",
      "###############################\n",
      "## Computing p-values #########\n",
      "###############################\n"
     ]
    },
    {
     "data": {
      "application/vnd.jupyter.widget-view+json": {
       "model_id": "1d541a70af1f46a486b7500ae4e52e0d",
       "version_major": 2,
       "version_minor": 0
      },
      "text/plain": [
       "HBox(children=(FloatProgress(value=1.0, bar_style='info', max=1.0), HTML(value='')))"
      ]
     },
     "metadata": {},
     "output_type": "display_data"
    },
    {
     "name": "stdout",
     "output_type": "stream",
     "text": [
      "\n",
      "2x2\n",
      "gammat\n",
      "wtheta\n",
      "\n",
      "###############################\n",
      "## Calibrated p-values ########\n",
      "###############################\n",
      "     - Full         calibrated pval=0.0190 (raw pval=0.0039)\n",
      "     - 2x2          calibrated pval=0.0190 (raw pval=0.0041)\n",
      "     - gammat       calibrated pval=0.0150 (raw pval=0.0037)\n",
      "     - wtheta       calibrated pval=0.3490 (raw pval=0.3286)\n",
      "\n",
      "###############################\n",
      "## Plotting ###################\n",
      "###############################\n",
      "\n",
      "###############################\n",
      "## Loading chains #############\n",
      "###############################\n"
     ]
    },
    {
     "data": {
      "application/vnd.jupyter.widget-view+json": {
       "model_id": "fd5509d3932e43228ae636371ac98915",
       "version_major": 2,
       "version_minor": 0
      },
      "text/plain": [
       "HBox(children=(FloatProgress(value=0.0, max=221.0), HTML(value='')))"
      ]
     },
     "metadata": {},
     "output_type": "display_data"
    },
    {
     "name": "stdout",
     "output_type": "stream",
     "text": [
      "Loading list chain at\n",
      "../maglim_2x2_goodnessoffit/ppd_chain_2x2pt_lcdm_SR_maglim_boosted_maglim_2x2_goodnessoffit_0.txt\n",
      "- using params\n",
      "['cosmological_parameters--omega_m', 'cosmological_parameters--h0', 'cosmological_parameters--omega_b', 'cosmological_parameters--n_s', 'cosmological_parameters--a_s', 'cosmological_parameters--omnuh2', 'cosmological_parameters--w', 'cosmological_parameters--massive_nu', 'cosmological_parameters--massless_nu', 'cosmological_parameters--omega_k', 'cosmological_parameters--tau', 'shear_calibration_parameters--m1', 'shear_calibration_parameters--m2', 'shear_calibration_parameters--m3', 'shear_calibration_parameters--m4', 'wl_photoz_errors--bias_1', 'wl_photoz_errors--bias_2', 'wl_photoz_errors--bias_3', 'wl_photoz_errors--bias_4', 'lens_photoz_errors--bias_1', 'lens_photoz_errors--bias_2', 'lens_photoz_errors--bias_3', 'lens_photoz_errors--bias_4', 'lens_photoz_errors--bias_5', 'lens_photoz_errors--width_1', 'lens_photoz_errors--width_2', 'lens_photoz_errors--width_3', 'lens_photoz_errors--width_4', 'lens_photoz_errors--width_5', 'lens_photoz_errors--bias_6', 'lens_photoz_errors--width_6', 'bias_lens--b1', 'bias_lens--b2', 'bias_lens--b3', 'bias_lens--b4', 'bias_lens--b5', 'bias_lens--b6', 'mag_alpha_lens--alpha_1', 'mag_alpha_lens--alpha_2', 'mag_alpha_lens--alpha_3', 'mag_alpha_lens--alpha_4', 'mag_alpha_lens--alpha_5', 'mag_alpha_lens--alpha_6', 'intrinsic_alignment_parameters--z_piv', 'intrinsic_alignment_parameters--a1', 'intrinsic_alignment_parameters--a2', 'intrinsic_alignment_parameters--alpha1', 'intrinsic_alignment_parameters--alpha2', 'intrinsic_alignment_parameters--bias_ta', 'COSMOLOGICAL_PARAMETERS--SIGMA_8', 'COSMOLOGICAL_PARAMETERS--SIGMA_12', 'DATA_VECTOR--2PT_CHI2', 'DATA_VECTOR--2PT_D_CHI2', 'DATA_VECTOR--2PT_DPRIME_CHI2', 'DATA_VECTOR--2PT_XIP_CHI2', 'DATA_VECTOR--2PT_XIM_CHI2', 'DATA_VECTOR--2PT_1X2_CHI2', 'DATA_VECTOR--2PT_GAMMAT_CHI2', 'DATA_VECTOR--2PT_WTHETA_CHI2', 'DATA_VECTOR--2PT_2X2_CHI2', 'PPD--CHI2_DPRIME_DATA', 'PPD--CHI2_DPRIME_REALIZATION', 'PPD--CHI2_D_DATA', 'PPD--CHI2_XIP_DATA', 'PPD--CHI2_XIP_REALIZATION', 'PPD--CHI2_XIM_DATA', 'PPD--CHI2_XIM_REALIZATION', 'PPD--CHI2_1X2_DATA', 'PPD--CHI2_1X2_REALIZATION', 'PPD--CHI2_GAMMAT_DATA', 'PPD--CHI2_GAMMAT_REALIZATION', 'PPD--CHI2_WTHETA_DATA', 'PPD--CHI2_WTHETA_REALIZATION', 'PPD--CHI2_2X2_DATA', 'PPD--CHI2_2X2_REALIZATION', 'PPD--CHI2_DPRIME_COMP_AVG', 'PPD--CHI2_XIP_COMP_AVG', 'PPD--CHI2_XIM_COMP_AVG', 'PPD--CHI2_1X2_COMP_AVG', 'PPD--CHI2_GAMMAT_COMP_AVG', 'PPD--CHI2_WTHETA_COMP_AVG', 'PPD--CHI2_2X2_COMP_AVG', 'prior', 'post']\n",
      "- using nsample =  1000\n",
      "\n",
      "Loading chain at\n",
      "../../trimmed_chains_test/chain_2x2pt_lcdm_SR_maglim_boosted.txt\n",
      "Sampler not found -- non-standard cosmosis output\n",
      "Using 221 chunks of size [1000, 1000, 1000, 1000, 1000, 1000, 1000, 1000, 1000, 1000, 1000, 1000, 1000, 1000, 1000, 1000, 1000, 1000, 1000, 1000, 1000, 1000, 1000, 1000, 1000, 1000, 1000, 1000, 1000, 1000, 1000, 1000, 1000, 1000, 1000, 1000, 1000, 1000, 1000, 1000, 1000, 1000, 1000, 1000, 1000, 1000, 1000, 1000, 1000, 1000, 1000, 1000, 1000, 1000, 1000, 1000, 1000, 1000, 1000, 1000, 1000, 1000, 1000, 1000, 1000, 1000, 1000, 1000, 1000, 1000, 1000, 1000, 1000, 1000, 1000, 1000, 1000, 1000, 1000, 1000, 1000, 1000, 1000, 1000, 1000, 1000, 1000, 1000, 1000, 1000, 1000, 1000, 1000, 1000, 1000, 1000, 1000, 1000, 1000, 1000, 1000, 1000, 1000, 1000, 1000, 1000, 1000, 1000, 1000, 1000, 1000, 1000, 1000, 1000, 1000, 1000, 1000, 1000, 1000, 1000, 1000, 1000, 1000, 1000, 1000, 1000, 1000, 1000, 1000, 1000, 1000, 1000, 1000, 1000, 1000, 1000, 1000, 1000, 1000, 1000, 1000, 1000, 1000, 1000, 1000, 1000, 1000, 1000, 1000, 1000, 1000, 1000, 1000, 1000, 1000, 1000, 1000, 1000, 1000, 1000, 1000, 1000, 1000, 1000, 1000, 1000, 1000, 1000, 1000, 1000, 1000, 1000, 1000, 1000, 1000, 1000, 1000, 1000, 1000, 1000, 1000, 1000, 1000, 1000, 1000, 1000, 1000, 1000, 1000, 1000, 1000, 1000, 1000, 1000, 1000, 1000, 1000, 1000, 1000, 1000, 1000, 1000, 1000, 1000, 1000, 1000, 1000, 1000, 1000, 1000, 1000, 1000, 1000, 1000, 1000, 1000, 1000, 1000, 1000, 1000, 1000] (1000) for a total of 221000 posterior samples\n",
      "\n",
      "###############################\n",
      "## Loading scale/bin cuts #####\n",
      "###############################\n",
      "Found observables in data_file ['xip', 'xim', 'gammat', 'wtheta']\n",
      "Reading options for likelihood module:  2pt_d_like\n",
      "Found scale cuts for  {'xip': [(1, 1), (1, 2), (1, 3), (1, 4), (2, 2), (2, 3), (2, 4), (3, 3), (3, 4), (4, 4)], 'xim': [(1, 1), (1, 2), (1, 3), (1, 4), (2, 2), (2, 3), (2, 4), (3, 3), (3, 4), (4, 4)], 'gammat': [(1, 1), (1, 2), (1, 3), (1, 4), (2, 1), (2, 2), (2, 3), (2, 4), (3, 1), (3, 2), (3, 3), (3, 4), (4, 1), (4, 2), (4, 3), (4, 4), (5, 1), (5, 2), (5, 3), (5, 4), (6, 1), (6, 2), (6, 3), (6, 4)], 'wtheta': [(1, 1), (1, 2), (1, 3), (1, 4), (1, 5), (1, 6), (2, 2), (2, 3), (2, 4), (2, 5), (2, 6), (3, 3), (3, 4), (3, 5), (3, 6), (4, 4), (4, 5), (4, 6), (5, 5), (5, 6), (6, 6)]}\n",
      "Getting indices for gammat\n",
      "Getting indices for wtheta\n",
      "\n",
      "Found observables in data_file ['xip', 'xim', 'gammat', 'wtheta']\n",
      "Reading options for likelihood module:  2pt_dprime_like\n",
      "Found scale cuts for  {'xip': [(1, 1), (1, 2), (1, 3), (1, 4), (2, 2), (2, 3), (2, 4), (3, 3), (3, 4), (4, 4)], 'xim': [(1, 1), (1, 2), (1, 3), (1, 4), (2, 2), (2, 3), (2, 4), (3, 3), (3, 4), (4, 4)], 'gammat': [(1, 1), (1, 2), (1, 3), (1, 4), (2, 1), (2, 2), (2, 3), (2, 4), (3, 1), (3, 2), (3, 3), (3, 4), (4, 1), (4, 2), (4, 3), (4, 4), (5, 1), (5, 2), (5, 3), (5, 4), (6, 1), (6, 2), (6, 3), (6, 4)], 'wtheta': [(1, 1), (1, 2), (1, 3), (1, 4), (1, 5), (1, 6), (2, 2), (2, 3), (2, 4), (2, 5), (2, 6), (3, 3), (3, 4), (3, 5), (3, 6), (4, 4), (4, 5), (4, 6), (5, 5), (5, 6), (6, 6)]}\n",
      "Getting indices for gammat\n",
      "Getting indices for wtheta\n",
      "\n",
      "Using subsets ['2x2', 'gammat', 'wtheta']\n",
      "\n",
      "Using same indices for d and dprime -> conditioning turned off\n",
      "\n",
      "###############################\n",
      "## Loading realizations #######\n",
      "###############################\n"
     ]
    },
    {
     "data": {
      "application/vnd.jupyter.widget-view+json": {
       "model_id": "a5209c6030a9452682cfff43747cdf96",
       "version_major": 2,
       "version_minor": 0
      },
      "text/plain": [
       "HBox(children=(FloatProgress(value=0.0, max=221.0), HTML(value='')))"
      ]
     },
     "metadata": {},
     "output_type": "display_data"
    },
    {
     "name": "stdout",
     "output_type": "stream",
     "text": [
      "Loading realizations from  ../maglim_2x2_goodnessoffit/ppd_2x2pt_lcdm_SR_maglim_boosted_maglim_2x2_goodnessoffit_0_dprime_theory.npy\n",
      " - data vector size = 235\n",
      " - number of realizations = 1000\n",
      "Loading realizations from  ../maglim_2x2_goodnessoffit/ppd_2x2pt_lcdm_SR_maglim_boosted_maglim_2x2_goodnessoffit_0_dprime_real.npy\n",
      " - data vector size = 235\n",
      " - number of realizations = 1000\n",
      "Loading realizations from  ../maglim_2x2_goodnessoffit/ppd_2x2pt_lcdm_SR_maglim_boosted_maglim_2x2_goodnessoffit_0_d_theory.npy\n",
      " - data vector size = 235\n",
      " - number of realizations = 1000\n",
      "\n",
      "\n",
      "###############################\n",
      "## Sampling data ##############\n",
      "###############################\n",
      "Sampling at best-fit with params\n",
      "cosmological_parameters--omega_m = 0.395\n",
      "cosmological_parameters--h0 = 0.58\n",
      "cosmological_parameters--omega_b = 0.0399\n",
      "cosmological_parameters--n_s = 0.953\n",
      "cosmological_parameters--a_s = 1.89e-09\n",
      "cosmological_parameters--omnuh2 = 0.00639\n",
      "shear_calibration_parameters--m1 = -0.0161\n",
      "shear_calibration_parameters--m2 = -0.0232\n",
      "shear_calibration_parameters--m3 = -0.0181\n",
      "shear_calibration_parameters--m4 = -0.0388\n",
      "wl_photoz_errors--bias_1 = 0.0277\n",
      "wl_photoz_errors--bias_2 = -0.00887\n",
      "wl_photoz_errors--bias_3 = -0.0273\n",
      "wl_photoz_errors--bias_4 = 0.00944\n",
      "lens_photoz_errors--bias_1 = -0.00595\n",
      "lens_photoz_errors--bias_2 = -0.0243\n",
      "lens_photoz_errors--bias_3 = -0.00523\n",
      "lens_photoz_errors--bias_4 = -0.014\n",
      "lens_photoz_errors--width_1 = 0.983\n",
      "lens_photoz_errors--width_2 = 1.12\n",
      "lens_photoz_errors--width_3 = 0.894\n",
      "lens_photoz_errors--width_4 = 0.9\n",
      "bias_lens--b1        = 1.63\n",
      "bias_lens--b2        = 1.82\n",
      "bias_lens--b3        = 2.05\n",
      "bias_lens--b4        = 1.91\n",
      "intrinsic_alignment_parameters--a1 = 0.453\n",
      "intrinsic_alignment_parameters--a2 = -1.07\n",
      "intrinsic_alignment_parameters--alpha1 = -1.72\n",
      "intrinsic_alignment_parameters--alpha2 = 2.47\n",
      "intrinsic_alignment_parameters--bias_ta = 0.0576\n",
      "\n",
      "###############################\n",
      "## Compute chi2 for d #########\n",
      "###############################\n"
     ]
    },
    {
     "data": {
      "application/vnd.jupyter.widget-view+json": {
       "model_id": "99c5b86da3514aaeb92f6105c36261f9",
       "version_major": 2,
       "version_minor": 0
      },
      "text/plain": [
       "HBox(children=(FloatProgress(value=0.0, max=221.0), HTML(value='')))"
      ]
     },
     "metadata": {},
     "output_type": "display_data"
    },
    {
     "name": "stdout",
     "output_type": "stream",
     "text": [
      "\n",
      "\n",
      "###############################\n",
      "## Compute IS weights for d ###\n",
      "###############################\n"
     ]
    },
    {
     "data": {
      "application/vnd.jupyter.widget-view+json": {
       "model_id": "71a94926a57d428f805240f56c35ffaa",
       "version_major": 2,
       "version_minor": 0
      },
      "text/plain": [
       "HBox(children=(FloatProgress(value=0.0, max=221.0), HTML(value='')))"
      ]
     },
     "metadata": {},
     "output_type": "display_data"
    },
    {
     "name": "stdout",
     "output_type": "stream",
     "text": [
      "\n",
      "(221000, 1000)\n",
      "Neff = 54.8 (median), 16th=24.4, 84th=176.1 (0 were nan's)\n",
      "\n",
      "###############################\n",
      "## Computing p-values #########\n",
      "###############################\n"
     ]
    },
    {
     "data": {
      "application/vnd.jupyter.widget-view+json": {
       "model_id": "316e999fc78b480e8da0c7b106d1c2ed",
       "version_major": 2,
       "version_minor": 0
      },
      "text/plain": [
       "HBox(children=(FloatProgress(value=1.0, bar_style='info', max=1.0), HTML(value='')))"
      ]
     },
     "metadata": {},
     "output_type": "display_data"
    },
    {
     "name": "stdout",
     "output_type": "stream",
     "text": [
      "\n",
      "2x2\n",
      "gammat\n",
      "wtheta\n",
      "\n",
      "###############################\n",
      "## Calibrated p-values ########\n",
      "###############################\n",
      "     - Full         calibrated pval=0.0200 (raw pval=0.0039)\n",
      "     - 2x2          calibrated pval=0.0200 (raw pval=0.0041)\n",
      "     - gammat       calibrated pval=0.0140 (raw pval=0.0037)\n",
      "     - wtheta       calibrated pval=0.3410 (raw pval=0.3286)\n",
      "\n",
      "###############################\n",
      "## Plotting ###################\n",
      "###############################\n",
      "\n",
      "###############################\n",
      "## Loading chains #############\n",
      "###############################\n"
     ]
    },
    {
     "data": {
      "application/vnd.jupyter.widget-view+json": {
       "model_id": "2fc4e85157534e21af5beacbc14314ef",
       "version_major": 2,
       "version_minor": 0
      },
      "text/plain": [
       "HBox(children=(FloatProgress(value=0.0, max=221.0), HTML(value='')))"
      ]
     },
     "metadata": {},
     "output_type": "display_data"
    },
    {
     "name": "stdout",
     "output_type": "stream",
     "text": [
      "Loading list chain at\n",
      "../maglim_2x2_goodnessoffit/ppd_chain_2x2pt_lcdm_SR_maglim_boosted_maglim_2x2_goodnessoffit_0.txt\n",
      "- using params\n",
      "['cosmological_parameters--omega_m', 'cosmological_parameters--h0', 'cosmological_parameters--omega_b', 'cosmological_parameters--n_s', 'cosmological_parameters--a_s', 'cosmological_parameters--omnuh2', 'cosmological_parameters--w', 'cosmological_parameters--massive_nu', 'cosmological_parameters--massless_nu', 'cosmological_parameters--omega_k', 'cosmological_parameters--tau', 'shear_calibration_parameters--m1', 'shear_calibration_parameters--m2', 'shear_calibration_parameters--m3', 'shear_calibration_parameters--m4', 'wl_photoz_errors--bias_1', 'wl_photoz_errors--bias_2', 'wl_photoz_errors--bias_3', 'wl_photoz_errors--bias_4', 'lens_photoz_errors--bias_1', 'lens_photoz_errors--bias_2', 'lens_photoz_errors--bias_3', 'lens_photoz_errors--bias_4', 'lens_photoz_errors--bias_5', 'lens_photoz_errors--width_1', 'lens_photoz_errors--width_2', 'lens_photoz_errors--width_3', 'lens_photoz_errors--width_4', 'lens_photoz_errors--width_5', 'lens_photoz_errors--bias_6', 'lens_photoz_errors--width_6', 'bias_lens--b1', 'bias_lens--b2', 'bias_lens--b3', 'bias_lens--b4', 'bias_lens--b5', 'bias_lens--b6', 'mag_alpha_lens--alpha_1', 'mag_alpha_lens--alpha_2', 'mag_alpha_lens--alpha_3', 'mag_alpha_lens--alpha_4', 'mag_alpha_lens--alpha_5', 'mag_alpha_lens--alpha_6', 'intrinsic_alignment_parameters--z_piv', 'intrinsic_alignment_parameters--a1', 'intrinsic_alignment_parameters--a2', 'intrinsic_alignment_parameters--alpha1', 'intrinsic_alignment_parameters--alpha2', 'intrinsic_alignment_parameters--bias_ta', 'COSMOLOGICAL_PARAMETERS--SIGMA_8', 'COSMOLOGICAL_PARAMETERS--SIGMA_12', 'DATA_VECTOR--2PT_CHI2', 'DATA_VECTOR--2PT_D_CHI2', 'DATA_VECTOR--2PT_DPRIME_CHI2', 'DATA_VECTOR--2PT_XIP_CHI2', 'DATA_VECTOR--2PT_XIM_CHI2', 'DATA_VECTOR--2PT_1X2_CHI2', 'DATA_VECTOR--2PT_GAMMAT_CHI2', 'DATA_VECTOR--2PT_WTHETA_CHI2', 'DATA_VECTOR--2PT_2X2_CHI2', 'PPD--CHI2_DPRIME_DATA', 'PPD--CHI2_DPRIME_REALIZATION', 'PPD--CHI2_D_DATA', 'PPD--CHI2_XIP_DATA', 'PPD--CHI2_XIP_REALIZATION', 'PPD--CHI2_XIM_DATA', 'PPD--CHI2_XIM_REALIZATION', 'PPD--CHI2_1X2_DATA', 'PPD--CHI2_1X2_REALIZATION', 'PPD--CHI2_GAMMAT_DATA', 'PPD--CHI2_GAMMAT_REALIZATION', 'PPD--CHI2_WTHETA_DATA', 'PPD--CHI2_WTHETA_REALIZATION', 'PPD--CHI2_2X2_DATA', 'PPD--CHI2_2X2_REALIZATION', 'PPD--CHI2_DPRIME_COMP_AVG', 'PPD--CHI2_XIP_COMP_AVG', 'PPD--CHI2_XIM_COMP_AVG', 'PPD--CHI2_1X2_COMP_AVG', 'PPD--CHI2_GAMMAT_COMP_AVG', 'PPD--CHI2_WTHETA_COMP_AVG', 'PPD--CHI2_2X2_COMP_AVG', 'prior', 'post']\n",
      "- using nsample =  1000\n",
      "\n",
      "Loading chain at\n",
      "../../trimmed_chains_test/chain_2x2pt_lcdm_SR_maglim_boosted.txt\n",
      "Sampler not found -- non-standard cosmosis output\n",
      "Using 221 chunks of size [1000, 1000, 1000, 1000, 1000, 1000, 1000, 1000, 1000, 1000, 1000, 1000, 1000, 1000, 1000, 1000, 1000, 1000, 1000, 1000, 1000, 1000, 1000, 1000, 1000, 1000, 1000, 1000, 1000, 1000, 1000, 1000, 1000, 1000, 1000, 1000, 1000, 1000, 1000, 1000, 1000, 1000, 1000, 1000, 1000, 1000, 1000, 1000, 1000, 1000, 1000, 1000, 1000, 1000, 1000, 1000, 1000, 1000, 1000, 1000, 1000, 1000, 1000, 1000, 1000, 1000, 1000, 1000, 1000, 1000, 1000, 1000, 1000, 1000, 1000, 1000, 1000, 1000, 1000, 1000, 1000, 1000, 1000, 1000, 1000, 1000, 1000, 1000, 1000, 1000, 1000, 1000, 1000, 1000, 1000, 1000, 1000, 1000, 1000, 1000, 1000, 1000, 1000, 1000, 1000, 1000, 1000, 1000, 1000, 1000, 1000, 1000, 1000, 1000, 1000, 1000, 1000, 1000, 1000, 1000, 1000, 1000, 1000, 1000, 1000, 1000, 1000, 1000, 1000, 1000, 1000, 1000, 1000, 1000, 1000, 1000, 1000, 1000, 1000, 1000, 1000, 1000, 1000, 1000, 1000, 1000, 1000, 1000, 1000, 1000, 1000, 1000, 1000, 1000, 1000, 1000, 1000, 1000, 1000, 1000, 1000, 1000, 1000, 1000, 1000, 1000, 1000, 1000, 1000, 1000, 1000, 1000, 1000, 1000, 1000, 1000, 1000, 1000, 1000, 1000, 1000, 1000, 1000, 1000, 1000, 1000, 1000, 1000, 1000, 1000, 1000, 1000, 1000, 1000, 1000, 1000, 1000, 1000, 1000, 1000, 1000, 1000, 1000, 1000, 1000, 1000, 1000, 1000, 1000, 1000, 1000, 1000, 1000, 1000, 1000, 1000, 1000, 1000, 1000, 1000, 1000] (1000) for a total of 221000 posterior samples\n",
      "\n",
      "###############################\n",
      "## Loading scale/bin cuts #####\n",
      "###############################\n",
      "Found observables in data_file ['xip', 'xim', 'gammat', 'wtheta']\n",
      "Reading options for likelihood module:  2pt_d_like\n",
      "Found scale cuts for  {'xip': [(1, 1), (1, 2), (1, 3), (1, 4), (2, 2), (2, 3), (2, 4), (3, 3), (3, 4), (4, 4)], 'xim': [(1, 1), (1, 2), (1, 3), (1, 4), (2, 2), (2, 3), (2, 4), (3, 3), (3, 4), (4, 4)], 'gammat': [(1, 1), (1, 2), (1, 3), (1, 4), (2, 1), (2, 2), (2, 3), (2, 4), (3, 1), (3, 2), (3, 3), (3, 4), (4, 1), (4, 2), (4, 3), (4, 4), (5, 1), (5, 2), (5, 3), (5, 4), (6, 1), (6, 2), (6, 3), (6, 4)], 'wtheta': [(1, 1), (1, 2), (1, 3), (1, 4), (1, 5), (1, 6), (2, 2), (2, 3), (2, 4), (2, 5), (2, 6), (3, 3), (3, 4), (3, 5), (3, 6), (4, 4), (4, 5), (4, 6), (5, 5), (5, 6), (6, 6)]}\n",
      "Getting indices for gammat\n",
      "Getting indices for wtheta\n",
      "\n",
      "Found observables in data_file ['xip', 'xim', 'gammat', 'wtheta']\n",
      "Reading options for likelihood module:  2pt_dprime_like\n",
      "Found scale cuts for  {'xip': [(1, 1), (1, 2), (1, 3), (1, 4), (2, 2), (2, 3), (2, 4), (3, 3), (3, 4), (4, 4)], 'xim': [(1, 1), (1, 2), (1, 3), (1, 4), (2, 2), (2, 3), (2, 4), (3, 3), (3, 4), (4, 4)], 'gammat': [(1, 1), (1, 2), (1, 3), (1, 4), (2, 1), (2, 2), (2, 3), (2, 4), (3, 1), (3, 2), (3, 3), (3, 4), (4, 1), (4, 2), (4, 3), (4, 4), (5, 1), (5, 2), (5, 3), (5, 4), (6, 1), (6, 2), (6, 3), (6, 4)], 'wtheta': [(1, 1), (1, 2), (1, 3), (1, 4), (1, 5), (1, 6), (2, 2), (2, 3), (2, 4), (2, 5), (2, 6), (3, 3), (3, 4), (3, 5), (3, 6), (4, 4), (4, 5), (4, 6), (5, 5), (5, 6), (6, 6)]}\n",
      "Getting indices for gammat\n",
      "Getting indices for wtheta\n",
      "\n",
      "Using subsets ['2x2', 'gammat', 'wtheta']\n",
      "\n",
      "Using same indices for d and dprime -> conditioning turned off\n",
      "\n",
      "###############################\n",
      "## Loading realizations #######\n",
      "###############################\n"
     ]
    },
    {
     "data": {
      "application/vnd.jupyter.widget-view+json": {
       "model_id": "7b9f54c2ff51491095272374362370d7",
       "version_major": 2,
       "version_minor": 0
      },
      "text/plain": [
       "HBox(children=(FloatProgress(value=0.0, max=221.0), HTML(value='')))"
      ]
     },
     "metadata": {},
     "output_type": "display_data"
    },
    {
     "name": "stdout",
     "output_type": "stream",
     "text": [
      "Loading realizations from  ../maglim_2x2_goodnessoffit/ppd_2x2pt_lcdm_SR_maglim_boosted_maglim_2x2_goodnessoffit_0_dprime_theory.npy\n",
      " - data vector size = 235\n",
      " - number of realizations = 1000\n",
      "Loading realizations from  ../maglim_2x2_goodnessoffit/ppd_2x2pt_lcdm_SR_maglim_boosted_maglim_2x2_goodnessoffit_0_dprime_real.npy\n",
      " - data vector size = 235\n",
      " - number of realizations = 1000\n",
      "Loading realizations from  ../maglim_2x2_goodnessoffit/ppd_2x2pt_lcdm_SR_maglim_boosted_maglim_2x2_goodnessoffit_0_d_theory.npy\n",
      " - data vector size = 235\n",
      " - number of realizations = 1000\n",
      "\n",
      "\n",
      "###############################\n",
      "## Sampling data ##############\n",
      "###############################\n",
      "Sampling at best-fit with params\n",
      "cosmological_parameters--omega_m = 0.395\n",
      "cosmological_parameters--h0 = 0.58\n",
      "cosmological_parameters--omega_b = 0.0399\n",
      "cosmological_parameters--n_s = 0.953\n",
      "cosmological_parameters--a_s = 1.89e-09\n",
      "cosmological_parameters--omnuh2 = 0.00639\n",
      "shear_calibration_parameters--m1 = -0.0161\n",
      "shear_calibration_parameters--m2 = -0.0232\n",
      "shear_calibration_parameters--m3 = -0.0181\n",
      "shear_calibration_parameters--m4 = -0.0388\n",
      "wl_photoz_errors--bias_1 = 0.0277\n",
      "wl_photoz_errors--bias_2 = -0.00887\n",
      "wl_photoz_errors--bias_3 = -0.0273\n",
      "wl_photoz_errors--bias_4 = 0.00944\n",
      "lens_photoz_errors--bias_1 = -0.00595\n",
      "lens_photoz_errors--bias_2 = -0.0243\n",
      "lens_photoz_errors--bias_3 = -0.00523\n",
      "lens_photoz_errors--bias_4 = -0.014\n",
      "lens_photoz_errors--width_1 = 0.983\n",
      "lens_photoz_errors--width_2 = 1.12\n",
      "lens_photoz_errors--width_3 = 0.894\n",
      "lens_photoz_errors--width_4 = 0.9\n",
      "bias_lens--b1        = 1.63\n",
      "bias_lens--b2        = 1.82\n",
      "bias_lens--b3        = 2.05\n",
      "bias_lens--b4        = 1.91\n",
      "intrinsic_alignment_parameters--a1 = 0.453\n",
      "intrinsic_alignment_parameters--a2 = -1.07\n",
      "intrinsic_alignment_parameters--alpha1 = -1.72\n",
      "intrinsic_alignment_parameters--alpha2 = 2.47\n",
      "intrinsic_alignment_parameters--bias_ta = 0.0576\n",
      "\n",
      "###############################\n",
      "## Compute chi2 for d #########\n",
      "###############################\n"
     ]
    },
    {
     "data": {
      "application/vnd.jupyter.widget-view+json": {
       "model_id": "811f5ef347564fbf84f1b87602460695",
       "version_major": 2,
       "version_minor": 0
      },
      "text/plain": [
       "HBox(children=(FloatProgress(value=0.0, max=221.0), HTML(value='')))"
      ]
     },
     "metadata": {},
     "output_type": "display_data"
    },
    {
     "name": "stdout",
     "output_type": "stream",
     "text": [
      "\n",
      "\n",
      "###############################\n",
      "## Compute IS weights for d ###\n",
      "###############################\n"
     ]
    },
    {
     "data": {
      "application/vnd.jupyter.widget-view+json": {
       "model_id": "75366ce183ce4a07a65c3e6cc9de07e2",
       "version_major": 2,
       "version_minor": 0
      },
      "text/plain": [
       "HBox(children=(FloatProgress(value=0.0, max=221.0), HTML(value='')))"
      ]
     },
     "metadata": {},
     "output_type": "display_data"
    },
    {
     "name": "stdout",
     "output_type": "stream",
     "text": [
      "\n",
      "(221000, 1000)\n",
      "Neff = 58.1 (median), 16th=24.1, 84th=184.8 (0 were nan's)\n",
      "\n",
      "###############################\n",
      "## Computing p-values #########\n",
      "###############################\n"
     ]
    },
    {
     "data": {
      "application/vnd.jupyter.widget-view+json": {
       "model_id": "c32b104b94bb4cccb8c4c3218bfd5091",
       "version_major": 2,
       "version_minor": 0
      },
      "text/plain": [
       "HBox(children=(FloatProgress(value=1.0, bar_style='info', max=1.0), HTML(value='')))"
      ]
     },
     "metadata": {},
     "output_type": "display_data"
    },
    {
     "name": "stderr",
     "output_type": "stream",
     "text": [
      "IOPub message rate exceeded.\n",
      "The Jupyter server will temporarily stop sending output\n",
      "to the client in order to avoid crashing it.\n",
      "To change this limit, set the config variable\n",
      "`--ServerApp.iopub_msg_rate_limit`.\n",
      "\n",
      "Current values:\n",
      "ServerApp.iopub_msg_rate_limit=1000.0 (msgs/sec)\n",
      "ServerApp.rate_limit_window=3.0 (secs)\n",
      "\n"
     ]
    }
   ],
   "source": [
    "res_pcal = []\n",
    "\n",
    "pvals_subsets={k:None for k in['xip','xim', 'gammat','wtheta','1x2','2x2']}\n",
    "\n",
    "import sys, os\n",
    "\n",
    "# Disable\n",
    "def blockPrint():\n",
    "    sys.stdout = open(os.devnull, 'w')\n",
    "\n",
    "# Restore\n",
    "def enablePrint():\n",
    "    sys.stdout = sys.__stdout__\n",
    "\n",
    "for _ in trange(10):\n",
    "    #blockPrint()\n",
    "    temp = calib.calibrate_pvals(\n",
    "        path_ppd=path_ppd,\n",
    "        path_chain=path_chain,\n",
    "        path_dv=path_dv,\n",
    "        RUN_NAME=RUN_NAME,\n",
    "        RUN_NAME_PPD=RUN_NAME_PPD,\n",
    "        DATAFILE=DATAFILE,\n",
    "        fiducial_dv=fiducial_dv,\n",
    "        data_sets_d=['gammat','wtheta'],\n",
    "        data_sets_dprime=['gammat','wtheta'],\n",
    "        N=1000, # 10^4 should give reasonable results, but for memory-sake can try smaller like 100\n",
    "        title=RUN_NAME_PPD,\n",
    "            pval_data=res[0]['full'],\n",
    "        use_pm=True,\n",
    "#         use_pm=False,\n",
    "        clip_is=0.1,\n",
    "        ndraws=1,\n",
    "        chunks=221,\n",
    "        size_chunk=1000,\n",
    "    #     pvals_subsets=res[0],\n",
    "        #use_logit=(1e-6,1),\n",
    "        get_zbin_pair_pcal=False,\n",
    "        pvals_subsets=pvals_subsets,\n",
    "#         sample_from='fiducial_dv'  # Trying this (different from y1 notebook)\n",
    "        sample_from='best-fit'  # Trying this (different from y1 notebook)\n",
    "    )\n",
    "    res_pcal.append(temp)\n",
    "    #enablePrint()\n",
    "    pickle.dump(res_pcal, open('res_pcal_'+RUN_NAME_PPD+'.pickle', 'wb'))\n",
    "    "
   ]
  },
  {
   "cell_type": "markdown",
   "metadata": {},
   "source": [
    "### With pm"
   ]
  },
  {
   "cell_type": "code",
   "execution_count": 19,
   "metadata": {},
   "outputs": [],
   "source": [
    "pvals_rsd = np.concatenate([r[0] for r in res_pcal])"
   ]
  },
  {
   "cell_type": "code",
   "execution_count": 20,
   "metadata": {},
   "outputs": [
    {
     "data": {
      "text/plain": [
       "(10000,)"
      ]
     },
     "execution_count": 20,
     "metadata": {},
     "output_type": "execute_result"
    }
   ],
   "source": [
    "pvals_rsd.shape"
   ]
  },
  {
   "cell_type": "code",
   "execution_count": 21,
   "metadata": {},
   "outputs": [
    {
     "name": "stdout",
     "output_type": "stream",
     "text": [
      "0.018\n"
     ]
    },
    {
     "data": {
      "image/png": "[encoded data removed]",
      "text/plain": [
       "<Figure size 432x288 with 1 Axes>"
      ]
     },
     "metadata": {
      "image/png": {
       "height": 248,
       "width": 375
      },
      "needs_background": "light"
     },
     "output_type": "display_data"
    }
   ],
   "source": [
    "plt.hist(pvals_rsd, 100);\n",
    "print(np.sum(pvals_rsd<=0.0039)/10000)"
   ]
  },
  {
   "cell_type": "code",
   "execution_count": 22,
   "metadata": {},
   "outputs": [
    {
     "data": {
      "application/vnd.jupyter.widget-view+json": {
       "model_id": "871849b4da394d27a98742871d9bff03",
       "version_major": 2,
       "version_minor": 0
      },
      "text/plain": [
       "HBox(children=(FloatProgress(value=0.0, max=1000.0), HTML(value='')))"
      ]
     },
     "metadata": {},
     "output_type": "display_data"
    },
    {
     "name": "stdout",
     "output_type": "stream",
     "text": [
      "\n"
     ]
    },
    {
     "data": {
      "text/plain": [
       "(array([  2.,  15., 103., 187., 230., 239., 153.,  49.,  17.,   5.]),\n",
       " array([0.0137 , 0.01459, 0.01548, 0.01637, 0.01726, 0.01815, 0.01904,\n",
       "        0.01993, 0.02082, 0.02171, 0.0226 ]),\n",
       " <a list of 10 Patch objects>)"
      ]
     },
     "execution_count": 22,
     "metadata": {},
     "output_type": "execute_result"
    },
    {
     "data": {
      "image/png": "[encoded data removed]",
      "text/plain": [
       "<Figure size 432x288 with 1 Axes>"
      ]
     },
     "metadata": {
      "image/png": {
       "height": 251,
       "width": 375
      },
      "needs_background": "light"
     },
     "output_type": "display_data"
    }
   ],
   "source": [
    "plt.hist([np.sum(np.random.choice(pvals_rsd,size=len(pvals_rsd),replace=True)<=0.0039)/10000 for _ in trange(1000)])"
   ]
  },
  {
   "cell_type": "code",
   "execution_count": 23,
   "metadata": {},
   "outputs": [
    {
     "name": "stdout",
     "output_type": "stream",
     "text": [
      "gammat 0.0036633316340008897 0.0126\n",
      "wtheta 0.3286423252947713 0.3464\n",
      "2x2 0.004085456706555616 0.0185\n"
     ]
    },
    {
     "data": {
      "text/plain": [
       "<matplotlib.legend.Legend at 0x2aaaf3d01610>"
      ]
     },
     "execution_count": 23,
     "metadata": {},
     "output_type": "execute_result"
    },
    {
     "data": {
      "image/png": "[encoded data removed]",
      "text/plain": [
       "<Figure size 432x288 with 1 Axes>"
      ]
     },
     "metadata": {
      "image/png": {
       "height": 248,
       "width": 375
      },
      "needs_background": "light"
     },
     "output_type": "display_data"
    }
   ],
   "source": [
    "for key in ['gammat', 'wtheta', '2x2']:# pvals_subsets.keys():\n",
    "    _p = np.concatenate([r[1][key] for r in res_pcal])\n",
    "    print(key, pvals_subsets[key], np.sum(_p<=pvals_subsets[key])/len(_p))\n",
    "    plt.hist(_p, np.linspace(0,1,100), histtype='step', label=key);\n",
    "plt.legend()"
   ]
  },
  {
   "cell_type": "code",
   "execution_count": null,
   "metadata": {},
   "outputs": [],
   "source": []
  }
 ],
 "metadata": {
  "kernelspec": {
   "display_name": "mykernel3",
   "language": "python",
   "name": "mykernel3"
  },
  "language_info": {
   "codemirror_mode": {
    "name": "ipython",
    "version": 3
   },
   "file_extension": ".py",
   "mimetype": "text/x-python",
   "name": "python",
   "nbconvert_exporter": "python",
   "pygments_lexer": "ipython3",
   "version": "3.8.2"
  }
 },
 "nbformat": 4,
 "nbformat_minor": 4
}
